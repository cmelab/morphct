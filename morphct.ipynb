{
 "cells": [
  {
   "cell_type": "markdown",
   "id": "primary-energy",
   "metadata": {},
   "source": [
    "# MorphCT\n",
    "\n",
    "goal: \n",
    " - atomistic gsd snapshot -> \n",
    " - assign chromophores -> \n",
    " - do QCC calcs -> \n",
    " - run KMC -> \n",
    " - calculate mobility\n",
    "\n",
    "current schema:\n",
    " - xml file\n",
    " - chromphore params set in par.py\n",
    " - if starting with atomistic, we can skip fine graining and molecular dynamics and only run:\n",
    "     - execute_obtain_chromophores = False                                             \n",
    "     - execute_ZINDO = False                                                           \n",
    "     - execute_calculate_transfer_integrals = False                                    \n",
    "     - execute_calculate_mobility = False    "
   ]
  },
  {
   "cell_type": "code",
   "execution_count": 297,
   "id": "foster-ceramic",
   "metadata": {},
   "outputs": [],
   "source": [
    "import os\n",
    "import pickle\n",
    "import multiprocessing as mp\n",
    "\n",
    "import ele\n",
    "import gsd.hoomd\n",
    "import mbuild as mb\n",
    "import numpy as np\n",
    "from openbabel import openbabel\n",
    "from openbabel import pybel\n",
    "import pyscf\n",
    "from pyscf.semiempirical import MINDO3\n",
    "\n",
    "from morphct.code import obtain_chromophores as oc\n",
    "from morphct import transfer_integrals as ti\n",
    "from morphct import execute_QCC as eqcc\n",
    "from morphct import mobility_KMC as kmc\n",
    "from morphct.utils import KMC_analyse"
   ]
  },
  {
   "cell_type": "markdown",
   "id": "opposite-combining",
   "metadata": {},
   "source": [
    "OK, so I'm looking around for an xml file in the \"obtain chromophores\" tests but all I can find are these pickle files. I want to view them before I continue. ovito and vmd no longer support xmls... gah --> using mbuild."
   ]
  },
  {
   "cell_type": "code",
   "execution_count": 2,
   "id": "mexican-anxiety",
   "metadata": {},
   "outputs": [],
   "source": [
    "path = \"tests/assets/donor_polymer/OC/donor_polymer_post_obtain_chromophores.pickle\"\n",
    "(\n",
    "    AA_morphdict, \n",
    "    CG_morphdict, \n",
    "    CGtoAAID_list, \n",
    "    param_dict, \n",
    "    chromo_list\n",
    ") = pickle.load(open(path,\"rb\"))"
   ]
  },
  {
   "cell_type": "code",
   "execution_count": 3,
   "id": "accredited-clinic",
   "metadata": {},
   "outputs": [],
   "source": [
    "all_types = list(set(AA_morphdict['type']))\n",
    "bond_array = np.array([(i,j) for name,i,j in AA_morphdict[\"bond\"]])\n",
    "\n",
    "snap = gsd.hoomd.Snapshot()\n",
    "snap.configuration.box = np.array([\n",
    "    AA_morphdict[\"lx\"],\n",
    "    AA_morphdict[\"ly\"],\n",
    "    AA_morphdict[\"lz\"],\n",
    "    AA_morphdict[\"xy\"],\n",
    "    AA_morphdict[\"xz\"],\n",
    "    AA_morphdict[\"yz\"]\n",
    "])\n",
    "snap.configuration.dimensions = AA_morphdict[\"dimensions\"]\n",
    "snap.particles.N = AA_morphdict[\"natoms\"]\n",
    "snap.particles.body = AA_morphdict[\"body\"]\n",
    "snap.particles.position = AA_morphdict[\"position\"]\n",
    "snap.particles.charge = AA_morphdict[\"charge\"]\n",
    "snap.particles.diameter = AA_morphdict[\"diameter\"]\n",
    "snap.particles.mass = AA_morphdict[\"mass\"]\n",
    "snap.particles.image = AA_morphdict[\"image\"]\n",
    "snap.particles.types = all_types\n",
    "snap.particles.typeid = [all_types.index(i) for i in AA_morphdict[\"type\"]]\n",
    "snap.bonds.N = len(bond_array)\n",
    "snap.bonds.group = bond_array\n",
    "snap.validate()"
   ]
  },
  {
   "cell_type": "code",
   "execution_count": 4,
   "id": "aggressive-mustang",
   "metadata": {},
   "outputs": [],
   "source": [
    "unwrapped_positions = snap.particles.position + snap.particles.image * snap.configuration.box[:3]"
   ]
  },
  {
   "cell_type": "code",
   "execution_count": 36,
   "id": "maritime-andrew",
   "metadata": {},
   "outputs": [],
   "source": [
    "# Run this if you want to confirm that the unwrapped positions are correct in OVITO\n",
    "#with gsd.hoomd.open(name='test.gsd', mode='wb') as f:\n",
    "#    f.append(snap)\n",
    "#    snap.particles.position = unwrapped_positions\n",
    "#    f.append(snap)"
   ]
  },
  {
   "cell_type": "code",
   "execution_count": 223,
   "id": "noticed-photography",
   "metadata": {},
   "outputs": [],
   "source": [
    "conversion_dict = {\n",
    "    \"S1\": ele.element_from_symbol(\"S\"), \n",
    "    \"H1\": ele.element_from_symbol(\"H\"), \n",
    "    \"C5\": ele.element_from_symbol(\"C\"), \n",
    "    \"C1\": ele.element_from_symbol(\"C\"), \n",
    "    \"C4\": ele.element_from_symbol(\"C\"), \n",
    "    \"C6\": ele.element_from_symbol(\"C\"), \n",
    "    \"C8\": ele.element_from_symbol(\"C\"), \n",
    "    \"C9\": ele.element_from_symbol(\"C\"), \n",
    "    \"C3\": ele.element_from_symbol(\"C\"), \n",
    "    \"C7\": ele.element_from_symbol(\"C\"), \n",
    "    \"C2\": ele.element_from_symbol(\"C\"),\n",
    "    \"C10\": ele.element_from_symbol(\"C\"),\n",
    "}\n",
    "\n",
    "amber_dict = {\n",
    "    \"c\":  ele.element_from_symbol(\"C\"),\n",
    "    \"c1\": ele.element_from_symbol(\"C\"),\n",
    "    \"c2\": ele.element_from_symbol(\"C\"),\n",
    "    \"c3\": ele.element_from_symbol(\"C\"),\n",
    "    \"ca\": ele.element_from_symbol(\"C\"),\n",
    "    \"cp\": ele.element_from_symbol(\"C\"),\n",
    "    \"cq\": ele.element_from_symbol(\"C\"),\n",
    "    \"cc\": ele.element_from_symbol(\"C\"),\n",
    "    \"cd\": ele.element_from_symbol(\"C\"),\n",
    "    \"ce\": ele.element_from_symbol(\"C\"),\n",
    "    \"cf\": ele.element_from_symbol(\"C\"),\n",
    "    \"cg\": ele.element_from_symbol(\"C\"),\n",
    "    \"ch\": ele.element_from_symbol(\"C\"),\n",
    "    \"cx\": ele.element_from_symbol(\"C\"),\n",
    "    \"cy\": ele.element_from_symbol(\"C\"),\n",
    "    \"cu\": ele.element_from_symbol(\"C\"),\n",
    "    \"cv\": ele.element_from_symbol(\"C\"),\n",
    "    \"h1\": ele.element_from_symbol(\"H\"),\n",
    "    \"h2\": ele.element_from_symbol(\"H\"),\n",
    "    \"h3\": ele.element_from_symbol(\"H\"),\n",
    "    \"h4\": ele.element_from_symbol(\"H\"),\n",
    "    \"h5\": ele.element_from_symbol(\"H\"),\n",
    "    \"ha\": ele.element_from_symbol(\"H\"),\n",
    "    \"hc\": ele.element_from_symbol(\"H\"),\n",
    "    \"hn\": ele.element_from_symbol(\"H\"),\n",
    "    \"ho\": ele.element_from_symbol(\"H\"),\n",
    "    \"hp\": ele.element_from_symbol(\"H\"),\n",
    "    \"hs\": ele.element_from_symbol(\"H\"),\n",
    "    \"hw\": ele.element_from_symbol(\"H\"),\n",
    "    \"hx\": ele.element_from_symbol(\"H\"),\n",
    "    \"f\":  ele.element_from_symbol(\"F\"),\n",
    "    \"cl\": ele.element_from_symbol(\"Cl\"),\n",
    "    \"br\": ele.element_from_symbol(\"Br\"),\n",
    "    \"i\":  ele.element_from_symbol(\"I\"),\n",
    "    \"n\":  ele.element_from_symbol(\"N\"),\n",
    "    \"n1\": ele.element_from_symbol(\"N\"),\n",
    "    \"n2\": ele.element_from_symbol(\"N\"),\n",
    "    \"n3\": ele.element_from_symbol(\"N\"),\n",
    "    \"n4\": ele.element_from_symbol(\"N\"),\n",
    "    \"na\": ele.element_from_symbol(\"N\"),\n",
    "    \"nb\": ele.element_from_symbol(\"N\"),\n",
    "    \"nc\": ele.element_from_symbol(\"N\"),\n",
    "    \"nd\": ele.element_from_symbol(\"N\"),\n",
    "    \"ne\": ele.element_from_symbol(\"N\"),\n",
    "    \"nf\": ele.element_from_symbol(\"N\"),\n",
    "    \"nh\": ele.element_from_symbol(\"N\"),\n",
    "    \"no\": ele.element_from_symbol(\"N\"),\n",
    "    \"o\":  ele.element_from_symbol(\"O\"),\n",
    "    \"oh\": ele.element_from_symbol(\"O\"),\n",
    "    \"os\": ele.element_from_symbol(\"O\"),\n",
    "    \"ow\": ele.element_from_symbol(\"O\"),\n",
    "    \"p2\": ele.element_from_symbol(\"P\"),\n",
    "    \"p3\": ele.element_from_symbol(\"P\"),\n",
    "    \"p4\": ele.element_from_symbol(\"P\"),\n",
    "    \"p5\": ele.element_from_symbol(\"P\"),\n",
    "    \"pb\": ele.element_from_symbol(\"P\"),\n",
    "    \"pc\": ele.element_from_symbol(\"P\"),\n",
    "    \"pd\": ele.element_from_symbol(\"P\"),\n",
    "    \"pe\": ele.element_from_symbol(\"P\"),\n",
    "    \"pf\": ele.element_from_symbol(\"P\"),\n",
    "    \"px\": ele.element_from_symbol(\"P\"),\n",
    "    \"py\": ele.element_from_symbol(\"P\"),\n",
    "    \"s\":  ele.element_from_symbol(\"S\"),\n",
    "    \"s2\": ele.element_from_symbol(\"S\"),\n",
    "    \"s4\": ele.element_from_symbol(\"S\"),\n",
    "    \"s6\": ele.element_from_symbol(\"S\"),\n",
    "    \"sh\": ele.element_from_symbol(\"S\"),\n",
    "    \"ss\": ele.element_from_symbol(\"S\"),\n",
    "    \"sx\": ele.element_from_symbol(\"S\"),\n",
    "    \"sy\": ele.element_from_symbol(\"S\"),\n",
    "}"
   ]
  },
  {
   "cell_type": "code",
   "execution_count": 162,
   "id": "cutting-thong",
   "metadata": {},
   "outputs": [],
   "source": [
    "smarts_str = \"c1cscc1CCCCCC\""
   ]
  },
  {
   "cell_type": "code",
   "execution_count": 229,
   "id": "abandoned-compatibility",
   "metadata": {},
   "outputs": [],
   "source": [
    "from ele.exceptions import ElementError\n",
    "\n",
    "def chromo_indices_smiles(snap, smarts_str, conversion_dict=None):\n",
    "    mol = openbabel.OBMol()\n",
    "    for i in range(snap.particles.N):\n",
    "        a = mol.NewAtom()\n",
    "        if conversion_dict:\n",
    "            element = conversion_dict[snap.particles.types[snap.particles.typeid[i]]]\n",
    "        else:\n",
    "            try:\n",
    "                element = ele.element_from_symbol(snap.particles.types[snap.particles.typeid[i]])\n",
    "            except ElementError as e:\n",
    "                print(\"Particle types are not elements, please provide a conversion_dict\")\n",
    "                raise e\n",
    "        a.SetAtomicNum(element.atomic_number)\n",
    "        a.SetVector(*[float(x) for x in snap.particles.position[i]])\n",
    "    for i,j in snap.bonds.group:\n",
    "        # openbabel indexes atoms from 1\n",
    "        # AddBond(i_index, j_index, bond_order)\n",
    "        mol.AddBond(int(i+1), int(j+1), 1)\n",
    "\n",
    "    pybelmol = pybel.Molecule(mol)\n",
    "    # This will correctly set the bond order\n",
    "    # (necessary for smarts matching)\n",
    "    pybelmol.OBMol.PerceiveBondOrders()\n",
    "\n",
    "    smarts = pybel.Smarts(smarts_str)\n",
    "    # shift indices by 1\n",
    "    atom_indices = [np.array(i)-1 for i in smarts.findall(pybelmol)]\n",
    "    return atom_indices"
   ]
  },
  {
   "cell_type": "code",
   "execution_count": 231,
   "id": "blocked-beverage",
   "metadata": {},
   "outputs": [],
   "source": [
    "aaids = chromo_indices_smiles(snap, smarts_str, conversion_dict)"
   ]
  },
  {
   "cell_type": "code",
   "execution_count": 232,
   "id": "outside-serial",
   "metadata": {},
   "outputs": [
    {
     "name": "stdout",
     "output_type": "stream",
     "text": [
      "[ 1  0  4  3  2  5  6  7  8  9 10]\n"
     ]
    }
   ],
   "source": [
    "print(aaids[0])"
   ]
  },
  {
   "cell_type": "code",
   "execution_count": 249,
   "id": "fabulous-business",
   "metadata": {},
   "outputs": [
    {
     "name": "stdout",
     "output_type": "stream",
     "text": [
      "not equal  5\n",
      "not equal  6\n",
      "not equal  7\n",
      "not equal  8\n",
      "not equal  9\n",
      "not equal  10\n",
      "not equal  11\n",
      "not equal  12\n",
      "not equal  13\n",
      "not equal  14\n",
      "not equal  15\n",
      "not equal  16\n",
      "not equal  17\n",
      "24\n"
     ]
    }
   ],
   "source": [
    "for i,aaid in enumerate(aaids):\n",
    "    if not np.array_equal(unwrapped_positions[aaid], snap.particles.position[aaid]):\n",
    "        print(\"not equal \", i)\n",
    "print(len(aaids))"
   ]
  },
  {
   "cell_type": "code",
   "execution_count": 296,
   "id": "usual-tactics",
   "metadata": {},
   "outputs": [
    {
     "name": "stdout",
     "output_type": "stream",
     "text": [
      "[42.594814 42.594814 42.594814]\n",
      "[  8.53228682 -27.96646586 -35.07523658]\n",
      "[0. 0. 0.]\n",
      "[  8.53228682 -27.96646586 -35.07523658] \n",
      "\n",
      "[ 15.69532126 -26.42272464 -29.52229604]\n",
      "[0. 0. 0.]\n",
      "[ 15.69532126 -26.42272464 -29.52229604] \n",
      "\n",
      "[ 12.76793532 -32.58329617 -29.41191361]\n",
      "[0. 0. 0.]\n",
      "[ 12.76793532 -32.58329617 -29.41191361] \n",
      "\n",
      "[ 18.61518591 -32.7260163  -25.05316474]\n",
      "[0. 0. 0.]\n",
      "[ 18.61518591 -32.7260163  -25.05316474] \n",
      "\n",
      "[ 15.9980239  -39.74486334 -25.76853544]\n",
      "[0. 0. 0.]\n",
      "[ 15.9980239  -39.74486334 -25.76853544] \n",
      "\n",
      "[ 25.07096083 -44.03792399 -17.98313791]\n",
      "[0. 1. 0.]\n",
      "[ 25.07096083  41.15170461 -17.98313791] \n",
      "\n",
      "[ 23.4754767  -50.52074259 -12.86960628]\n",
      "[0. 1. 0.]\n",
      "[ 23.4754767   34.66888601 -12.86960628] \n",
      "\n",
      "[ 31.26674479 -47.90110744 -10.88118865]\n",
      "[0. 1. 0.]\n",
      "[ 31.26674479  37.28852116 -10.88118865] \n",
      "\n",
      "[ 27.74720729 -53.38930754  -6.86696174]\n",
      "[0. 1. 0.]\n",
      "[27.74720729 31.80032106 -6.86696174] \n",
      "\n",
      "[ 33.88430197 -49.81538062  -3.18907363]\n",
      "[0. 1. 0.]\n",
      "[33.88430197 35.37424798 -3.18907363] \n",
      "\n",
      "[ 31.9300792  -57.56331218   1.03783085]\n",
      "[0. 1. 0.]\n",
      "[31.9300792  27.62631642  1.03783085] \n",
      "\n",
      "[ 36.95415289 -55.57682263   2.59775273]\n",
      "[0. 1. 0.]\n",
      "[36.95415289 29.61280597  2.59775273] \n",
      "\n",
      "[ 34.42211827 -61.79681206   7.82339196]\n",
      "[0. 1. 0.]\n",
      "[34.42211827 23.39281654  7.82339196] \n",
      "\n",
      "[ -5.33288152 -57.71432929 -24.92110408]\n",
      "[0. 1. 0.]\n",
      "[ -5.33288152  27.47529932 -24.92110408] \n",
      "\n",
      "[ -9.99610229 -52.18477509 -21.22335   ]\n",
      "[0. 1. 0.]\n",
      "[ -9.99610229  33.00485351 -21.22335   ] \n",
      "\n",
      "[-17.3967736  -52.49477317 -20.71519921]\n",
      "[0. 1. 0.]\n",
      "[-17.3967736   32.69485543 -20.71519921] \n",
      "\n",
      "[-14.54658491 -45.60003211 -19.96036356]\n",
      "[0. 1. 0.]\n",
      "[-14.54658491  39.58959649 -19.96036356] \n",
      "\n",
      "[-22.23330602 -46.65447651 -16.1835895 ]\n",
      "[0. 1. 0.]\n",
      "[-22.23330602  38.53515209 -16.1835895 ] \n",
      "\n",
      "[-25.56387659 -40.33081263 -10.96778323]\n",
      "[0. 0. 0.]\n",
      "[-25.56387659 -40.33081263 -10.96778323] \n",
      "\n",
      "[-22.89939308 -34.83154071 -12.11402503]\n",
      "[0. 0. 0.]\n",
      "[-22.89939308 -34.83154071 -12.11402503] \n",
      "\n",
      "[-28.88804574 -36.59775023  -6.97314783]\n",
      "[0. 0. 0.]\n",
      "[-28.88804574 -36.59775023  -6.97314783] \n",
      "\n",
      "[-26.62879354 -29.5880446   -3.74573819]\n",
      "[0. 0. 0.]\n",
      "[-26.62879354 -29.5880446   -3.74573819] \n",
      "\n",
      "[-33.86457183 -28.27045354  -4.39670277]\n",
      "[0. 0. 0.]\n",
      "[-33.86457183 -28.27045354  -4.39670277] \n",
      "\n",
      "[-30.71374078 -22.51957789  -1.58675386]\n",
      "[0. 0. 0.]\n",
      "[-30.71374078 -22.51957789  -1.58675386] \n",
      "\n"
     ]
    }
   ],
   "source": [
    "# get chromophore center\n",
    "box = snap.configuration.box[:3]\n",
    "print(box/2)\n",
    "for i in range(len(aaids)):\n",
    "    center = np.mean(unwrapped_positions[aaids[i]], axis=0)\n",
    "    print(center)\n",
    "    img = np.zeros(3)\n",
    "    while (center + img * box < -box/2).any() or (center + img * box > box/2).any():\n",
    "\n",
    "        img[np.where(center < -box/2)] += 1\n",
    "        img[np.where(center > box/2)] -= 1\n",
    "    print(img)\n",
    "    wrapped_center = center + img * box\n",
    "    print(wrapped_center,\"\\n\")"
   ]
  },
  {
   "cell_type": "code",
   "execution_count": 273,
   "id": "divine-czech",
   "metadata": {},
   "outputs": [
    {
     "name": "stdout",
     "output_type": "stream",
     "text": [
      "False\n",
      "[ 25.07096083 -44.03792399 -17.98313791]\n",
      "[ 25.07096083  -1.44310969 -17.98313791]\n"
     ]
    }
   ],
   "source": [
    "img = np.array([0,1,0])\n",
    "print((center + img * box < -box).any())\n",
    "print(center)\n",
    "print(center + img * box)"
   ]
  },
  {
   "cell_type": "code",
   "execution_count": 238,
   "id": "enhanced-sharp",
   "metadata": {},
   "outputs": [],
   "source": [
    "for aaid in aaids:\n",
    "    \n",
    "    mol = openbabel.OBMol()\n",
    "    for i in aaid:\n",
    "        a = mol.NewAtom()\n",
    "        element = conversion_dict[snap.particles.types[snap.particles.typeid[i]]]\n",
    "        a.SetAtomicNum(element.atomic_number)\n",
    "        a.SetVector(*[float(x) for x in unwrapped_positions[i]])\n",
    "\n",
    "    for i,j in snap.bonds.group:\n",
    "        if i in aaid and j not in aaid:\n",
    "            a = mol.NewAtom()\n",
    "            element = conversion_dict[snap.particles.types[snap.particles.typeid[j]]]\n",
    "            # If it's already a Hydrogen, just add it\n",
    "            if element.atomic_number == 1:\n",
    "                a.SetAtomicNum(element.atomic_number)\n",
    "                a.SetVector(*[float(x) for x in unwrapped_positions[j]])\n",
    "            # If it's not a hydrogen, use the existing bond vector to determine the direction\n",
    "            # and scale it to a more reasonable length for C-H bond\n",
    "            else:\n",
    "                # Average sp3 C-H bond is 1.094 Angstrom\n",
    "                v = unwrapped_positions[j]-unwrapped_positions[i]\n",
    "                unit_vec = v/np.linalg.norm(v)\n",
    "                new_pos = unit_vec * 1.094 + unwrapped_positions[i]\n",
    "                a.SetAtomicNum(1)\n",
    "                a.SetVector(*[float(x) for x in new_pos])\n",
    "        elif j in aaid and i not in aaid:\n",
    "            a = mol.NewAtom()\n",
    "            element = conversion_dict[snap.particles.types[snap.particles.typeid[i]]]\n",
    "            # If it's already a Hydrogen, just add it\n",
    "            if element.atomic_number == 1:\n",
    "                a.SetAtomicNum(element.atomic_number)\n",
    "                a.SetVector(*[float(x) for x in unwrapped_positions[i]])\n",
    "            # If it's not a hydrogen, use the existing bond vector to determine the direction\n",
    "            # and scale it to a more reasonable length for C-H bond\n",
    "            else:\n",
    "                # Average sp3 C-H bond is 1.094 Angstrom\n",
    "                v = unwrapped_positions[i]-unwrapped_positions[j]\n",
    "                unit_vec = v/np.linalg.norm(v)\n",
    "                new_pos = unit_vec * 1.094 + unwrapped_positions[j]\n",
    "                a.SetAtomicNum(1)\n",
    "                a.SetVector(*[float(x) for x in new_pos])\n",
    "\n",
    "    pybelmol = pybel.Molecule(mol)\n",
    "    #comp = mb.Compound()\n",
    "    #comp.from_pybel(pybelmol)\n",
    "    #comp.visualize().show()"
   ]
  },
  {
   "cell_type": "code",
   "execution_count": 71,
   "id": "drawn-financing",
   "metadata": {},
   "outputs": [
    {
     "name": "stdout",
     "output_type": "stream",
     "text": [
      "['AAIDs', 'CGIDs', 'CG_types', 'HOMO', 'HOMO_1', 'ID', 'LUMO', 'LUMO_1', 'VRH_delocalisation']\n",
      "['bonds', 'dissociation_neighbours', 'get_MO_energy', 'get_important_bonds', 'image', 'neighbours', 'neighbours_TI', 'neighbours_delta_E', 'obtain_chromophore_COM', 'obtain_electronic_species', 'orca_input', 'orca_output', 'posn', 'reorganisation_energy', 'species', 'sub_species', 'terminate', 'unwrapped_posn']\n"
     ]
    }
   ],
   "source": [
    "print(dir(chromo_list[0])[:9])\n",
    "print(dir(chromo_list[0])[35:])"
   ]
  },
  {
   "cell_type": "code",
   "execution_count": 293,
   "id": "deluxe-merchant",
   "metadata": {},
   "outputs": [
    {
     "name": "stdout",
     "output_type": "stream",
     "text": [
      "[ 25.72264409  37.20784808 -13.29895688]\n",
      "[ 25.72264409 -47.98178053 -13.29895688]\n"
     ]
    }
   ],
   "source": [
    "print(chromo_list[8].posn)\n",
    "print(chromo_list[8].unwrapped_posn) "
   ]
  },
  {
   "cell_type": "markdown",
   "id": "collaborative-jaguar",
   "metadata": {},
   "source": [
    "Next time start working on obtain chromophores from snapshot"
   ]
  },
  {
   "cell_type": "code",
   "execution_count": 3,
   "id": "historic-morrison",
   "metadata": {},
   "outputs": [],
   "source": [
    "#print(AA_morphdict.keys()) \n",
    "# 'xy', 'mass', 'lx', 'improper', 'body', 'unwrapped_position', 'natoms', \n",
    "# 'position', 'yz', 'xz', 'dimensions', 'ly', 'image', 'charge', 'lz', 'angle', \n",
    "# 'diameter', 'bond', 'time_step', 'type', 'dihedral'\n",
    "\n",
    "#print(CG_morphdict.keys()) \n",
    "# same as above\n",
    "\n",
    "#print(CGtoAAID_list) \n",
    "# {0: ['A', [0, 1, 2, 3, 4, 24]] includes attached hydrogen\n",
    "# where A beads are thiophenes, B and C beads are first and second three alkyl carbons\n",
    "\n",
    "#print(param_dict.keys())\n",
    "# so many things...\n",
    "\n",
    "#print(chromo_list[0])\n",
    "# list of chromophore class objects"
   ]
  },
  {
   "cell_type": "code",
   "execution_count": 4,
   "id": "rubber-return",
   "metadata": {},
   "outputs": [],
   "source": [
    "#comp = mb.Compound()\n",
    "#for name, pos in zip(AA_morphdict[\"type\"],AA_morphdict[\"unwrapped_position\"]):\n",
    "#    name = name.strip(\"0123456789\")\n",
    "#    comp.add(mb.Particle(name=name, pos=np.array(pos)/10)) #convert to nm in mbuild\n",
    "#ps = [p for p in comp.particles()]\n",
    "#for _, i, j in AA_morphdict[\"bond\"]:\n",
    "#    comp.add_bond((ps[i],ps[j]))\n",
    "#    \n",
    "#comp.visualize().show()"
   ]
  },
  {
   "cell_type": "markdown",
   "id": "sized-musician",
   "metadata": {},
   "source": [
    "OK, so we have 2 all-atom p3ht 15mers. 30 chromophores makes sense."
   ]
  },
  {
   "cell_type": "code",
   "execution_count": 5,
   "id": "ideal-polyester",
   "metadata": {},
   "outputs": [
    {
     "name": "stdout",
     "output_type": "stream",
     "text": [
      "30\n",
      "['AAIDs', 'CGIDs', 'CG_types', 'HOMO', 'HOMO_1', 'ID', 'LUMO', 'LUMO_1', 'VRH_delocalisation', '__class__', '__delattr__', '__dict__', '__dir__', '__doc__', '__eq__', '__format__', '__ge__', '__getattribute__', '__gt__', '__hash__', '__init__', '__init_subclass__', '__le__', '__lt__', '__module__', '__ne__', '__new__', '__reduce__', '__reduce_ex__', '__repr__', '__setattr__', '__sizeof__', '__str__', '__subclasshook__', '__weakref__', 'bonds', 'dissociation_neighbours', 'get_MO_energy', 'get_important_bonds', 'image', 'neighbours', 'neighbours_TI', 'neighbours_delta_E', 'obtain_chromophore_COM', 'obtain_electronic_species', 'orca_input', 'orca_output', 'posn', 'reorganisation_energy', 'species', 'sub_species', 'terminate', 'unwrapped_posn']\n"
     ]
    }
   ],
   "source": [
    "print(len(chromo_list))\n",
    "chromo = chromo_list[0]\n",
    "print(dir(chromo))"
   ]
  },
  {
   "cell_type": "code",
   "execution_count": 6,
   "id": "returning-cricket",
   "metadata": {},
   "outputs": [],
   "source": [
    "#print(len(chromo.AAIDs))\n",
    "#for i in chromo.AAIDs:\n",
    "#    ps[i].name = \"x\"\n",
    "#comp.visualize().show()"
   ]
  },
  {
   "cell_type": "markdown",
   "id": "continued-qualification",
   "metadata": {},
   "source": [
    "Each chromophore is defined as one monomer.\n",
    "\n",
    "All the HOMO,LUMO info has not been set, the file path doesn't exist, and the neighbors havent been set"
   ]
  },
  {
   "cell_type": "code",
   "execution_count": 7,
   "id": "ready-liver",
   "metadata": {},
   "outputs": [
    {
     "name": "stdout",
     "output_type": "stream",
     "text": [
      "None None\n",
      "donor\n",
      "/chromophores/output_orca/single/00000.out\n",
      "[]\n"
     ]
    }
   ],
   "source": [
    "print(chromo.HOMO, chromo.LUMO)\n",
    "print(chromo.species)\n",
    "print(chromo.orca_output)\n",
    "print(chromo.neighbours)"
   ]
  },
  {
   "cell_type": "markdown",
   "id": "frequent-zealand",
   "metadata": {},
   "source": [
    "First let's fix the path -- we need to change the directories in the param_dict because they reference mattys computer. I'm making a new folder in the root dir called `notebook_output`. Then in that folder I had to make sure this dir structure exists in that folder:\n",
    "```\n",
    "/chromophores/ -+- input_orca/ -+- single/\n",
    "                |               |\n",
    "                |               +- pair/\n",
    "                |\n",
    "                +- output_orca/ -+- single/\n",
    "                                 |\n",
    "                                 +- pair/\n",
    "```\n",
    "\n",
    "*I have since change the code for this so it is no longer necessary*"
   ]
  },
  {
   "cell_type": "code",
   "execution_count": 8,
   "id": "consecutive-cleaner",
   "metadata": {},
   "outputs": [
    {
     "name": "stdout",
     "output_type": "stream",
     "text": [
      "/home/mattyjones/Software/morphct/tests/output_OC/donor_polymer\n"
     ]
    }
   ],
   "source": [
    "print(param_dict[\"output_orca_directory\"])"
   ]
  },
  {
   "cell_type": "code",
   "execution_count": 9,
   "id": "complicated-action",
   "metadata": {},
   "outputs": [
    {
     "name": "stdout",
     "output_type": "stream",
     "text": [
      "/Users/jenny/Projects/morphct/notebook_output/\n"
     ]
    }
   ],
   "source": [
    "outpath = os.path.join(os.getcwd(),\"notebook_output/\")\n",
    "print(outpath)\n",
    "param_dict[\"output_orca_directory\"] = outpath"
   ]
  },
  {
   "cell_type": "markdown",
   "id": "eight-tournament",
   "metadata": {},
   "source": [
    "Next let's get the neighbors"
   ]
  },
  {
   "cell_type": "code",
   "execution_count": 10,
   "id": "exterior-tenant",
   "metadata": {},
   "outputs": [],
   "source": [
    "# I changed the spelling because I am not British and it kept throwing me off\n",
    "for chromo in chromo_list:\n",
    "    chromo.neighbors = chromo.neighbours\n",
    "    chromo.dissociation_neighbors = chromo.dissociation_neighbours\n",
    "    chromo.neighbors_delta_E = chromo.neighbours_delta_E\n",
    "    chromo.neighbors_TI = chromo.neighbours_TI\n",
    "    chromo.pos = chromo.posn~"
   ]
  },
  {
   "cell_type": "code",
   "execution_count": 11,
   "id": "norwegian-wrong",
   "metadata": {},
   "outputs": [
    {
     "name": "stdout",
     "output_type": "stream",
     "text": [
      "Calculating Neighbours of All Moieties\n",
      "Updating the chromophore list for dissociation neighbors\n"
     ]
    }
   ],
   "source": [
    "sim_dims = [                                                                \n",
    "    [-AA_morphdict[\"lx\"] / 2.0, AA_morphdict[\"lx\"] / 2.0],      \n",
    "    [-AA_morphdict[\"ly\"] / 2.0, AA_morphdict[\"ly\"] / 2.0],      \n",
    "    [-AA_morphdict[\"lz\"] / 2.0, AA_morphdict[\"lz\"] / 2.0],      \n",
    "]   \n",
    "chromo_list = oc.chromo_sort(chromo_list)\n",
    "chromo_list = oc.determine_neighbors_voronoi(                        \n",
    "    chromo_list, param_dict, sim_dims                          \n",
    ") "
   ]
  },
  {
   "cell_type": "markdown",
   "id": "corporate-industry",
   "metadata": {},
   "source": [
    "The files are created by `morphct/code/execute_ZINDO.py` `create_input_files(chromophore_list, AA_morphology_dict, parameter_dict)`\n",
    "The HOMO/LUMO gets set in `morphct/code/transfer_integrals.py` `load_orca_output(file_name)`"
   ]
  },
  {
   "cell_type": "code",
   "execution_count": 12,
   "id": "forty-divide",
   "metadata": {},
   "outputs": [
    {
     "name": "stdout",
     "output_type": "stream",
     "text": [
      "There are 296 total neighbor pairs to consider.\n"
     ]
    }
   ],
   "source": [
    "qcc_pairs = eqcc.create_inputs(chromo_list, AA_morphdict, param_dict)\n",
    "#print(qcc_pairs[0])\n",
    "# (i,j), mol_str "
   ]
  },
  {
   "cell_type": "markdown",
   "id": "twelve-medicaid",
   "metadata": {},
   "source": [
    "OK ~this writes 30 inputs but no pairs--some neighborlist analysis must need done first~ \n",
    "\n",
    "after neighbor list all files are written\n",
    "\n",
    "next need to run ZINDO\n",
    "\n",
    "`eqcc.get_homolumo(chromo_list[0].qcc_input)` returns HOMO-1, HOMO, LUMO, LUMO+1"
   ]
  },
  {
   "cell_type": "code",
   "execution_count": 13,
   "id": "radical-shuttle",
   "metadata": {},
   "outputs": [
    {
     "data": {
      "text/plain": [
       "'/Users/jenny/Projects/morphct/notebook_output/singles_energies.txt'"
      ]
     },
     "execution_count": 13,
     "metadata": {},
     "output_type": "execute_result"
    }
   ],
   "source": [
    "s_filename = os.path.join(outpath, \"singles_energies.txt\")\n",
    "s_filename"
   ]
  },
  {
   "cell_type": "code",
   "execution_count": 14,
   "id": "seeing-sapphire",
   "metadata": {},
   "outputs": [],
   "source": [
    "#%%time\n",
    "#data = eqcc.singles_homolumo(chromo_list, s_filename)\n",
    "#\n",
    "#CPU times: user 17 ms, sys: 25.6 ms, total: 42.5 ms\n",
    "#Wall time: 4.01 s"
   ]
  },
  {
   "cell_type": "markdown",
   "id": "precise-session",
   "metadata": {},
   "source": [
    "This gets the energy values of the chromophores using the single inputs. The neighbor energy values are not set:"
   ]
  },
  {
   "cell_type": "code",
   "execution_count": 15,
   "id": "norman-charter",
   "metadata": {},
   "outputs": [
    {
     "name": "stdout",
     "output_type": "stream",
     "text": [
      "None\n",
      "27 27\n",
      "None\n"
     ]
    }
   ],
   "source": [
    "print(chromo.HOMO)\n",
    "print(len(chromo.neighbours), len(chromo.neighbours_delta_E))\n",
    "print(chromo.neighbours_delta_E[0])"
   ]
  },
  {
   "cell_type": "markdown",
   "id": "flexible-turner",
   "metadata": {},
   "source": [
    "next look in morphct/code/transfer_integrals.py"
   ]
  },
  {
   "cell_type": "code",
   "execution_count": 16,
   "id": "logical-burton",
   "metadata": {},
   "outputs": [
    {
     "data": {
      "text/plain": [
       "'/Users/jenny/Projects/morphct/notebook_output/dimer_energies.txt'"
      ]
     },
     "execution_count": 16,
     "metadata": {},
     "output_type": "execute_result"
    }
   ],
   "source": [
    "d_filename = os.path.join(outpath, \"dimer_energies.txt\")\n",
    "d_filename"
   ]
  },
  {
   "cell_type": "code",
   "execution_count": 17,
   "id": "dense-robin",
   "metadata": {},
   "outputs": [],
   "source": [
    "#%%time\n",
    "#dimer_data = eqcc.dimer_homolumo(qcc_pairs, d_filename)\n",
    "#\n",
    "#CPU times: user 358 ms, sys: 146 ms, total: 504 ms\n",
    "#Wall time: 2min 22s"
   ]
  },
  {
   "cell_type": "code",
   "execution_count": 18,
   "id": "permanent-impact",
   "metadata": {},
   "outputs": [
    {
     "name": "stdout",
     "output_type": "stream",
     "text": [
      "[-8.95578835 -8.52733362  0.60981961  0.96338829]\n",
      "((0, 1), (-8.705081734274161, -8.191204368844307, -0.09856073082029772, 0.5309429429768204))\n"
     ]
    }
   ],
   "source": [
    "data = eqcc.get_singlesdata(s_filename)\n",
    "print(data[0])\n",
    "dimer_data = eqcc.get_dimerdata(d_filename)\n",
    "print(dimer_data[0])"
   ]
  },
  {
   "cell_type": "code",
   "execution_count": 19,
   "id": "renewable-lesbian",
   "metadata": {},
   "outputs": [],
   "source": [
    "eqcc.set_energyvalues(chromo_list, s_filename, d_filename)"
   ]
  },
  {
   "cell_type": "code",
   "execution_count": 20,
   "id": "indian-cache",
   "metadata": {},
   "outputs": [
    {
     "name": "stdout",
     "output_type": "stream",
     "text": [
      "-8.553011257275468\n",
      "27 27\n",
      "0.025677635737253013\n"
     ]
    }
   ],
   "source": [
    "print(chromo.HOMO)\n",
    "print(len(chromo.neighbours), len(chromo.neighbours_delta_E))\n",
    "print(chromo.neighbours_delta_E[0])"
   ]
  },
  {
   "cell_type": "markdown",
   "id": "supposed-crisis",
   "metadata": {},
   "source": [
    "OK, I think I should be ready to run KMC. Before it'll work we need to add some things to the param dict and change some paths.\n",
    "\n",
    "```\n",
    "notebook_outputs/KMC/ \n",
    "```\n",
    "\n",
    "run_kmc : single_core_run_mob_KMC\n",
    "\n",
    "kmc : mobility_KMC"
   ]
  },
  {
   "cell_type": "code",
   "execution_count": 21,
   "id": "adopted-acrylic",
   "metadata": {},
   "outputs": [],
   "source": [
    "param_dict['simulation_times'] = [1.00e-13, 1.00e-12]\n",
    "param_dict[\"number_of_holes_per_simulation_time\"] = 10  \n",
    "param_dict[\"number_of_electrons_per_simulation_time\"] = 0 \n",
    "param_dict[\"combine_KMC_results\"] = True\n",
    "param_dict[\"record_carrier_history\"] = True\n",
    "param_dict[\"hop_limit\"] = 0\n",
    "param_dict[\"system_temperature\"] = 300 # In Kelvin\n",
    "param_dict[\"output_morphology_directory\"] = outpath"
   ]
  },
  {
   "cell_type": "code",
   "execution_count": 22,
   "id": "friendly-blink",
   "metadata": {},
   "outputs": [],
   "source": [
    "jobs_list = kmc.get_jobslist(\n",
    "    AA_morphdict, CG_morphdict, CGtoAAID_list, param_dict, chromo_list\n",
    ")"
   ]
  },
  {
   "cell_type": "code",
   "execution_count": 23,
   "id": "eastern-institution",
   "metadata": {},
   "outputs": [
    {
     "data": {
      "text/plain": [
       "[[5, 1e-13, 'hole'],\n",
       " [1, 1e-13, 'hole'],\n",
       " [3, 1e-13, 'hole'],\n",
       " [8, 1e-12, 'hole'],\n",
       " [5, 1e-12, 'hole']]"
      ]
     },
     "execution_count": 23,
     "metadata": {},
     "output_type": "execute_result"
    }
   ],
   "source": [
    "jobs_list[0]"
   ]
  },
  {
   "cell_type": "code",
   "execution_count": 24,
   "id": "objective-davis",
   "metadata": {},
   "outputs": [],
   "source": [
    "KMC_directory = os.path.join(outpath, \"KMC\")"
   ]
  },
  {
   "cell_type": "code",
   "execution_count": 25,
   "id": "familiar-replacement",
   "metadata": {},
   "outputs": [
    {
     "name": "stdout",
     "output_type": "stream",
     "text": [
      "All KMC jobs completed!\n",
      "Combining outputs...\n"
     ]
    }
   ],
   "source": [
    "combined_data = kmc.run_kmc(\n",
    "    jobs_list,                                                              \n",
    "    KMC_directory,                                                          \n",
    "    AA_morphdict,                                                           \n",
    "    CG_morphdict,                                                           \n",
    "    CGtoAAID_list,                                                          \n",
    "    param_dict,                                                             \n",
    "    chromo_list\n",
    ")"
   ]
  },
  {
   "cell_type": "code",
   "execution_count": 26,
   "id": "hollow-sydney",
   "metadata": {},
   "outputs": [
    {
     "name": "stdout",
     "output_type": "stream",
     "text": [
      "\n",
      "\n",
      "---------- KMC_ANALYSE ----------\n",
      "/Users/jenny/Projects/morphct/notebook_output/KMC\n",
      "---------------------------------\n",
      "Considering the transport of hole...\n",
      "Obtaining mean squared displacements...\n",
      "Plotting distribution of carrier displacements\n",
      "Figure saved as /Users/jenny/Projects/morphct/notebook_output/KMC/figures/30_hole_displacement_dist.png\n",
      "Calculating mobility...\n",
      "Standard Error 0.0\n",
      "Fitting r_val = 1.0\n",
      "Figure saved as /Users/jenny/Projects/morphct/notebook_output/KMC/figures/18_lin_MSD_hole.png\n",
      "Figure saved as /Users/jenny/Projects/morphct/notebook_output/KMC/figures/20_semi_log_MSD_hole.png\n",
      "Figure saved as /Users/jenny/Projects/morphct/notebook_output/KMC/figures/22_log_MSD_hole.png\n",
      "----------------------------------------\n",
      "Hole mobility for /Users/jenny/Projects/morphct/notebook_output/KMC = 8.95E-01 +- 8.33E-02 cm^{2} V^{-1} s^{-1}\n",
      "----------------------------------------\n",
      "Plotting hop vector distribution\n",
      "Calculating carrier trajectory anisotropy...\n",
      "Plotting carrier hop frequency distribution...\n",
      "Figure saved as /Users/jenny/Projects/morphct/notebook_output/KMC/figures/24_total_hop_freq_hole.png\n",
      "Plotting carrier net hop frequency distribution...\n",
      "Figure saved as /Users/jenny/Projects/morphct/notebook_output/KMC/figures/26_net_hop_freq_hole.png\n",
      "Plotting (total - net hops) discrepancy distribution...\n",
      "There are 2 paths in this morphology with one-way transport.\n",
      "There are 5 paths in this morphology with total - net < 10.\n",
      "Figure saved as /Users/jenny/Projects/morphct/notebook_output/KMC/figures/28_hop_discrepancy_hole.png\n",
      "Determining molecule IDs...\n",
      "Donor HOMO Level = -8.522 +/- 0.004\n",
      "Donor Delta E_ij stats: mean = 0.000 +/- 0.001\n",
      "Figure saved as /Users/jenny/Projects/morphct/notebook_output/KMC/figures/06_donor_delta_E_ij.png\n",
      "Neighbour histogram figure saved as /Users/jenny/Projects/morphct/notebook_output/KMC/figures/04_neighbor_hist_donor.png\n",
      "Orientation histogram figure saved as /Users/jenny/Projects/morphct/notebook_output/KMC/figures/34_orientation_hist_donor.png\n",
      "Figure saved as /Users/jenny/Projects/morphct/notebook_output/KMC/figures/10_donor_transfer_integral_mols.png\n",
      "Figure saved as /Users/jenny/Projects/morphct/notebook_output/KMC/figures/11_acceptor_transfer_integral_mols.png\n",
      "Cut-offs specified (value format: [donor, acceptor])\n",
      "\t('separation', [None, None])\n",
      "\t('orientation', [None, None])\n",
      "\t('TI', [None, None])\n",
      "\t('freq', [None, None])\n",
      "Examining the donor material...\n",
      "Obtaining orientations of each chromophore...\n",
      "Calculating clusters...\n",
      "----------------------------------------\n",
      "donor: Detected 1 total\n",
      "and large 1 clusters (size > 6).\n",
      "Largest cluster size =30 chromophores.\n",
      "Ratio in \"large\" clusters: 1.000\n",
      "----------------------------------------\n",
      "Examining the acceptor material...\n",
      "No material found. Continuing...\n",
      "Mean intra-cluster donor rate: 7.353e+13+/-2.562e+12\n",
      "Figure saved as /Users/jenny/Projects/morphct/notebook_output/KMC/figures/16_donor_hopping_rate_clusters.png\n",
      "Figure saved as /Users/jenny/Projects/morphct/notebook_output/KMC/figures/12_donor_transfer_integral_clusters.png\n",
      "Mean intra-molecular donor rate: 1.822e+14+/-9.783e+12\n",
      "Mean inter-molecular donor rate: 1.372e+10+/-1.942e+08\n",
      "Figure saved as /Users/jenny/Projects/morphct/notebook_output/KMC/figures/14_donor_hopping_rate_mols.png\n",
      "Plotting cluster size distribution...\n",
      "Figure saved as /Users/jenny/Projects/morphct/notebook_output/KMC/figures/32_hole_cluster_dist.png\n",
      "Writing CSV Output File...\n",
      "CSV file written to /Users/jenny/Projects/morphct/notebook_output/KMC/results.csv\n",
      "Plotting Mobility and Anisotropy progressions...\n",
      "Skipping plotting mobility evolution.\n"
     ]
    }
   ],
   "source": [
    "KMC_analyse.main(\n",
    "    AA_morphdict, \n",
    "    CG_morphdict, \n",
    "    CGtoAAID_list, \n",
    "    param_dict,                                                             \n",
    "    chromo_list,                                                            \n",
    "    [combined_data],                                                      \n",
    "    KMC_directory\n",
    ")"
   ]
  },
  {
   "cell_type": "code",
   "execution_count": null,
   "id": "operational-technology",
   "metadata": {},
   "outputs": [],
   "source": []
  }
 ],
 "metadata": {
  "kernelspec": {
   "display_name": "Python 3",
   "language": "python",
   "name": "python3"
  },
  "language_info": {
   "codemirror_mode": {
    "name": "ipython",
    "version": 3
   },
   "file_extension": ".py",
   "mimetype": "text/x-python",
   "name": "python",
   "nbconvert_exporter": "python",
   "pygments_lexer": "ipython3",
   "version": "3.8.6"
  }
 },
 "nbformat": 4,
 "nbformat_minor": 5
}

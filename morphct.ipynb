{
 "cells": [
  {
   "cell_type": "markdown",
   "id": "following-state",
   "metadata": {},
   "source": [
    "# MorphCT\n",
    "\n",
    "goal: \n",
    " - atomistic gsd snapshot -> \n",
    " - assign chromophores -> \n",
    " - do QCC calcs -> \n",
    " - run KMC -> \n",
    " - calculate mobility\n",
    "\n",
    "current schema:\n",
    " - xml file\n",
    " - chromphore params set in par.py\n",
    " - if starting with atomistic, we can skip fine graining and molecular dynamics and only run:\n",
    "     - execute_obtain_chromophores = False                                             \n",
    "     - execute_ZINDO = False                                                           \n",
    "     - execute_calculate_transfer_integrals = False                                    \n",
    "     - execute_calculate_mobility = False    "
   ]
  },
  {
   "cell_type": "code",
   "execution_count": 33,
   "id": "swiss-harassment",
   "metadata": {},
   "outputs": [],
   "source": [
    "import os\n",
    "import pickle\n",
    "import multiprocessing as mp\n",
    "\n",
    "import ele\n",
    "import gsd.hoomd\n",
    "import mbuild as mb\n",
    "import numpy as np\n",
    "from openbabel import openbabel\n",
    "from openbabel import pybel\n",
    "import pyscf\n",
    "from pyscf.semiempirical import MINDO3\n",
    "\n",
    "from morphct import obtain_chromophores as oc\n",
    "from morphct import transfer_integrals as ti\n",
    "from morphct import execute_QCC as eqcc\n",
    "from morphct import mobility_KMC as kmc\n",
    "from morphct.utils import KMC_analyse"
   ]
  },
  {
   "cell_type": "markdown",
   "id": "sharp-official",
   "metadata": {},
   "source": [
    "OK, so I'm looking around for an xml file in the \"obtain chromophores\" tests but all I can find are these pickle files. I want to view them before I continue. ovito and vmd no longer support xmls... gah --> using mbuild."
   ]
  },
  {
   "cell_type": "code",
   "execution_count": 2,
   "id": "dependent-hypothetical",
   "metadata": {},
   "outputs": [],
   "source": [
    "path = \"tests/assets/donor_polymer/OC/donor_polymer_post_obtain_chromophores.pickle\"\n",
    "(\n",
    "    AA_morphdict, \n",
    "    CG_morphdict, \n",
    "    CGtoAAID_list, \n",
    "    param_dict, \n",
    "    chromo_list\n",
    ") = pickle.load(open(path,\"rb\"))"
   ]
  },
  {
   "cell_type": "code",
   "execution_count": 3,
   "id": "miniature-celebration",
   "metadata": {},
   "outputs": [],
   "source": [
    "all_types = list(set(AA_morphdict['type']))\n",
    "bond_array = np.array([(i,j) for name,i,j in AA_morphdict[\"bond\"]])\n",
    "\n",
    "snap = gsd.hoomd.Snapshot()\n",
    "snap.configuration.box = np.array([\n",
    "    AA_morphdict[\"lx\"],\n",
    "    AA_morphdict[\"ly\"],\n",
    "    AA_morphdict[\"lz\"],\n",
    "    AA_morphdict[\"xy\"],\n",
    "    AA_morphdict[\"xz\"],\n",
    "    AA_morphdict[\"yz\"]\n",
    "])\n",
    "snap.configuration.dimensions = AA_morphdict[\"dimensions\"]\n",
    "snap.particles.N = AA_morphdict[\"natoms\"]\n",
    "snap.particles.body = AA_morphdict[\"body\"]\n",
    "snap.particles.position = AA_morphdict[\"position\"]\n",
    "snap.particles.charge = AA_morphdict[\"charge\"]\n",
    "snap.particles.diameter = AA_morphdict[\"diameter\"]\n",
    "snap.particles.mass = AA_morphdict[\"mass\"]\n",
    "snap.particles.image = AA_morphdict[\"image\"]\n",
    "snap.particles.types = all_types\n",
    "snap.particles.typeid = [all_types.index(i) for i in AA_morphdict[\"type\"]]\n",
    "snap.bonds.N = len(bond_array)\n",
    "snap.bonds.group = bond_array\n",
    "snap.validate()"
   ]
  },
  {
   "cell_type": "code",
   "execution_count": 4,
   "id": "cardiac-vision",
   "metadata": {},
   "outputs": [],
   "source": [
    "unwrapped_positions = snap.particles.position + snap.particles.image * snap.configuration.box[:3]"
   ]
  },
  {
   "cell_type": "code",
   "execution_count": 36,
   "id": "acute-series",
   "metadata": {},
   "outputs": [],
   "source": [
    "# Run this if you want to confirm that the unwrapped positions are correct in OVITO\n",
    "#with gsd.hoomd.open(name='test.gsd', mode='wb') as f:\n",
    "#    f.append(snap)\n",
    "#    snap.particles.position = unwrapped_positions\n",
    "#    f.append(snap)"
   ]
  },
  {
   "cell_type": "code",
   "execution_count": 223,
   "id": "smart-suite",
   "metadata": {},
   "outputs": [],
   "source": [
    "conversion_dict = {\n",
    "    \"S1\": ele.element_from_symbol(\"S\"), \n",
    "    \"H1\": ele.element_from_symbol(\"H\"), \n",
    "    \"C5\": ele.element_from_symbol(\"C\"), \n",
    "    \"C1\": ele.element_from_symbol(\"C\"), \n",
    "    \"C4\": ele.element_from_symbol(\"C\"), \n",
    "    \"C6\": ele.element_from_symbol(\"C\"), \n",
    "    \"C8\": ele.element_from_symbol(\"C\"), \n",
    "    \"C9\": ele.element_from_symbol(\"C\"), \n",
    "    \"C3\": ele.element_from_symbol(\"C\"), \n",
    "    \"C7\": ele.element_from_symbol(\"C\"), \n",
    "    \"C2\": ele.element_from_symbol(\"C\"),\n",
    "    \"C10\": ele.element_from_symbol(\"C\"),\n",
    "}\n",
    "\n",
    "amber_dict = {\n",
    "    \"c\":  ele.element_from_symbol(\"C\"),\n",
    "    \"c1\": ele.element_from_symbol(\"C\"),\n",
    "    \"c2\": ele.element_from_symbol(\"C\"),\n",
    "    \"c3\": ele.element_from_symbol(\"C\"),\n",
    "    \"ca\": ele.element_from_symbol(\"C\"),\n",
    "    \"cp\": ele.element_from_symbol(\"C\"),\n",
    "    \"cq\": ele.element_from_symbol(\"C\"),\n",
    "    \"cc\": ele.element_from_symbol(\"C\"),\n",
    "    \"cd\": ele.element_from_symbol(\"C\"),\n",
    "    \"ce\": ele.element_from_symbol(\"C\"),\n",
    "    \"cf\": ele.element_from_symbol(\"C\"),\n",
    "    \"cg\": ele.element_from_symbol(\"C\"),\n",
    "    \"ch\": ele.element_from_symbol(\"C\"),\n",
    "    \"cx\": ele.element_from_symbol(\"C\"),\n",
    "    \"cy\": ele.element_from_symbol(\"C\"),\n",
    "    \"cu\": ele.element_from_symbol(\"C\"),\n",
    "    \"cv\": ele.element_from_symbol(\"C\"),\n",
    "    \"h1\": ele.element_from_symbol(\"H\"),\n",
    "    \"h2\": ele.element_from_symbol(\"H\"),\n",
    "    \"h3\": ele.element_from_symbol(\"H\"),\n",
    "    \"h4\": ele.element_from_symbol(\"H\"),\n",
    "    \"h5\": ele.element_from_symbol(\"H\"),\n",
    "    \"ha\": ele.element_from_symbol(\"H\"),\n",
    "    \"hc\": ele.element_from_symbol(\"H\"),\n",
    "    \"hn\": ele.element_from_symbol(\"H\"),\n",
    "    \"ho\": ele.element_from_symbol(\"H\"),\n",
    "    \"hp\": ele.element_from_symbol(\"H\"),\n",
    "    \"hs\": ele.element_from_symbol(\"H\"),\n",
    "    \"hw\": ele.element_from_symbol(\"H\"),\n",
    "    \"hx\": ele.element_from_symbol(\"H\"),\n",
    "    \"f\":  ele.element_from_symbol(\"F\"),\n",
    "    \"cl\": ele.element_from_symbol(\"Cl\"),\n",
    "    \"br\": ele.element_from_symbol(\"Br\"),\n",
    "    \"i\":  ele.element_from_symbol(\"I\"),\n",
    "    \"n\":  ele.element_from_symbol(\"N\"),\n",
    "    \"n1\": ele.element_from_symbol(\"N\"),\n",
    "    \"n2\": ele.element_from_symbol(\"N\"),\n",
    "    \"n3\": ele.element_from_symbol(\"N\"),\n",
    "    \"n4\": ele.element_from_symbol(\"N\"),\n",
    "    \"na\": ele.element_from_symbol(\"N\"),\n",
    "    \"nb\": ele.element_from_symbol(\"N\"),\n",
    "    \"nc\": ele.element_from_symbol(\"N\"),\n",
    "    \"nd\": ele.element_from_symbol(\"N\"),\n",
    "    \"ne\": ele.element_from_symbol(\"N\"),\n",
    "    \"nf\": ele.element_from_symbol(\"N\"),\n",
    "    \"nh\": ele.element_from_symbol(\"N\"),\n",
    "    \"no\": ele.element_from_symbol(\"N\"),\n",
    "    \"o\":  ele.element_from_symbol(\"O\"),\n",
    "    \"oh\": ele.element_from_symbol(\"O\"),\n",
    "    \"os\": ele.element_from_symbol(\"O\"),\n",
    "    \"ow\": ele.element_from_symbol(\"O\"),\n",
    "    \"p2\": ele.element_from_symbol(\"P\"),\n",
    "    \"p3\": ele.element_from_symbol(\"P\"),\n",
    "    \"p4\": ele.element_from_symbol(\"P\"),\n",
    "    \"p5\": ele.element_from_symbol(\"P\"),\n",
    "    \"pb\": ele.element_from_symbol(\"P\"),\n",
    "    \"pc\": ele.element_from_symbol(\"P\"),\n",
    "    \"pd\": ele.element_from_symbol(\"P\"),\n",
    "    \"pe\": ele.element_from_symbol(\"P\"),\n",
    "    \"pf\": ele.element_from_symbol(\"P\"),\n",
    "    \"px\": ele.element_from_symbol(\"P\"),\n",
    "    \"py\": ele.element_from_symbol(\"P\"),\n",
    "    \"s\":  ele.element_from_symbol(\"S\"),\n",
    "    \"s2\": ele.element_from_symbol(\"S\"),\n",
    "    \"s4\": ele.element_from_symbol(\"S\"),\n",
    "    \"s6\": ele.element_from_symbol(\"S\"),\n",
    "    \"sh\": ele.element_from_symbol(\"S\"),\n",
    "    \"ss\": ele.element_from_symbol(\"S\"),\n",
    "    \"sx\": ele.element_from_symbol(\"S\"),\n",
    "    \"sy\": ele.element_from_symbol(\"S\"),\n",
    "}"
   ]
  },
  {
   "cell_type": "code",
   "execution_count": 162,
   "id": "integral-richmond",
   "metadata": {},
   "outputs": [],
   "source": [
    "smarts_str = \"c1cscc1CCCCCC\""
   ]
  },
  {
   "cell_type": "code",
   "execution_count": 229,
   "id": "jewish-blackjack",
   "metadata": {},
   "outputs": [],
   "source": [
    "from ele.exceptions import ElementError\n",
    "\n",
    "def chromo_indices_smiles(snap, smarts_str, conversion_dict=None):\n",
    "    mol = openbabel.OBMol()\n",
    "    for i in range(snap.particles.N):\n",
    "        a = mol.NewAtom()\n",
    "        if conversion_dict:\n",
    "            element = conversion_dict[snap.particles.types[snap.particles.typeid[i]]]\n",
    "        else:\n",
    "            try:\n",
    "                element = ele.element_from_symbol(snap.particles.types[snap.particles.typeid[i]])\n",
    "            except ElementError as e:\n",
    "                print(\"Particle types are not elements, please provide a conversion_dict\")\n",
    "                raise e\n",
    "        a.SetAtomicNum(element.atomic_number)\n",
    "        a.SetVector(*[float(x) for x in snap.particles.position[i]])\n",
    "    for i,j in snap.bonds.group:\n",
    "        # openbabel indexes atoms from 1\n",
    "        # AddBond(i_index, j_index, bond_order)\n",
    "        mol.AddBond(int(i+1), int(j+1), 1)\n",
    "\n",
    "    pybelmol = pybel.Molecule(mol)\n",
    "    # This will correctly set the bond order\n",
    "    # (necessary for smarts matching)\n",
    "    pybelmol.OBMol.PerceiveBondOrders()\n",
    "\n",
    "    smarts = pybel.Smarts(smarts_str)\n",
    "    # shift indices by 1\n",
    "    atom_indices = [np.array(i)-1 for i in smarts.findall(pybelmol)]\n",
    "    return atom_indices"
   ]
  },
  {
   "cell_type": "code",
   "execution_count": 231,
   "id": "looking-substance",
   "metadata": {},
   "outputs": [],
   "source": [
    "aaids = chromo_indices_smiles(snap, smarts_str, conversion_dict)"
   ]
  },
  {
   "cell_type": "code",
   "execution_count": 232,
   "id": "dutch-sleeping",
   "metadata": {},
   "outputs": [
    {
     "name": "stdout",
     "output_type": "stream",
     "text": [
      "[ 1  0  4  3  2  5  6  7  8  9 10]\n"
     ]
    }
   ],
   "source": [
    "print(aaids[0])"
   ]
  },
  {
   "cell_type": "code",
   "execution_count": 237,
   "id": "heavy-testimony",
   "metadata": {},
   "outputs": [
    {
     "data": {
      "application/3dmoljs_load.v0": "<div id=\"3dmolviewer_12292926334674\"  style=\"position: relative; width: 640px; height: 480px\">\n        <p id=\"3dmolwarning_12292926334674\" style=\"background-color:#ffcccc;color:black\">You appear to be running in JupyterLab (or JavaScript failed to load for some other reason).  You need to install the 3dmol extension: <br>\n        <tt>jupyter labextension install jupyterlab_3dmol</tt></p>\n        </div>\n<script>\n\nvar loadScriptAsync = function(uri){\n  return new Promise((resolve, reject) => {\n    var tag = document.createElement('script');\n    tag.src = uri;\n    tag.async = true;\n    tag.onload = () => {\n      resolve();\n    };\n  var firstScriptTag = document.getElementsByTagName('script')[0];\n  firstScriptTag.parentNode.insertBefore(tag, firstScriptTag);\n});\n};\n\nif(typeof $3Dmolpromise === 'undefined') {\n$3Dmolpromise = null;\n  $3Dmolpromise = loadScriptAsync('https://3dmol.csb.pitt.edu/build/3Dmol.js');\n}\n\nvar viewer_12292926334674 = null;\nvar warn = document.getElementById(\"3dmolwarning_12292926334674\");\nif(warn) {\n    warn.parentNode.removeChild(warn);\n}\n$3Dmolpromise.then(function() {\nviewer_12292926334674 = $3Dmol.createViewer($(\"#3dmolviewer_12292926334674\"),{backgroundColor:\"white\"});\n\tviewer_12292926334674.addModel(\"@<TRIPOS>MOLECULE\\nRES\\n27 0 1 0 1\\nSMALL\\nNO_CHARGES\\n@<TRIPOS>CRYSIN\\n   12.0731    10.1507    11.9235    90.0000    90.0000    90.0000  1  1\\n@<TRIPOS>ATOM\\n       1 C            8.6598   -27.3486   -34.0537 C             1 RES     \\n       2 C            8.3256   -26.1850   -33.3592 C             1 RES     \\n       3 S            9.6173   -25.8754   -32.3670 S             1 RES     \\n       4 C           10.6224   -27.1391   -32.7458 C             1 RES     \\n       5 C            9.9412   -27.8838   -33.7136 C             1 RES     \\n       6 C           10.3237   -29.2291   -34.5184 C             1 RES     \\n       7 C            9.6637   -29.1389   -36.1212 C             1 RES     \\n       8 C            8.0597   -29.7826   -36.0534 C             1 RES     \\n       9 C            6.7223   -29.5694   -36.9893 C             1 RES     \\n      10 C            6.4399   -28.3951   -38.1825 C             1 RES     \\n      11 C            5.4796   -27.0841   -37.7234 C             1 RES     \\n      12 H            4.4319   -27.1955   -38.2050 H             1 RES     \\n      13 H            5.9684   -26.1026   -38.0932 H             1 RES     \\n      14 H            5.3738   -27.0564   -36.5725 H             1 RES     \\n      15 H            5.9128   -28.9170   -39.0657 H             1 RES     \\n      16 H            7.4599   -27.9882   -38.5270 H             1 RES     \\n      17 H            6.5430   -30.5806   -37.5363 H             1 RES     \\n      18 H            5.8382   -29.4249   -36.2431 H             1 RES     \\n      19 H            8.2924   -30.9261   -36.1647 H             1 RES     \\n      20 H            7.7084   -29.6456   -34.9554 H             1 RES     \\n      21 H            9.6413   -28.0586   -36.4945 H             1 RES     \\n      22 H           10.2967   -29.7916   -36.8181 H             1 RES     \\n      23 H            9.9011   -30.1680   -33.9933 H             1 RES     \\n      24 H           11.4737   -29.3327   -34.6241 H             1 RES     \\n      25 H            8.0513   -27.6136   -34.9811 H             1 RES     \\n      26 H           11.5050   -27.3704   -32.1422 H             1 RES     \\n      27 H            7.2635   -25.7753   -33.9072 H             1 RES     \\n@<TRIPOS>BOND\\n@<TRIPOS>SUBSTRUCTURE\\n       1 RES             1 RESIDUE    0 **** ROOT      0\\n\",\"mol2\");\n\tviewer_12292926334674.setStyle({\"stick\": {\"radius\": 0.2, \"color\": \"grey\"}, \"sphere\": {\"scale\": 0.3, \"colorscheme\": {}}});\n\tviewer_12292926334674.zoomTo();\nviewer_12292926334674.render();\n});\n</script>",
      "text/html": [
       "<div id=\"3dmolviewer_12292926334674\"  style=\"position: relative; width: 640px; height: 480px\">\n",
       "        <p id=\"3dmolwarning_12292926334674\" style=\"background-color:#ffcccc;color:black\">You appear to be running in JupyterLab (or JavaScript failed to load for some other reason).  You need to install the 3dmol extension: <br>\n",
       "        <tt>jupyter labextension install jupyterlab_3dmol</tt></p>\n",
       "        </div>\n",
       "<script>\n",
       "\n",
       "var loadScriptAsync = function(uri){\n",
       "  return new Promise((resolve, reject) => {\n",
       "    var tag = document.createElement('script');\n",
       "    tag.src = uri;\n",
       "    tag.async = true;\n",
       "    tag.onload = () => {\n",
       "      resolve();\n",
       "    };\n",
       "  var firstScriptTag = document.getElementsByTagName('script')[0];\n",
       "  firstScriptTag.parentNode.insertBefore(tag, firstScriptTag);\n",
       "});\n",
       "};\n",
       "\n",
       "if(typeof $3Dmolpromise === 'undefined') {\n",
       "$3Dmolpromise = null;\n",
       "  $3Dmolpromise = loadScriptAsync('https://3dmol.csb.pitt.edu/build/3Dmol.js');\n",
       "}\n",
       "\n",
       "var viewer_12292926334674 = null;\n",
       "var warn = document.getElementById(\"3dmolwarning_12292926334674\");\n",
       "if(warn) {\n",
       "    warn.parentNode.removeChild(warn);\n",
       "}\n",
       "$3Dmolpromise.then(function() {\n",
       "viewer_12292926334674 = $3Dmol.createViewer($(\"#3dmolviewer_12292926334674\"),{backgroundColor:\"white\"});\n",
       "\tviewer_12292926334674.addModel(\"@<TRIPOS>MOLECULE\\nRES\\n27 0 1 0 1\\nSMALL\\nNO_CHARGES\\n@<TRIPOS>CRYSIN\\n   12.0731    10.1507    11.9235    90.0000    90.0000    90.0000  1  1\\n@<TRIPOS>ATOM\\n       1 C            8.6598   -27.3486   -34.0537 C             1 RES     \\n       2 C            8.3256   -26.1850   -33.3592 C             1 RES     \\n       3 S            9.6173   -25.8754   -32.3670 S             1 RES     \\n       4 C           10.6224   -27.1391   -32.7458 C             1 RES     \\n       5 C            9.9412   -27.8838   -33.7136 C             1 RES     \\n       6 C           10.3237   -29.2291   -34.5184 C             1 RES     \\n       7 C            9.6637   -29.1389   -36.1212 C             1 RES     \\n       8 C            8.0597   -29.7826   -36.0534 C             1 RES     \\n       9 C            6.7223   -29.5694   -36.9893 C             1 RES     \\n      10 C            6.4399   -28.3951   -38.1825 C             1 RES     \\n      11 C            5.4796   -27.0841   -37.7234 C             1 RES     \\n      12 H            4.4319   -27.1955   -38.2050 H             1 RES     \\n      13 H            5.9684   -26.1026   -38.0932 H             1 RES     \\n      14 H            5.3738   -27.0564   -36.5725 H             1 RES     \\n      15 H            5.9128   -28.9170   -39.0657 H             1 RES     \\n      16 H            7.4599   -27.9882   -38.5270 H             1 RES     \\n      17 H            6.5430   -30.5806   -37.5363 H             1 RES     \\n      18 H            5.8382   -29.4249   -36.2431 H             1 RES     \\n      19 H            8.2924   -30.9261   -36.1647 H             1 RES     \\n      20 H            7.7084   -29.6456   -34.9554 H             1 RES     \\n      21 H            9.6413   -28.0586   -36.4945 H             1 RES     \\n      22 H           10.2967   -29.7916   -36.8181 H             1 RES     \\n      23 H            9.9011   -30.1680   -33.9933 H             1 RES     \\n      24 H           11.4737   -29.3327   -34.6241 H             1 RES     \\n      25 H            8.0513   -27.6136   -34.9811 H             1 RES     \\n      26 H           11.5050   -27.3704   -32.1422 H             1 RES     \\n      27 H            7.2635   -25.7753   -33.9072 H             1 RES     \\n@<TRIPOS>BOND\\n@<TRIPOS>SUBSTRUCTURE\\n       1 RES             1 RESIDUE    0 **** ROOT      0\\n\",\"mol2\");\n",
       "\tviewer_12292926334674.setStyle({\"stick\": {\"radius\": 0.2, \"color\": \"grey\"}, \"sphere\": {\"scale\": 0.3, \"colorscheme\": {}}});\n",
       "\tviewer_12292926334674.zoomTo();\n",
       "viewer_12292926334674.render();\n",
       "});\n",
       "</script>"
      ]
     },
     "metadata": {},
     "output_type": "display_data"
    },
    {
     "data": {
      "application/3dmoljs_load.v0": "<div id=\"3dmolviewer_12292963350473\"  style=\"position: relative; width: 640px; height: 480px\">\n        <p id=\"3dmolwarning_12292963350473\" style=\"background-color:#ffcccc;color:black\">You appear to be running in JupyterLab (or JavaScript failed to load for some other reason).  You need to install the 3dmol extension: <br>\n        <tt>jupyter labextension install jupyterlab_3dmol</tt></p>\n        </div>\n<script>\n\nvar loadScriptAsync = function(uri){\n  return new Promise((resolve, reject) => {\n    var tag = document.createElement('script');\n    tag.src = uri;\n    tag.async = true;\n    tag.onload = () => {\n      resolve();\n    };\n  var firstScriptTag = document.getElementsByTagName('script')[0];\n  firstScriptTag.parentNode.insertBefore(tag, firstScriptTag);\n});\n};\n\nif(typeof $3Dmolpromise === 'undefined') {\n$3Dmolpromise = null;\n  $3Dmolpromise = loadScriptAsync('https://3dmol.csb.pitt.edu/build/3Dmol.js');\n}\n\nvar viewer_12292963350473 = null;\nvar warn = document.getElementById(\"3dmolwarning_12292963350473\");\nif(warn) {\n    warn.parentNode.removeChild(warn);\n}\n$3Dmolpromise.then(function() {\nviewer_12292963350473 = $3Dmol.createViewer($(\"#3dmolviewer_12292963350473\"),{backgroundColor:\"white\"});\n\tviewer_12292963350473.addModel(\"@<TRIPOS>MOLECULE\\nRES\\n27 0 1 0 1\\nSMALL\\nNO_CHARGES\\n@<TRIPOS>CRYSIN\\n   15.0357    11.6779    11.8885    90.0000    90.0000    90.0000  1  1\\n@<TRIPOS>ATOM\\n       1 C           13.1470   -26.7527   -31.5307 C             1 RES     \\n       2 C           12.0004   -27.5002   -31.8034 C             1 RES     \\n       3 S           12.2010   -28.9309   -30.9898 S             1 RES     \\n       4 C           13.6815   -28.6918   -30.2816 C             1 RES     \\n       5 C           14.0875   -27.4149   -30.6815 C             1 RES     \\n       6 C           15.4943   -26.6831   -30.2799 C             1 RES     \\n       7 C           16.2705   -26.5906   -28.7341 C             1 RES     \\n       8 C           17.8501   -25.8676   -28.6576 C             1 RES     \\n       9 C           18.3295   -24.3275   -28.3459 C             1 RES     \\n      10 C           18.9545   -23.8907   -26.8193 C             1 RES     \\n      11 C           20.6322   -23.9999   -26.6215 C             1 RES     \\n      12 H           11.1178   -27.2689   -32.4070 H             1 RES     \\n      13 H           20.9820   -25.0684   -26.8909 H             1 RES     \\n      14 H           20.8986   -23.7702   -25.5185 H             1 RES     \\n      15 H           21.1535   -23.2313   -27.3114 H             1 RES     \\n      16 H           18.6645   -22.7906   -26.6319 H             1 RES     \\n      17 H           18.4611   -24.5623   -26.0265 H             1 RES     \\n      18 H           17.4246   -23.6289   -28.5273 H             1 RES     \\n      19 H           19.1605   -24.0533   -29.1064 H             1 RES     \\n      20 H           18.3066   -26.1399   -29.6900 H             1 RES     \\n      21 H           18.3825   -26.5204   -27.8546 H             1 RES     \\n      22 H           16.3707   -27.6530   -28.3265 H             1 RES     \\n      23 H           15.5920   -25.9603   -28.0550 H             1 RES     \\n      24 H           16.3253   -27.1582   -30.9525 H             1 RES     \\n      25 H           15.4057   -25.5599   -30.5852 H             1 RES     \\n      26 H           13.3295   -25.7029   -31.9454 H             1 RES     \\n      27 H           14.1216   -29.4686   -29.6493 H             1 RES     \\n@<TRIPOS>BOND\\n@<TRIPOS>SUBSTRUCTURE\\n       1 RES             1 RESIDUE    0 **** ROOT      0\\n\",\"mol2\");\n\tviewer_12292963350473.setStyle({\"stick\": {\"radius\": 0.2, \"color\": \"grey\"}, \"sphere\": {\"scale\": 0.3, \"colorscheme\": {}}});\n\tviewer_12292963350473.zoomTo();\nviewer_12292963350473.render();\n});\n</script>",
      "text/html": [
       "<div id=\"3dmolviewer_12292963350473\"  style=\"position: relative; width: 640px; height: 480px\">\n",
       "        <p id=\"3dmolwarning_12292963350473\" style=\"background-color:#ffcccc;color:black\">You appear to be running in JupyterLab (or JavaScript failed to load for some other reason).  You need to install the 3dmol extension: <br>\n",
       "        <tt>jupyter labextension install jupyterlab_3dmol</tt></p>\n",
       "        </div>\n",
       "<script>\n",
       "\n",
       "var loadScriptAsync = function(uri){\n",
       "  return new Promise((resolve, reject) => {\n",
       "    var tag = document.createElement('script');\n",
       "    tag.src = uri;\n",
       "    tag.async = true;\n",
       "    tag.onload = () => {\n",
       "      resolve();\n",
       "    };\n",
       "  var firstScriptTag = document.getElementsByTagName('script')[0];\n",
       "  firstScriptTag.parentNode.insertBefore(tag, firstScriptTag);\n",
       "});\n",
       "};\n",
       "\n",
       "if(typeof $3Dmolpromise === 'undefined') {\n",
       "$3Dmolpromise = null;\n",
       "  $3Dmolpromise = loadScriptAsync('https://3dmol.csb.pitt.edu/build/3Dmol.js');\n",
       "}\n",
       "\n",
       "var viewer_12292963350473 = null;\n",
       "var warn = document.getElementById(\"3dmolwarning_12292963350473\");\n",
       "if(warn) {\n",
       "    warn.parentNode.removeChild(warn);\n",
       "}\n",
       "$3Dmolpromise.then(function() {\n",
       "viewer_12292963350473 = $3Dmol.createViewer($(\"#3dmolviewer_12292963350473\"),{backgroundColor:\"white\"});\n",
       "\tviewer_12292963350473.addModel(\"@<TRIPOS>MOLECULE\\nRES\\n27 0 1 0 1\\nSMALL\\nNO_CHARGES\\n@<TRIPOS>CRYSIN\\n   15.0357    11.6779    11.8885    90.0000    90.0000    90.0000  1  1\\n@<TRIPOS>ATOM\\n       1 C           13.1470   -26.7527   -31.5307 C             1 RES     \\n       2 C           12.0004   -27.5002   -31.8034 C             1 RES     \\n       3 S           12.2010   -28.9309   -30.9898 S             1 RES     \\n       4 C           13.6815   -28.6918   -30.2816 C             1 RES     \\n       5 C           14.0875   -27.4149   -30.6815 C             1 RES     \\n       6 C           15.4943   -26.6831   -30.2799 C             1 RES     \\n       7 C           16.2705   -26.5906   -28.7341 C             1 RES     \\n       8 C           17.8501   -25.8676   -28.6576 C             1 RES     \\n       9 C           18.3295   -24.3275   -28.3459 C             1 RES     \\n      10 C           18.9545   -23.8907   -26.8193 C             1 RES     \\n      11 C           20.6322   -23.9999   -26.6215 C             1 RES     \\n      12 H           11.1178   -27.2689   -32.4070 H             1 RES     \\n      13 H           20.9820   -25.0684   -26.8909 H             1 RES     \\n      14 H           20.8986   -23.7702   -25.5185 H             1 RES     \\n      15 H           21.1535   -23.2313   -27.3114 H             1 RES     \\n      16 H           18.6645   -22.7906   -26.6319 H             1 RES     \\n      17 H           18.4611   -24.5623   -26.0265 H             1 RES     \\n      18 H           17.4246   -23.6289   -28.5273 H             1 RES     \\n      19 H           19.1605   -24.0533   -29.1064 H             1 RES     \\n      20 H           18.3066   -26.1399   -29.6900 H             1 RES     \\n      21 H           18.3825   -26.5204   -27.8546 H             1 RES     \\n      22 H           16.3707   -27.6530   -28.3265 H             1 RES     \\n      23 H           15.5920   -25.9603   -28.0550 H             1 RES     \\n      24 H           16.3253   -27.1582   -30.9525 H             1 RES     \\n      25 H           15.4057   -25.5599   -30.5852 H             1 RES     \\n      26 H           13.3295   -25.7029   -31.9454 H             1 RES     \\n      27 H           14.1216   -29.4686   -29.6493 H             1 RES     \\n@<TRIPOS>BOND\\n@<TRIPOS>SUBSTRUCTURE\\n       1 RES             1 RESIDUE    0 **** ROOT      0\\n\",\"mol2\");\n",
       "\tviewer_12292963350473.setStyle({\"stick\": {\"radius\": 0.2, \"color\": \"grey\"}, \"sphere\": {\"scale\": 0.3, \"colorscheme\": {}}});\n",
       "\tviewer_12292963350473.zoomTo();\n",
       "viewer_12292963350473.render();\n",
       "});\n",
       "</script>"
      ]
     },
     "metadata": {},
     "output_type": "display_data"
    },
    {
     "data": {
      "application/3dmoljs_load.v0": "<div id=\"3dmolviewer_1229305541097\"  style=\"position: relative; width: 640px; height: 480px\">\n        <p id=\"3dmolwarning_1229305541097\" style=\"background-color:#ffcccc;color:black\">You appear to be running in JupyterLab (or JavaScript failed to load for some other reason).  You need to install the 3dmol extension: <br>\n        <tt>jupyter labextension install jupyterlab_3dmol</tt></p>\n        </div>\n<script>\n\nvar loadScriptAsync = function(uri){\n  return new Promise((resolve, reject) => {\n    var tag = document.createElement('script');\n    tag.src = uri;\n    tag.async = true;\n    tag.onload = () => {\n      resolve();\n    };\n  var firstScriptTag = document.getElementsByTagName('script')[0];\n  firstScriptTag.parentNode.insertBefore(tag, firstScriptTag);\n});\n};\n\nif(typeof $3Dmolpromise === 'undefined') {\n$3Dmolpromise = null;\n  $3Dmolpromise = loadScriptAsync('https://3dmol.csb.pitt.edu/build/3Dmol.js');\n}\n\nvar viewer_1229305541097 = null;\nvar warn = document.getElementById(\"3dmolwarning_1229305541097\");\nif(warn) {\n    warn.parentNode.removeChild(warn);\n}\n$3Dmolpromise.then(function() {\nviewer_1229305541097 = $3Dmol.createViewer($(\"#3dmolviewer_1229305541097\"),{backgroundColor:\"white\"});\n\tviewer_1229305541097.addModel(\"@<TRIPOS>MOLECULE\\nRES\\n27 0 1 0 1\\nSMALL\\nNO_CHARGES\\n@<TRIPOS>CRYSIN\\n   11.2259    11.4368    11.5722    90.0000    90.0000    90.0000  1  1\\n@<TRIPOS>ATOM\\n       1 C           13.5502   -31.0441   -29.1484 C             1 RES     \\n       2 C           14.3841   -29.9318   -29.2721 C             1 RES     \\n       3 S           15.7366   -30.2917   -28.3832 S             1 RES     \\n       4 C           15.3568   -31.8047   -27.8201 C             1 RES     \\n       5 C           14.0901   -32.0914   -28.3385 C             1 RES     \\n       6 C           13.2248   -33.4311   -28.1357 C             1 RES     \\n       7 C           11.5507   -33.2589   -28.0326 C             1 RES     \\n       8 C           11.0093   -33.2868   -29.6440 C             1 RES     \\n       9 C           10.8929   -34.8034   -30.2209 C             1 RES     \\n      10 C           10.4679   -34.9519   -31.8501 C             1 RES     \\n      11 C           10.1838   -33.5204   -32.6852 C             1 RES     \\n      12 H           13.9440   -29.1551   -29.9044 H             1 RES     \\n      13 H            9.6407   -33.7665   -33.6785 H             1 RES     \\n      14 H           11.1920   -33.0013   -32.9151 H             1 RES     \\n      15 H            9.5198   -32.8193   -32.0488 H             1 RES     \\n      16 H           11.3287   -35.5035   -32.3864 H             1 RES     \\n      17 H            9.5107   -35.5919   -31.9063 H             1 RES     \\n      18 H           11.9113   -35.3404   -30.0953 H             1 RES     \\n      19 H           10.1002   -35.3791   -29.6034 H             1 RES     \\n      20 H            9.9797   -32.7656   -29.6707 H             1 RES     \\n      21 H           11.7432   -32.7095   -30.3206 H             1 RES     \\n      22 H           11.0935   -34.1328   -27.4472 H             1 RES     \\n      23 H           11.2829   -32.2568   -27.5449 H             1 RES     \\n      24 H           13.4713   -33.9324   -27.1064 H             1 RES     \\n      25 H           13.4826   -34.1895   -28.9771 H             1 RES     \\n      26 H           12.4415   -31.0025   -29.4026 H             1 RES     \\n      27 H           15.5947   -32.8535   -27.6197 H             1 RES     \\n@<TRIPOS>BOND\\n@<TRIPOS>SUBSTRUCTURE\\n       1 RES             1 RESIDUE    0 **** ROOT      0\\n\",\"mol2\");\n\tviewer_1229305541097.setStyle({\"stick\": {\"radius\": 0.2, \"color\": \"grey\"}, \"sphere\": {\"scale\": 0.3, \"colorscheme\": {}}});\n\tviewer_1229305541097.zoomTo();\nviewer_1229305541097.render();\n});\n</script>",
      "text/html": [
       "<div id=\"3dmolviewer_1229305541097\"  style=\"position: relative; width: 640px; height: 480px\">\n",
       "        <p id=\"3dmolwarning_1229305541097\" style=\"background-color:#ffcccc;color:black\">You appear to be running in JupyterLab (or JavaScript failed to load for some other reason).  You need to install the 3dmol extension: <br>\n",
       "        <tt>jupyter labextension install jupyterlab_3dmol</tt></p>\n",
       "        </div>\n",
       "<script>\n",
       "\n",
       "var loadScriptAsync = function(uri){\n",
       "  return new Promise((resolve, reject) => {\n",
       "    var tag = document.createElement('script');\n",
       "    tag.src = uri;\n",
       "    tag.async = true;\n",
       "    tag.onload = () => {\n",
       "      resolve();\n",
       "    };\n",
       "  var firstScriptTag = document.getElementsByTagName('script')[0];\n",
       "  firstScriptTag.parentNode.insertBefore(tag, firstScriptTag);\n",
       "});\n",
       "};\n",
       "\n",
       "if(typeof $3Dmolpromise === 'undefined') {\n",
       "$3Dmolpromise = null;\n",
       "  $3Dmolpromise = loadScriptAsync('https://3dmol.csb.pitt.edu/build/3Dmol.js');\n",
       "}\n",
       "\n",
       "var viewer_1229305541097 = null;\n",
       "var warn = document.getElementById(\"3dmolwarning_1229305541097\");\n",
       "if(warn) {\n",
       "    warn.parentNode.removeChild(warn);\n",
       "}\n",
       "$3Dmolpromise.then(function() {\n",
       "viewer_1229305541097 = $3Dmol.createViewer($(\"#3dmolviewer_1229305541097\"),{backgroundColor:\"white\"});\n",
       "\tviewer_1229305541097.addModel(\"@<TRIPOS>MOLECULE\\nRES\\n27 0 1 0 1\\nSMALL\\nNO_CHARGES\\n@<TRIPOS>CRYSIN\\n   11.2259    11.4368    11.5722    90.0000    90.0000    90.0000  1  1\\n@<TRIPOS>ATOM\\n       1 C           13.5502   -31.0441   -29.1484 C             1 RES     \\n       2 C           14.3841   -29.9318   -29.2721 C             1 RES     \\n       3 S           15.7366   -30.2917   -28.3832 S             1 RES     \\n       4 C           15.3568   -31.8047   -27.8201 C             1 RES     \\n       5 C           14.0901   -32.0914   -28.3385 C             1 RES     \\n       6 C           13.2248   -33.4311   -28.1357 C             1 RES     \\n       7 C           11.5507   -33.2589   -28.0326 C             1 RES     \\n       8 C           11.0093   -33.2868   -29.6440 C             1 RES     \\n       9 C           10.8929   -34.8034   -30.2209 C             1 RES     \\n      10 C           10.4679   -34.9519   -31.8501 C             1 RES     \\n      11 C           10.1838   -33.5204   -32.6852 C             1 RES     \\n      12 H           13.9440   -29.1551   -29.9044 H             1 RES     \\n      13 H            9.6407   -33.7665   -33.6785 H             1 RES     \\n      14 H           11.1920   -33.0013   -32.9151 H             1 RES     \\n      15 H            9.5198   -32.8193   -32.0488 H             1 RES     \\n      16 H           11.3287   -35.5035   -32.3864 H             1 RES     \\n      17 H            9.5107   -35.5919   -31.9063 H             1 RES     \\n      18 H           11.9113   -35.3404   -30.0953 H             1 RES     \\n      19 H           10.1002   -35.3791   -29.6034 H             1 RES     \\n      20 H            9.9797   -32.7656   -29.6707 H             1 RES     \\n      21 H           11.7432   -32.7095   -30.3206 H             1 RES     \\n      22 H           11.0935   -34.1328   -27.4472 H             1 RES     \\n      23 H           11.2829   -32.2568   -27.5449 H             1 RES     \\n      24 H           13.4713   -33.9324   -27.1064 H             1 RES     \\n      25 H           13.4826   -34.1895   -28.9771 H             1 RES     \\n      26 H           12.4415   -31.0025   -29.4026 H             1 RES     \\n      27 H           15.5947   -32.8535   -27.6197 H             1 RES     \\n@<TRIPOS>BOND\\n@<TRIPOS>SUBSTRUCTURE\\n       1 RES             1 RESIDUE    0 **** ROOT      0\\n\",\"mol2\");\n",
       "\tviewer_1229305541097.setStyle({\"stick\": {\"radius\": 0.2, \"color\": \"grey\"}, \"sphere\": {\"scale\": 0.3, \"colorscheme\": {}}});\n",
       "\tviewer_1229305541097.zoomTo();\n",
       "viewer_1229305541097.render();\n",
       "});\n",
       "</script>"
      ]
     },
     "metadata": {},
     "output_type": "display_data"
    },
    {
     "data": {
      "application/3dmoljs_load.v0": "<div id=\"3dmolviewer_12293145762815\"  style=\"position: relative; width: 640px; height: 480px\">\n        <p id=\"3dmolwarning_12293145762815\" style=\"background-color:#ffcccc;color:black\">You appear to be running in JupyterLab (or JavaScript failed to load for some other reason).  You need to install the 3dmol extension: <br>\n        <tt>jupyter labextension install jupyterlab_3dmol</tt></p>\n        </div>\n<script>\n\nvar loadScriptAsync = function(uri){\n  return new Promise((resolve, reject) => {\n    var tag = document.createElement('script');\n    tag.src = uri;\n    tag.async = true;\n    tag.onload = () => {\n      resolve();\n    };\n  var firstScriptTag = document.getElementsByTagName('script')[0];\n  firstScriptTag.parentNode.insertBefore(tag, firstScriptTag);\n});\n};\n\nif(typeof $3Dmolpromise === 'undefined') {\n$3Dmolpromise = null;\n  $3Dmolpromise = loadScriptAsync('https://3dmol.csb.pitt.edu/build/3Dmol.js');\n}\n\nvar viewer_12293145762815 = null;\nvar warn = document.getElementById(\"3dmolwarning_12293145762815\");\nif(warn) {\n    warn.parentNode.removeChild(warn);\n}\n$3Dmolpromise.then(function() {\nviewer_12293145762815 = $3Dmol.createViewer($(\"#3dmolviewer_12293145762815\"),{backgroundColor:\"white\"});\n\tviewer_12293145762815.addModel(\"@<TRIPOS>MOLECULE\\nRES\\n27 0 1 0 1\\nSMALL\\nNO_CHARGES\\n@<TRIPOS>CRYSIN\\n   11.7050    12.5627    11.9634    90.0000    90.0000    90.0000  1  1\\n@<TRIPOS>ATOM\\n       1 C           16.7255   -33.1067   -26.6745 C             1 RES     \\n       2 C           15.8228   -33.8591   -27.4274 C             1 RES     \\n       3 S           16.1275   -35.4404   -27.0327 S             1 RES     \\n       4 C           17.3613   -35.2654   -25.9383 C             1 RES     \\n       5 C           17.5858   -33.8886   -25.8422 C             1 RES     \\n       6 C           18.7933   -33.5146   -24.8074 C             1 RES     \\n       7 C           20.2287   -32.6744   -25.1979 C             1 RES     \\n       8 C           20.4820   -31.0277   -24.9904 C             1 RES     \\n       9 C           21.3988   -30.7464   -23.6658 C             1 RES     \\n      10 C           20.5672   -30.9117   -22.2086 C             1 RES     \\n      11 C           19.6740   -29.5512   -21.7995 C             1 RES     \\n      12 H           15.5849   -32.8103   -27.6279 H             1 RES     \\n      13 H           20.0600   -28.6347   -22.3915 H             1 RES     \\n      14 H           19.7726   -29.3500   -20.6645 H             1 RES     \\n      15 H           18.5623   -29.7406   -22.0646 H             1 RES     \\n      16 H           19.8629   -31.8196   -22.2826 H             1 RES     \\n      17 H           21.3425   -31.0974   -21.3749 H             1 RES     \\n      18 H           22.2899   -31.4847   -23.6450 H             1 RES     \\n      19 H           21.8226   -29.6707   -23.7143 H             1 RES     \\n      20 H           21.0247   -30.6230   -25.9277 H             1 RES     \\n      21 H           19.4597   -30.5031   -24.8882 H             1 RES     \\n      22 H           21.0624   -33.2162   -24.6029 H             1 RES     \\n      23 H           20.4018   -32.8847   -26.3236 H             1 RES     \\n      24 H           18.3247   -32.8514   -23.9680 H             1 RES     \\n      25 H           19.1795   -34.4807   -24.2903 H             1 RES     \\n      26 H           17.3222   -32.1397   -26.9915 H             1 RES     \\n      27 H           17.6636   -36.1974   -25.4517 H             1 RES     \\n@<TRIPOS>BOND\\n@<TRIPOS>SUBSTRUCTURE\\n       1 RES             1 RESIDUE    0 **** ROOT      0\\n\",\"mol2\");\n\tviewer_12293145762815.setStyle({\"stick\": {\"radius\": 0.2, \"color\": \"grey\"}, \"sphere\": {\"scale\": 0.3, \"colorscheme\": {}}});\n\tviewer_12293145762815.zoomTo();\nviewer_12293145762815.render();\n});\n</script>",
      "text/html": [
       "<div id=\"3dmolviewer_12293145762815\"  style=\"position: relative; width: 640px; height: 480px\">\n",
       "        <p id=\"3dmolwarning_12293145762815\" style=\"background-color:#ffcccc;color:black\">You appear to be running in JupyterLab (or JavaScript failed to load for some other reason).  You need to install the 3dmol extension: <br>\n",
       "        <tt>jupyter labextension install jupyterlab_3dmol</tt></p>\n",
       "        </div>\n",
       "<script>\n",
       "\n",
       "var loadScriptAsync = function(uri){\n",
       "  return new Promise((resolve, reject) => {\n",
       "    var tag = document.createElement('script');\n",
       "    tag.src = uri;\n",
       "    tag.async = true;\n",
       "    tag.onload = () => {\n",
       "      resolve();\n",
       "    };\n",
       "  var firstScriptTag = document.getElementsByTagName('script')[0];\n",
       "  firstScriptTag.parentNode.insertBefore(tag, firstScriptTag);\n",
       "});\n",
       "};\n",
       "\n",
       "if(typeof $3Dmolpromise === 'undefined') {\n",
       "$3Dmolpromise = null;\n",
       "  $3Dmolpromise = loadScriptAsync('https://3dmol.csb.pitt.edu/build/3Dmol.js');\n",
       "}\n",
       "\n",
       "var viewer_12293145762815 = null;\n",
       "var warn = document.getElementById(\"3dmolwarning_12293145762815\");\n",
       "if(warn) {\n",
       "    warn.parentNode.removeChild(warn);\n",
       "}\n",
       "$3Dmolpromise.then(function() {\n",
       "viewer_12293145762815 = $3Dmol.createViewer($(\"#3dmolviewer_12293145762815\"),{backgroundColor:\"white\"});\n",
       "\tviewer_12293145762815.addModel(\"@<TRIPOS>MOLECULE\\nRES\\n27 0 1 0 1\\nSMALL\\nNO_CHARGES\\n@<TRIPOS>CRYSIN\\n   11.7050    12.5627    11.9634    90.0000    90.0000    90.0000  1  1\\n@<TRIPOS>ATOM\\n       1 C           16.7255   -33.1067   -26.6745 C             1 RES     \\n       2 C           15.8228   -33.8591   -27.4274 C             1 RES     \\n       3 S           16.1275   -35.4404   -27.0327 S             1 RES     \\n       4 C           17.3613   -35.2654   -25.9383 C             1 RES     \\n       5 C           17.5858   -33.8886   -25.8422 C             1 RES     \\n       6 C           18.7933   -33.5146   -24.8074 C             1 RES     \\n       7 C           20.2287   -32.6744   -25.1979 C             1 RES     \\n       8 C           20.4820   -31.0277   -24.9904 C             1 RES     \\n       9 C           21.3988   -30.7464   -23.6658 C             1 RES     \\n      10 C           20.5672   -30.9117   -22.2086 C             1 RES     \\n      11 C           19.6740   -29.5512   -21.7995 C             1 RES     \\n      12 H           15.5849   -32.8103   -27.6279 H             1 RES     \\n      13 H           20.0600   -28.6347   -22.3915 H             1 RES     \\n      14 H           19.7726   -29.3500   -20.6645 H             1 RES     \\n      15 H           18.5623   -29.7406   -22.0646 H             1 RES     \\n      16 H           19.8629   -31.8196   -22.2826 H             1 RES     \\n      17 H           21.3425   -31.0974   -21.3749 H             1 RES     \\n      18 H           22.2899   -31.4847   -23.6450 H             1 RES     \\n      19 H           21.8226   -29.6707   -23.7143 H             1 RES     \\n      20 H           21.0247   -30.6230   -25.9277 H             1 RES     \\n      21 H           19.4597   -30.5031   -24.8882 H             1 RES     \\n      22 H           21.0624   -33.2162   -24.6029 H             1 RES     \\n      23 H           20.4018   -32.8847   -26.3236 H             1 RES     \\n      24 H           18.3247   -32.8514   -23.9680 H             1 RES     \\n      25 H           19.1795   -34.4807   -24.2903 H             1 RES     \\n      26 H           17.3222   -32.1397   -26.9915 H             1 RES     \\n      27 H           17.6636   -36.1974   -25.4517 H             1 RES     \\n@<TRIPOS>BOND\\n@<TRIPOS>SUBSTRUCTURE\\n       1 RES             1 RESIDUE    0 **** ROOT      0\\n\",\"mol2\");\n",
       "\tviewer_12293145762815.setStyle({\"stick\": {\"radius\": 0.2, \"color\": \"grey\"}, \"sphere\": {\"scale\": 0.3, \"colorscheme\": {}}});\n",
       "\tviewer_12293145762815.zoomTo();\n",
       "viewer_12293145762815.render();\n",
       "});\n",
       "</script>"
      ]
     },
     "metadata": {},
     "output_type": "display_data"
    },
    {
     "data": {
      "application/3dmoljs_load.v0": "<div id=\"3dmolviewer_12293233554101\"  style=\"position: relative; width: 640px; height: 480px\">\n        <p id=\"3dmolwarning_12293233554101\" style=\"background-color:#ffcccc;color:black\">You appear to be running in JupyterLab (or JavaScript failed to load for some other reason).  You need to install the 3dmol extension: <br>\n        <tt>jupyter labextension install jupyterlab_3dmol</tt></p>\n        </div>\n<script>\n\nvar loadScriptAsync = function(uri){\n  return new Promise((resolve, reject) => {\n    var tag = document.createElement('script');\n    tag.src = uri;\n    tag.async = true;\n    tag.onload = () => {\n      resolve();\n    };\n  var firstScriptTag = document.getElementsByTagName('script')[0];\n  firstScriptTag.parentNode.insertBefore(tag, firstScriptTag);\n});\n};\n\nif(typeof $3Dmolpromise === 'undefined') {\n$3Dmolpromise = null;\n  $3Dmolpromise = loadScriptAsync('https://3dmol.csb.pitt.edu/build/3Dmol.js');\n}\n\nvar viewer_12293233554101 = null;\nvar warn = document.getElementById(\"3dmolwarning_12293233554101\");\nif(warn) {\n    warn.parentNode.removeChild(warn);\n}\n$3Dmolpromise.then(function() {\nviewer_12293233554101 = $3Dmol.createViewer($(\"#3dmolviewer_12293233554101\"),{backgroundColor:\"white\"});\n\tviewer_12293233554101.addModel(\"@<TRIPOS>MOLECULE\\nRES\\n27 0 1 0 1\\nSMALL\\nNO_CHARGES\\n@<TRIPOS>CRYSIN\\n   12.7572    12.8790    10.9953    90.0000    90.0000    90.0000  1  1\\n@<TRIPOS>ATOM\\n       1 C           17.2304   -37.9122   -25.5505 C             1 RES     \\n       2 C           17.8281   -36.7046   -25.1869 C             1 RES     \\n       3 S           18.9381   -37.0944   -24.0185 S             1 RES     \\n       4 C           18.7311   -38.7366   -23.9151 C             1 RES     \\n       5 C           17.7321   -39.0485   -24.8425 C             1 RES     \\n       6 C           17.1314   -40.5284   -25.1297 C             1 RES     \\n       7 C           15.4422   -40.8220   -24.9461 C             1 RES     \\n       8 C           14.0183   -40.7103   -25.9053 C             1 RES     \\n       9 C           13.8623   -40.8046   -27.5261 C             1 RES     \\n      10 C           13.3671   -42.3064   -28.1495 C             1 RES     \\n      11 C           11.6970   -42.5254   -28.2835 C             1 RES     \\n      12 H           17.5258   -35.7726   -25.6735 H             1 RES     \\n      13 H           11.4731   -43.6516   -28.4307 H             1 RES     \\n      14 H           11.3035   -41.9302   -29.1939 H             1 RES     \\n      15 H           11.1809   -42.1497   -27.3187 H             1 RES     \\n      16 H           13.8156   -42.4097   -29.2060 H             1 RES     \\n      17 H           13.7837   -43.1351   -27.4681 H             1 RES     \\n      18 H           13.0772   -40.0272   -27.8734 H             1 RES     \\n      19 H           14.8765   -40.5496   -28.0187 H             1 RES     \\n      20 H           13.3262   -41.5341   -25.4594 H             1 RES     \\n      21 H           13.5713   -39.6815   -25.5956 H             1 RES     \\n      22 H           15.4257   -41.9384   -24.6268 H             1 RES     \\n      23 H           15.1750   -40.1761   -24.0199 H             1 RES     \\n      24 H           17.6679   -41.3444   -24.5049 H             1 RES     \\n      25 H           17.3342   -40.7808   -26.2563 H             1 RES     \\n      26 H           16.4018   -38.0187   -26.3286 H             1 RES     \\n      27 H           18.7305   -39.5736   -23.2107 H             1 RES     \\n@<TRIPOS>BOND\\n@<TRIPOS>SUBSTRUCTURE\\n       1 RES             1 RESIDUE    0 **** ROOT      0\\n\",\"mol2\");\n\tviewer_12293233554101.setStyle({\"stick\": {\"radius\": 0.2, \"color\": \"grey\"}, \"sphere\": {\"scale\": 0.3, \"colorscheme\": {}}});\n\tviewer_12293233554101.zoomTo();\nviewer_12293233554101.render();\n});\n</script>",
      "text/html": [
       "<div id=\"3dmolviewer_12293233554101\"  style=\"position: relative; width: 640px; height: 480px\">\n",
       "        <p id=\"3dmolwarning_12293233554101\" style=\"background-color:#ffcccc;color:black\">You appear to be running in JupyterLab (or JavaScript failed to load for some other reason).  You need to install the 3dmol extension: <br>\n",
       "        <tt>jupyter labextension install jupyterlab_3dmol</tt></p>\n",
       "        </div>\n",
       "<script>\n",
       "\n",
       "var loadScriptAsync = function(uri){\n",
       "  return new Promise((resolve, reject) => {\n",
       "    var tag = document.createElement('script');\n",
       "    tag.src = uri;\n",
       "    tag.async = true;\n",
       "    tag.onload = () => {\n",
       "      resolve();\n",
       "    };\n",
       "  var firstScriptTag = document.getElementsByTagName('script')[0];\n",
       "  firstScriptTag.parentNode.insertBefore(tag, firstScriptTag);\n",
       "});\n",
       "};\n",
       "\n",
       "if(typeof $3Dmolpromise === 'undefined') {\n",
       "$3Dmolpromise = null;\n",
       "  $3Dmolpromise = loadScriptAsync('https://3dmol.csb.pitt.edu/build/3Dmol.js');\n",
       "}\n",
       "\n",
       "var viewer_12293233554101 = null;\n",
       "var warn = document.getElementById(\"3dmolwarning_12293233554101\");\n",
       "if(warn) {\n",
       "    warn.parentNode.removeChild(warn);\n",
       "}\n",
       "$3Dmolpromise.then(function() {\n",
       "viewer_12293233554101 = $3Dmol.createViewer($(\"#3dmolviewer_12293233554101\"),{backgroundColor:\"white\"});\n",
       "\tviewer_12293233554101.addModel(\"@<TRIPOS>MOLECULE\\nRES\\n27 0 1 0 1\\nSMALL\\nNO_CHARGES\\n@<TRIPOS>CRYSIN\\n   12.7572    12.8790    10.9953    90.0000    90.0000    90.0000  1  1\\n@<TRIPOS>ATOM\\n       1 C           17.2304   -37.9122   -25.5505 C             1 RES     \\n       2 C           17.8281   -36.7046   -25.1869 C             1 RES     \\n       3 S           18.9381   -37.0944   -24.0185 S             1 RES     \\n       4 C           18.7311   -38.7366   -23.9151 C             1 RES     \\n       5 C           17.7321   -39.0485   -24.8425 C             1 RES     \\n       6 C           17.1314   -40.5284   -25.1297 C             1 RES     \\n       7 C           15.4422   -40.8220   -24.9461 C             1 RES     \\n       8 C           14.0183   -40.7103   -25.9053 C             1 RES     \\n       9 C           13.8623   -40.8046   -27.5261 C             1 RES     \\n      10 C           13.3671   -42.3064   -28.1495 C             1 RES     \\n      11 C           11.6970   -42.5254   -28.2835 C             1 RES     \\n      12 H           17.5258   -35.7726   -25.6735 H             1 RES     \\n      13 H           11.4731   -43.6516   -28.4307 H             1 RES     \\n      14 H           11.3035   -41.9302   -29.1939 H             1 RES     \\n      15 H           11.1809   -42.1497   -27.3187 H             1 RES     \\n      16 H           13.8156   -42.4097   -29.2060 H             1 RES     \\n      17 H           13.7837   -43.1351   -27.4681 H             1 RES     \\n      18 H           13.0772   -40.0272   -27.8734 H             1 RES     \\n      19 H           14.8765   -40.5496   -28.0187 H             1 RES     \\n      20 H           13.3262   -41.5341   -25.4594 H             1 RES     \\n      21 H           13.5713   -39.6815   -25.5956 H             1 RES     \\n      22 H           15.4257   -41.9384   -24.6268 H             1 RES     \\n      23 H           15.1750   -40.1761   -24.0199 H             1 RES     \\n      24 H           17.6679   -41.3444   -24.5049 H             1 RES     \\n      25 H           17.3342   -40.7808   -26.2563 H             1 RES     \\n      26 H           16.4018   -38.0187   -26.3286 H             1 RES     \\n      27 H           18.7305   -39.5736   -23.2107 H             1 RES     \\n@<TRIPOS>BOND\\n@<TRIPOS>SUBSTRUCTURE\\n       1 RES             1 RESIDUE    0 **** ROOT      0\\n\",\"mol2\");\n",
       "\tviewer_12293233554101.setStyle({\"stick\": {\"radius\": 0.2, \"color\": \"grey\"}, \"sphere\": {\"scale\": 0.3, \"colorscheme\": {}}});\n",
       "\tviewer_12293233554101.zoomTo();\n",
       "viewer_12293233554101.render();\n",
       "});\n",
       "</script>"
      ]
     },
     "metadata": {},
     "output_type": "display_data"
    },
    {
     "data": {
      "application/3dmoljs_load.v0": "<div id=\"3dmolviewer_12293285178894\"  style=\"position: relative; width: 640px; height: 480px\">\n        <p id=\"3dmolwarning_12293285178894\" style=\"background-color:#ffcccc;color:black\">You appear to be running in JupyterLab (or JavaScript failed to load for some other reason).  You need to install the 3dmol extension: <br>\n        <tt>jupyter labextension install jupyterlab_3dmol</tt></p>\n        </div>\n<script>\n\nvar loadScriptAsync = function(uri){\n  return new Promise((resolve, reject) => {\n    var tag = document.createElement('script');\n    tag.src = uri;\n    tag.async = true;\n    tag.onload = () => {\n      resolve();\n    };\n  var firstScriptTag = document.getElementsByTagName('script')[0];\n  firstScriptTag.parentNode.insertBefore(tag, firstScriptTag);\n});\n};\n\nif(typeof $3Dmolpromise === 'undefined') {\n$3Dmolpromise = null;\n  $3Dmolpromise = loadScriptAsync('https://3dmol.csb.pitt.edu/build/3Dmol.js');\n}\n\nvar viewer_12293285178894 = null;\nvar warn = document.getElementById(\"3dmolwarning_12293285178894\");\nif(warn) {\n    warn.parentNode.removeChild(warn);\n}\n$3Dmolpromise.then(function() {\nviewer_12293285178894 = $3Dmol.createViewer($(\"#3dmolviewer_12293285178894\"),{backgroundColor:\"white\"});\n\tviewer_12293285178894.addModel(\"@<TRIPOS>MOLECULE\\nRES\\n27 0 1 0 1\\nSMALL\\nNO_CHARGES\\n@<TRIPOS>CRYSIN\\n   11.0183    12.4028    13.4040    90.0000    90.0000    90.0000  1  1\\n@<TRIPOS>ATOM\\n       1 C           23.4656   -45.2283   -17.2264 C             1 RES     \\n       2 C           22.2683   -45.5932   -16.6089 C             1 RES     \\n       3 S           22.7097   -46.4362   -15.2511 S             1 RES     \\n       4 C           24.3633   -46.3868   -15.3667 C             1 RES     \\n       5 C           24.6370   -45.6698   -16.5356 C             1 RES     \\n       6 C           26.0924   -45.2959   -17.1463 C             1 RES     \\n       7 C           26.4633   -43.6821   -17.6514 C             1 RES     \\n       8 C           26.1064   -43.0701   -19.2143 C             1 RES     \\n       9 C           26.6925   -41.5736   -19.5300 C             1 RES     \\n      10 C           26.1202   -40.7108   -20.8849 C             1 RES     \\n      11 C           26.8618   -40.7704   -22.3988 C             1 RES     \\n      12 H           21.9910   -45.0036   -17.4877 H             1 RES     \\n      13 H           28.0093   -40.8108   -22.2680 H             1 RES     \\n      14 H           26.5742   -39.8166   -22.9922 H             1 RES     \\n      15 H           26.4940   -41.7041   -22.9726 H             1 RES     \\n      16 H           25.0184   -41.0119   -21.0324 H             1 RES     \\n      17 H           26.1909   -39.6113   -20.5684 H             1 RES     \\n      18 H           26.4924   -40.9010   -18.6098 H             1 RES     \\n      19 H           27.8390   -41.6591   -19.6751 H             1 RES     \\n      20 H           26.5447   -43.8173   -19.9771 H             1 RES     \\n      21 H           24.9566   -43.0547   -19.3145 H             1 RES     \\n      22 H           25.9120   -42.9926   -16.9107 H             1 RES     \\n      23 H           27.6014   -43.5603   -17.5155 H             1 RES     \\n      24 H           26.2846   -45.9520   -18.0819 H             1 RES     \\n      25 H           26.9135   -45.5499   -16.3559 H             1 RES     \\n      26 H           23.7301   -45.2499   -18.3837 H             1 RES     \\n      27 H           24.8075   -47.0141   -14.5882 H             1 RES     \\n@<TRIPOS>BOND\\n@<TRIPOS>SUBSTRUCTURE\\n       1 RES             1 RESIDUE    0 **** ROOT      0\\n\",\"mol2\");\n\tviewer_12293285178894.setStyle({\"stick\": {\"radius\": 0.2, \"color\": \"grey\"}, \"sphere\": {\"scale\": 0.3, \"colorscheme\": {}}});\n\tviewer_12293285178894.zoomTo();\nviewer_12293285178894.render();\n});\n</script>",
      "text/html": [
       "<div id=\"3dmolviewer_12293285178894\"  style=\"position: relative; width: 640px; height: 480px\">\n",
       "        <p id=\"3dmolwarning_12293285178894\" style=\"background-color:#ffcccc;color:black\">You appear to be running in JupyterLab (or JavaScript failed to load for some other reason).  You need to install the 3dmol extension: <br>\n",
       "        <tt>jupyter labextension install jupyterlab_3dmol</tt></p>\n",
       "        </div>\n",
       "<script>\n",
       "\n",
       "var loadScriptAsync = function(uri){\n",
       "  return new Promise((resolve, reject) => {\n",
       "    var tag = document.createElement('script');\n",
       "    tag.src = uri;\n",
       "    tag.async = true;\n",
       "    tag.onload = () => {\n",
       "      resolve();\n",
       "    };\n",
       "  var firstScriptTag = document.getElementsByTagName('script')[0];\n",
       "  firstScriptTag.parentNode.insertBefore(tag, firstScriptTag);\n",
       "});\n",
       "};\n",
       "\n",
       "if(typeof $3Dmolpromise === 'undefined') {\n",
       "$3Dmolpromise = null;\n",
       "  $3Dmolpromise = loadScriptAsync('https://3dmol.csb.pitt.edu/build/3Dmol.js');\n",
       "}\n",
       "\n",
       "var viewer_12293285178894 = null;\n",
       "var warn = document.getElementById(\"3dmolwarning_12293285178894\");\n",
       "if(warn) {\n",
       "    warn.parentNode.removeChild(warn);\n",
       "}\n",
       "$3Dmolpromise.then(function() {\n",
       "viewer_12293285178894 = $3Dmol.createViewer($(\"#3dmolviewer_12293285178894\"),{backgroundColor:\"white\"});\n",
       "\tviewer_12293285178894.addModel(\"@<TRIPOS>MOLECULE\\nRES\\n27 0 1 0 1\\nSMALL\\nNO_CHARGES\\n@<TRIPOS>CRYSIN\\n   11.0183    12.4028    13.4040    90.0000    90.0000    90.0000  1  1\\n@<TRIPOS>ATOM\\n       1 C           23.4656   -45.2283   -17.2264 C             1 RES     \\n       2 C           22.2683   -45.5932   -16.6089 C             1 RES     \\n       3 S           22.7097   -46.4362   -15.2511 S             1 RES     \\n       4 C           24.3633   -46.3868   -15.3667 C             1 RES     \\n       5 C           24.6370   -45.6698   -16.5356 C             1 RES     \\n       6 C           26.0924   -45.2959   -17.1463 C             1 RES     \\n       7 C           26.4633   -43.6821   -17.6514 C             1 RES     \\n       8 C           26.1064   -43.0701   -19.2143 C             1 RES     \\n       9 C           26.6925   -41.5736   -19.5300 C             1 RES     \\n      10 C           26.1202   -40.7108   -20.8849 C             1 RES     \\n      11 C           26.8618   -40.7704   -22.3988 C             1 RES     \\n      12 H           21.9910   -45.0036   -17.4877 H             1 RES     \\n      13 H           28.0093   -40.8108   -22.2680 H             1 RES     \\n      14 H           26.5742   -39.8166   -22.9922 H             1 RES     \\n      15 H           26.4940   -41.7041   -22.9726 H             1 RES     \\n      16 H           25.0184   -41.0119   -21.0324 H             1 RES     \\n      17 H           26.1909   -39.6113   -20.5684 H             1 RES     \\n      18 H           26.4924   -40.9010   -18.6098 H             1 RES     \\n      19 H           27.8390   -41.6591   -19.6751 H             1 RES     \\n      20 H           26.5447   -43.8173   -19.9771 H             1 RES     \\n      21 H           24.9566   -43.0547   -19.3145 H             1 RES     \\n      22 H           25.9120   -42.9926   -16.9107 H             1 RES     \\n      23 H           27.6014   -43.5603   -17.5155 H             1 RES     \\n      24 H           26.2846   -45.9520   -18.0819 H             1 RES     \\n      25 H           26.9135   -45.5499   -16.3559 H             1 RES     \\n      26 H           23.7301   -45.2499   -18.3837 H             1 RES     \\n      27 H           24.8075   -47.0141   -14.5882 H             1 RES     \\n@<TRIPOS>BOND\\n@<TRIPOS>SUBSTRUCTURE\\n       1 RES             1 RESIDUE    0 **** ROOT      0\\n\",\"mol2\");\n",
       "\tviewer_12293285178894.setStyle({\"stick\": {\"radius\": 0.2, \"color\": \"grey\"}, \"sphere\": {\"scale\": 0.3, \"colorscheme\": {}}});\n",
       "\tviewer_12293285178894.zoomTo();\n",
       "viewer_12293285178894.render();\n",
       "});\n",
       "</script>"
      ]
     },
     "metadata": {},
     "output_type": "display_data"
    },
    {
     "data": {
      "application/3dmoljs_load.v0": "<div id=\"3dmolviewer_12293350037362\"  style=\"position: relative; width: 640px; height: 480px\">\n        <p id=\"3dmolwarning_12293350037362\" style=\"background-color:#ffcccc;color:black\">You appear to be running in JupyterLab (or JavaScript failed to load for some other reason).  You need to install the 3dmol extension: <br>\n        <tt>jupyter labextension install jupyterlab_3dmol</tt></p>\n        </div>\n<script>\n\nvar loadScriptAsync = function(uri){\n  return new Promise((resolve, reject) => {\n    var tag = document.createElement('script');\n    tag.src = uri;\n    tag.async = true;\n    tag.onload = () => {\n      resolve();\n    };\n  var firstScriptTag = document.getElementsByTagName('script')[0];\n  firstScriptTag.parentNode.insertBefore(tag, firstScriptTag);\n});\n};\n\nif(typeof $3Dmolpromise === 'undefined') {\n$3Dmolpromise = null;\n  $3Dmolpromise = loadScriptAsync('https://3dmol.csb.pitt.edu/build/3Dmol.js');\n}\n\nvar viewer_12293350037362 = null;\nvar warn = document.getElementById(\"3dmolwarning_12293350037362\");\nif(warn) {\n    warn.parentNode.removeChild(warn);\n}\n$3Dmolpromise.then(function() {\nviewer_12293350037362 = $3Dmol.createViewer($(\"#3dmolviewer_12293350037362\"),{backgroundColor:\"white\"});\n\tviewer_12293350037362.addModel(\"@<TRIPOS>MOLECULE\\nRES\\n27 0 1 0 1\\nSMALL\\nNO_CHARGES\\n@<TRIPOS>CRYSIN\\n   13.8627    13.1344     8.9582    90.0000    90.0000    90.0000  1  1\\n@<TRIPOS>ATOM\\n       1 C           24.3639   -48.4306   -13.5989 C             1 RES     \\n       2 C           25.0485   -47.3545   -14.1658 C             1 RES     \\n       3 S           26.5357   -47.3407   -13.4329 S             1 RES     \\n       4 C           26.3991   -48.6361   -12.4064 C             1 RES     \\n       5 C           25.1149   -49.1481   -12.6164 C             1 RES     \\n       6 C           24.5337   -50.4124   -11.8070 C             1 RES     \\n       7 C           23.7109   -51.7336   -12.5003 C             1 RES     \\n       8 C           22.0180   -51.7510   -12.6643 C             1 RES     \\n       9 C           21.5051   -53.2142   -13.1816 C             1 RES     \\n      10 C           19.8401   -53.5044   -13.2838 C             1 RES     \\n      11 C           19.1604   -54.2024   -11.9082 C             1 RES     \\n      12 H           24.6044   -46.7272   -14.9443 H             1 RES     \\n      13 H           18.2615   -54.8616   -12.2213 H             1 RES     \\n      14 H           18.7980   -53.3664   -11.1950 H             1 RES     \\n      15 H           19.9489   -54.8568   -11.3712 H             1 RES     \\n      16 H           19.6601   -54.2213   -14.1685 H             1 RES     \\n      17 H           19.3075   -52.5031   -13.4833 H             1 RES     \\n      18 H           21.9345   -53.3966   -14.2422 H             1 RES     \\n      19 H           21.9362   -54.0225   -12.4717 H             1 RES     \\n      20 H           21.5533   -51.5075   -11.6370 H             1 RES     \\n      21 H           21.7210   -50.9359   -13.4237 H             1 RES     \\n      22 H           23.9794   -52.6526   -11.8539 H             1 RES     \\n      23 H           24.1451   -51.8727   -13.5594 H             1 RES     \\n      24 H           23.7994   -50.0120   -10.9861 H             1 RES     \\n      25 H           25.4123   -50.9378   -11.2523 H             1 RES     \\n      26 H           23.3162   -48.7654   -13.9099 H             1 RES     \\n      27 H           27.1242   -48.9047   -11.6326 H             1 RES     \\n@<TRIPOS>BOND\\n@<TRIPOS>SUBSTRUCTURE\\n       1 RES             1 RESIDUE    0 **** ROOT      0\\n\",\"mol2\");\n\tviewer_12293350037362.setStyle({\"stick\": {\"radius\": 0.2, \"color\": \"grey\"}, \"sphere\": {\"scale\": 0.3, \"colorscheme\": {}}});\n\tviewer_12293350037362.zoomTo();\nviewer_12293350037362.render();\n});\n</script>",
      "text/html": [
       "<div id=\"3dmolviewer_12293350037362\"  style=\"position: relative; width: 640px; height: 480px\">\n",
       "        <p id=\"3dmolwarning_12293350037362\" style=\"background-color:#ffcccc;color:black\">You appear to be running in JupyterLab (or JavaScript failed to load for some other reason).  You need to install the 3dmol extension: <br>\n",
       "        <tt>jupyter labextension install jupyterlab_3dmol</tt></p>\n",
       "        </div>\n",
       "<script>\n",
       "\n",
       "var loadScriptAsync = function(uri){\n",
       "  return new Promise((resolve, reject) => {\n",
       "    var tag = document.createElement('script');\n",
       "    tag.src = uri;\n",
       "    tag.async = true;\n",
       "    tag.onload = () => {\n",
       "      resolve();\n",
       "    };\n",
       "  var firstScriptTag = document.getElementsByTagName('script')[0];\n",
       "  firstScriptTag.parentNode.insertBefore(tag, firstScriptTag);\n",
       "});\n",
       "};\n",
       "\n",
       "if(typeof $3Dmolpromise === 'undefined') {\n",
       "$3Dmolpromise = null;\n",
       "  $3Dmolpromise = loadScriptAsync('https://3dmol.csb.pitt.edu/build/3Dmol.js');\n",
       "}\n",
       "\n",
       "var viewer_12293350037362 = null;\n",
       "var warn = document.getElementById(\"3dmolwarning_12293350037362\");\n",
       "if(warn) {\n",
       "    warn.parentNode.removeChild(warn);\n",
       "}\n",
       "$3Dmolpromise.then(function() {\n",
       "viewer_12293350037362 = $3Dmol.createViewer($(\"#3dmolviewer_12293350037362\"),{backgroundColor:\"white\"});\n",
       "\tviewer_12293350037362.addModel(\"@<TRIPOS>MOLECULE\\nRES\\n27 0 1 0 1\\nSMALL\\nNO_CHARGES\\n@<TRIPOS>CRYSIN\\n   13.8627    13.1344     8.9582    90.0000    90.0000    90.0000  1  1\\n@<TRIPOS>ATOM\\n       1 C           24.3639   -48.4306   -13.5989 C             1 RES     \\n       2 C           25.0485   -47.3545   -14.1658 C             1 RES     \\n       3 S           26.5357   -47.3407   -13.4329 S             1 RES     \\n       4 C           26.3991   -48.6361   -12.4064 C             1 RES     \\n       5 C           25.1149   -49.1481   -12.6164 C             1 RES     \\n       6 C           24.5337   -50.4124   -11.8070 C             1 RES     \\n       7 C           23.7109   -51.7336   -12.5003 C             1 RES     \\n       8 C           22.0180   -51.7510   -12.6643 C             1 RES     \\n       9 C           21.5051   -53.2142   -13.1816 C             1 RES     \\n      10 C           19.8401   -53.5044   -13.2838 C             1 RES     \\n      11 C           19.1604   -54.2024   -11.9082 C             1 RES     \\n      12 H           24.6044   -46.7272   -14.9443 H             1 RES     \\n      13 H           18.2615   -54.8616   -12.2213 H             1 RES     \\n      14 H           18.7980   -53.3664   -11.1950 H             1 RES     \\n      15 H           19.9489   -54.8568   -11.3712 H             1 RES     \\n      16 H           19.6601   -54.2213   -14.1685 H             1 RES     \\n      17 H           19.3075   -52.5031   -13.4833 H             1 RES     \\n      18 H           21.9345   -53.3966   -14.2422 H             1 RES     \\n      19 H           21.9362   -54.0225   -12.4717 H             1 RES     \\n      20 H           21.5533   -51.5075   -11.6370 H             1 RES     \\n      21 H           21.7210   -50.9359   -13.4237 H             1 RES     \\n      22 H           23.9794   -52.6526   -11.8539 H             1 RES     \\n      23 H           24.1451   -51.8727   -13.5594 H             1 RES     \\n      24 H           23.7994   -50.0120   -10.9861 H             1 RES     \\n      25 H           25.4123   -50.9378   -11.2523 H             1 RES     \\n      26 H           23.3162   -48.7654   -13.9099 H             1 RES     \\n      27 H           27.1242   -48.9047   -11.6326 H             1 RES     \\n@<TRIPOS>BOND\\n@<TRIPOS>SUBSTRUCTURE\\n       1 RES             1 RESIDUE    0 **** ROOT      0\\n\",\"mol2\");\n",
       "\tviewer_12293350037362.setStyle({\"stick\": {\"radius\": 0.2, \"color\": \"grey\"}, \"sphere\": {\"scale\": 0.3, \"colorscheme\": {}}});\n",
       "\tviewer_12293350037362.zoomTo();\n",
       "viewer_12293350037362.render();\n",
       "});\n",
       "</script>"
      ]
     },
     "metadata": {},
     "output_type": "display_data"
    },
    {
     "data": {
      "application/3dmoljs_load.v0": "<div id=\"3dmolviewer_12293387794172\"  style=\"position: relative; width: 640px; height: 480px\">\n        <p id=\"3dmolwarning_12293387794172\" style=\"background-color:#ffcccc;color:black\">You appear to be running in JupyterLab (or JavaScript failed to load for some other reason).  You need to install the 3dmol extension: <br>\n        <tt>jupyter labextension install jupyterlab_3dmol</tt></p>\n        </div>\n<script>\n\nvar loadScriptAsync = function(uri){\n  return new Promise((resolve, reject) => {\n    var tag = document.createElement('script');\n    tag.src = uri;\n    tag.async = true;\n    tag.onload = () => {\n      resolve();\n    };\n  var firstScriptTag = document.getElementsByTagName('script')[0];\n  firstScriptTag.parentNode.insertBefore(tag, firstScriptTag);\n});\n};\n\nif(typeof $3Dmolpromise === 'undefined') {\n$3Dmolpromise = null;\n  $3Dmolpromise = loadScriptAsync('https://3dmol.csb.pitt.edu/build/3Dmol.js');\n}\n\nvar viewer_12293387794172 = null;\nvar warn = document.getElementById(\"3dmolwarning_12293387794172\");\nif(warn) {\n    warn.parentNode.removeChild(warn);\n}\n$3Dmolpromise.then(function() {\nviewer_12293387794172 = $3Dmol.createViewer($(\"#3dmolviewer_12293387794172\"),{backgroundColor:\"white\"});\n\tviewer_12293387794172.addModel(\"@<TRIPOS>MOLECULE\\nRES\\n27 0 1 0 1\\nSMALL\\nNO_CHARGES\\n@<TRIPOS>CRYSIN\\n   15.1758    10.9890    10.3334    90.0000    90.0000    90.0000  1  1\\n@<TRIPOS>ATOM\\n       1 C           28.6664   -48.2872   -11.0641 C             1 RES     \\n       2 C           27.5063   -49.0463   -11.2249 C             1 RES     \\n       3 S           27.5989   -50.2436   -10.0817 S             1 RES     \\n       4 C           29.0455   -49.8821    -9.3556 C             1 RES     \\n       5 C           29.5278   -48.7510   -10.0215 C             1 RES     \\n       6 C           30.8800   -47.9047    -9.7918 C             1 RES     \\n       7 C           31.6998   -47.5558   -11.2502 C             1 RES     \\n       8 C           32.9748   -46.4544   -11.0945 C             1 RES     \\n       9 C           34.5445   -46.8021   -10.8631 C             1 RES     \\n      10 C           35.4701   -46.7669   -12.2801 C             1 RES     \\n      11 C           36.0202   -45.2182   -12.6655 C             1 RES     \\n      12 H           26.7811   -48.7776   -11.9987 H             1 RES     \\n      13 H           35.1861   -44.4486   -12.4400 H             1 RES     \\n      14 H           36.2882   -45.1799   -13.7905 H             1 RES     \\n      15 H           36.9569   -44.9744   -12.0324 H             1 RES     \\n      16 H           36.3892   -47.4437   -12.1240 H             1 RES     \\n      17 H           34.8356   -47.1651   -13.1523 H             1 RES     \\n      18 H           34.6488   -47.8552   -10.3996 H             1 RES     \\n      19 H           35.0015   -46.0284   -10.1335 H             1 RES     \\n      20 H           32.6496   -45.7520   -10.2244 H             1 RES     \\n      21 H           32.9165   -45.8254   -12.0756 H             1 RES     \\n      22 H           32.1351   -48.5494   -11.6401 H             1 RES     \\n      23 H           30.9611   -47.1301   -12.0194 H             1 RES     \\n      24 H           30.6450   -46.9020    -9.2704 H             1 RES     \\n      25 H           31.6239   -48.5056    -9.1244 H             1 RES     \\n      26 H           28.8492   -47.3205   -11.6379 H             1 RES     \\n      27 H           29.3299   -50.4376    -8.4571 H             1 RES     \\n@<TRIPOS>BOND\\n@<TRIPOS>SUBSTRUCTURE\\n       1 RES             1 RESIDUE    0 **** ROOT      0\\n\",\"mol2\");\n\tviewer_12293387794172.setStyle({\"stick\": {\"radius\": 0.2, \"color\": \"grey\"}, \"sphere\": {\"scale\": 0.3, \"colorscheme\": {}}});\n\tviewer_12293387794172.zoomTo();\nviewer_12293387794172.render();\n});\n</script>",
      "text/html": [
       "<div id=\"3dmolviewer_12293387794172\"  style=\"position: relative; width: 640px; height: 480px\">\n",
       "        <p id=\"3dmolwarning_12293387794172\" style=\"background-color:#ffcccc;color:black\">You appear to be running in JupyterLab (or JavaScript failed to load for some other reason).  You need to install the 3dmol extension: <br>\n",
       "        <tt>jupyter labextension install jupyterlab_3dmol</tt></p>\n",
       "        </div>\n",
       "<script>\n",
       "\n",
       "var loadScriptAsync = function(uri){\n",
       "  return new Promise((resolve, reject) => {\n",
       "    var tag = document.createElement('script');\n",
       "    tag.src = uri;\n",
       "    tag.async = true;\n",
       "    tag.onload = () => {\n",
       "      resolve();\n",
       "    };\n",
       "  var firstScriptTag = document.getElementsByTagName('script')[0];\n",
       "  firstScriptTag.parentNode.insertBefore(tag, firstScriptTag);\n",
       "});\n",
       "};\n",
       "\n",
       "if(typeof $3Dmolpromise === 'undefined') {\n",
       "$3Dmolpromise = null;\n",
       "  $3Dmolpromise = loadScriptAsync('https://3dmol.csb.pitt.edu/build/3Dmol.js');\n",
       "}\n",
       "\n",
       "var viewer_12293387794172 = null;\n",
       "var warn = document.getElementById(\"3dmolwarning_12293387794172\");\n",
       "if(warn) {\n",
       "    warn.parentNode.removeChild(warn);\n",
       "}\n",
       "$3Dmolpromise.then(function() {\n",
       "viewer_12293387794172 = $3Dmol.createViewer($(\"#3dmolviewer_12293387794172\"),{backgroundColor:\"white\"});\n",
       "\tviewer_12293387794172.addModel(\"@<TRIPOS>MOLECULE\\nRES\\n27 0 1 0 1\\nSMALL\\nNO_CHARGES\\n@<TRIPOS>CRYSIN\\n   15.1758    10.9890    10.3334    90.0000    90.0000    90.0000  1  1\\n@<TRIPOS>ATOM\\n       1 C           28.6664   -48.2872   -11.0641 C             1 RES     \\n       2 C           27.5063   -49.0463   -11.2249 C             1 RES     \\n       3 S           27.5989   -50.2436   -10.0817 S             1 RES     \\n       4 C           29.0455   -49.8821    -9.3556 C             1 RES     \\n       5 C           29.5278   -48.7510   -10.0215 C             1 RES     \\n       6 C           30.8800   -47.9047    -9.7918 C             1 RES     \\n       7 C           31.6998   -47.5558   -11.2502 C             1 RES     \\n       8 C           32.9748   -46.4544   -11.0945 C             1 RES     \\n       9 C           34.5445   -46.8021   -10.8631 C             1 RES     \\n      10 C           35.4701   -46.7669   -12.2801 C             1 RES     \\n      11 C           36.0202   -45.2182   -12.6655 C             1 RES     \\n      12 H           26.7811   -48.7776   -11.9987 H             1 RES     \\n      13 H           35.1861   -44.4486   -12.4400 H             1 RES     \\n      14 H           36.2882   -45.1799   -13.7905 H             1 RES     \\n      15 H           36.9569   -44.9744   -12.0324 H             1 RES     \\n      16 H           36.3892   -47.4437   -12.1240 H             1 RES     \\n      17 H           34.8356   -47.1651   -13.1523 H             1 RES     \\n      18 H           34.6488   -47.8552   -10.3996 H             1 RES     \\n      19 H           35.0015   -46.0284   -10.1335 H             1 RES     \\n      20 H           32.6496   -45.7520   -10.2244 H             1 RES     \\n      21 H           32.9165   -45.8254   -12.0756 H             1 RES     \\n      22 H           32.1351   -48.5494   -11.6401 H             1 RES     \\n      23 H           30.9611   -47.1301   -12.0194 H             1 RES     \\n      24 H           30.6450   -46.9020    -9.2704 H             1 RES     \\n      25 H           31.6239   -48.5056    -9.1244 H             1 RES     \\n      26 H           28.8492   -47.3205   -11.6379 H             1 RES     \\n      27 H           29.3299   -50.4376    -8.4571 H             1 RES     \\n@<TRIPOS>BOND\\n@<TRIPOS>SUBSTRUCTURE\\n       1 RES             1 RESIDUE    0 **** ROOT      0\\n\",\"mol2\");\n",
       "\tviewer_12293387794172.setStyle({\"stick\": {\"radius\": 0.2, \"color\": \"grey\"}, \"sphere\": {\"scale\": 0.3, \"colorscheme\": {}}});\n",
       "\tviewer_12293387794172.zoomTo();\n",
       "viewer_12293387794172.render();\n",
       "});\n",
       "</script>"
      ]
     },
     "metadata": {},
     "output_type": "display_data"
    },
    {
     "data": {
      "application/3dmoljs_load.v0": "<div id=\"3dmolviewer_12293443516464\"  style=\"position: relative; width: 640px; height: 480px\">\n        <p id=\"3dmolwarning_12293443516464\" style=\"background-color:#ffcccc;color:black\">You appear to be running in JupyterLab (or JavaScript failed to load for some other reason).  You need to install the 3dmol extension: <br>\n        <tt>jupyter labextension install jupyterlab_3dmol</tt></p>\n        </div>\n<script>\n\nvar loadScriptAsync = function(uri){\n  return new Promise((resolve, reject) => {\n    var tag = document.createElement('script');\n    tag.src = uri;\n    tag.async = true;\n    tag.onload = () => {\n      resolve();\n    };\n  var firstScriptTag = document.getElementsByTagName('script')[0];\n  firstScriptTag.parentNode.insertBefore(tag, firstScriptTag);\n});\n};\n\nif(typeof $3Dmolpromise === 'undefined') {\n$3Dmolpromise = null;\n  $3Dmolpromise = loadScriptAsync('https://3dmol.csb.pitt.edu/build/3Dmol.js');\n}\n\nvar viewer_12293443516464 = null;\nvar warn = document.getElementById(\"3dmolwarning_12293443516464\");\nif(warn) {\n    warn.parentNode.removeChild(warn);\n}\n$3Dmolpromise.then(function() {\nviewer_12293443516464 = $3Dmol.createViewer($(\"#3dmolviewer_12293443516464\"),{backgroundColor:\"white\"});\n\tviewer_12293443516464.addModel(\"@<TRIPOS>MOLECULE\\nRES\\n27 0 1 0 1\\nSMALL\\nNO_CHARGES\\n@<TRIPOS>CRYSIN\\n   13.3769    12.8009    10.0840    90.0000    90.0000    90.0000  1  1\\n@<TRIPOS>ATOM\\n       1 C           28.8676   -51.8886    -7.5338 C             1 RES     \\n       2 C           29.4752   -50.7212    -7.9984 C             1 RES     \\n       3 S           30.6767   -50.3832    -6.9070 S             1 RES     \\n       4 C           30.5005   -51.6384    -5.8375 C             1 RES     \\n       5 C           29.4375   -52.4033    -6.3278 C             1 RES     \\n       6 C           28.8575   -53.7510    -5.6515 C             1 RES     \\n       7 C           27.1921   -53.9263    -5.2977 C             1 RES     \\n       8 C           25.8860   -54.5304    -6.2074 C             1 RES     \\n       9 C           26.0044   -55.2494    -7.6622 C             1 RES     \\n      10 C           24.4668   -55.6421    -8.2751 C             1 RES     \\n      11 C           23.8550   -57.1484    -7.8381 C             1 RES     \\n      12 H           29.1907   -50.1657    -8.8969 H             1 RES     \\n      13 H           22.7110   -57.1599    -8.0183 H             1 RES     \\n      14 H           24.0728   -57.3459    -6.7196 H             1 RES     \\n      15 H           24.3559   -57.9665    -8.4847 H             1 RES     \\n      16 H           24.5282   -55.6025    -9.4252 H             1 RES     \\n      17 H           23.7234   -54.8424    -7.9048 H             1 RES     \\n      18 H           26.5162   -54.5401    -8.4148 H             1 RES     \\n      19 H           26.6169   -56.2242    -7.5807 H             1 RES     \\n      20 H           25.3672   -55.2955    -5.4996 H             1 RES     \\n      21 H           25.1661   -53.6260    -6.3299 H             1 RES     \\n      22 H           27.1887   -54.5844    -4.3413 H             1 RES     \\n      23 H           26.8629   -52.8558    -5.0010 H             1 RES     \\n      24 H           29.3623   -53.9790    -4.6378 H             1 RES     \\n      25 H           29.0957   -54.6404    -6.3646 H             1 RES     \\n      26 H           27.9979   -52.4064    -8.0597 H             1 RES     \\n      27 H           31.0879   -51.7845    -4.9263 H             1 RES     \\n@<TRIPOS>BOND\\n@<TRIPOS>SUBSTRUCTURE\\n       1 RES             1 RESIDUE    0 **** ROOT      0\\n\",\"mol2\");\n\tviewer_12293443516464.setStyle({\"stick\": {\"radius\": 0.2, \"color\": \"grey\"}, \"sphere\": {\"scale\": 0.3, \"colorscheme\": {}}});\n\tviewer_12293443516464.zoomTo();\nviewer_12293443516464.render();\n});\n</script>",
      "text/html": [
       "<div id=\"3dmolviewer_12293443516464\"  style=\"position: relative; width: 640px; height: 480px\">\n",
       "        <p id=\"3dmolwarning_12293443516464\" style=\"background-color:#ffcccc;color:black\">You appear to be running in JupyterLab (or JavaScript failed to load for some other reason).  You need to install the 3dmol extension: <br>\n",
       "        <tt>jupyter labextension install jupyterlab_3dmol</tt></p>\n",
       "        </div>\n",
       "<script>\n",
       "\n",
       "var loadScriptAsync = function(uri){\n",
       "  return new Promise((resolve, reject) => {\n",
       "    var tag = document.createElement('script');\n",
       "    tag.src = uri;\n",
       "    tag.async = true;\n",
       "    tag.onload = () => {\n",
       "      resolve();\n",
       "    };\n",
       "  var firstScriptTag = document.getElementsByTagName('script')[0];\n",
       "  firstScriptTag.parentNode.insertBefore(tag, firstScriptTag);\n",
       "});\n",
       "};\n",
       "\n",
       "if(typeof $3Dmolpromise === 'undefined') {\n",
       "$3Dmolpromise = null;\n",
       "  $3Dmolpromise = loadScriptAsync('https://3dmol.csb.pitt.edu/build/3Dmol.js');\n",
       "}\n",
       "\n",
       "var viewer_12293443516464 = null;\n",
       "var warn = document.getElementById(\"3dmolwarning_12293443516464\");\n",
       "if(warn) {\n",
       "    warn.parentNode.removeChild(warn);\n",
       "}\n",
       "$3Dmolpromise.then(function() {\n",
       "viewer_12293443516464 = $3Dmol.createViewer($(\"#3dmolviewer_12293443516464\"),{backgroundColor:\"white\"});\n",
       "\tviewer_12293443516464.addModel(\"@<TRIPOS>MOLECULE\\nRES\\n27 0 1 0 1\\nSMALL\\nNO_CHARGES\\n@<TRIPOS>CRYSIN\\n   13.3769    12.8009    10.0840    90.0000    90.0000    90.0000  1  1\\n@<TRIPOS>ATOM\\n       1 C           28.8676   -51.8886    -7.5338 C             1 RES     \\n       2 C           29.4752   -50.7212    -7.9984 C             1 RES     \\n       3 S           30.6767   -50.3832    -6.9070 S             1 RES     \\n       4 C           30.5005   -51.6384    -5.8375 C             1 RES     \\n       5 C           29.4375   -52.4033    -6.3278 C             1 RES     \\n       6 C           28.8575   -53.7510    -5.6515 C             1 RES     \\n       7 C           27.1921   -53.9263    -5.2977 C             1 RES     \\n       8 C           25.8860   -54.5304    -6.2074 C             1 RES     \\n       9 C           26.0044   -55.2494    -7.6622 C             1 RES     \\n      10 C           24.4668   -55.6421    -8.2751 C             1 RES     \\n      11 C           23.8550   -57.1484    -7.8381 C             1 RES     \\n      12 H           29.1907   -50.1657    -8.8969 H             1 RES     \\n      13 H           22.7110   -57.1599    -8.0183 H             1 RES     \\n      14 H           24.0728   -57.3459    -6.7196 H             1 RES     \\n      15 H           24.3559   -57.9665    -8.4847 H             1 RES     \\n      16 H           24.5282   -55.6025    -9.4252 H             1 RES     \\n      17 H           23.7234   -54.8424    -7.9048 H             1 RES     \\n      18 H           26.5162   -54.5401    -8.4148 H             1 RES     \\n      19 H           26.6169   -56.2242    -7.5807 H             1 RES     \\n      20 H           25.3672   -55.2955    -5.4996 H             1 RES     \\n      21 H           25.1661   -53.6260    -6.3299 H             1 RES     \\n      22 H           27.1887   -54.5844    -4.3413 H             1 RES     \\n      23 H           26.8629   -52.8558    -5.0010 H             1 RES     \\n      24 H           29.3623   -53.9790    -4.6378 H             1 RES     \\n      25 H           29.0957   -54.6404    -6.3646 H             1 RES     \\n      26 H           27.9979   -52.4064    -8.0597 H             1 RES     \\n      27 H           31.0879   -51.7845    -4.9263 H             1 RES     \\n@<TRIPOS>BOND\\n@<TRIPOS>SUBSTRUCTURE\\n       1 RES             1 RESIDUE    0 **** ROOT      0\\n\",\"mol2\");\n",
       "\tviewer_12293443516464.setStyle({\"stick\": {\"radius\": 0.2, \"color\": \"grey\"}, \"sphere\": {\"scale\": 0.3, \"colorscheme\": {}}});\n",
       "\tviewer_12293443516464.zoomTo();\n",
       "viewer_12293443516464.render();\n",
       "});\n",
       "</script>"
      ]
     },
     "metadata": {},
     "output_type": "display_data"
    },
    {
     "data": {
      "application/3dmoljs_load.v0": "<div id=\"3dmolviewer_12293486011113\"  style=\"position: relative; width: 640px; height: 480px\">\n        <p id=\"3dmolwarning_12293486011113\" style=\"background-color:#ffcccc;color:black\">You appear to be running in JupyterLab (or JavaScript failed to load for some other reason).  You need to install the 3dmol extension: <br>\n        <tt>jupyter labextension install jupyterlab_3dmol</tt></p>\n        </div>\n<script>\n\nvar loadScriptAsync = function(uri){\n  return new Promise((resolve, reject) => {\n    var tag = document.createElement('script');\n    tag.src = uri;\n    tag.async = true;\n    tag.onload = () => {\n      resolve();\n    };\n  var firstScriptTag = document.getElementsByTagName('script')[0];\n  firstScriptTag.parentNode.insertBefore(tag, firstScriptTag);\n});\n};\n\nif(typeof $3Dmolpromise === 'undefined') {\n$3Dmolpromise = null;\n  $3Dmolpromise = loadScriptAsync('https://3dmol.csb.pitt.edu/build/3Dmol.js');\n}\n\nvar viewer_12293486011113 = null;\nvar warn = document.getElementById(\"3dmolwarning_12293486011113\");\nif(warn) {\n    warn.parentNode.removeChild(warn);\n}\n$3Dmolpromise.then(function() {\nviewer_12293486011113 = $3Dmol.createViewer($(\"#3dmolviewer_12293486011113\"),{backgroundColor:\"white\"});\n\tviewer_12293486011113.addModel(\"@<TRIPOS>MOLECULE\\nRES\\n27 0 1 0 1\\nSMALL\\nNO_CHARGES\\n@<TRIPOS>CRYSIN\\n   11.5829    14.5117     9.5523    90.0000    90.0000    90.0000  1  1\\n@<TRIPOS>ATOM\\n       1 C           32.2219   -50.9756    -3.7448 C             1 RES     \\n       2 C           31.3999   -51.8621    -4.4423 C             1 RES     \\n       3 S           31.4304   -53.2725    -3.5711 S             1 RES     \\n       4 C           32.4390   -52.8559    -2.3223 C             1 RES     \\n       5 C           32.8036   -51.5272    -2.5609 C             1 RES     \\n       6 C           33.8136   -50.7375    -1.5682 C             1 RES     \\n       7 C           35.1445   -49.6605    -1.8418 C             1 RES     \\n       8 C           35.8524   -48.8528    -3.1729 C             1 RES     \\n       9 C           35.5013   -47.2541    -3.1824 C             1 RES     \\n      10 C           36.2556   -46.3055    -4.3679 C             1 RES     \\n      11 C           35.8651   -44.6655    -4.3053 C             1 RES     \\n      12 H           30.8125   -51.7160    -5.3535 H             1 RES     \\n      13 H           35.5247   -44.3874    -3.2352 H             1 RES     \\n      14 H           35.0096   -44.4478    -5.0539 H             1 RES     \\n      15 H           36.7963   -44.0394    -4.5897 H             1 RES     \\n      16 H           37.3953   -46.4065    -4.2340 H             1 RES     \\n      17 H           35.9475   -46.7107    -5.4002 H             1 RES     \\n      18 H           34.3604   -47.1199    -3.3140 H             1 RES     \\n      19 H           35.8113   -46.8026    -2.1616 H             1 RES     \\n      20 H           36.9961   -48.9912    -3.1053 H             1 RES     \\n      21 H           35.4631   -49.3484    -4.1378 H             1 RES     \\n      22 H           36.0387   -50.2909    -1.4438 H             1 RES     \\n      23 H           34.9449   -48.8092    -1.0810 H             1 RES     \\n      24 H           34.3318   -51.5466    -0.9022 H             1 RES     \\n      25 H           33.1268   -50.1075    -0.8478 H             1 RES     \\n      26 H           32.4415   -49.9110    -4.0950 H             1 RES     \\n      27 H           32.6193   -53.5511    -1.4970 H             1 RES     \\n@<TRIPOS>BOND\\n@<TRIPOS>SUBSTRUCTURE\\n       1 RES             1 RESIDUE    0 **** ROOT      0\\n\",\"mol2\");\n\tviewer_12293486011113.setStyle({\"stick\": {\"radius\": 0.2, \"color\": \"grey\"}, \"sphere\": {\"scale\": 0.3, \"colorscheme\": {}}});\n\tviewer_12293486011113.zoomTo();\nviewer_12293486011113.render();\n});\n</script>",
      "text/html": [
       "<div id=\"3dmolviewer_12293486011113\"  style=\"position: relative; width: 640px; height: 480px\">\n",
       "        <p id=\"3dmolwarning_12293486011113\" style=\"background-color:#ffcccc;color:black\">You appear to be running in JupyterLab (or JavaScript failed to load for some other reason).  You need to install the 3dmol extension: <br>\n",
       "        <tt>jupyter labextension install jupyterlab_3dmol</tt></p>\n",
       "        </div>\n",
       "<script>\n",
       "\n",
       "var loadScriptAsync = function(uri){\n",
       "  return new Promise((resolve, reject) => {\n",
       "    var tag = document.createElement('script');\n",
       "    tag.src = uri;\n",
       "    tag.async = true;\n",
       "    tag.onload = () => {\n",
       "      resolve();\n",
       "    };\n",
       "  var firstScriptTag = document.getElementsByTagName('script')[0];\n",
       "  firstScriptTag.parentNode.insertBefore(tag, firstScriptTag);\n",
       "});\n",
       "};\n",
       "\n",
       "if(typeof $3Dmolpromise === 'undefined') {\n",
       "$3Dmolpromise = null;\n",
       "  $3Dmolpromise = loadScriptAsync('https://3dmol.csb.pitt.edu/build/3Dmol.js');\n",
       "}\n",
       "\n",
       "var viewer_12293486011113 = null;\n",
       "var warn = document.getElementById(\"3dmolwarning_12293486011113\");\n",
       "if(warn) {\n",
       "    warn.parentNode.removeChild(warn);\n",
       "}\n",
       "$3Dmolpromise.then(function() {\n",
       "viewer_12293486011113 = $3Dmol.createViewer($(\"#3dmolviewer_12293486011113\"),{backgroundColor:\"white\"});\n",
       "\tviewer_12293486011113.addModel(\"@<TRIPOS>MOLECULE\\nRES\\n27 0 1 0 1\\nSMALL\\nNO_CHARGES\\n@<TRIPOS>CRYSIN\\n   11.5829    14.5117     9.5523    90.0000    90.0000    90.0000  1  1\\n@<TRIPOS>ATOM\\n       1 C           32.2219   -50.9756    -3.7448 C             1 RES     \\n       2 C           31.3999   -51.8621    -4.4423 C             1 RES     \\n       3 S           31.4304   -53.2725    -3.5711 S             1 RES     \\n       4 C           32.4390   -52.8559    -2.3223 C             1 RES     \\n       5 C           32.8036   -51.5272    -2.5609 C             1 RES     \\n       6 C           33.8136   -50.7375    -1.5682 C             1 RES     \\n       7 C           35.1445   -49.6605    -1.8418 C             1 RES     \\n       8 C           35.8524   -48.8528    -3.1729 C             1 RES     \\n       9 C           35.5013   -47.2541    -3.1824 C             1 RES     \\n      10 C           36.2556   -46.3055    -4.3679 C             1 RES     \\n      11 C           35.8651   -44.6655    -4.3053 C             1 RES     \\n      12 H           30.8125   -51.7160    -5.3535 H             1 RES     \\n      13 H           35.5247   -44.3874    -3.2352 H             1 RES     \\n      14 H           35.0096   -44.4478    -5.0539 H             1 RES     \\n      15 H           36.7963   -44.0394    -4.5897 H             1 RES     \\n      16 H           37.3953   -46.4065    -4.2340 H             1 RES     \\n      17 H           35.9475   -46.7107    -5.4002 H             1 RES     \\n      18 H           34.3604   -47.1199    -3.3140 H             1 RES     \\n      19 H           35.8113   -46.8026    -2.1616 H             1 RES     \\n      20 H           36.9961   -48.9912    -3.1053 H             1 RES     \\n      21 H           35.4631   -49.3484    -4.1378 H             1 RES     \\n      22 H           36.0387   -50.2909    -1.4438 H             1 RES     \\n      23 H           34.9449   -48.8092    -1.0810 H             1 RES     \\n      24 H           34.3318   -51.5466    -0.9022 H             1 RES     \\n      25 H           33.1268   -50.1075    -0.8478 H             1 RES     \\n      26 H           32.4415   -49.9110    -4.0950 H             1 RES     \\n      27 H           32.6193   -53.5511    -1.4970 H             1 RES     \\n@<TRIPOS>BOND\\n@<TRIPOS>SUBSTRUCTURE\\n       1 RES             1 RESIDUE    0 **** ROOT      0\\n\",\"mol2\");\n",
       "\tviewer_12293486011113.setStyle({\"stick\": {\"radius\": 0.2, \"color\": \"grey\"}, \"sphere\": {\"scale\": 0.3, \"colorscheme\": {}}});\n",
       "\tviewer_12293486011113.zoomTo();\n",
       "viewer_12293486011113.render();\n",
       "});\n",
       "</script>"
      ]
     },
     "metadata": {},
     "output_type": "display_data"
    },
    {
     "data": {
      "application/3dmoljs_load.v0": "<div id=\"3dmolviewer_12293548321568\"  style=\"position: relative; width: 640px; height: 480px\">\n        <p id=\"3dmolwarning_12293548321568\" style=\"background-color:#ffcccc;color:black\">You appear to be running in JupyterLab (or JavaScript failed to load for some other reason).  You need to install the 3dmol extension: <br>\n        <tt>jupyter labextension install jupyterlab_3dmol</tt></p>\n        </div>\n<script>\n\nvar loadScriptAsync = function(uri){\n  return new Promise((resolve, reject) => {\n    var tag = document.createElement('script');\n    tag.src = uri;\n    tag.async = true;\n    tag.onload = () => {\n      resolve();\n    };\n  var firstScriptTag = document.getElementsByTagName('script')[0];\n  firstScriptTag.parentNode.insertBefore(tag, firstScriptTag);\n});\n};\n\nif(typeof $3Dmolpromise === 'undefined') {\n$3Dmolpromise = null;\n  $3Dmolpromise = loadScriptAsync('https://3dmol.csb.pitt.edu/build/3Dmol.js');\n}\n\nvar viewer_12293548321568 = null;\nvar warn = document.getElementById(\"3dmolwarning_12293548321568\");\nif(warn) {\n    warn.parentNode.removeChild(warn);\n}\n$3Dmolpromise.then(function() {\nviewer_12293548321568 = $3Dmol.createViewer($(\"#3dmolviewer_12293548321568\"),{backgroundColor:\"white\"});\n\tviewer_12293548321568.addModel(\"@<TRIPOS>MOLECULE\\nRES\\n27 0 1 0 1\\nSMALL\\nNO_CHARGES\\n@<TRIPOS>CRYSIN\\n    9.1748    15.0532    11.0017    90.0000    90.0000    90.0000  1  1\\n@<TRIPOS>ATOM\\n       1 C           32.4625   -55.2834    -1.1261 C             1 RES     \\n       2 C           32.7128   -53.9116    -1.0689 C             1 RES     \\n       3 S           33.2681   -53.6268     0.4672 S             1 RES     \\n       4 C           33.2233   -55.1539     1.1123 C             1 RES     \\n       5 C           32.7464   -55.9799     0.0898 C             1 RES     \\n       6 C           32.5135   -57.5886     0.1778 C             1 RES     \\n       7 C           32.1292   -58.6177     1.5176 C             1 RES     \\n       8 C           30.5504   -58.8635     2.0914 C             1 RES     \\n       9 C           30.3684   -60.0272     3.2261 C             1 RES     \\n      10 C           29.9758   -61.5677     2.6311 C             1 RES     \\n      11 C           31.2805   -62.5762     2.2978 C             1 RES     \\n      12 H           32.5325   -53.2165    -1.8942 H             1 RES     \\n      13 H           32.2235   -61.9382     2.0946 H             1 RES     \\n      14 H           31.0382   -63.2185     1.3657 H             1 RES     \\n      15 H           31.4687   -63.2696     3.2058 H             1 RES     \\n      16 H           29.3749   -61.4284     1.6574 H             1 RES     \\n      17 H           29.3132   -62.0913     3.4161 H             1 RES     \\n      18 H           31.3464   -60.1314     3.8338 H             1 RES     \\n      19 H           29.5174   -59.7220     3.9489 H             1 RES     \\n      20 H           30.2040   -57.8550     2.5424 H             1 RES     \\n      21 H           29.8879   -59.1090     1.1778 H             1 RES     \\n      22 H           32.8306   -58.4357     2.3919 H             1 RES     \\n      23 H           32.4140   -59.6717     1.0980 H             1 RES     \\n      24 H           33.4880   -58.0873    -0.2377 H             1 RES     \\n      25 H           31.6524   -57.8483    -0.5696 H             1 RES     \\n      26 H           32.0514   -55.8110    -2.0528 H             1 RES     \\n      27 H           33.2603   -55.6732     2.0745 H             1 RES     \\n@<TRIPOS>BOND\\n@<TRIPOS>SUBSTRUCTURE\\n       1 RES             1 RESIDUE    0 **** ROOT      0\\n\",\"mol2\");\n\tviewer_12293548321568.setStyle({\"stick\": {\"radius\": 0.2, \"color\": \"grey\"}, \"sphere\": {\"scale\": 0.3, \"colorscheme\": {}}});\n\tviewer_12293548321568.zoomTo();\nviewer_12293548321568.render();\n});\n</script>",
      "text/html": [
       "<div id=\"3dmolviewer_12293548321568\"  style=\"position: relative; width: 640px; height: 480px\">\n",
       "        <p id=\"3dmolwarning_12293548321568\" style=\"background-color:#ffcccc;color:black\">You appear to be running in JupyterLab (or JavaScript failed to load for some other reason).  You need to install the 3dmol extension: <br>\n",
       "        <tt>jupyter labextension install jupyterlab_3dmol</tt></p>\n",
       "        </div>\n",
       "<script>\n",
       "\n",
       "var loadScriptAsync = function(uri){\n",
       "  return new Promise((resolve, reject) => {\n",
       "    var tag = document.createElement('script');\n",
       "    tag.src = uri;\n",
       "    tag.async = true;\n",
       "    tag.onload = () => {\n",
       "      resolve();\n",
       "    };\n",
       "  var firstScriptTag = document.getElementsByTagName('script')[0];\n",
       "  firstScriptTag.parentNode.insertBefore(tag, firstScriptTag);\n",
       "});\n",
       "};\n",
       "\n",
       "if(typeof $3Dmolpromise === 'undefined') {\n",
       "$3Dmolpromise = null;\n",
       "  $3Dmolpromise = loadScriptAsync('https://3dmol.csb.pitt.edu/build/3Dmol.js');\n",
       "}\n",
       "\n",
       "var viewer_12293548321568 = null;\n",
       "var warn = document.getElementById(\"3dmolwarning_12293548321568\");\n",
       "if(warn) {\n",
       "    warn.parentNode.removeChild(warn);\n",
       "}\n",
       "$3Dmolpromise.then(function() {\n",
       "viewer_12293548321568 = $3Dmol.createViewer($(\"#3dmolviewer_12293548321568\"),{backgroundColor:\"white\"});\n",
       "\tviewer_12293548321568.addModel(\"@<TRIPOS>MOLECULE\\nRES\\n27 0 1 0 1\\nSMALL\\nNO_CHARGES\\n@<TRIPOS>CRYSIN\\n    9.1748    15.0532    11.0017    90.0000    90.0000    90.0000  1  1\\n@<TRIPOS>ATOM\\n       1 C           32.4625   -55.2834    -1.1261 C             1 RES     \\n       2 C           32.7128   -53.9116    -1.0689 C             1 RES     \\n       3 S           33.2681   -53.6268     0.4672 S             1 RES     \\n       4 C           33.2233   -55.1539     1.1123 C             1 RES     \\n       5 C           32.7464   -55.9799     0.0898 C             1 RES     \\n       6 C           32.5135   -57.5886     0.1778 C             1 RES     \\n       7 C           32.1292   -58.6177     1.5176 C             1 RES     \\n       8 C           30.5504   -58.8635     2.0914 C             1 RES     \\n       9 C           30.3684   -60.0272     3.2261 C             1 RES     \\n      10 C           29.9758   -61.5677     2.6311 C             1 RES     \\n      11 C           31.2805   -62.5762     2.2978 C             1 RES     \\n      12 H           32.5325   -53.2165    -1.8942 H             1 RES     \\n      13 H           32.2235   -61.9382     2.0946 H             1 RES     \\n      14 H           31.0382   -63.2185     1.3657 H             1 RES     \\n      15 H           31.4687   -63.2696     3.2058 H             1 RES     \\n      16 H           29.3749   -61.4284     1.6574 H             1 RES     \\n      17 H           29.3132   -62.0913     3.4161 H             1 RES     \\n      18 H           31.3464   -60.1314     3.8338 H             1 RES     \\n      19 H           29.5174   -59.7220     3.9489 H             1 RES     \\n      20 H           30.2040   -57.8550     2.5424 H             1 RES     \\n      21 H           29.8879   -59.1090     1.1778 H             1 RES     \\n      22 H           32.8306   -58.4357     2.3919 H             1 RES     \\n      23 H           32.4140   -59.6717     1.0980 H             1 RES     \\n      24 H           33.4880   -58.0873    -0.2377 H             1 RES     \\n      25 H           31.6524   -57.8483    -0.5696 H             1 RES     \\n      26 H           32.0514   -55.8110    -2.0528 H             1 RES     \\n      27 H           33.2603   -55.6732     2.0745 H             1 RES     \\n@<TRIPOS>BOND\\n@<TRIPOS>SUBSTRUCTURE\\n       1 RES             1 RESIDUE    0 **** ROOT      0\\n\",\"mol2\");\n",
       "\tviewer_12293548321568.setStyle({\"stick\": {\"radius\": 0.2, \"color\": \"grey\"}, \"sphere\": {\"scale\": 0.3, \"colorscheme\": {}}});\n",
       "\tviewer_12293548321568.zoomTo();\n",
       "viewer_12293548321568.render();\n",
       "});\n",
       "</script>"
      ]
     },
     "metadata": {},
     "output_type": "display_data"
    },
    {
     "data": {
      "application/3dmoljs_load.v0": "<div id=\"3dmolviewer_12293591968295\"  style=\"position: relative; width: 640px; height: 480px\">\n        <p id=\"3dmolwarning_12293591968295\" style=\"background-color:#ffcccc;color:black\">You appear to be running in JupyterLab (or JavaScript failed to load for some other reason).  You need to install the 3dmol extension: <br>\n        <tt>jupyter labextension install jupyterlab_3dmol</tt></p>\n        </div>\n<script>\n\nvar loadScriptAsync = function(uri){\n  return new Promise((resolve, reject) => {\n    var tag = document.createElement('script');\n    tag.src = uri;\n    tag.async = true;\n    tag.onload = () => {\n      resolve();\n    };\n  var firstScriptTag = document.getElementsByTagName('script')[0];\n  firstScriptTag.parentNode.insertBefore(tag, firstScriptTag);\n});\n};\n\nif(typeof $3Dmolpromise === 'undefined') {\n$3Dmolpromise = null;\n  $3Dmolpromise = loadScriptAsync('https://3dmol.csb.pitt.edu/build/3Dmol.js');\n}\n\nvar viewer_12293591968295 = null;\nvar warn = document.getElementById(\"3dmolwarning_12293591968295\");\nif(warn) {\n    warn.parentNode.removeChild(warn);\n}\n$3Dmolpromise.then(function() {\nviewer_12293591968295 = $3Dmol.createViewer($(\"#3dmolviewer_12293591968295\"),{backgroundColor:\"white\"});\n\tviewer_12293591968295.addModel(\"@<TRIPOS>MOLECULE\\nRES\\n27 0 1 0 1\\nSMALL\\nNO_CHARGES\\n@<TRIPOS>CRYSIN\\n   13.3923    10.3942    11.0516    90.0000    90.0000    90.0000  1  1\\n@<TRIPOS>ATOM\\n       1 C           34.6211   -55.9552     2.5822 C             1 RES     \\n       2 C           33.2945   -56.1549     2.9669 C             1 RES     \\n       3 S           33.3694   -56.9947     4.3946 S             1 RES     \\n       4 C           35.0092   -57.1436     4.5931 C             1 RES     \\n       5 C           35.5809   -56.5059     3.4877 C             1 RES     \\n       6 C           37.1745   -56.3809     3.2597 C             1 RES     \\n       7 C           37.6805   -54.7770     2.9969 C             1 RES     \\n       8 C           39.3024   -54.3515     2.7458 C             1 RES     \\n       9 C           39.5186   -53.4160     1.4277 C             1 RES     \\n      10 C           40.0693   -54.0999    -0.0158 C             1 RES     \\n      11 C           40.8754   -55.5654     0.1365 C             1 RES     \\n      12 H           33.2576   -55.6356     2.0048 H             1 RES     \\n      13 H           41.6498   -55.4889     0.9940 H             1 RES     \\n      14 H           41.4255   -55.7988    -0.8553 H             1 RES     \\n      15 H           40.1156   -56.4059     0.3674 H             1 RES     \\n      16 H           39.1545   -54.2688    -0.6982 H             1 RES     \\n      17 H           40.7837   -53.3459    -0.5168 H             1 RES     \\n      18 H           38.5161   -52.8909     1.1732 H             1 RES     \\n      19 H           40.2866   -52.5892     1.7021 H             1 RES     \\n      20 H           39.9096   -55.3288     2.6563 H             1 RES     \\n      21 H           39.6635   -53.7799     3.6847 H             1 RES     \\n      22 H           37.1160   -54.4124     2.0605 H             1 RES     \\n      23 H           37.3231   -54.1724     3.9143 H             1 RES     \\n      24 H           37.7605   -56.7392     4.1952 H             1 RES     \\n      25 H           37.5023   -57.0164     2.3477 H             1 RES     \\n      26 H           35.0939   -54.9596     2.1524 H             1 RES     \\n      27 H           35.3667   -57.9833     5.1963 H             1 RES     \\n@<TRIPOS>BOND\\n@<TRIPOS>SUBSTRUCTURE\\n       1 RES             1 RESIDUE    0 **** ROOT      0\\n\",\"mol2\");\n\tviewer_12293591968295.setStyle({\"stick\": {\"radius\": 0.2, \"color\": \"grey\"}, \"sphere\": {\"scale\": 0.3, \"colorscheme\": {}}});\n\tviewer_12293591968295.zoomTo();\nviewer_12293591968295.render();\n});\n</script>",
      "text/html": [
       "<div id=\"3dmolviewer_12293591968295\"  style=\"position: relative; width: 640px; height: 480px\">\n",
       "        <p id=\"3dmolwarning_12293591968295\" style=\"background-color:#ffcccc;color:black\">You appear to be running in JupyterLab (or JavaScript failed to load for some other reason).  You need to install the 3dmol extension: <br>\n",
       "        <tt>jupyter labextension install jupyterlab_3dmol</tt></p>\n",
       "        </div>\n",
       "<script>\n",
       "\n",
       "var loadScriptAsync = function(uri){\n",
       "  return new Promise((resolve, reject) => {\n",
       "    var tag = document.createElement('script');\n",
       "    tag.src = uri;\n",
       "    tag.async = true;\n",
       "    tag.onload = () => {\n",
       "      resolve();\n",
       "    };\n",
       "  var firstScriptTag = document.getElementsByTagName('script')[0];\n",
       "  firstScriptTag.parentNode.insertBefore(tag, firstScriptTag);\n",
       "});\n",
       "};\n",
       "\n",
       "if(typeof $3Dmolpromise === 'undefined') {\n",
       "$3Dmolpromise = null;\n",
       "  $3Dmolpromise = loadScriptAsync('https://3dmol.csb.pitt.edu/build/3Dmol.js');\n",
       "}\n",
       "\n",
       "var viewer_12293591968295 = null;\n",
       "var warn = document.getElementById(\"3dmolwarning_12293591968295\");\n",
       "if(warn) {\n",
       "    warn.parentNode.removeChild(warn);\n",
       "}\n",
       "$3Dmolpromise.then(function() {\n",
       "viewer_12293591968295 = $3Dmol.createViewer($(\"#3dmolviewer_12293591968295\"),{backgroundColor:\"white\"});\n",
       "\tviewer_12293591968295.addModel(\"@<TRIPOS>MOLECULE\\nRES\\n27 0 1 0 1\\nSMALL\\nNO_CHARGES\\n@<TRIPOS>CRYSIN\\n   13.3923    10.3942    11.0516    90.0000    90.0000    90.0000  1  1\\n@<TRIPOS>ATOM\\n       1 C           34.6211   -55.9552     2.5822 C             1 RES     \\n       2 C           33.2945   -56.1549     2.9669 C             1 RES     \\n       3 S           33.3694   -56.9947     4.3946 S             1 RES     \\n       4 C           35.0092   -57.1436     4.5931 C             1 RES     \\n       5 C           35.5809   -56.5059     3.4877 C             1 RES     \\n       6 C           37.1745   -56.3809     3.2597 C             1 RES     \\n       7 C           37.6805   -54.7770     2.9969 C             1 RES     \\n       8 C           39.3024   -54.3515     2.7458 C             1 RES     \\n       9 C           39.5186   -53.4160     1.4277 C             1 RES     \\n      10 C           40.0693   -54.0999    -0.0158 C             1 RES     \\n      11 C           40.8754   -55.5654     0.1365 C             1 RES     \\n      12 H           33.2576   -55.6356     2.0048 H             1 RES     \\n      13 H           41.6498   -55.4889     0.9940 H             1 RES     \\n      14 H           41.4255   -55.7988    -0.8553 H             1 RES     \\n      15 H           40.1156   -56.4059     0.3674 H             1 RES     \\n      16 H           39.1545   -54.2688    -0.6982 H             1 RES     \\n      17 H           40.7837   -53.3459    -0.5168 H             1 RES     \\n      18 H           38.5161   -52.8909     1.1732 H             1 RES     \\n      19 H           40.2866   -52.5892     1.7021 H             1 RES     \\n      20 H           39.9096   -55.3288     2.6563 H             1 RES     \\n      21 H           39.6635   -53.7799     3.6847 H             1 RES     \\n      22 H           37.1160   -54.4124     2.0605 H             1 RES     \\n      23 H           37.3231   -54.1724     3.9143 H             1 RES     \\n      24 H           37.7605   -56.7392     4.1952 H             1 RES     \\n      25 H           37.5023   -57.0164     2.3477 H             1 RES     \\n      26 H           35.0939   -54.9596     2.1524 H             1 RES     \\n      27 H           35.3667   -57.9833     5.1963 H             1 RES     \\n@<TRIPOS>BOND\\n@<TRIPOS>SUBSTRUCTURE\\n       1 RES             1 RESIDUE    0 **** ROOT      0\\n\",\"mol2\");\n",
       "\tviewer_12293591968295.setStyle({\"stick\": {\"radius\": 0.2, \"color\": \"grey\"}, \"sphere\": {\"scale\": 0.3, \"colorscheme\": {}}});\n",
       "\tviewer_12293591968295.zoomTo();\n",
       "viewer_12293591968295.render();\n",
       "});\n",
       "</script>"
      ]
     },
     "metadata": {},
     "output_type": "display_data"
    },
    {
     "data": {
      "application/3dmoljs_load.v0": "<div id=\"3dmolviewer_1229365370954\"  style=\"position: relative; width: 640px; height: 480px\">\n        <p id=\"3dmolwarning_1229365370954\" style=\"background-color:#ffcccc;color:black\">You appear to be running in JupyterLab (or JavaScript failed to load for some other reason).  You need to install the 3dmol extension: <br>\n        <tt>jupyter labextension install jupyterlab_3dmol</tt></p>\n        </div>\n<script>\n\nvar loadScriptAsync = function(uri){\n  return new Promise((resolve, reject) => {\n    var tag = document.createElement('script');\n    tag.src = uri;\n    tag.async = true;\n    tag.onload = () => {\n      resolve();\n    };\n  var firstScriptTag = document.getElementsByTagName('script')[0];\n  firstScriptTag.parentNode.insertBefore(tag, firstScriptTag);\n});\n};\n\nif(typeof $3Dmolpromise === 'undefined') {\n$3Dmolpromise = null;\n  $3Dmolpromise = loadScriptAsync('https://3dmol.csb.pitt.edu/build/3Dmol.js');\n}\n\nvar viewer_1229365370954 = null;\nvar warn = document.getElementById(\"3dmolwarning_1229365370954\");\nif(warn) {\n    warn.parentNode.removeChild(warn);\n}\n$3Dmolpromise.then(function() {\nviewer_1229365370954 = $3Dmol.createViewer($(\"#3dmolviewer_1229365370954\"),{backgroundColor:\"white\"});\n\tviewer_1229365370954.addModel(\"@<TRIPOS>MOLECULE\\nRES\\n27 0 1 0 1\\nSMALL\\nNO_CHARGES\\n@<TRIPOS>CRYSIN\\n   12.5216    15.2040    11.2310    90.0000    90.0000    90.0000  1  1\\n@<TRIPOS>ATOM\\n       1 C           34.8237   -59.4193     6.1344 C             1 RES     \\n       2 C           35.5474   -58.4079     5.5013 C             1 RES     \\n       3 S           37.1390   -58.7212     5.8446 S             1 RES     \\n       4 C           37.0035   -60.0905     6.7703 C             1 RES     \\n       5 C           35.6334   -60.3603     6.8438 C             1 RES     \\n       6 C           35.0627   -61.6408     7.6617 C             1 RES     \\n       7 C           33.7292   -61.5320     8.7310 C             1 RES     \\n       8 C           33.3471   -62.9834     9.5653 C             1 RES     \\n       9 C           32.2476   -64.1331     9.1714 C             1 RES     \\n      10 C           32.5793   -65.5851    10.0061 C             1 RES     \\n      11 C           31.5304   -66.8912     9.8273 C             1 RES     \\n      12 H           35.1899   -57.5681     4.8980 H             1 RES     \\n      13 H           31.4953   -67.2150     8.7181 H             1 RES     \\n      14 H           30.4732   -66.5834    10.1811 H             1 RES     \\n      15 H           31.9138   -67.7722    10.4754 H             1 RES     \\n      16 H           33.6122   -65.9395     9.6281 H             1 RES     \\n      17 H           32.6496   -65.3387    11.1290 H             1 RES     \\n      18 H           32.2523   -64.3412     8.0404 H             1 RES     \\n      19 H           31.1921   -63.7914     9.4962 H             1 RES     \\n      20 H           33.0386   -62.6069    10.6235 H             1 RES     \\n      21 H           34.3691   -63.5240     9.6682 H             1 RES     \\n      22 H           32.8097   -61.2422     8.1037 H             1 RES     \\n      23 H           33.9560   -60.7192     9.5085 H             1 RES     \\n      24 H           35.9266   -62.0686     8.3253 H             1 RES     \\n      25 H           34.7717   -62.4685     6.8997 H             1 RES     \\n      26 H           33.6854   -59.4998     6.1030 H             1 RES     \\n      27 H           37.9948   -60.5931     7.0702 H             1 RES     \\n@<TRIPOS>BOND\\n@<TRIPOS>SUBSTRUCTURE\\n       1 RES             1 RESIDUE    0 **** ROOT      0\\n\",\"mol2\");\n\tviewer_1229365370954.setStyle({\"stick\": {\"radius\": 0.2, \"color\": \"grey\"}, \"sphere\": {\"scale\": 0.3, \"colorscheme\": {}}});\n\tviewer_1229365370954.zoomTo();\nviewer_1229365370954.render();\n});\n</script>",
      "text/html": [
       "<div id=\"3dmolviewer_1229365370954\"  style=\"position: relative; width: 640px; height: 480px\">\n",
       "        <p id=\"3dmolwarning_1229365370954\" style=\"background-color:#ffcccc;color:black\">You appear to be running in JupyterLab (or JavaScript failed to load for some other reason).  You need to install the 3dmol extension: <br>\n",
       "        <tt>jupyter labextension install jupyterlab_3dmol</tt></p>\n",
       "        </div>\n",
       "<script>\n",
       "\n",
       "var loadScriptAsync = function(uri){\n",
       "  return new Promise((resolve, reject) => {\n",
       "    var tag = document.createElement('script');\n",
       "    tag.src = uri;\n",
       "    tag.async = true;\n",
       "    tag.onload = () => {\n",
       "      resolve();\n",
       "    };\n",
       "  var firstScriptTag = document.getElementsByTagName('script')[0];\n",
       "  firstScriptTag.parentNode.insertBefore(tag, firstScriptTag);\n",
       "});\n",
       "};\n",
       "\n",
       "if(typeof $3Dmolpromise === 'undefined') {\n",
       "$3Dmolpromise = null;\n",
       "  $3Dmolpromise = loadScriptAsync('https://3dmol.csb.pitt.edu/build/3Dmol.js');\n",
       "}\n",
       "\n",
       "var viewer_1229365370954 = null;\n",
       "var warn = document.getElementById(\"3dmolwarning_1229365370954\");\n",
       "if(warn) {\n",
       "    warn.parentNode.removeChild(warn);\n",
       "}\n",
       "$3Dmolpromise.then(function() {\n",
       "viewer_1229365370954 = $3Dmol.createViewer($(\"#3dmolviewer_1229365370954\"),{backgroundColor:\"white\"});\n",
       "\tviewer_1229365370954.addModel(\"@<TRIPOS>MOLECULE\\nRES\\n27 0 1 0 1\\nSMALL\\nNO_CHARGES\\n@<TRIPOS>CRYSIN\\n   12.5216    15.2040    11.2310    90.0000    90.0000    90.0000  1  1\\n@<TRIPOS>ATOM\\n       1 C           34.8237   -59.4193     6.1344 C             1 RES     \\n       2 C           35.5474   -58.4079     5.5013 C             1 RES     \\n       3 S           37.1390   -58.7212     5.8446 S             1 RES     \\n       4 C           37.0035   -60.0905     6.7703 C             1 RES     \\n       5 C           35.6334   -60.3603     6.8438 C             1 RES     \\n       6 C           35.0627   -61.6408     7.6617 C             1 RES     \\n       7 C           33.7292   -61.5320     8.7310 C             1 RES     \\n       8 C           33.3471   -62.9834     9.5653 C             1 RES     \\n       9 C           32.2476   -64.1331     9.1714 C             1 RES     \\n      10 C           32.5793   -65.5851    10.0061 C             1 RES     \\n      11 C           31.5304   -66.8912     9.8273 C             1 RES     \\n      12 H           35.1899   -57.5681     4.8980 H             1 RES     \\n      13 H           31.4953   -67.2150     8.7181 H             1 RES     \\n      14 H           30.4732   -66.5834    10.1811 H             1 RES     \\n      15 H           31.9138   -67.7722    10.4754 H             1 RES     \\n      16 H           33.6122   -65.9395     9.6281 H             1 RES     \\n      17 H           32.6496   -65.3387    11.1290 H             1 RES     \\n      18 H           32.2523   -64.3412     8.0404 H             1 RES     \\n      19 H           31.1921   -63.7914     9.4962 H             1 RES     \\n      20 H           33.0386   -62.6069    10.6235 H             1 RES     \\n      21 H           34.3691   -63.5240     9.6682 H             1 RES     \\n      22 H           32.8097   -61.2422     8.1037 H             1 RES     \\n      23 H           33.9560   -60.7192     9.5085 H             1 RES     \\n      24 H           35.9266   -62.0686     8.3253 H             1 RES     \\n      25 H           34.7717   -62.4685     6.8997 H             1 RES     \\n      26 H           33.6854   -59.4998     6.1030 H             1 RES     \\n      27 H           37.9948   -60.5931     7.0702 H             1 RES     \\n@<TRIPOS>BOND\\n@<TRIPOS>SUBSTRUCTURE\\n       1 RES             1 RESIDUE    0 **** ROOT      0\\n\",\"mol2\");\n",
       "\tviewer_1229365370954.setStyle({\"stick\": {\"radius\": 0.2, \"color\": \"grey\"}, \"sphere\": {\"scale\": 0.3, \"colorscheme\": {}}});\n",
       "\tviewer_1229365370954.zoomTo();\n",
       "viewer_1229365370954.render();\n",
       "});\n",
       "</script>"
      ]
     },
     "metadata": {},
     "output_type": "display_data"
    },
    {
     "data": {
      "application/3dmoljs_load.v0": "<div id=\"3dmolviewer_12293728783892\"  style=\"position: relative; width: 640px; height: 480px\">\n        <p id=\"3dmolwarning_12293728783892\" style=\"background-color:#ffcccc;color:black\">You appear to be running in JupyterLab (or JavaScript failed to load for some other reason).  You need to install the 3dmol extension: <br>\n        <tt>jupyter labextension install jupyterlab_3dmol</tt></p>\n        </div>\n<script>\n\nvar loadScriptAsync = function(uri){\n  return new Promise((resolve, reject) => {\n    var tag = document.createElement('script');\n    tag.src = uri;\n    tag.async = true;\n    tag.onload = () => {\n      resolve();\n    };\n  var firstScriptTag = document.getElementsByTagName('script')[0];\n  firstScriptTag.parentNode.insertBefore(tag, firstScriptTag);\n});\n};\n\nif(typeof $3Dmolpromise === 'undefined') {\n$3Dmolpromise = null;\n  $3Dmolpromise = loadScriptAsync('https://3dmol.csb.pitt.edu/build/3Dmol.js');\n}\n\nvar viewer_12293728783892 = null;\nvar warn = document.getElementById(\"3dmolwarning_12293728783892\");\nif(warn) {\n    warn.parentNode.removeChild(warn);\n}\n$3Dmolpromise.then(function() {\nviewer_12293728783892 = $3Dmol.createViewer($(\"#3dmolviewer_12293728783892\"),{backgroundColor:\"white\"});\n\tviewer_12293728783892.addModel(\"@<TRIPOS>MOLECULE\\nRES\\n27 0 1 0 1\\nSMALL\\nNO_CHARGES\\n@<TRIPOS>CRYSIN\\n   11.3198    12.2593    12.8662    90.0000    90.0000    90.0000  1  1\\n@<TRIPOS>ATOM\\n       1 C           -5.6659   -60.1119   -26.6843 C             1 RES     \\n       2 C           -6.7851   -60.5697   -27.3812 C             1 RES     \\n       3 S           -7.9875   -59.4757   -27.0549 S             1 RES     \\n       4 C           -7.1927   -58.4132   -26.0601 C             1 RES     \\n       5 C           -5.8899   -58.9083   -25.9458 C             1 RES     \\n       6 C           -4.6311   -58.3272   -25.1185 C             1 RES     \\n       7 C           -4.0887   -56.7311   -25.3444 C             1 RES     \\n       8 C           -4.7633   -55.4569   -24.4839 C             1 RES     \\n       9 C           -5.0611   -55.6874   -22.9014 C             1 RES     \\n      10 C           -3.9171   -55.0726   -21.8176 C             1 RES     \\n      11 C           -2.6793   -56.1038   -21.3401 C             1 RES     \\n      12 H           -7.0314   -61.4000   -28.0496 H             1 RES     \\n      13 H           -2.8547   -57.1594   -21.7778 H             1 RES     \\n      14 H           -2.6605   -56.1615   -20.1833 H             1 RES     \\n      15 H           -1.6677   -55.6877   -21.7197 H             1 RES     \\n      16 H           -3.4385   -54.1407   -22.2995 H             1 RES     \\n      17 H           -4.4909   -54.7524   -20.8675 H             1 RES     \\n      18 H           -5.1595   -56.8153   -22.6730 H             1 RES     \\n      19 H           -6.0713   -55.1819   -22.6393 H             1 RES     \\n      20 H           -5.7193   -55.1313   -25.0388 H             1 RES     \\n      21 H           -4.0035   -54.5788   -24.5782 H             1 RES     \\n      22 H           -2.9579   -56.7364   -25.1036 H             1 RES     \\n      23 H           -4.2265   -56.4940   -26.4676 H             1 RES     \\n      24 H           -4.8444   -58.4552   -23.9800 H             1 RES     \\n      25 H           -3.6894   -58.9812   -25.3552 H             1 RES     \\n      26 H           -4.6527   -60.6369   -26.7249 H             1 RES     \\n      27 H           -7.5294   -57.4734   -25.6125 H             1 RES     \\n@<TRIPOS>BOND\\n@<TRIPOS>SUBSTRUCTURE\\n       1 RES             1 RESIDUE    0 **** ROOT      0\\n\",\"mol2\");\n\tviewer_12293728783892.setStyle({\"stick\": {\"radius\": 0.2, \"color\": \"grey\"}, \"sphere\": {\"scale\": 0.3, \"colorscheme\": {}}});\n\tviewer_12293728783892.zoomTo();\nviewer_12293728783892.render();\n});\n</script>",
      "text/html": [
       "<div id=\"3dmolviewer_12293728783892\"  style=\"position: relative; width: 640px; height: 480px\">\n",
       "        <p id=\"3dmolwarning_12293728783892\" style=\"background-color:#ffcccc;color:black\">You appear to be running in JupyterLab (or JavaScript failed to load for some other reason).  You need to install the 3dmol extension: <br>\n",
       "        <tt>jupyter labextension install jupyterlab_3dmol</tt></p>\n",
       "        </div>\n",
       "<script>\n",
       "\n",
       "var loadScriptAsync = function(uri){\n",
       "  return new Promise((resolve, reject) => {\n",
       "    var tag = document.createElement('script');\n",
       "    tag.src = uri;\n",
       "    tag.async = true;\n",
       "    tag.onload = () => {\n",
       "      resolve();\n",
       "    };\n",
       "  var firstScriptTag = document.getElementsByTagName('script')[0];\n",
       "  firstScriptTag.parentNode.insertBefore(tag, firstScriptTag);\n",
       "});\n",
       "};\n",
       "\n",
       "if(typeof $3Dmolpromise === 'undefined') {\n",
       "$3Dmolpromise = null;\n",
       "  $3Dmolpromise = loadScriptAsync('https://3dmol.csb.pitt.edu/build/3Dmol.js');\n",
       "}\n",
       "\n",
       "var viewer_12293728783892 = null;\n",
       "var warn = document.getElementById(\"3dmolwarning_12293728783892\");\n",
       "if(warn) {\n",
       "    warn.parentNode.removeChild(warn);\n",
       "}\n",
       "$3Dmolpromise.then(function() {\n",
       "viewer_12293728783892 = $3Dmol.createViewer($(\"#3dmolviewer_12293728783892\"),{backgroundColor:\"white\"});\n",
       "\tviewer_12293728783892.addModel(\"@<TRIPOS>MOLECULE\\nRES\\n27 0 1 0 1\\nSMALL\\nNO_CHARGES\\n@<TRIPOS>CRYSIN\\n   11.3198    12.2593    12.8662    90.0000    90.0000    90.0000  1  1\\n@<TRIPOS>ATOM\\n       1 C           -5.6659   -60.1119   -26.6843 C             1 RES     \\n       2 C           -6.7851   -60.5697   -27.3812 C             1 RES     \\n       3 S           -7.9875   -59.4757   -27.0549 S             1 RES     \\n       4 C           -7.1927   -58.4132   -26.0601 C             1 RES     \\n       5 C           -5.8899   -58.9083   -25.9458 C             1 RES     \\n       6 C           -4.6311   -58.3272   -25.1185 C             1 RES     \\n       7 C           -4.0887   -56.7311   -25.3444 C             1 RES     \\n       8 C           -4.7633   -55.4569   -24.4839 C             1 RES     \\n       9 C           -5.0611   -55.6874   -22.9014 C             1 RES     \\n      10 C           -3.9171   -55.0726   -21.8176 C             1 RES     \\n      11 C           -2.6793   -56.1038   -21.3401 C             1 RES     \\n      12 H           -7.0314   -61.4000   -28.0496 H             1 RES     \\n      13 H           -2.8547   -57.1594   -21.7778 H             1 RES     \\n      14 H           -2.6605   -56.1615   -20.1833 H             1 RES     \\n      15 H           -1.6677   -55.6877   -21.7197 H             1 RES     \\n      16 H           -3.4385   -54.1407   -22.2995 H             1 RES     \\n      17 H           -4.4909   -54.7524   -20.8675 H             1 RES     \\n      18 H           -5.1595   -56.8153   -22.6730 H             1 RES     \\n      19 H           -6.0713   -55.1819   -22.6393 H             1 RES     \\n      20 H           -5.7193   -55.1313   -25.0388 H             1 RES     \\n      21 H           -4.0035   -54.5788   -24.5782 H             1 RES     \\n      22 H           -2.9579   -56.7364   -25.1036 H             1 RES     \\n      23 H           -4.2265   -56.4940   -26.4676 H             1 RES     \\n      24 H           -4.8444   -58.4552   -23.9800 H             1 RES     \\n      25 H           -3.6894   -58.9812   -25.3552 H             1 RES     \\n      26 H           -4.6527   -60.6369   -26.7249 H             1 RES     \\n      27 H           -7.5294   -57.4734   -25.6125 H             1 RES     \\n@<TRIPOS>BOND\\n@<TRIPOS>SUBSTRUCTURE\\n       1 RES             1 RESIDUE    0 **** ROOT      0\\n\",\"mol2\");\n",
       "\tviewer_12293728783892.setStyle({\"stick\": {\"radius\": 0.2, \"color\": \"grey\"}, \"sphere\": {\"scale\": 0.3, \"colorscheme\": {}}});\n",
       "\tviewer_12293728783892.zoomTo();\n",
       "viewer_12293728783892.render();\n",
       "});\n",
       "</script>"
      ]
     },
     "metadata": {},
     "output_type": "display_data"
    },
    {
     "data": {
      "application/3dmoljs_load.v0": "<div id=\"3dmolviewer_12293781630058\"  style=\"position: relative; width: 640px; height: 480px\">\n        <p id=\"3dmolwarning_12293781630058\" style=\"background-color:#ffcccc;color:black\">You appear to be running in JupyterLab (or JavaScript failed to load for some other reason).  You need to install the 3dmol extension: <br>\n        <tt>jupyter labextension install jupyterlab_3dmol</tt></p>\n        </div>\n<script>\n\nvar loadScriptAsync = function(uri){\n  return new Promise((resolve, reject) => {\n    var tag = document.createElement('script');\n    tag.src = uri;\n    tag.async = true;\n    tag.onload = () => {\n      resolve();\n    };\n  var firstScriptTag = document.getElementsByTagName('script')[0];\n  firstScriptTag.parentNode.insertBefore(tag, firstScriptTag);\n});\n};\n\nif(typeof $3Dmolpromise === 'undefined') {\n$3Dmolpromise = null;\n  $3Dmolpromise = loadScriptAsync('https://3dmol.csb.pitt.edu/build/3Dmol.js');\n}\n\nvar viewer_12293781630058 = null;\nvar warn = document.getElementById(\"3dmolwarning_12293781630058\");\nif(warn) {\n    warn.parentNode.removeChild(warn);\n}\n$3Dmolpromise.then(function() {\nviewer_12293781630058 = $3Dmol.createViewer($(\"#3dmolviewer_12293781630058\"),{backgroundColor:\"white\"});\n\tviewer_12293781630058.addModel(\"@<TRIPOS>MOLECULE\\nRES\\n27 0 1 0 1\\nSMALL\\nNO_CHARGES\\n@<TRIPOS>CRYSIN\\n   11.5733    10.1290    13.2413    90.0000    90.0000    90.0000  1  1\\n@<TRIPOS>ATOM\\n       1 C          -10.2214   -53.5582   -23.1015 C             1 RES     \\n       2 C          -10.8109   -54.0079   -24.2840 C             1 RES     \\n       3 S          -12.2866   -53.2555   -24.3567 S             1 RES     \\n       4 C          -12.2596   -52.3616   -22.9600 C             1 RES     \\n       5 C          -11.0274   -52.6391   -22.3600 C             1 RES     \\n       6 C          -10.3611   -52.0944   -21.0025 C             1 RES     \\n       7 C           -8.7560   -51.6118   -21.3567 C             1 RES     \\n       8 C           -7.6284   -51.0610   -20.2348 C             1 RES     \\n       9 C           -7.7341   -51.6089   -18.7090 C             1 RES     \\n      10 C           -8.6425   -50.6639   -17.6512 C             1 RES     \\n      11 C          -10.2292   -51.1702   -17.4405 C             1 RES     \\n      12 H          -10.2088   -54.7130   -24.8646 H             1 RES     \\n      13 H          -10.7785   -51.2059   -18.4528 H             1 RES     \\n      14 H          -10.7702   -50.4262   -16.7363 H             1 RES     \\n      15 H          -10.2273   -52.2234   -16.9585 H             1 RES     \\n      16 H           -8.1196   -50.6727   -16.6233 H             1 RES     \\n      17 H           -8.6642   -49.5840   -18.0568 H             1 RES     \\n      18 H           -6.6671   -51.6922   -18.2637 H             1 RES     \\n      19 H           -8.2038   -52.6681   -18.7179 H             1 RES     \\n      20 H           -7.6957   -49.9043   -20.2297 H             1 RES     \\n      21 H           -6.5847   -51.3546   -20.6519 H             1 RES     \\n      22 H           -8.2319   -52.5097   -21.8595 H             1 RES     \\n      23 H           -8.8684   -50.7664   -22.1391 H             1 RES     \\n      24 H          -10.9386   -51.1726   -20.6066 H             1 RES     \\n      25 H          -10.3300   -52.9233   -20.1956 H             1 RES     \\n      26 H           -9.3973   -54.1343   -22.5496 H             1 RES     \\n      27 H          -13.1581   -52.0060   -22.4469 H             1 RES     \\n@<TRIPOS>BOND\\n@<TRIPOS>SUBSTRUCTURE\\n       1 RES             1 RESIDUE    0 **** ROOT      0\\n\",\"mol2\");\n\tviewer_12293781630058.setStyle({\"stick\": {\"radius\": 0.2, \"color\": \"grey\"}, \"sphere\": {\"scale\": 0.3, \"colorscheme\": {}}});\n\tviewer_12293781630058.zoomTo();\nviewer_12293781630058.render();\n});\n</script>",
      "text/html": [
       "<div id=\"3dmolviewer_12293781630058\"  style=\"position: relative; width: 640px; height: 480px\">\n",
       "        <p id=\"3dmolwarning_12293781630058\" style=\"background-color:#ffcccc;color:black\">You appear to be running in JupyterLab (or JavaScript failed to load for some other reason).  You need to install the 3dmol extension: <br>\n",
       "        <tt>jupyter labextension install jupyterlab_3dmol</tt></p>\n",
       "        </div>\n",
       "<script>\n",
       "\n",
       "var loadScriptAsync = function(uri){\n",
       "  return new Promise((resolve, reject) => {\n",
       "    var tag = document.createElement('script');\n",
       "    tag.src = uri;\n",
       "    tag.async = true;\n",
       "    tag.onload = () => {\n",
       "      resolve();\n",
       "    };\n",
       "  var firstScriptTag = document.getElementsByTagName('script')[0];\n",
       "  firstScriptTag.parentNode.insertBefore(tag, firstScriptTag);\n",
       "});\n",
       "};\n",
       "\n",
       "if(typeof $3Dmolpromise === 'undefined') {\n",
       "$3Dmolpromise = null;\n",
       "  $3Dmolpromise = loadScriptAsync('https://3dmol.csb.pitt.edu/build/3Dmol.js');\n",
       "}\n",
       "\n",
       "var viewer_12293781630058 = null;\n",
       "var warn = document.getElementById(\"3dmolwarning_12293781630058\");\n",
       "if(warn) {\n",
       "    warn.parentNode.removeChild(warn);\n",
       "}\n",
       "$3Dmolpromise.then(function() {\n",
       "viewer_12293781630058 = $3Dmol.createViewer($(\"#3dmolviewer_12293781630058\"),{backgroundColor:\"white\"});\n",
       "\tviewer_12293781630058.addModel(\"@<TRIPOS>MOLECULE\\nRES\\n27 0 1 0 1\\nSMALL\\nNO_CHARGES\\n@<TRIPOS>CRYSIN\\n   11.5733    10.1290    13.2413    90.0000    90.0000    90.0000  1  1\\n@<TRIPOS>ATOM\\n       1 C          -10.2214   -53.5582   -23.1015 C             1 RES     \\n       2 C          -10.8109   -54.0079   -24.2840 C             1 RES     \\n       3 S          -12.2866   -53.2555   -24.3567 S             1 RES     \\n       4 C          -12.2596   -52.3616   -22.9600 C             1 RES     \\n       5 C          -11.0274   -52.6391   -22.3600 C             1 RES     \\n       6 C          -10.3611   -52.0944   -21.0025 C             1 RES     \\n       7 C           -8.7560   -51.6118   -21.3567 C             1 RES     \\n       8 C           -7.6284   -51.0610   -20.2348 C             1 RES     \\n       9 C           -7.7341   -51.6089   -18.7090 C             1 RES     \\n      10 C           -8.6425   -50.6639   -17.6512 C             1 RES     \\n      11 C          -10.2292   -51.1702   -17.4405 C             1 RES     \\n      12 H          -10.2088   -54.7130   -24.8646 H             1 RES     \\n      13 H          -10.7785   -51.2059   -18.4528 H             1 RES     \\n      14 H          -10.7702   -50.4262   -16.7363 H             1 RES     \\n      15 H          -10.2273   -52.2234   -16.9585 H             1 RES     \\n      16 H           -8.1196   -50.6727   -16.6233 H             1 RES     \\n      17 H           -8.6642   -49.5840   -18.0568 H             1 RES     \\n      18 H           -6.6671   -51.6922   -18.2637 H             1 RES     \\n      19 H           -8.2038   -52.6681   -18.7179 H             1 RES     \\n      20 H           -7.6957   -49.9043   -20.2297 H             1 RES     \\n      21 H           -6.5847   -51.3546   -20.6519 H             1 RES     \\n      22 H           -8.2319   -52.5097   -21.8595 H             1 RES     \\n      23 H           -8.8684   -50.7664   -22.1391 H             1 RES     \\n      24 H          -10.9386   -51.1726   -20.6066 H             1 RES     \\n      25 H          -10.3300   -52.9233   -20.1956 H             1 RES     \\n      26 H           -9.3973   -54.1343   -22.5496 H             1 RES     \\n      27 H          -13.1581   -52.0060   -22.4469 H             1 RES     \\n@<TRIPOS>BOND\\n@<TRIPOS>SUBSTRUCTURE\\n       1 RES             1 RESIDUE    0 **** ROOT      0\\n\",\"mol2\");\n",
       "\tviewer_12293781630058.setStyle({\"stick\": {\"radius\": 0.2, \"color\": \"grey\"}, \"sphere\": {\"scale\": 0.3, \"colorscheme\": {}}});\n",
       "\tviewer_12293781630058.zoomTo();\n",
       "viewer_12293781630058.render();\n",
       "});\n",
       "</script>"
      ]
     },
     "metadata": {},
     "output_type": "display_data"
    },
    {
     "data": {
      "application/3dmoljs_load.v0": "<div id=\"3dmolviewer_12293815728499\"  style=\"position: relative; width: 640px; height: 480px\">\n        <p id=\"3dmolwarning_12293815728499\" style=\"background-color:#ffcccc;color:black\">You appear to be running in JupyterLab (or JavaScript failed to load for some other reason).  You need to install the 3dmol extension: <br>\n        <tt>jupyter labextension install jupyterlab_3dmol</tt></p>\n        </div>\n<script>\n\nvar loadScriptAsync = function(uri){\n  return new Promise((resolve, reject) => {\n    var tag = document.createElement('script');\n    tag.src = uri;\n    tag.async = true;\n    tag.onload = () => {\n      resolve();\n    };\n  var firstScriptTag = document.getElementsByTagName('script')[0];\n  firstScriptTag.parentNode.insertBefore(tag, firstScriptTag);\n});\n};\n\nif(typeof $3Dmolpromise === 'undefined') {\n$3Dmolpromise = null;\n  $3Dmolpromise = loadScriptAsync('https://3dmol.csb.pitt.edu/build/3Dmol.js');\n}\n\nvar viewer_12293815728499 = null;\nvar warn = document.getElementById(\"3dmolwarning_12293815728499\");\nif(warn) {\n    warn.parentNode.removeChild(warn);\n}\n$3Dmolpromise.then(function() {\nviewer_12293815728499 = $3Dmol.createViewer($(\"#3dmolviewer_12293815728499\"),{backgroundColor:\"white\"});\n\tviewer_12293815728499.addModel(\"@<TRIPOS>MOLECULE\\nRES\\n27 0 1 0 1\\nSMALL\\nNO_CHARGES\\n@<TRIPOS>CRYSIN\\n   14.5165    11.3357     9.6721    90.0000    90.0000    90.0000  1  1\\n@<TRIPOS>ATOM\\n       1 C          -14.6338   -52.6677   -21.7655 C             1 RES     \\n       2 C          -13.6026   -51.8300   -22.1931 C             1 RES     \\n       3 S          -14.0652   -50.2994   -21.7546 S             1 RES     \\n       4 C          -15.5278   -50.6010   -21.0334 C             1 RES     \\n       5 C          -15.7101   -51.9848   -21.1177 C             1 RES     \\n       6 C          -16.8851   -52.9843   -20.6382 C             1 RES     \\n       7 C          -18.5055   -52.8059   -21.0634 C             1 RES     \\n       8 C          -19.5561   -51.9620   -20.0745 C             1 RES     \\n       9 C          -20.1851   -52.9543   -18.9401 C             1 RES     \\n      10 C          -21.5226   -53.8934   -19.3856 C             1 RES     \\n      11 C          -21.1707   -55.4598   -19.9011 C             1 RES     \\n      12 H          -12.7042   -52.1856   -22.7061 H             1 RES     \\n      13 H          -20.4352   -55.9509   -19.1546 H             1 RES     \\n      14 H          -20.6970   -55.4277   -20.9550 H             1 RES     \\n      15 H          -22.1513   -56.0742   -19.9362 H             1 RES     \\n      16 H          -22.0691   -53.3536   -20.2444 H             1 RES     \\n      17 H          -22.2207   -53.9693   -18.4720 H             1 RES     \\n      18 H          -19.3610   -53.6882   -18.5864 H             1 RES     \\n      19 H          -20.5141   -52.3129   -18.0340 H             1 RES     \\n      20 H          -18.9782   -51.1077   -19.5617 H             1 RES     \\n      21 H          -20.3996   -51.5154   -20.7256 H             1 RES     \\n      22 H          -18.5137   -52.2758   -22.0934 H             1 RES     \\n      23 H          -18.9326   -53.8711   -21.2029 H             1 RES     \\n      24 H          -16.8886   -52.9834   -19.4661 H             1 RES     \\n      25 H          -16.6194   -54.0779   -20.9620 H             1 RES     \\n      26 H          -14.6172   -53.7976   -21.9274 H             1 RES     \\n      27 H          -15.9223   -49.7384   -20.4882 H             1 RES     \\n@<TRIPOS>BOND\\n@<TRIPOS>SUBSTRUCTURE\\n       1 RES             1 RESIDUE    0 **** ROOT      0\\n\",\"mol2\");\n\tviewer_12293815728499.setStyle({\"stick\": {\"radius\": 0.2, \"color\": \"grey\"}, \"sphere\": {\"scale\": 0.3, \"colorscheme\": {}}});\n\tviewer_12293815728499.zoomTo();\nviewer_12293815728499.render();\n});\n</script>",
      "text/html": [
       "<div id=\"3dmolviewer_12293815728499\"  style=\"position: relative; width: 640px; height: 480px\">\n",
       "        <p id=\"3dmolwarning_12293815728499\" style=\"background-color:#ffcccc;color:black\">You appear to be running in JupyterLab (or JavaScript failed to load for some other reason).  You need to install the 3dmol extension: <br>\n",
       "        <tt>jupyter labextension install jupyterlab_3dmol</tt></p>\n",
       "        </div>\n",
       "<script>\n",
       "\n",
       "var loadScriptAsync = function(uri){\n",
       "  return new Promise((resolve, reject) => {\n",
       "    var tag = document.createElement('script');\n",
       "    tag.src = uri;\n",
       "    tag.async = true;\n",
       "    tag.onload = () => {\n",
       "      resolve();\n",
       "    };\n",
       "  var firstScriptTag = document.getElementsByTagName('script')[0];\n",
       "  firstScriptTag.parentNode.insertBefore(tag, firstScriptTag);\n",
       "});\n",
       "};\n",
       "\n",
       "if(typeof $3Dmolpromise === 'undefined') {\n",
       "$3Dmolpromise = null;\n",
       "  $3Dmolpromise = loadScriptAsync('https://3dmol.csb.pitt.edu/build/3Dmol.js');\n",
       "}\n",
       "\n",
       "var viewer_12293815728499 = null;\n",
       "var warn = document.getElementById(\"3dmolwarning_12293815728499\");\n",
       "if(warn) {\n",
       "    warn.parentNode.removeChild(warn);\n",
       "}\n",
       "$3Dmolpromise.then(function() {\n",
       "viewer_12293815728499 = $3Dmol.createViewer($(\"#3dmolviewer_12293815728499\"),{backgroundColor:\"white\"});\n",
       "\tviewer_12293815728499.addModel(\"@<TRIPOS>MOLECULE\\nRES\\n27 0 1 0 1\\nSMALL\\nNO_CHARGES\\n@<TRIPOS>CRYSIN\\n   14.5165    11.3357     9.6721    90.0000    90.0000    90.0000  1  1\\n@<TRIPOS>ATOM\\n       1 C          -14.6338   -52.6677   -21.7655 C             1 RES     \\n       2 C          -13.6026   -51.8300   -22.1931 C             1 RES     \\n       3 S          -14.0652   -50.2994   -21.7546 S             1 RES     \\n       4 C          -15.5278   -50.6010   -21.0334 C             1 RES     \\n       5 C          -15.7101   -51.9848   -21.1177 C             1 RES     \\n       6 C          -16.8851   -52.9843   -20.6382 C             1 RES     \\n       7 C          -18.5055   -52.8059   -21.0634 C             1 RES     \\n       8 C          -19.5561   -51.9620   -20.0745 C             1 RES     \\n       9 C          -20.1851   -52.9543   -18.9401 C             1 RES     \\n      10 C          -21.5226   -53.8934   -19.3856 C             1 RES     \\n      11 C          -21.1707   -55.4598   -19.9011 C             1 RES     \\n      12 H          -12.7042   -52.1856   -22.7061 H             1 RES     \\n      13 H          -20.4352   -55.9509   -19.1546 H             1 RES     \\n      14 H          -20.6970   -55.4277   -20.9550 H             1 RES     \\n      15 H          -22.1513   -56.0742   -19.9362 H             1 RES     \\n      16 H          -22.0691   -53.3536   -20.2444 H             1 RES     \\n      17 H          -22.2207   -53.9693   -18.4720 H             1 RES     \\n      18 H          -19.3610   -53.6882   -18.5864 H             1 RES     \\n      19 H          -20.5141   -52.3129   -18.0340 H             1 RES     \\n      20 H          -18.9782   -51.1077   -19.5617 H             1 RES     \\n      21 H          -20.3996   -51.5154   -20.7256 H             1 RES     \\n      22 H          -18.5137   -52.2758   -22.0934 H             1 RES     \\n      23 H          -18.9326   -53.8711   -21.2029 H             1 RES     \\n      24 H          -16.8886   -52.9834   -19.4661 H             1 RES     \\n      25 H          -16.6194   -54.0779   -20.9620 H             1 RES     \\n      26 H          -14.6172   -53.7976   -21.9274 H             1 RES     \\n      27 H          -15.9223   -49.7384   -20.4882 H             1 RES     \\n@<TRIPOS>BOND\\n@<TRIPOS>SUBSTRUCTURE\\n       1 RES             1 RESIDUE    0 **** ROOT      0\\n\",\"mol2\");\n",
       "\tviewer_12293815728499.setStyle({\"stick\": {\"radius\": 0.2, \"color\": \"grey\"}, \"sphere\": {\"scale\": 0.3, \"colorscheme\": {}}});\n",
       "\tviewer_12293815728499.zoomTo();\n",
       "viewer_12293815728499.render();\n",
       "});\n",
       "</script>"
      ]
     },
     "metadata": {},
     "output_type": "display_data"
    },
    {
     "data": {
      "application/3dmoljs_load.v0": "<div id=\"3dmolviewer_12293867781948\"  style=\"position: relative; width: 640px; height: 480px\">\n        <p id=\"3dmolwarning_12293867781948\" style=\"background-color:#ffcccc;color:black\">You appear to be running in JupyterLab (or JavaScript failed to load for some other reason).  You need to install the 3dmol extension: <br>\n        <tt>jupyter labextension install jupyterlab_3dmol</tt></p>\n        </div>\n<script>\n\nvar loadScriptAsync = function(uri){\n  return new Promise((resolve, reject) => {\n    var tag = document.createElement('script');\n    tag.src = uri;\n    tag.async = true;\n    tag.onload = () => {\n      resolve();\n    };\n  var firstScriptTag = document.getElementsByTagName('script')[0];\n  firstScriptTag.parentNode.insertBefore(tag, firstScriptTag);\n});\n};\n\nif(typeof $3Dmolpromise === 'undefined') {\n$3Dmolpromise = null;\n  $3Dmolpromise = loadScriptAsync('https://3dmol.csb.pitt.edu/build/3Dmol.js');\n}\n\nvar viewer_12293867781948 = null;\nvar warn = document.getElementById(\"3dmolwarning_12293867781948\");\nif(warn) {\n    warn.parentNode.removeChild(warn);\n}\n$3Dmolpromise.then(function() {\nviewer_12293867781948 = $3Dmol.createViewer($(\"#3dmolviewer_12293867781948\"),{backgroundColor:\"white\"});\n\tviewer_12293867781948.addModel(\"@<TRIPOS>MOLECULE\\nRES\\n27 0 1 0 1\\nSMALL\\nNO_CHARGES\\n@<TRIPOS>CRYSIN\\n   12.9846    13.5572     9.2885    90.0000    90.0000    90.0000  1  1\\n@<TRIPOS>ATOM\\n       1 C          -15.2672   -48.1850   -20.0385 C             1 RES     \\n       2 C          -16.1392   -49.2644   -20.1886 C             1 RES     \\n       3 S          -17.5450   -48.8051   -19.4391 S             1 RES     \\n       4 C          -17.1439   -47.2857   -18.9090 C             1 RES     \\n       5 C          -15.8249   -47.0788   -19.3246 C             1 RES     \\n       6 C          -14.7395   -45.8707   -19.1920 C             1 RES     \\n       7 C          -14.8502   -44.2386   -19.6599 C             1 RES     \\n       8 C          -13.2882   -43.5789   -19.3848 C             1 RES     \\n       9 C          -12.8256   -42.2234   -20.1667 C             1 RES     \\n      10 C          -12.0353   -42.4694   -21.6545 C             1 RES     \\n      11 C          -10.3535   -42.6004   -21.6064 C             1 RES     \\n      12 H          -15.7446   -50.1269   -20.7337 H             1 RES     \\n      13 H           -9.9927   -42.6006   -20.5078 H             1 RES     \\n      14 H           -9.8836   -41.7048   -22.1698 H             1 RES     \\n      15 H          -10.0328   -43.5874   -22.1198 H             1 RES     \\n      16 H          -12.4531   -43.4372   -22.1192 H             1 RES     \\n      17 H          -12.2952   -41.5754   -22.3345 H             1 RES     \\n      18 H          -13.7542   -41.5697   -20.3795 H             1 RES     \\n      19 H          -12.0959   -41.6281   -19.4949 H             1 RES     \\n      20 H          -13.2292   -43.3814   -18.2455 H             1 RES     \\n      21 H          -12.5223   -44.4071   -19.6486 H             1 RES     \\n      22 H          -15.1088   -44.1652   -20.7729 H             1 RES     \\n      23 H          -15.6192   -43.6886   -19.0151 H             1 RES     \\n      24 H          -14.4894   -45.7878   -18.0460 H             1 RES     \\n      25 H          -13.7481   -46.2153   -19.7123 H             1 RES     \\n      26 H          -14.1740   -48.1841   -20.3646 H             1 RES     \\n      27 H          -17.8683   -46.7641   -18.2766 H             1 RES     \\n@<TRIPOS>BOND\\n@<TRIPOS>SUBSTRUCTURE\\n       1 RES             1 RESIDUE    0 **** ROOT      0\\n\",\"mol2\");\n\tviewer_12293867781948.setStyle({\"stick\": {\"radius\": 0.2, \"color\": \"grey\"}, \"sphere\": {\"scale\": 0.3, \"colorscheme\": {}}});\n\tviewer_12293867781948.zoomTo();\nviewer_12293867781948.render();\n});\n</script>",
      "text/html": [
       "<div id=\"3dmolviewer_12293867781948\"  style=\"position: relative; width: 640px; height: 480px\">\n",
       "        <p id=\"3dmolwarning_12293867781948\" style=\"background-color:#ffcccc;color:black\">You appear to be running in JupyterLab (or JavaScript failed to load for some other reason).  You need to install the 3dmol extension: <br>\n",
       "        <tt>jupyter labextension install jupyterlab_3dmol</tt></p>\n",
       "        </div>\n",
       "<script>\n",
       "\n",
       "var loadScriptAsync = function(uri){\n",
       "  return new Promise((resolve, reject) => {\n",
       "    var tag = document.createElement('script');\n",
       "    tag.src = uri;\n",
       "    tag.async = true;\n",
       "    tag.onload = () => {\n",
       "      resolve();\n",
       "    };\n",
       "  var firstScriptTag = document.getElementsByTagName('script')[0];\n",
       "  firstScriptTag.parentNode.insertBefore(tag, firstScriptTag);\n",
       "});\n",
       "};\n",
       "\n",
       "if(typeof $3Dmolpromise === 'undefined') {\n",
       "$3Dmolpromise = null;\n",
       "  $3Dmolpromise = loadScriptAsync('https://3dmol.csb.pitt.edu/build/3Dmol.js');\n",
       "}\n",
       "\n",
       "var viewer_12293867781948 = null;\n",
       "var warn = document.getElementById(\"3dmolwarning_12293867781948\");\n",
       "if(warn) {\n",
       "    warn.parentNode.removeChild(warn);\n",
       "}\n",
       "$3Dmolpromise.then(function() {\n",
       "viewer_12293867781948 = $3Dmol.createViewer($(\"#3dmolviewer_12293867781948\"),{backgroundColor:\"white\"});\n",
       "\tviewer_12293867781948.addModel(\"@<TRIPOS>MOLECULE\\nRES\\n27 0 1 0 1\\nSMALL\\nNO_CHARGES\\n@<TRIPOS>CRYSIN\\n   12.9846    13.5572     9.2885    90.0000    90.0000    90.0000  1  1\\n@<TRIPOS>ATOM\\n       1 C          -15.2672   -48.1850   -20.0385 C             1 RES     \\n       2 C          -16.1392   -49.2644   -20.1886 C             1 RES     \\n       3 S          -17.5450   -48.8051   -19.4391 S             1 RES     \\n       4 C          -17.1439   -47.2857   -18.9090 C             1 RES     \\n       5 C          -15.8249   -47.0788   -19.3246 C             1 RES     \\n       6 C          -14.7395   -45.8707   -19.1920 C             1 RES     \\n       7 C          -14.8502   -44.2386   -19.6599 C             1 RES     \\n       8 C          -13.2882   -43.5789   -19.3848 C             1 RES     \\n       9 C          -12.8256   -42.2234   -20.1667 C             1 RES     \\n      10 C          -12.0353   -42.4694   -21.6545 C             1 RES     \\n      11 C          -10.3535   -42.6004   -21.6064 C             1 RES     \\n      12 H          -15.7446   -50.1269   -20.7337 H             1 RES     \\n      13 H           -9.9927   -42.6006   -20.5078 H             1 RES     \\n      14 H           -9.8836   -41.7048   -22.1698 H             1 RES     \\n      15 H          -10.0328   -43.5874   -22.1198 H             1 RES     \\n      16 H          -12.4531   -43.4372   -22.1192 H             1 RES     \\n      17 H          -12.2952   -41.5754   -22.3345 H             1 RES     \\n      18 H          -13.7542   -41.5697   -20.3795 H             1 RES     \\n      19 H          -12.0959   -41.6281   -19.4949 H             1 RES     \\n      20 H          -13.2292   -43.3814   -18.2455 H             1 RES     \\n      21 H          -12.5223   -44.4071   -19.6486 H             1 RES     \\n      22 H          -15.1088   -44.1652   -20.7729 H             1 RES     \\n      23 H          -15.6192   -43.6886   -19.0151 H             1 RES     \\n      24 H          -14.4894   -45.7878   -18.0460 H             1 RES     \\n      25 H          -13.7481   -46.2153   -19.7123 H             1 RES     \\n      26 H          -14.1740   -48.1841   -20.3646 H             1 RES     \\n      27 H          -17.8683   -46.7641   -18.2766 H             1 RES     \\n@<TRIPOS>BOND\\n@<TRIPOS>SUBSTRUCTURE\\n       1 RES             1 RESIDUE    0 **** ROOT      0\\n\",\"mol2\");\n",
       "\tviewer_12293867781948.setStyle({\"stick\": {\"radius\": 0.2, \"color\": \"grey\"}, \"sphere\": {\"scale\": 0.3, \"colorscheme\": {}}});\n",
       "\tviewer_12293867781948.zoomTo();\n",
       "viewer_12293867781948.render();\n",
       "});\n",
       "</script>"
      ]
     },
     "metadata": {},
     "output_type": "display_data"
    },
    {
     "data": {
      "application/3dmoljs_load.v0": "<div id=\"3dmolviewer_12293912112574\"  style=\"position: relative; width: 640px; height: 480px\">\n        <p id=\"3dmolwarning_12293912112574\" style=\"background-color:#ffcccc;color:black\">You appear to be running in JupyterLab (or JavaScript failed to load for some other reason).  You need to install the 3dmol extension: <br>\n        <tt>jupyter labextension install jupyterlab_3dmol</tt></p>\n        </div>\n<script>\n\nvar loadScriptAsync = function(uri){\n  return new Promise((resolve, reject) => {\n    var tag = document.createElement('script');\n    tag.src = uri;\n    tag.async = true;\n    tag.onload = () => {\n      resolve();\n    };\n  var firstScriptTag = document.getElementsByTagName('script')[0];\n  firstScriptTag.parentNode.insertBefore(tag, firstScriptTag);\n});\n};\n\nif(typeof $3Dmolpromise === 'undefined') {\n$3Dmolpromise = null;\n  $3Dmolpromise = loadScriptAsync('https://3dmol.csb.pitt.edu/build/3Dmol.js');\n}\n\nvar viewer_12293912112574 = null;\nvar warn = document.getElementById(\"3dmolwarning_12293912112574\");\nif(warn) {\n    warn.parentNode.removeChild(warn);\n}\n$3Dmolpromise.then(function() {\nviewer_12293912112574 = $3Dmol.createViewer($(\"#3dmolviewer_12293912112574\"),{backgroundColor:\"white\"});\n\tviewer_12293912112574.addModel(\"@<TRIPOS>MOLECULE\\nRES\\n27 0 1 0 1\\nSMALL\\nNO_CHARGES\\n@<TRIPOS>CRYSIN\\n   15.8815    10.3635    10.3366    90.0000    90.0000    90.0000  1  1\\n@<TRIPOS>ATOM\\n       1 C          -19.4341   -47.0749   -17.4723 C             1 RES     \\n       2 C          -18.2582   -46.4833   -17.9362 C             1 RES     \\n       3 S          -18.2667   -44.9425   -17.3238 S             1 RES     \\n       4 C          -19.6931   -44.9417   -16.4779 C             1 RES     \\n       5 C          -20.2374   -46.2172   -16.6579 C             1 RES     \\n       6 C          -21.6272   -46.7753   -16.0392 C             1 RES     \\n       7 C          -23.1419   -45.9926   -16.1446 C             1 RES     \\n       8 C          -24.3649   -46.7776   -15.2536 C             1 RES     \\n       9 C          -25.4864   -47.7470   -15.9260 C             1 RES     \\n      10 C          -26.3914   -48.5542   -14.7362 C             1 RES     \\n      11 C          -27.6650   -47.6930   -14.0518 C             1 RES     \\n      12 H          -17.5338   -47.0049   -18.5686 H             1 RES     \\n      13 H          -27.2490   -46.9891   -13.2320 H             1 RES     \\n      14 H          -28.4153   -48.4359   -13.5768 H             1 RES     \\n      15 H          -28.1979   -47.0695   -14.8667 H             1 RES     \\n      16 H          -25.6737   -48.8658   -13.8905 H             1 RES     \\n      17 H          -26.8353   -49.4991   -15.2275 H             1 RES     \\n      18 H          -26.2175   -47.1224   -16.5662 H             1 RES     \\n      19 H          -24.9810   -48.5397   -16.5945 H             1 RES     \\n      20 H          -23.8028   -47.4006   -14.4508 H             1 RES     \\n      21 H          -24.9313   -45.9248   -14.7041 H             1 RES     \\n      22 H          -23.4499   -46.0935   -17.2602 H             1 RES     \\n      23 H          -23.1764   -44.8965   -15.8751 H             1 RES     \\n      24 H          -21.4641   -46.9248   -14.8909 H             1 RES     \\n      25 H          -21.8305   -47.8347   -16.4918 H             1 RES     \\n      26 H          -19.7397   -48.1490   -17.7075 H             1 RES     \\n      27 H          -20.0030   -44.1355   -15.8064 H             1 RES     \\n@<TRIPOS>BOND\\n@<TRIPOS>SUBSTRUCTURE\\n       1 RES             1 RESIDUE    0 **** ROOT      0\\n\",\"mol2\");\n\tviewer_12293912112574.setStyle({\"stick\": {\"radius\": 0.2, \"color\": \"grey\"}, \"sphere\": {\"scale\": 0.3, \"colorscheme\": {}}});\n\tviewer_12293912112574.zoomTo();\nviewer_12293912112574.render();\n});\n</script>",
      "text/html": [
       "<div id=\"3dmolviewer_12293912112574\"  style=\"position: relative; width: 640px; height: 480px\">\n",
       "        <p id=\"3dmolwarning_12293912112574\" style=\"background-color:#ffcccc;color:black\">You appear to be running in JupyterLab (or JavaScript failed to load for some other reason).  You need to install the 3dmol extension: <br>\n",
       "        <tt>jupyter labextension install jupyterlab_3dmol</tt></p>\n",
       "        </div>\n",
       "<script>\n",
       "\n",
       "var loadScriptAsync = function(uri){\n",
       "  return new Promise((resolve, reject) => {\n",
       "    var tag = document.createElement('script');\n",
       "    tag.src = uri;\n",
       "    tag.async = true;\n",
       "    tag.onload = () => {\n",
       "      resolve();\n",
       "    };\n",
       "  var firstScriptTag = document.getElementsByTagName('script')[0];\n",
       "  firstScriptTag.parentNode.insertBefore(tag, firstScriptTag);\n",
       "});\n",
       "};\n",
       "\n",
       "if(typeof $3Dmolpromise === 'undefined') {\n",
       "$3Dmolpromise = null;\n",
       "  $3Dmolpromise = loadScriptAsync('https://3dmol.csb.pitt.edu/build/3Dmol.js');\n",
       "}\n",
       "\n",
       "var viewer_12293912112574 = null;\n",
       "var warn = document.getElementById(\"3dmolwarning_12293912112574\");\n",
       "if(warn) {\n",
       "    warn.parentNode.removeChild(warn);\n",
       "}\n",
       "$3Dmolpromise.then(function() {\n",
       "viewer_12293912112574 = $3Dmol.createViewer($(\"#3dmolviewer_12293912112574\"),{backgroundColor:\"white\"});\n",
       "\tviewer_12293912112574.addModel(\"@<TRIPOS>MOLECULE\\nRES\\n27 0 1 0 1\\nSMALL\\nNO_CHARGES\\n@<TRIPOS>CRYSIN\\n   15.8815    10.3635    10.3366    90.0000    90.0000    90.0000  1  1\\n@<TRIPOS>ATOM\\n       1 C          -19.4341   -47.0749   -17.4723 C             1 RES     \\n       2 C          -18.2582   -46.4833   -17.9362 C             1 RES     \\n       3 S          -18.2667   -44.9425   -17.3238 S             1 RES     \\n       4 C          -19.6931   -44.9417   -16.4779 C             1 RES     \\n       5 C          -20.2374   -46.2172   -16.6579 C             1 RES     \\n       6 C          -21.6272   -46.7753   -16.0392 C             1 RES     \\n       7 C          -23.1419   -45.9926   -16.1446 C             1 RES     \\n       8 C          -24.3649   -46.7776   -15.2536 C             1 RES     \\n       9 C          -25.4864   -47.7470   -15.9260 C             1 RES     \\n      10 C          -26.3914   -48.5542   -14.7362 C             1 RES     \\n      11 C          -27.6650   -47.6930   -14.0518 C             1 RES     \\n      12 H          -17.5338   -47.0049   -18.5686 H             1 RES     \\n      13 H          -27.2490   -46.9891   -13.2320 H             1 RES     \\n      14 H          -28.4153   -48.4359   -13.5768 H             1 RES     \\n      15 H          -28.1979   -47.0695   -14.8667 H             1 RES     \\n      16 H          -25.6737   -48.8658   -13.8905 H             1 RES     \\n      17 H          -26.8353   -49.4991   -15.2275 H             1 RES     \\n      18 H          -26.2175   -47.1224   -16.5662 H             1 RES     \\n      19 H          -24.9810   -48.5397   -16.5945 H             1 RES     \\n      20 H          -23.8028   -47.4006   -14.4508 H             1 RES     \\n      21 H          -24.9313   -45.9248   -14.7041 H             1 RES     \\n      22 H          -23.4499   -46.0935   -17.2602 H             1 RES     \\n      23 H          -23.1764   -44.8965   -15.8751 H             1 RES     \\n      24 H          -21.4641   -46.9248   -14.8909 H             1 RES     \\n      25 H          -21.8305   -47.8347   -16.4918 H             1 RES     \\n      26 H          -19.7397   -48.1490   -17.7075 H             1 RES     \\n      27 H          -20.0030   -44.1355   -15.8064 H             1 RES     \\n@<TRIPOS>BOND\\n@<TRIPOS>SUBSTRUCTURE\\n       1 RES             1 RESIDUE    0 **** ROOT      0\\n\",\"mol2\");\n",
       "\tviewer_12293912112574.setStyle({\"stick\": {\"radius\": 0.2, \"color\": \"grey\"}, \"sphere\": {\"scale\": 0.3, \"colorscheme\": {}}});\n",
       "\tviewer_12293912112574.zoomTo();\n",
       "viewer_12293912112574.render();\n",
       "});\n",
       "</script>"
      ]
     },
     "metadata": {},
     "output_type": "display_data"
    },
    {
     "data": {
      "application/3dmoljs_load.v0": "<div id=\"3dmolviewer_12294160552459\"  style=\"position: relative; width: 640px; height: 480px\">\n        <p id=\"3dmolwarning_12294160552459\" style=\"background-color:#ffcccc;color:black\">You appear to be running in JupyterLab (or JavaScript failed to load for some other reason).  You need to install the 3dmol extension: <br>\n        <tt>jupyter labextension install jupyterlab_3dmol</tt></p>\n        </div>\n<script>\n\nvar loadScriptAsync = function(uri){\n  return new Promise((resolve, reject) => {\n    var tag = document.createElement('script');\n    tag.src = uri;\n    tag.async = true;\n    tag.onload = () => {\n      resolve();\n    };\n  var firstScriptTag = document.getElementsByTagName('script')[0];\n  firstScriptTag.parentNode.insertBefore(tag, firstScriptTag);\n});\n};\n\nif(typeof $3Dmolpromise === 'undefined') {\n$3Dmolpromise = null;\n  $3Dmolpromise = loadScriptAsync('https://3dmol.csb.pitt.edu/build/3Dmol.js');\n}\n\nvar viewer_12294160552459 = null;\nvar warn = document.getElementById(\"3dmolwarning_12294160552459\");\nif(warn) {\n    warn.parentNode.removeChild(warn);\n}\n$3Dmolpromise.then(function() {\nviewer_12294160552459 = $3Dmol.createViewer($(\"#3dmolviewer_12294160552459\"),{backgroundColor:\"white\"});\n\tviewer_12294160552459.addModel(\"@<TRIPOS>MOLECULE\\nRES\\n27 0 1 0 1\\nSMALL\\nNO_CHARGES\\n@<TRIPOS>CRYSIN\\n   13.1273    10.0680    11.2306    90.0000    90.0000    90.0000  1  1\\n@<TRIPOS>ATOM\\n       1 C          -23.8484   -41.3951   -12.8926 C             1 RES     \\n       2 C          -22.4857   -41.1556   -13.0758 C             1 RES     \\n       3 S          -22.1692   -39.7501   -12.2553 S             1 RES     \\n       4 C          -23.6705   -39.3862   -11.6520 C             1 RES     \\n       5 C          -24.5129   -40.4092   -12.0983 C             1 RES     \\n       6 C          -26.0783   -40.4002   -11.7095 C             1 RES     \\n       7 C          -26.7835   -41.6911   -10.8795 C             1 RES     \\n       8 C          -26.6654   -41.4364    -9.2104 C             1 RES     \\n       9 C          -27.9460   -40.6966    -8.5298 C             1 RES     \\n      10 C          -27.9456   -39.0140    -8.6665 C             1 RES     \\n      11 C          -29.0971   -38.3045    -9.6760 C             1 RES     \\n      12 H          -21.7351   -41.7282   -13.6286 H             1 RES     \\n      13 H          -28.5651   -37.5961   -10.4219 H             1 RES     \\n      14 H          -29.8625   -37.6883    -9.0668 H             1 RES     \\n      15 H          -29.6578   -39.1313   -10.2610 H             1 RES     \\n      16 H          -27.9461   -38.6565    -7.5822 H             1 RES     \\n      17 H          -26.9352   -38.7290    -9.1374 H             1 RES     \\n      18 H          -28.9208   -41.0909    -9.0090 H             1 RES     \\n      19 H          -27.9676   -40.9444    -7.3980 H             1 RES     \\n      20 H          -26.5258   -42.4736    -8.7146 H             1 RES     \\n      21 H          -25.7118   -40.8098    -9.0122 H             1 RES     \\n      22 H          -27.8938   -41.7654   -11.1693 H             1 RES     \\n      23 H          -26.2363   -42.6640   -11.1489 H             1 RES     \\n      24 H          -26.3235   -39.4455   -11.0895 H             1 RES     \\n      25 H          -26.6967   -40.3135   -12.7019 H             1 RES     \\n      26 H          -24.3977   -42.2943   -13.3341 H             1 RES     \\n      27 H          -23.9728   -38.4450   -11.1833 H             1 RES     \\n@<TRIPOS>BOND\\n@<TRIPOS>SUBSTRUCTURE\\n       1 RES             1 RESIDUE    0 **** ROOT      0\\n\",\"mol2\");\n\tviewer_12294160552459.setStyle({\"stick\": {\"radius\": 0.2, \"color\": \"grey\"}, \"sphere\": {\"scale\": 0.3, \"colorscheme\": {}}});\n\tviewer_12294160552459.zoomTo();\nviewer_12294160552459.render();\n});\n</script>",
      "text/html": [
       "<div id=\"3dmolviewer_12294160552459\"  style=\"position: relative; width: 640px; height: 480px\">\n",
       "        <p id=\"3dmolwarning_12294160552459\" style=\"background-color:#ffcccc;color:black\">You appear to be running in JupyterLab (or JavaScript failed to load for some other reason).  You need to install the 3dmol extension: <br>\n",
       "        <tt>jupyter labextension install jupyterlab_3dmol</tt></p>\n",
       "        </div>\n",
       "<script>\n",
       "\n",
       "var loadScriptAsync = function(uri){\n",
       "  return new Promise((resolve, reject) => {\n",
       "    var tag = document.createElement('script');\n",
       "    tag.src = uri;\n",
       "    tag.async = true;\n",
       "    tag.onload = () => {\n",
       "      resolve();\n",
       "    };\n",
       "  var firstScriptTag = document.getElementsByTagName('script')[0];\n",
       "  firstScriptTag.parentNode.insertBefore(tag, firstScriptTag);\n",
       "});\n",
       "};\n",
       "\n",
       "if(typeof $3Dmolpromise === 'undefined') {\n",
       "$3Dmolpromise = null;\n",
       "  $3Dmolpromise = loadScriptAsync('https://3dmol.csb.pitt.edu/build/3Dmol.js');\n",
       "}\n",
       "\n",
       "var viewer_12294160552459 = null;\n",
       "var warn = document.getElementById(\"3dmolwarning_12294160552459\");\n",
       "if(warn) {\n",
       "    warn.parentNode.removeChild(warn);\n",
       "}\n",
       "$3Dmolpromise.then(function() {\n",
       "viewer_12294160552459 = $3Dmol.createViewer($(\"#3dmolviewer_12294160552459\"),{backgroundColor:\"white\"});\n",
       "\tviewer_12294160552459.addModel(\"@<TRIPOS>MOLECULE\\nRES\\n27 0 1 0 1\\nSMALL\\nNO_CHARGES\\n@<TRIPOS>CRYSIN\\n   13.1273    10.0680    11.2306    90.0000    90.0000    90.0000  1  1\\n@<TRIPOS>ATOM\\n       1 C          -23.8484   -41.3951   -12.8926 C             1 RES     \\n       2 C          -22.4857   -41.1556   -13.0758 C             1 RES     \\n       3 S          -22.1692   -39.7501   -12.2553 S             1 RES     \\n       4 C          -23.6705   -39.3862   -11.6520 C             1 RES     \\n       5 C          -24.5129   -40.4092   -12.0983 C             1 RES     \\n       6 C          -26.0783   -40.4002   -11.7095 C             1 RES     \\n       7 C          -26.7835   -41.6911   -10.8795 C             1 RES     \\n       8 C          -26.6654   -41.4364    -9.2104 C             1 RES     \\n       9 C          -27.9460   -40.6966    -8.5298 C             1 RES     \\n      10 C          -27.9456   -39.0140    -8.6665 C             1 RES     \\n      11 C          -29.0971   -38.3045    -9.6760 C             1 RES     \\n      12 H          -21.7351   -41.7282   -13.6286 H             1 RES     \\n      13 H          -28.5651   -37.5961   -10.4219 H             1 RES     \\n      14 H          -29.8625   -37.6883    -9.0668 H             1 RES     \\n      15 H          -29.6578   -39.1313   -10.2610 H             1 RES     \\n      16 H          -27.9461   -38.6565    -7.5822 H             1 RES     \\n      17 H          -26.9352   -38.7290    -9.1374 H             1 RES     \\n      18 H          -28.9208   -41.0909    -9.0090 H             1 RES     \\n      19 H          -27.9676   -40.9444    -7.3980 H             1 RES     \\n      20 H          -26.5258   -42.4736    -8.7146 H             1 RES     \\n      21 H          -25.7118   -40.8098    -9.0122 H             1 RES     \\n      22 H          -27.8938   -41.7654   -11.1693 H             1 RES     \\n      23 H          -26.2363   -42.6640   -11.1489 H             1 RES     \\n      24 H          -26.3235   -39.4455   -11.0895 H             1 RES     \\n      25 H          -26.6967   -40.3135   -12.7019 H             1 RES     \\n      26 H          -24.3977   -42.2943   -13.3341 H             1 RES     \\n      27 H          -23.9728   -38.4450   -11.1833 H             1 RES     \\n@<TRIPOS>BOND\\n@<TRIPOS>SUBSTRUCTURE\\n       1 RES             1 RESIDUE    0 **** ROOT      0\\n\",\"mol2\");\n",
       "\tviewer_12294160552459.setStyle({\"stick\": {\"radius\": 0.2, \"color\": \"grey\"}, \"sphere\": {\"scale\": 0.3, \"colorscheme\": {}}});\n",
       "\tviewer_12294160552459.zoomTo();\n",
       "viewer_12294160552459.render();\n",
       "});\n",
       "</script>"
      ]
     },
     "metadata": {},
     "output_type": "display_data"
    },
    {
     "data": {
      "application/3dmoljs_load.v0": "<div id=\"3dmolviewer_12294314640613\"  style=\"position: relative; width: 640px; height: 480px\">\n        <p id=\"3dmolwarning_12294314640613\" style=\"background-color:#ffcccc;color:black\">You appear to be running in JupyterLab (or JavaScript failed to load for some other reason).  You need to install the 3dmol extension: <br>\n        <tt>jupyter labextension install jupyterlab_3dmol</tt></p>\n        </div>\n<script>\n\nvar loadScriptAsync = function(uri){\n  return new Promise((resolve, reject) => {\n    var tag = document.createElement('script');\n    tag.src = uri;\n    tag.async = true;\n    tag.onload = () => {\n      resolve();\n    };\n  var firstScriptTag = document.getElementsByTagName('script')[0];\n  firstScriptTag.parentNode.insertBefore(tag, firstScriptTag);\n});\n};\n\nif(typeof $3Dmolpromise === 'undefined') {\n$3Dmolpromise = null;\n  $3Dmolpromise = loadScriptAsync('https://3dmol.csb.pitt.edu/build/3Dmol.js');\n}\n\nvar viewer_12294314640613 = null;\nvar warn = document.getElementById(\"3dmolwarning_12294314640613\");\nif(warn) {\n    warn.parentNode.removeChild(warn);\n}\n$3Dmolpromise.then(function() {\nviewer_12294314640613 = $3Dmol.createViewer($(\"#3dmolviewer_12294314640613\"),{backgroundColor:\"white\"});\n\tviewer_12294314640613.addModel(\"@<TRIPOS>MOLECULE\\nRES\\n27 0 1 0 1\\nSMALL\\nNO_CHARGES\\n@<TRIPOS>CRYSIN\\n   12.3993    13.1704    11.8112    90.0000    90.0000    90.0000  1  1\\n@<TRIPOS>ATOM\\n       1 C          -24.0750   -36.7693   -11.6478 C             1 RES     \\n       2 C          -24.1231   -37.9772   -10.9502 C             1 RES     \\n       3 S          -24.6880   -37.5934    -9.4393 S             1 RES     \\n       4 C          -24.8924   -35.9537    -9.5807 C             1 RES     \\n       5 C          -24.5038   -35.6378   -10.8863 C             1 RES     \\n       6 C          -24.4481   -34.2237   -11.6722 C             1 RES     \\n       7 C          -22.9669   -34.1602   -12.5617 C             1 RES     \\n       8 C          -22.4323   -32.9325   -13.6019 C             1 RES     \\n       9 C          -21.1177   -33.4045   -14.4542 C             1 RES     \\n      10 C          -19.5901   -32.9664   -13.8832 C             1 RES     \\n      11 C          -19.0559   -31.5283   -14.5768 C             1 RES     \\n      12 H          -23.8208   -38.9183   -11.4190 H             1 RES     \\n      13 H          -18.7551   -31.7257   -15.6774 H             1 RES     \\n      14 H          -18.1413   -31.1331   -13.9892 H             1 RES     \\n      15 H          -19.9089   -30.7479   -14.5422 H             1 RES     \\n      16 H          -19.6407   -32.8339   -12.7416 H             1 RES     \\n      17 H          -18.8409   -33.8010   -14.1458 H             1 RES     \\n      18 H          -21.2088   -32.9857   -15.5306 H             1 RES     \\n      19 H          -21.1125   -34.5625   -14.5244 H             1 RES     \\n      20 H          -22.1815   -32.0017   -12.9672 H             1 RES     \\n      21 H          -23.2954   -32.6808   -14.3260 H             1 RES     \\n      22 H          -22.1432   -34.2661   -11.7582 H             1 RES     \\n      23 H          -22.9565   -35.0883   -13.2432 H             1 RES     \\n      24 H          -25.3203   -34.1325   -12.4285 H             1 RES     \\n      25 H          -24.4712   -33.3291   -10.9400 H             1 RES     \\n      26 H          -24.0000   -36.7596   -12.7891 H             1 RES     \\n      27 H          -25.5406   -35.4378    -8.8662 H             1 RES     \\n@<TRIPOS>BOND\\n@<TRIPOS>SUBSTRUCTURE\\n       1 RES             1 RESIDUE    0 **** ROOT      0\\n\",\"mol2\");\n\tviewer_12294314640613.setStyle({\"stick\": {\"radius\": 0.2, \"color\": \"grey\"}, \"sphere\": {\"scale\": 0.3, \"colorscheme\": {}}});\n\tviewer_12294314640613.zoomTo();\nviewer_12294314640613.render();\n});\n</script>",
      "text/html": [
       "<div id=\"3dmolviewer_12294314640613\"  style=\"position: relative; width: 640px; height: 480px\">\n",
       "        <p id=\"3dmolwarning_12294314640613\" style=\"background-color:#ffcccc;color:black\">You appear to be running in JupyterLab (or JavaScript failed to load for some other reason).  You need to install the 3dmol extension: <br>\n",
       "        <tt>jupyter labextension install jupyterlab_3dmol</tt></p>\n",
       "        </div>\n",
       "<script>\n",
       "\n",
       "var loadScriptAsync = function(uri){\n",
       "  return new Promise((resolve, reject) => {\n",
       "    var tag = document.createElement('script');\n",
       "    tag.src = uri;\n",
       "    tag.async = true;\n",
       "    tag.onload = () => {\n",
       "      resolve();\n",
       "    };\n",
       "  var firstScriptTag = document.getElementsByTagName('script')[0];\n",
       "  firstScriptTag.parentNode.insertBefore(tag, firstScriptTag);\n",
       "});\n",
       "};\n",
       "\n",
       "if(typeof $3Dmolpromise === 'undefined') {\n",
       "$3Dmolpromise = null;\n",
       "  $3Dmolpromise = loadScriptAsync('https://3dmol.csb.pitt.edu/build/3Dmol.js');\n",
       "}\n",
       "\n",
       "var viewer_12294314640613 = null;\n",
       "var warn = document.getElementById(\"3dmolwarning_12294314640613\");\n",
       "if(warn) {\n",
       "    warn.parentNode.removeChild(warn);\n",
       "}\n",
       "$3Dmolpromise.then(function() {\n",
       "viewer_12294314640613 = $3Dmol.createViewer($(\"#3dmolviewer_12294314640613\"),{backgroundColor:\"white\"});\n",
       "\tviewer_12294314640613.addModel(\"@<TRIPOS>MOLECULE\\nRES\\n27 0 1 0 1\\nSMALL\\nNO_CHARGES\\n@<TRIPOS>CRYSIN\\n   12.3993    13.1704    11.8112    90.0000    90.0000    90.0000  1  1\\n@<TRIPOS>ATOM\\n       1 C          -24.0750   -36.7693   -11.6478 C             1 RES     \\n       2 C          -24.1231   -37.9772   -10.9502 C             1 RES     \\n       3 S          -24.6880   -37.5934    -9.4393 S             1 RES     \\n       4 C          -24.8924   -35.9537    -9.5807 C             1 RES     \\n       5 C          -24.5038   -35.6378   -10.8863 C             1 RES     \\n       6 C          -24.4481   -34.2237   -11.6722 C             1 RES     \\n       7 C          -22.9669   -34.1602   -12.5617 C             1 RES     \\n       8 C          -22.4323   -32.9325   -13.6019 C             1 RES     \\n       9 C          -21.1177   -33.4045   -14.4542 C             1 RES     \\n      10 C          -19.5901   -32.9664   -13.8832 C             1 RES     \\n      11 C          -19.0559   -31.5283   -14.5768 C             1 RES     \\n      12 H          -23.8208   -38.9183   -11.4190 H             1 RES     \\n      13 H          -18.7551   -31.7257   -15.6774 H             1 RES     \\n      14 H          -18.1413   -31.1331   -13.9892 H             1 RES     \\n      15 H          -19.9089   -30.7479   -14.5422 H             1 RES     \\n      16 H          -19.6407   -32.8339   -12.7416 H             1 RES     \\n      17 H          -18.8409   -33.8010   -14.1458 H             1 RES     \\n      18 H          -21.2088   -32.9857   -15.5306 H             1 RES     \\n      19 H          -21.1125   -34.5625   -14.5244 H             1 RES     \\n      20 H          -22.1815   -32.0017   -12.9672 H             1 RES     \\n      21 H          -23.2954   -32.6808   -14.3260 H             1 RES     \\n      22 H          -22.1432   -34.2661   -11.7582 H             1 RES     \\n      23 H          -22.9565   -35.0883   -13.2432 H             1 RES     \\n      24 H          -25.3203   -34.1325   -12.4285 H             1 RES     \\n      25 H          -24.4712   -33.3291   -10.9400 H             1 RES     \\n      26 H          -24.0000   -36.7596   -12.7891 H             1 RES     \\n      27 H          -25.5406   -35.4378    -8.8662 H             1 RES     \\n@<TRIPOS>BOND\\n@<TRIPOS>SUBSTRUCTURE\\n       1 RES             1 RESIDUE    0 **** ROOT      0\\n\",\"mol2\");\n",
       "\tviewer_12294314640613.setStyle({\"stick\": {\"radius\": 0.2, \"color\": \"grey\"}, \"sphere\": {\"scale\": 0.3, \"colorscheme\": {}}});\n",
       "\tviewer_12294314640613.zoomTo();\n",
       "viewer_12294314640613.render();\n",
       "});\n",
       "</script>"
      ]
     },
     "metadata": {},
     "output_type": "display_data"
    },
    {
     "data": {
      "application/3dmoljs_load.v0": "<div id=\"3dmolviewer_12294467204865\"  style=\"position: relative; width: 640px; height: 480px\">\n        <p id=\"3dmolwarning_12294467204865\" style=\"background-color:#ffcccc;color:black\">You appear to be running in JupyterLab (or JavaScript failed to load for some other reason).  You need to install the 3dmol extension: <br>\n        <tt>jupyter labextension install jupyterlab_3dmol</tt></p>\n        </div>\n<script>\n\nvar loadScriptAsync = function(uri){\n  return new Promise((resolve, reject) => {\n    var tag = document.createElement('script');\n    tag.src = uri;\n    tag.async = true;\n    tag.onload = () => {\n      resolve();\n    };\n  var firstScriptTag = document.getElementsByTagName('script')[0];\n  firstScriptTag.parentNode.insertBefore(tag, firstScriptTag);\n});\n};\n\nif(typeof $3Dmolpromise === 'undefined') {\n$3Dmolpromise = null;\n  $3Dmolpromise = loadScriptAsync('https://3dmol.csb.pitt.edu/build/3Dmol.js');\n}\n\nvar viewer_12294467204865 = null;\nvar warn = document.getElementById(\"3dmolwarning_12294467204865\");\nif(warn) {\n    warn.parentNode.removeChild(warn);\n}\n$3Dmolpromise.then(function() {\nviewer_12294467204865 = $3Dmol.createViewer($(\"#3dmolviewer_12294467204865\"),{backgroundColor:\"white\"});\n\tviewer_12294467204865.addModel(\"@<TRIPOS>MOLECULE\\nRES\\n27 0 1 0 1\\nSMALL\\nNO_CHARGES\\n@<TRIPOS>CRYSIN\\n   12.9538    13.7690     9.2511    90.0000    90.0000    90.0000  1  1\\n@<TRIPOS>ATOM\\n       1 C          -26.8091   -35.8292    -7.6764 C             1 RES     \\n       2 C          -25.8870   -35.1621    -8.4842 C             1 RES     \\n       3 S          -26.0407   -33.5568    -8.0987 S             1 RES     \\n       4 C          -27.2278   -33.6174    -6.9421 C             1 RES     \\n       5 C          -27.5592   -34.9698    -6.8143 C             1 RES     \\n       6 C          -28.6836   -35.5572    -5.8004 C             1 RES     \\n       7 C          -29.8469   -36.5793    -6.5437 C             1 RES     \\n       8 C          -31.1739   -37.4887    -5.9500 C             1 RES     \\n       9 C          -30.9485   -39.0892    -5.7023 C             1 RES     \\n      10 C          -31.0482   -40.0719    -7.0895 C             1 RES     \\n      11 C          -32.5434   -40.6536    -7.6030 C             1 RES     \\n      12 H          -25.2389   -35.6780    -9.1988 H             1 RES     \\n      13 H          -32.3785   -41.5932    -8.2603 H             1 RES     \\n      14 H          -33.0729   -39.8365    -8.2292 H             1 RES     \\n      15 H          -33.1927   -40.9285    -6.6875 H             1 RES     \\n      16 H          -30.3836   -40.9945    -6.8871 H             1 RES     \\n      17 H          -30.6146   -39.4678    -7.9618 H             1 RES     \\n      18 H          -31.7532   -39.4748    -4.9663 H             1 RES     \\n      19 H          -29.9050   -39.2625    -5.2378 H             1 RES     \\n      20 H          -31.4802   -37.0006    -4.9477 H             1 RES     \\n      21 H          -32.0354   -37.3508    -6.7092 H             1 RES     \\n      22 H          -29.2130   -37.3593    -7.0598 H             1 RES     \\n      23 H          -30.3328   -35.8869    -7.3392 H             1 RES     \\n      24 H          -29.2770   -34.6909    -5.3034 H             1 RES     \\n      25 H          -28.1725   -36.1781    -4.9635 H             1 RES     \\n      26 H          -26.7480   -36.9498    -7.4804 H             1 RES     \\n      27 H          -27.6315   -32.8242    -6.3059 H             1 RES     \\n@<TRIPOS>BOND\\n@<TRIPOS>SUBSTRUCTURE\\n       1 RES             1 RESIDUE    0 **** ROOT      0\\n\",\"mol2\");\n\tviewer_12294467204865.setStyle({\"stick\": {\"radius\": 0.2, \"color\": \"grey\"}, \"sphere\": {\"scale\": 0.3, \"colorscheme\": {}}});\n\tviewer_12294467204865.zoomTo();\nviewer_12294467204865.render();\n});\n</script>",
      "text/html": [
       "<div id=\"3dmolviewer_12294467204865\"  style=\"position: relative; width: 640px; height: 480px\">\n",
       "        <p id=\"3dmolwarning_12294467204865\" style=\"background-color:#ffcccc;color:black\">You appear to be running in JupyterLab (or JavaScript failed to load for some other reason).  You need to install the 3dmol extension: <br>\n",
       "        <tt>jupyter labextension install jupyterlab_3dmol</tt></p>\n",
       "        </div>\n",
       "<script>\n",
       "\n",
       "var loadScriptAsync = function(uri){\n",
       "  return new Promise((resolve, reject) => {\n",
       "    var tag = document.createElement('script');\n",
       "    tag.src = uri;\n",
       "    tag.async = true;\n",
       "    tag.onload = () => {\n",
       "      resolve();\n",
       "    };\n",
       "  var firstScriptTag = document.getElementsByTagName('script')[0];\n",
       "  firstScriptTag.parentNode.insertBefore(tag, firstScriptTag);\n",
       "});\n",
       "};\n",
       "\n",
       "if(typeof $3Dmolpromise === 'undefined') {\n",
       "$3Dmolpromise = null;\n",
       "  $3Dmolpromise = loadScriptAsync('https://3dmol.csb.pitt.edu/build/3Dmol.js');\n",
       "}\n",
       "\n",
       "var viewer_12294467204865 = null;\n",
       "var warn = document.getElementById(\"3dmolwarning_12294467204865\");\n",
       "if(warn) {\n",
       "    warn.parentNode.removeChild(warn);\n",
       "}\n",
       "$3Dmolpromise.then(function() {\n",
       "viewer_12294467204865 = $3Dmol.createViewer($(\"#3dmolviewer_12294467204865\"),{backgroundColor:\"white\"});\n",
       "\tviewer_12294467204865.addModel(\"@<TRIPOS>MOLECULE\\nRES\\n27 0 1 0 1\\nSMALL\\nNO_CHARGES\\n@<TRIPOS>CRYSIN\\n   12.9538    13.7690     9.2511    90.0000    90.0000    90.0000  1  1\\n@<TRIPOS>ATOM\\n       1 C          -26.8091   -35.8292    -7.6764 C             1 RES     \\n       2 C          -25.8870   -35.1621    -8.4842 C             1 RES     \\n       3 S          -26.0407   -33.5568    -8.0987 S             1 RES     \\n       4 C          -27.2278   -33.6174    -6.9421 C             1 RES     \\n       5 C          -27.5592   -34.9698    -6.8143 C             1 RES     \\n       6 C          -28.6836   -35.5572    -5.8004 C             1 RES     \\n       7 C          -29.8469   -36.5793    -6.5437 C             1 RES     \\n       8 C          -31.1739   -37.4887    -5.9500 C             1 RES     \\n       9 C          -30.9485   -39.0892    -5.7023 C             1 RES     \\n      10 C          -31.0482   -40.0719    -7.0895 C             1 RES     \\n      11 C          -32.5434   -40.6536    -7.6030 C             1 RES     \\n      12 H          -25.2389   -35.6780    -9.1988 H             1 RES     \\n      13 H          -32.3785   -41.5932    -8.2603 H             1 RES     \\n      14 H          -33.0729   -39.8365    -8.2292 H             1 RES     \\n      15 H          -33.1927   -40.9285    -6.6875 H             1 RES     \\n      16 H          -30.3836   -40.9945    -6.8871 H             1 RES     \\n      17 H          -30.6146   -39.4678    -7.9618 H             1 RES     \\n      18 H          -31.7532   -39.4748    -4.9663 H             1 RES     \\n      19 H          -29.9050   -39.2625    -5.2378 H             1 RES     \\n      20 H          -31.4802   -37.0006    -4.9477 H             1 RES     \\n      21 H          -32.0354   -37.3508    -6.7092 H             1 RES     \\n      22 H          -29.2130   -37.3593    -7.0598 H             1 RES     \\n      23 H          -30.3328   -35.8869    -7.3392 H             1 RES     \\n      24 H          -29.2770   -34.6909    -5.3034 H             1 RES     \\n      25 H          -28.1725   -36.1781    -4.9635 H             1 RES     \\n      26 H          -26.7480   -36.9498    -7.4804 H             1 RES     \\n      27 H          -27.6315   -32.8242    -6.3059 H             1 RES     \\n@<TRIPOS>BOND\\n@<TRIPOS>SUBSTRUCTURE\\n       1 RES             1 RESIDUE    0 **** ROOT      0\\n\",\"mol2\");\n",
       "\tviewer_12294467204865.setStyle({\"stick\": {\"radius\": 0.2, \"color\": \"grey\"}, \"sphere\": {\"scale\": 0.3, \"colorscheme\": {}}});\n",
       "\tviewer_12294467204865.zoomTo();\n",
       "viewer_12294467204865.render();\n",
       "});\n",
       "</script>"
      ]
     },
     "metadata": {},
     "output_type": "display_data"
    },
    {
     "data": {
      "application/3dmoljs_load.v0": "<div id=\"3dmolviewer_12294505465118\"  style=\"position: relative; width: 640px; height: 480px\">\n        <p id=\"3dmolwarning_12294505465118\" style=\"background-color:#ffcccc;color:black\">You appear to be running in JupyterLab (or JavaScript failed to load for some other reason).  You need to install the 3dmol extension: <br>\n        <tt>jupyter labextension install jupyterlab_3dmol</tt></p>\n        </div>\n<script>\n\nvar loadScriptAsync = function(uri){\n  return new Promise((resolve, reject) => {\n    var tag = document.createElement('script');\n    tag.src = uri;\n    tag.async = true;\n    tag.onload = () => {\n      resolve();\n    };\n  var firstScriptTag = document.getElementsByTagName('script')[0];\n  firstScriptTag.parentNode.insertBefore(tag, firstScriptTag);\n});\n};\n\nif(typeof $3Dmolpromise === 'undefined') {\n$3Dmolpromise = null;\n  $3Dmolpromise = loadScriptAsync('https://3dmol.csb.pitt.edu/build/3Dmol.js');\n}\n\nvar viewer_12294505465118 = null;\nvar warn = document.getElementById(\"3dmolwarning_12294505465118\");\nif(warn) {\n    warn.parentNode.removeChild(warn);\n}\n$3Dmolpromise.then(function() {\nviewer_12294505465118 = $3Dmol.createViewer($(\"#3dmolviewer_12294505465118\"),{backgroundColor:\"white\"});\n\tviewer_12294505465118.addModel(\"@<TRIPOS>MOLECULE\\nRES\\n27 0 1 0 1\\nSMALL\\nNO_CHARGES\\n@<TRIPOS>CRYSIN\\n   12.9234    12.5828    11.0130    90.0000    90.0000    90.0000  1  1\\n@<TRIPOS>ATOM\\n       1 C          -27.2555   -31.7587    -4.8996 C             1 RES     \\n       2 C          -27.8370   -32.4206    -5.9821 C             1 RES     \\n       3 S          -29.3502   -31.7622    -6.1423 S             1 RES     \\n       4 C          -29.3505   -30.6554    -4.9072 C             1 RES     \\n       5 C          -28.0977   -30.7728    -4.2973 C             1 RES     \\n       6 C          -27.6810   -29.8388    -3.0413 C             1 RES     \\n       7 C          -26.3664   -28.7924    -3.2754 C             1 RES     \\n       8 C          -25.9512   -27.7468    -2.0042 C             1 RES     \\n       9 C          -24.9345   -26.5649    -2.4890 C             1 RES     \\n      10 C          -23.2711   -26.8504    -2.4354 C             1 RES     \\n      11 C          -22.8216   -28.3055    -1.7293 C             1 RES     \\n      12 H          -27.4332   -33.2137    -6.6183 H             1 RES     \\n      13 H          -21.6778   -28.4458    -1.8423 H             1 RES     \\n      14 H          -23.3711   -29.1789    -2.2504 H             1 RES     \\n      15 H          -23.0978   -28.2832    -0.6053 H             1 RES     \\n      16 H          -22.8789   -26.8489    -3.5211 H             1 RES     \\n      17 H          -22.7732   -25.9910    -1.8500 H             1 RES     \\n      18 H          -25.1879   -26.2826    -3.5843 H             1 RES     \\n      19 H          -25.1260   -25.6309    -1.8281 H             1 RES     \\n      20 H          -26.9302   -27.2691    -1.6142 H             1 RES     \\n      21 H          -25.4817   -28.3712    -1.1561 H             1 RES     \\n      22 H          -25.4422   -29.4342    -3.5169 H             1 RES     \\n      23 H          -26.6318   -28.1336    -4.1842 H             1 RES     \\n      24 H          -28.5727   -29.2162    -2.6388 H             1 RES     \\n      25 H          -27.3493   -30.5414    -2.1650 H             1 RES     \\n      26 H          -26.1980   -31.9695    -4.5229 H             1 RES     \\n      27 H          -29.6013   -29.5951    -4.8092 H             1 RES     \\n@<TRIPOS>BOND\\n@<TRIPOS>SUBSTRUCTURE\\n       1 RES             1 RESIDUE    0 **** ROOT      0\\n\",\"mol2\");\n\tviewer_12294505465118.setStyle({\"stick\": {\"radius\": 0.2, \"color\": \"grey\"}, \"sphere\": {\"scale\": 0.3, \"colorscheme\": {}}});\n\tviewer_12294505465118.zoomTo();\nviewer_12294505465118.render();\n});\n</script>",
      "text/html": [
       "<div id=\"3dmolviewer_12294505465118\"  style=\"position: relative; width: 640px; height: 480px\">\n",
       "        <p id=\"3dmolwarning_12294505465118\" style=\"background-color:#ffcccc;color:black\">You appear to be running in JupyterLab (or JavaScript failed to load for some other reason).  You need to install the 3dmol extension: <br>\n",
       "        <tt>jupyter labextension install jupyterlab_3dmol</tt></p>\n",
       "        </div>\n",
       "<script>\n",
       "\n",
       "var loadScriptAsync = function(uri){\n",
       "  return new Promise((resolve, reject) => {\n",
       "    var tag = document.createElement('script');\n",
       "    tag.src = uri;\n",
       "    tag.async = true;\n",
       "    tag.onload = () => {\n",
       "      resolve();\n",
       "    };\n",
       "  var firstScriptTag = document.getElementsByTagName('script')[0];\n",
       "  firstScriptTag.parentNode.insertBefore(tag, firstScriptTag);\n",
       "});\n",
       "};\n",
       "\n",
       "if(typeof $3Dmolpromise === 'undefined') {\n",
       "$3Dmolpromise = null;\n",
       "  $3Dmolpromise = loadScriptAsync('https://3dmol.csb.pitt.edu/build/3Dmol.js');\n",
       "}\n",
       "\n",
       "var viewer_12294505465118 = null;\n",
       "var warn = document.getElementById(\"3dmolwarning_12294505465118\");\n",
       "if(warn) {\n",
       "    warn.parentNode.removeChild(warn);\n",
       "}\n",
       "$3Dmolpromise.then(function() {\n",
       "viewer_12294505465118 = $3Dmol.createViewer($(\"#3dmolviewer_12294505465118\"),{backgroundColor:\"white\"});\n",
       "\tviewer_12294505465118.addModel(\"@<TRIPOS>MOLECULE\\nRES\\n27 0 1 0 1\\nSMALL\\nNO_CHARGES\\n@<TRIPOS>CRYSIN\\n   12.9234    12.5828    11.0130    90.0000    90.0000    90.0000  1  1\\n@<TRIPOS>ATOM\\n       1 C          -27.2555   -31.7587    -4.8996 C             1 RES     \\n       2 C          -27.8370   -32.4206    -5.9821 C             1 RES     \\n       3 S          -29.3502   -31.7622    -6.1423 S             1 RES     \\n       4 C          -29.3505   -30.6554    -4.9072 C             1 RES     \\n       5 C          -28.0977   -30.7728    -4.2973 C             1 RES     \\n       6 C          -27.6810   -29.8388    -3.0413 C             1 RES     \\n       7 C          -26.3664   -28.7924    -3.2754 C             1 RES     \\n       8 C          -25.9512   -27.7468    -2.0042 C             1 RES     \\n       9 C          -24.9345   -26.5649    -2.4890 C             1 RES     \\n      10 C          -23.2711   -26.8504    -2.4354 C             1 RES     \\n      11 C          -22.8216   -28.3055    -1.7293 C             1 RES     \\n      12 H          -27.4332   -33.2137    -6.6183 H             1 RES     \\n      13 H          -21.6778   -28.4458    -1.8423 H             1 RES     \\n      14 H          -23.3711   -29.1789    -2.2504 H             1 RES     \\n      15 H          -23.0978   -28.2832    -0.6053 H             1 RES     \\n      16 H          -22.8789   -26.8489    -3.5211 H             1 RES     \\n      17 H          -22.7732   -25.9910    -1.8500 H             1 RES     \\n      18 H          -25.1879   -26.2826    -3.5843 H             1 RES     \\n      19 H          -25.1260   -25.6309    -1.8281 H             1 RES     \\n      20 H          -26.9302   -27.2691    -1.6142 H             1 RES     \\n      21 H          -25.4817   -28.3712    -1.1561 H             1 RES     \\n      22 H          -25.4422   -29.4342    -3.5169 H             1 RES     \\n      23 H          -26.6318   -28.1336    -4.1842 H             1 RES     \\n      24 H          -28.5727   -29.2162    -2.6388 H             1 RES     \\n      25 H          -27.3493   -30.5414    -2.1650 H             1 RES     \\n      26 H          -26.1980   -31.9695    -4.5229 H             1 RES     \\n      27 H          -29.6013   -29.5951    -4.8092 H             1 RES     \\n@<TRIPOS>BOND\\n@<TRIPOS>SUBSTRUCTURE\\n       1 RES             1 RESIDUE    0 **** ROOT      0\\n\",\"mol2\");\n",
       "\tviewer_12294505465118.setStyle({\"stick\": {\"radius\": 0.2, \"color\": \"grey\"}, \"sphere\": {\"scale\": 0.3, \"colorscheme\": {}}});\n",
       "\tviewer_12294505465118.zoomTo();\n",
       "viewer_12294505465118.render();\n",
       "});\n",
       "</script>"
      ]
     },
     "metadata": {},
     "output_type": "display_data"
    },
    {
     "data": {
      "application/3dmoljs_load.v0": "<div id=\"3dmolviewer_12294616225772\"  style=\"position: relative; width: 640px; height: 480px\">\n        <p id=\"3dmolwarning_12294616225772\" style=\"background-color:#ffcccc;color:black\">You appear to be running in JupyterLab (or JavaScript failed to load for some other reason).  You need to install the 3dmol extension: <br>\n        <tt>jupyter labextension install jupyterlab_3dmol</tt></p>\n        </div>\n<script>\n\nvar loadScriptAsync = function(uri){\n  return new Promise((resolve, reject) => {\n    var tag = document.createElement('script');\n    tag.src = uri;\n    tag.async = true;\n    tag.onload = () => {\n      resolve();\n    };\n  var firstScriptTag = document.getElementsByTagName('script')[0];\n  firstScriptTag.parentNode.insertBefore(tag, firstScriptTag);\n});\n};\n\nif(typeof $3Dmolpromise === 'undefined') {\n$3Dmolpromise = null;\n  $3Dmolpromise = loadScriptAsync('https://3dmol.csb.pitt.edu/build/3Dmol.js');\n}\n\nvar viewer_12294616225772 = null;\nvar warn = document.getElementById(\"3dmolwarning_12294616225772\");\nif(warn) {\n    warn.parentNode.removeChild(warn);\n}\n$3Dmolpromise.then(function() {\nviewer_12294616225772 = $3Dmol.createViewer($(\"#3dmolviewer_12294616225772\"),{backgroundColor:\"white\"});\n\tviewer_12294616225772.addModel(\"@<TRIPOS>MOLECULE\\nRES\\n27 0 1 0 1\\nSMALL\\nNO_CHARGES\\n@<TRIPOS>CRYSIN\\n   15.5518     9.0471     9.1872    90.0000    90.0000    90.0000  1  1\\n@<TRIPOS>ATOM\\n       1 C          -30.9165   -29.3185    -4.1846 C             1 RES     \\n       2 C          -29.8312   -28.6227    -4.7192 C             1 RES     \\n       3 S          -30.2063   -27.0169    -4.5462 S             1 RES     \\n       4 C          -31.6937   -27.1120    -3.8189 C             1 RES     \\n       5 C          -31.9580   -28.4782    -3.6811 C             1 RES     \\n       6 C          -33.3641   -28.9274    -3.0184 C             1 RES     \\n       7 C          -34.5505   -29.3288    -4.1715 C             1 RES     \\n       8 C          -35.4210   -27.9610    -4.7236 C             1 RES     \\n       9 C          -36.9972   -27.7563    -4.3499 C             1 RES     \\n      10 C          -37.9553   -28.1769    -5.6895 C             1 RES     \\n      11 C          -39.6164   -28.2763    -5.4607 C             1 RES     \\n      12 H          -29.5805   -29.6830    -4.8173 H             1 RES     \\n      13 H          -39.8492   -29.2009    -4.8037 H             1 RES     \\n      14 H          -40.1323   -28.3975    -6.4907 H             1 RES     \\n      15 H          -40.0021   -27.3186    -4.9415 H             1 RES     \\n      16 H          -37.5833   -29.1923    -6.0860 H             1 RES     \\n      17 H          -37.7746   -27.3639    -6.4911 H             1 RES     \\n      18 H          -37.2988   -28.4264    -3.4618 H             1 RES     \\n      19 H          -37.2113   -26.6535    -4.0851 H             1 RES     \\n      20 H          -34.8421   -27.0288    -4.3794 H             1 RES     \\n      21 H          -35.3314   -28.0060    -5.8821 H             1 RES     \\n      22 H          -34.0452   -29.8304    -5.0706 H             1 RES     \\n      23 H          -35.3005   -30.0478    -3.6804 H             1 RES     \\n      24 H          -33.7966   -28.1283    -2.3039 H             1 RES     \\n      25 H          -33.1952   -29.8930    -2.3823 H             1 RES     \\n      26 H          -31.4183   -30.3449    -4.4722 H             1 RES     \\n      27 H          -32.0868   -26.2978    -3.2029 H             1 RES     \\n@<TRIPOS>BOND\\n@<TRIPOS>SUBSTRUCTURE\\n       1 RES             1 RESIDUE    0 **** ROOT      0\\n\",\"mol2\");\n\tviewer_12294616225772.setStyle({\"stick\": {\"radius\": 0.2, \"color\": \"grey\"}, \"sphere\": {\"scale\": 0.3, \"colorscheme\": {}}});\n\tviewer_12294616225772.zoomTo();\nviewer_12294616225772.render();\n});\n</script>",
      "text/html": [
       "<div id=\"3dmolviewer_12294616225772\"  style=\"position: relative; width: 640px; height: 480px\">\n",
       "        <p id=\"3dmolwarning_12294616225772\" style=\"background-color:#ffcccc;color:black\">You appear to be running in JupyterLab (or JavaScript failed to load for some other reason).  You need to install the 3dmol extension: <br>\n",
       "        <tt>jupyter labextension install jupyterlab_3dmol</tt></p>\n",
       "        </div>\n",
       "<script>\n",
       "\n",
       "var loadScriptAsync = function(uri){\n",
       "  return new Promise((resolve, reject) => {\n",
       "    var tag = document.createElement('script');\n",
       "    tag.src = uri;\n",
       "    tag.async = true;\n",
       "    tag.onload = () => {\n",
       "      resolve();\n",
       "    };\n",
       "  var firstScriptTag = document.getElementsByTagName('script')[0];\n",
       "  firstScriptTag.parentNode.insertBefore(tag, firstScriptTag);\n",
       "});\n",
       "};\n",
       "\n",
       "if(typeof $3Dmolpromise === 'undefined') {\n",
       "$3Dmolpromise = null;\n",
       "  $3Dmolpromise = loadScriptAsync('https://3dmol.csb.pitt.edu/build/3Dmol.js');\n",
       "}\n",
       "\n",
       "var viewer_12294616225772 = null;\n",
       "var warn = document.getElementById(\"3dmolwarning_12294616225772\");\n",
       "if(warn) {\n",
       "    warn.parentNode.removeChild(warn);\n",
       "}\n",
       "$3Dmolpromise.then(function() {\n",
       "viewer_12294616225772 = $3Dmol.createViewer($(\"#3dmolviewer_12294616225772\"),{backgroundColor:\"white\"});\n",
       "\tviewer_12294616225772.addModel(\"@<TRIPOS>MOLECULE\\nRES\\n27 0 1 0 1\\nSMALL\\nNO_CHARGES\\n@<TRIPOS>CRYSIN\\n   15.5518     9.0471     9.1872    90.0000    90.0000    90.0000  1  1\\n@<TRIPOS>ATOM\\n       1 C          -30.9165   -29.3185    -4.1846 C             1 RES     \\n       2 C          -29.8312   -28.6227    -4.7192 C             1 RES     \\n       3 S          -30.2063   -27.0169    -4.5462 S             1 RES     \\n       4 C          -31.6937   -27.1120    -3.8189 C             1 RES     \\n       5 C          -31.9580   -28.4782    -3.6811 C             1 RES     \\n       6 C          -33.3641   -28.9274    -3.0184 C             1 RES     \\n       7 C          -34.5505   -29.3288    -4.1715 C             1 RES     \\n       8 C          -35.4210   -27.9610    -4.7236 C             1 RES     \\n       9 C          -36.9972   -27.7563    -4.3499 C             1 RES     \\n      10 C          -37.9553   -28.1769    -5.6895 C             1 RES     \\n      11 C          -39.6164   -28.2763    -5.4607 C             1 RES     \\n      12 H          -29.5805   -29.6830    -4.8173 H             1 RES     \\n      13 H          -39.8492   -29.2009    -4.8037 H             1 RES     \\n      14 H          -40.1323   -28.3975    -6.4907 H             1 RES     \\n      15 H          -40.0021   -27.3186    -4.9415 H             1 RES     \\n      16 H          -37.5833   -29.1923    -6.0860 H             1 RES     \\n      17 H          -37.7746   -27.3639    -6.4911 H             1 RES     \\n      18 H          -37.2988   -28.4264    -3.4618 H             1 RES     \\n      19 H          -37.2113   -26.6535    -4.0851 H             1 RES     \\n      20 H          -34.8421   -27.0288    -4.3794 H             1 RES     \\n      21 H          -35.3314   -28.0060    -5.8821 H             1 RES     \\n      22 H          -34.0452   -29.8304    -5.0706 H             1 RES     \\n      23 H          -35.3005   -30.0478    -3.6804 H             1 RES     \\n      24 H          -33.7966   -28.1283    -2.3039 H             1 RES     \\n      25 H          -33.1952   -29.8930    -2.3823 H             1 RES     \\n      26 H          -31.4183   -30.3449    -4.4722 H             1 RES     \\n      27 H          -32.0868   -26.2978    -3.2029 H             1 RES     \\n@<TRIPOS>BOND\\n@<TRIPOS>SUBSTRUCTURE\\n       1 RES             1 RESIDUE    0 **** ROOT      0\\n\",\"mol2\");\n",
       "\tviewer_12294616225772.setStyle({\"stick\": {\"radius\": 0.2, \"color\": \"grey\"}, \"sphere\": {\"scale\": 0.3, \"colorscheme\": {}}});\n",
       "\tviewer_12294616225772.zoomTo();\n",
       "viewer_12294616225772.render();\n",
       "});\n",
       "</script>"
      ]
     },
     "metadata": {},
     "output_type": "display_data"
    },
    {
     "data": {
      "application/3dmoljs_load.v0": "<div id=\"3dmolviewer_12294750799433\"  style=\"position: relative; width: 640px; height: 480px\">\n        <p id=\"3dmolwarning_12294750799433\" style=\"background-color:#ffcccc;color:black\">You appear to be running in JupyterLab (or JavaScript failed to load for some other reason).  You need to install the 3dmol extension: <br>\n        <tt>jupyter labextension install jupyterlab_3dmol</tt></p>\n        </div>\n<script>\n\nvar loadScriptAsync = function(uri){\n  return new Promise((resolve, reject) => {\n    var tag = document.createElement('script');\n    tag.src = uri;\n    tag.async = true;\n    tag.onload = () => {\n      resolve();\n    };\n  var firstScriptTag = document.getElementsByTagName('script')[0];\n  firstScriptTag.parentNode.insertBefore(tag, firstScriptTag);\n});\n};\n\nif(typeof $3Dmolpromise === 'undefined') {\n$3Dmolpromise = null;\n  $3Dmolpromise = loadScriptAsync('https://3dmol.csb.pitt.edu/build/3Dmol.js');\n}\n\nvar viewer_12294750799433 = null;\nvar warn = document.getElementById(\"3dmolwarning_12294750799433\");\nif(warn) {\n    warn.parentNode.removeChild(warn);\n}\n$3Dmolpromise.then(function() {\nviewer_12294750799433 = $3Dmol.createViewer($(\"#3dmolviewer_12294750799433\"),{backgroundColor:\"white\"});\n\tviewer_12294750799433.addModel(\"@<TRIPOS>MOLECULE\\nRES\\n27 0 1 0 1\\nSMALL\\nNO_CHARGES\\n@<TRIPOS>CRYSIN\\n   13.3194    14.6800     9.0675    90.0000    90.0000    90.0000  1  1\\n@<TRIPOS>ATOM\\n       1 C          -31.5269   -24.9326    -2.2445 C             1 RES     \\n       2 C          -32.2757   -25.9065    -2.9068 C             1 RES     \\n       3 S          -33.8589   -25.5639    -2.5532 S             1 RES     \\n       4 C          -33.6893   -24.2264    -1.5875 C             1 RES     \\n       5 C          -32.3129   -23.9931    -1.5071 C             1 RES     \\n       6 C          -31.6350   -22.7901    -0.6628 C             1 RES     \\n       7 C          -30.3301   -22.0021    -1.3791 C             1 RES     \\n       8 C          -29.5527   -20.7288    -0.5657 C             1 RES     \\n       9 C          -28.1006   -20.5073    -1.2754 C             1 RES     \\n      10 C          -27.1604   -19.1735    -0.8556 C             1 RES     \\n      11 C          -27.4089   -17.8910    -1.9165 C             1 RES     \\n      12 H          -31.8826   -26.7207    -3.5229 H             1 RES     \\n      13 H          -26.6646   -17.0407    -1.6698 H             1 RES     \\n      14 H          -28.4942   -17.5070    -1.8065 H             1 RES     \\n      15 H          -27.2342   -18.2557    -3.0015 H             1 RES     \\n      16 H          -27.4320   -18.8371     0.2104 H             1 RES     \\n      17 H          -26.0497   -19.4760    -0.8995 H             1 RES     \\n      18 H          -28.2578   -20.4606    -2.4227 H             1 RES     \\n      19 H          -27.4499   -21.4412    -1.0413 H             1 RES     \\n      20 H          -29.4290   -21.0121     0.5447 H             1 RES     \\n      21 H          -30.1989   -19.7786    -0.6518 H             1 RES     \\n      22 H          -29.5245   -22.8079    -1.5635 H             1 RES     \\n      23 H          -30.6927   -21.5823    -2.3902 H             1 RES     \\n      24 H          -32.4265   -21.9525    -0.4748 H             1 RES     \\n      25 H          -31.2655   -23.1848     0.3683 H             1 RES     \\n      26 H          -30.3845   -24.9296    -2.2156 H             1 RES     \\n      27 H          -34.3692   -23.9605    -0.7727 H             1 RES     \\n@<TRIPOS>BOND\\n@<TRIPOS>SUBSTRUCTURE\\n       1 RES             1 RESIDUE    0 **** ROOT      0\\n\",\"mol2\");\n\tviewer_12294750799433.setStyle({\"stick\": {\"radius\": 0.2, \"color\": \"grey\"}, \"sphere\": {\"scale\": 0.3, \"colorscheme\": {}}});\n\tviewer_12294750799433.zoomTo();\nviewer_12294750799433.render();\n});\n</script>",
      "text/html": [
       "<div id=\"3dmolviewer_12294750799433\"  style=\"position: relative; width: 640px; height: 480px\">\n",
       "        <p id=\"3dmolwarning_12294750799433\" style=\"background-color:#ffcccc;color:black\">You appear to be running in JupyterLab (or JavaScript failed to load for some other reason).  You need to install the 3dmol extension: <br>\n",
       "        <tt>jupyter labextension install jupyterlab_3dmol</tt></p>\n",
       "        </div>\n",
       "<script>\n",
       "\n",
       "var loadScriptAsync = function(uri){\n",
       "  return new Promise((resolve, reject) => {\n",
       "    var tag = document.createElement('script');\n",
       "    tag.src = uri;\n",
       "    tag.async = true;\n",
       "    tag.onload = () => {\n",
       "      resolve();\n",
       "    };\n",
       "  var firstScriptTag = document.getElementsByTagName('script')[0];\n",
       "  firstScriptTag.parentNode.insertBefore(tag, firstScriptTag);\n",
       "});\n",
       "};\n",
       "\n",
       "if(typeof $3Dmolpromise === 'undefined') {\n",
       "$3Dmolpromise = null;\n",
       "  $3Dmolpromise = loadScriptAsync('https://3dmol.csb.pitt.edu/build/3Dmol.js');\n",
       "}\n",
       "\n",
       "var viewer_12294750799433 = null;\n",
       "var warn = document.getElementById(\"3dmolwarning_12294750799433\");\n",
       "if(warn) {\n",
       "    warn.parentNode.removeChild(warn);\n",
       "}\n",
       "$3Dmolpromise.then(function() {\n",
       "viewer_12294750799433 = $3Dmol.createViewer($(\"#3dmolviewer_12294750799433\"),{backgroundColor:\"white\"});\n",
       "\tviewer_12294750799433.addModel(\"@<TRIPOS>MOLECULE\\nRES\\n27 0 1 0 1\\nSMALL\\nNO_CHARGES\\n@<TRIPOS>CRYSIN\\n   13.3194    14.6800     9.0675    90.0000    90.0000    90.0000  1  1\\n@<TRIPOS>ATOM\\n       1 C          -31.5269   -24.9326    -2.2445 C             1 RES     \\n       2 C          -32.2757   -25.9065    -2.9068 C             1 RES     \\n       3 S          -33.8589   -25.5639    -2.5532 S             1 RES     \\n       4 C          -33.6893   -24.2264    -1.5875 C             1 RES     \\n       5 C          -32.3129   -23.9931    -1.5071 C             1 RES     \\n       6 C          -31.6350   -22.7901    -0.6628 C             1 RES     \\n       7 C          -30.3301   -22.0021    -1.3791 C             1 RES     \\n       8 C          -29.5527   -20.7288    -0.5657 C             1 RES     \\n       9 C          -28.1006   -20.5073    -1.2754 C             1 RES     \\n      10 C          -27.1604   -19.1735    -0.8556 C             1 RES     \\n      11 C          -27.4089   -17.8910    -1.9165 C             1 RES     \\n      12 H          -31.8826   -26.7207    -3.5229 H             1 RES     \\n      13 H          -26.6646   -17.0407    -1.6698 H             1 RES     \\n      14 H          -28.4942   -17.5070    -1.8065 H             1 RES     \\n      15 H          -27.2342   -18.2557    -3.0015 H             1 RES     \\n      16 H          -27.4320   -18.8371     0.2104 H             1 RES     \\n      17 H          -26.0497   -19.4760    -0.8995 H             1 RES     \\n      18 H          -28.2578   -20.4606    -2.4227 H             1 RES     \\n      19 H          -27.4499   -21.4412    -1.0413 H             1 RES     \\n      20 H          -29.4290   -21.0121     0.5447 H             1 RES     \\n      21 H          -30.1989   -19.7786    -0.6518 H             1 RES     \\n      22 H          -29.5245   -22.8079    -1.5635 H             1 RES     \\n      23 H          -30.6927   -21.5823    -2.3902 H             1 RES     \\n      24 H          -32.4265   -21.9525    -0.4748 H             1 RES     \\n      25 H          -31.2655   -23.1848     0.3683 H             1 RES     \\n      26 H          -30.3845   -24.9296    -2.2156 H             1 RES     \\n      27 H          -34.3692   -23.9605    -0.7727 H             1 RES     \\n@<TRIPOS>BOND\\n@<TRIPOS>SUBSTRUCTURE\\n       1 RES             1 RESIDUE    0 **** ROOT      0\\n\",\"mol2\");\n",
       "\tviewer_12294750799433.setStyle({\"stick\": {\"radius\": 0.2, \"color\": \"grey\"}, \"sphere\": {\"scale\": 0.3, \"colorscheme\": {}}});\n",
       "\tviewer_12294750799433.zoomTo();\n",
       "viewer_12294750799433.render();\n",
       "});\n",
       "</script>"
      ]
     },
     "metadata": {},
     "output_type": "display_data"
    }
   ],
   "source": [
    "for aaid in aaids:\n",
    "    mol = openbabel.OBMol()\n",
    "    for i in aaid:\n",
    "        a = mol.NewAtom()\n",
    "        element = conversion_dict[snap.particles.types[snap.particles.typeid[i]]]\n",
    "        a.SetAtomicNum(element.atomic_number)\n",
    "        a.SetVector(*[float(x) for x in unwrapped_positions[i]])\n",
    "\n",
    "    for i,j in snap.bonds.group:\n",
    "        if i in aaid and j not in aaid:\n",
    "            a = mol.NewAtom()\n",
    "            element = conversion_dict[snap.particles.types[snap.particles.typeid[j]]]\n",
    "            # If it's already a Hydrogen, just add it\n",
    "            if element.atomic_number == 1:\n",
    "                a.SetAtomicNum(element.atomic_number)\n",
    "                a.SetVector(*[float(x) for x in unwrapped_positions[j]])\n",
    "            # If it's not a hydrogen, use the existing bond vector to determine the direction\n",
    "            # and scale it to a more reasonable length for C-H bond\n",
    "            else:\n",
    "                # Average sp3 C-H bond is 1.094 Angstrom\n",
    "                v = unwrapped_positions[j]-unwrapped_positions[i]\n",
    "                unit_vec = v/np.linalg.norm(v)\n",
    "                new_pos = unit_vec * 1.094 + unwrapped_positions[i]\n",
    "                a.SetAtomicNum(1)\n",
    "                a.SetVector(*[float(x) for x in new_pos])\n",
    "        elif j in aaid and i not in aaid:\n",
    "            a = mol.NewAtom()\n",
    "            element = conversion_dict[snap.particles.types[snap.particles.typeid[i]]]\n",
    "            # If it's already a Hydrogen, just add it\n",
    "            if element.atomic_number == 1:\n",
    "                a.SetAtomicNum(element.atomic_number)\n",
    "                a.SetVector(*[float(x) for x in unwrapped_positions[i]])\n",
    "            # If it's not a hydrogen, use the existing bond vector to determine the direction\n",
    "            # and scale it to a more reasonable length for C-H bond\n",
    "            else:\n",
    "                # Average sp3 C-H bond is 1.094 Angstrom\n",
    "                v = unwrapped_positions[i]-unwrapped_positions[j]\n",
    "                unit_vec = v/np.linalg.norm(v)\n",
    "                new_pos = unit_vec * 1.094 + unwrapped_positions[j]\n",
    "                a.SetAtomicNum(1)\n",
    "                a.SetVector(*[float(x) for x in new_pos])\n",
    "\n",
    "    pybelmol = pybel.Molecule(mol)\n",
    "    comp = mb.Compound()\n",
    "    comp.from_pybel(pybelmol)\n",
    "    comp.visualize().show()"
   ]
  },
  {
   "cell_type": "code",
   "execution_count": null,
   "id": "moral-soundtrack",
   "metadata": {},
   "outputs": [],
   "source": []
  },
  {
   "cell_type": "code",
   "execution_count": 71,
   "id": "liquid-subcommittee",
   "metadata": {},
   "outputs": [
    {
     "name": "stdout",
     "output_type": "stream",
     "text": [
      "['AAIDs', 'CGIDs', 'CG_types', 'HOMO', 'HOMO_1', 'ID', 'LUMO', 'LUMO_1', 'VRH_delocalisation']\n",
      "['bonds', 'dissociation_neighbours', 'get_MO_energy', 'get_important_bonds', 'image', 'neighbours', 'neighbours_TI', 'neighbours_delta_E', 'obtain_chromophore_COM', 'obtain_electronic_species', 'orca_input', 'orca_output', 'posn', 'reorganisation_energy', 'species', 'sub_species', 'terminate', 'unwrapped_posn']\n"
     ]
    }
   ],
   "source": [
    "print(dir(chromo_list[0])[:9])\n",
    "print(dir(chromo_list[0])[35:])"
   ]
  },
  {
   "cell_type": "code",
   "execution_count": 67,
   "id": "composed-secretariat",
   "metadata": {},
   "outputs": [
    {
     "data": {
      "text/plain": [
       "True"
      ]
     },
     "execution_count": 67,
     "metadata": {},
     "output_type": "execute_result"
    }
   ],
   "source": [
    "chromo_list[0].terminate"
   ]
  },
  {
   "cell_type": "markdown",
   "id": "missing-liquid",
   "metadata": {},
   "source": [
    "Next time start working on obtain chromophores from snapshot"
   ]
  },
  {
   "cell_type": "code",
   "execution_count": 3,
   "id": "brown-speech",
   "metadata": {},
   "outputs": [],
   "source": [
    "#print(AA_morphdict.keys()) \n",
    "# 'xy', 'mass', 'lx', 'improper', 'body', 'unwrapped_position', 'natoms', \n",
    "# 'position', 'yz', 'xz', 'dimensions', 'ly', 'image', 'charge', 'lz', 'angle', \n",
    "# 'diameter', 'bond', 'time_step', 'type', 'dihedral'\n",
    "\n",
    "#print(CG_morphdict.keys()) \n",
    "# same as above\n",
    "\n",
    "#print(CGtoAAID_list) \n",
    "# {0: ['A', [0, 1, 2, 3, 4, 24]] includes attached hydrogen\n",
    "# where A beads are thiophenes, B and C beads are first and second three alkyl carbons\n",
    "\n",
    "#print(param_dict.keys())\n",
    "# so many things...\n",
    "\n",
    "#print(chromo_list[0])\n",
    "# list of chromophore class objects"
   ]
  },
  {
   "cell_type": "code",
   "execution_count": 4,
   "id": "exclusive-persian",
   "metadata": {},
   "outputs": [],
   "source": [
    "#comp = mb.Compound()\n",
    "#for name, pos in zip(AA_morphdict[\"type\"],AA_morphdict[\"unwrapped_position\"]):\n",
    "#    name = name.strip(\"0123456789\")\n",
    "#    comp.add(mb.Particle(name=name, pos=np.array(pos)/10)) #convert to nm in mbuild\n",
    "#ps = [p for p in comp.particles()]\n",
    "#for _, i, j in AA_morphdict[\"bond\"]:\n",
    "#    comp.add_bond((ps[i],ps[j]))\n",
    "#    \n",
    "#comp.visualize().show()"
   ]
  },
  {
   "cell_type": "markdown",
   "id": "armed-mission",
   "metadata": {},
   "source": [
    "OK, so we have 2 all-atom p3ht 15mers. 30 chromophores makes sense."
   ]
  },
  {
   "cell_type": "code",
   "execution_count": 5,
   "id": "first-gabriel",
   "metadata": {},
   "outputs": [
    {
     "name": "stdout",
     "output_type": "stream",
     "text": [
      "30\n",
      "['AAIDs', 'CGIDs', 'CG_types', 'HOMO', 'HOMO_1', 'ID', 'LUMO', 'LUMO_1', 'VRH_delocalisation', '__class__', '__delattr__', '__dict__', '__dir__', '__doc__', '__eq__', '__format__', '__ge__', '__getattribute__', '__gt__', '__hash__', '__init__', '__init_subclass__', '__le__', '__lt__', '__module__', '__ne__', '__new__', '__reduce__', '__reduce_ex__', '__repr__', '__setattr__', '__sizeof__', '__str__', '__subclasshook__', '__weakref__', 'bonds', 'dissociation_neighbours', 'get_MO_energy', 'get_important_bonds', 'image', 'neighbours', 'neighbours_TI', 'neighbours_delta_E', 'obtain_chromophore_COM', 'obtain_electronic_species', 'orca_input', 'orca_output', 'posn', 'reorganisation_energy', 'species', 'sub_species', 'terminate', 'unwrapped_posn']\n"
     ]
    }
   ],
   "source": [
    "print(len(chromo_list))\n",
    "chromo = chromo_list[0]\n",
    "print(dir(chromo))"
   ]
  },
  {
   "cell_type": "code",
   "execution_count": 6,
   "id": "subject-issue",
   "metadata": {},
   "outputs": [],
   "source": [
    "#print(len(chromo.AAIDs))\n",
    "#for i in chromo.AAIDs:\n",
    "#    ps[i].name = \"x\"\n",
    "#comp.visualize().show()"
   ]
  },
  {
   "cell_type": "markdown",
   "id": "informative-pakistan",
   "metadata": {},
   "source": [
    "Each chromophore is defined as one monomer.\n",
    "\n",
    "All the HOMO,LUMO info has not been set, the file path doesn't exist, and the neighbors havent been set"
   ]
  },
  {
   "cell_type": "code",
   "execution_count": 7,
   "id": "bridal-venice",
   "metadata": {},
   "outputs": [
    {
     "name": "stdout",
     "output_type": "stream",
     "text": [
      "None None\n",
      "donor\n",
      "/chromophores/output_orca/single/00000.out\n",
      "[]\n"
     ]
    }
   ],
   "source": [
    "print(chromo.HOMO, chromo.LUMO)\n",
    "print(chromo.species)\n",
    "print(chromo.orca_output)\n",
    "print(chromo.neighbours)"
   ]
  },
  {
   "cell_type": "markdown",
   "id": "dominant-values",
   "metadata": {},
   "source": [
    "First let's fix the path -- we need to change the directories in the param_dict because they reference mattys computer. I'm making a new folder in the root dir called `notebook_output`. Then in that folder I had to make sure this dir structure exists in that folder:\n",
    "```\n",
    "/chromophores/ -+- input_orca/ -+- single/\n",
    "                |               |\n",
    "                |               +- pair/\n",
    "                |\n",
    "                +- output_orca/ -+- single/\n",
    "                                 |\n",
    "                                 +- pair/\n",
    "```\n",
    "\n",
    "*I have since change the code for this so it is no longer necessary*"
   ]
  },
  {
   "cell_type": "code",
   "execution_count": 8,
   "id": "tracked-extent",
   "metadata": {},
   "outputs": [
    {
     "name": "stdout",
     "output_type": "stream",
     "text": [
      "/home/mattyjones/Software/morphct/tests/output_OC/donor_polymer\n"
     ]
    }
   ],
   "source": [
    "print(param_dict[\"output_orca_directory\"])"
   ]
  },
  {
   "cell_type": "code",
   "execution_count": 9,
   "id": "focal-isaac",
   "metadata": {},
   "outputs": [
    {
     "name": "stdout",
     "output_type": "stream",
     "text": [
      "/Users/jenny/Projects/morphct/notebook_output/\n"
     ]
    }
   ],
   "source": [
    "outpath = os.path.join(os.getcwd(),\"notebook_output/\")\n",
    "print(outpath)\n",
    "param_dict[\"output_orca_directory\"] = outpath"
   ]
  },
  {
   "cell_type": "markdown",
   "id": "proper-problem",
   "metadata": {},
   "source": [
    "Next let's get the neighbors"
   ]
  },
  {
   "cell_type": "code",
   "execution_count": 10,
   "id": "frozen-blade",
   "metadata": {},
   "outputs": [],
   "source": [
    "# I changed the spelling because I am not British and it kept throwing me off\n",
    "for chromo in chromo_list:\n",
    "    chromo.neighbors = chromo.neighbours\n",
    "    chromo.dissociation_neighbors = chromo.dissociation_neighbours\n",
    "    chromo.neighbors_delta_E = chromo.neighbours_delta_E\n",
    "    chromo.neighbors_TI = chromo.neighbours_TI\n",
    "    chromo.pos = chromo.posn"
   ]
  },
  {
   "cell_type": "code",
   "execution_count": 11,
   "id": "premium-miller",
   "metadata": {},
   "outputs": [
    {
     "name": "stdout",
     "output_type": "stream",
     "text": [
      "Calculating Neighbours of All Moieties\n",
      "Updating the chromophore list for dissociation neighbors\n"
     ]
    }
   ],
   "source": [
    "sim_dims = [                                                                \n",
    "    [-AA_morphdict[\"lx\"] / 2.0, AA_morphdict[\"lx\"] / 2.0],      \n",
    "    [-AA_morphdict[\"ly\"] / 2.0, AA_morphdict[\"ly\"] / 2.0],      \n",
    "    [-AA_morphdict[\"lz\"] / 2.0, AA_morphdict[\"lz\"] / 2.0],      \n",
    "]   \n",
    "chromo_list = oc.chromo_sort(chromo_list)\n",
    "chromo_list = oc.determine_neighbors_voronoi(                        \n",
    "    chromo_list, param_dict, sim_dims                          \n",
    ") "
   ]
  },
  {
   "cell_type": "markdown",
   "id": "turkish-intellectual",
   "metadata": {},
   "source": [
    "The files are created by `morphct/code/execute_ZINDO.py` `create_input_files(chromophore_list, AA_morphology_dict, parameter_dict)`\n",
    "The HOMO/LUMO gets set in `morphct/code/transfer_integrals.py` `load_orca_output(file_name)`"
   ]
  },
  {
   "cell_type": "code",
   "execution_count": 12,
   "id": "comprehensive-inspiration",
   "metadata": {},
   "outputs": [
    {
     "name": "stdout",
     "output_type": "stream",
     "text": [
      "There are 296 total neighbor pairs to consider.\n"
     ]
    }
   ],
   "source": [
    "qcc_pairs = eqcc.create_inputs(chromo_list, AA_morphdict, param_dict)\n",
    "#print(qcc_pairs[0])\n",
    "# (i,j), mol_str "
   ]
  },
  {
   "cell_type": "markdown",
   "id": "asian-challenge",
   "metadata": {},
   "source": [
    "OK ~this writes 30 inputs but no pairs--some neighborlist analysis must need done first~ \n",
    "\n",
    "after neighbor list all files are written\n",
    "\n",
    "next need to run ZINDO\n",
    "\n",
    "`eqcc.get_homolumo(chromo_list[0].qcc_input)` returns HOMO-1, HOMO, LUMO, LUMO+1"
   ]
  },
  {
   "cell_type": "code",
   "execution_count": 13,
   "id": "sufficient-crawford",
   "metadata": {},
   "outputs": [
    {
     "data": {
      "text/plain": [
       "'/Users/jenny/Projects/morphct/notebook_output/singles_energies.txt'"
      ]
     },
     "execution_count": 13,
     "metadata": {},
     "output_type": "execute_result"
    }
   ],
   "source": [
    "s_filename = os.path.join(outpath, \"singles_energies.txt\")\n",
    "s_filename"
   ]
  },
  {
   "cell_type": "code",
   "execution_count": 14,
   "id": "rotary-symbol",
   "metadata": {},
   "outputs": [],
   "source": [
    "#%%time\n",
    "#data = eqcc.singles_homolumo(chromo_list, s_filename)\n",
    "#\n",
    "#CPU times: user 17 ms, sys: 25.6 ms, total: 42.5 ms\n",
    "#Wall time: 4.01 s"
   ]
  },
  {
   "cell_type": "markdown",
   "id": "desperate-mistress",
   "metadata": {},
   "source": [
    "This gets the energy values of the chromophores using the single inputs. The neighbor energy values are not set:"
   ]
  },
  {
   "cell_type": "code",
   "execution_count": 15,
   "id": "broad-impossible",
   "metadata": {},
   "outputs": [
    {
     "name": "stdout",
     "output_type": "stream",
     "text": [
      "None\n",
      "27 27\n",
      "None\n"
     ]
    }
   ],
   "source": [
    "print(chromo.HOMO)\n",
    "print(len(chromo.neighbours), len(chromo.neighbours_delta_E))\n",
    "print(chromo.neighbours_delta_E[0])"
   ]
  },
  {
   "cell_type": "markdown",
   "id": "sapphire-macro",
   "metadata": {},
   "source": [
    "next look in morphct/code/transfer_integrals.py"
   ]
  },
  {
   "cell_type": "code",
   "execution_count": 16,
   "id": "incorporated-honduras",
   "metadata": {},
   "outputs": [
    {
     "data": {
      "text/plain": [
       "'/Users/jenny/Projects/morphct/notebook_output/dimer_energies.txt'"
      ]
     },
     "execution_count": 16,
     "metadata": {},
     "output_type": "execute_result"
    }
   ],
   "source": [
    "d_filename = os.path.join(outpath, \"dimer_energies.txt\")\n",
    "d_filename"
   ]
  },
  {
   "cell_type": "code",
   "execution_count": 17,
   "id": "still-harmony",
   "metadata": {},
   "outputs": [],
   "source": [
    "#%%time\n",
    "#dimer_data = eqcc.dimer_homolumo(qcc_pairs, d_filename)\n",
    "#\n",
    "#CPU times: user 358 ms, sys: 146 ms, total: 504 ms\n",
    "#Wall time: 2min 22s"
   ]
  },
  {
   "cell_type": "code",
   "execution_count": 18,
   "id": "incomplete-journey",
   "metadata": {},
   "outputs": [
    {
     "name": "stdout",
     "output_type": "stream",
     "text": [
      "[-8.95578835 -8.52733362  0.60981961  0.96338829]\n",
      "((0, 1), (-8.705081734274161, -8.191204368844307, -0.09856073082029772, 0.5309429429768204))\n"
     ]
    }
   ],
   "source": [
    "data = eqcc.get_singlesdata(s_filename)\n",
    "print(data[0])\n",
    "dimer_data = eqcc.get_dimerdata(d_filename)\n",
    "print(dimer_data[0])"
   ]
  },
  {
   "cell_type": "code",
   "execution_count": 19,
   "id": "statutory-primary",
   "metadata": {},
   "outputs": [],
   "source": [
    "eqcc.set_energyvalues(chromo_list, s_filename, d_filename)"
   ]
  },
  {
   "cell_type": "code",
   "execution_count": 20,
   "id": "sitting-revision",
   "metadata": {},
   "outputs": [
    {
     "name": "stdout",
     "output_type": "stream",
     "text": [
      "-8.553011257275468\n",
      "27 27\n",
      "0.025677635737253013\n"
     ]
    }
   ],
   "source": [
    "print(chromo.HOMO)\n",
    "print(len(chromo.neighbours), len(chromo.neighbours_delta_E))\n",
    "print(chromo.neighbours_delta_E[0])"
   ]
  },
  {
   "cell_type": "markdown",
   "id": "swiss-chest",
   "metadata": {},
   "source": [
    "OK, I think I should be ready to run KMC. Before it'll work we need to add some things to the param dict and change some paths.\n",
    "\n",
    "```\n",
    "notebook_outputs/KMC/ \n",
    "```\n",
    "\n",
    "run_kmc : single_core_run_mob_KMC\n",
    "\n",
    "kmc : mobility_KMC"
   ]
  },
  {
   "cell_type": "code",
   "execution_count": 21,
   "id": "brazilian-recipe",
   "metadata": {},
   "outputs": [],
   "source": [
    "param_dict['simulation_times'] = [1.00e-13, 1.00e-12]\n",
    "param_dict[\"number_of_holes_per_simulation_time\"] = 10  \n",
    "param_dict[\"number_of_electrons_per_simulation_time\"] = 0 \n",
    "param_dict[\"combine_KMC_results\"] = True\n",
    "param_dict[\"record_carrier_history\"] = True\n",
    "param_dict[\"hop_limit\"] = 0\n",
    "param_dict[\"system_temperature\"] = 300 # In Kelvin\n",
    "param_dict[\"output_morphology_directory\"] = outpath"
   ]
  },
  {
   "cell_type": "code",
   "execution_count": 22,
   "id": "endangered-protocol",
   "metadata": {},
   "outputs": [],
   "source": [
    "jobs_list = kmc.get_jobslist(\n",
    "    AA_morphdict, CG_morphdict, CGtoAAID_list, param_dict, chromo_list\n",
    ")"
   ]
  },
  {
   "cell_type": "code",
   "execution_count": 23,
   "id": "fatty-collective",
   "metadata": {},
   "outputs": [
    {
     "data": {
      "text/plain": [
       "[[5, 1e-13, 'hole'],\n",
       " [1, 1e-13, 'hole'],\n",
       " [3, 1e-13, 'hole'],\n",
       " [8, 1e-12, 'hole'],\n",
       " [5, 1e-12, 'hole']]"
      ]
     },
     "execution_count": 23,
     "metadata": {},
     "output_type": "execute_result"
    }
   ],
   "source": [
    "jobs_list[0]"
   ]
  },
  {
   "cell_type": "code",
   "execution_count": 24,
   "id": "normal-campaign",
   "metadata": {},
   "outputs": [],
   "source": [
    "KMC_directory = os.path.join(outpath, \"KMC\")"
   ]
  },
  {
   "cell_type": "code",
   "execution_count": 25,
   "id": "assured-holly",
   "metadata": {},
   "outputs": [
    {
     "name": "stdout",
     "output_type": "stream",
     "text": [
      "All KMC jobs completed!\n",
      "Combining outputs...\n"
     ]
    }
   ],
   "source": [
    "combined_data = kmc.run_kmc(\n",
    "    jobs_list,                                                              \n",
    "    KMC_directory,                                                          \n",
    "    AA_morphdict,                                                           \n",
    "    CG_morphdict,                                                           \n",
    "    CGtoAAID_list,                                                          \n",
    "    param_dict,                                                             \n",
    "    chromo_list\n",
    ")"
   ]
  },
  {
   "cell_type": "code",
   "execution_count": 26,
   "id": "forced-boxing",
   "metadata": {},
   "outputs": [
    {
     "name": "stdout",
     "output_type": "stream",
     "text": [
      "\n",
      "\n",
      "---------- KMC_ANALYSE ----------\n",
      "/Users/jenny/Projects/morphct/notebook_output/KMC\n",
      "---------------------------------\n",
      "Considering the transport of hole...\n",
      "Obtaining mean squared displacements...\n",
      "Plotting distribution of carrier displacements\n",
      "Figure saved as /Users/jenny/Projects/morphct/notebook_output/KMC/figures/30_hole_displacement_dist.png\n",
      "Calculating mobility...\n",
      "Standard Error 0.0\n",
      "Fitting r_val = 1.0\n",
      "Figure saved as /Users/jenny/Projects/morphct/notebook_output/KMC/figures/18_lin_MSD_hole.png\n",
      "Figure saved as /Users/jenny/Projects/morphct/notebook_output/KMC/figures/20_semi_log_MSD_hole.png\n",
      "Figure saved as /Users/jenny/Projects/morphct/notebook_output/KMC/figures/22_log_MSD_hole.png\n",
      "----------------------------------------\n",
      "Hole mobility for /Users/jenny/Projects/morphct/notebook_output/KMC = 8.95E-01 +- 8.33E-02 cm^{2} V^{-1} s^{-1}\n",
      "----------------------------------------\n",
      "Plotting hop vector distribution\n",
      "Calculating carrier trajectory anisotropy...\n",
      "Plotting carrier hop frequency distribution...\n",
      "Figure saved as /Users/jenny/Projects/morphct/notebook_output/KMC/figures/24_total_hop_freq_hole.png\n",
      "Plotting carrier net hop frequency distribution...\n",
      "Figure saved as /Users/jenny/Projects/morphct/notebook_output/KMC/figures/26_net_hop_freq_hole.png\n",
      "Plotting (total - net hops) discrepancy distribution...\n",
      "There are 2 paths in this morphology with one-way transport.\n",
      "There are 5 paths in this morphology with total - net < 10.\n",
      "Figure saved as /Users/jenny/Projects/morphct/notebook_output/KMC/figures/28_hop_discrepancy_hole.png\n",
      "Determining molecule IDs...\n",
      "Donor HOMO Level = -8.522 +/- 0.004\n",
      "Donor Delta E_ij stats: mean = 0.000 +/- 0.001\n",
      "Figure saved as /Users/jenny/Projects/morphct/notebook_output/KMC/figures/06_donor_delta_E_ij.png\n",
      "Neighbour histogram figure saved as /Users/jenny/Projects/morphct/notebook_output/KMC/figures/04_neighbor_hist_donor.png\n",
      "Orientation histogram figure saved as /Users/jenny/Projects/morphct/notebook_output/KMC/figures/34_orientation_hist_donor.png\n",
      "Figure saved as /Users/jenny/Projects/morphct/notebook_output/KMC/figures/10_donor_transfer_integral_mols.png\n",
      "Figure saved as /Users/jenny/Projects/morphct/notebook_output/KMC/figures/11_acceptor_transfer_integral_mols.png\n",
      "Cut-offs specified (value format: [donor, acceptor])\n",
      "\t('separation', [None, None])\n",
      "\t('orientation', [None, None])\n",
      "\t('TI', [None, None])\n",
      "\t('freq', [None, None])\n",
      "Examining the donor material...\n",
      "Obtaining orientations of each chromophore...\n",
      "Calculating clusters...\n",
      "----------------------------------------\n",
      "donor: Detected 1 total\n",
      "and large 1 clusters (size > 6).\n",
      "Largest cluster size =30 chromophores.\n",
      "Ratio in \"large\" clusters: 1.000\n",
      "----------------------------------------\n",
      "Examining the acceptor material...\n",
      "No material found. Continuing...\n",
      "Mean intra-cluster donor rate: 7.353e+13+/-2.562e+12\n",
      "Figure saved as /Users/jenny/Projects/morphct/notebook_output/KMC/figures/16_donor_hopping_rate_clusters.png\n",
      "Figure saved as /Users/jenny/Projects/morphct/notebook_output/KMC/figures/12_donor_transfer_integral_clusters.png\n",
      "Mean intra-molecular donor rate: 1.822e+14+/-9.783e+12\n",
      "Mean inter-molecular donor rate: 1.372e+10+/-1.942e+08\n",
      "Figure saved as /Users/jenny/Projects/morphct/notebook_output/KMC/figures/14_donor_hopping_rate_mols.png\n",
      "Plotting cluster size distribution...\n",
      "Figure saved as /Users/jenny/Projects/morphct/notebook_output/KMC/figures/32_hole_cluster_dist.png\n",
      "Writing CSV Output File...\n",
      "CSV file written to /Users/jenny/Projects/morphct/notebook_output/KMC/results.csv\n",
      "Plotting Mobility and Anisotropy progressions...\n",
      "Skipping plotting mobility evolution.\n"
     ]
    }
   ],
   "source": [
    "KMC_analyse.main(\n",
    "    AA_morphdict, \n",
    "    CG_morphdict, \n",
    "    CGtoAAID_list, \n",
    "    param_dict,                                                             \n",
    "    chromo_list,                                                            \n",
    "    [combined_data],                                                      \n",
    "    KMC_directory\n",
    ")"
   ]
  },
  {
   "cell_type": "code",
   "execution_count": null,
   "id": "sustained-samba",
   "metadata": {},
   "outputs": [],
   "source": []
  }
 ],
 "metadata": {
  "kernelspec": {
   "display_name": "Python 3",
   "language": "python",
   "name": "python3"
  },
  "language_info": {
   "codemirror_mode": {
    "name": "ipython",
    "version": 3
   },
   "file_extension": ".py",
   "mimetype": "text/x-python",
   "name": "python",
   "nbconvert_exporter": "python",
   "pygments_lexer": "ipython3",
   "version": "3.8.6"
  }
 },
 "nbformat": 4,
 "nbformat_minor": 5
}

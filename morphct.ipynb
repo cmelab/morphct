{
 "cells": [
  {
   "cell_type": "markdown",
   "id": "cutting-sunglasses",
   "metadata": {},
   "source": [
    "# MorphCT\n",
    "\n",
    "goal: \n",
    " - atomistic gsd snapshot -> \n",
    " - assign chromophores -> \n",
    " - do QCC calcs -> \n",
    " - run KMC -> \n",
    " - calculate mobility\n",
    "\n",
    "current schema:\n",
    " - xml file\n",
    " - chromphore params set in par.py\n",
    " - if starting with atomistic, we can skip fine graining and molecular dynamics and only run:\n",
    "     - execute_obtain_chromophores = False                                             \n",
    "     - execute_ZINDO = False                                                           \n",
    "     - execute_calculate_transfer_integrals = False                                    \n",
    "     - execute_calculate_mobility = False    "
   ]
  },
  {
   "cell_type": "code",
   "execution_count": 1,
   "id": "delayed-variation",
   "metadata": {},
   "outputs": [
    {
     "name": "stderr",
     "output_type": "stream",
     "text": [
      "/Users/jenny/miniconda3/envs/morphct-dev/lib/python3.8/site-packages/scipy/special/orthogonal.py:81: DeprecationWarning: `np.int` is a deprecated alias for the builtin `int`. To silence this warning, use `int` by itself. Doing this will not modify any behavior and is safe. When replacing `np.int`, you may wish to use e.g. `np.int64` or `np.int32` to specify the precision. If you wish to review your current use, check the release note link for additional information.\n",
      "Deprecated in NumPy 1.20; for more details and guidance: https://numpy.org/devdocs/release/1.20.0-notes.html#deprecations\n",
      "  from numpy import (exp, inf, pi, sqrt, floor, sin, cos, around, int,\n",
      "/Users/jenny/miniconda3/envs/morphct-dev/lib/python3.8/site-packages/scipy/special/orthogonal.py:81: DeprecationWarning: `np.int` is a deprecated alias for the builtin `int`. To silence this warning, use `int` by itself. Doing this will not modify any behavior and is safe. When replacing `np.int`, you may wish to use e.g. `np.int64` or `np.int32` to specify the precision. If you wish to review your current use, check the release note link for additional information.\n",
      "Deprecated in NumPy 1.20; for more details and guidance: https://numpy.org/devdocs/release/1.20.0-notes.html#deprecations\n",
      "  from numpy import (exp, inf, pi, sqrt, floor, sin, cos, around, int,\n"
     ]
    }
   ],
   "source": [
    "from collections import defaultdict\n",
    "import itertools\n",
    "import os\n",
    "import pickle\n",
    "import multiprocessing as mp\n",
    "\n",
    "import ele\n",
    "import freud\n",
    "import gsd.hoomd\n",
    "import mbuild as mb\n",
    "import numpy as np\n",
    "from openbabel import openbabel\n",
    "from openbabel import pybel\n",
    "import pyscf\n",
    "from pyscf.semiempirical import MINDO3\n",
    "\n",
    "from morphct.code import obtain_chromophores as oc\n",
    "from morphct import transfer_integrals as ti\n",
    "from morphct import execute_qcc as eqcc\n",
    "from morphct import mobility_kmc as kmc\n",
    "from morphct.utils import kmc_analyze\n",
    "from morphct import chromophores"
   ]
  },
  {
   "cell_type": "code",
   "execution_count": 4,
   "id": "adolescent-violence",
   "metadata": {},
   "outputs": [],
   "source": [
    "def visualize_qcc_input(qcc_input):\n",
    "    comp = mb.Compound()\n",
    "    for line in qcc_input.split(\";\")[:-1]:\n",
    "        atom, x, y, z = line.split()\n",
    "        xyz = np.array([x,y,z], dtype=float)\n",
    "        # Angstrom -> nm\n",
    "        xyz /= 10\n",
    "        comp.add(mb.Particle(name=atom,pos=xyz))\n",
    "    comp.visualize().show()"
   ]
  },
  {
   "cell_type": "markdown",
   "id": "ordered-spank",
   "metadata": {},
   "source": [
    "OK, so I'm looking around for an xml file in the \"obtain chromophores\" tests but all I can find are these pickle files. I want to view them before I continue. ovito and vmd no longer support xmls... gah --> using mbuild."
   ]
  },
  {
   "cell_type": "code",
   "execution_count": 5,
   "id": "weighted-recipe",
   "metadata": {},
   "outputs": [],
   "source": [
    "path = \"tests/assets/donor_polymer/OC/donor_polymer_post_obtain_chromophores.pickle\"\n",
    "(\n",
    "    AA_morphdict, \n",
    "    CG_morphdict, \n",
    "    CGtoAAID_list, \n",
    "    param_dict, \n",
    "    chromo_list_old\n",
    ") = pickle.load(open(path,\"rb\"))"
   ]
  },
  {
   "cell_type": "code",
   "execution_count": 6,
   "id": "metropolitan-florence",
   "metadata": {},
   "outputs": [],
   "source": [
    "all_types = list(set(AA_morphdict['type']))\n",
    "bond_array = np.array([(i,j) for name,i,j in AA_morphdict[\"bond\"]])\n",
    "\n",
    "snap = gsd.hoomd.Snapshot()\n",
    "snap.configuration.box = np.array([\n",
    "    AA_morphdict[\"lx\"],\n",
    "    AA_morphdict[\"ly\"],\n",
    "    AA_morphdict[\"lz\"],\n",
    "    AA_morphdict[\"xy\"],\n",
    "    AA_morphdict[\"xz\"],\n",
    "    AA_morphdict[\"yz\"]\n",
    "])\n",
    "snap.configuration.dimensions = AA_morphdict[\"dimensions\"]\n",
    "snap.particles.N = AA_morphdict[\"natoms\"]\n",
    "snap.particles.body = AA_morphdict[\"body\"]\n",
    "snap.particles.position = AA_morphdict[\"position\"]\n",
    "snap.particles.charge = AA_morphdict[\"charge\"]\n",
    "snap.particles.diameter = AA_morphdict[\"diameter\"]\n",
    "snap.particles.mass = AA_morphdict[\"mass\"]\n",
    "snap.particles.image = AA_morphdict[\"image\"]\n",
    "snap.particles.types = all_types\n",
    "snap.particles.typeid = [all_types.index(i) for i in AA_morphdict[\"type\"]]\n",
    "snap.bonds.N = len(bond_array)\n",
    "snap.bonds.group = bond_array\n",
    "snap.validate()"
   ]
  },
  {
   "cell_type": "code",
   "execution_count": 7,
   "id": "graduate-course",
   "metadata": {},
   "outputs": [],
   "source": [
    "unwrapped_positions = snap.particles.position + snap.particles.image * snap.configuration.box[:3]"
   ]
  },
  {
   "cell_type": "code",
   "execution_count": 8,
   "id": "configured-laugh",
   "metadata": {},
   "outputs": [],
   "source": [
    "# Run this if you want to confirm that the unwrapped positions are correct in OVITO\n",
    "#with gsd.hoomd.open(name='test.gsd', mode='wb') as f:\n",
    "#    f.append(snap)\n",
    "#    snap.particles.position = unwrapped_positions\n",
    "#    f.append(snap)"
   ]
  },
  {
   "cell_type": "code",
   "execution_count": 9,
   "id": "placed-frontier",
   "metadata": {},
   "outputs": [],
   "source": [
    "conversion_dict = {\n",
    "    \"S1\": ele.element_from_symbol(\"S\"), \n",
    "    \"H1\": ele.element_from_symbol(\"H\"), \n",
    "    \"C5\": ele.element_from_symbol(\"C\"), \n",
    "    \"C1\": ele.element_from_symbol(\"C\"), \n",
    "    \"C4\": ele.element_from_symbol(\"C\"), \n",
    "    \"C6\": ele.element_from_symbol(\"C\"), \n",
    "    \"C8\": ele.element_from_symbol(\"C\"), \n",
    "    \"C9\": ele.element_from_symbol(\"C\"), \n",
    "    \"C3\": ele.element_from_symbol(\"C\"), \n",
    "    \"C7\": ele.element_from_symbol(\"C\"), \n",
    "    \"C2\": ele.element_from_symbol(\"C\"),\n",
    "    \"C10\": ele.element_from_symbol(\"C\"),\n",
    "}\n",
    "\n",
    "amber_dict = {\n",
    "    \"c\":  ele.element_from_symbol(\"C\"),\n",
    "    \"c1\": ele.element_from_symbol(\"C\"),\n",
    "    \"c2\": ele.element_from_symbol(\"C\"),\n",
    "    \"c3\": ele.element_from_symbol(\"C\"),\n",
    "    \"ca\": ele.element_from_symbol(\"C\"),\n",
    "    \"cp\": ele.element_from_symbol(\"C\"),\n",
    "    \"cq\": ele.element_from_symbol(\"C\"),\n",
    "    \"cc\": ele.element_from_symbol(\"C\"),\n",
    "    \"cd\": ele.element_from_symbol(\"C\"),\n",
    "    \"ce\": ele.element_from_symbol(\"C\"),\n",
    "    \"cf\": ele.element_from_symbol(\"C\"),\n",
    "    \"cg\": ele.element_from_symbol(\"C\"),\n",
    "    \"ch\": ele.element_from_symbol(\"C\"),\n",
    "    \"cx\": ele.element_from_symbol(\"C\"),\n",
    "    \"cy\": ele.element_from_symbol(\"C\"),\n",
    "    \"cu\": ele.element_from_symbol(\"C\"),\n",
    "    \"cv\": ele.element_from_symbol(\"C\"),\n",
    "    \"h1\": ele.element_from_symbol(\"H\"),\n",
    "    \"h2\": ele.element_from_symbol(\"H\"),\n",
    "    \"h3\": ele.element_from_symbol(\"H\"),\n",
    "    \"h4\": ele.element_from_symbol(\"H\"),\n",
    "    \"h5\": ele.element_from_symbol(\"H\"),\n",
    "    \"ha\": ele.element_from_symbol(\"H\"),\n",
    "    \"hc\": ele.element_from_symbol(\"H\"),\n",
    "    \"hn\": ele.element_from_symbol(\"H\"),\n",
    "    \"ho\": ele.element_from_symbol(\"H\"),\n",
    "    \"hp\": ele.element_from_symbol(\"H\"),\n",
    "    \"hs\": ele.element_from_symbol(\"H\"),\n",
    "    \"hw\": ele.element_from_symbol(\"H\"),\n",
    "    \"hx\": ele.element_from_symbol(\"H\"),\n",
    "    \"f\":  ele.element_from_symbol(\"F\"),\n",
    "    \"cl\": ele.element_from_symbol(\"Cl\"),\n",
    "    \"br\": ele.element_from_symbol(\"Br\"),\n",
    "    \"i\":  ele.element_from_symbol(\"I\"),\n",
    "    \"n\":  ele.element_from_symbol(\"N\"),\n",
    "    \"n1\": ele.element_from_symbol(\"N\"),\n",
    "    \"n2\": ele.element_from_symbol(\"N\"),\n",
    "    \"n3\": ele.element_from_symbol(\"N\"),\n",
    "    \"n4\": ele.element_from_symbol(\"N\"),\n",
    "    \"na\": ele.element_from_symbol(\"N\"),\n",
    "    \"nb\": ele.element_from_symbol(\"N\"),\n",
    "    \"nc\": ele.element_from_symbol(\"N\"),\n",
    "    \"nd\": ele.element_from_symbol(\"N\"),\n",
    "    \"ne\": ele.element_from_symbol(\"N\"),\n",
    "    \"nf\": ele.element_from_symbol(\"N\"),\n",
    "    \"nh\": ele.element_from_symbol(\"N\"),\n",
    "    \"no\": ele.element_from_symbol(\"N\"),\n",
    "    \"o\":  ele.element_from_symbol(\"O\"),\n",
    "    \"oh\": ele.element_from_symbol(\"O\"),\n",
    "    \"os\": ele.element_from_symbol(\"O\"),\n",
    "    \"ow\": ele.element_from_symbol(\"O\"),\n",
    "    \"p2\": ele.element_from_symbol(\"P\"),\n",
    "    \"p3\": ele.element_from_symbol(\"P\"),\n",
    "    \"p4\": ele.element_from_symbol(\"P\"),\n",
    "    \"p5\": ele.element_from_symbol(\"P\"),\n",
    "    \"pb\": ele.element_from_symbol(\"P\"),\n",
    "    \"pc\": ele.element_from_symbol(\"P\"),\n",
    "    \"pd\": ele.element_from_symbol(\"P\"),\n",
    "    \"pe\": ele.element_from_symbol(\"P\"),\n",
    "    \"pf\": ele.element_from_symbol(\"P\"),\n",
    "    \"px\": ele.element_from_symbol(\"P\"),\n",
    "    \"py\": ele.element_from_symbol(\"P\"),\n",
    "    \"s\":  ele.element_from_symbol(\"S\"),\n",
    "    \"s2\": ele.element_from_symbol(\"S\"),\n",
    "    \"s4\": ele.element_from_symbol(\"S\"),\n",
    "    \"s6\": ele.element_from_symbol(\"S\"),\n",
    "    \"sh\": ele.element_from_symbol(\"S\"),\n",
    "    \"ss\": ele.element_from_symbol(\"S\"),\n",
    "    \"sx\": ele.element_from_symbol(\"S\"),\n",
    "    \"sy\": ele.element_from_symbol(\"S\"),\n",
    "}"
   ]
  },
  {
   "cell_type": "code",
   "execution_count": 10,
   "id": "nearby-remains",
   "metadata": {},
   "outputs": [],
   "source": [
    "smarts_str = \"c1cscc1CCCCCC\""
   ]
  },
  {
   "cell_type": "code",
   "execution_count": 11,
   "id": "nearby-consortium",
   "metadata": {},
   "outputs": [],
   "source": [
    "aaids = chromophores.get_chromo_ids_smiles(snap, smarts_str, conversion_dict)"
   ]
  },
  {
   "cell_type": "code",
   "execution_count": 12,
   "id": "prospective-subscription",
   "metadata": {},
   "outputs": [],
   "source": [
    "chromo_list = []\n",
    "for i,aaid in enumerate(aaids):\n",
    "    chromo_list.append(chromophores.Chromophore(i, snap, aaid, \"donor\", conversion_dict))"
   ]
  },
  {
   "cell_type": "code",
   "execution_count": 13,
   "id": "handmade-torture",
   "metadata": {},
   "outputs": [],
   "source": [
    "qcc_pairs = chromophores.set_neighbors_voronoi(chromo_list, snap, conversion_dict)"
   ]
  },
  {
   "cell_type": "code",
   "execution_count": 28,
   "id": "sacred-computer",
   "metadata": {},
   "outputs": [],
   "source": [
    "# Checked and all pairs look reasonable!\n",
    "#visualize_qcc_input(qcc_pairs[25][1])"
   ]
  },
  {
   "cell_type": "markdown",
   "id": "hispanic-confidentiality",
   "metadata": {},
   "source": [
    "## Old method"
   ]
  },
  {
   "cell_type": "code",
   "execution_count": 14,
   "id": "equipped-beatles",
   "metadata": {},
   "outputs": [
    {
     "name": "stdout",
     "output_type": "stream",
     "text": [
      "Calculating Neighbours of All Moieties\n",
      "Updating the chromophore list for dissociation neighbours\n"
     ]
    }
   ],
   "source": [
    "sim_dims = [                                                                \n",
    "    [-AA_morphdict[\"lx\"] / 2.0, AA_morphdict[\"lx\"] / 2.0],      \n",
    "    [-AA_morphdict[\"ly\"] / 2.0, AA_morphdict[\"ly\"] / 2.0],      \n",
    "    [-AA_morphdict[\"lz\"] / 2.0, AA_morphdict[\"lz\"] / 2.0],      \n",
    "]   \n",
    "chromo_list_old = oc.chromo_sort(chromo_list_old)\n",
    "chromo_list_old = oc.determine_neighbours_voronoi(chromo_list_old, param_dict, sim_dims                          ) "
   ]
  },
  {
   "cell_type": "code",
   "execution_count": 37,
   "id": "violent-prophet",
   "metadata": {},
   "outputs": [
    {
     "name": "stdout",
     "output_type": "stream",
     "text": [
      "chromo 0:\n",
      "\t      old        new\n",
      "\t 1 [0, 0, 0] 1 [0 0 0]\n",
      "\t 2 [0, 0, -1] 2 [0 0 0]\n",
      "chromo 1:\n",
      "\t      old        new\n",
      "\t 0 [0, 0, 0] 0 [0 0 0]\n",
      "\t 2 [0, 0, 0] 2 [0 0 0]\n",
      "\t 3 [0, 0, 0] 3 [0 0 0]\n",
      "chromo 2:\n",
      "\t      old        new\n",
      "\t 0 [0, 0, 1] 0 [0 0 0]\n",
      "\t 1 [0, 0, 0] 1 [0 0 0]\n",
      "\t 3 [0, 0, 0] 3 [0 0 0]\n",
      "\t 4 [0, 0, 0] 4 [0 0 0]\n",
      "chromo 3:\n",
      "\t      old        new\n",
      "\t 1 [0, 0, 0] 1 [0 0 0]\n",
      "\t 2 [0, 0, 0] 2 [0 0 0]\n",
      "\t 4 [0, 0, 0] 4 [0 0 0]\n",
      "chromo 4:\n",
      "\t      old        new\n",
      "\t 2 [0, 0, 0] 2 [0 0 0]\n",
      "\t 3 [0, 0, 0] 3 [0 0 0]\n",
      "chromo 5:\n",
      "\t      old        new\n",
      "\t 6 [0, -1, 0] 6 [0 0 0]\n",
      "chromo 6:\n",
      "\t      old        new\n",
      "\t 5 [0, 1, 0] 5 [0 0 0]\n",
      "\t 7 [0, 0, 0] 7 [0 0 0]\n",
      "\tvalue err: 8\n",
      "chromo 7:\n",
      "\t      old        new\n",
      "\t 6 [0, 0, 0] 6 [0 0 0]\n",
      "\t 8 [0, 0, 0] 8 [0 0 0]\n",
      "\t 9 [0, 0, 0] 9 [0 0 0]\n",
      "chromo 8:\n",
      "\t      old        new\n",
      "\tvalue err: 6\n",
      "\t 7 [0, 0, 0] 7 [0 0 0]\n",
      "\t 9 [0, 0, 0] 9 [0 0 0]\n",
      "\t 10 [0, 0, 0] 10 [0 0 0]\n",
      "chromo 9:\n",
      "\t      old        new\n",
      "\t 7 [0, 0, 0] 7 [0 0 0]\n",
      "\t 8 [0, 0, 0] 8 [0 0 0]\n",
      "\t 10 [0, 0, 0] 10 [0 0 0]\n",
      "\tvalue err: 11\n",
      "chromo 10:\n",
      "\t      old        new\n",
      "\t 8 [0, 0, 0] 8 [0 0 0]\n",
      "\t 9 [0, 0, 0] 9 [0 0 0]\n",
      "\t 11 [0, 0, 0] 11 [0 0 0]\n",
      "\t 12 [0, 0, 0] 12 [0 0 0]\n",
      "chromo 11:\n",
      "\t      old        new\n",
      "\tvalue err: 9\n",
      "\t 10 [0, 0, 0] 10 [0 0 0]\n",
      "\t 12 [0, 0, 0] 12 [0 0 0]\n",
      "chromo 12:\n",
      "\t      old        new\n",
      "\t 10 [0, 0, 0] 10 [0 0 0]\n",
      "\t 11 [0, 0, 0] 11 [0 0 0]\n",
      "chromo 13:\n",
      "\t      old        new\n",
      "\t 14 [0, 0, 0] 14 [0 0 0]\n",
      "chromo 14:\n",
      "\t      old        new\n",
      "\t 13 [0, 0, 0] 13 [0 0 0]\n",
      "\t 15 [0, 0, 1] 15 [0 0 0]\n",
      "\t 16 [0, 0, 0] 16 [0 0 0]\n",
      "chromo 15:\n",
      "\t      old        new\n",
      "\t 14 [0, 0, -1] 14 [0 0 0]\n",
      "\t 16 [0, 0, -1] 16 [0 0 0]\n",
      "\t 17 [0, 0, 0] 17 [0 0 0]\n",
      "chromo 16:\n",
      "\t      old        new\n",
      "\t 14 [0, 0, 0] 14 [0 0 0]\n",
      "\t 15 [0, 0, 1] 15 [0 0 0]\n",
      "\t 17 [0, 0, 0] 17 [0 0 0]\n",
      "chromo 17:\n",
      "\t      old        new\n",
      "\t 15 [0, 0, 0] 15 [0 0 0]\n",
      "\t 16 [0, 0, 0] 16 [0 0 0]\n",
      "\t 18 [0, 0, 0] 18 [0 1 0]\n",
      "chromo 18:\n",
      "\t      old        new\n",
      "\t 17 [0, 0, 0] 17 [ 0 -1  0]\n",
      "\t 19 [0, 0, 0] 19 [0 0 0]\n",
      "\t 20 [0, 0, 0] 20 [0 0 0]\n",
      "chromo 19:\n",
      "\t      old        new\n",
      "\t 18 [0, 0, 0] 18 [0 0 0]\n",
      "\t 20 [0, 0, 0] 20 [0 0 0]\n",
      "chromo 20:\n",
      "\t      old        new\n",
      "\t 18 [0, 0, 0] 18 [0 0 0]\n",
      "\t 19 [0, 0, 0] 19 [0 0 0]\n",
      "\t 21 [0, 0, 0] 21 [0 0 0]\n",
      "chromo 21:\n",
      "\t      old        new\n",
      "\t 20 [0, 0, 0] 20 [0 0 0]\n",
      "\t 22 [0, 0, 0] 22 [0 0 0]\n",
      "\tvalue err: 23\n",
      "chromo 22:\n",
      "\t      old        new\n",
      "\t 21 [0, 0, 0] 21 [0 0 0]\n",
      "\t 23 [0, 1, 0] 23 [0 0 0]\n",
      "chromo 23:\n",
      "\t      old        new\n",
      "\tvalue err: 21\n",
      "\t 22 [0, -1, 0] 22 [0 0 0]\n"
     ]
    }
   ],
   "source": [
    "for i in range(len(chromo_list)):\n",
    "    print(f\"chromo {i}:\")\n",
    "    print(\"\\t      old        new\")\n",
    "    old_neighbors = [x for x,img in chromo_list_old[i].neighbours]\n",
    "    for ind,img in chromo_list[i].neighbors:\n",
    "        try:\n",
    "            old_ind = old_neighbors.index(ind)\n",
    "            print(\"\\t\", *chromo_list_old[i].neighbours[old_ind], ind, img)\n",
    "        except ValueError:\n",
    "            print(f\"\\tvalue err: {ind}\")\n",
    "            pass"
   ]
  },
  {
   "cell_type": "code",
   "execution_count": 55,
   "id": "floppy-blackberry",
   "metadata": {},
   "outputs": [
    {
     "name": "stdout",
     "output_type": "stream",
     "text": [
      "6 [0, -1, 0]\n",
      "7 [0, -1, 0]\n",
      "8 [0, -1, 0]\n",
      "9 [0, -1, 0]\n",
      "10 [0, -1, 0]\n",
      "11 [0, -1, 0]\n",
      "12 [0, -1, 0]\n",
      "13 [0, -1, 0]\n",
      "14 [0, -1, 0]\n",
      "15 [0, -1, 0]\n",
      "16 [0, -1, 0]\n",
      "17 [0, -1, 0]\n",
      "18 [0, -1, 0]\n",
      "19 [0, -1, 0]\n",
      "20 [0, -1, 0]\n",
      "21 [0, -1, 0]\n",
      "22 [0, -1, 0]\n"
     ]
    }
   ],
   "source": [
    "for c in chromo_list_old:\n",
    "    if not np.array_equal(c.image, np.zeros(3)):\n",
    "        print(c.ID, c.image)"
   ]
  },
  {
   "cell_type": "code",
   "execution_count": 48,
   "id": "bronze-walter",
   "metadata": {},
   "outputs": [
    {
     "name": "stdout",
     "output_type": "stream",
     "text": [
      "5 [0. 1. 0.]\n",
      "6 [0. 1. 0.]\n",
      "7 [0. 1. 0.]\n",
      "8 [0. 1. 0.]\n",
      "9 [0. 1. 0.]\n",
      "10 [0. 1. 0.]\n",
      "11 [0. 1. 0.]\n",
      "12 [0. 1. 0.]\n",
      "13 [0. 1. 0.]\n",
      "14 [0. 1. 0.]\n",
      "15 [0. 1. 0.]\n",
      "16 [0. 1. 0.]\n",
      "17 [0. 1. 0.]\n"
     ]
    }
   ],
   "source": [
    "for c in chromo_list:\n",
    "    if not np.array_equal(c.image, np.zeros(3)):\n",
    "        print(c.id, c.image)"
   ]
  },
  {
   "cell_type": "code",
   "execution_count": 69,
   "id": "reverse-joint",
   "metadata": {},
   "outputs": [],
   "source": [
    "d_cut = 10\n",
    "\n",
    "box = snap.configuration.box[:3] \n",
    "\n",
    "chromo_i = chromo_list[17]\n",
    "chromo_j = chromo_list[18]\n",
    "centers = []                                                        \n",
    "distances = []                                                      \n",
    "images = []   \n",
    "\n",
    "\n",
    "for xyz_image in itertools.product(range(-1,2), repeat=3):          \n",
    "    xyz_image = np.array(xyz_image)                                 \n",
    "    sc_center = chromo_j.center + xyz_image * box                   \n",
    "    images.append(xyz_image)                                        \n",
    "    centers.append(sc_center)                                       \n",
    "    distances.append(np.linalg.norm(sc_center - chromo_i.center))   \n",
    "imin = distances.index(min(distances))                              \n",
    "if distances[imin] > d_cut:                                         \n",
    "    pass   \n",
    "rel_image = images[imin]                                            \n",
    "j_shift = centers[imin] - chromo_j.unwrapped_center  "
   ]
  },
  {
   "cell_type": "code",
   "execution_count": 73,
   "id": "golden-regard",
   "metadata": {},
   "outputs": [
    {
     "name": "stdout",
     "output_type": "stream",
     "text": [
      "[0 1 0]\n",
      "[0. 1. 0.] [0. 0. 0.]\n",
      "[-22.23330602 -46.65447651 -16.1835895 ] [-25.56387659 -40.33081263 -10.96778323]\n",
      "[-22.23330602 -46.65447651 -16.1835895 ] [-25.56387659 -40.33081263 -10.96778323]\n"
     ]
    },
    {
     "data": {
      "text/plain": [
       "8.847941017902542"
      ]
     },
     "execution_count": 73,
     "metadata": {},
     "output_type": "execute_result"
    }
   ],
   "source": [
    "print(rel_image)\n",
    "print(chromo_i.image, chromo_j.image)\n",
    "print(chromo_i.center+ box*-rel_image, chromo_j.center)\n",
    "print(chromo_i.unwrapped_center, chromo_j.unwrapped_center)\n",
    "np.linalg.norm(chromo_i.unwrapped_center - chromo_j.unwrapped_center)"
   ]
  },
  {
   "cell_type": "code",
   "execution_count": 68,
   "id": "better-velvet",
   "metadata": {},
   "outputs": [
    {
     "name": "stdout",
     "output_type": "stream",
     "text": [
      "[0, 1, 0]\n",
      "[0, -1, 0] [0, 0, 0]\n",
      "[-20.7568099   42.30778292 -14.69372881] [-23.06243263  44.91209908 -12.37207311]\n",
      "[-20.7568099  -42.88184568 -14.69372881] [-23.06243263 -40.27752952 -12.37207311]\n"
     ]
    }
   ],
   "source": [
    "ochromo_i = chromo_list_old[22]\n",
    "ochromo_j = chromo_list_old[23]\n",
    "\n",
    "rel_image = [0, 1, 0]\n",
    "\n",
    "print(rel_image)\n",
    "print(ochromo_i.image, ochromo_j.image)\n",
    "print(ochromo_i.posn, ochromo_j.posn + box * rel_image)\n",
    "print(ochromo_i.unwrapped_posn, ochromo_j.unwrapped_posn)\n"
   ]
  },
  {
   "cell_type": "code",
   "execution_count": null,
   "id": "assisted-resort",
   "metadata": {},
   "outputs": [],
   "source": [
    "# These are different because geometric center vs CoM \n",
    "print(chromo_list[0].unwrapped_center,chromo_list_old[0].unwrapped_posn)"
   ]
  },
  {
   "cell_type": "code",
   "execution_count": null,
   "id": "mature-seminar",
   "metadata": {},
   "outputs": [],
   "source": [
    "print(dir(chromo_list_old[0])[:9])\n",
    "print(dir(chromo_list_old[0])[35:])"
   ]
  },
  {
   "cell_type": "code",
   "execution_count": null,
   "id": "convenient-surrey",
   "metadata": {},
   "outputs": [],
   "source": [
    "print(chromo_list_old[8].posn)\n",
    "print(chromo_list_old[8].unwrapped_posn) "
   ]
  },
  {
   "cell_type": "markdown",
   "id": "sitting-forwarding",
   "metadata": {},
   "source": [
    "# past here is outdated"
   ]
  },
  {
   "cell_type": "markdown",
   "id": "running-marker",
   "metadata": {},
   "source": [
    "Next time start working on obtain chromophores from snapshot"
   ]
  },
  {
   "cell_type": "code",
   "execution_count": null,
   "id": "antique-assessment",
   "metadata": {},
   "outputs": [],
   "source": [
    "#print(AA_morphdict.keys()) \n",
    "# 'xy', 'mass', 'lx', 'improper', 'body', 'unwrapped_position', 'natoms', \n",
    "# 'position', 'yz', 'xz', 'dimensions', 'ly', 'image', 'charge', 'lz', 'angle', \n",
    "# 'diameter', 'bond', 'time_step', 'type', 'dihedral'\n",
    "\n",
    "#print(CG_morphdict.keys()) \n",
    "# same as above\n",
    "\n",
    "#print(CGtoAAID_list) \n",
    "# {0: ['A', [0, 1, 2, 3, 4, 24]] includes attached hydrogen\n",
    "# where A beads are thiophenes, B and C beads are first and second three alkyl carbons\n",
    "\n",
    "#print(param_dict.keys())\n",
    "# so many things...\n",
    "\n",
    "#print(chromo_list[0])\n",
    "# list of chromophore class objects"
   ]
  },
  {
   "cell_type": "code",
   "execution_count": null,
   "id": "lovely-conditions",
   "metadata": {},
   "outputs": [],
   "source": [
    "#comp = mb.Compound()\n",
    "#for name, pos in zip(AA_morphdict[\"type\"],AA_morphdict[\"unwrapped_position\"]):\n",
    "#    name = name.strip(\"0123456789\")\n",
    "#    comp.add(mb.Particle(name=name, pos=np.array(pos)/10)) #convert to nm in mbuild\n",
    "#ps = [p for p in comp.particles()]\n",
    "#for _, i, j in AA_morphdict[\"bond\"]:\n",
    "#    comp.add_bond((ps[i],ps[j]))\n",
    "#    \n",
    "#comp.visualize().show()"
   ]
  },
  {
   "cell_type": "markdown",
   "id": "exciting-stomach",
   "metadata": {},
   "source": [
    "OK, so we have 2 all-atom p3ht 15mers. 30 chromophores makes sense."
   ]
  },
  {
   "cell_type": "code",
   "execution_count": null,
   "id": "tender-liberal",
   "metadata": {},
   "outputs": [],
   "source": [
    "print(len(chromo_list))\n",
    "chromo = chromo_list[0]\n",
    "print(dir(chromo))"
   ]
  },
  {
   "cell_type": "code",
   "execution_count": null,
   "id": "connected-arrival",
   "metadata": {},
   "outputs": [],
   "source": [
    "#print(len(chromo.AAIDs))\n",
    "#for i in chromo.AAIDs:\n",
    "#    ps[i].name = \"x\"\n",
    "#comp.visualize().show()"
   ]
  },
  {
   "cell_type": "markdown",
   "id": "apparent-croatia",
   "metadata": {},
   "source": [
    "Each chromophore is defined as one monomer.\n",
    "\n",
    "All the HOMO,LUMO info has not been set, the file path doesn't exist, and the neighbors havent been set"
   ]
  },
  {
   "cell_type": "code",
   "execution_count": null,
   "id": "minor-bahrain",
   "metadata": {},
   "outputs": [],
   "source": [
    "print(chromo.HOMO, chromo.LUMO)\n",
    "print(chromo.species)\n",
    "print(chromo.orca_output)\n",
    "print(chromo.neighbours)"
   ]
  },
  {
   "cell_type": "markdown",
   "id": "cellular-bandwidth",
   "metadata": {},
   "source": [
    "First let's fix the path -- we need to change the directories in the param_dict because they reference mattys computer. I'm making a new folder in the root dir called `notebook_output`. Then in that folder I had to make sure this dir structure exists in that folder:\n",
    "```\n",
    "/chromophores/ -+- input_orca/ -+- single/\n",
    "                |               |\n",
    "                |               +- pair/\n",
    "                |\n",
    "                +- output_orca/ -+- single/\n",
    "                                 |\n",
    "                                 +- pair/\n",
    "```\n",
    "\n",
    "*I have since change the code for this so it is no longer necessary*"
   ]
  },
  {
   "cell_type": "code",
   "execution_count": null,
   "id": "fifty-favor",
   "metadata": {},
   "outputs": [],
   "source": [
    "print(param_dict[\"output_orca_directory\"])"
   ]
  },
  {
   "cell_type": "code",
   "execution_count": null,
   "id": "specialized-constitutional",
   "metadata": {},
   "outputs": [],
   "source": [
    "outpath = os.path.join(os.getcwd(),\"notebook_output/\")\n",
    "print(outpath)\n",
    "param_dict[\"output_orca_directory\"] = outpath"
   ]
  },
  {
   "cell_type": "markdown",
   "id": "elder-prototype",
   "metadata": {},
   "source": [
    "Next let's get the neighbors"
   ]
  },
  {
   "cell_type": "code",
   "execution_count": null,
   "id": "korean-interval",
   "metadata": {},
   "outputs": [],
   "source": [
    "# I changed the spelling because I am not British and it kept throwing me off\n",
    "for chromo in chromo_list:\n",
    "    chromo.neighbors = chromo.neighbours\n",
    "    chromo.dissociation_neighbors = chromo.dissociation_neighbours\n",
    "    chromo.neighbors_delta_E = chromo.neighbours_delta_E\n",
    "    chromo.neighbors_TI = chromo.neighbours_TI\n",
    "    chromo.pos = chromo.posn"
   ]
  },
  {
   "cell_type": "code",
   "execution_count": null,
   "id": "billion-offering",
   "metadata": {},
   "outputs": [],
   "source": [
    "sim_dims = [                                                                \n",
    "    [-AA_morphdict[\"lx\"] / 2.0, AA_morphdict[\"lx\"] / 2.0],      \n",
    "    [-AA_morphdict[\"ly\"] / 2.0, AA_morphdict[\"ly\"] / 2.0],      \n",
    "    [-AA_morphdict[\"lz\"] / 2.0, AA_morphdict[\"lz\"] / 2.0],      \n",
    "]   \n",
    "chromo_list = oc.chromo_sort(chromo_list)\n",
    "chromo_list = oc.determine_neighbors_voronoi(                        \n",
    "    chromo_list, param_dict, sim_dims                          \n",
    ") "
   ]
  },
  {
   "cell_type": "markdown",
   "id": "intensive-genre",
   "metadata": {},
   "source": [
    "The files are created by `morphct/code/execute_ZINDO.py` `create_input_files(chromophore_list, AA_morphology_dict, parameter_dict)`\n",
    "The HOMO/LUMO gets set in `morphct/code/transfer_integrals.py` `load_orca_output(file_name)`"
   ]
  },
  {
   "cell_type": "code",
   "execution_count": null,
   "id": "substantial-cannon",
   "metadata": {},
   "outputs": [],
   "source": [
    "qcc_pairs = eqcc.create_inputs(chromo_list, AA_morphdict, param_dict)\n",
    "#print(qcc_pairs[0])\n",
    "# (i,j), mol_str "
   ]
  },
  {
   "cell_type": "markdown",
   "id": "settled-strip",
   "metadata": {},
   "source": [
    "OK ~this writes 30 inputs but no pairs--some neighborlist analysis must need done first~ \n",
    "\n",
    "after neighbor list all files are written\n",
    "\n",
    "next need to run ZINDO\n",
    "\n",
    "`eqcc.get_homolumo(chromo_list[0].qcc_input)` returns HOMO-1, HOMO, LUMO, LUMO+1"
   ]
  },
  {
   "cell_type": "code",
   "execution_count": null,
   "id": "rolled-cleaning",
   "metadata": {},
   "outputs": [],
   "source": [
    "s_filename = os.path.join(outpath, \"singles_energies.txt\")\n",
    "s_filename"
   ]
  },
  {
   "cell_type": "code",
   "execution_count": null,
   "id": "killing-pilot",
   "metadata": {},
   "outputs": [],
   "source": [
    "#%%time\n",
    "#data = eqcc.singles_homolumo(chromo_list, s_filename)\n",
    "#\n",
    "#CPU times: user 17 ms, sys: 25.6 ms, total: 42.5 ms\n",
    "#Wall time: 4.01 s"
   ]
  },
  {
   "cell_type": "markdown",
   "id": "respective-category",
   "metadata": {},
   "source": [
    "This gets the energy values of the chromophores using the single inputs. The neighbor energy values are not set:"
   ]
  },
  {
   "cell_type": "code",
   "execution_count": null,
   "id": "level-source",
   "metadata": {},
   "outputs": [],
   "source": [
    "print(chromo.HOMO)\n",
    "print(len(chromo.neighbours), len(chromo.neighbours_delta_E))\n",
    "print(chromo.neighbours_delta_E[0])"
   ]
  },
  {
   "cell_type": "markdown",
   "id": "alert-chapter",
   "metadata": {},
   "source": [
    "next look in morphct/code/transfer_integrals.py"
   ]
  },
  {
   "cell_type": "code",
   "execution_count": null,
   "id": "verbal-split",
   "metadata": {},
   "outputs": [],
   "source": [
    "d_filename = os.path.join(outpath, \"dimer_energies.txt\")\n",
    "d_filename"
   ]
  },
  {
   "cell_type": "code",
   "execution_count": null,
   "id": "original-tours",
   "metadata": {},
   "outputs": [],
   "source": [
    "#%%time\n",
    "#dimer_data = eqcc.dimer_homolumo(qcc_pairs, d_filename)\n",
    "#\n",
    "#CPU times: user 358 ms, sys: 146 ms, total: 504 ms\n",
    "#Wall time: 2min 22s"
   ]
  },
  {
   "cell_type": "code",
   "execution_count": null,
   "id": "original-regulation",
   "metadata": {},
   "outputs": [],
   "source": [
    "data = eqcc.get_singlesdata(s_filename)\n",
    "print(data[0])\n",
    "dimer_data = eqcc.get_dimerdata(d_filename)\n",
    "print(dimer_data[0])"
   ]
  },
  {
   "cell_type": "code",
   "execution_count": null,
   "id": "fifty-crack",
   "metadata": {},
   "outputs": [],
   "source": [
    "eqcc.set_energyvalues(chromo_list, s_filename, d_filename)"
   ]
  },
  {
   "cell_type": "code",
   "execution_count": null,
   "id": "grand-clearing",
   "metadata": {},
   "outputs": [],
   "source": [
    "print(chromo.HOMO)\n",
    "print(len(chromo.neighbours), len(chromo.neighbours_delta_E))\n",
    "print(chromo.neighbours_delta_E[0])"
   ]
  },
  {
   "cell_type": "markdown",
   "id": "offensive-duncan",
   "metadata": {},
   "source": [
    "OK, I think I should be ready to run KMC. Before it'll work we need to add some things to the param dict and change some paths.\n",
    "\n",
    "```\n",
    "notebook_outputs/KMC/ \n",
    "```\n",
    "\n",
    "run_kmc : single_core_run_mob_KMC\n",
    "\n",
    "kmc : mobility_KMC"
   ]
  },
  {
   "cell_type": "code",
   "execution_count": null,
   "id": "gothic-florist",
   "metadata": {},
   "outputs": [],
   "source": [
    "param_dict['simulation_times'] = [1.00e-13, 1.00e-12]\n",
    "param_dict[\"number_of_holes_per_simulation_time\"] = 10  \n",
    "param_dict[\"number_of_electrons_per_simulation_time\"] = 0 \n",
    "param_dict[\"combine_KMC_results\"] = True\n",
    "param_dict[\"record_carrier_history\"] = True\n",
    "param_dict[\"hop_limit\"] = 0\n",
    "param_dict[\"system_temperature\"] = 300 # In Kelvin\n",
    "param_dict[\"output_morphology_directory\"] = outpath"
   ]
  },
  {
   "cell_type": "code",
   "execution_count": null,
   "id": "direct-sound",
   "metadata": {},
   "outputs": [],
   "source": [
    "jobs_list = kmc.get_jobslist(\n",
    "    AA_morphdict, CG_morphdict, CGtoAAID_list, param_dict, chromo_list\n",
    ")"
   ]
  },
  {
   "cell_type": "code",
   "execution_count": null,
   "id": "sticky-organ",
   "metadata": {},
   "outputs": [],
   "source": [
    "jobs_list[0]"
   ]
  },
  {
   "cell_type": "code",
   "execution_count": null,
   "id": "aboriginal-deficit",
   "metadata": {},
   "outputs": [],
   "source": [
    "KMC_directory = os.path.join(outpath, \"KMC\")"
   ]
  },
  {
   "cell_type": "code",
   "execution_count": null,
   "id": "limiting-movie",
   "metadata": {},
   "outputs": [],
   "source": [
    "combined_data = kmc.run_kmc(\n",
    "    jobs_list,                                                              \n",
    "    KMC_directory,                                                          \n",
    "    AA_morphdict,                                                           \n",
    "    CG_morphdict,                                                           \n",
    "    CGtoAAID_list,                                                          \n",
    "    param_dict,                                                             \n",
    "    chromo_list\n",
    ")"
   ]
  },
  {
   "cell_type": "code",
   "execution_count": null,
   "id": "descending-explosion",
   "metadata": {},
   "outputs": [],
   "source": [
    "KMC_analyse.main(\n",
    "    AA_morphdict, \n",
    "    CG_morphdict, \n",
    "    CGtoAAID_list, \n",
    "    param_dict,                                                             \n",
    "    chromo_list,                                                            \n",
    "    [combined_data],                                                      \n",
    "    KMC_directory\n",
    ")"
   ]
  },
  {
   "cell_type": "code",
   "execution_count": null,
   "id": "psychological-environment",
   "metadata": {},
   "outputs": [],
   "source": []
  }
 ],
 "metadata": {
  "kernelspec": {
   "display_name": "Python 3",
   "language": "python",
   "name": "python3"
  },
  "language_info": {
   "codemirror_mode": {
    "name": "ipython",
    "version": 3
   },
   "file_extension": ".py",
   "mimetype": "text/x-python",
   "name": "python",
   "nbconvert_exporter": "python",
   "pygments_lexer": "ipython3",
   "version": "3.8.6"
  }
 },
 "nbformat": 4,
 "nbformat_minor": 5
}

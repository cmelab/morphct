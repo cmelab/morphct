{
 "cells": [
  {
   "cell_type": "markdown",
   "id": "cheap-output",
   "metadata": {},
   "source": [
    "# MorphCT\n",
    "\n",
    "goal: \n",
    " - atomistic gsd snapshot -> \n",
    " - assign chromophores -> \n",
    " - do QCC calcs -> \n",
    " - run KMC -> \n",
    " - calculate mobility\n",
    "\n",
    "current schema:\n",
    " - xml file\n",
    " - chromphore params set in par.py\n",
    " - if starting with atomistic, we can skip fine graining and molecular dynamics and only run:\n",
    "     - execute_obtain_chromophores = False                                             \n",
    "     - execute_ZINDO = False                                                           \n",
    "     - execute_calculate_transfer_integrals = False                                    \n",
    "     - execute_calculate_mobility = False    "
   ]
  },
  {
   "cell_type": "code",
   "execution_count": 1,
   "id": "italian-sunrise",
   "metadata": {},
   "outputs": [
    {
     "name": "stderr",
     "output_type": "stream",
     "text": [
      "/Users/jenny/miniconda3/envs/morphct-dev/lib/python3.8/site-packages/scipy/fft/__init__.py:97: DeprecationWarning: The module numpy.dual is deprecated.  Instead of using dual, use the functions directly from numpy or scipy.\n",
      "  from numpy.dual import register_func\n",
      "/Users/jenny/miniconda3/envs/morphct-dev/lib/python3.8/site-packages/scipy/special/orthogonal.py:81: DeprecationWarning: `np.int` is a deprecated alias for the builtin `int`. To silence this warning, use `int` by itself. Doing this will not modify any behavior and is safe. When replacing `np.int`, you may wish to use e.g. `np.int64` or `np.int32` to specify the precision. If you wish to review your current use, check the release note link for additional information.\n",
      "Deprecated in NumPy 1.20; for more details and guidance: https://numpy.org/devdocs/release/1.20.0-notes.html#deprecations\n",
      "  from numpy import (exp, inf, pi, sqrt, floor, sin, cos, around, int,\n",
      "/Users/jenny/miniconda3/envs/morphct-dev/lib/python3.8/site-packages/scipy/special/orthogonal.py:81: DeprecationWarning: `np.int` is a deprecated alias for the builtin `int`. To silence this warning, use `int` by itself. Doing this will not modify any behavior and is safe. When replacing `np.int`, you may wish to use e.g. `np.int64` or `np.int32` to specify the precision. If you wish to review your current use, check the release note link for additional information.\n",
      "Deprecated in NumPy 1.20; for more details and guidance: https://numpy.org/devdocs/release/1.20.0-notes.html#deprecations\n",
      "  from numpy import (exp, inf, pi, sqrt, floor, sin, cos, around, int,\n"
     ]
    }
   ],
   "source": [
    "import os\n",
    "import pickle\n",
    "import multiprocessing as mp\n",
    "\n",
    "import ele\n",
    "import gsd.hoomd\n",
    "import mbuild as mb\n",
    "import numpy as np\n",
    "from openbabel import openbabel\n",
    "from openbabel import pybel\n",
    "import pyscf\n",
    "from pyscf.semiempirical import MINDO3\n",
    "\n",
    "from morphct.code import obtain_chromophores as oc\n",
    "from morphct import transfer_integrals as ti\n",
    "from morphct import execute_qcc as eqcc\n",
    "from morphct import mobility_kmc as kmc\n",
    "from morphct.utils import kmc_analyze\n",
    "from morphct import chromophores"
   ]
  },
  {
   "cell_type": "markdown",
   "id": "assigned-tissue",
   "metadata": {},
   "source": [
    "OK, so I'm looking around for an xml file in the \"obtain chromophores\" tests but all I can find are these pickle files. I want to view them before I continue. ovito and vmd no longer support xmls... gah --> using mbuild."
   ]
  },
  {
   "cell_type": "code",
   "execution_count": 2,
   "id": "cleared-baltimore",
   "metadata": {},
   "outputs": [],
   "source": [
    "path = \"tests/assets/donor_polymer/OC/donor_polymer_post_obtain_chromophores.pickle\"\n",
    "(\n",
    "    AA_morphdict, \n",
    "    CG_morphdict, \n",
    "    CGtoAAID_list, \n",
    "    param_dict, \n",
    "    chromo_list_old\n",
    ") = pickle.load(open(path,\"rb\"))"
   ]
  },
  {
   "cell_type": "code",
   "execution_count": 3,
   "id": "sufficient-destination",
   "metadata": {},
   "outputs": [],
   "source": [
    "all_types = list(set(AA_morphdict['type']))\n",
    "bond_array = np.array([(i,j) for name,i,j in AA_morphdict[\"bond\"]])\n",
    "\n",
    "snap = gsd.hoomd.Snapshot()\n",
    "snap.configuration.box = np.array([\n",
    "    AA_morphdict[\"lx\"],\n",
    "    AA_morphdict[\"ly\"],\n",
    "    AA_morphdict[\"lz\"],\n",
    "    AA_morphdict[\"xy\"],\n",
    "    AA_morphdict[\"xz\"],\n",
    "    AA_morphdict[\"yz\"]\n",
    "])\n",
    "snap.configuration.dimensions = AA_morphdict[\"dimensions\"]\n",
    "snap.particles.N = AA_morphdict[\"natoms\"]\n",
    "snap.particles.body = AA_morphdict[\"body\"]\n",
    "snap.particles.position = AA_morphdict[\"position\"]\n",
    "snap.particles.charge = AA_morphdict[\"charge\"]\n",
    "snap.particles.diameter = AA_morphdict[\"diameter\"]\n",
    "snap.particles.mass = AA_morphdict[\"mass\"]\n",
    "snap.particles.image = AA_morphdict[\"image\"]\n",
    "snap.particles.types = all_types\n",
    "snap.particles.typeid = [all_types.index(i) for i in AA_morphdict[\"type\"]]\n",
    "snap.bonds.N = len(bond_array)\n",
    "snap.bonds.group = bond_array\n",
    "snap.validate()"
   ]
  },
  {
   "cell_type": "code",
   "execution_count": 4,
   "id": "speaking-walter",
   "metadata": {},
   "outputs": [],
   "source": [
    "unwrapped_positions = snap.particles.position + snap.particles.image * snap.configuration.box[:3]"
   ]
  },
  {
   "cell_type": "code",
   "execution_count": 5,
   "id": "burning-placement",
   "metadata": {},
   "outputs": [],
   "source": [
    "# Run this if you want to confirm that the unwrapped positions are correct in OVITO\n",
    "#with gsd.hoomd.open(name='test.gsd', mode='wb') as f:\n",
    "#    f.append(snap)\n",
    "#    snap.particles.position = unwrapped_positions\n",
    "#    f.append(snap)"
   ]
  },
  {
   "cell_type": "code",
   "execution_count": 6,
   "id": "formal-accounting",
   "metadata": {},
   "outputs": [],
   "source": [
    "conversion_dict = {\n",
    "    \"S1\": ele.element_from_symbol(\"S\"), \n",
    "    \"H1\": ele.element_from_symbol(\"H\"), \n",
    "    \"C5\": ele.element_from_symbol(\"C\"), \n",
    "    \"C1\": ele.element_from_symbol(\"C\"), \n",
    "    \"C4\": ele.element_from_symbol(\"C\"), \n",
    "    \"C6\": ele.element_from_symbol(\"C\"), \n",
    "    \"C8\": ele.element_from_symbol(\"C\"), \n",
    "    \"C9\": ele.element_from_symbol(\"C\"), \n",
    "    \"C3\": ele.element_from_symbol(\"C\"), \n",
    "    \"C7\": ele.element_from_symbol(\"C\"), \n",
    "    \"C2\": ele.element_from_symbol(\"C\"),\n",
    "    \"C10\": ele.element_from_symbol(\"C\"),\n",
    "}\n",
    "\n",
    "amber_dict = {\n",
    "    \"c\":  ele.element_from_symbol(\"C\"),\n",
    "    \"c1\": ele.element_from_symbol(\"C\"),\n",
    "    \"c2\": ele.element_from_symbol(\"C\"),\n",
    "    \"c3\": ele.element_from_symbol(\"C\"),\n",
    "    \"ca\": ele.element_from_symbol(\"C\"),\n",
    "    \"cp\": ele.element_from_symbol(\"C\"),\n",
    "    \"cq\": ele.element_from_symbol(\"C\"),\n",
    "    \"cc\": ele.element_from_symbol(\"C\"),\n",
    "    \"cd\": ele.element_from_symbol(\"C\"),\n",
    "    \"ce\": ele.element_from_symbol(\"C\"),\n",
    "    \"cf\": ele.element_from_symbol(\"C\"),\n",
    "    \"cg\": ele.element_from_symbol(\"C\"),\n",
    "    \"ch\": ele.element_from_symbol(\"C\"),\n",
    "    \"cx\": ele.element_from_symbol(\"C\"),\n",
    "    \"cy\": ele.element_from_symbol(\"C\"),\n",
    "    \"cu\": ele.element_from_symbol(\"C\"),\n",
    "    \"cv\": ele.element_from_symbol(\"C\"),\n",
    "    \"h1\": ele.element_from_symbol(\"H\"),\n",
    "    \"h2\": ele.element_from_symbol(\"H\"),\n",
    "    \"h3\": ele.element_from_symbol(\"H\"),\n",
    "    \"h4\": ele.element_from_symbol(\"H\"),\n",
    "    \"h5\": ele.element_from_symbol(\"H\"),\n",
    "    \"ha\": ele.element_from_symbol(\"H\"),\n",
    "    \"hc\": ele.element_from_symbol(\"H\"),\n",
    "    \"hn\": ele.element_from_symbol(\"H\"),\n",
    "    \"ho\": ele.element_from_symbol(\"H\"),\n",
    "    \"hp\": ele.element_from_symbol(\"H\"),\n",
    "    \"hs\": ele.element_from_symbol(\"H\"),\n",
    "    \"hw\": ele.element_from_symbol(\"H\"),\n",
    "    \"hx\": ele.element_from_symbol(\"H\"),\n",
    "    \"f\":  ele.element_from_symbol(\"F\"),\n",
    "    \"cl\": ele.element_from_symbol(\"Cl\"),\n",
    "    \"br\": ele.element_from_symbol(\"Br\"),\n",
    "    \"i\":  ele.element_from_symbol(\"I\"),\n",
    "    \"n\":  ele.element_from_symbol(\"N\"),\n",
    "    \"n1\": ele.element_from_symbol(\"N\"),\n",
    "    \"n2\": ele.element_from_symbol(\"N\"),\n",
    "    \"n3\": ele.element_from_symbol(\"N\"),\n",
    "    \"n4\": ele.element_from_symbol(\"N\"),\n",
    "    \"na\": ele.element_from_symbol(\"N\"),\n",
    "    \"nb\": ele.element_from_symbol(\"N\"),\n",
    "    \"nc\": ele.element_from_symbol(\"N\"),\n",
    "    \"nd\": ele.element_from_symbol(\"N\"),\n",
    "    \"ne\": ele.element_from_symbol(\"N\"),\n",
    "    \"nf\": ele.element_from_symbol(\"N\"),\n",
    "    \"nh\": ele.element_from_symbol(\"N\"),\n",
    "    \"no\": ele.element_from_symbol(\"N\"),\n",
    "    \"o\":  ele.element_from_symbol(\"O\"),\n",
    "    \"oh\": ele.element_from_symbol(\"O\"),\n",
    "    \"os\": ele.element_from_symbol(\"O\"),\n",
    "    \"ow\": ele.element_from_symbol(\"O\"),\n",
    "    \"p2\": ele.element_from_symbol(\"P\"),\n",
    "    \"p3\": ele.element_from_symbol(\"P\"),\n",
    "    \"p4\": ele.element_from_symbol(\"P\"),\n",
    "    \"p5\": ele.element_from_symbol(\"P\"),\n",
    "    \"pb\": ele.element_from_symbol(\"P\"),\n",
    "    \"pc\": ele.element_from_symbol(\"P\"),\n",
    "    \"pd\": ele.element_from_symbol(\"P\"),\n",
    "    \"pe\": ele.element_from_symbol(\"P\"),\n",
    "    \"pf\": ele.element_from_symbol(\"P\"),\n",
    "    \"px\": ele.element_from_symbol(\"P\"),\n",
    "    \"py\": ele.element_from_symbol(\"P\"),\n",
    "    \"s\":  ele.element_from_symbol(\"S\"),\n",
    "    \"s2\": ele.element_from_symbol(\"S\"),\n",
    "    \"s4\": ele.element_from_symbol(\"S\"),\n",
    "    \"s6\": ele.element_from_symbol(\"S\"),\n",
    "    \"sh\": ele.element_from_symbol(\"S\"),\n",
    "    \"ss\": ele.element_from_symbol(\"S\"),\n",
    "    \"sx\": ele.element_from_symbol(\"S\"),\n",
    "    \"sy\": ele.element_from_symbol(\"S\"),\n",
    "}"
   ]
  },
  {
   "cell_type": "code",
   "execution_count": 7,
   "id": "crazy-crystal",
   "metadata": {},
   "outputs": [],
   "source": [
    "smarts_str = \"c1cscc1CCCCCC\""
   ]
  },
  {
   "cell_type": "code",
   "execution_count": 8,
   "id": "tight-setup",
   "metadata": {},
   "outputs": [],
   "source": [
    "from ele.exceptions import ElementError\n",
    "\n",
    "def get_chromo_ids_smiles(snap, smarts_str, conversion_dict=None):\n",
    "    mol = openbabel.OBMol()\n",
    "    for i in range(snap.particles.N):\n",
    "        a = mol.NewAtom()\n",
    "        if conversion_dict:\n",
    "            element = conversion_dict[snap.particles.types[snap.particles.typeid[i]]]\n",
    "        else:\n",
    "            try:\n",
    "                element = ele.element_from_symbol(snap.particles.types[snap.particles.typeid[i]])\n",
    "            except ElementError as e:\n",
    "                print(\"Particle types are not elements, please provide a conversion_dict\")\n",
    "                raise e\n",
    "        a.SetAtomicNum(element.atomic_number)\n",
    "        a.SetVector(*[float(x) for x in snap.particles.position[i]])\n",
    "    for i,j in snap.bonds.group:\n",
    "        # openbabel indexes atoms from 1\n",
    "        # AddBond(i_index, j_index, bond_order)\n",
    "        mol.AddBond(int(i+1), int(j+1), 1)\n",
    "\n",
    "    pybelmol = pybel.Molecule(mol)\n",
    "    # This will correctly set the bond order\n",
    "    # (necessary for smarts matching)\n",
    "    pybelmol.OBMol.PerceiveBondOrders()\n",
    "\n",
    "    smarts = pybel.Smarts(smarts_str)\n",
    "    # shift indices by 1\n",
    "    atom_indices = [np.array(i)-1 for i in smarts.findall(pybelmol)]\n",
    "    return atom_indices"
   ]
  },
  {
   "cell_type": "code",
   "execution_count": 9,
   "id": "another-muscle",
   "metadata": {},
   "outputs": [],
   "source": [
    "aaids = get_chromo_ids_smiles(snap, smarts_str, conversion_dict)"
   ]
  },
  {
   "cell_type": "code",
   "execution_count": 10,
   "id": "radical-status",
   "metadata": {},
   "outputs": [],
   "source": [
    "chromo_list = []\n",
    "for i,aaid in enumerate(aaids):\n",
    "    chromo_list.append(chromophores.Chromophore(i, snap, aaid, \"donor\", conversion_dict))"
   ]
  },
  {
   "cell_type": "code",
   "execution_count": 16,
   "id": "manual-smith",
   "metadata": {},
   "outputs": [
    {
     "name": "stdout",
     "output_type": "stream",
     "text": [
      "[  8.53228682 -27.96646586 -35.07523658] [  9.46145696 -26.64609357 -33.05219764]\n"
     ]
    }
   ],
   "source": [
    "# These are different because geometric center vs CoM \n",
    "print(chromo_list[0].unwrapped_center,chromo_list_old[0].unwrapped_posn)\n"
   ]
  },
  {
   "cell_type": "code",
   "execution_count": 49,
   "id": "planned-momentum",
   "metadata": {},
   "outputs": [],
   "source": [
    "def visualize_qcc_input(qcc_input):\n",
    "    comp = mb.Compound()\n",
    "    for line in qcc_input.split(\";\")[:-1]:\n",
    "        atom, x, y, z = line.split()\n",
    "        xyz = np.array([x,y,z], dtype=float)\n",
    "        # Angstrom -> nm\n",
    "        xyz /= 10\n",
    "        comp.add(mb.Particle(name=atom,pos=xyz))\n",
    "    comp.visualize().show()"
   ]
  },
  {
   "cell_type": "code",
   "execution_count": 50,
   "id": "noticed-tournament",
   "metadata": {},
   "outputs": [
    {
     "data": {
      "application/3dmoljs_load.v0": "<div id=\"3dmolviewer_318553452781\"  style=\"position: relative; width: 640px; height: 480px\">\n        <p id=\"3dmolwarning_318553452781\" style=\"background-color:#ffcccc;color:black\">You appear to be running in JupyterLab (or JavaScript failed to load for some other reason).  You need to install the 3dmol extension: <br>\n        <tt>jupyter labextension install jupyterlab_3dmol</tt></p>\n        </div>\n<script>\n\nvar loadScriptAsync = function(uri){\n  return new Promise((resolve, reject) => {\n    var tag = document.createElement('script');\n    tag.src = uri;\n    tag.async = true;\n    tag.onload = () => {\n      resolve();\n    };\n  var firstScriptTag = document.getElementsByTagName('script')[0];\n  firstScriptTag.parentNode.insertBefore(tag, firstScriptTag);\n});\n};\n\nif(typeof $3Dmolpromise === 'undefined') {\n$3Dmolpromise = null;\n  $3Dmolpromise = loadScriptAsync('https://3dmol.csb.pitt.edu/build/3Dmol.js');\n}\n\nvar viewer_318553452781 = null;\nvar warn = document.getElementById(\"3dmolwarning_318553452781\");\nif(warn) {\n    warn.parentNode.removeChild(warn);\n}\n$3Dmolpromise.then(function() {\nviewer_318553452781 = $3Dmol.createViewer($(\"#3dmolviewer_318553452781\"),{backgroundColor:\"white\"});\n\tviewer_318553452781.addModel(\"@<TRIPOS>MOLECULE\\nRES\\n27 0 1 0 1\\nSMALL\\nNO_CHARGES\\n@<TRIPOS>CRYSIN\\n   12.0731    10.1507    11.9235    90.0000    90.0000    90.0000  1  1\\n@<TRIPOS>ATOM\\n       1 C            0.5295     0.9320     1.6556 C             1 RES     \\n       2 C            0.1953     2.0956     2.3501 C             1 RES     \\n       3 S            1.4871     2.4053     3.3423 S             1 RES     \\n       4 C            2.4921     1.1416     2.9635 C             1 RES     \\n       5 C            1.8110     0.3969     1.9957 C             1 RES     \\n       6 C            2.1934    -0.9484     1.1909 C             1 RES     \\n       7 C            1.5335    -0.8582    -0.4119 C             1 RES     \\n       8 C           -0.0706    -1.5019    -0.3441 C             1 RES     \\n       9 C           -1.4080    -1.2887    -1.2800 C             1 RES     \\n      10 C           -1.6903    -0.1145    -2.4732 C             1 RES     \\n      11 C           -2.6506     1.1965    -2.0141 C             1 RES     \\n      12 H           -3.6984     1.0852    -2.4957 H             1 RES     \\n      13 H           -2.1618     2.1780    -2.3839 H             1 RES     \\n      14 H           -2.7564     1.2243    -0.8632 H             1 RES     \\n      15 H           -2.2174    -0.6363    -3.3564 H             1 RES     \\n      16 H           -0.6704     0.2925    -2.8177 H             1 RES     \\n      17 H           -1.5872    -2.3000    -1.8270 H             1 RES     \\n      18 H           -2.2921    -1.1442    -0.5338 H             1 RES     \\n      19 H            0.1622    -2.6454    -0.4554 H             1 RES     \\n      20 H           -0.4219    -1.3649     0.7539 H             1 RES     \\n      21 H            1.5111     0.2221    -0.7852 H             1 RES     \\n      22 H            2.1665    -1.5109    -1.1088 H             1 RES     \\n      23 H            1.7709    -1.8874     1.7160 H             1 RES     \\n      24 H            3.3435    -1.0521     1.0852 H             1 RES     \\n      25 H           -0.0789     0.6671     0.7282 H             1 RES     \\n      26 H            3.3747     0.9103     3.5671 H             1 RES     \\n      27 H           -0.8667     2.5053     1.8021 H             1 RES     \\n@<TRIPOS>BOND\\n@<TRIPOS>SUBSTRUCTURE\\n       1 RES             1 RESIDUE    0 **** ROOT      0\\n\",\"mol2\");\n\tviewer_318553452781.setStyle({\"stick\": {\"radius\": 0.2, \"color\": \"grey\"}, \"sphere\": {\"scale\": 0.3, \"colorscheme\": {}}});\n\tviewer_318553452781.zoomTo();\nviewer_318553452781.render();\n});\n</script>",
      "text/html": [
       "<div id=\"3dmolviewer_318553452781\"  style=\"position: relative; width: 640px; height: 480px\">\n",
       "        <p id=\"3dmolwarning_318553452781\" style=\"background-color:#ffcccc;color:black\">You appear to be running in JupyterLab (or JavaScript failed to load for some other reason).  You need to install the 3dmol extension: <br>\n",
       "        <tt>jupyter labextension install jupyterlab_3dmol</tt></p>\n",
       "        </div>\n",
       "<script>\n",
       "\n",
       "var loadScriptAsync = function(uri){\n",
       "  return new Promise((resolve, reject) => {\n",
       "    var tag = document.createElement('script');\n",
       "    tag.src = uri;\n",
       "    tag.async = true;\n",
       "    tag.onload = () => {\n",
       "      resolve();\n",
       "    };\n",
       "  var firstScriptTag = document.getElementsByTagName('script')[0];\n",
       "  firstScriptTag.parentNode.insertBefore(tag, firstScriptTag);\n",
       "});\n",
       "};\n",
       "\n",
       "if(typeof $3Dmolpromise === 'undefined') {\n",
       "$3Dmolpromise = null;\n",
       "  $3Dmolpromise = loadScriptAsync('https://3dmol.csb.pitt.edu/build/3Dmol.js');\n",
       "}\n",
       "\n",
       "var viewer_318553452781 = null;\n",
       "var warn = document.getElementById(\"3dmolwarning_318553452781\");\n",
       "if(warn) {\n",
       "    warn.parentNode.removeChild(warn);\n",
       "}\n",
       "$3Dmolpromise.then(function() {\n",
       "viewer_318553452781 = $3Dmol.createViewer($(\"#3dmolviewer_318553452781\"),{backgroundColor:\"white\"});\n",
       "\tviewer_318553452781.addModel(\"@<TRIPOS>MOLECULE\\nRES\\n27 0 1 0 1\\nSMALL\\nNO_CHARGES\\n@<TRIPOS>CRYSIN\\n   12.0731    10.1507    11.9235    90.0000    90.0000    90.0000  1  1\\n@<TRIPOS>ATOM\\n       1 C            0.5295     0.9320     1.6556 C             1 RES     \\n       2 C            0.1953     2.0956     2.3501 C             1 RES     \\n       3 S            1.4871     2.4053     3.3423 S             1 RES     \\n       4 C            2.4921     1.1416     2.9635 C             1 RES     \\n       5 C            1.8110     0.3969     1.9957 C             1 RES     \\n       6 C            2.1934    -0.9484     1.1909 C             1 RES     \\n       7 C            1.5335    -0.8582    -0.4119 C             1 RES     \\n       8 C           -0.0706    -1.5019    -0.3441 C             1 RES     \\n       9 C           -1.4080    -1.2887    -1.2800 C             1 RES     \\n      10 C           -1.6903    -0.1145    -2.4732 C             1 RES     \\n      11 C           -2.6506     1.1965    -2.0141 C             1 RES     \\n      12 H           -3.6984     1.0852    -2.4957 H             1 RES     \\n      13 H           -2.1618     2.1780    -2.3839 H             1 RES     \\n      14 H           -2.7564     1.2243    -0.8632 H             1 RES     \\n      15 H           -2.2174    -0.6363    -3.3564 H             1 RES     \\n      16 H           -0.6704     0.2925    -2.8177 H             1 RES     \\n      17 H           -1.5872    -2.3000    -1.8270 H             1 RES     \\n      18 H           -2.2921    -1.1442    -0.5338 H             1 RES     \\n      19 H            0.1622    -2.6454    -0.4554 H             1 RES     \\n      20 H           -0.4219    -1.3649     0.7539 H             1 RES     \\n      21 H            1.5111     0.2221    -0.7852 H             1 RES     \\n      22 H            2.1665    -1.5109    -1.1088 H             1 RES     \\n      23 H            1.7709    -1.8874     1.7160 H             1 RES     \\n      24 H            3.3435    -1.0521     1.0852 H             1 RES     \\n      25 H           -0.0789     0.6671     0.7282 H             1 RES     \\n      26 H            3.3747     0.9103     3.5671 H             1 RES     \\n      27 H           -0.8667     2.5053     1.8021 H             1 RES     \\n@<TRIPOS>BOND\\n@<TRIPOS>SUBSTRUCTURE\\n       1 RES             1 RESIDUE    0 **** ROOT      0\\n\",\"mol2\");\n",
       "\tviewer_318553452781.setStyle({\"stick\": {\"radius\": 0.2, \"color\": \"grey\"}, \"sphere\": {\"scale\": 0.3, \"colorscheme\": {}}});\n",
       "\tviewer_318553452781.zoomTo();\n",
       "viewer_318553452781.render();\n",
       "});\n",
       "</script>"
      ]
     },
     "metadata": {},
     "output_type": "display_data"
    }
   ],
   "source": [
    "visualize_qcc_input(qcc_input)"
   ]
  },
  {
   "cell_type": "code",
   "execution_count": 71,
   "id": "spectacular-concentrate",
   "metadata": {},
   "outputs": [
    {
     "name": "stdout",
     "output_type": "stream",
     "text": [
      "['AAIDs', 'CGIDs', 'CG_types', 'HOMO', 'HOMO_1', 'ID', 'LUMO', 'LUMO_1', 'VRH_delocalisation']\n",
      "['bonds', 'dissociation_neighbours', 'get_MO_energy', 'get_important_bonds', 'image', 'neighbours', 'neighbours_TI', 'neighbours_delta_E', 'obtain_chromophore_COM', 'obtain_electronic_species', 'orca_input', 'orca_output', 'posn', 'reorganisation_energy', 'species', 'sub_species', 'terminate', 'unwrapped_posn']\n"
     ]
    }
   ],
   "source": [
    "print(dir(chromo_list[0])[:9])\n",
    "print(dir(chromo_list[0])[35:])"
   ]
  },
  {
   "cell_type": "code",
   "execution_count": 293,
   "id": "revolutionary-violence",
   "metadata": {},
   "outputs": [
    {
     "name": "stdout",
     "output_type": "stream",
     "text": [
      "[ 25.72264409  37.20784808 -13.29895688]\n",
      "[ 25.72264409 -47.98178053 -13.29895688]\n"
     ]
    }
   ],
   "source": [
    "print(chromo_list[8].posn)\n",
    "print(chromo_list[8].unwrapped_posn) "
   ]
  },
  {
   "cell_type": "markdown",
   "id": "wrapped-profile",
   "metadata": {},
   "source": [
    "Next time start working on obtain chromophores from snapshot"
   ]
  },
  {
   "cell_type": "code",
   "execution_count": 3,
   "id": "theoretical-robertson",
   "metadata": {},
   "outputs": [],
   "source": [
    "#print(AA_morphdict.keys()) \n",
    "# 'xy', 'mass', 'lx', 'improper', 'body', 'unwrapped_position', 'natoms', \n",
    "# 'position', 'yz', 'xz', 'dimensions', 'ly', 'image', 'charge', 'lz', 'angle', \n",
    "# 'diameter', 'bond', 'time_step', 'type', 'dihedral'\n",
    "\n",
    "#print(CG_morphdict.keys()) \n",
    "# same as above\n",
    "\n",
    "#print(CGtoAAID_list) \n",
    "# {0: ['A', [0, 1, 2, 3, 4, 24]] includes attached hydrogen\n",
    "# where A beads are thiophenes, B and C beads are first and second three alkyl carbons\n",
    "\n",
    "#print(param_dict.keys())\n",
    "# so many things...\n",
    "\n",
    "#print(chromo_list[0])\n",
    "# list of chromophore class objects"
   ]
  },
  {
   "cell_type": "code",
   "execution_count": 4,
   "id": "eligible-aberdeen",
   "metadata": {},
   "outputs": [],
   "source": [
    "#comp = mb.Compound()\n",
    "#for name, pos in zip(AA_morphdict[\"type\"],AA_morphdict[\"unwrapped_position\"]):\n",
    "#    name = name.strip(\"0123456789\")\n",
    "#    comp.add(mb.Particle(name=name, pos=np.array(pos)/10)) #convert to nm in mbuild\n",
    "#ps = [p for p in comp.particles()]\n",
    "#for _, i, j in AA_morphdict[\"bond\"]:\n",
    "#    comp.add_bond((ps[i],ps[j]))\n",
    "#    \n",
    "#comp.visualize().show()"
   ]
  },
  {
   "cell_type": "markdown",
   "id": "turkish-richards",
   "metadata": {},
   "source": [
    "OK, so we have 2 all-atom p3ht 15mers. 30 chromophores makes sense."
   ]
  },
  {
   "cell_type": "code",
   "execution_count": 5,
   "id": "willing-rating",
   "metadata": {},
   "outputs": [
    {
     "name": "stdout",
     "output_type": "stream",
     "text": [
      "30\n",
      "['AAIDs', 'CGIDs', 'CG_types', 'HOMO', 'HOMO_1', 'ID', 'LUMO', 'LUMO_1', 'VRH_delocalisation', '__class__', '__delattr__', '__dict__', '__dir__', '__doc__', '__eq__', '__format__', '__ge__', '__getattribute__', '__gt__', '__hash__', '__init__', '__init_subclass__', '__le__', '__lt__', '__module__', '__ne__', '__new__', '__reduce__', '__reduce_ex__', '__repr__', '__setattr__', '__sizeof__', '__str__', '__subclasshook__', '__weakref__', 'bonds', 'dissociation_neighbours', 'get_MO_energy', 'get_important_bonds', 'image', 'neighbours', 'neighbours_TI', 'neighbours_delta_E', 'obtain_chromophore_COM', 'obtain_electronic_species', 'orca_input', 'orca_output', 'posn', 'reorganisation_energy', 'species', 'sub_species', 'terminate', 'unwrapped_posn']\n"
     ]
    }
   ],
   "source": [
    "print(len(chromo_list))\n",
    "chromo = chromo_list[0]\n",
    "print(dir(chromo))"
   ]
  },
  {
   "cell_type": "code",
   "execution_count": 6,
   "id": "outstanding-conditioning",
   "metadata": {},
   "outputs": [],
   "source": [
    "#print(len(chromo.AAIDs))\n",
    "#for i in chromo.AAIDs:\n",
    "#    ps[i].name = \"x\"\n",
    "#comp.visualize().show()"
   ]
  },
  {
   "cell_type": "markdown",
   "id": "modified-judge",
   "metadata": {},
   "source": [
    "Each chromophore is defined as one monomer.\n",
    "\n",
    "All the HOMO,LUMO info has not been set, the file path doesn't exist, and the neighbors havent been set"
   ]
  },
  {
   "cell_type": "code",
   "execution_count": 7,
   "id": "prompt-istanbul",
   "metadata": {},
   "outputs": [
    {
     "name": "stdout",
     "output_type": "stream",
     "text": [
      "None None\n",
      "donor\n",
      "/chromophores/output_orca/single/00000.out\n",
      "[]\n"
     ]
    }
   ],
   "source": [
    "print(chromo.HOMO, chromo.LUMO)\n",
    "print(chromo.species)\n",
    "print(chromo.orca_output)\n",
    "print(chromo.neighbours)"
   ]
  },
  {
   "cell_type": "markdown",
   "id": "regional-eight",
   "metadata": {},
   "source": [
    "First let's fix the path -- we need to change the directories in the param_dict because they reference mattys computer. I'm making a new folder in the root dir called `notebook_output`. Then in that folder I had to make sure this dir structure exists in that folder:\n",
    "```\n",
    "/chromophores/ -+- input_orca/ -+- single/\n",
    "                |               |\n",
    "                |               +- pair/\n",
    "                |\n",
    "                +- output_orca/ -+- single/\n",
    "                                 |\n",
    "                                 +- pair/\n",
    "```\n",
    "\n",
    "*I have since change the code for this so it is no longer necessary*"
   ]
  },
  {
   "cell_type": "code",
   "execution_count": 8,
   "id": "unauthorized-cholesterol",
   "metadata": {},
   "outputs": [
    {
     "name": "stdout",
     "output_type": "stream",
     "text": [
      "/home/mattyjones/Software/morphct/tests/output_OC/donor_polymer\n"
     ]
    }
   ],
   "source": [
    "print(param_dict[\"output_orca_directory\"])"
   ]
  },
  {
   "cell_type": "code",
   "execution_count": 9,
   "id": "statistical-glass",
   "metadata": {},
   "outputs": [
    {
     "name": "stdout",
     "output_type": "stream",
     "text": [
      "/Users/jenny/Projects/morphct/notebook_output/\n"
     ]
    }
   ],
   "source": [
    "outpath = os.path.join(os.getcwd(),\"notebook_output/\")\n",
    "print(outpath)\n",
    "param_dict[\"output_orca_directory\"] = outpath"
   ]
  },
  {
   "cell_type": "markdown",
   "id": "imported-joshua",
   "metadata": {},
   "source": [
    "Next let's get the neighbors"
   ]
  },
  {
   "cell_type": "code",
   "execution_count": 10,
   "id": "injured-savings",
   "metadata": {},
   "outputs": [],
   "source": [
    "# I changed the spelling because I am not British and it kept throwing me off\n",
    "for chromo in chromo_list:\n",
    "    chromo.neighbors = chromo.neighbours\n",
    "    chromo.dissociation_neighbors = chromo.dissociation_neighbours\n",
    "    chromo.neighbors_delta_E = chromo.neighbours_delta_E\n",
    "    chromo.neighbors_TI = chromo.neighbours_TI\n",
    "    chromo.pos = chromo.posn"
   ]
  },
  {
   "cell_type": "code",
   "execution_count": 11,
   "id": "cordless-telling",
   "metadata": {},
   "outputs": [
    {
     "name": "stdout",
     "output_type": "stream",
     "text": [
      "Calculating Neighbours of All Moieties\n",
      "Updating the chromophore list for dissociation neighbors\n"
     ]
    }
   ],
   "source": [
    "sim_dims = [                                                                \n",
    "    [-AA_morphdict[\"lx\"] / 2.0, AA_morphdict[\"lx\"] / 2.0],      \n",
    "    [-AA_morphdict[\"ly\"] / 2.0, AA_morphdict[\"ly\"] / 2.0],      \n",
    "    [-AA_morphdict[\"lz\"] / 2.0, AA_morphdict[\"lz\"] / 2.0],      \n",
    "]   \n",
    "chromo_list = oc.chromo_sort(chromo_list)\n",
    "chromo_list = oc.determine_neighbors_voronoi(                        \n",
    "    chromo_list, param_dict, sim_dims                          \n",
    ") "
   ]
  },
  {
   "cell_type": "markdown",
   "id": "french-sierra",
   "metadata": {},
   "source": [
    "The files are created by `morphct/code/execute_ZINDO.py` `create_input_files(chromophore_list, AA_morphology_dict, parameter_dict)`\n",
    "The HOMO/LUMO gets set in `morphct/code/transfer_integrals.py` `load_orca_output(file_name)`"
   ]
  },
  {
   "cell_type": "code",
   "execution_count": 12,
   "id": "fossil-haven",
   "metadata": {},
   "outputs": [
    {
     "name": "stdout",
     "output_type": "stream",
     "text": [
      "There are 296 total neighbor pairs to consider.\n"
     ]
    }
   ],
   "source": [
    "qcc_pairs = eqcc.create_inputs(chromo_list, AA_morphdict, param_dict)\n",
    "#print(qcc_pairs[0])\n",
    "# (i,j), mol_str "
   ]
  },
  {
   "cell_type": "markdown",
   "id": "employed-america",
   "metadata": {},
   "source": [
    "OK ~this writes 30 inputs but no pairs--some neighborlist analysis must need done first~ \n",
    "\n",
    "after neighbor list all files are written\n",
    "\n",
    "next need to run ZINDO\n",
    "\n",
    "`eqcc.get_homolumo(chromo_list[0].qcc_input)` returns HOMO-1, HOMO, LUMO, LUMO+1"
   ]
  },
  {
   "cell_type": "code",
   "execution_count": 13,
   "id": "cheap-discharge",
   "metadata": {},
   "outputs": [
    {
     "data": {
      "text/plain": [
       "'/Users/jenny/Projects/morphct/notebook_output/singles_energies.txt'"
      ]
     },
     "execution_count": 13,
     "metadata": {},
     "output_type": "execute_result"
    }
   ],
   "source": [
    "s_filename = os.path.join(outpath, \"singles_energies.txt\")\n",
    "s_filename"
   ]
  },
  {
   "cell_type": "code",
   "execution_count": 14,
   "id": "phantom-supply",
   "metadata": {},
   "outputs": [],
   "source": [
    "#%%time\n",
    "#data = eqcc.singles_homolumo(chromo_list, s_filename)\n",
    "#\n",
    "#CPU times: user 17 ms, sys: 25.6 ms, total: 42.5 ms\n",
    "#Wall time: 4.01 s"
   ]
  },
  {
   "cell_type": "markdown",
   "id": "declared-vegetarian",
   "metadata": {},
   "source": [
    "This gets the energy values of the chromophores using the single inputs. The neighbor energy values are not set:"
   ]
  },
  {
   "cell_type": "code",
   "execution_count": 15,
   "id": "light-livestock",
   "metadata": {},
   "outputs": [
    {
     "name": "stdout",
     "output_type": "stream",
     "text": [
      "None\n",
      "27 27\n",
      "None\n"
     ]
    }
   ],
   "source": [
    "print(chromo.HOMO)\n",
    "print(len(chromo.neighbours), len(chromo.neighbours_delta_E))\n",
    "print(chromo.neighbours_delta_E[0])"
   ]
  },
  {
   "cell_type": "markdown",
   "id": "supposed-donor",
   "metadata": {},
   "source": [
    "next look in morphct/code/transfer_integrals.py"
   ]
  },
  {
   "cell_type": "code",
   "execution_count": 16,
   "id": "careful-hacker",
   "metadata": {},
   "outputs": [
    {
     "data": {
      "text/plain": [
       "'/Users/jenny/Projects/morphct/notebook_output/dimer_energies.txt'"
      ]
     },
     "execution_count": 16,
     "metadata": {},
     "output_type": "execute_result"
    }
   ],
   "source": [
    "d_filename = os.path.join(outpath, \"dimer_energies.txt\")\n",
    "d_filename"
   ]
  },
  {
   "cell_type": "code",
   "execution_count": 17,
   "id": "rubber-football",
   "metadata": {},
   "outputs": [],
   "source": [
    "#%%time\n",
    "#dimer_data = eqcc.dimer_homolumo(qcc_pairs, d_filename)\n",
    "#\n",
    "#CPU times: user 358 ms, sys: 146 ms, total: 504 ms\n",
    "#Wall time: 2min 22s"
   ]
  },
  {
   "cell_type": "code",
   "execution_count": 18,
   "id": "capital-johnston",
   "metadata": {},
   "outputs": [
    {
     "name": "stdout",
     "output_type": "stream",
     "text": [
      "[-8.95578835 -8.52733362  0.60981961  0.96338829]\n",
      "((0, 1), (-8.705081734274161, -8.191204368844307, -0.09856073082029772, 0.5309429429768204))\n"
     ]
    }
   ],
   "source": [
    "data = eqcc.get_singlesdata(s_filename)\n",
    "print(data[0])\n",
    "dimer_data = eqcc.get_dimerdata(d_filename)\n",
    "print(dimer_data[0])"
   ]
  },
  {
   "cell_type": "code",
   "execution_count": 19,
   "id": "fifty-advertising",
   "metadata": {},
   "outputs": [],
   "source": [
    "eqcc.set_energyvalues(chromo_list, s_filename, d_filename)"
   ]
  },
  {
   "cell_type": "code",
   "execution_count": 20,
   "id": "active-sperm",
   "metadata": {},
   "outputs": [
    {
     "name": "stdout",
     "output_type": "stream",
     "text": [
      "-8.553011257275468\n",
      "27 27\n",
      "0.025677635737253013\n"
     ]
    }
   ],
   "source": [
    "print(chromo.HOMO)\n",
    "print(len(chromo.neighbours), len(chromo.neighbours_delta_E))\n",
    "print(chromo.neighbours_delta_E[0])"
   ]
  },
  {
   "cell_type": "markdown",
   "id": "secure-target",
   "metadata": {},
   "source": [
    "OK, I think I should be ready to run KMC. Before it'll work we need to add some things to the param dict and change some paths.\n",
    "\n",
    "```\n",
    "notebook_outputs/KMC/ \n",
    "```\n",
    "\n",
    "run_kmc : single_core_run_mob_KMC\n",
    "\n",
    "kmc : mobility_KMC"
   ]
  },
  {
   "cell_type": "code",
   "execution_count": 21,
   "id": "colored-payday",
   "metadata": {},
   "outputs": [],
   "source": [
    "param_dict['simulation_times'] = [1.00e-13, 1.00e-12]\n",
    "param_dict[\"number_of_holes_per_simulation_time\"] = 10  \n",
    "param_dict[\"number_of_electrons_per_simulation_time\"] = 0 \n",
    "param_dict[\"combine_KMC_results\"] = True\n",
    "param_dict[\"record_carrier_history\"] = True\n",
    "param_dict[\"hop_limit\"] = 0\n",
    "param_dict[\"system_temperature\"] = 300 # In Kelvin\n",
    "param_dict[\"output_morphology_directory\"] = outpath"
   ]
  },
  {
   "cell_type": "code",
   "execution_count": 22,
   "id": "promotional-latvia",
   "metadata": {},
   "outputs": [],
   "source": [
    "jobs_list = kmc.get_jobslist(\n",
    "    AA_morphdict, CG_morphdict, CGtoAAID_list, param_dict, chromo_list\n",
    ")"
   ]
  },
  {
   "cell_type": "code",
   "execution_count": 23,
   "id": "stuffed-gambling",
   "metadata": {},
   "outputs": [
    {
     "data": {
      "text/plain": [
       "[[5, 1e-13, 'hole'],\n",
       " [1, 1e-13, 'hole'],\n",
       " [3, 1e-13, 'hole'],\n",
       " [8, 1e-12, 'hole'],\n",
       " [5, 1e-12, 'hole']]"
      ]
     },
     "execution_count": 23,
     "metadata": {},
     "output_type": "execute_result"
    }
   ],
   "source": [
    "jobs_list[0]"
   ]
  },
  {
   "cell_type": "code",
   "execution_count": 24,
   "id": "italic-rough",
   "metadata": {},
   "outputs": [],
   "source": [
    "KMC_directory = os.path.join(outpath, \"KMC\")"
   ]
  },
  {
   "cell_type": "code",
   "execution_count": 25,
   "id": "advance-template",
   "metadata": {},
   "outputs": [
    {
     "name": "stdout",
     "output_type": "stream",
     "text": [
      "All KMC jobs completed!\n",
      "Combining outputs...\n"
     ]
    }
   ],
   "source": [
    "combined_data = kmc.run_kmc(\n",
    "    jobs_list,                                                              \n",
    "    KMC_directory,                                                          \n",
    "    AA_morphdict,                                                           \n",
    "    CG_morphdict,                                                           \n",
    "    CGtoAAID_list,                                                          \n",
    "    param_dict,                                                             \n",
    "    chromo_list\n",
    ")"
   ]
  },
  {
   "cell_type": "code",
   "execution_count": 26,
   "id": "unlimited-horse",
   "metadata": {},
   "outputs": [
    {
     "name": "stdout",
     "output_type": "stream",
     "text": [
      "\n",
      "\n",
      "---------- KMC_ANALYSE ----------\n",
      "/Users/jenny/Projects/morphct/notebook_output/KMC\n",
      "---------------------------------\n",
      "Considering the transport of hole...\n",
      "Obtaining mean squared displacements...\n",
      "Plotting distribution of carrier displacements\n",
      "Figure saved as /Users/jenny/Projects/morphct/notebook_output/KMC/figures/30_hole_displacement_dist.png\n",
      "Calculating mobility...\n",
      "Standard Error 0.0\n",
      "Fitting r_val = 1.0\n",
      "Figure saved as /Users/jenny/Projects/morphct/notebook_output/KMC/figures/18_lin_MSD_hole.png\n",
      "Figure saved as /Users/jenny/Projects/morphct/notebook_output/KMC/figures/20_semi_log_MSD_hole.png\n",
      "Figure saved as /Users/jenny/Projects/morphct/notebook_output/KMC/figures/22_log_MSD_hole.png\n",
      "----------------------------------------\n",
      "Hole mobility for /Users/jenny/Projects/morphct/notebook_output/KMC = 8.95E-01 +- 8.33E-02 cm^{2} V^{-1} s^{-1}\n",
      "----------------------------------------\n",
      "Plotting hop vector distribution\n",
      "Calculating carrier trajectory anisotropy...\n",
      "Plotting carrier hop frequency distribution...\n",
      "Figure saved as /Users/jenny/Projects/morphct/notebook_output/KMC/figures/24_total_hop_freq_hole.png\n",
      "Plotting carrier net hop frequency distribution...\n",
      "Figure saved as /Users/jenny/Projects/morphct/notebook_output/KMC/figures/26_net_hop_freq_hole.png\n",
      "Plotting (total - net hops) discrepancy distribution...\n",
      "There are 2 paths in this morphology with one-way transport.\n",
      "There are 5 paths in this morphology with total - net < 10.\n",
      "Figure saved as /Users/jenny/Projects/morphct/notebook_output/KMC/figures/28_hop_discrepancy_hole.png\n",
      "Determining molecule IDs...\n",
      "Donor HOMO Level = -8.522 +/- 0.004\n",
      "Donor Delta E_ij stats: mean = 0.000 +/- 0.001\n",
      "Figure saved as /Users/jenny/Projects/morphct/notebook_output/KMC/figures/06_donor_delta_E_ij.png\n",
      "Neighbour histogram figure saved as /Users/jenny/Projects/morphct/notebook_output/KMC/figures/04_neighbor_hist_donor.png\n",
      "Orientation histogram figure saved as /Users/jenny/Projects/morphct/notebook_output/KMC/figures/34_orientation_hist_donor.png\n",
      "Figure saved as /Users/jenny/Projects/morphct/notebook_output/KMC/figures/10_donor_transfer_integral_mols.png\n",
      "Figure saved as /Users/jenny/Projects/morphct/notebook_output/KMC/figures/11_acceptor_transfer_integral_mols.png\n",
      "Cut-offs specified (value format: [donor, acceptor])\n",
      "\t('separation', [None, None])\n",
      "\t('orientation', [None, None])\n",
      "\t('TI', [None, None])\n",
      "\t('freq', [None, None])\n",
      "Examining the donor material...\n",
      "Obtaining orientations of each chromophore...\n",
      "Calculating clusters...\n",
      "----------------------------------------\n",
      "donor: Detected 1 total\n",
      "and large 1 clusters (size > 6).\n",
      "Largest cluster size =30 chromophores.\n",
      "Ratio in \"large\" clusters: 1.000\n",
      "----------------------------------------\n",
      "Examining the acceptor material...\n",
      "No material found. Continuing...\n",
      "Mean intra-cluster donor rate: 7.353e+13+/-2.562e+12\n",
      "Figure saved as /Users/jenny/Projects/morphct/notebook_output/KMC/figures/16_donor_hopping_rate_clusters.png\n",
      "Figure saved as /Users/jenny/Projects/morphct/notebook_output/KMC/figures/12_donor_transfer_integral_clusters.png\n",
      "Mean intra-molecular donor rate: 1.822e+14+/-9.783e+12\n",
      "Mean inter-molecular donor rate: 1.372e+10+/-1.942e+08\n",
      "Figure saved as /Users/jenny/Projects/morphct/notebook_output/KMC/figures/14_donor_hopping_rate_mols.png\n",
      "Plotting cluster size distribution...\n",
      "Figure saved as /Users/jenny/Projects/morphct/notebook_output/KMC/figures/32_hole_cluster_dist.png\n",
      "Writing CSV Output File...\n",
      "CSV file written to /Users/jenny/Projects/morphct/notebook_output/KMC/results.csv\n",
      "Plotting Mobility and Anisotropy progressions...\n",
      "Skipping plotting mobility evolution.\n"
     ]
    }
   ],
   "source": [
    "KMC_analyse.main(\n",
    "    AA_morphdict, \n",
    "    CG_morphdict, \n",
    "    CGtoAAID_list, \n",
    "    param_dict,                                                             \n",
    "    chromo_list,                                                            \n",
    "    [combined_data],                                                      \n",
    "    KMC_directory\n",
    ")"
   ]
  },
  {
   "cell_type": "code",
   "execution_count": null,
   "id": "unauthorized-passport",
   "metadata": {},
   "outputs": [],
   "source": []
  }
 ],
 "metadata": {
  "kernelspec": {
   "display_name": "Python 3",
   "language": "python",
   "name": "python3"
  },
  "language_info": {
   "codemirror_mode": {
    "name": "ipython",
    "version": 3
   },
   "file_extension": ".py",
   "mimetype": "text/x-python",
   "name": "python",
   "nbconvert_exporter": "python",
   "pygments_lexer": "ipython3",
   "version": "3.8.6"
  }
 },
 "nbformat": 4,
 "nbformat_minor": 5
}

{
 "cells": [
  {
   "cell_type": "markdown",
   "id": "shaped-reason",
   "metadata": {},
   "source": [
    "# MorphCT\n",
    "\n",
    "goal: \n",
    " - atomistic gsd snapshot -> \n",
    " - assign chromophores -> \n",
    " - do QCC calcs -> \n",
    " - run KMC -> \n",
    " - calculate mobility\n",
    "\n",
    "current schema:\n",
    " - xml file\n",
    " - chromphore params set in par.py\n",
    " - if starting with atomistic, we can skip fine graining and molecular dynamics and only run:\n",
    "     - execute_obtain_chromophores = False                                             \n",
    "     - execute_ZINDO = False                                                           \n",
    "     - execute_calculate_transfer_integrals = False                                    \n",
    "     - execute_calculate_mobility = False    "
   ]
  },
  {
   "cell_type": "code",
   "execution_count": 1,
   "id": "imposed-behalf",
   "metadata": {},
   "outputs": [
    {
     "name": "stderr",
     "output_type": "stream",
     "text": [
      "/Users/jenny/miniconda3/envs/morphct-dev/lib/python3.7/site-packages/pyscf/lib/misc.py:50: H5pyDeprecationWarning: Using default_file_mode other than 'r' is deprecated. Pass the mode to h5py.File() instead.\n",
      "  h5py.get_config().default_file_mode = 'a'\n"
     ]
    }
   ],
   "source": [
    "from collections import defaultdict\n",
    "import itertools\n",
    "import os\n",
    "import pickle\n",
    "import multiprocessing as mp\n",
    "\n",
    "import ele\n",
    "import freud\n",
    "import gsd.hoomd\n",
    "import mbuild as mb\n",
    "import numpy as np\n",
    "from openbabel import openbabel\n",
    "from openbabel import pybel\n",
    "import pyscf\n",
    "from pyscf.semiempirical import MINDO3\n",
    "\n",
    "from morphct.code import obtain_chromophores as oc\n",
    "from morphct import transfer_integrals as ti\n",
    "from morphct import execute_qcc as eqcc\n",
    "from morphct import mobility_kmc as kmc\n",
    "from morphct import chromophores\n",
    "from morphct.utils import kmc_analyze\n",
    "from morphct.chromophores import conversion_dict"
   ]
  },
  {
   "cell_type": "code",
   "execution_count": 2,
   "id": "elementary-graduate",
   "metadata": {},
   "outputs": [],
   "source": [
    "def visualize_qcc_input(qcc_input):\n",
    "    comp = mb.Compound()\n",
    "    for line in qcc_input.split(\";\")[:-1]:\n",
    "        atom, x, y, z = line.split()\n",
    "        xyz = np.array([x,y,z], dtype=float)\n",
    "        # Angstrom -> nm\n",
    "        xyz /= 10\n",
    "        comp.add(mb.Particle(name=atom,pos=xyz))\n",
    "    comp.visualize().show()\n",
    "    \n",
    "def from_snapshot(snapshot, scale=1.0):\n",
    "    \"\"\"Convert a hoomd.data.Snapshot or a gsd.hoomd.Snapshot to an\n",
    "    mbuild Compound.\n",
    "    Parameters\n",
    "    ----------\n",
    "    snapshot : hoomd.data.SnapshotParticleData or gsd.hoomd.Snapshot\n",
    "        Snapshot from which to build the mbuild Compound.\n",
    "    scale : float, optional, default 1.0\n",
    "        Value by which to scale the length values\n",
    "    Returns\n",
    "    -------\n",
    "    comp : mb.Compound\n",
    "    \"\"\"\n",
    "    comp = mb.Compound()\n",
    "    bond_array = snapshot.bonds.group\n",
    "    n_atoms = snapshot.particles.N\n",
    "\n",
    "    # There will be a better way to do this once box overhaul merged\n",
    "    try:\n",
    "        # gsd\n",
    "        box = snapshot.configuration.box\n",
    "        comp.box = mb.box.Box(lengths=box[:3] * scale)\n",
    "    except AttributeError:\n",
    "        # hoomd\n",
    "        box = snapshot.box\n",
    "        comp.box = mb.box.Box(lengths=np.array([box.Lx,box.Ly,box.Lz]) * scale)\n",
    "\n",
    "    # to_hoomdsnapshot shifts the coords, this will keep consistent\n",
    "    shift = np.array(comp.box.lengths)/2\n",
    "    # Add particles\n",
    "    for i in range(n_atoms):\n",
    "        name = snapshot.particles.types[snapshot.particles.typeid[i]]\n",
    "        xyz = snapshot.particles.position[i] * scale + shift\n",
    "        charge = snapshot.particles.charge[i]\n",
    "\n",
    "        atom = mb.Particle(name=name, pos=xyz, charge=charge)\n",
    "        comp.add(atom, label=str(i))\n",
    "\n",
    "    # Add bonds\n",
    "    particle_dict = {idx: p for idx, p in enumerate(comp.particles())}\n",
    "    for i in range(bond_array.shape[0]):\n",
    "        atom1 = int(bond_array[i][0])\n",
    "        atom2 = int(bond_array[i][1])\n",
    "        comp.add_bond([particle_dict[atom1], particle_dict[atom2]])\n",
    "    return comp"
   ]
  },
  {
   "cell_type": "markdown",
   "id": "complimentary-arbitration",
   "metadata": {},
   "source": [
    "OK, so I'm looking around for an xml file in the \"obtain chromophores\" tests but all I can find are these pickle files. I want to view them before I continue. ovito and vmd no longer support xmls... gah --> using mbuild."
   ]
  },
  {
   "cell_type": "code",
   "execution_count": 3,
   "id": "congressional-moldova",
   "metadata": {},
   "outputs": [],
   "source": [
    "path = \"tests/old_assets/donor_polymer/OC/donor_polymer_post_obtain_chromophores.pickle\"\n",
    "(\n",
    "    AA_morphdict, \n",
    "    CG_morphdict, \n",
    "    CGtoAAID_list, \n",
    "    param_dict, \n",
    "    chromo_list_old\n",
    ") = pickle.load(open(path,\"rb\"))"
   ]
  },
  {
   "cell_type": "code",
   "execution_count": 4,
   "id": "incoming-compromise",
   "metadata": {},
   "outputs": [],
   "source": [
    "with gsd.hoomd.open(name='tests/assets/p3ht_2_15mers.gsd', mode='rb') as f:\n",
    "    snap = f[0]"
   ]
  },
  {
   "cell_type": "code",
   "execution_count": 5,
   "id": "waiting-responsibility",
   "metadata": {},
   "outputs": [],
   "source": [
    "box = snap.configuration.box[:3]\n",
    "unwrapped_positions = snap.particles.position + snap.particles.image * box"
   ]
  },
  {
   "cell_type": "code",
   "execution_count": 6,
   "id": "chief-ontario",
   "metadata": {},
   "outputs": [],
   "source": [
    "##Run this if you want to confirm that the unwrapped positions are correct in OVITO\n",
    "#with gsd.hoomd.open(name='test.gsd', mode='wb') as f:\n",
    "#    f.append(snap)\n",
    "#    snap.particles.position = unwrapped_positions\n",
    "#    f.append(snap)"
   ]
  },
  {
   "cell_type": "code",
   "execution_count": 7,
   "id": "brilliant-uzbekistan",
   "metadata": {},
   "outputs": [],
   "source": [
    "smarts_str = \"[#6]1[#6][#16][#6][#6]1CCCCCC\""
   ]
  },
  {
   "cell_type": "code",
   "execution_count": 8,
   "id": "floating-morgan",
   "metadata": {},
   "outputs": [
    {
     "name": "stdout",
     "output_type": "stream",
     "text": [
      "Found 29 chromophores.\n"
     ]
    }
   ],
   "source": [
    "aaids = chromophores.get_chromo_ids_smiles(snap, smarts_str, conversion_dict)"
   ]
  },
  {
   "cell_type": "markdown",
   "id": "starting-thesaurus",
   "metadata": {},
   "source": [
    "Basically, the smarts matching misses one chromophore. So I have to add it. There are some commented out cells below that show how I determine the atom indices and visualized it."
   ]
  },
  {
   "cell_type": "code",
   "execution_count": 9,
   "id": "correct-parcel",
   "metadata": {},
   "outputs": [
    {
     "name": "stdout",
     "output_type": "stream",
     "text": [
      "30\n"
     ]
    }
   ],
   "source": [
    "bad_inds = np.array([727,728,729,730,731,732,733,734,735,736,737])\n",
    "aaids.append(bad_inds)\n",
    "print(len(aaids))"
   ]
  },
  {
   "cell_type": "code",
   "execution_count": 10,
   "id": "acting-milton",
   "metadata": {},
   "outputs": [],
   "source": [
    "#[row for row in snap.bonds.group if set(row) & set(bad_inds)]\n",
    "\n",
    "#comp = from_snapshot(snap, scale=0.1)\n",
    "#for i,p in enumerate(comp.particles()):\n",
    "#    if i in np.hstack(aaids):\n",
    "#        p.name = \"Kr\"\n",
    "#    elif i in bad_inds:\n",
    "#        p.name = \"N\"\n",
    "#    else:\n",
    "#        p.name = p.name.strip(\"0123456789\")\n",
    "#comp.visualize().show()"
   ]
  },
  {
   "cell_type": "code",
   "execution_count": 11,
   "id": "precise-albert",
   "metadata": {},
   "outputs": [],
   "source": [
    "#molpos_init = np.array([\n",
    "#    (mol.GetAtomById(i).GetX(), mol.GetAtomById(i).GetY(), mol.GetAtomById(i).GetZ()) \n",
    "#    for i in range(mol.NumAtoms())\n",
    "#])\n",
    "\n",
    "#uff = openbabel.OBForceField.FindForceField(\"UFF\")\n",
    "#uff.Setup(mol)\n",
    "#uff.SteepestDescent(100)\n",
    "#uff.UpdateCoordinates(mol)\n",
    "\n",
    "#molpos_final = np.array([\n",
    "#    (mol.GetAtomById(i).GetX(), mol.GetAtomById(i).GetY(), mol.GetAtomById(i).GetZ()) \n",
    "#    for i in range(mol.NumAtoms())\n",
    "#])\n",
    "\n",
    "#for i, (row, newrow) in enumerate(zip(molpos_init,molpos_final)):\n",
    "#    if not np.array_equal(row, newrow):\n",
    "#        print(i, row, newrow)"
   ]
  },
  {
   "cell_type": "code",
   "execution_count": 12,
   "id": "faced-prague",
   "metadata": {},
   "outputs": [],
   "source": [
    "chromo_list = []\n",
    "for i,aaid in enumerate(aaids):\n",
    "    chromo_list.append(chromophores.Chromophore(i, snap, aaid, \"donor\", conversion_dict))"
   ]
  },
  {
   "cell_type": "code",
   "execution_count": 13,
   "id": "standing-lover",
   "metadata": {},
   "outputs": [],
   "source": [
    "#with open(\"chromo_list.pkl\", \"wb\") as f:\n",
    "#    pickle.dump(chromo_list, f)"
   ]
  },
  {
   "cell_type": "code",
   "execution_count": 14,
   "id": "given-voluntary",
   "metadata": {},
   "outputs": [],
   "source": [
    "#with open(\"chromo_list.pkl\", \"rb\") as f:\n",
    "#    chromo_list = pickle.load(f)"
   ]
  },
  {
   "cell_type": "markdown",
   "id": "naval-shopper",
   "metadata": {},
   "source": [
    "Next let's get the neighbors"
   ]
  },
  {
   "cell_type": "code",
   "execution_count": 15,
   "id": "further-yeast",
   "metadata": {},
   "outputs": [
    {
     "name": "stdout",
     "output_type": "stream",
     "text": [
      "181\n"
     ]
    }
   ],
   "source": [
    "qcc_pairs = chromophores.set_neighbors_voronoi(\n",
    "    chromo_list, snap, conversion_dict, d_cut=min(box)/2\n",
    ")\n",
    "print(len(qcc_pairs))"
   ]
  },
  {
   "cell_type": "code",
   "execution_count": 16,
   "id": "judicial-examination",
   "metadata": {},
   "outputs": [],
   "source": [
    "#with open(\"qcc_pairs.pkl\", \"wb\") as f:\n",
    "#    pickle.dump(qcc_pairs, f)"
   ]
  },
  {
   "cell_type": "code",
   "execution_count": 17,
   "id": "universal-delight",
   "metadata": {},
   "outputs": [],
   "source": [
    "#with open(\"chromo_list_neighbors.pkl\", \"wb\") as f:\n",
    "#    pickle.dump(chromo_list, f)"
   ]
  },
  {
   "cell_type": "code",
   "execution_count": 18,
   "id": "owned-affect",
   "metadata": {},
   "outputs": [],
   "source": [
    "# Checked and all pairs look reasonable!\n",
    "#i = 13\n",
    "#visualize_qcc_input(qcc_pairs[i][1])"
   ]
  },
  {
   "cell_type": "markdown",
   "id": "english-minute",
   "metadata": {},
   "source": [
    "next need to run ZINDO\n",
    "\n",
    "`eqcc.get_homolumo(chromo_list[0].qcc_input)` returns HOMO-1, HOMO, LUMO, LUMO+1\n",
    "\n",
    "`eqcc.singles_homolumo` does for all chromophores"
   ]
  },
  {
   "cell_type": "code",
   "execution_count": 19,
   "id": "thousand-green",
   "metadata": {},
   "outputs": [
    {
     "name": "stdout",
     "output_type": "stream",
     "text": [
      "/Users/jenny/Projects/morphct/notebook_output/singles_energies.txt\n"
     ]
    }
   ],
   "source": [
    "outpath = os.path.join(os.getcwd(), \"notebook_output\")\n",
    "s_filename = os.path.join(outpath, \"singles_energies.txt\")\n",
    "print(s_filename)"
   ]
  },
  {
   "cell_type": "code",
   "execution_count": 20,
   "id": "geographic-reducing",
   "metadata": {},
   "outputs": [],
   "source": [
    "#%%time\n",
    "#data = eqcc.singles_homolumo(chromo_list, s_filename)\n",
    "#\n",
    "#CPU times: user 20.9 ms, sys: 30.1 ms, total: 51 ms\n",
    "#Wall time: 6.05 s"
   ]
  },
  {
   "cell_type": "markdown",
   "id": "ideal-invalid",
   "metadata": {},
   "source": [
    "This gets the energy values of the chromophores using the single inputs and writes them to a file. No energy values are set:"
   ]
  },
  {
   "cell_type": "code",
   "execution_count": 21,
   "id": "continuous-irrigation",
   "metadata": {},
   "outputs": [
    {
     "name": "stdout",
     "output_type": "stream",
     "text": [
      "None\n",
      "14 14\n",
      "None\n"
     ]
    }
   ],
   "source": [
    "chromo = chromo_list[0]\n",
    "print(chromo.homo)\n",
    "print(len(chromo.neighbors), len(chromo.neighbors_delta_e))\n",
    "print(chromo.neighbors_delta_e[0])"
   ]
  },
  {
   "cell_type": "markdown",
   "id": "disciplinary-american",
   "metadata": {},
   "source": [
    "Next compute the pair energies:"
   ]
  },
  {
   "cell_type": "code",
   "execution_count": 22,
   "id": "aquatic-handy",
   "metadata": {},
   "outputs": [
    {
     "name": "stdout",
     "output_type": "stream",
     "text": [
      "/Users/jenny/Projects/morphct/notebook_output/dimer_energies.txt\n"
     ]
    }
   ],
   "source": [
    "d_filename = os.path.join(outpath, \"dimer_energies.txt\")\n",
    "print(d_filename)"
   ]
  },
  {
   "cell_type": "code",
   "execution_count": 23,
   "id": "popular-burns",
   "metadata": {},
   "outputs": [],
   "source": [
    "#%%time\n",
    "#dimer_data = eqcc.dimer_homolumo(qcc_pairs, d_filename)\n",
    "#\n",
    "#CPU times: user 20.3 ms, sys: 27.2 ms, total: 47.6 ms\n",
    "#Wall time: 56.6 s"
   ]
  },
  {
   "cell_type": "code",
   "execution_count": 24,
   "id": "molecular-hierarchy",
   "metadata": {},
   "outputs": [
    {
     "name": "stdout",
     "output_type": "stream",
     "text": [
      "[-9.01337182 -8.5404688   0.17193304  0.86523495]\n",
      "((0, 1), (-8.709172080560474, -8.217563821747863, -0.26434041537131636, 0.35184321402975144))\n"
     ]
    }
   ],
   "source": [
    "data = eqcc.get_singlesdata(s_filename)\n",
    "print(data[0])\n",
    "dimer_data = eqcc.get_dimerdata(d_filename)\n",
    "print(dimer_data[0])"
   ]
  },
  {
   "cell_type": "code",
   "execution_count": 25,
   "id": "fatty-omega",
   "metadata": {},
   "outputs": [],
   "source": [
    "eqcc.set_energyvalues(chromo_list, s_filename, d_filename)"
   ]
  },
  {
   "cell_type": "code",
   "execution_count": 26,
   "id": "fundamental-tower",
   "metadata": {},
   "outputs": [],
   "source": [
    "with open(\"chromo_list_energies.pkl\", \"wb\") as f:\n",
    "    pickle.dump(chromo_list, f)"
   ]
  },
  {
   "cell_type": "code",
   "execution_count": 27,
   "id": "reported-graduation",
   "metadata": {},
   "outputs": [
    {
     "name": "stdout",
     "output_type": "stream",
     "text": [
      "-8.54046879758057\n",
      "14 14\n",
      "-0.016112646653095197\n"
     ]
    }
   ],
   "source": [
    "print(chromo.homo)\n",
    "print(len(chromo.neighbors), len(chromo.neighbors_delta_e))\n",
    "print(chromo.neighbors_delta_e[0])"
   ]
  },
  {
   "cell_type": "markdown",
   "id": "bigger-height",
   "metadata": {},
   "source": [
    "OK, I think I should be ready to run KMC. Before it'll work we need to add some things to the param dict and change some paths.\n",
    "\n",
    "```\n",
    "notebook_outputs/KMC/ \n",
    "```\n",
    "\n",
    "run_kmc : single_core_run_mob_KMC\n",
    "\n",
    "kmc : mobility_KMC"
   ]
  },
  {
   "cell_type": "code",
   "execution_count": 28,
   "id": "palestinian-coffee",
   "metadata": {},
   "outputs": [],
   "source": [
    "seed = param_dict['random_seed_override']"
   ]
  },
  {
   "cell_type": "code",
   "execution_count": 29,
   "id": "historic-shoulder",
   "metadata": {},
   "outputs": [],
   "source": [
    "jobs_list = kmc.get_jobslist([1.00e-13, 1.00e-12], n_holes=10, seed=seed)"
   ]
  },
  {
   "cell_type": "code",
   "execution_count": 30,
   "id": "forbidden-instruction",
   "metadata": {},
   "outputs": [],
   "source": [
    "kmc_directory = os.path.join(outpath, \"KMC\")"
   ]
  },
  {
   "cell_type": "markdown",
   "id": "swiss-cruise",
   "metadata": {},
   "source": [
    "Multiprocessing gives a reasonable speedup! (see below)"
   ]
  },
  {
   "cell_type": "code",
   "execution_count": 31,
   "id": "demanding-aruba",
   "metadata": {},
   "outputs": [],
   "source": [
    "#%%time\n",
    "#\n",
    "#box = snap.configuration.box[:3]\n",
    "#temp = 300\n",
    "#\n",
    "#running_jobs = []\n",
    "#pipes = []\n",
    "#\n",
    "#for jobs in jobs_list:\n",
    "#    child_seed = np.random.randint(0, 2 ** 32)                              \n",
    "#                                                                            \n",
    "#    recv_end, send_end = mp.Pipe(False)                                     \n",
    "#    p = mp.Process(                                                         \n",
    "#            target=kmc.run_single_kmc,                                          \n",
    "#            args=(                                                          \n",
    "#                jobs,                                                       \n",
    "#                KMC_directory,                                              \n",
    "#                chromo_list,                                                \n",
    "#                box,                                                        \n",
    "#                temp,                                                     \n",
    "#                ),                                                          \n",
    "#            kwargs={                                                                                                                       \n",
    "#                \"seed\": child_seed,                                         \n",
    "#                \"send_end\": send_end,                                                                             \n",
    "#                }                                                           \n",
    "#            )                                                               \n",
    "#    running_jobs.append(p) \n",
    "#    pipes.append(recv_end)                                                  \n",
    "#    p.start()\n",
    "#    \n",
    "#for p in running_jobs:                                                      \n",
    "#    p.join()                                                                \n",
    "#\n",
    "#carrier_data_list = [x.recv() for x in pipes]  \n",
    "#\n",
    "#CPU times: user 13.3 ms, sys: 20.9 ms, total: 34.1 ms\n",
    "#Wall time: 1.67 s\n",
    "\n",
    "#%%time\n",
    "#\n",
    "#box = snap.configuration.box[:3]\n",
    "#temp = 300\n",
    "#\n",
    "#carrier_data_list = []\n",
    "#\n",
    "#for jobs in jobs_list: \n",
    "#    child_seed = np.random.randint(0, 2 ** 32) \n",
    "#    data = kmc.run_single_kmc(\n",
    "#        jobs,                                                       \n",
    "#        KMC_directory,                                              \n",
    "#        chromo_list,                                                \n",
    "#        box,                                                        \n",
    "#        temp,                                                                                                                                                                        \n",
    "#        seed= child_seed\n",
    "#    )                                                             \n",
    "#\n",
    "#    carrier_data_list.append(data)\n",
    "\n",
    "#CPU times: user 3.67 s, sys: 535 ms, total: 4.21 s\n",
    "#Wall time: 4.02 s"
   ]
  },
  {
   "cell_type": "code",
   "execution_count": 32,
   "id": "intended-facility",
   "metadata": {},
   "outputs": [
    {
     "name": "stdout",
     "output_type": "stream",
     "text": [
      "All KMC jobs completed!\n",
      "Combining outputs...\n"
     ]
    }
   ],
   "source": [
    "temp = 300\n",
    "combined_data = kmc.run_kmc(\n",
    "    jobs_list, kmc_directory, chromo_list, snap, temp, verbose=1\n",
    ")"
   ]
  },
  {
   "cell_type": "code",
   "execution_count": 33,
   "id": "alternative-cause",
   "metadata": {},
   "outputs": [
    {
     "name": "stdout",
     "output_type": "stream",
     "text": [
      "---------- KMC_ANALYZE ----------\n",
      "All figures saved in /Users/jenny/Projects/morphct/notebook_output/KMC/figures\n",
      "---------------------------------\n",
      "Considering the transport of hole...\n",
      "Obtaining mean squared displacements...\n",
      "\tNotice: The data from 2 carriers were\n",
      "\tdiscarded due to the carrier lifetime being more than double\n",
      "\t(or less than half of) the specified carrier lifetime.\n",
      "Plotting distribution of hole displacements\n",
      "\tFigure saved as hole_displacement_dist.png\n",
      "Calculating mobility...\n",
      "Standard Error 0.0\n",
      "Fitting r_val = 1.0\n",
      "\tFigure saved as lin_MSD_hole.png\n",
      "\tFigure saved as semi_log_MSD_hole.png\n",
      "\tFigure saved as log_MSD_hole.png\n",
      "----------------------------------------\n",
      "Hole mobility = 3.28E-01  +/- 2.03E-02 cm^2 V^-1 s^-1\n",
      "----------------------------------------\n",
      "Calculating hole trajectory anisotropy...\n",
      "----------------------------------------\n",
      "hole charge transport anisotropy: 0.235\n",
      "----------------------------------------\n",
      "Plotting hole hop frequency distribution...\n",
      "DYNAMIC CUT\n",
      "Notice: No minima found in distribution. Cutoff set to None.\n"
     ]
    },
    {
     "ename": "NameError",
     "evalue": "name 'cutoff' is not defined",
     "output_type": "error",
     "traceback": [
      "\u001b[0;31m---------------------------------------------------------------------------\u001b[0m",
      "\u001b[0;31mNameError\u001b[0m                                 Traceback (most recent call last)",
      "\u001b[0;32m<ipython-input-33-68bb853e43a7>\u001b[0m in \u001b[0;36m<module>\u001b[0;34m\u001b[0m\n\u001b[0;32m----> 1\u001b[0;31m \u001b[0mkmc_analyze\u001b[0m\u001b[0;34m.\u001b[0m\u001b[0mmain\u001b[0m\u001b[0;34m(\u001b[0m\u001b[0mcombined_data\u001b[0m\u001b[0;34m,\u001b[0m \u001b[0mtemp\u001b[0m\u001b[0;34m,\u001b[0m \u001b[0mchromo_list\u001b[0m\u001b[0;34m,\u001b[0m \u001b[0msnap\u001b[0m\u001b[0;34m,\u001b[0m \u001b[0mkmc_directory\u001b[0m\u001b[0;34m)\u001b[0m\u001b[0;34m\u001b[0m\u001b[0;34m\u001b[0m\u001b[0m\n\u001b[0m",
      "\u001b[0;32m~/Projects/morphct/morphct/utils/kmc_analyze.py\u001b[0m in \u001b[0;36mmain\u001b[0;34m(combined_data, temp, chromo_list, snap, path, three_d, freqcut, sepcut, ocut, ticut, generate_tcl, sequence_donor, sequence_acceptor, backend, use_vrh, koopmans, boltz_pen)\u001b[0m\n\u001b[1;32m   1645\u001b[0m                 \u001b[0mthree_d\u001b[0m\u001b[0;34m,\u001b[0m\u001b[0;34m\u001b[0m\u001b[0;34m\u001b[0m\u001b[0m\n\u001b[1;32m   1646\u001b[0m                 \u001b[0mtemp\u001b[0m\u001b[0;34m,\u001b[0m\u001b[0;34m\u001b[0m\u001b[0;34m\u001b[0m\u001b[0m\n\u001b[0;32m-> 1647\u001b[0;31m                 \u001b[0mfig_dir\u001b[0m\u001b[0;34m\u001b[0m\u001b[0;34m\u001b[0m\u001b[0m\n\u001b[0m\u001b[1;32m   1648\u001b[0m                 )\n\u001b[1;32m   1649\u001b[0m \u001b[0;34m\u001b[0m\u001b[0m\n",
      "\u001b[0;32m~/Projects/morphct/morphct/utils/kmc_analyze.py\u001b[0m in \u001b[0;36mcarrier_plots\u001b[0;34m(c_type, carrier_data, chromo_list, snap, freqcut, three_d, temp, path)\u001b[0m\n\u001b[1;32m   1576\u001b[0m \u001b[0;34m\u001b[0m\u001b[0m\n\u001b[1;32m   1577\u001b[0m     \u001b[0mprint\u001b[0m\u001b[0;34m(\u001b[0m\u001b[0;34mf\"Plotting {c_type} hop frequency distribution...\"\u001b[0m\u001b[0;34m)\u001b[0m\u001b[0;34m\u001b[0m\u001b[0;34m\u001b[0m\u001b[0m\n\u001b[0;32m-> 1578\u001b[0;31m     \u001b[0mplot_frequency_dist\u001b[0m\u001b[0;34m(\u001b[0m\u001b[0mc_type\u001b[0m\u001b[0;34m,\u001b[0m \u001b[0mcarrier_history\u001b[0m\u001b[0;34m,\u001b[0m \u001b[0mfreqcut\u001b[0m\u001b[0;34m,\u001b[0m \u001b[0mpath\u001b[0m\u001b[0;34m)\u001b[0m\u001b[0;34m\u001b[0m\u001b[0;34m\u001b[0m\u001b[0m\n\u001b[0m\u001b[1;32m   1579\u001b[0m \u001b[0;34m\u001b[0m\u001b[0m\n\u001b[1;32m   1580\u001b[0m     \u001b[0mprint\u001b[0m\u001b[0;34m(\u001b[0m\u001b[0;34mf\"Plotting {c_type} net hop frequency distribution...\"\u001b[0m\u001b[0;34m)\u001b[0m\u001b[0;34m\u001b[0m\u001b[0;34m\u001b[0m\u001b[0m\n",
      "\u001b[0;32m~/Projects/morphct/morphct/utils/kmc_analyze.py\u001b[0m in \u001b[0;36mplot_frequency_dist\u001b[0;34m(c_type, carrier_history, freqcut, path)\u001b[0m\n\u001b[1;32m   1430\u001b[0m             \u001b[0mbin_centers\u001b[0m\u001b[0;34m,\u001b[0m \u001b[0msmooth_n\u001b[0m\u001b[0;34m,\u001b[0m \u001b[0mmin_i\u001b[0m\u001b[0;34m=\u001b[0m\u001b[0;34m-\u001b[0m\u001b[0;36m1\u001b[0m\u001b[0;34m,\u001b[0m \u001b[0mat_least\u001b[0m\u001b[0;34m=\u001b[0m\u001b[0;36m100\u001b[0m\u001b[0;34m,\u001b[0m \u001b[0mlog\u001b[0m\u001b[0;34m=\u001b[0m\u001b[0;32mTrue\u001b[0m\u001b[0;34m,\u001b[0m\u001b[0;34m\u001b[0m\u001b[0;34m\u001b[0m\u001b[0m\n\u001b[1;32m   1431\u001b[0m         )\n\u001b[0;32m-> 1432\u001b[0;31m         \u001b[0mprint\u001b[0m\u001b[0;34m(\u001b[0m\u001b[0;34mf\"Cluster cut-off based on hop frequency set to {cutoff}\"\u001b[0m\u001b[0;34m)\u001b[0m\u001b[0;34m\u001b[0m\u001b[0;34m\u001b[0m\u001b[0m\n\u001b[0m\u001b[1;32m   1433\u001b[0m     \u001b[0;32mif\u001b[0m \u001b[0mfreqcut\u001b[0m\u001b[0;34m[\u001b[0m\u001b[0mc_ind\u001b[0m\u001b[0;34m]\u001b[0m \u001b[0;32mis\u001b[0m \u001b[0;32mnot\u001b[0m \u001b[0;32mNone\u001b[0m\u001b[0;34m:\u001b[0m\u001b[0;34m\u001b[0m\u001b[0;34m\u001b[0m\u001b[0m\n\u001b[1;32m   1434\u001b[0m         \u001b[0mplt\u001b[0m\u001b[0;34m.\u001b[0m\u001b[0maxvline\u001b[0m\u001b[0;34m(\u001b[0m\u001b[0mnp\u001b[0m\u001b[0;34m.\u001b[0m\u001b[0mlog10\u001b[0m\u001b[0;34m(\u001b[0m\u001b[0mfreqcut\u001b[0m\u001b[0;34m[\u001b[0m\u001b[0mc_ind\u001b[0m\u001b[0;34m]\u001b[0m\u001b[0;34m)\u001b[0m\u001b[0;34m,\u001b[0m \u001b[0mc\u001b[0m\u001b[0;34m=\u001b[0m\u001b[0;34m\"k\"\u001b[0m\u001b[0;34m)\u001b[0m\u001b[0;34m\u001b[0m\u001b[0;34m\u001b[0m\u001b[0m\n",
      "\u001b[0;31mNameError\u001b[0m: name 'cutoff' is not defined"
     ]
    },
    {
     "data": {
      "image/png": "[encoded data removed]",
      "text/plain": [
       "<Figure size 432x288 with 1 Axes>"
      ]
     },
     "metadata": {
      "needs_background": "light"
     },
     "output_type": "display_data"
    }
   ],
   "source": [
    "kmc_analyze.main(combined_data, temp, chromo_list, snap, kmc_directory)"
   ]
  },
  {
   "cell_type": "code",
   "execution_count": null,
   "id": "motivated-business",
   "metadata": {},
   "outputs": [],
   "source": [
    "#start = 1359\n",
    "#stop = 1412\n",
    "#with open(\"./morphct/utils/kmc_analyze.py\", \"r\") as f:\n",
    "#    lines = f.readlines()\n",
    "#print(*lines[start-1:stop])"
   ]
  }
 ],
 "metadata": {
  "kernelspec": {
   "display_name": "Python 3",
   "language": "python",
   "name": "python3"
  },
  "language_info": {
   "codemirror_mode": {
    "name": "ipython",
    "version": 3
   },
   "file_extension": ".py",
   "mimetype": "text/x-python",
   "name": "python",
   "nbconvert_exporter": "python",
   "pygments_lexer": "ipython3",
   "version": "3.7.10"
  }
 },
 "nbformat": 4,
 "nbformat_minor": 5
}

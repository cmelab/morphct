{
 "cells": [
  {
   "cell_type": "markdown",
   "id": "indie-reading",
   "metadata": {},
   "source": [
    "# MorphCT\n",
    "\n",
    "goal: \n",
    " - atomistic gsd snapshot -> \n",
    " - assign chromophores -> \n",
    " - do QCC calcs -> \n",
    " - run KMC -> \n",
    " - calculate mobility\n",
    "\n",
    "current schema:\n",
    " - xml file\n",
    " - chromphore params set in par.py\n",
    " - if starting with atomistic, we can skip fine graining and molecular dynamics and only run:\n",
    "     - execute_obtain_chromophores = False                                             \n",
    "     - execute_ZINDO = False                                                           \n",
    "     - execute_calculate_transfer_integrals = False                                    \n",
    "     - execute_calculate_mobility = False    "
   ]
  },
  {
   "cell_type": "code",
   "execution_count": 1,
   "id": "posted-sacramento",
   "metadata": {},
   "outputs": [
    {
     "name": "stderr",
     "output_type": "stream",
     "text": [
      "/Users/jenny/miniconda3/envs/morphct-dev/lib/python3.8/site-packages/scipy/special/orthogonal.py:81: DeprecationWarning: `np.int` is a deprecated alias for the builtin `int`. To silence this warning, use `int` by itself. Doing this will not modify any behavior and is safe. When replacing `np.int`, you may wish to use e.g. `np.int64` or `np.int32` to specify the precision. If you wish to review your current use, check the release note link for additional information.\n",
      "Deprecated in NumPy 1.20; for more details and guidance: https://numpy.org/devdocs/release/1.20.0-notes.html#deprecations\n",
      "  from numpy import (exp, inf, pi, sqrt, floor, sin, cos, around, int,\n",
      "/Users/jenny/miniconda3/envs/morphct-dev/lib/python3.8/site-packages/scipy/special/orthogonal.py:81: DeprecationWarning: `np.int` is a deprecated alias for the builtin `int`. To silence this warning, use `int` by itself. Doing this will not modify any behavior and is safe. When replacing `np.int`, you may wish to use e.g. `np.int64` or `np.int32` to specify the precision. If you wish to review your current use, check the release note link for additional information.\n",
      "Deprecated in NumPy 1.20; for more details and guidance: https://numpy.org/devdocs/release/1.20.0-notes.html#deprecations\n",
      "  from numpy import (exp, inf, pi, sqrt, floor, sin, cos, around, int,\n"
     ]
    }
   ],
   "source": [
    "from collections import defaultdict\n",
    "import itertools\n",
    "import os\n",
    "import pickle\n",
    "import multiprocessing as mp\n",
    "\n",
    "import ele\n",
    "import freud\n",
    "import gsd.hoomd\n",
    "import mbuild as mb\n",
    "import numpy as np\n",
    "from openbabel import openbabel\n",
    "from openbabel import pybel\n",
    "import pyscf\n",
    "from pyscf.semiempirical import MINDO3\n",
    "\n",
    "from morphct.code import obtain_chromophores as oc\n",
    "from morphct import transfer_integrals as ti\n",
    "from morphct import execute_qcc as eqcc\n",
    "from morphct import mobility_kmc as kmc\n",
    "from morphct.utils import kmc_analyze\n",
    "from morphct import chromophores"
   ]
  },
  {
   "cell_type": "code",
   "execution_count": 2,
   "id": "valuable-ontario",
   "metadata": {},
   "outputs": [],
   "source": [
    "def visualize_qcc_input(qcc_input):\n",
    "    comp = mb.Compound()\n",
    "    for line in qcc_input.split(\";\")[:-1]:\n",
    "        atom, x, y, z = line.split()\n",
    "        xyz = np.array([x,y,z], dtype=float)\n",
    "        # Angstrom -> nm\n",
    "        xyz /= 10\n",
    "        comp.add(mb.Particle(name=atom,pos=xyz))\n",
    "    comp.visualize().show()"
   ]
  },
  {
   "cell_type": "markdown",
   "id": "presidential-issue",
   "metadata": {},
   "source": [
    "OK, so I'm looking around for an xml file in the \"obtain chromophores\" tests but all I can find are these pickle files. I want to view them before I continue. ovito and vmd no longer support xmls... gah --> using mbuild."
   ]
  },
  {
   "cell_type": "code",
   "execution_count": 3,
   "id": "informed-colleague",
   "metadata": {},
   "outputs": [],
   "source": [
    "path = \"tests/assets/donor_polymer/OC/donor_polymer_post_obtain_chromophores.pickle\"\n",
    "(\n",
    "    AA_morphdict, \n",
    "    CG_morphdict, \n",
    "    CGtoAAID_list, \n",
    "    param_dict, \n",
    "    chromo_list_old\n",
    ") = pickle.load(open(path,\"rb\"))"
   ]
  },
  {
   "cell_type": "code",
   "execution_count": 4,
   "id": "favorite-acting",
   "metadata": {},
   "outputs": [],
   "source": [
    "all_types = list(set(AA_morphdict['type']))\n",
    "bond_array = np.array([(i,j) for name,i,j in AA_morphdict[\"bond\"]])\n",
    "\n",
    "snap = gsd.hoomd.Snapshot()\n",
    "snap.configuration.box = np.array([\n",
    "    AA_morphdict[\"lx\"],\n",
    "    AA_morphdict[\"ly\"],\n",
    "    AA_morphdict[\"lz\"],\n",
    "    AA_morphdict[\"xy\"],\n",
    "    AA_morphdict[\"xz\"],\n",
    "    AA_morphdict[\"yz\"]\n",
    "])\n",
    "snap.configuration.dimensions = AA_morphdict[\"dimensions\"]\n",
    "snap.particles.N = AA_morphdict[\"natoms\"]\n",
    "snap.particles.body = AA_morphdict[\"body\"]\n",
    "snap.particles.position = AA_morphdict[\"position\"]\n",
    "snap.particles.charge = AA_morphdict[\"charge\"]\n",
    "snap.particles.diameter = AA_morphdict[\"diameter\"]\n",
    "snap.particles.mass = AA_morphdict[\"mass\"]\n",
    "snap.particles.image = AA_morphdict[\"image\"]\n",
    "snap.particles.types = all_types\n",
    "snap.particles.typeid = [all_types.index(i) for i in AA_morphdict[\"type\"]]\n",
    "snap.bonds.N = len(bond_array)\n",
    "snap.bonds.group = bond_array\n",
    "snap.validate()"
   ]
  },
  {
   "cell_type": "code",
   "execution_count": 5,
   "id": "relevant-forth",
   "metadata": {},
   "outputs": [],
   "source": [
    "unwrapped_positions = snap.particles.position + snap.particles.image * snap.configuration.box[:3]"
   ]
  },
  {
   "cell_type": "code",
   "execution_count": 6,
   "id": "external-operator",
   "metadata": {},
   "outputs": [],
   "source": [
    "# Run this if you want to confirm that the unwrapped positions are correct in OVITO\n",
    "#with gsd.hoomd.open(name='test.gsd', mode='wb') as f:\n",
    "#    f.append(snap)\n",
    "#    snap.particles.position = unwrapped_positions\n",
    "#    f.append(snap)"
   ]
  },
  {
   "cell_type": "code",
   "execution_count": 7,
   "id": "spiritual-producer",
   "metadata": {},
   "outputs": [],
   "source": [
    "conversion_dict = {\n",
    "    \"S1\": ele.element_from_symbol(\"S\"), \n",
    "    \"H1\": ele.element_from_symbol(\"H\"), \n",
    "    \"C5\": ele.element_from_symbol(\"C\"), \n",
    "    \"C1\": ele.element_from_symbol(\"C\"), \n",
    "    \"C4\": ele.element_from_symbol(\"C\"), \n",
    "    \"C6\": ele.element_from_symbol(\"C\"), \n",
    "    \"C8\": ele.element_from_symbol(\"C\"), \n",
    "    \"C9\": ele.element_from_symbol(\"C\"), \n",
    "    \"C3\": ele.element_from_symbol(\"C\"), \n",
    "    \"C7\": ele.element_from_symbol(\"C\"), \n",
    "    \"C2\": ele.element_from_symbol(\"C\"),\n",
    "    \"C10\": ele.element_from_symbol(\"C\"),\n",
    "}\n",
    "\n",
    "amber_dict = {\n",
    "    \"c\":  ele.element_from_symbol(\"C\"),\n",
    "    \"c1\": ele.element_from_symbol(\"C\"),\n",
    "    \"c2\": ele.element_from_symbol(\"C\"),\n",
    "    \"c3\": ele.element_from_symbol(\"C\"),\n",
    "    \"ca\": ele.element_from_symbol(\"C\"),\n",
    "    \"cp\": ele.element_from_symbol(\"C\"),\n",
    "    \"cq\": ele.element_from_symbol(\"C\"),\n",
    "    \"cc\": ele.element_from_symbol(\"C\"),\n",
    "    \"cd\": ele.element_from_symbol(\"C\"),\n",
    "    \"ce\": ele.element_from_symbol(\"C\"),\n",
    "    \"cf\": ele.element_from_symbol(\"C\"),\n",
    "    \"cg\": ele.element_from_symbol(\"C\"),\n",
    "    \"ch\": ele.element_from_symbol(\"C\"),\n",
    "    \"cx\": ele.element_from_symbol(\"C\"),\n",
    "    \"cy\": ele.element_from_symbol(\"C\"),\n",
    "    \"cu\": ele.element_from_symbol(\"C\"),\n",
    "    \"cv\": ele.element_from_symbol(\"C\"),\n",
    "    \"h1\": ele.element_from_symbol(\"H\"),\n",
    "    \"h2\": ele.element_from_symbol(\"H\"),\n",
    "    \"h3\": ele.element_from_symbol(\"H\"),\n",
    "    \"h4\": ele.element_from_symbol(\"H\"),\n",
    "    \"h5\": ele.element_from_symbol(\"H\"),\n",
    "    \"ha\": ele.element_from_symbol(\"H\"),\n",
    "    \"hc\": ele.element_from_symbol(\"H\"),\n",
    "    \"hn\": ele.element_from_symbol(\"H\"),\n",
    "    \"ho\": ele.element_from_symbol(\"H\"),\n",
    "    \"hp\": ele.element_from_symbol(\"H\"),\n",
    "    \"hs\": ele.element_from_symbol(\"H\"),\n",
    "    \"hw\": ele.element_from_symbol(\"H\"),\n",
    "    \"hx\": ele.element_from_symbol(\"H\"),\n",
    "    \"f\":  ele.element_from_symbol(\"F\"),\n",
    "    \"cl\": ele.element_from_symbol(\"Cl\"),\n",
    "    \"br\": ele.element_from_symbol(\"Br\"),\n",
    "    \"i\":  ele.element_from_symbol(\"I\"),\n",
    "    \"n\":  ele.element_from_symbol(\"N\"),\n",
    "    \"n1\": ele.element_from_symbol(\"N\"),\n",
    "    \"n2\": ele.element_from_symbol(\"N\"),\n",
    "    \"n3\": ele.element_from_symbol(\"N\"),\n",
    "    \"n4\": ele.element_from_symbol(\"N\"),\n",
    "    \"na\": ele.element_from_symbol(\"N\"),\n",
    "    \"nb\": ele.element_from_symbol(\"N\"),\n",
    "    \"nc\": ele.element_from_symbol(\"N\"),\n",
    "    \"nd\": ele.element_from_symbol(\"N\"),\n",
    "    \"ne\": ele.element_from_symbol(\"N\"),\n",
    "    \"nf\": ele.element_from_symbol(\"N\"),\n",
    "    \"nh\": ele.element_from_symbol(\"N\"),\n",
    "    \"no\": ele.element_from_symbol(\"N\"),\n",
    "    \"o\":  ele.element_from_symbol(\"O\"),\n",
    "    \"oh\": ele.element_from_symbol(\"O\"),\n",
    "    \"os\": ele.element_from_symbol(\"O\"),\n",
    "    \"ow\": ele.element_from_symbol(\"O\"),\n",
    "    \"p2\": ele.element_from_symbol(\"P\"),\n",
    "    \"p3\": ele.element_from_symbol(\"P\"),\n",
    "    \"p4\": ele.element_from_symbol(\"P\"),\n",
    "    \"p5\": ele.element_from_symbol(\"P\"),\n",
    "    \"pb\": ele.element_from_symbol(\"P\"),\n",
    "    \"pc\": ele.element_from_symbol(\"P\"),\n",
    "    \"pd\": ele.element_from_symbol(\"P\"),\n",
    "    \"pe\": ele.element_from_symbol(\"P\"),\n",
    "    \"pf\": ele.element_from_symbol(\"P\"),\n",
    "    \"px\": ele.element_from_symbol(\"P\"),\n",
    "    \"py\": ele.element_from_symbol(\"P\"),\n",
    "    \"s\":  ele.element_from_symbol(\"S\"),\n",
    "    \"s2\": ele.element_from_symbol(\"S\"),\n",
    "    \"s4\": ele.element_from_symbol(\"S\"),\n",
    "    \"s6\": ele.element_from_symbol(\"S\"),\n",
    "    \"sh\": ele.element_from_symbol(\"S\"),\n",
    "    \"ss\": ele.element_from_symbol(\"S\"),\n",
    "    \"sx\": ele.element_from_symbol(\"S\"),\n",
    "    \"sy\": ele.element_from_symbol(\"S\"),\n",
    "}"
   ]
  },
  {
   "cell_type": "code",
   "execution_count": 8,
   "id": "cubic-vault",
   "metadata": {},
   "outputs": [],
   "source": [
    "smarts_str = \"c1cscc1CCCCCC\""
   ]
  },
  {
   "cell_type": "code",
   "execution_count": 9,
   "id": "given-howard",
   "metadata": {},
   "outputs": [],
   "source": [
    "aaids = chromophores.get_chromo_ids_smiles(snap, smarts_str, conversion_dict)"
   ]
  },
  {
   "cell_type": "code",
   "execution_count": 10,
   "id": "virtual-arctic",
   "metadata": {},
   "outputs": [],
   "source": [
    "chromo_list = []\n",
    "for i,aaid in enumerate(aaids):\n",
    "    chromo_list.append(chromophores.Chromophore(i, snap, aaid, \"donor\", conversion_dict))"
   ]
  },
  {
   "cell_type": "code",
   "execution_count": 11,
   "id": "available-police",
   "metadata": {},
   "outputs": [
    {
     "data": {
      "text/plain": [
       "freud.locality.Voronoi()"
      ]
     },
     "execution_count": 11,
     "metadata": {},
     "output_type": "execute_result"
    }
   ],
   "source": [
    "voronoi = freud.locality.Voronoi()\n",
    "freudbox = freud.box.Box(*snap.configuration.box)\n",
    "centers = [chromo.center for chromo in chromo_list]\n",
    "voronoi.compute((freudbox, centers))"
   ]
  },
  {
   "cell_type": "code",
   "execution_count": 44,
   "id": "efficient-crest",
   "metadata": {},
   "outputs": [],
   "source": [
    "box = snap.configuration.box[:3]\n",
    "d_cut = 10\n",
    "qcc_pairs = []\n",
    "neighbors = []\n",
    "for (i,j) in voronoi.nlist: \n",
    "    if (i,j) not in neighbors and (j,i) not in neighbors:\n",
    "        chromo_i = chromo_list[i]\n",
    "        chromo_j = chromo_list[j]\n",
    "        centers = []\n",
    "        distances = []\n",
    "        # calculate which of the periodic image is closest\n",
    "        # shift chromophore j, hold chromophore i in place\n",
    "        for xyz_image in itertools.product(range(-1,2), repeat=3):              \n",
    "            xyz_image = np.array(xyz_image)       \n",
    "            sc_center = chromo_j.center + xyz_image * box\n",
    "            centers.append(sc_center)\n",
    "            distances.append(np.linalg.norm(sc_center - chromo_i.center))\n",
    "        imin = distances.index(min(distances))\n",
    "        if distances[imin] > d_cut:\n",
    "            continue\n",
    "        j_shift = centers[imin] - chromo_j.unwrapped_center\n",
    "        chromo_i.neighbors.append(j)\n",
    "        chromo_i.neighbors_delta_e.append(None)\n",
    "        chromo_i.neighbors_ti.append(None)\n",
    "        chromo_j.neighbors.append(i)\n",
    "        chromo_j.neighbors_delta_e.append(None)\n",
    "        chromo_j.neighbors_ti.append(None)\n",
    "        neighbors.append((i,j))\n",
    "        qcc_input = eqcc.write_qcc_pair_input(snap, chromo_i, chromo_j, j_shift, conversion_dict)\n",
    "        qcc_pairs.append(((i,j), qcc_input))"
   ]
  },
  {
   "cell_type": "code",
   "execution_count": 13,
   "id": "nutritional-material",
   "metadata": {},
   "outputs": [
    {
     "name": "stdout",
     "output_type": "stream",
     "text": [
      "-22.233 38.535 -16.184\n",
      "-25.564 -40.331 -10.968\n",
      "-22.233 -46.654 -16.184\n",
      "-25.564 -40.331 -10.968\n",
      "0.000 85.190 0.000\n"
     ]
    }
   ],
   "source": [
    "print(\"{:.3f} {:.3f} {:.3f}\".format(*chromo_i.center))\n",
    "print(\"{:.3f} {:.3f} {:.3f}\".format(*chromo_j.center))\n",
    "print(\"{:.3f} {:.3f} {:.3f}\".format(*chromo_i.unwrapped_center))\n",
    "print(\"{:.3f} {:.3f} {:.3f}\".format(*chromo_j.unwrapped_center))\n",
    "print(\"{:.3f} {:.3f} {:.3f}\".format(*j_shift))"
   ]
  },
  {
   "cell_type": "code",
   "execution_count": 14,
   "id": "decreased-steel",
   "metadata": {},
   "outputs": [
    {
     "data": {
      "text/plain": [
       "[array([-19.43407822,  38.11470032, -17.47227669]),\n",
       " array([-18.25821114,  38.70635223, -17.93615532]),\n",
       " array([-18.26666641,  40.24715424, -17.32382202]),\n",
       " array([-19.69313812,  40.24788284, -16.4778862 ]),\n",
       " array([-20.23741531,  38.97247696, -16.657938  ]),\n",
       " array([-21.62716293,  38.41436768, -16.03915787]),\n",
       " array([-23.14193916,  39.19699478, -16.14463425]),\n",
       " array([-24.36491776,  38.41197968, -15.25362206]),\n",
       " array([-25.48637581,  37.44265366, -15.92604351]),\n",
       " array([-26.39144897,  36.6354599 , -14.73615742]),\n",
       " array([-27.66501236,  37.4966507 , -14.05179119])]"
      ]
     },
     "execution_count": 14,
     "metadata": {},
     "output_type": "execute_result"
    }
   ],
   "source": [
    "box = snap.configuration.box[:3]                                            \n",
    "unwrapped_pos = snap.particles.position + snap.particles.image * box        \n",
    "                                                                            \n",
    "# chromophore i does not move                                               \n",
    "[i+chromo_i.image*box for i in unwrapped_pos[chromo_i.atom_ids]]"
   ]
  },
  {
   "cell_type": "code",
   "execution_count": 54,
   "id": "tired-external",
   "metadata": {},
   "outputs": [],
   "source": [
    "# Checked and all pairs look reasonable!\n",
    "#visualize_qcc_input(qcc_pairs[32][1])"
   ]
  },
  {
   "cell_type": "code",
   "execution_count": null,
   "id": "turkish-matrix",
   "metadata": {},
   "outputs": [],
   "source": [
    "chromo_list = determine_neighbors_voronoi(chromo_list,snap)"
   ]
  },
  {
   "cell_type": "code",
   "execution_count": null,
   "id": "heard-inclusion",
   "metadata": {},
   "outputs": [],
   "source": [
    "#def create_inputs(chromo_list, AA_morphdict, param_dict):\n",
    "#    \"\"\"\n",
    "#\n",
    "#    Parameters\n",
    "#    ----------\n",
    "#\n",
    "#    Returns\n",
    "#    -------\n",
    "#\n",
    "#    \"\"\"\n",
    "# Determine how many pairs there are first:\n",
    "n_pairs = np.sum([len(chromo.neighbors) for chromo in chromo_list])\n",
    "print(f\"There are {n_pairs // 2} total neighbor pairs to consider.\")\n",
    "# /2 because the forwards and backwards hops are identical\n",
    "# Then consider each chromophore against every other chromophore\n",
    "qcc_pairs = []\n",
    "for i, chromo1 in enumerate(chromo_list[:-1]):\n",
    "    neighbors_id = [i for i,img in chromo1.neighbors]\n",
    "    neighbors_image = [img for i,img in chromo1.neighbors]\n",
    "    for chromo2 in chromo_list[i:]:\n",
    "        # Skip if chromo2 is not one of chromo1's neighbors\n",
    "        # Also skip if chromo2's ID is < chromo1's ID to prevent\n",
    "        # duplicates\n",
    "        if (chromo2.id not in neighbors_id) or (chromo2.id < chromo1.id):\n",
    "            continue\n",
    "        # Update the qcc_pairs name\n",
    "        pair = (chromo1.id, chromo2.id)\n",
    "        # Find the correct relative image for the neighbor chromophore\n",
    "        chromo2_rel_image = neighbors_image[neighbors_id.index(chromo2.id)]\n",
    "        chromo2_transform = (chromo1.image - chromo2.image + chromo2_rel_image)\n",
    "        # Find the dimer AAIDs and relative images for each atom\n",
    "        atomic_ids = np.concatenate((chromo1.atomic_ids, chromo2.atomic_ids))\n",
    "        images = [np.zeros(3) for i in range(chromo1.n_atoms)]\n",
    "        images += [chromo2_transform for i in range(chromo2.n_atoms)]\n",
    "        raise TypeError"
   ]
  },
  {
   "cell_type": "code",
   "execution_count": null,
   "id": "weird-reviewer",
   "metadata": {},
   "outputs": [],
   "source": [
    "# There has to be some sort of distance cutoff...\n",
    "chromo1.neighbors"
   ]
  },
  {
   "cell_type": "code",
   "execution_count": null,
   "id": "serial-operator",
   "metadata": {},
   "outputs": [],
   "source": [
    "# These are different because geometric center vs CoM \n",
    "print(chromo_list[0].unwrapped_center,chromo_list_old[0].unwrapped_posn)"
   ]
  },
  {
   "cell_type": "code",
   "execution_count": null,
   "id": "fixed-mumbai",
   "metadata": {},
   "outputs": [],
   "source": [
    "visualize_qcc_input(chromo_list[0].qcc_input)"
   ]
  },
  {
   "cell_type": "code",
   "execution_count": null,
   "id": "selective-patrol",
   "metadata": {},
   "outputs": [],
   "source": [
    "print(dir(chromo_list[0])[:9])\n",
    "print(dir(chromo_list[0])[35:])"
   ]
  },
  {
   "cell_type": "code",
   "execution_count": null,
   "id": "secure-ontario",
   "metadata": {},
   "outputs": [],
   "source": [
    "print(chromo_list[8].posn)\n",
    "print(chromo_list[8].unwrapped_posn) "
   ]
  },
  {
   "cell_type": "markdown",
   "id": "funky-progressive",
   "metadata": {},
   "source": [
    "Next time start working on obtain chromophores from snapshot"
   ]
  },
  {
   "cell_type": "code",
   "execution_count": null,
   "id": "listed-sixth",
   "metadata": {},
   "outputs": [],
   "source": [
    "#print(AA_morphdict.keys()) \n",
    "# 'xy', 'mass', 'lx', 'improper', 'body', 'unwrapped_position', 'natoms', \n",
    "# 'position', 'yz', 'xz', 'dimensions', 'ly', 'image', 'charge', 'lz', 'angle', \n",
    "# 'diameter', 'bond', 'time_step', 'type', 'dihedral'\n",
    "\n",
    "#print(CG_morphdict.keys()) \n",
    "# same as above\n",
    "\n",
    "#print(CGtoAAID_list) \n",
    "# {0: ['A', [0, 1, 2, 3, 4, 24]] includes attached hydrogen\n",
    "# where A beads are thiophenes, B and C beads are first and second three alkyl carbons\n",
    "\n",
    "#print(param_dict.keys())\n",
    "# so many things...\n",
    "\n",
    "#print(chromo_list[0])\n",
    "# list of chromophore class objects"
   ]
  },
  {
   "cell_type": "code",
   "execution_count": null,
   "id": "communist-purple",
   "metadata": {},
   "outputs": [],
   "source": [
    "#comp = mb.Compound()\n",
    "#for name, pos in zip(AA_morphdict[\"type\"],AA_morphdict[\"unwrapped_position\"]):\n",
    "#    name = name.strip(\"0123456789\")\n",
    "#    comp.add(mb.Particle(name=name, pos=np.array(pos)/10)) #convert to nm in mbuild\n",
    "#ps = [p for p in comp.particles()]\n",
    "#for _, i, j in AA_morphdict[\"bond\"]:\n",
    "#    comp.add_bond((ps[i],ps[j]))\n",
    "#    \n",
    "#comp.visualize().show()"
   ]
  },
  {
   "cell_type": "markdown",
   "id": "antique-thomas",
   "metadata": {},
   "source": [
    "OK, so we have 2 all-atom p3ht 15mers. 30 chromophores makes sense."
   ]
  },
  {
   "cell_type": "code",
   "execution_count": null,
   "id": "covered-chocolate",
   "metadata": {},
   "outputs": [],
   "source": [
    "print(len(chromo_list))\n",
    "chromo = chromo_list[0]\n",
    "print(dir(chromo))"
   ]
  },
  {
   "cell_type": "code",
   "execution_count": null,
   "id": "experimental-cartoon",
   "metadata": {},
   "outputs": [],
   "source": [
    "#print(len(chromo.AAIDs))\n",
    "#for i in chromo.AAIDs:\n",
    "#    ps[i].name = \"x\"\n",
    "#comp.visualize().show()"
   ]
  },
  {
   "cell_type": "markdown",
   "id": "valued-macintosh",
   "metadata": {},
   "source": [
    "Each chromophore is defined as one monomer.\n",
    "\n",
    "All the HOMO,LUMO info has not been set, the file path doesn't exist, and the neighbors havent been set"
   ]
  },
  {
   "cell_type": "code",
   "execution_count": null,
   "id": "prompt-fraction",
   "metadata": {},
   "outputs": [],
   "source": [
    "print(chromo.HOMO, chromo.LUMO)\n",
    "print(chromo.species)\n",
    "print(chromo.orca_output)\n",
    "print(chromo.neighbours)"
   ]
  },
  {
   "cell_type": "markdown",
   "id": "structured-opportunity",
   "metadata": {},
   "source": [
    "First let's fix the path -- we need to change the directories in the param_dict because they reference mattys computer. I'm making a new folder in the root dir called `notebook_output`. Then in that folder I had to make sure this dir structure exists in that folder:\n",
    "```\n",
    "/chromophores/ -+- input_orca/ -+- single/\n",
    "                |               |\n",
    "                |               +- pair/\n",
    "                |\n",
    "                +- output_orca/ -+- single/\n",
    "                                 |\n",
    "                                 +- pair/\n",
    "```\n",
    "\n",
    "*I have since change the code for this so it is no longer necessary*"
   ]
  },
  {
   "cell_type": "code",
   "execution_count": null,
   "id": "second-ethnic",
   "metadata": {},
   "outputs": [],
   "source": [
    "print(param_dict[\"output_orca_directory\"])"
   ]
  },
  {
   "cell_type": "code",
   "execution_count": null,
   "id": "pacific-removal",
   "metadata": {},
   "outputs": [],
   "source": [
    "outpath = os.path.join(os.getcwd(),\"notebook_output/\")\n",
    "print(outpath)\n",
    "param_dict[\"output_orca_directory\"] = outpath"
   ]
  },
  {
   "cell_type": "markdown",
   "id": "particular-preparation",
   "metadata": {},
   "source": [
    "Next let's get the neighbors"
   ]
  },
  {
   "cell_type": "code",
   "execution_count": null,
   "id": "through-lighting",
   "metadata": {},
   "outputs": [],
   "source": [
    "# I changed the spelling because I am not British and it kept throwing me off\n",
    "for chromo in chromo_list:\n",
    "    chromo.neighbors = chromo.neighbours\n",
    "    chromo.dissociation_neighbors = chromo.dissociation_neighbours\n",
    "    chromo.neighbors_delta_E = chromo.neighbours_delta_E\n",
    "    chromo.neighbors_TI = chromo.neighbours_TI\n",
    "    chromo.pos = chromo.posn"
   ]
  },
  {
   "cell_type": "code",
   "execution_count": null,
   "id": "worst-mount",
   "metadata": {},
   "outputs": [],
   "source": [
    "sim_dims = [                                                                \n",
    "    [-AA_morphdict[\"lx\"] / 2.0, AA_morphdict[\"lx\"] / 2.0],      \n",
    "    [-AA_morphdict[\"ly\"] / 2.0, AA_morphdict[\"ly\"] / 2.0],      \n",
    "    [-AA_morphdict[\"lz\"] / 2.0, AA_morphdict[\"lz\"] / 2.0],      \n",
    "]   \n",
    "chromo_list = oc.chromo_sort(chromo_list)\n",
    "chromo_list = oc.determine_neighbors_voronoi(                        \n",
    "    chromo_list, param_dict, sim_dims                          \n",
    ") "
   ]
  },
  {
   "cell_type": "markdown",
   "id": "stock-trustee",
   "metadata": {},
   "source": [
    "The files are created by `morphct/code/execute_ZINDO.py` `create_input_files(chromophore_list, AA_morphology_dict, parameter_dict)`\n",
    "The HOMO/LUMO gets set in `morphct/code/transfer_integrals.py` `load_orca_output(file_name)`"
   ]
  },
  {
   "cell_type": "code",
   "execution_count": null,
   "id": "smooth-adaptation",
   "metadata": {},
   "outputs": [],
   "source": [
    "qcc_pairs = eqcc.create_inputs(chromo_list, AA_morphdict, param_dict)\n",
    "#print(qcc_pairs[0])\n",
    "# (i,j), mol_str "
   ]
  },
  {
   "cell_type": "markdown",
   "id": "first-procedure",
   "metadata": {},
   "source": [
    "OK ~this writes 30 inputs but no pairs--some neighborlist analysis must need done first~ \n",
    "\n",
    "after neighbor list all files are written\n",
    "\n",
    "next need to run ZINDO\n",
    "\n",
    "`eqcc.get_homolumo(chromo_list[0].qcc_input)` returns HOMO-1, HOMO, LUMO, LUMO+1"
   ]
  },
  {
   "cell_type": "code",
   "execution_count": null,
   "id": "elect-applicant",
   "metadata": {},
   "outputs": [],
   "source": [
    "s_filename = os.path.join(outpath, \"singles_energies.txt\")\n",
    "s_filename"
   ]
  },
  {
   "cell_type": "code",
   "execution_count": null,
   "id": "usual-stations",
   "metadata": {},
   "outputs": [],
   "source": [
    "#%%time\n",
    "#data = eqcc.singles_homolumo(chromo_list, s_filename)\n",
    "#\n",
    "#CPU times: user 17 ms, sys: 25.6 ms, total: 42.5 ms\n",
    "#Wall time: 4.01 s"
   ]
  },
  {
   "cell_type": "markdown",
   "id": "verified-egypt",
   "metadata": {},
   "source": [
    "This gets the energy values of the chromophores using the single inputs. The neighbor energy values are not set:"
   ]
  },
  {
   "cell_type": "code",
   "execution_count": null,
   "id": "surprised-harassment",
   "metadata": {},
   "outputs": [],
   "source": [
    "print(chromo.HOMO)\n",
    "print(len(chromo.neighbours), len(chromo.neighbours_delta_E))\n",
    "print(chromo.neighbours_delta_E[0])"
   ]
  },
  {
   "cell_type": "markdown",
   "id": "greater-artist",
   "metadata": {},
   "source": [
    "next look in morphct/code/transfer_integrals.py"
   ]
  },
  {
   "cell_type": "code",
   "execution_count": null,
   "id": "protecting-shadow",
   "metadata": {},
   "outputs": [],
   "source": [
    "d_filename = os.path.join(outpath, \"dimer_energies.txt\")\n",
    "d_filename"
   ]
  },
  {
   "cell_type": "code",
   "execution_count": null,
   "id": "handy-phase",
   "metadata": {},
   "outputs": [],
   "source": [
    "#%%time\n",
    "#dimer_data = eqcc.dimer_homolumo(qcc_pairs, d_filename)\n",
    "#\n",
    "#CPU times: user 358 ms, sys: 146 ms, total: 504 ms\n",
    "#Wall time: 2min 22s"
   ]
  },
  {
   "cell_type": "code",
   "execution_count": null,
   "id": "appointed-paint",
   "metadata": {},
   "outputs": [],
   "source": [
    "data = eqcc.get_singlesdata(s_filename)\n",
    "print(data[0])\n",
    "dimer_data = eqcc.get_dimerdata(d_filename)\n",
    "print(dimer_data[0])"
   ]
  },
  {
   "cell_type": "code",
   "execution_count": null,
   "id": "framed-extension",
   "metadata": {},
   "outputs": [],
   "source": [
    "eqcc.set_energyvalues(chromo_list, s_filename, d_filename)"
   ]
  },
  {
   "cell_type": "code",
   "execution_count": null,
   "id": "bound-dakota",
   "metadata": {},
   "outputs": [],
   "source": [
    "print(chromo.HOMO)\n",
    "print(len(chromo.neighbours), len(chromo.neighbours_delta_E))\n",
    "print(chromo.neighbours_delta_E[0])"
   ]
  },
  {
   "cell_type": "markdown",
   "id": "available-reducing",
   "metadata": {},
   "source": [
    "OK, I think I should be ready to run KMC. Before it'll work we need to add some things to the param dict and change some paths.\n",
    "\n",
    "```\n",
    "notebook_outputs/KMC/ \n",
    "```\n",
    "\n",
    "run_kmc : single_core_run_mob_KMC\n",
    "\n",
    "kmc : mobility_KMC"
   ]
  },
  {
   "cell_type": "code",
   "execution_count": null,
   "id": "finite-radar",
   "metadata": {},
   "outputs": [],
   "source": [
    "param_dict['simulation_times'] = [1.00e-13, 1.00e-12]\n",
    "param_dict[\"number_of_holes_per_simulation_time\"] = 10  \n",
    "param_dict[\"number_of_electrons_per_simulation_time\"] = 0 \n",
    "param_dict[\"combine_KMC_results\"] = True\n",
    "param_dict[\"record_carrier_history\"] = True\n",
    "param_dict[\"hop_limit\"] = 0\n",
    "param_dict[\"system_temperature\"] = 300 # In Kelvin\n",
    "param_dict[\"output_morphology_directory\"] = outpath"
   ]
  },
  {
   "cell_type": "code",
   "execution_count": null,
   "id": "beautiful-kazakhstan",
   "metadata": {},
   "outputs": [],
   "source": [
    "jobs_list = kmc.get_jobslist(\n",
    "    AA_morphdict, CG_morphdict, CGtoAAID_list, param_dict, chromo_list\n",
    ")"
   ]
  },
  {
   "cell_type": "code",
   "execution_count": null,
   "id": "inside-funeral",
   "metadata": {},
   "outputs": [],
   "source": [
    "jobs_list[0]"
   ]
  },
  {
   "cell_type": "code",
   "execution_count": null,
   "id": "brief-visitor",
   "metadata": {},
   "outputs": [],
   "source": [
    "KMC_directory = os.path.join(outpath, \"KMC\")"
   ]
  },
  {
   "cell_type": "code",
   "execution_count": null,
   "id": "center-christianity",
   "metadata": {},
   "outputs": [],
   "source": [
    "combined_data = kmc.run_kmc(\n",
    "    jobs_list,                                                              \n",
    "    KMC_directory,                                                          \n",
    "    AA_morphdict,                                                           \n",
    "    CG_morphdict,                                                           \n",
    "    CGtoAAID_list,                                                          \n",
    "    param_dict,                                                             \n",
    "    chromo_list\n",
    ")"
   ]
  },
  {
   "cell_type": "code",
   "execution_count": null,
   "id": "figured-forward",
   "metadata": {},
   "outputs": [],
   "source": [
    "KMC_analyse.main(\n",
    "    AA_morphdict, \n",
    "    CG_morphdict, \n",
    "    CGtoAAID_list, \n",
    "    param_dict,                                                             \n",
    "    chromo_list,                                                            \n",
    "    [combined_data],                                                      \n",
    "    KMC_directory\n",
    ")"
   ]
  },
  {
   "cell_type": "code",
   "execution_count": null,
   "id": "approved-clark",
   "metadata": {},
   "outputs": [],
   "source": []
  }
 ],
 "metadata": {
  "kernelspec": {
   "display_name": "Python 3",
   "language": "python",
   "name": "python3"
  },
  "language_info": {
   "codemirror_mode": {
    "name": "ipython",
    "version": 3
   },
   "file_extension": ".py",
   "mimetype": "text/x-python",
   "name": "python",
   "nbconvert_exporter": "python",
   "pygments_lexer": "ipython3",
   "version": "3.8.6"
  }
 },
 "nbformat": 4,
 "nbformat_minor": 5
}

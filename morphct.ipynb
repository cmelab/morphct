{
 "cells": [
  {
   "cell_type": "markdown",
   "id": "blond-interpretation",
   "metadata": {},
   "source": [
    "# MorphCT\n",
    "\n",
    "goal: \n",
    " - atomistic gsd snapshot -> \n",
    " - assign chromophores -> \n",
    " - do QCC calcs -> \n",
    " - run KMC -> \n",
    " - calculate mobility\n",
    "\n",
    "current schema:\n",
    " - xml file\n",
    " - chromphore params set in par.py\n",
    " - if starting with atomistic, we can skip fine graining and molecular dynamics and only run:\n",
    "     - execute_obtain_chromophores = False                                             \n",
    "     - execute_ZINDO = False                                                           \n",
    "     - execute_calculate_transfer_integrals = False                                    \n",
    "     - execute_calculate_mobility = False    "
   ]
  },
  {
   "cell_type": "code",
   "execution_count": 1,
   "id": "noted-swiss",
   "metadata": {},
   "outputs": [
    {
     "name": "stderr",
     "output_type": "stream",
     "text": [
      "/Users/jenny/miniconda3/envs/morphct-dev/lib/python3.7/site-packages/pyscf/lib/misc.py:50: H5pyDeprecationWarning: Using default_file_mode other than 'r' is deprecated. Pass the mode to h5py.File() instead.\n",
      "  h5py.get_config().default_file_mode = 'a'\n"
     ]
    }
   ],
   "source": [
    "from collections import defaultdict\n",
    "import itertools\n",
    "import os\n",
    "import pickle\n",
    "import multiprocessing as mp\n",
    "\n",
    "import ele\n",
    "import freud\n",
    "import gsd.hoomd\n",
    "import mbuild as mb\n",
    "import numpy as np\n",
    "from openbabel import openbabel\n",
    "from openbabel import pybel\n",
    "import pyscf\n",
    "from pyscf.semiempirical import MINDO3\n",
    "\n",
    "from morphct.code import obtain_chromophores as oc\n",
    "from morphct import transfer_integrals as ti\n",
    "from morphct import execute_qcc as eqcc\n",
    "from morphct import mobility_kmc as kmc\n",
    "from morphct import chromophores\n",
    "from morphct.utils import kmc_analyze\n",
    "from morphct.chromophores import conversion_dict"
   ]
  },
  {
   "cell_type": "code",
   "execution_count": 2,
   "id": "allied-peripheral",
   "metadata": {},
   "outputs": [],
   "source": [
    "def visualize_qcc_input(qcc_input):\n",
    "    comp = mb.Compound()\n",
    "    for line in qcc_input.split(\";\")[:-1]:\n",
    "        atom, x, y, z = line.split()\n",
    "        xyz = np.array([x,y,z], dtype=float)\n",
    "        # Angstrom -> nm\n",
    "        xyz /= 10\n",
    "        comp.add(mb.Particle(name=atom,pos=xyz))\n",
    "    comp.visualize().show()\n",
    "    \n",
    "def from_snapshot(snapshot, scale=1.0):\n",
    "    \"\"\"Convert a hoomd.data.Snapshot or a gsd.hoomd.Snapshot to an\n",
    "    mbuild Compound.\n",
    "    Parameters\n",
    "    ----------\n",
    "    snapshot : hoomd.data.SnapshotParticleData or gsd.hoomd.Snapshot\n",
    "        Snapshot from which to build the mbuild Compound.\n",
    "    scale : float, optional, default 1.0\n",
    "        Value by which to scale the length values\n",
    "    Returns\n",
    "    -------\n",
    "    comp : mb.Compound\n",
    "    \"\"\"\n",
    "    comp = mb.Compound()\n",
    "    bond_array = snapshot.bonds.group\n",
    "    n_atoms = snapshot.particles.N\n",
    "\n",
    "    # There will be a better way to do this once box overhaul merged\n",
    "    try:\n",
    "        # gsd\n",
    "        box = snapshot.configuration.box\n",
    "        comp.box = mb.box.Box(lengths=box[:3] * scale)\n",
    "    except AttributeError:\n",
    "        # hoomd\n",
    "        box = snapshot.box\n",
    "        comp.box = mb.box.Box(lengths=np.array([box.Lx,box.Ly,box.Lz]) * scale)\n",
    "\n",
    "    # to_hoomdsnapshot shifts the coords, this will keep consistent\n",
    "    shift = np.array(comp.box.lengths)/2\n",
    "    # Add particles\n",
    "    for i in range(n_atoms):\n",
    "        name = snapshot.particles.types[snapshot.particles.typeid[i]]\n",
    "        xyz = snapshot.particles.position[i] * scale + shift\n",
    "        charge = snapshot.particles.charge[i]\n",
    "\n",
    "        atom = mb.Particle(name=name, pos=xyz, charge=charge)\n",
    "        comp.add(atom, label=str(i))\n",
    "\n",
    "    # Add bonds\n",
    "    particle_dict = {idx: p for idx, p in enumerate(comp.particles())}\n",
    "    for i in range(bond_array.shape[0]):\n",
    "        atom1 = int(bond_array[i][0])\n",
    "        atom2 = int(bond_array[i][1])\n",
    "        comp.add_bond([particle_dict[atom1], particle_dict[atom2]])\n",
    "    return comp"
   ]
  },
  {
   "cell_type": "markdown",
   "id": "disciplinary-worst",
   "metadata": {},
   "source": [
    "OK, so I'm looking around for an xml file in the \"obtain chromophores\" tests but all I can find are these pickle files. I want to view them before I continue. ovito and vmd no longer support xmls... gah --> using mbuild."
   ]
  },
  {
   "cell_type": "code",
   "execution_count": 3,
   "id": "verbal-fabric",
   "metadata": {},
   "outputs": [],
   "source": [
    "path = \"tests/old_assets/donor_polymer/OC/donor_polymer_post_obtain_chromophores.pickle\"\n",
    "(\n",
    "    AA_morphdict, \n",
    "    CG_morphdict, \n",
    "    CGtoAAID_list, \n",
    "    param_dict, \n",
    "    chromo_list_old\n",
    ") = pickle.load(open(path,\"rb\"))"
   ]
  },
  {
   "cell_type": "code",
   "execution_count": 4,
   "id": "acknowledged-bridge",
   "metadata": {},
   "outputs": [],
   "source": [
    "with gsd.hoomd.open(name='tests/assets/p3ht_2_15mers.gsd', mode='rb') as f:\n",
    "    snap = f[0]"
   ]
  },
  {
   "cell_type": "code",
   "execution_count": 5,
   "id": "optimum-brooklyn",
   "metadata": {},
   "outputs": [],
   "source": [
    "box = snap.configuration.box[:3]\n",
    "unwrapped_positions = snap.particles.position + snap.particles.image * box"
   ]
  },
  {
   "cell_type": "code",
   "execution_count": 6,
   "id": "quiet-sweet",
   "metadata": {},
   "outputs": [],
   "source": [
    "##Run this if you want to confirm that the unwrapped positions are correct in OVITO\n",
    "#with gsd.hoomd.open(name='test.gsd', mode='wb') as f:\n",
    "#    f.append(snap)\n",
    "#    snap.particles.position = unwrapped_positions\n",
    "#    f.append(snap)"
   ]
  },
  {
   "cell_type": "code",
   "execution_count": 7,
   "id": "protective-farming",
   "metadata": {},
   "outputs": [],
   "source": [
    "smarts_str = \"[#6]1[#6][#16][#6][#6]1CCCCCC\""
   ]
  },
  {
   "cell_type": "code",
   "execution_count": 8,
   "id": "electrical-hawaii",
   "metadata": {},
   "outputs": [
    {
     "name": "stdout",
     "output_type": "stream",
     "text": [
      "Found 29 chromophores.\n"
     ]
    }
   ],
   "source": [
    "aaids = chromophores.get_chromo_ids_smiles(snap, smarts_str, conversion_dict)"
   ]
  },
  {
   "cell_type": "markdown",
   "id": "seven-think",
   "metadata": {},
   "source": [
    "Basically, the smarts matching misses one chromophore. So I have to add it. There are some commented out cells below that show how I determine the atom indices and visualized it."
   ]
  },
  {
   "cell_type": "code",
   "execution_count": 9,
   "id": "second-joseph",
   "metadata": {},
   "outputs": [
    {
     "name": "stdout",
     "output_type": "stream",
     "text": [
      "30\n"
     ]
    }
   ],
   "source": [
    "bad_inds = np.array([727,728,729,730,731,732,733,734,735,736,737])\n",
    "aaids.append(bad_inds)\n",
    "print(len(aaids))"
   ]
  },
  {
   "cell_type": "code",
   "execution_count": 10,
   "id": "listed-trouble",
   "metadata": {},
   "outputs": [],
   "source": [
    "#[row for row in snap.bonds.group if set(row) & set(bad_inds)]\n",
    "\n",
    "#comp = from_snapshot(snap, scale=0.1)\n",
    "#for i,p in enumerate(comp.particles()):\n",
    "#    if i in np.hstack(aaids):\n",
    "#        p.name = \"Kr\"\n",
    "#    elif i in bad_inds:\n",
    "#        p.name = \"N\"\n",
    "#    else:\n",
    "#        p.name = p.name.strip(\"0123456789\")\n",
    "#comp.visualize().show()"
   ]
  },
  {
   "cell_type": "code",
   "execution_count": 11,
   "id": "efficient-syracuse",
   "metadata": {},
   "outputs": [],
   "source": [
    "#molpos_init = np.array([\n",
    "#    (mol.GetAtomById(i).GetX(), mol.GetAtomById(i).GetY(), mol.GetAtomById(i).GetZ()) \n",
    "#    for i in range(mol.NumAtoms())\n",
    "#])\n",
    "\n",
    "#uff = openbabel.OBForceField.FindForceField(\"UFF\")\n",
    "#uff.Setup(mol)\n",
    "#uff.SteepestDescent(100)\n",
    "#uff.UpdateCoordinates(mol)\n",
    "\n",
    "#molpos_final = np.array([\n",
    "#    (mol.GetAtomById(i).GetX(), mol.GetAtomById(i).GetY(), mol.GetAtomById(i).GetZ()) \n",
    "#    for i in range(mol.NumAtoms())\n",
    "#])\n",
    "\n",
    "#for i, (row, newrow) in enumerate(zip(molpos_init,molpos_final)):\n",
    "#    if not np.array_equal(row, newrow):\n",
    "#        print(i, row, newrow)"
   ]
  },
  {
   "cell_type": "code",
   "execution_count": 12,
   "id": "endless-executive",
   "metadata": {},
   "outputs": [],
   "source": [
    "chromo_list = []\n",
    "for i,aaid in enumerate(aaids):\n",
    "    chromo_list.append(chromophores.Chromophore(i, snap, aaid, \"donor\", conversion_dict))"
   ]
  },
  {
   "cell_type": "code",
   "execution_count": 13,
   "id": "special-weather",
   "metadata": {},
   "outputs": [],
   "source": [
    "#with open(\"chromo_list.pkl\", \"wb\") as f:\n",
    "#    pickle.dump(chromo_list, f)"
   ]
  },
  {
   "cell_type": "code",
   "execution_count": 14,
   "id": "green-spain",
   "metadata": {},
   "outputs": [],
   "source": [
    "#with open(\"chromo_list.pkl\", \"rb\") as f:\n",
    "#    chromo_list = pickle.load(f)"
   ]
  },
  {
   "cell_type": "markdown",
   "id": "emotional-diamond",
   "metadata": {},
   "source": [
    "Next let's get the neighbors"
   ]
  },
  {
   "cell_type": "code",
   "execution_count": 15,
   "id": "still-broadway",
   "metadata": {},
   "outputs": [
    {
     "name": "stdout",
     "output_type": "stream",
     "text": [
      "181\n"
     ]
    }
   ],
   "source": [
    "qcc_pairs = chromophores.set_neighbors_voronoi(\n",
    "    chromo_list, snap, conversion_dict, d_cut=min(box)/2\n",
    ")\n",
    "print(len(qcc_pairs))"
   ]
  },
  {
   "cell_type": "code",
   "execution_count": 16,
   "id": "extraordinary-george",
   "metadata": {},
   "outputs": [],
   "source": [
    "#with open(\"qcc_pairs.pkl\", \"wb\") as f:\n",
    "#    pickle.dump(qcc_pairs, f)"
   ]
  },
  {
   "cell_type": "code",
   "execution_count": 17,
   "id": "understanding-rebound",
   "metadata": {},
   "outputs": [],
   "source": [
    "#with open(\"chromo_list_neighbors.pkl\", \"wb\") as f:\n",
    "#    pickle.dump(chromo_list, f)"
   ]
  },
  {
   "cell_type": "code",
   "execution_count": 18,
   "id": "aerial-beads",
   "metadata": {},
   "outputs": [],
   "source": [
    "# Checked and all pairs look reasonable!\n",
    "#i = 13\n",
    "#visualize_qcc_input(qcc_pairs[i][1])"
   ]
  },
  {
   "cell_type": "markdown",
   "id": "collectible-niagara",
   "metadata": {},
   "source": [
    "next need to run ZINDO\n",
    "\n",
    "`eqcc.get_homolumo(chromo_list[0].qcc_input)` returns HOMO-1, HOMO, LUMO, LUMO+1\n",
    "\n",
    "`eqcc.singles_homolumo` does for all chromophores"
   ]
  },
  {
   "cell_type": "code",
   "execution_count": 19,
   "id": "rocky-saudi",
   "metadata": {},
   "outputs": [
    {
     "name": "stdout",
     "output_type": "stream",
     "text": [
      "/Users/jenny/Projects/morphct/notebook_output/singles_energies.txt\n"
     ]
    }
   ],
   "source": [
    "outpath = os.path.join(os.getcwd(), \"notebook_output\")\n",
    "s_filename = os.path.join(outpath, \"singles_energies.txt\")\n",
    "print(s_filename)"
   ]
  },
  {
   "cell_type": "code",
   "execution_count": 20,
   "id": "informal-survivor",
   "metadata": {},
   "outputs": [],
   "source": [
    "#%%time\n",
    "#data = eqcc.singles_homolumo(chromo_list, s_filename)\n",
    "#\n",
    "#CPU times: user 20.9 ms, sys: 30.1 ms, total: 51 ms\n",
    "#Wall time: 6.05 s"
   ]
  },
  {
   "cell_type": "markdown",
   "id": "inner-starter",
   "metadata": {},
   "source": [
    "This gets the energy values of the chromophores using the single inputs and writes them to a file. No energy values are set:"
   ]
  },
  {
   "cell_type": "code",
   "execution_count": 21,
   "id": "industrial-champion",
   "metadata": {},
   "outputs": [
    {
     "name": "stdout",
     "output_type": "stream",
     "text": [
      "None\n",
      "14 14\n",
      "None\n"
     ]
    }
   ],
   "source": [
    "chromo = chromo_list[0]\n",
    "print(chromo.homo)\n",
    "print(len(chromo.neighbors), len(chromo.neighbors_delta_e))\n",
    "print(chromo.neighbors_delta_e[0])"
   ]
  },
  {
   "cell_type": "markdown",
   "id": "charitable-suicide",
   "metadata": {},
   "source": [
    "Next compute the pair energies:"
   ]
  },
  {
   "cell_type": "code",
   "execution_count": 22,
   "id": "together-nightlife",
   "metadata": {},
   "outputs": [
    {
     "name": "stdout",
     "output_type": "stream",
     "text": [
      "/Users/jenny/Projects/morphct/notebook_output/dimer_energies.txt\n"
     ]
    }
   ],
   "source": [
    "d_filename = os.path.join(outpath, \"dimer_energies.txt\")\n",
    "print(d_filename)"
   ]
  },
  {
   "cell_type": "code",
   "execution_count": 23,
   "id": "humanitarian-australian",
   "metadata": {},
   "outputs": [],
   "source": [
    "#%%time\n",
    "#dimer_data = eqcc.dimer_homolumo(qcc_pairs, d_filename)\n",
    "#\n",
    "#CPU times: user 20.3 ms, sys: 27.2 ms, total: 47.6 ms\n",
    "#Wall time: 56.6 s"
   ]
  },
  {
   "cell_type": "code",
   "execution_count": 24,
   "id": "defined-benchmark",
   "metadata": {},
   "outputs": [
    {
     "name": "stdout",
     "output_type": "stream",
     "text": [
      "[-9.01337182 -8.5404688   0.17193304  0.86523495]\n",
      "((0, 1), (-8.709172080560474, -8.217563821747863, -0.26434041537131636, 0.35184321402975144))\n"
     ]
    }
   ],
   "source": [
    "data = eqcc.get_singlesdata(s_filename)\n",
    "print(data[0])\n",
    "dimer_data = eqcc.get_dimerdata(d_filename)\n",
    "print(dimer_data[0])"
   ]
  },
  {
   "cell_type": "code",
   "execution_count": 25,
   "id": "indonesian-visiting",
   "metadata": {},
   "outputs": [],
   "source": [
    "eqcc.set_energyvalues(chromo_list, s_filename, d_filename)"
   ]
  },
  {
   "cell_type": "code",
   "execution_count": 26,
   "id": "olympic-radius",
   "metadata": {},
   "outputs": [],
   "source": [
    "with open(\"chromo_list_energies.pkl\", \"wb\") as f:\n",
    "    pickle.dump(chromo_list, f)"
   ]
  },
  {
   "cell_type": "code",
   "execution_count": 27,
   "id": "latter-horse",
   "metadata": {},
   "outputs": [
    {
     "name": "stdout",
     "output_type": "stream",
     "text": [
      "-8.54046879758057\n",
      "14 14\n",
      "-0.016112646653095197\n"
     ]
    }
   ],
   "source": [
    "print(chromo.homo)\n",
    "print(len(chromo.neighbors), len(chromo.neighbors_delta_e))\n",
    "print(chromo.neighbors_delta_e[0])"
   ]
  },
  {
   "cell_type": "markdown",
   "id": "cultural-radar",
   "metadata": {},
   "source": [
    "OK, I think I should be ready to run KMC. Before it'll work we need to add some things to the param dict and change some paths.\n",
    "\n",
    "```\n",
    "notebook_outputs/KMC/ \n",
    "```\n",
    "\n",
    "run_kmc : single_core_run_mob_KMC\n",
    "\n",
    "kmc : mobility_KMC"
   ]
  },
  {
   "cell_type": "code",
   "execution_count": 28,
   "id": "billion-syndicate",
   "metadata": {},
   "outputs": [],
   "source": [
    "seed = param_dict['random_seed_override']"
   ]
  },
  {
   "cell_type": "code",
   "execution_count": 29,
   "id": "pharmaceutical-lobby",
   "metadata": {},
   "outputs": [],
   "source": [
    "jobs_list = kmc.get_jobslist([1.00e-13, 1.00e-12], n_holes=10, seed=seed)"
   ]
  },
  {
   "cell_type": "code",
   "execution_count": 30,
   "id": "impressive-salon",
   "metadata": {},
   "outputs": [],
   "source": [
    "kmc_directory = os.path.join(outpath, \"KMC\")"
   ]
  },
  {
   "cell_type": "markdown",
   "id": "refined-consciousness",
   "metadata": {},
   "source": [
    "Multiprocessing gives a reasonable speedup! (see below)"
   ]
  },
  {
   "cell_type": "code",
   "execution_count": 31,
   "id": "mighty-camcorder",
   "metadata": {},
   "outputs": [],
   "source": [
    "#%%time\n",
    "#\n",
    "#box = snap.configuration.box[:3]\n",
    "#temp = 300\n",
    "#\n",
    "#running_jobs = []\n",
    "#pipes = []\n",
    "#\n",
    "#for jobs in jobs_list:\n",
    "#    child_seed = np.random.randint(0, 2 ** 32)                              \n",
    "#                                                                            \n",
    "#    recv_end, send_end = mp.Pipe(False)                                     \n",
    "#    p = mp.Process(                                                         \n",
    "#            target=kmc.run_single_kmc,                                          \n",
    "#            args=(                                                          \n",
    "#                jobs,                                                       \n",
    "#                KMC_directory,                                              \n",
    "#                chromo_list,                                                \n",
    "#                box,                                                        \n",
    "#                temp,                                                     \n",
    "#                ),                                                          \n",
    "#            kwargs={                                                                                                                       \n",
    "#                \"seed\": child_seed,                                         \n",
    "#                \"send_end\": send_end,                                                                             \n",
    "#                }                                                           \n",
    "#            )                                                               \n",
    "#    running_jobs.append(p) \n",
    "#    pipes.append(recv_end)                                                  \n",
    "#    p.start()\n",
    "#    \n",
    "#for p in running_jobs:                                                      \n",
    "#    p.join()                                                                \n",
    "#\n",
    "#carrier_data_list = [x.recv() for x in pipes]  \n",
    "#\n",
    "#CPU times: user 13.3 ms, sys: 20.9 ms, total: 34.1 ms\n",
    "#Wall time: 1.67 s\n",
    "\n",
    "#%%time\n",
    "#\n",
    "#box = snap.configuration.box[:3]\n",
    "#temp = 300\n",
    "#\n",
    "#carrier_data_list = []\n",
    "#\n",
    "#for jobs in jobs_list: \n",
    "#    child_seed = np.random.randint(0, 2 ** 32) \n",
    "#    data = kmc.run_single_kmc(\n",
    "#        jobs,                                                       \n",
    "#        KMC_directory,                                              \n",
    "#        chromo_list,                                                \n",
    "#        box,                                                        \n",
    "#        temp,                                                                                                                                                                        \n",
    "#        seed= child_seed\n",
    "#    )                                                             \n",
    "#\n",
    "#    carrier_data_list.append(data)\n",
    "\n",
    "#CPU times: user 3.67 s, sys: 535 ms, total: 4.21 s\n",
    "#Wall time: 4.02 s"
   ]
  },
  {
   "cell_type": "code",
   "execution_count": 32,
   "id": "packed-anatomy",
   "metadata": {},
   "outputs": [
    {
     "name": "stdout",
     "output_type": "stream",
     "text": [
      "All KMC jobs completed!\n",
      "Combining outputs...\n"
     ]
    }
   ],
   "source": [
    "temp = 300\n",
    "combined_data = kmc.run_kmc(\n",
    "    jobs_list, kmc_directory, chromo_list, snap, temp, verbose=1\n",
    ")"
   ]
  },
  {
   "cell_type": "code",
   "execution_count": 33,
   "id": "fatty-actor",
   "metadata": {},
   "outputs": [
    {
     "name": "stdout",
     "output_type": "stream",
     "text": [
      "---------- KMC_ANALYZE ----------\n",
      "All figures saved in /Users/jenny/Projects/morphct/notebook_output/KMC/figures\n",
      "---------------------------------\n",
      "Considering the transport of hole...\n",
      "Obtaining mean squared displacements...\n",
      "\tNotice: The data from 2 carriers were\n",
      "\tdiscarded due to the carrier lifetime being more than double\n",
      "\t(or less than half of) the specified carrier lifetime.\n",
      "Plotting distribution of hole displacements\n",
      "\tFigure saved as hole_displacement_dist.png\n",
      "Calculating mobility...\n",
      "Standard Error 0.0\n",
      "Fitting r_val = 1.0\n",
      "\tFigure saved as lin_MSD_hole.png\n",
      "\tFigure saved as semi_log_MSD_hole.png\n",
      "\tFigure saved as log_MSD_hole.png\n",
      "----------------------------------------\n",
      "Hole mobility = 3.28E-01  +/- 2.03E-02 cm^2 V^-1 s^-1\n",
      "----------------------------------------\n",
      "Calculating hole trajectory anisotropy...\n",
      "----------------------------------------\n",
      "hole charge transport anisotropy: 0.235\n",
      "----------------------------------------\n",
      "Plotting hole hop frequency distribution...\n",
      "DYNAMIC CUT\n",
      "Notice: No minima found in distribution. Cutoff set to None.\n",
      "Cluster cut-off based on hop frequency set to None\n",
      "\tFigure saved as total_hop_freq_hole.png\n",
      "Plotting hole net hop frequency distribution...\n",
      "\tFigure saved as net_hop_freq_hole.png\n",
      "Plotting (total - net hops) discrepancy distribution...\n",
      "There are 4 paths with one-way transport.\n",
      "There are 11 paths with total - net < 10.\n",
      "\tFigure saved as hop_discrepancy_hole.png\n",
      "Determining molecule IDs...\n",
      "Donor HOMO Level = -8.467 +/- 0.018\n",
      "Donor Delta E_ij mean = 0.000 +/- 0.007\n",
      "\tFigure saved as donor_delta_E_ij.png\n",
      "Notice: No minima found in distribution. Cutoff set to None.\n",
      "Neighbor histogram figure saved as neighbor_hist_donor.png\n",
      "Notice: No minima found in distribution. Cutoff set to None.\n",
      "Orientation histogram figure saved as orientation_hist_donor.png\n",
      "Notice: No minima found in distribution. Cutoff set to None.\n",
      "\tFigure saved as donor_transfer_integral_mols.png\n",
      "Cut-offs: ('value', [donor, acceptor])\n",
      "\t('separation', [None, None])\n",
      "\t('orientation', [None, None])\n",
      "\t('ti', [None, None])\n",
      "\t('freq', [None, None])\n",
      "Examining the donor material...\n",
      "Calculating clusters...\n",
      "No cutoff provided: cluster cutoff set to 21.297\n",
      "----------------------------------------\n",
      "Donor: Detected 2 total\n",
      "and 2 large clusters (size > 6).\n",
      "Largest cluster size: 15 chromophores.\n",
      "Ratio in \"large\" clusters: 1.00\n",
      "----------------------------------------\n",
      "Examining the acceptor material...\n",
      "No material found. Continuing...\n",
      "Mean intra-cluster donor rate: 2.243e+14+/-8.502e+12\n",
      "Mean inter-cluster donor rate: 7.595e+13+/-4.349e+12\n",
      "\tFigure saved as donor_hopping_rate_clusters.png\n",
      "\tFigure saved as donor_transfer_integral_clusters.png\n",
      "Mean intra-molecular donor rate: 2.243e+14+/-8.502e+12\n",
      "Mean inter-molecular donor rate: 1.681e+11+/-1.788e+10\n",
      "\tFigure saved as donor_hopping_rate_clusters.png\n",
      "Plotting cluster size distribution...\n",
      "\tFigure saved as donor_cluster_dist.png\n",
      "Writing CSV Output File...\n",
      "\tCSV file written to /Users/jenny/Projects/morphct/notebook_output/KMC/results.csv\n",
      "Plotting Mobility and Anisotropy progressions...\n",
      "Skipping plotting mobility evolution.\n"
     ]
    }
   ],
   "source": [
    "kmc_analyze.main(combined_data, temp, chromo_list, snap, kmc_directory)"
   ]
  },
  {
   "cell_type": "code",
   "execution_count": 38,
   "id": "specific-observation",
   "metadata": {},
   "outputs": [
    {
     "name": "stdout",
     "output_type": "stream",
     "text": [
      "import multiprocessing as mp\n",
      " import numpy as np\n",
      " \n",
      " import pyscf\n",
      " from pyscf.semiempirical import MINDO3\n",
      " \n",
      " from morphct import helper_functions as hf\n",
      " from morphct import transfer_integrals as ti\n",
      " \n",
      " \n",
      " def get_homolumo(molstr, verbose=0, tol=1e-6):\n",
      "     \"\"\"\n",
      "     Get the HOMO-1, HOMO, LUMO, LUMO+1 energies for the given input string\n",
      "     using the MINDO3 method in pySCF.\n",
      " \n",
      "     Parameters\n",
      "     ----------\n",
      "     molstr : str\n",
      "         Input string for pySCF containing elements and positions in Angstroms\n",
      "         (e.g., \"C 0.0 0.0 0.0; H 1.54 0.0 0.0\")\n",
      "     verbose : False or int\n",
      "         Verbosity level of the MINDO calculation output. 0 will silence output,\n",
      "         4 will show convergence. (default 0)\n",
      "     tol : float\n",
      "         Tolerance of the MINDO convergence (default 1e-6)\n",
      " \n",
      "     Returns\n",
      "     -------\n",
      "     numpy.array\n",
      "         Array containing HOMO-1, HOMO, LUMO, LUMO+1 energies in eV\n",
      "     \"\"\"\n",
      "     mol = pyscf.M(atom=molstr)\n",
      "     mf = MINDO3(mol).run(verbose=verbose, conv_tol=tol)\n",
      "     occ = mf.get_occ()\n",
      "     i_lumo = np.argmax(occ<1)\n",
      "     energies = mf.mo_energy[i_lumo-2:i_lumo+2]\n",
      "     energies *= 27.2114 # convert Eh to eV\n",
      "     return energies\n",
      " \n",
      " \n",
      " def singles_homolumo(chromo_list, filename=None, nprocs=None):\n",
      "     \"\"\"\n",
      "     Obtain the HOMO-1, HOMO, LUMO, LUMO+1 energies in eV for all single\n",
      "     chromophores\n",
      " \n",
      "     Parameters\n",
      "     ----------\n",
      "     chromo_list : list of morphct.obtain_chromophores.Chromophore\n",
      "         Chromophores to calculate energies of. Each Chromophore must have\n",
      "         qcc_input attribute set.\n",
      "     filename : str\n",
      "         Path to file where singles energies will be saved. If None, energies\n",
      "         will not be saved. (default None)\n",
      "     nprocs : int\n",
      "         Number of processes passed to multiprocessing.Pool. If None,\n",
      "         multiprocessing.cpu_count will used to determine optimal number.\n",
      "         (default None)\n",
      " \n",
      "     Returns\n",
      "     -------\n",
      "     data : numpy.array\n",
      "         Array of energies where each row corresponds to the MO energies of each\n",
      "         chromophore in the list.\n",
      "     \"\"\"\n",
      "     if nprocs is not None:\n",
      "         nprocs = mp.cpu_count()\n",
      "     p = mp.Pool(processes=nprocs)\n",
      "     data = p.map(get_homolumo, [i.qcc_input for i in chromo_list])\n",
      "     p.close()\n",
      "     data = np.stack(data)\n",
      "     if filename is not None:\n",
      "         np.savetxt(filename, data)\n",
      "     return data\n",
      " \n",
      " \n",
      " def dimer_homolumo(qcc_pairs, filename=None, nprocs=None):\n",
      "     \"\"\"\n",
      "     Obtain the HOMO-1, HOMO, LUMO, LUMO+1 energies in eV for all chromophore\n",
      "     pairs\n",
      " \n",
      "     Parameters\n",
      "     ----------\n",
      "     qcc_pairs : list of (tuple and string)\n",
      "         Each list item contains a tuple with the indices of the pair and the\n",
      "         qcc input string. qcc_pairs is returned by create_inputs.\n",
      "     filename : str\n",
      "         Path to file where the pair energies will be saved. If None, energies\n",
      "         will not be saved. (default None)\n",
      "     nprocs : int\n",
      "         Number of processes passed to multiprocessing.Pool. If None,\n",
      "         multiprocessing.cpu_count will used to determine optimal number.\n",
      "         (default None)\n",
      " \n",
      "     Returns\n",
      "     -------\n",
      "     dimer_data : list of (tuple or ints, numpy.array)\n",
      "         Each list item contains the indices of the pair and an array of its MO\n",
      "         energies.\n",
      "     \"\"\"\n",
      "     if nprocs is not None:\n",
      "\n"
     ]
    }
   ],
   "source": [
    "start = 1\n",
    "stop = 100\n",
    "with open(\"./morphct/execute_qcc.py\", \"r\") as f:\n",
    "    lines = f.readlines()\n",
    "print(*lines[start-1:stop])"
   ]
  },
  {
   "cell_type": "code",
   "execution_count": null,
   "id": "bigger-specific",
   "metadata": {},
   "outputs": [],
   "source": []
  }
 ],
 "metadata": {
  "kernelspec": {
   "display_name": "Python 3",
   "language": "python",
   "name": "python3"
  },
  "language_info": {
   "codemirror_mode": {
    "name": "ipython",
    "version": 3
   },
   "file_extension": ".py",
   "mimetype": "text/x-python",
   "name": "python",
   "nbconvert_exporter": "python",
   "pygments_lexer": "ipython3",
   "version": "3.7.10"
  }
 },
 "nbformat": 4,
 "nbformat_minor": 5
}

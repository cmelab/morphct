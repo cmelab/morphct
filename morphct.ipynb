{
 "cells": [
  {
   "cell_type": "markdown",
   "id": "muslim-hormone",
   "metadata": {},
   "source": [
    "# MorphCT\n",
    "\n",
    "goal: \n",
    " - atomistic gsd snapshot -> \n",
    " - assign chromophores -> \n",
    " - do QCC calcs -> \n",
    " - run KMC -> \n",
    " - calculate mobility\n",
    "\n",
    "current schema:\n",
    " - xml file\n",
    " - chromphore params set in par.py\n",
    " - if starting with atomistic, we can skip fine graining and molecular dynamics and only run:\n",
    "     - execute_obtain_chromophores = False                                             \n",
    "     - execute_ZINDO = False                                                           \n",
    "     - execute_calculate_transfer_integrals = False                                    \n",
    "     - execute_calculate_mobility = False    "
   ]
  },
  {
   "cell_type": "code",
   "execution_count": 1,
   "id": "grand-indiana",
   "metadata": {},
   "outputs": [
    {
     "name": "stderr",
     "output_type": "stream",
     "text": [
      "/Users/jenny/miniconda3/envs/morphct-dev/lib/python3.7/site-packages/mdtraj/core/trajectory.py:32: DeprecationWarning: Using or importing the ABCs from 'collections' instead of from 'collections.abc' is deprecated since Python 3.3,and in 3.9 it will stop working\n",
      "  from collections import Iterable\n"
     ]
    }
   ],
   "source": [
    "import os\n",
    "import pickle\n",
    "import multiprocessing as mp\n",
    "\n",
    "import mbuild as mb\n",
    "import numpy as np\n",
    "import pyscf\n",
    "from pyscf.semiempirical import MINDO3\n",
    "\n",
    "from morphct import single_core_run_mob_KMC as run_kmc\n",
    "from morphct import obtain_chromophores as oc\n",
    "from morphct import transfer_integrals as ti\n",
    "from morphct import execute_QCC as eqcc\n",
    "from morphct import mobility_KMC as kmc\n",
    "from morphct.utils import KMC_analyse"
   ]
  },
  {
   "cell_type": "markdown",
   "id": "mediterranean-thomas",
   "metadata": {},
   "source": [
    "OK, so I'm looking around for an xml file in the \"obtain chromophores\" tests but all I can find are these pickle files. I want to view them before I continue. ovito and vmd no longer support xmls... gah --> using mbuild."
   ]
  },
  {
   "cell_type": "code",
   "execution_count": 2,
   "id": "integrated-certificate",
   "metadata": {},
   "outputs": [],
   "source": [
    "path = \"tests/assets/donor_polymer/OC/donor_polymer_post_obtain_chromophores.pickle\"\n",
    "(\n",
    "    AA_morphdict, \n",
    "    CG_morphdict, \n",
    "    CGtoAAID_list, \n",
    "    param_dict, \n",
    "    chromo_list\n",
    ") = pickle.load(open(path,\"rb\"))"
   ]
  },
  {
   "cell_type": "code",
   "execution_count": 3,
   "id": "individual-helping",
   "metadata": {},
   "outputs": [],
   "source": [
    "#print(AA_morphdict.keys()) \n",
    "# 'xy', 'mass', 'lx', 'improper', 'body', 'unwrapped_position', 'natoms', \n",
    "# 'position', 'yz', 'xz', 'dimensions', 'ly', 'image', 'charge', 'lz', 'angle', \n",
    "# 'diameter', 'bond', 'time_step', 'type', 'dihedral'\n",
    "\n",
    "#print(CG_morphdict.keys()) \n",
    "# same as above\n",
    "\n",
    "#print(CGtoAAID_list) \n",
    "# {0: ['A', [0, 1, 2, 3, 4, 24]] includes attached hydrogen\n",
    "# where A beads are thiophenes, B and C beads are first and second three alkyl carbons\n",
    "\n",
    "#print(param_dict.keys())\n",
    "# so many things...\n",
    "\n",
    "#print(chromo_list[0])\n",
    "# list of chromophore class objects"
   ]
  },
  {
   "cell_type": "code",
   "execution_count": 4,
   "id": "excellent-salon",
   "metadata": {},
   "outputs": [],
   "source": [
    "#comp = mb.Compound()\n",
    "#for name, pos in zip(AA_morphdict[\"type\"],AA_morphdict[\"unwrapped_position\"]):\n",
    "#    name = name.strip(\"0123456789\")\n",
    "#    comp.add(mb.Particle(name=name, pos=np.array(pos)/10)) #convert to nm in mbuild\n",
    "#ps = [p for p in comp.particles()]\n",
    "#for _, i, j in AA_morphdict[\"bond\"]:\n",
    "#    comp.add_bond((ps[i],ps[j]))\n",
    "#    \n",
    "#comp.visualize().show()"
   ]
  },
  {
   "cell_type": "markdown",
   "id": "adaptive-parks",
   "metadata": {},
   "source": [
    "OK, so we have 2 all-atom p3ht 15mers. 30 chromophores makes sense."
   ]
  },
  {
   "cell_type": "code",
   "execution_count": 5,
   "id": "toxic-vector",
   "metadata": {},
   "outputs": [
    {
     "name": "stdout",
     "output_type": "stream",
     "text": [
      "30\n",
      "['AAIDs', 'CGIDs', 'CG_types', 'HOMO', 'HOMO_1', 'ID', 'LUMO', 'LUMO_1', 'VRH_delocalisation', '__class__', '__delattr__', '__dict__', '__dir__', '__doc__', '__eq__', '__format__', '__ge__', '__getattribute__', '__gt__', '__hash__', '__init__', '__init_subclass__', '__le__', '__lt__', '__module__', '__ne__', '__new__', '__reduce__', '__reduce_ex__', '__repr__', '__setattr__', '__sizeof__', '__str__', '__subclasshook__', '__weakref__', 'bonds', 'dissociation_neighbours', 'get_MO_energy', 'get_important_bonds', 'image', 'neighbours', 'neighbours_TI', 'neighbours_delta_E', 'obtain_chromophore_COM', 'obtain_electronic_species', 'orca_input', 'orca_output', 'posn', 'reorganisation_energy', 'species', 'sub_species', 'terminate', 'unwrapped_posn']\n"
     ]
    }
   ],
   "source": [
    "print(len(chromo_list))\n",
    "chromo = chromo_list[0]\n",
    "print(dir(chromo))"
   ]
  },
  {
   "cell_type": "code",
   "execution_count": 6,
   "id": "arbitrary-contemporary",
   "metadata": {},
   "outputs": [],
   "source": [
    "#print(len(chromo.AAIDs))\n",
    "#for i in chromo.AAIDs:\n",
    "#    ps[i].name = \"x\"\n",
    "#comp.visualize().show()"
   ]
  },
  {
   "cell_type": "markdown",
   "id": "broken-temperature",
   "metadata": {},
   "source": [
    "Each chromophore is defined as one monomer.\n",
    "\n",
    "All the HOMO,LUMO info has not been set, the file path doesn't exist, and the neighbors havent been set"
   ]
  },
  {
   "cell_type": "code",
   "execution_count": 7,
   "id": "respective-employment",
   "metadata": {},
   "outputs": [
    {
     "name": "stdout",
     "output_type": "stream",
     "text": [
      "None None\n",
      "donor\n",
      "/chromophores/output_orca/single/00000.out\n",
      "[]\n"
     ]
    }
   ],
   "source": [
    "print(chromo.HOMO, chromo.LUMO)\n",
    "print(chromo.species)\n",
    "print(chromo.orca_output)\n",
    "print(chromo.neighbours)"
   ]
  },
  {
   "cell_type": "markdown",
   "id": "reported-temperature",
   "metadata": {},
   "source": [
    "First let's fix the path -- we need to change the directories in the param_dict because they reference mattys computer. I'm making a new folder in the root dir called `notebook_output`. Then in that folder I had to make sure this dir structure exists in that folder:\n",
    "```\n",
    "/chromophores/ -+- input_orca/ -+- single/\n",
    "                |               |\n",
    "                |               +- pair/\n",
    "                |\n",
    "                +- output_orca/ -+- single/\n",
    "                                 |\n",
    "                                 +- pair/\n",
    "```\n",
    "\n",
    "*I have since change the code for this so it is no longer necessary*"
   ]
  },
  {
   "cell_type": "code",
   "execution_count": 8,
   "id": "single-scoop",
   "metadata": {},
   "outputs": [
    {
     "name": "stdout",
     "output_type": "stream",
     "text": [
      "/home/mattyjones/Software/morphct/tests/output_OC/donor_polymer\n"
     ]
    }
   ],
   "source": [
    "print(param_dict[\"output_orca_directory\"])"
   ]
  },
  {
   "cell_type": "code",
   "execution_count": 9,
   "id": "utility-giant",
   "metadata": {},
   "outputs": [
    {
     "name": "stdout",
     "output_type": "stream",
     "text": [
      "/Users/jenny/Projects/morphct/notebook_output/\n"
     ]
    }
   ],
   "source": [
    "outpath = os.path.join(os.getcwd(),\"notebook_output/\")\n",
    "print(outpath)\n",
    "param_dict[\"output_orca_directory\"] = outpath"
   ]
  },
  {
   "cell_type": "markdown",
   "id": "fabulous-reset",
   "metadata": {},
   "source": [
    "Next let's get the neighbors"
   ]
  },
  {
   "cell_type": "code",
   "execution_count": 10,
   "id": "emerging-tumor",
   "metadata": {},
   "outputs": [],
   "source": [
    "# I changed the spelling because I am not British and it kept throwing me off\n",
    "for chromo in chromo_list:\n",
    "    chromo.neighbors = chromo.neighbours\n",
    "    chromo.dissociation_neighbors = chromo.dissociation_neighbours\n",
    "    chromo.neighbors_delta_E = chromo.neighbours_delta_E\n",
    "    chromo.neighbors_TI = chromo.neighbours_TI"
   ]
  },
  {
   "cell_type": "code",
   "execution_count": 11,
   "id": "alpha-miami",
   "metadata": {},
   "outputs": [
    {
     "name": "stdout",
     "output_type": "stream",
     "text": [
      "Calculating Neighbours of All Moieties\n",
      "Updating the chromophore list for dissociation neighbors\n"
     ]
    }
   ],
   "source": [
    "sim_dims = [                                                                \n",
    "    [-AA_morphdict[\"lx\"] / 2.0, AA_morphdict[\"lx\"] / 2.0],      \n",
    "    [-AA_morphdict[\"ly\"] / 2.0, AA_morphdict[\"ly\"] / 2.0],      \n",
    "    [-AA_morphdict[\"lz\"] / 2.0, AA_morphdict[\"lz\"] / 2.0],      \n",
    "]   \n",
    "chromo_list = oc.chromo_sort(chromo_list)\n",
    "chromo_list = oc.determine_neighbors_voronoi(                        \n",
    "    chromo_list, param_dict, sim_dims                          \n",
    ") "
   ]
  },
  {
   "cell_type": "markdown",
   "id": "speaking-geometry",
   "metadata": {},
   "source": [
    "The files are created by `morphct/code/execute_ZINDO.py` `create_input_files(chromophore_list, AA_morphology_dict, parameter_dict)`\n",
    "The HOMO/LUMO gets set in `morphct/code/transfer_integrals.py` `load_orca_output(file_name)`"
   ]
  },
  {
   "cell_type": "code",
   "execution_count": 12,
   "id": "bronze-imagination",
   "metadata": {},
   "outputs": [
    {
     "name": "stdout",
     "output_type": "stream",
     "text": [
      "There are 296 total neighbor pairs to consider.\n"
     ]
    }
   ],
   "source": [
    "qcc_pairs = eqcc.create_inputs(chromo_list, AA_morphdict, param_dict)\n",
    "#print(qcc_pairs[0])\n",
    "# (i,j), mol_str "
   ]
  },
  {
   "cell_type": "markdown",
   "id": "quick-block",
   "metadata": {},
   "source": [
    "OK ~this writes 30 inputs but no pairs--some neighborlist analysis must need done first~ \n",
    "\n",
    "after neighbor list all files are written\n",
    "\n",
    "next need to run ZINDO\n",
    "\n",
    "`ti.load_orca_output(file_name)` returns HOMO-1, HOMO, LUMO, LUMO+1"
   ]
  },
  {
   "cell_type": "code",
   "execution_count": 13,
   "id": "coral-angel",
   "metadata": {},
   "outputs": [],
   "source": [
    "#def get_homolumo(molstr, verbose=False, send_end=None):\n",
    "#    mol = pyscf.M(atom=molstr)\n",
    "#    mf = MINDO3(mol).run(verbose=verbose, conv_tol=1e-6)\n",
    "#    occ = mf.get_occ()\n",
    "#    i_lumo = np.argmax(occ<1)\n",
    "#    energies = mf.mo_energy[i_lumo-2:i_lumo+2]\n",
    "#    energies *= 27.2114 # convert Eh to eV\n",
    "#    if send_end is not None:\n",
    "#        send_end.send(energies)\n",
    "#        return\n",
    "#    return energies"
   ]
  },
  {
   "cell_type": "code",
   "execution_count": 14,
   "id": "earlier-norfolk",
   "metadata": {},
   "outputs": [
    {
     "data": {
      "text/plain": [
       "array([-8.95578835, -8.52733362,  0.60981961,  0.96338829])"
      ]
     },
     "execution_count": 14,
     "metadata": {},
     "output_type": "execute_result"
    }
   ],
   "source": [
    "eqcc.get_homolumo(chromo_list[0].qcc_input)"
   ]
  },
  {
   "cell_type": "code",
   "execution_count": 15,
   "id": "mathematical-coaching",
   "metadata": {},
   "outputs": [],
   "source": [
    "#def set_homolumo(chromo_list):\n",
    "#    for chromo in chromo_list:\n",
    "#        (chromo.HOMO_1, \n",
    "#         chromo.HOMO, \n",
    "#         chromo.LUMO, \n",
    "#         chromo.LUMO_1) = eqcc.get_homolumo(chromo.qcc_input)\n",
    "#        \n",
    "#def set_homolumo(chromo):\n",
    "#    (chromo.HOMO_1, \n",
    "#     chromo.HOMO, \n",
    "#     chromo.LUMO, \n",
    "#     chromo.LUMO_1) = eqcc.get_homolumo(chromo.qcc_input)"
   ]
  },
  {
   "cell_type": "code",
   "execution_count": 16,
   "id": "systematic-claim",
   "metadata": {},
   "outputs": [],
   "source": [
    "#%%time\n",
    "#set_homolumo(chromo_list)\n",
    "#\n",
    "#CPU times: user 14.7 s, sys: 1.18 s, total: 15.9 s\n",
    "#Wall time: 9.6 s"
   ]
  },
  {
   "cell_type": "code",
   "execution_count": 17,
   "id": "empirical-teaching",
   "metadata": {},
   "outputs": [],
   "source": [
    "#def split(l, n):\n",
    "#    k, m = divmod(len(l), n)\n",
    "#    return list(l[i * k + min(i, m):(i + 1) * k + min(i + 1, m)] for i in range(n))"
   ]
  },
  {
   "cell_type": "code",
   "execution_count": 18,
   "id": "valuable-beaver",
   "metadata": {},
   "outputs": [],
   "source": [
    "#np.array_split(chromo_list, 4)\n",
    "#help(mp.Pool)"
   ]
  },
  {
   "cell_type": "code",
   "execution_count": 19,
   "id": "tutorial-nancy",
   "metadata": {},
   "outputs": [],
   "source": [
    "#%%time\n",
    "#\n",
    "#nprocs = mp.cpu_count()\n",
    "#\n",
    "#p = mp.Pool(processes=nprocs)\n",
    "#data = p.map(get_homolumo, [i.qcc_input for i in chromo_list])\n",
    "#p.close()\n",
    "#\n",
    "#CPU times: user 15.4 ms, sys: 23.1 ms, total: 38.4 ms\n",
    "#Wall time: 5.66 s"
   ]
  },
  {
   "cell_type": "code",
   "execution_count": 20,
   "id": "difficult-virtue",
   "metadata": {},
   "outputs": [],
   "source": [
    "#%%time\n",
    "#\n",
    "#p = mp.Pool(processes=len(chromo_list))\n",
    "#p.map(get_homolumo, [i.qcc_input for i in chromo_list])\n",
    "#p.close()\n",
    "#\n",
    "#CPU times: user 62.7 ms, sys: 117 ms, total: 179 ms\n",
    "#Wall time: 8.73 s\n",
    "# More procs != faster"
   ]
  },
  {
   "cell_type": "code",
   "execution_count": 21,
   "id": "daily-vietnam",
   "metadata": {},
   "outputs": [
    {
     "data": {
      "text/plain": [
       "'/Users/jenny/Projects/morphct/notebook_output/singles_energies.txt'"
      ]
     },
     "execution_count": 21,
     "metadata": {},
     "output_type": "execute_result"
    }
   ],
   "source": [
    "s_filename = os.path.join(outpath, \"singles_energies.txt\")\n",
    "s_filename"
   ]
  },
  {
   "cell_type": "code",
   "execution_count": 22,
   "id": "second-guitar",
   "metadata": {},
   "outputs": [],
   "source": [
    "def singles_homolumo(chromo_list, filename, nprocs=None):\n",
    "    if nprocs is not None:\n",
    "        nprocs = mp.cpu_count()\n",
    "\n",
    "    p = mp.Pool(processes=nprocs)\n",
    "    data = p.map(eqcc.get_homolumo, [i.qcc_input for i in chromo_list])\n",
    "    p.close()\n",
    "    data = np.stack(data)\n",
    "    np.savetxt(filename, data)\n",
    "    return data"
   ]
  },
  {
   "cell_type": "code",
   "execution_count": 23,
   "id": "natural-retrieval",
   "metadata": {},
   "outputs": [],
   "source": [
    "#%%time\n",
    "#data = singles_homolumo(chromo_list, s_filename)\n",
    "#\n",
    "#CPU times: user 17 ms, sys: 25.6 ms, total: 42.5 ms\n",
    "#Wall time: 4.01 s"
   ]
  },
  {
   "cell_type": "markdown",
   "id": "political-banner",
   "metadata": {},
   "source": [
    "This gets the energy values of the chromophores using the single inputs. The neighbor energy values are not set:"
   ]
  },
  {
   "cell_type": "code",
   "execution_count": 24,
   "id": "ambient-imaging",
   "metadata": {},
   "outputs": [
    {
     "name": "stdout",
     "output_type": "stream",
     "text": [
      "None\n",
      "27 27\n",
      "None\n"
     ]
    }
   ],
   "source": [
    "print(chromo.HOMO)\n",
    "print(len(chromo.neighbours), len(chromo.neighbours_delta_E))\n",
    "print(chromo.neighbours_delta_E[0])"
   ]
  },
  {
   "cell_type": "markdown",
   "id": "gross-underwear",
   "metadata": {},
   "source": [
    "next look in morphct/code/transfer_integrals.py"
   ]
  },
  {
   "cell_type": "code",
   "execution_count": 25,
   "id": "forward-sellers",
   "metadata": {},
   "outputs": [],
   "source": [
    "def singles_homolumo(chromo_list, filename=None, nprocs=None):\n",
    "    if nprocs is not None:\n",
    "        nprocs = mp.cpu_count()\n",
    "\n",
    "    p = mp.Pool(processes=nprocs)\n",
    "    data = p.map(eqcc.get_homolumo, [i.qcc_input for i in chromo_list])\n",
    "    p.close()\n",
    "    data = np.stack(data)\n",
    "    if filename is not None:\n",
    "        np.savetxt(filename, data)\n",
    "    return data\n",
    "\n",
    "\n",
    "def dimer_homolumo(qcc_pairs, filename=None, nprocs=None):\n",
    "    if nprocs is not None:\n",
    "        nprocs = mp.cpu_count()\n",
    "        \n",
    "    p = mp.Pool(processes=nprocs)\n",
    "    data = p.map(eqcc.get_homolumo, [qcc_input for pair,qcc_input in qcc_pairs])\n",
    "    p.close()\n",
    "    \n",
    "    dimer_data = [i for i in zip([pair for pair,qcc_input in qcc_pairs],data)]\n",
    "    if filename is not None:\n",
    "        with open(filename, \"w\") as f:\n",
    "            f.writelines(\n",
    "                f\"{pair[0]} {pair[1]} {en[0]} {en[1]} {en[2]} {en[3]}\\n\" \n",
    "                for pair,en in dimer_data\n",
    "            )\n",
    "    return dimer_data"
   ]
  },
  {
   "cell_type": "code",
   "execution_count": 26,
   "id": "growing-mississippi",
   "metadata": {},
   "outputs": [
    {
     "data": {
      "text/plain": [
       "'/Users/jenny/Projects/morphct/notebook_output/dimer_energies.txt'"
      ]
     },
     "execution_count": 26,
     "metadata": {},
     "output_type": "execute_result"
    }
   ],
   "source": [
    "d_filename = os.path.join(outpath, \"dimer_energies.txt\")\n",
    "d_filename"
   ]
  },
  {
   "cell_type": "code",
   "execution_count": 27,
   "id": "recognized-intent",
   "metadata": {},
   "outputs": [],
   "source": [
    "#%%time\n",
    "#dimer_data = dimer_homolumo(qcc_pairs,d_filename)\n",
    "#\n",
    "#CPU times: user 358 ms, sys: 146 ms, total: 504 ms\n",
    "#Wall time: 2min 22s --SLOW, but used to be slow see below\n",
    "\n",
    "\n",
    "#def dimer_homolumo(qcc_pairs):\n",
    "#    dimer_homolumo = []\n",
    "#    for pair, qcc_input in qcc_pairs:\n",
    "#        HOMO_1, HOMO, LUMO, LUMO_1 = get_homolumo(qcc_input)\n",
    "#        dimer_homolumo.append((pair,(HOMO_1, HOMO, LUMO, LUMO_1)))\n",
    "#    return dimer_homolumo\n",
    "\n",
    "#%%time\n",
    "#dimer_homolumo = get_dimerhomolumo(qcc_pairs)\n",
    "#\n",
    "#with open(\"notebook_output/dimer_homolumo.txt\", \"w\") as f:\n",
    "#    for (i,j), (a,b,c,d) in dimer_homolumo:\n",
    "#        f.write(f\"{i} {j} {a} {b} {c} {d}\\n\")\n",
    "#\n",
    "##OUTPUT:\n",
    "#CPU times: user 10min 30s, sys: 2min 44s, total: 13min 14s\n",
    "#Wall time: 4min 16s"
   ]
  },
  {
   "cell_type": "code",
   "execution_count": 28,
   "id": "illegal-jimmy",
   "metadata": {},
   "outputs": [],
   "source": [
    "def get_dimerdata(filename):\n",
    "    dimer_data = []\n",
    "    with open(filename, \"r\") as f:\n",
    "        for i in f.readlines():\n",
    "            a,b,c,d,e,f = i.split()\n",
    "            dimer_data.append(\n",
    "                ((int(a),int(b)),(float(c),float(d),float(e),float(f)))\n",
    "            )\n",
    "    return dimer_data\n",
    "\n",
    "def get_singlesdata(filename):\n",
    "    return np.loadtxt(filename)"
   ]
  },
  {
   "cell_type": "code",
   "execution_count": 29,
   "id": "moderate-bidder",
   "metadata": {},
   "outputs": [
    {
     "name": "stdout",
     "output_type": "stream",
     "text": [
      "[-8.95578835 -8.52733362  0.60981961  0.96338829]\n",
      "((0, 1), (-8.705081734274161, -8.191204368844307, -0.09856073082029772, 0.5309429429768204))\n"
     ]
    }
   ],
   "source": [
    "data = get_singlesdata(s_filename)\n",
    "print(data[0])\n",
    "dimer_data = get_dimerdata(d_filename)\n",
    "print(dimer_data[0])"
   ]
  },
  {
   "cell_type": "code",
   "execution_count": 30,
   "id": "studied-texas",
   "metadata": {},
   "outputs": [],
   "source": [
    "def set_energyvalues(chromo_list, s_filename, d_filename):\n",
    "    s_data = get_singlesdata(s_filename)\n",
    "    d_data = get_dimerdata(d_filename)\n",
    "\n",
    "    for i,chromo in enumerate(chromo_list):\n",
    "        chromo.HOMO_1, chromo.HOMO, chromo.LUMO, chromo.LUMO_1 = s_data[i]\n",
    "        \n",
    "    for (i,j), (HOMO_1, HOMO, LUMO, LUMO_1) in d_data:\n",
    "        chromo1 = chromo_list[i]\n",
    "        chromo2 = chromo_list[j]\n",
    "        neighborind1 = [i[0] for i in chromo1.neighbors].index(j)\n",
    "        neighborind2 = [i[0] for i in chromo2.neighbors].index(i)\n",
    "        deltaE = ti.calculate_delta_E(chromo1,chromo2)\n",
    "        chromo1.neighbors_delta_E[neighborind1] = deltaE\n",
    "        chromo2.neighbors_delta_E[neighborind2] = -deltaE\n",
    "        \n",
    "        assert chromo1.species == chromo2.species\n",
    "        if chromo1.species.lower() == \"donor\":\n",
    "            TI = ti.calculate_TI(HOMO - HOMO_1, deltaE)           \n",
    "        else:                                 \n",
    "            TI = ti.calculate_TI(LUMO - LUMO_1, deltaE) \n",
    "        chromo1.neighbors_TI[neighborind1] = TI\n",
    "        chromo2.neighbors_TI[neighborind2] = TI"
   ]
  },
  {
   "cell_type": "code",
   "execution_count": 31,
   "id": "imposed-collapse",
   "metadata": {},
   "outputs": [],
   "source": [
    "set_energyvalues(chromo_list, s_filename, d_filename)"
   ]
  },
  {
   "cell_type": "code",
   "execution_count": 32,
   "id": "interim-snowboard",
   "metadata": {},
   "outputs": [
    {
     "name": "stdout",
     "output_type": "stream",
     "text": [
      "-8.553011257275468\n",
      "27 27\n",
      "0.025677635737253013\n"
     ]
    }
   ],
   "source": [
    "print(chromo.HOMO)\n",
    "print(len(chromo.neighbours), len(chromo.neighbours_delta_E))\n",
    "print(chromo.neighbours_delta_E[0])"
   ]
  },
  {
   "cell_type": "markdown",
   "id": "isolated-interface",
   "metadata": {},
   "source": [
    "OK, I think I should be ready to run KMC. Before it'll work we need to add some things to the param dict and change some paths.\n",
    "\n",
    "```\n",
    "notebook_outputs/KMC/ \n",
    "```"
   ]
  },
  {
   "cell_type": "code",
   "execution_count": 33,
   "id": "immediate-commission",
   "metadata": {},
   "outputs": [],
   "source": [
    "param_dict['simulation_times'] = [1.00e-13, 1.00e-12]\n",
    "param_dict[\"number_of_holes_per_simulation_time\"] = 10  \n",
    "param_dict[\"number_of_electrons_per_simulation_time\"] = 0 \n",
    "param_dict[\"combine_KMC_results\"] = True\n",
    "param_dict[\"record_carrier_history\"] = True\n",
    "param_dict[\"hop_limit\"] = 0\n",
    "param_dict[\"system_temperature\"] = 300 # In Kelvin\n",
    "param_dict[\"output_morphology_directory\"] = outpath"
   ]
  },
  {
   "cell_type": "code",
   "execution_count": 34,
   "id": "threaded-median",
   "metadata": {},
   "outputs": [],
   "source": [
    "jobs_list = kmc.main(AA_morphdict, CG_morphdict, CGtoAAID_list, param_dict, chromo_list)"
   ]
  },
  {
   "cell_type": "code",
   "execution_count": 35,
   "id": "greek-isolation",
   "metadata": {},
   "outputs": [
    {
     "data": {
      "text/plain": [
       "[[5, 1e-13, 'hole'],\n",
       " [1, 1e-13, 'hole'],\n",
       " [3, 1e-13, 'hole'],\n",
       " [8, 1e-12, 'hole'],\n",
       " [5, 1e-12, 'hole']]"
      ]
     },
     "execution_count": 35,
     "metadata": {},
     "output_type": "execute_result"
    }
   ],
   "source": [
    "jobs_list[0]"
   ]
  },
  {
   "cell_type": "code",
   "execution_count": 36,
   "id": "studied-privilege",
   "metadata": {},
   "outputs": [],
   "source": [
    "KMC_directory = os.path.join(outpath, \"KMC\")"
   ]
  },
  {
   "cell_type": "code",
   "execution_count": 37,
   "id": "asian-mexico",
   "metadata": {},
   "outputs": [],
   "source": [
    "running_jobs = []\n",
    "pipes = []\n",
    "\n",
    "for proc_ID, jobs in enumerate(jobs_list):\n",
    "    child_seed = np.random.randint(0, 2 ** 32)\n",
    "    \n",
    "    recv_end, send_end = mp.Pipe(False)\n",
    "    p = mp.Process(target=run_kmc.main, args=(\n",
    "        jobs,\n",
    "        KMC_directory,                                                          \n",
    "        AA_morphdict,                                                           \n",
    "        CG_morphdict,                                                           \n",
    "        CGtoAAID_list,                                                          \n",
    "        param_dict,                                                             \n",
    "        chromo_list,                                                            \n",
    "        proc_ID,                                                               \n",
    "        child_seed,\n",
    "        send_end\n",
    "    ))\n",
    "    running_jobs.append(p)\n",
    "    pipes.append(recv_end)\n",
    "    p.start()\n",
    "\n",
    "# wait for all jobs to finish\n",
    "for p in running_jobs:\n",
    "    p.join()\n",
    "    \n",
    "carrier_data_list = [x.recv() for x in pipes]"
   ]
  },
  {
   "cell_type": "code",
   "execution_count": 38,
   "id": "fancy-complaint",
   "metadata": {},
   "outputs": [
    {
     "name": "stdout",
     "output_type": "stream",
     "text": [
      "All KMC jobs completed!\n",
      "Combining outputs...\n"
     ]
    }
   ],
   "source": [
    "# Now combine the carrier data\n",
    "print(\"All KMC jobs completed!\")\n",
    "if param_dict[\"combine_KMC_results\"] is True:\n",
    "    print(\"Combining outputs...\")\n",
    "    combined_data = {}\n",
    "    for carrier_data in carrier_data_list:\n",
    "        for key, val in carrier_data.items():\n",
    "                if key not in combined_data:\n",
    "                    combined_data[key] = val\n",
    "                else:\n",
    "                    combined_data[key] += val\n",
    "    #print(combined_data)"
   ]
  },
  {
   "cell_type": "code",
   "execution_count": 39,
   "id": "ready-colony",
   "metadata": {},
   "outputs": [
    {
     "name": "stdout",
     "output_type": "stream",
     "text": [
      "\n",
      "\n",
      "---------- KMC_ANALYSE ----------\n",
      "/Users/jenny/Projects/morphct/notebook_output/KMC\n",
      "---------------------------------\n",
      "Considering the transport of hole...\n",
      "Obtaining mean squared displacements...\n",
      "Plotting distribution of carrier displacements\n",
      "Figure saved as /Users/jenny/Projects/morphct/notebook_output/KMC/figures/30_hole_displacement_dist.png\n",
      "Calculating mobility...\n",
      "Standard Error 0.0\n",
      "Fitting r_val = 1.0\n",
      "Figure saved as /Users/jenny/Projects/morphct/notebook_output/KMC/figures/18_lin_MSD_hole.png\n",
      "Figure saved as /Users/jenny/Projects/morphct/notebook_output/KMC/figures/20_semi_log_MSD_hole.png\n",
      "Figure saved as /Users/jenny/Projects/morphct/notebook_output/KMC/figures/22_log_MSD_hole.png\n",
      "----------------------------------------\n",
      "Hole mobility for /Users/jenny/Projects/morphct/notebook_output/KMC = 6.07E-01 +- 7.85E-02 cm^{2} V^{-1} s^{-1}\n",
      "----------------------------------------\n",
      "Plotting hop vector distribution\n",
      "Calculating carrier trajectory anisotropy...\n",
      "Plotting carrier hop frequency distribution...\n",
      "Figure saved as /Users/jenny/Projects/morphct/notebook_output/KMC/figures/24_total_hop_freq_hole.png\n",
      "Plotting carrier net hop frequency distribution...\n",
      "Figure saved as /Users/jenny/Projects/morphct/notebook_output/KMC/figures/26_net_hop_freq_hole.png\n",
      "Plotting ((total hops) - (net hops)) discrepancy distribution...\n",
      "There are 0 paths in this morphology with one-way transport.\n",
      "There are 3 paths in this morphology with total - net < 10.\n",
      "Figure saved as /Users/jenny/Projects/morphct/notebook_output/KMC/figures/28_hop_discrepancy_hole.png\n",
      "Determining molecule IDs...\n",
      "Donor HOMO Level = -8.52156003964363 +/- 0.004079745040817785\n",
      "Donor Delta E_ij stats: mean = 0.0 +/- 0.001289963218453604\n",
      "Figure saved as /Users/jenny/Projects/morphct/notebook_output/KMC/figures/06_donor_delta_E_ij.png\n",
      "Neighbour histogram figure saved as /Users/jenny/Projects/morphct/notebook_output/KMC/figures/04_neighbor_hist_donor.png\n",
      "Orientation histogram figure saved as /Users/jenny/Projects/morphct/notebook_output/KMC/figures/34_orientation_hist_donor.png\n",
      "Figure saved as /Users/jenny/Projects/morphct/notebook_output/KMC/figures/10_donor_transfer_integral_mols.png\n",
      "Figure saved as /Users/jenny/Projects/morphct/notebook_output/KMC/figures/11_acceptor_transfer_integral_mols.png\n",
      "Cut-offs specified (value format: [donor, acceptor]) = {'separation': [None, None], 'orientation': [None, None], 'TI': [None, None], 'freq': [None, None]}\n",
      "Examining the donor material...\n",
      "Obtaining orientations of each chromophore...\n",
      "Calculating clusters...\n",
      "----------------------------------------\n",
      "Detected 1 donor clusters in total.\n",
      "Detected 1 donor clusters with size > 6.\n",
      "Largest cluster size = 30 chromophores.\n",
      "Ratio of chromophores in \"large\" clusters (psi): 1.000\n",
      "----------------------------==----------\n",
      "Examining the acceptor material...\n",
      "No material found. Continuing...\n",
      "Mean intra-cluster donor rate = 73531230072855.02 +/- 2561586175978.3647\n",
      "Mean inter-cluster donor rate = nan +/- nan\n"
     ]
    },
    {
     "name": "stderr",
     "output_type": "stream",
     "text": [
      "/Users/jenny/miniconda3/envs/morphct-dev/lib/python3.7/site-packages/numpy/core/fromnumeric.py:2920: RuntimeWarning: Mean of empty slice.\n",
      "  out=out, **kwargs)\n",
      "/Users/jenny/miniconda3/envs/morphct-dev/lib/python3.7/site-packages/numpy/core/_methods.py:85: RuntimeWarning: invalid value encountered in double_scalars\n",
      "  ret = ret.dtype.type(ret / rcount)\n",
      "/Users/jenny/miniconda3/envs/morphct-dev/lib/python3.7/site-packages/numpy/core/_methods.py:140: RuntimeWarning: Degrees of freedom <= 0 for slice\n",
      "  keepdims=keepdims)\n",
      "/Users/jenny/miniconda3/envs/morphct-dev/lib/python3.7/site-packages/numpy/core/_methods.py:110: RuntimeWarning: invalid value encountered in true_divide\n",
      "  arrmean, rcount, out=arrmean, casting='unsafe', subok=False)\n",
      "/Users/jenny/miniconda3/envs/morphct-dev/lib/python3.7/site-packages/numpy/core/_methods.py:132: RuntimeWarning: invalid value encountered in double_scalars\n",
      "  ret = ret.dtype.type(ret / rcount)\n"
     ]
    },
    {
     "name": "stdout",
     "output_type": "stream",
     "text": [
      "Figure saved as /Users/jenny/Projects/morphct/notebook_output/KMC/figures/16_donor_hopping_rate_clusters.png\n",
      "Figure saved as /Users/jenny/Projects/morphct/notebook_output/KMC/figures/12_donor_transfer_integral_clusters.png\n",
      "Mean intra-molecular donor rate = 182209289719023.88 +/- 9783484997893.129\n",
      "Mean inter-molecular donor rate = 13719135740.805891 +/- 194249406.8027301\n",
      "Figure saved as /Users/jenny/Projects/morphct/notebook_output/KMC/figures/14_donor_hopping_rate_mols.png\n",
      "Plotting cluster size distribution...\n"
     ]
    },
    {
     "name": "stderr",
     "output_type": "stream",
     "text": [
      "/Users/jenny/Projects/morphct/morphct/utils/KMC_analyse.py:217: UserWarning: Attempted to set non-positive left xlim on a log-scaled axis.\n",
      "Invalid limit will be ignored.\n",
      "  plt.xlim([0, 10 ** (np.ceil(np.max(sizes)))])\n"
     ]
    },
    {
     "name": "stdout",
     "output_type": "stream",
     "text": [
      "Figure saved as /Users/jenny/Projects/morphct/notebook_output/KMC/figures/32_hole_cluster_dist.png\n",
      "Writing CSV Output File...\n",
      "CSV file written to /Users/jenny/Projects/morphct/notebook_output/KMC/results.csv\n",
      "Plotting Mobility and Anisotropy progressions...\n",
      "Skipping plotting mobility evolution.\n"
     ]
    }
   ],
   "source": [
    "KMC_analyse.main(\n",
    "    AA_morphdict, \n",
    "    CG_morphdict, \n",
    "    CGtoAAID_list, \n",
    "    param_dict,                                                             \n",
    "    chromo_list,                                                            \n",
    "    [combined_data],                                                      \n",
    "    KMC_directory\n",
    ")"
   ]
  },
  {
   "cell_type": "raw",
   "id": "virgin-indian",
   "metadata": {},
   "source": []
  }
 ],
 "metadata": {
  "kernelspec": {
   "display_name": "Python 3",
   "language": "python",
   "name": "python3"
  },
  "language_info": {
   "codemirror_mode": {
    "name": "ipython",
    "version": 3
   },
   "file_extension": ".py",
   "mimetype": "text/x-python",
   "name": "python",
   "nbconvert_exporter": "python",
   "pygments_lexer": "ipython3",
   "version": "3.7.9"
  }
 },
 "nbformat": 4,
 "nbformat_minor": 5
}

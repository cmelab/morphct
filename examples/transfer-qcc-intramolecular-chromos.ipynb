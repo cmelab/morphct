{
 "cells": [
  {
   "cell_type": "markdown",
   "id": "4fe6b92b",
   "metadata": {},
   "source": [
    "# Intramolecular\n",
    "\n"
   ]
  },
  {
   "cell_type": "markdown",
   "id": "94d24f12",
   "metadata": {},
   "source": [
    "First let's import necessary modules and define a couple of useful functions for visualization:"
   ]
  },
  {
   "cell_type": "code",
   "execution_count": 1,
   "id": "f0af4802",
   "metadata": {
    "tags": []
   },
   "outputs": [],
   "source": [
    "from copy import deepcopy\n",
    "import os\n",
    "import multiprocessing as mp\n",
    "\n",
    "import gsd.hoomd\n",
    "import mbuild as mb\n",
    "import numpy as np\n",
    "import gsd.pygsd\n",
    "from morphct import execute_qcc as eqcc\n",
    "from morphct import mobility_kmc as kmc\n",
    "from morphct import chromophores\n",
    "from morphct import kmc_analyze\n",
    "from morphct.chromophores import conversion_dict\n",
    "from morphct.chromophores import amber_dict\n",
    "\n",
    "def visualize_qcc_input(qcc_input):\n",
    "    \"\"\"\n",
    "    Visualize a quantum chemical input string (for pyscf) using mbuild.\n",
    "    \n",
    "    Parameters\n",
    "    ----------\n",
    "    qcc_input : str\n",
    "        Input string to visualize\n",
    "    \"\"\"\n",
    "    comp = mb.Compound()\n",
    "    for line in qcc_input.split(\";\")[:-1]:\n",
    "        atom, x, y, z = line.split()\n",
    "        xyz = np.array([x,y,z], dtype=float)\n",
    "        # Angstrom -> nm\n",
    "        xyz /= 10\n",
    "        comp.add(mb.Particle(name=atom,pos=xyz))\n",
    "    comp.visualize().show()\n",
    "    \n",
    "def from_snapshot(snapshot, scale=1.0):\n",
    "    \"\"\"\n",
    "    Convert a hoomd.data.Snapshot or a gsd.hoomd.Snapshot to an\n",
    "    mbuild Compound.\n",
    "    \n",
    "    Parameters\n",
    "    ----------\n",
    "    snapshot : hoomd.data.SnapshotParticleData or gsd.hoomd.Snapshot\n",
    "        Snapshot from which to build the mbuild Compound.\n",
    "    scale : float, optional, default 1.0\n",
    "        Value by which to scale the length values\n",
    "        \n",
    "    Returns\n",
    "    -------\n",
    "    comp : mb.Compound\n",
    "    \"\"\"\n",
    "    comp = mb.Compound()\n",
    "    bond_array = snapshot.bonds.group\n",
    "    n_atoms = snapshot.particles.N\n",
    "\n",
    "    # There will be a better way to do this once box overhaul merged\n",
    "    try:\n",
    "        # gsd\n",
    "        box = snapshot.configuration.box\n",
    "        comp.box = mb.box.Box(lengths=box[:3] * scale)\n",
    "    except AttributeError:\n",
    "        # hoomd\n",
    "        box = snapshot.box\n",
    "        comp.box = mb.box.Box(lengths=np.array([box.Lx,box.Ly,box.Lz]) * scale)\n",
    "\n",
    "    # to_hoomdsnapshot shifts the coords, this will keep consistent\n",
    "    shift = np.array(comp.box.lengths)/2\n",
    "    # Add particles\n",
    "    for i in range(n_atoms):\n",
    "        name = snapshot.particles.types[snapshot.particles.typeid[i]]\n",
    "        xyz = snapshot.particles.position[i] * scale + shift\n",
    "        charge = snapshot.particles.charge[i]\n",
    "\n",
    "        atom = mb.Particle(name=name, pos=xyz, charge=charge)\n",
    "        comp.add(atom, label=str(i))\n",
    "\n",
    "    # Add bonds\n",
    "    particle_dict = {idx: p for idx, p in enumerate(comp.particles())}\n",
    "    for i in range(bond_array.shape[0]):\n",
    "        atom1 = int(bond_array[i][0])\n",
    "        atom2 = int(bond_array[i][1])\n",
    "        comp.add_bond([particle_dict[atom1], particle_dict[atom2]])\n",
    "    return comp\n",
    "import warnings\n",
    "warnings.filterwarnings('ignore')\n",
    "warnings.simplefilter('ignore')"
   ]
  },
  {
   "cell_type": "code",
   "execution_count": 2,
   "id": "c77cb19e",
   "metadata": {},
   "outputs": [
    {
     "data": {
      "application/3dmoljs_load.v0": "<div id=\"3dmolviewer_1624037673589041\"  style=\"position: relative; width: 640px; height: 480px\">\n        <p id=\"3dmolwarning_1624037673589041\" style=\"background-color:#ffcccc;color:black\">You appear to be running in JupyterLab (or JavaScript failed to load for some other reason).  You need to install the 3dmol extension: <br>\n        <tt>jupyter labextension install jupyterlab_3dmol</tt></p>\n        </div>\n<script>\n\nvar loadScriptAsync = function(uri){\n  return new Promise((resolve, reject) => {\n    var tag = document.createElement('script');\n    tag.src = uri;\n    tag.async = true;\n    tag.onload = () => {\n      resolve();\n    };\n  var firstScriptTag = document.getElementsByTagName('script')[0];\n  firstScriptTag.parentNode.insertBefore(tag, firstScriptTag);\n});\n};\n\nif(typeof $3Dmolpromise === 'undefined') {\n$3Dmolpromise = null;\n  $3Dmolpromise = loadScriptAsync('https://3dmol.csb.pitt.edu/build/3Dmol.js');\n}\n\nvar viewer_1624037673589041 = null;\nvar warn = document.getElementById(\"3dmolwarning_1624037673589041\");\nif(warn) {\n    warn.parentNode.removeChild(warn);\n}\n$3Dmolpromise.then(function() {\nviewer_1624037673589041 = $3Dmol.createViewer($(\"#3dmolviewer_1624037673589041\"),{backgroundColor:\"white\"});\n\tviewer_1624037673589041.addModel(\"@<TRIPOS>MOLECULE\\nRES\\n186 200 1 0 1\\nSMALL\\nNO_CHARGES\\n@<TRIPOS>CRYSIN\\n  309.4743   309.4743   309.4743    90.0000    90.0000    90.0000  1  1\\n@<TRIPOS>ATOM\\n       1 C            3.3525    19.7995   300.1560 C             1 RES     \\n       2 C            4.2145    20.8075   299.7000 C             1 RES     \\n       3 C            5.6015    20.5765   299.5900 C             1 RES     \\n       4 H            3.7995    21.7695   299.4590 H             1 RES     \\n       5 C            6.0945    19.3205   299.9340 C             1 RES     \\n       6 H            6.2695    21.3625   299.2680 H             1 RES     \\n       7 C            5.2165    18.3135   300.3010 C             1 RES     \\n       8 C            3.8545    18.5465   300.4510 C             1 RES     \\n       9 H            3.1815    17.7915   300.8170 H             1 RES     \\n      10 H            2.2945    19.9705   300.2840 H             1 RES     \\n      11 C            5.9115    17.0615   300.5290 C             1 RES     \\n      12 C            7.3695    17.4085   300.4700 C             1 RES     \\n      13 C            7.4755    18.8155   300.0050 C             1 RES     \\n      14 O            8.4925    19.4625   299.7900 O             1 RES     \\n      15 C            5.3185    15.7935   300.5560 C             1 RES     \\n      16 C            3.9755    15.6285   300.1260 C             1 RES     \\n      17 C            5.8945    14.4785   300.8370 C             1 RES     \\n      18 N            2.8835    15.5065   299.7740 N             1 RES     \\n      19 N            6.3475    13.4345   301.0600 N             1 RES     \\n      20 C            8.1985    16.3975   300.6410 C             1 RES     \\n      21 C            9.5125    15.8525   300.5900 C             1 RES     \\n      22 H            7.6835    15.6915   301.1420 H             1 RES     \\n      23 S           10.9405    16.7215   300.4450 S             1 RES     \\n      24 C           11.8825    15.5485   301.1950 C             1 RES     \\n      25 C           11.0805    14.4085   301.3020 C             1 RES     \\n      26 C            9.7135    14.5395   301.0320 C             1 RES     \\n      27 H            8.8685    13.8755   301.3700 H             1 RES     \\n      28 C           13.1305    15.5505   302.0400 C             1 RES     \\n      29 S           11.9015    13.2685   302.1630 S             1 RES     \\n      30 C           13.2705    14.2155   302.5320 C             1 RES     \\n      31 C           14.1745    16.6605   302.8650 C             1 RES     \\n      32 C           15.1035    15.3005   303.3070 C             1 RES     \\n      33 C           14.5785    13.9735   303.2000 C             1 RES     \\n      34 C           15.1545    18.0745   303.3300 C             1 RES     \\n      35 C           12.8725    17.6595   303.1030 C             1 RES     \\n      36 C           12.8275    18.9165   302.3730 C             1 RES     \\n      37 C           11.7695    19.8405   302.4050 C             1 RES     \\n      38 C           10.5975    19.5965   303.1210 C             1 RES     \\n      39 C           10.6505    18.4675   303.9970 C             1 RES     \\n      40 C           16.2135    18.7295   302.5650 C             1 RES     \\n      41 C           16.7565    20.0845   302.8310 C             1 RES     \\n      42 C           16.3335    20.9565   303.8760 C             1 RES     \\n      43 C           15.4205    20.3205   304.7330 C             1 RES     \\n      44 C           14.8705    18.9695   304.5060 C             1 RES     \\n      45 C           11.7645    17.5305   304.0030 C             1 RES     \\n      46 H           16.6205    18.2665   301.6830 H             1 RES     \\n      47 H            9.8055    18.2635   304.6340 H             1 RES     \\n      48 H           11.7305    16.6915   304.6840 H             1 RES     \\n      49 H           11.8545    20.7435   301.8050 H             1 RES     \\n      50 H           13.6545    19.2345   301.7490 H             1 RES     \\n      51 H           17.5005    20.5185   302.1740 H             1 RES     \\n      52 H           15.0945    20.9515   305.5600 H             1 RES     \\n      53 H           14.1265    18.7305   305.2590 H             1 RES     \\n      54 C            9.3105    20.4485   302.7230 C             1 RES     \\n      55 C            8.6915    21.6335   303.5370 C             1 RES     \\n      56 H            8.5045    19.7315   302.4640 H             1 RES     \\n      57 H            9.5765    20.9285   301.7580 H             1 RES     \\n      58 C            7.8095    22.7485   302.7980 C             1 RES     \\n      59 H            9.5705    22.2075   303.8860 H             1 RES     \\n      60 H            8.1405    21.2615   304.4250 H             1 RES     \\n      61 C            6.3135    22.5505   302.3620 C             1 RES     \\n      62 H            8.3575    23.1645   301.9190 H             1 RES     \\n      63 H            7.7705    23.5745   303.5350 H             1 RES     \\n      64 C            5.4895    23.8855   302.4280 C             1 RES     \\n      65 H            6.3085    22.1905   301.3280 H             1 RES     \\n      66 H            5.7865    21.8215   303.0090 H             1 RES     \\n      67 C            4.0985    23.8375   301.7660 C             1 RES     \\n      68 H            6.0355    24.7255   301.9470 H             1 RES     \\n      69 H            5.3425    24.1415   303.5010 H             1 RES     \\n      70 H            4.1945    23.7615   300.6620 H             1 RES     \\n      71 H            3.5445    24.7835   301.9730 H             1 RES     \\n      72 H            3.4795    22.9965   302.1410 H             1 RES     \\n      73 C           16.7605    22.5445   303.9920 C             1 RES     \\n      74 C           17.5795    23.1705   305.2090 C             1 RES     \\n      75 H           15.8485    23.1875   303.9100 H             1 RES     \\n      76 H           17.3705    22.8365   303.1020 H             1 RES     \\n      77 C           18.0395    24.7025   305.1120 C             1 RES     \\n      78 H           18.5245    22.5975   305.2320 H             1 RES     \\n      79 H           17.0625    23.0325   306.1820 H             1 RES     \\n      80 C           17.0545    25.7865   305.6470 C             1 RES     \\n      81 H           18.3275    24.9445   304.0660 H             1 RES     \\n      82 H           18.9585    24.8355   305.7300 H             1 RES     \\n      83 C           17.5365    27.2635   305.4720 C             1 RES     \\n      84 H           16.8455    25.6205   306.7280 H             1 RES     \\n      85 H           16.1055    25.6885   305.0880 H             1 RES     \\n      86 C           18.6605    27.7235   306.4150 C             1 RES     \\n      87 H           16.6775    27.9405   305.6860 H             1 RES     \\n      88 H           17.8415    27.4395   304.4190 H             1 RES     \\n      89 H           18.3285    27.6645   307.4740 H             1 RES     \\n      90 H           18.9015    28.7945   306.2100 H             1 RES     \\n      91 H           19.5875    27.1345   306.2810 H             1 RES     \\n      92 C           16.5165    15.3295   303.5570 C             1 RES     \\n      93 C           17.3665    14.1635   303.5930 C             1 RES     \\n      94 C           16.8625    12.8485   303.6030 C             1 RES     \\n      95 C           15.3995    12.7285   303.5100 C             1 RES     \\n      96 H           16.9975    16.2705   303.5900 H             1 RES     \\n      97 H           15.0925    11.6635   303.4400 H             1 RES     \\n      98 C           18.8585    14.0785   303.6090 C             1 RES     \\n      99 C           18.0565    11.7185   303.3400 C             1 RES     \\n     100 C           19.2695    12.7635   303.5600 C             1 RES     \\n     101 S           20.2205    15.1285   303.8360 S             1 RES     \\n     102 C           21.3505    13.8735   304.1110 C             1 RES     \\n     103 C           20.7055    12.6755   303.9730 C             1 RES     \\n     104 C           19.0195    10.5105   303.6380 C             1 RES     \\n     105 C           17.2195    10.9305   302.1250 C             1 RES     \\n     106 C           16.2445    11.5015   301.2140 C             1 RES     \\n     107 C           15.2445    10.6935   300.5700 C             1 RES     \\n     108 C           15.2505     9.2855   300.6980 C             1 RES     \\n     109 C           16.2775     8.7215   301.4150 C             1 RES     \\n     110 C           17.1735     9.4845   302.1100 C             1 RES     \\n     111 C           19.9525    10.2215   302.5790 C             1 RES     \\n     112 C           20.8965     9.1985   302.6560 C             1 RES     \\n     113 C           20.9665     8.3725   303.7840 C             1 RES     \\n     114 C           20.0135     8.6005   304.8230 C             1 RES     \\n     115 C           19.0465     9.6525   304.7540 C             1 RES     \\n     116 C           22.2435     7.5195   303.9860 C             1 RES     \\n     117 C           22.5765     6.0435   303.5860 C             1 RES     \\n     118 H           22.4645     7.6015   305.0690 H             1 RES     \\n     119 H           23.0225     8.0995   303.4490 H             1 RES     \\n     120 C           24.0855     5.7675   303.9670 C             1 RES     \\n     121 H           22.4425     5.8835   302.4950 H             1 RES     \\n     122 H           21.9165     5.3495   304.1460 H             1 RES     \\n     123 C           24.6685     4.3305   303.8110 C             1 RES     \\n     124 H           24.2085     6.0325   305.0400 H             1 RES     \\n     125 H           24.7235     6.4525   303.3620 H             1 RES     \\n     126 C           26.1555     4.2645   304.2850 C             1 RES     \\n     127 H           24.6175     4.0065   302.7500 H             1 RES     \\n     128 H           24.0745     3.6315   304.4350 H             1 RES     \\n     129 C           26.7825     2.8635   304.2330 C             1 RES     \\n     130 H           26.2265     4.6045   305.3410 H             1 RES     \\n     131 H           26.7835     4.9355   303.6580 H             1 RES     \\n     132 H           26.2335     2.1555   304.8880 H             1 RES     \\n     133 H           27.8345     2.9105   304.6010 H             1 RES     \\n     134 H           26.8065     2.4665   303.1970 H             1 RES     \\n     135 C           14.2295     8.2605   300.1940 C             1 RES     \\n     136 C           12.7735     8.6755   299.9280 C             1 RES     \\n     137 H           14.1265     7.5005   301.0080 H             1 RES     \\n     138 H           14.6665     7.7235   299.3250 H             1 RES     \\n     139 C           11.9365     7.4135   299.5680 C             1 RES     \\n     140 H           12.7465     9.4025   299.0940 H             1 RES     \\n     141 H           12.3435     9.1415   300.8430 H             1 RES     \\n     142 C           10.4825     7.7455   299.1980 C             1 RES     \\n     143 H           11.9355     6.6995   300.4250 H             1 RES     \\n     144 H           12.4105     6.9055   298.7000 H             1 RES     \\n     145 C            9.6985     6.4925   298.7620 C             1 RES     \\n     146 H           10.4925     8.4665   298.3540 H             1 RES     \\n     147 H            9.9725     8.2095   300.0700 H             1 RES     \\n     148 C            8.2735     6.8475   298.3300 C             1 RES     \\n     149 H            9.6485     5.7595   299.5980 H             1 RES     \\n     150 H           10.2095     6.0085   297.9000 H             1 RES     \\n     151 H            7.7125     7.3055   299.1720 H             1 RES     \\n     152 H            7.7365     5.9305   298.0050 H             1 RES     \\n     153 H            8.2945     7.5585   297.4770 H             1 RES     \\n     154 H           16.1225    12.5745   301.1140 H             1 RES     \\n     155 H           14.4445    11.1705   300.0190 H             1 RES     \\n     156 H           16.3435     7.6455   301.5310 H             1 RES     \\n     157 H           17.7825     8.8305   302.7030 H             1 RES     \\n     158 H           18.3435     9.8075   305.5610 H             1 RES     \\n     159 H           19.9745    10.8585   301.6980 H             1 RES     \\n     160 H           21.6225     9.1165   301.8560 H             1 RES     \\n     161 H           20.0485     7.9945   305.7160 H             1 RES     \\n     162 S           21.8995    11.4875   304.4360 S             1 RES     \\n     163 C           23.2245    12.5095   304.7590 C             1 RES     \\n     164 C           22.7295    13.8165   304.4960 C             1 RES     \\n     165 H           23.3545    14.6905   304.6090 H             1 RES     \\n     166 C           24.6755    12.2755   305.2170 C             1 RES     \\n     167 C           25.5515    11.2175   305.4340 C             1 RES     \\n     168 H           25.1295    13.2315   305.3510 H             1 RES     \\n     169 C           25.3695     9.7565   305.2450 C             1 RES     \\n     170 C           26.6745     9.0605   305.3720 C             1 RES     \\n     171 C           27.6385     9.9905   305.6800 C             1 RES     \\n     172 C           27.0435    11.3595   305.7140 C             1 RES     \\n     173 O           24.3115     9.2075   305.0370 O             1 RES     \\n     174 C           27.7905    12.4865   305.8950 C             1 RES     \\n     175 C           27.2845    13.7775   306.2690 C             1 RES     \\n     176 C           29.2115    12.4615   305.6380 C             1 RES     \\n     177 N           26.9185    14.8335   306.5690 N             1 RES     \\n     178 N           30.3475    12.4025   305.4230 N             1 RES     \\n     179 C           28.9475     9.5675   306.0120 C             1 RES     \\n     180 C           29.2935     8.2215   305.9290 C             1 RES     \\n     181 C           28.3385     7.2855   305.5280 C             1 RES     \\n     182 C           27.0155     7.6965   305.2650 C             1 RES     \\n     183 H           29.7135    10.2275   306.3690 H             1 RES     \\n     184 H           30.3025     7.9135   306.1860 H             1 RES     \\n     185 H           28.6305     6.2435   305.4580 H             1 RES     \\n     186 H           26.2905     6.9575   305.0030 H             1 RES     \\n@<TRIPOS>BOND\\n       1       77       82 1\\n       2       93       98 1\\n       3      139      142 1\\n       4       37       38 1\\n       5      105      110 1\\n       6      102      103 1\\n       7      163      164 1\\n       8       25       26 1\\n       9       11       12 1\\n      10      166      168 1\\n      11       37       49 1\\n      12       98      100 1\\n      13       13        5 1\\n      14       73       76 1\\n      15      129      133 1\\n      16      148      152 1\\n      17      123      126 1\\n      18       74       77 1\\n      19      116      118 1\\n      20      180      184 1\\n      21       58       62 1\\n      22      117      121 1\\n      23      174      175 1\\n      24       55       60 1\\n      25      111      112 1\\n      26      135      137 1\\n      27       30       33 1\\n      28       77       80 1\\n      29       12       13 1\\n      30       28       31 1\\n      31      139      144 1\\n      32       99      105 1\\n      33      100      103 1\\n      34       86       90 1\\n      35      163      166 1\\n      36      102      164 1\\n      37       94       99 1\\n      38       34       40 1\\n      39      106      107 1\\n      40      169      170 1\\n      41       43       44 1\\n      42       20       22 1\\n      43      123      128 1\\n      44      179      183 1\\n      45       54       56 1\\n      46      120      124 1\\n      47       80       84 1\\n      48       13       14 1\\n      49       93       94 1\\n      50       41       51 1\\n      51      136      139 1\\n      52       38       39 1\\n      53       42       43 1\\n      54      105      106 1\\n      55      164      165 1\\n      56      101      102 1\\n      57      167      172 1\\n      58        3        2 1\\n      59       67       71 1\\n      60       83       87 1\\n      61       95       97 1\\n      62       29       30 1\\n      63       92       93 1\\n      64        2        1 1\\n      65        4        2 1\\n      66      126      131 1\\n      67       32       92 1\\n      68      175      177 1\\n      69       34       44 1\\n      70       21       23 1\\n      71      107      108 1\\n      72      170      171 1\\n      73      171      179 1\\n      74       31       35 1\\n      75      145      149 1\\n      76       16       15 1\\n      77       24       25 1\\n      78       41       42 1\\n      79      115      158 1\\n      80       64       67 1\\n      81      172      174 1\\n      82      176      178 1\\n      83       61       65 1\\n      84       35       45 1\\n      85       55       58 1\\n      86       11       15 1\\n      87      136      140 1\\n      88       16       18 1\\n      89       73       74 1\\n      90        8        1 1\\n      91      108      135 1\\n      92       40       46 1\\n      93       11        7 1\\n      94       24       28 1\\n      95      142      146 1\\n      96       64       69 1\\n      97      129      134 1\\n      98       20       21 1\\n      99      148      153 1\\n     100      123      127 1\\n     101       73       75 1\\n     102      116      117 1\\n     103      179      180 1\\n     104       43       52 1\\n     105       42       73 1\\n     106      181      182 1\\n     107       58       63 1\\n     108      174      176 1\\n     109       55       59 1\\n     110      181      185 1\\n     111      135      136 1\\n     112       77       81 1\\n     113       92       96 1\\n     114      139      143 1\\n     115      167      169 1\\n     116       86       89 1\\n     117      106      154 1\\n     118      166      167 1\\n     119       40       41 1\\n     120      114      161 1\\n     121       98      101 1\\n     122      129      132 1\\n     123       21       26 1\\n     124      148      151 1\\n     125       67       70 1\\n     126       83       86 1\\n     127       74       78 1\\n     128      116      119 1\\n     129       54       57 1\\n     130      117      120 1\\n     131      120      123 1\\n     132       58       61 1\\n     133       32       33 1\\n     134       80       83 1\\n     135       38       54 1\\n     136      114      115 1\\n     137       28       30 1\\n     138       99      104 1\\n     139      109      156 1\\n     140       23       24 1\\n     141      107      155 1\\n     142        7        5 1\\n     143      126      129 1\\n     144       35       36 1\\n     145       67       72 1\\n     146       83       88 1\\n     147      180      181 1\\n     148       54       55 1\\n     149      120      125 1\\n     150       44       53 1\\n     151        9        8 1\\n     152       80       85 1\\n     153      142      145 1\\n     154      145      150 1\\n     155       36       50 1\\n     156       10        1 1\\n     157      104      115 1\\n     158      103      162 1\\n     159        8        7 1\\n     160      126      130 1\\n     161      108      109 1\\n     162      171      172 1\\n     163      169      173 1\\n     164       31       34 1\\n     165      145      148 1\\n     166       17       15 1\\n     167      112      160 1\\n     168       99      100 1\\n     169      162      163 1\\n     170       36       37 1\\n     171      110      157 1\\n     172       39       47 1\\n     173       86       91 1\\n     174       64       68 1\\n     175      113      116 1\\n     176        6        3 1\\n     177       61       64 1\\n     178       45       48 1\\n     179      136      141 1\\n     180      170      182 1\\n     181      182      186 1\\n     182      135      138 1\\n     183      112      113 1\\n     184      117      122 1\\n     185       31       32 1\\n     186       94       95 1\\n     187       12       20 1\\n     188      111      159 1\\n     189      104      111 1\\n     190        5        3 1\\n     191       25       29 1\\n     192       33       95 1\\n     193       26       27 1\\n     194       39       45 1\\n     195      142      147 1\\n     196       17       19 1\\n     197      113      114 1\\n     198      109      110 1\\n     199       61       66 1\\n     200       74       79 1\\n@<TRIPOS>SUBSTRUCTURE\\n       1 RES             1 RESIDUE    0 **** ROOT      0\\n\",\"mol2\");\n\tviewer_1624037673589041.setStyle({\"stick\": {\"radius\": 0.2, \"color\": \"grey\"}, \"sphere\": {\"scale\": 0.3, \"colorscheme\": {}}});\n\tviewer_1624037673589041.zoomTo();\nviewer_1624037673589041.render();\n});\n</script>",
      "text/html": [
       "<div id=\"3dmolviewer_1624037673589041\"  style=\"position: relative; width: 640px; height: 480px\">\n",
       "        <p id=\"3dmolwarning_1624037673589041\" style=\"background-color:#ffcccc;color:black\">You appear to be running in JupyterLab (or JavaScript failed to load for some other reason).  You need to install the 3dmol extension: <br>\n",
       "        <tt>jupyter labextension install jupyterlab_3dmol</tt></p>\n",
       "        </div>\n",
       "<script>\n",
       "\n",
       "var loadScriptAsync = function(uri){\n",
       "  return new Promise((resolve, reject) => {\n",
       "    var tag = document.createElement('script');\n",
       "    tag.src = uri;\n",
       "    tag.async = true;\n",
       "    tag.onload = () => {\n",
       "      resolve();\n",
       "    };\n",
       "  var firstScriptTag = document.getElementsByTagName('script')[0];\n",
       "  firstScriptTag.parentNode.insertBefore(tag, firstScriptTag);\n",
       "});\n",
       "};\n",
       "\n",
       "if(typeof $3Dmolpromise === 'undefined') {\n",
       "$3Dmolpromise = null;\n",
       "  $3Dmolpromise = loadScriptAsync('https://3dmol.csb.pitt.edu/build/3Dmol.js');\n",
       "}\n",
       "\n",
       "var viewer_1624037673589041 = null;\n",
       "var warn = document.getElementById(\"3dmolwarning_1624037673589041\");\n",
       "if(warn) {\n",
       "    warn.parentNode.removeChild(warn);\n",
       "}\n",
       "$3Dmolpromise.then(function() {\n",
       "viewer_1624037673589041 = $3Dmol.createViewer($(\"#3dmolviewer_1624037673589041\"),{backgroundColor:\"white\"});\n",
       "\tviewer_1624037673589041.addModel(\"@<TRIPOS>MOLECULE\\nRES\\n186 200 1 0 1\\nSMALL\\nNO_CHARGES\\n@<TRIPOS>CRYSIN\\n  309.4743   309.4743   309.4743    90.0000    90.0000    90.0000  1  1\\n@<TRIPOS>ATOM\\n       1 C            3.3525    19.7995   300.1560 C             1 RES     \\n       2 C            4.2145    20.8075   299.7000 C             1 RES     \\n       3 C            5.6015    20.5765   299.5900 C             1 RES     \\n       4 H            3.7995    21.7695   299.4590 H             1 RES     \\n       5 C            6.0945    19.3205   299.9340 C             1 RES     \\n       6 H            6.2695    21.3625   299.2680 H             1 RES     \\n       7 C            5.2165    18.3135   300.3010 C             1 RES     \\n       8 C            3.8545    18.5465   300.4510 C             1 RES     \\n       9 H            3.1815    17.7915   300.8170 H             1 RES     \\n      10 H            2.2945    19.9705   300.2840 H             1 RES     \\n      11 C            5.9115    17.0615   300.5290 C             1 RES     \\n      12 C            7.3695    17.4085   300.4700 C             1 RES     \\n      13 C            7.4755    18.8155   300.0050 C             1 RES     \\n      14 O            8.4925    19.4625   299.7900 O             1 RES     \\n      15 C            5.3185    15.7935   300.5560 C             1 RES     \\n      16 C            3.9755    15.6285   300.1260 C             1 RES     \\n      17 C            5.8945    14.4785   300.8370 C             1 RES     \\n      18 N            2.8835    15.5065   299.7740 N             1 RES     \\n      19 N            6.3475    13.4345   301.0600 N             1 RES     \\n      20 C            8.1985    16.3975   300.6410 C             1 RES     \\n      21 C            9.5125    15.8525   300.5900 C             1 RES     \\n      22 H            7.6835    15.6915   301.1420 H             1 RES     \\n      23 S           10.9405    16.7215   300.4450 S             1 RES     \\n      24 C           11.8825    15.5485   301.1950 C             1 RES     \\n      25 C           11.0805    14.4085   301.3020 C             1 RES     \\n      26 C            9.7135    14.5395   301.0320 C             1 RES     \\n      27 H            8.8685    13.8755   301.3700 H             1 RES     \\n      28 C           13.1305    15.5505   302.0400 C             1 RES     \\n      29 S           11.9015    13.2685   302.1630 S             1 RES     \\n      30 C           13.2705    14.2155   302.5320 C             1 RES     \\n      31 C           14.1745    16.6605   302.8650 C             1 RES     \\n      32 C           15.1035    15.3005   303.3070 C             1 RES     \\n      33 C           14.5785    13.9735   303.2000 C             1 RES     \\n      34 C           15.1545    18.0745   303.3300 C             1 RES     \\n      35 C           12.8725    17.6595   303.1030 C             1 RES     \\n      36 C           12.8275    18.9165   302.3730 C             1 RES     \\n      37 C           11.7695    19.8405   302.4050 C             1 RES     \\n      38 C           10.5975    19.5965   303.1210 C             1 RES     \\n      39 C           10.6505    18.4675   303.9970 C             1 RES     \\n      40 C           16.2135    18.7295   302.5650 C             1 RES     \\n      41 C           16.7565    20.0845   302.8310 C             1 RES     \\n      42 C           16.3335    20.9565   303.8760 C             1 RES     \\n      43 C           15.4205    20.3205   304.7330 C             1 RES     \\n      44 C           14.8705    18.9695   304.5060 C             1 RES     \\n      45 C           11.7645    17.5305   304.0030 C             1 RES     \\n      46 H           16.6205    18.2665   301.6830 H             1 RES     \\n      47 H            9.8055    18.2635   304.6340 H             1 RES     \\n      48 H           11.7305    16.6915   304.6840 H             1 RES     \\n      49 H           11.8545    20.7435   301.8050 H             1 RES     \\n      50 H           13.6545    19.2345   301.7490 H             1 RES     \\n      51 H           17.5005    20.5185   302.1740 H             1 RES     \\n      52 H           15.0945    20.9515   305.5600 H             1 RES     \\n      53 H           14.1265    18.7305   305.2590 H             1 RES     \\n      54 C            9.3105    20.4485   302.7230 C             1 RES     \\n      55 C            8.6915    21.6335   303.5370 C             1 RES     \\n      56 H            8.5045    19.7315   302.4640 H             1 RES     \\n      57 H            9.5765    20.9285   301.7580 H             1 RES     \\n      58 C            7.8095    22.7485   302.7980 C             1 RES     \\n      59 H            9.5705    22.2075   303.8860 H             1 RES     \\n      60 H            8.1405    21.2615   304.4250 H             1 RES     \\n      61 C            6.3135    22.5505   302.3620 C             1 RES     \\n      62 H            8.3575    23.1645   301.9190 H             1 RES     \\n      63 H            7.7705    23.5745   303.5350 H             1 RES     \\n      64 C            5.4895    23.8855   302.4280 C             1 RES     \\n      65 H            6.3085    22.1905   301.3280 H             1 RES     \\n      66 H            5.7865    21.8215   303.0090 H             1 RES     \\n      67 C            4.0985    23.8375   301.7660 C             1 RES     \\n      68 H            6.0355    24.7255   301.9470 H             1 RES     \\n      69 H            5.3425    24.1415   303.5010 H             1 RES     \\n      70 H            4.1945    23.7615   300.6620 H             1 RES     \\n      71 H            3.5445    24.7835   301.9730 H             1 RES     \\n      72 H            3.4795    22.9965   302.1410 H             1 RES     \\n      73 C           16.7605    22.5445   303.9920 C             1 RES     \\n      74 C           17.5795    23.1705   305.2090 C             1 RES     \\n      75 H           15.8485    23.1875   303.9100 H             1 RES     \\n      76 H           17.3705    22.8365   303.1020 H             1 RES     \\n      77 C           18.0395    24.7025   305.1120 C             1 RES     \\n      78 H           18.5245    22.5975   305.2320 H             1 RES     \\n      79 H           17.0625    23.0325   306.1820 H             1 RES     \\n      80 C           17.0545    25.7865   305.6470 C             1 RES     \\n      81 H           18.3275    24.9445   304.0660 H             1 RES     \\n      82 H           18.9585    24.8355   305.7300 H             1 RES     \\n      83 C           17.5365    27.2635   305.4720 C             1 RES     \\n      84 H           16.8455    25.6205   306.7280 H             1 RES     \\n      85 H           16.1055    25.6885   305.0880 H             1 RES     \\n      86 C           18.6605    27.7235   306.4150 C             1 RES     \\n      87 H           16.6775    27.9405   305.6860 H             1 RES     \\n      88 H           17.8415    27.4395   304.4190 H             1 RES     \\n      89 H           18.3285    27.6645   307.4740 H             1 RES     \\n      90 H           18.9015    28.7945   306.2100 H             1 RES     \\n      91 H           19.5875    27.1345   306.2810 H             1 RES     \\n      92 C           16.5165    15.3295   303.5570 C             1 RES     \\n      93 C           17.3665    14.1635   303.5930 C             1 RES     \\n      94 C           16.8625    12.8485   303.6030 C             1 RES     \\n      95 C           15.3995    12.7285   303.5100 C             1 RES     \\n      96 H           16.9975    16.2705   303.5900 H             1 RES     \\n      97 H           15.0925    11.6635   303.4400 H             1 RES     \\n      98 C           18.8585    14.0785   303.6090 C             1 RES     \\n      99 C           18.0565    11.7185   303.3400 C             1 RES     \\n     100 C           19.2695    12.7635   303.5600 C             1 RES     \\n     101 S           20.2205    15.1285   303.8360 S             1 RES     \\n     102 C           21.3505    13.8735   304.1110 C             1 RES     \\n     103 C           20.7055    12.6755   303.9730 C             1 RES     \\n     104 C           19.0195    10.5105   303.6380 C             1 RES     \\n     105 C           17.2195    10.9305   302.1250 C             1 RES     \\n     106 C           16.2445    11.5015   301.2140 C             1 RES     \\n     107 C           15.2445    10.6935   300.5700 C             1 RES     \\n     108 C           15.2505     9.2855   300.6980 C             1 RES     \\n     109 C           16.2775     8.7215   301.4150 C             1 RES     \\n     110 C           17.1735     9.4845   302.1100 C             1 RES     \\n     111 C           19.9525    10.2215   302.5790 C             1 RES     \\n     112 C           20.8965     9.1985   302.6560 C             1 RES     \\n     113 C           20.9665     8.3725   303.7840 C             1 RES     \\n     114 C           20.0135     8.6005   304.8230 C             1 RES     \\n     115 C           19.0465     9.6525   304.7540 C             1 RES     \\n     116 C           22.2435     7.5195   303.9860 C             1 RES     \\n     117 C           22.5765     6.0435   303.5860 C             1 RES     \\n     118 H           22.4645     7.6015   305.0690 H             1 RES     \\n     119 H           23.0225     8.0995   303.4490 H             1 RES     \\n     120 C           24.0855     5.7675   303.9670 C             1 RES     \\n     121 H           22.4425     5.8835   302.4950 H             1 RES     \\n     122 H           21.9165     5.3495   304.1460 H             1 RES     \\n     123 C           24.6685     4.3305   303.8110 C             1 RES     \\n     124 H           24.2085     6.0325   305.0400 H             1 RES     \\n     125 H           24.7235     6.4525   303.3620 H             1 RES     \\n     126 C           26.1555     4.2645   304.2850 C             1 RES     \\n     127 H           24.6175     4.0065   302.7500 H             1 RES     \\n     128 H           24.0745     3.6315   304.4350 H             1 RES     \\n     129 C           26.7825     2.8635   304.2330 C             1 RES     \\n     130 H           26.2265     4.6045   305.3410 H             1 RES     \\n     131 H           26.7835     4.9355   303.6580 H             1 RES     \\n     132 H           26.2335     2.1555   304.8880 H             1 RES     \\n     133 H           27.8345     2.9105   304.6010 H             1 RES     \\n     134 H           26.8065     2.4665   303.1970 H             1 RES     \\n     135 C           14.2295     8.2605   300.1940 C             1 RES     \\n     136 C           12.7735     8.6755   299.9280 C             1 RES     \\n     137 H           14.1265     7.5005   301.0080 H             1 RES     \\n     138 H           14.6665     7.7235   299.3250 H             1 RES     \\n     139 C           11.9365     7.4135   299.5680 C             1 RES     \\n     140 H           12.7465     9.4025   299.0940 H             1 RES     \\n     141 H           12.3435     9.1415   300.8430 H             1 RES     \\n     142 C           10.4825     7.7455   299.1980 C             1 RES     \\n     143 H           11.9355     6.6995   300.4250 H             1 RES     \\n     144 H           12.4105     6.9055   298.7000 H             1 RES     \\n     145 C            9.6985     6.4925   298.7620 C             1 RES     \\n     146 H           10.4925     8.4665   298.3540 H             1 RES     \\n     147 H            9.9725     8.2095   300.0700 H             1 RES     \\n     148 C            8.2735     6.8475   298.3300 C             1 RES     \\n     149 H            9.6485     5.7595   299.5980 H             1 RES     \\n     150 H           10.2095     6.0085   297.9000 H             1 RES     \\n     151 H            7.7125     7.3055   299.1720 H             1 RES     \\n     152 H            7.7365     5.9305   298.0050 H             1 RES     \\n     153 H            8.2945     7.5585   297.4770 H             1 RES     \\n     154 H           16.1225    12.5745   301.1140 H             1 RES     \\n     155 H           14.4445    11.1705   300.0190 H             1 RES     \\n     156 H           16.3435     7.6455   301.5310 H             1 RES     \\n     157 H           17.7825     8.8305   302.7030 H             1 RES     \\n     158 H           18.3435     9.8075   305.5610 H             1 RES     \\n     159 H           19.9745    10.8585   301.6980 H             1 RES     \\n     160 H           21.6225     9.1165   301.8560 H             1 RES     \\n     161 H           20.0485     7.9945   305.7160 H             1 RES     \\n     162 S           21.8995    11.4875   304.4360 S             1 RES     \\n     163 C           23.2245    12.5095   304.7590 C             1 RES     \\n     164 C           22.7295    13.8165   304.4960 C             1 RES     \\n     165 H           23.3545    14.6905   304.6090 H             1 RES     \\n     166 C           24.6755    12.2755   305.2170 C             1 RES     \\n     167 C           25.5515    11.2175   305.4340 C             1 RES     \\n     168 H           25.1295    13.2315   305.3510 H             1 RES     \\n     169 C           25.3695     9.7565   305.2450 C             1 RES     \\n     170 C           26.6745     9.0605   305.3720 C             1 RES     \\n     171 C           27.6385     9.9905   305.6800 C             1 RES     \\n     172 C           27.0435    11.3595   305.7140 C             1 RES     \\n     173 O           24.3115     9.2075   305.0370 O             1 RES     \\n     174 C           27.7905    12.4865   305.8950 C             1 RES     \\n     175 C           27.2845    13.7775   306.2690 C             1 RES     \\n     176 C           29.2115    12.4615   305.6380 C             1 RES     \\n     177 N           26.9185    14.8335   306.5690 N             1 RES     \\n     178 N           30.3475    12.4025   305.4230 N             1 RES     \\n     179 C           28.9475     9.5675   306.0120 C             1 RES     \\n     180 C           29.2935     8.2215   305.9290 C             1 RES     \\n     181 C           28.3385     7.2855   305.5280 C             1 RES     \\n     182 C           27.0155     7.6965   305.2650 C             1 RES     \\n     183 H           29.7135    10.2275   306.3690 H             1 RES     \\n     184 H           30.3025     7.9135   306.1860 H             1 RES     \\n     185 H           28.6305     6.2435   305.4580 H             1 RES     \\n     186 H           26.2905     6.9575   305.0030 H             1 RES     \\n@<TRIPOS>BOND\\n       1       77       82 1\\n       2       93       98 1\\n       3      139      142 1\\n       4       37       38 1\\n       5      105      110 1\\n       6      102      103 1\\n       7      163      164 1\\n       8       25       26 1\\n       9       11       12 1\\n      10      166      168 1\\n      11       37       49 1\\n      12       98      100 1\\n      13       13        5 1\\n      14       73       76 1\\n      15      129      133 1\\n      16      148      152 1\\n      17      123      126 1\\n      18       74       77 1\\n      19      116      118 1\\n      20      180      184 1\\n      21       58       62 1\\n      22      117      121 1\\n      23      174      175 1\\n      24       55       60 1\\n      25      111      112 1\\n      26      135      137 1\\n      27       30       33 1\\n      28       77       80 1\\n      29       12       13 1\\n      30       28       31 1\\n      31      139      144 1\\n      32       99      105 1\\n      33      100      103 1\\n      34       86       90 1\\n      35      163      166 1\\n      36      102      164 1\\n      37       94       99 1\\n      38       34       40 1\\n      39      106      107 1\\n      40      169      170 1\\n      41       43       44 1\\n      42       20       22 1\\n      43      123      128 1\\n      44      179      183 1\\n      45       54       56 1\\n      46      120      124 1\\n      47       80       84 1\\n      48       13       14 1\\n      49       93       94 1\\n      50       41       51 1\\n      51      136      139 1\\n      52       38       39 1\\n      53       42       43 1\\n      54      105      106 1\\n      55      164      165 1\\n      56      101      102 1\\n      57      167      172 1\\n      58        3        2 1\\n      59       67       71 1\\n      60       83       87 1\\n      61       95       97 1\\n      62       29       30 1\\n      63       92       93 1\\n      64        2        1 1\\n      65        4        2 1\\n      66      126      131 1\\n      67       32       92 1\\n      68      175      177 1\\n      69       34       44 1\\n      70       21       23 1\\n      71      107      108 1\\n      72      170      171 1\\n      73      171      179 1\\n      74       31       35 1\\n      75      145      149 1\\n      76       16       15 1\\n      77       24       25 1\\n      78       41       42 1\\n      79      115      158 1\\n      80       64       67 1\\n      81      172      174 1\\n      82      176      178 1\\n      83       61       65 1\\n      84       35       45 1\\n      85       55       58 1\\n      86       11       15 1\\n      87      136      140 1\\n      88       16       18 1\\n      89       73       74 1\\n      90        8        1 1\\n      91      108      135 1\\n      92       40       46 1\\n      93       11        7 1\\n      94       24       28 1\\n      95      142      146 1\\n      96       64       69 1\\n      97      129      134 1\\n      98       20       21 1\\n      99      148      153 1\\n     100      123      127 1\\n     101       73       75 1\\n     102      116      117 1\\n     103      179      180 1\\n     104       43       52 1\\n     105       42       73 1\\n     106      181      182 1\\n     107       58       63 1\\n     108      174      176 1\\n     109       55       59 1\\n     110      181      185 1\\n     111      135      136 1\\n     112       77       81 1\\n     113       92       96 1\\n     114      139      143 1\\n     115      167      169 1\\n     116       86       89 1\\n     117      106      154 1\\n     118      166      167 1\\n     119       40       41 1\\n     120      114      161 1\\n     121       98      101 1\\n     122      129      132 1\\n     123       21       26 1\\n     124      148      151 1\\n     125       67       70 1\\n     126       83       86 1\\n     127       74       78 1\\n     128      116      119 1\\n     129       54       57 1\\n     130      117      120 1\\n     131      120      123 1\\n     132       58       61 1\\n     133       32       33 1\\n     134       80       83 1\\n     135       38       54 1\\n     136      114      115 1\\n     137       28       30 1\\n     138       99      104 1\\n     139      109      156 1\\n     140       23       24 1\\n     141      107      155 1\\n     142        7        5 1\\n     143      126      129 1\\n     144       35       36 1\\n     145       67       72 1\\n     146       83       88 1\\n     147      180      181 1\\n     148       54       55 1\\n     149      120      125 1\\n     150       44       53 1\\n     151        9        8 1\\n     152       80       85 1\\n     153      142      145 1\\n     154      145      150 1\\n     155       36       50 1\\n     156       10        1 1\\n     157      104      115 1\\n     158      103      162 1\\n     159        8        7 1\\n     160      126      130 1\\n     161      108      109 1\\n     162      171      172 1\\n     163      169      173 1\\n     164       31       34 1\\n     165      145      148 1\\n     166       17       15 1\\n     167      112      160 1\\n     168       99      100 1\\n     169      162      163 1\\n     170       36       37 1\\n     171      110      157 1\\n     172       39       47 1\\n     173       86       91 1\\n     174       64       68 1\\n     175      113      116 1\\n     176        6        3 1\\n     177       61       64 1\\n     178       45       48 1\\n     179      136      141 1\\n     180      170      182 1\\n     181      182      186 1\\n     182      135      138 1\\n     183      112      113 1\\n     184      117      122 1\\n     185       31       32 1\\n     186       94       95 1\\n     187       12       20 1\\n     188      111      159 1\\n     189      104      111 1\\n     190        5        3 1\\n     191       25       29 1\\n     192       33       95 1\\n     193       26       27 1\\n     194       39       45 1\\n     195      142      147 1\\n     196       17       19 1\\n     197      113      114 1\\n     198      109      110 1\\n     199       61       66 1\\n     200       74       79 1\\n@<TRIPOS>SUBSTRUCTURE\\n       1 RES             1 RESIDUE    0 **** ROOT      0\\n\",\"mol2\");\n",
       "\tviewer_1624037673589041.setStyle({\"stick\": {\"radius\": 0.2, \"color\": \"grey\"}, \"sphere\": {\"scale\": 0.3, \"colorscheme\": {}}});\n",
       "\tviewer_1624037673589041.zoomTo();\n",
       "viewer_1624037673589041.render();\n",
       "});\n",
       "</script>"
      ]
     },
     "metadata": {},
     "output_type": "display_data"
    }
   ],
   "source": [
    "gsd_file = \"/Users/jimmy/cmelab/data/ITIC/workspace/35e3dc4320d6ed3424bdba79fae77bce/trajectory.gsd\"\n",
    "\n",
    "with gsd.hoomd.open(name=gsd_file, mode='rb') as f:\n",
    "    start_snap = f[0]\n",
    "    end_snap = f[-1]\n",
    "\n",
    "    \n",
    "\n",
    "ref_distance = 3.563594872561358\n",
    "\n",
    "start_snap.particles.position *= ref_distance\n",
    "start_snap.configuration.box[:3] *= ref_distance\n",
    "end_snap.particles.position *= ref_distance\n",
    "end_snap.configuration.box[:3] *= ref_distance\n",
    "\n",
    "box = start_snap.configuration.box[:3]\n",
    "unwrapped_positions = start_snap.particles.position + start_snap.particles.image * box\n",
    "unwrap_snap = deepcopy(start_snap)\n",
    "unwrap_snap.particles.position = unwrapped_positions\n",
    "unwrap_snap.particles.types = [amber_dict[i].symbol for i in start_snap.particles.types]\n",
    "comp = from_snapshot(unwrap_snap, scale=0.1)\n",
    "comp.visualize().show()\n",
    "\n",
    "#box = end_snap.configuration.box[:3]\n",
    "#unwrapped_positions = end_snap.particles.position + end_snap.particles.image * box\n",
    "#unwrap_snap = deepcopy(end_snap)\n",
    "#unwrap_snap.particles.position = unwrapped_positions\n",
    "#unwrap_snap.particles.types = [amber_dict[i].symbol for i in end_snap.particles.types]\n",
    "#comp = from_snapshot(unwrap_snap, scale=0.1)\n",
    "#comp.visualize().show()"
   ]
  },
  {
   "cell_type": "code",
   "execution_count": 3,
   "id": "30bd7e8e",
   "metadata": {},
   "outputs": [
    {
     "name": "stdout",
     "output_type": "stream",
     "text": [
      "[309.47433 309.47433 309.47433   0.        0.        0.     ]\n",
      "[62.14245 62.14245 62.14245  0.       0.       0.     ]\n"
     ]
    }
   ],
   "source": [
    "print(start_snap.configuration.box)\n",
    "print(end_snap.configuration.box)"
   ]
  },
  {
   "cell_type": "markdown",
   "id": "8f12ce70",
   "metadata": {},
   "source": [
    "below is some scratch for breaking chromophores into pieces of smiles strings. may be useful down the road but for now its easier to explicity prescibe atom indeces for your chromo"
   ]
  },
  {
   "cell_type": "code",
   "execution_count": 4,
   "id": "807b40ef",
   "metadata": {},
   "outputs": [],
   "source": [
    "#smarts_str = \"c1ccccc1\"\n",
    "#aaids=[]\n",
    "#aaids_pent = chromophores.get_chromo_ids_smiles(snap, \"c1sc2ccsc2c1\", amber_dict)\n",
    "#comp = from_snapshot(unwrap_snap, scale=0.1*ref_distance)\n",
    "\n",
    "#aaids_benzene = chromophores.get_chromo_ids_smiles(snap, smarts_str, amber_dict)\n",
    "#aaids_thiothene = chromophores.get_chromo_ids_smiles(snap, \"c1sc(C)cc1\", amber_dict)\n",
    "#aaids.extend(aaids_benzene)\n",
    "#aaids.extend(aaids_thiothene)\n",
    "#aaids.extend(aaids_pent)\n"
   ]
  },
  {
   "cell_type": "markdown",
   "id": "b0178cf8",
   "metadata": {
    "tags": []
   },
   "source": [
    "the indexes below came from viewing the single molecule trajectory in vmd and clicking on the molecules that I like for my chromos. this cell visualizes those chosen. picking the fused ring core as one chromo and the end group as one"
   ]
  },
  {
   "cell_type": "code",
   "execution_count": 5,
   "id": "8e843d88",
   "metadata": {},
   "outputs": [
    {
     "data": {
      "application/3dmoljs_load.v0": "<div id=\"3dmolviewer_16240376737947252\"  style=\"position: relative; width: 640px; height: 480px\">\n        <p id=\"3dmolwarning_16240376737947252\" style=\"background-color:#ffcccc;color:black\">You appear to be running in JupyterLab (or JavaScript failed to load for some other reason).  You need to install the 3dmol extension: <br>\n        <tt>jupyter labextension install jupyterlab_3dmol</tt></p>\n        </div>\n<script>\n\nvar loadScriptAsync = function(uri){\n  return new Promise((resolve, reject) => {\n    var tag = document.createElement('script');\n    tag.src = uri;\n    tag.async = true;\n    tag.onload = () => {\n      resolve();\n    };\n  var firstScriptTag = document.getElementsByTagName('script')[0];\n  firstScriptTag.parentNode.insertBefore(tag, firstScriptTag);\n});\n};\n\nif(typeof $3Dmolpromise === 'undefined') {\n$3Dmolpromise = null;\n  $3Dmolpromise = loadScriptAsync('https://3dmol.csb.pitt.edu/build/3Dmol.js');\n}\n\nvar viewer_16240376737947252 = null;\nvar warn = document.getElementById(\"3dmolwarning_16240376737947252\");\nif(warn) {\n    warn.parentNode.removeChild(warn);\n}\n$3Dmolpromise.then(function() {\nviewer_16240376737947252 = $3Dmol.createViewer($(\"#3dmolviewer_16240376737947252\"),{backgroundColor:\"white\"});\n\tviewer_16240376737947252.addModel(\"@<TRIPOS>MOLECULE\\nRES\\n186 200 1 0 1\\nSMALL\\nNO_CHARGES\\n@<TRIPOS>CRYSIN\\n  309.4743   309.4743   309.4743    90.0000    90.0000    90.0000  1  1\\n@<TRIPOS>ATOM\\n       1 S            3.3525    19.7995   300.1560 S             1 RES     \\n       2 S            4.2145    20.8075   299.7000 S             1 RES     \\n       3 S            5.6015    20.5765   299.5900 S             1 RES     \\n       4 H            3.7995    21.7695   299.4590 H             1 RES     \\n       5 S            6.0945    19.3205   299.9340 S             1 RES     \\n       6 H            6.2695    21.3625   299.2680 H             1 RES     \\n       7 S            5.2165    18.3135   300.3010 S             1 RES     \\n       8 S            3.8545    18.5465   300.4510 S             1 RES     \\n       9 H            3.1815    17.7915   300.8170 H             1 RES     \\n      10 H            2.2945    19.9705   300.2840 H             1 RES     \\n      11 S            5.9115    17.0615   300.5290 S             1 RES     \\n      12 S            7.3695    17.4085   300.4700 S             1 RES     \\n      13 S            7.4755    18.8155   300.0050 S             1 RES     \\n      14 S            8.4925    19.4625   299.7900 S             1 RES     \\n      15 S            5.3185    15.7935   300.5560 S             1 RES     \\n      16 S            3.9755    15.6285   300.1260 S             1 RES     \\n      17 S            5.8945    14.4785   300.8370 S             1 RES     \\n      18 S            2.8835    15.5065   299.7740 S             1 RES     \\n      19 S            6.3475    13.4345   301.0600 S             1 RES     \\n      20 C            8.1985    16.3975   300.6410 C             1 RES     \\n      21 Kr           9.5125    15.8525   300.5900 Kr            1 RES     \\n      22 H            7.6835    15.6915   301.1420 H             1 RES     \\n      23 Kr          10.9405    16.7215   300.4450 Kr            1 RES     \\n      24 Kr          11.8825    15.5485   301.1950 Kr            1 RES     \\n      25 Kr          11.0805    14.4085   301.3020 Kr            1 RES     \\n      26 Kr           9.7135    14.5395   301.0320 Kr            1 RES     \\n      27 H            8.8685    13.8755   301.3700 H             1 RES     \\n      28 Kr          13.1305    15.5505   302.0400 Kr            1 RES     \\n      29 Kr          11.9015    13.2685   302.1630 Kr            1 RES     \\n      30 Kr          13.2705    14.2155   302.5320 Kr            1 RES     \\n      31 Kr          14.1745    16.6605   302.8650 Kr            1 RES     \\n      32 Kr          15.1035    15.3005   303.3070 Kr            1 RES     \\n      33 Kr          14.5785    13.9735   303.2000 Kr            1 RES     \\n      34 C           15.1545    18.0745   303.3300 C             1 RES     \\n      35 C           12.8725    17.6595   303.1030 C             1 RES     \\n      36 C           12.8275    18.9165   302.3730 C             1 RES     \\n      37 C           11.7695    19.8405   302.4050 C             1 RES     \\n      38 C           10.5975    19.5965   303.1210 C             1 RES     \\n      39 C           10.6505    18.4675   303.9970 C             1 RES     \\n      40 C           16.2135    18.7295   302.5650 C             1 RES     \\n      41 C           16.7565    20.0845   302.8310 C             1 RES     \\n      42 C           16.3335    20.9565   303.8760 C             1 RES     \\n      43 C           15.4205    20.3205   304.7330 C             1 RES     \\n      44 C           14.8705    18.9695   304.5060 C             1 RES     \\n      45 C           11.7645    17.5305   304.0030 C             1 RES     \\n      46 H           16.6205    18.2665   301.6830 H             1 RES     \\n      47 H            9.8055    18.2635   304.6340 H             1 RES     \\n      48 H           11.7305    16.6915   304.6840 H             1 RES     \\n      49 H           11.8545    20.7435   301.8050 H             1 RES     \\n      50 H           13.6545    19.2345   301.7490 H             1 RES     \\n      51 H           17.5005    20.5185   302.1740 H             1 RES     \\n      52 H           15.0945    20.9515   305.5600 H             1 RES     \\n      53 H           14.1265    18.7305   305.2590 H             1 RES     \\n      54 C            9.3105    20.4485   302.7230 C             1 RES     \\n      55 C            8.6915    21.6335   303.5370 C             1 RES     \\n      56 H            8.5045    19.7315   302.4640 H             1 RES     \\n      57 H            9.5765    20.9285   301.7580 H             1 RES     \\n      58 C            7.8095    22.7485   302.7980 C             1 RES     \\n      59 H            9.5705    22.2075   303.8860 H             1 RES     \\n      60 H            8.1405    21.2615   304.4250 H             1 RES     \\n      61 C            6.3135    22.5505   302.3620 C             1 RES     \\n      62 H            8.3575    23.1645   301.9190 H             1 RES     \\n      63 H            7.7705    23.5745   303.5350 H             1 RES     \\n      64 C            5.4895    23.8855   302.4280 C             1 RES     \\n      65 H            6.3085    22.1905   301.3280 H             1 RES     \\n      66 H            5.7865    21.8215   303.0090 H             1 RES     \\n      67 C            4.0985    23.8375   301.7660 C             1 RES     \\n      68 H            6.0355    24.7255   301.9470 H             1 RES     \\n      69 H            5.3425    24.1415   303.5010 H             1 RES     \\n      70 H            4.1945    23.7615   300.6620 H             1 RES     \\n      71 H            3.5445    24.7835   301.9730 H             1 RES     \\n      72 H            3.4795    22.9965   302.1410 H             1 RES     \\n      73 C           16.7605    22.5445   303.9920 C             1 RES     \\n      74 C           17.5795    23.1705   305.2090 C             1 RES     \\n      75 H           15.8485    23.1875   303.9100 H             1 RES     \\n      76 H           17.3705    22.8365   303.1020 H             1 RES     \\n      77 C           18.0395    24.7025   305.1120 C             1 RES     \\n      78 H           18.5245    22.5975   305.2320 H             1 RES     \\n      79 H           17.0625    23.0325   306.1820 H             1 RES     \\n      80 C           17.0545    25.7865   305.6470 C             1 RES     \\n      81 H           18.3275    24.9445   304.0660 H             1 RES     \\n      82 H           18.9585    24.8355   305.7300 H             1 RES     \\n      83 C           17.5365    27.2635   305.4720 C             1 RES     \\n      84 H           16.8455    25.6205   306.7280 H             1 RES     \\n      85 H           16.1055    25.6885   305.0880 H             1 RES     \\n      86 C           18.6605    27.7235   306.4150 C             1 RES     \\n      87 H           16.6775    27.9405   305.6860 H             1 RES     \\n      88 H           17.8415    27.4395   304.4190 H             1 RES     \\n      89 H           18.3285    27.6645   307.4740 H             1 RES     \\n      90 H           18.9015    28.7945   306.2100 H             1 RES     \\n      91 H           19.5875    27.1345   306.2810 H             1 RES     \\n      92 Kr          16.5165    15.3295   303.5570 Kr            1 RES     \\n      93 Kr          17.3665    14.1635   303.5930 Kr            1 RES     \\n      94 Kr          16.8625    12.8485   303.6030 Kr            1 RES     \\n      95 Kr          15.3995    12.7285   303.5100 Kr            1 RES     \\n      96 H           16.9975    16.2705   303.5900 H             1 RES     \\n      97 H           15.0925    11.6635   303.4400 H             1 RES     \\n      98 Kr          18.8585    14.0785   303.6090 Kr            1 RES     \\n      99 Kr          18.0565    11.7185   303.3400 Kr            1 RES     \\n     100 Kr          19.2695    12.7635   303.5600 Kr            1 RES     \\n     101 Kr          20.2205    15.1285   303.8360 Kr            1 RES     \\n     102 Kr          21.3505    13.8735   304.1110 Kr            1 RES     \\n     103 Kr          20.7055    12.6755   303.9730 Kr            1 RES     \\n     104 C           19.0195    10.5105   303.6380 C             1 RES     \\n     105 C           17.2195    10.9305   302.1250 C             1 RES     \\n     106 C           16.2445    11.5015   301.2140 C             1 RES     \\n     107 C           15.2445    10.6935   300.5700 C             1 RES     \\n     108 C           15.2505     9.2855   300.6980 C             1 RES     \\n     109 C           16.2775     8.7215   301.4150 C             1 RES     \\n     110 C           17.1735     9.4845   302.1100 C             1 RES     \\n     111 C           19.9525    10.2215   302.5790 C             1 RES     \\n     112 C           20.8965     9.1985   302.6560 C             1 RES     \\n     113 C           20.9665     8.3725   303.7840 C             1 RES     \\n     114 C           20.0135     8.6005   304.8230 C             1 RES     \\n     115 C           19.0465     9.6525   304.7540 C             1 RES     \\n     116 C           22.2435     7.5195   303.9860 C             1 RES     \\n     117 C           22.5765     6.0435   303.5860 C             1 RES     \\n     118 H           22.4645     7.6015   305.0690 H             1 RES     \\n     119 H           23.0225     8.0995   303.4490 H             1 RES     \\n     120 C           24.0855     5.7675   303.9670 C             1 RES     \\n     121 H           22.4425     5.8835   302.4950 H             1 RES     \\n     122 H           21.9165     5.3495   304.1460 H             1 RES     \\n     123 C           24.6685     4.3305   303.8110 C             1 RES     \\n     124 H           24.2085     6.0325   305.0400 H             1 RES     \\n     125 H           24.7235     6.4525   303.3620 H             1 RES     \\n     126 C           26.1555     4.2645   304.2850 C             1 RES     \\n     127 H           24.6175     4.0065   302.7500 H             1 RES     \\n     128 H           24.0745     3.6315   304.4350 H             1 RES     \\n     129 C           26.7825     2.8635   304.2330 C             1 RES     \\n     130 H           26.2265     4.6045   305.3410 H             1 RES     \\n     131 H           26.7835     4.9355   303.6580 H             1 RES     \\n     132 H           26.2335     2.1555   304.8880 H             1 RES     \\n     133 H           27.8345     2.9105   304.6010 H             1 RES     \\n     134 H           26.8065     2.4665   303.1970 H             1 RES     \\n     135 C           14.2295     8.2605   300.1940 C             1 RES     \\n     136 C           12.7735     8.6755   299.9280 C             1 RES     \\n     137 H           14.1265     7.5005   301.0080 H             1 RES     \\n     138 H           14.6665     7.7235   299.3250 H             1 RES     \\n     139 C           11.9365     7.4135   299.5680 C             1 RES     \\n     140 H           12.7465     9.4025   299.0940 H             1 RES     \\n     141 H           12.3435     9.1415   300.8430 H             1 RES     \\n     142 C           10.4825     7.7455   299.1980 C             1 RES     \\n     143 H           11.9355     6.6995   300.4250 H             1 RES     \\n     144 H           12.4105     6.9055   298.7000 H             1 RES     \\n     145 C            9.6985     6.4925   298.7620 C             1 RES     \\n     146 H           10.4925     8.4665   298.3540 H             1 RES     \\n     147 H            9.9725     8.2095   300.0700 H             1 RES     \\n     148 C            8.2735     6.8475   298.3300 C             1 RES     \\n     149 H            9.6485     5.7595   299.5980 H             1 RES     \\n     150 H           10.2095     6.0085   297.9000 H             1 RES     \\n     151 H            7.7125     7.3055   299.1720 H             1 RES     \\n     152 H            7.7365     5.9305   298.0050 H             1 RES     \\n     153 H            8.2945     7.5585   297.4770 H             1 RES     \\n     154 H           16.1225    12.5745   301.1140 H             1 RES     \\n     155 H           14.4445    11.1705   300.0190 H             1 RES     \\n     156 H           16.3435     7.6455   301.5310 H             1 RES     \\n     157 H           17.7825     8.8305   302.7030 H             1 RES     \\n     158 H           18.3435     9.8075   305.5610 H             1 RES     \\n     159 H           19.9745    10.8585   301.6980 H             1 RES     \\n     160 H           21.6225     9.1165   301.8560 H             1 RES     \\n     161 H           20.0485     7.9945   305.7160 H             1 RES     \\n     162 Kr          21.8995    11.4875   304.4360 Kr            1 RES     \\n     163 Kr          23.2245    12.5095   304.7590 Kr            1 RES     \\n     164 Kr          22.7295    13.8165   304.4960 Kr            1 RES     \\n     165 H           23.3545    14.6905   304.6090 H             1 RES     \\n     166 C           24.6755    12.2755   305.2170 C             1 RES     \\n     167 C           25.5515    11.2175   305.4340 C             1 RES     \\n     168 H           25.1295    13.2315   305.3510 H             1 RES     \\n     169 C           25.3695     9.7565   305.2450 C             1 RES     \\n     170 C           26.6745     9.0605   305.3720 C             1 RES     \\n     171 C           27.6385     9.9905   305.6800 C             1 RES     \\n     172 C           27.0435    11.3595   305.7140 C             1 RES     \\n     173 O           24.3115     9.2075   305.0370 O             1 RES     \\n     174 C           27.7905    12.4865   305.8950 C             1 RES     \\n     175 C           27.2845    13.7775   306.2690 C             1 RES     \\n     176 C           29.2115    12.4615   305.6380 C             1 RES     \\n     177 N           26.9185    14.8335   306.5690 N             1 RES     \\n     178 N           30.3475    12.4025   305.4230 N             1 RES     \\n     179 C           28.9475     9.5675   306.0120 C             1 RES     \\n     180 C           29.2935     8.2215   305.9290 C             1 RES     \\n     181 C           28.3385     7.2855   305.5280 C             1 RES     \\n     182 C           27.0155     7.6965   305.2650 C             1 RES     \\n     183 H           29.7135    10.2275   306.3690 H             1 RES     \\n     184 H           30.3025     7.9135   306.1860 H             1 RES     \\n     185 H           28.6305     6.2435   305.4580 H             1 RES     \\n     186 H           26.2905     6.9575   305.0030 H             1 RES     \\n@<TRIPOS>BOND\\n       1      110      157 1\\n       2        3        6 1\\n       3      109      110 1\\n       4      180      184 1\\n       5       93       94 1\\n       6      117      121 1\\n       7       61       66 1\\n       8       31       32 1\\n       9      181      182 1\\n      10       20       22 1\\n      11      123      128 1\\n      12       74       79 1\\n      13      106      107 1\\n      14       11       12 1\\n      15      169      170 1\\n      16      116      118 1\\n      17      120      124 1\\n      18       86       90 1\\n      19       77       82 1\\n      20      139      143 1\\n      21       63       58 1\\n      22       42       43 1\\n      23      136      141 1\\n      24       83       86 1\\n      25       94       99 1\\n      26       36       50 1\\n      27       31       34 1\\n      28      123      126 1\\n      29       62       58 1\\n      30      129      133 1\\n      31       37       38 1\\n      32       16       18 1\\n      33      166      168 1\\n      34       54       38 1\\n      35       92       93 1\\n      36      112      160 1\\n      37        2        3 1\\n      38       61       58 1\\n      39       37       49 1\\n      40      135      137 1\\n      41       11       15 1\\n      42      179      180 1\\n      43       68       64 1\\n      44       83       88 1\\n      45      174      175 1\\n      46       93       98 1\\n      47       35       45 1\\n      48        8        9 1\\n      49      111      112 1\\n      50       24       25 1\\n      51      102      164 1\\n      52       32       33 1\\n      53       21       23 1\\n      54      167      169 1\\n      55       17       19 1\\n      56      108      135 1\\n      57       36       37 1\\n      58       73       42 1\\n      59      170      182 1\\n      60      148      152 1\\n      61       39       45 1\\n      62       71       67 1\\n      63       41       51 1\\n      64       70       67 1\\n      65      176      178 1\\n      66       55       59 1\\n      67        7        8 1\\n      68       94       95 1\\n      69       23       24 1\\n      70       32       92 1\\n      71       64       61 1\\n      72       80       84 1\\n      73       38       39 1\\n      74       15       17 1\\n      75       44       53 1\\n      76       39       47 1\\n      77       40       46 1\\n      78       12       20 1\\n      79       25       29 1\\n      80       75       73 1\\n      81      105      106 1\\n      82        3        5 1\\n      83       55       54 1\\n      84       35       36 1\\n      85       28       31 1\\n      86        1       10 1\\n      87      145      148 1\\n      88      142      146 1\\n      89      126      130 1\\n      90       73       74 1\\n      91        5       13 1\\n      92      136      139 1\\n      93      111      159 1\\n      94      179      183 1\\n      95       99      105 1\\n      96      175      177 1\\n      97       21       26 1\\n      98       61       65 1\\n      99       34       40 1\\n     100       74       78 1\\n     101      145      150 1\\n     102       86       89 1\\n     103      164      165 1\\n     104      101      102 1\\n     105        1        2 1\\n     106      139      144 1\\n     107      114      115 1\\n     108      136      140 1\\n     109       72       67 1\\n     110       30       33 1\\n     111       24       28 1\\n     112        7       11 1\\n     113      117      120 1\\n     114      115      158 1\\n     115       45       48 1\\n     116      123      127 1\\n     117      182      186 1\\n     118      170      171 1\\n     119       98      100 1\\n     120      120      125 1\\n     121      116      119 1\\n     122      148      151 1\\n     123       86       91 1\\n     124       77       81 1\\n     125       92       96 1\\n     126      139      142 1\\n     127      135      138 1\\n     128       80       85 1\\n     129      113      114 1\\n     130       26       27 1\\n     131       98      101 1\\n     132       99      104 1\\n     133       83       87 1\\n     134      174      176 1\\n     135      172      174 1\\n     136       55       58 1\\n     137       95       97 1\\n     138       73       76 1\\n     139      117      122 1\\n     140      108      109 1\\n     141       31       35 1\\n     142      181      185 1\\n     143       34       44 1\\n     144       33       95 1\\n     145      171      172 1\\n     146      129      132 1\\n     147      116      117 1\\n     148       29       30 1\\n     149        1        8 1\\n     150      107      155 1\\n     151      148      153 1\\n     152      166      167 1\\n     153       54       57 1\\n     154       55       60 1\\n     155       77       74 1\\n     156        5        7 1\\n     157      135      136 1\\n     158      113      116 1\\n     159      114      161 1\\n     160      104      111 1\\n     161       41       42 1\\n     162       43       52 1\\n     163      129      134 1\\n     164       15       16 1\\n     165      106      154 1\\n     166      102      103 1\\n     167      109      156 1\\n     168      100      103 1\\n     169      163      166 1\\n     170      180      181 1\\n     171       69       64 1\\n     172        2        4 1\\n     173      167      172 1\\n     174      145      149 1\\n     175       80       83 1\\n     176      142      145 1\\n     177      126      129 1\\n     178       64       67 1\\n     179       43       44 1\\n     180      112      113 1\\n     181       25       26 1\\n     182       13       14 1\\n     183      163      164 1\\n     184      171      179 1\\n     185       54       56 1\\n     186      169      173 1\\n     187      120      123 1\\n     188      103      162 1\\n     189       20       21 1\\n     190      107      108 1\\n     191       99      100 1\\n     192       12       13 1\\n     193       28       30 1\\n     194      105      110 1\\n     195      162      163 1\\n     196      104      115 1\\n     197      142      147 1\\n     198      126      131 1\\n     199       40       41 1\\n     200       77       80 1\\n@<TRIPOS>SUBSTRUCTURE\\n       1 RES             1 RESIDUE    0 **** ROOT      0\\n\",\"mol2\");\n\tviewer_16240376737947252.setStyle({\"stick\": {\"radius\": 0.2, \"color\": \"grey\"}, \"sphere\": {\"scale\": 0.3, \"colorscheme\": {}}});\n\tviewer_16240376737947252.zoomTo();\nviewer_16240376737947252.render();\n});\n</script>",
      "text/html": [
       "<div id=\"3dmolviewer_16240376737947252\"  style=\"position: relative; width: 640px; height: 480px\">\n",
       "        <p id=\"3dmolwarning_16240376737947252\" style=\"background-color:#ffcccc;color:black\">You appear to be running in JupyterLab (or JavaScript failed to load for some other reason).  You need to install the 3dmol extension: <br>\n",
       "        <tt>jupyter labextension install jupyterlab_3dmol</tt></p>\n",
       "        </div>\n",
       "<script>\n",
       "\n",
       "var loadScriptAsync = function(uri){\n",
       "  return new Promise((resolve, reject) => {\n",
       "    var tag = document.createElement('script');\n",
       "    tag.src = uri;\n",
       "    tag.async = true;\n",
       "    tag.onload = () => {\n",
       "      resolve();\n",
       "    };\n",
       "  var firstScriptTag = document.getElementsByTagName('script')[0];\n",
       "  firstScriptTag.parentNode.insertBefore(tag, firstScriptTag);\n",
       "});\n",
       "};\n",
       "\n",
       "if(typeof $3Dmolpromise === 'undefined') {\n",
       "$3Dmolpromise = null;\n",
       "  $3Dmolpromise = loadScriptAsync('https://3dmol.csb.pitt.edu/build/3Dmol.js');\n",
       "}\n",
       "\n",
       "var viewer_16240376737947252 = null;\n",
       "var warn = document.getElementById(\"3dmolwarning_16240376737947252\");\n",
       "if(warn) {\n",
       "    warn.parentNode.removeChild(warn);\n",
       "}\n",
       "$3Dmolpromise.then(function() {\n",
       "viewer_16240376737947252 = $3Dmol.createViewer($(\"#3dmolviewer_16240376737947252\"),{backgroundColor:\"white\"});\n",
       "\tviewer_16240376737947252.addModel(\"@<TRIPOS>MOLECULE\\nRES\\n186 200 1 0 1\\nSMALL\\nNO_CHARGES\\n@<TRIPOS>CRYSIN\\n  309.4743   309.4743   309.4743    90.0000    90.0000    90.0000  1  1\\n@<TRIPOS>ATOM\\n       1 S            3.3525    19.7995   300.1560 S             1 RES     \\n       2 S            4.2145    20.8075   299.7000 S             1 RES     \\n       3 S            5.6015    20.5765   299.5900 S             1 RES     \\n       4 H            3.7995    21.7695   299.4590 H             1 RES     \\n       5 S            6.0945    19.3205   299.9340 S             1 RES     \\n       6 H            6.2695    21.3625   299.2680 H             1 RES     \\n       7 S            5.2165    18.3135   300.3010 S             1 RES     \\n       8 S            3.8545    18.5465   300.4510 S             1 RES     \\n       9 H            3.1815    17.7915   300.8170 H             1 RES     \\n      10 H            2.2945    19.9705   300.2840 H             1 RES     \\n      11 S            5.9115    17.0615   300.5290 S             1 RES     \\n      12 S            7.3695    17.4085   300.4700 S             1 RES     \\n      13 S            7.4755    18.8155   300.0050 S             1 RES     \\n      14 S            8.4925    19.4625   299.7900 S             1 RES     \\n      15 S            5.3185    15.7935   300.5560 S             1 RES     \\n      16 S            3.9755    15.6285   300.1260 S             1 RES     \\n      17 S            5.8945    14.4785   300.8370 S             1 RES     \\n      18 S            2.8835    15.5065   299.7740 S             1 RES     \\n      19 S            6.3475    13.4345   301.0600 S             1 RES     \\n      20 C            8.1985    16.3975   300.6410 C             1 RES     \\n      21 Kr           9.5125    15.8525   300.5900 Kr            1 RES     \\n      22 H            7.6835    15.6915   301.1420 H             1 RES     \\n      23 Kr          10.9405    16.7215   300.4450 Kr            1 RES     \\n      24 Kr          11.8825    15.5485   301.1950 Kr            1 RES     \\n      25 Kr          11.0805    14.4085   301.3020 Kr            1 RES     \\n      26 Kr           9.7135    14.5395   301.0320 Kr            1 RES     \\n      27 H            8.8685    13.8755   301.3700 H             1 RES     \\n      28 Kr          13.1305    15.5505   302.0400 Kr            1 RES     \\n      29 Kr          11.9015    13.2685   302.1630 Kr            1 RES     \\n      30 Kr          13.2705    14.2155   302.5320 Kr            1 RES     \\n      31 Kr          14.1745    16.6605   302.8650 Kr            1 RES     \\n      32 Kr          15.1035    15.3005   303.3070 Kr            1 RES     \\n      33 Kr          14.5785    13.9735   303.2000 Kr            1 RES     \\n      34 C           15.1545    18.0745   303.3300 C             1 RES     \\n      35 C           12.8725    17.6595   303.1030 C             1 RES     \\n      36 C           12.8275    18.9165   302.3730 C             1 RES     \\n      37 C           11.7695    19.8405   302.4050 C             1 RES     \\n      38 C           10.5975    19.5965   303.1210 C             1 RES     \\n      39 C           10.6505    18.4675   303.9970 C             1 RES     \\n      40 C           16.2135    18.7295   302.5650 C             1 RES     \\n      41 C           16.7565    20.0845   302.8310 C             1 RES     \\n      42 C           16.3335    20.9565   303.8760 C             1 RES     \\n      43 C           15.4205    20.3205   304.7330 C             1 RES     \\n      44 C           14.8705    18.9695   304.5060 C             1 RES     \\n      45 C           11.7645    17.5305   304.0030 C             1 RES     \\n      46 H           16.6205    18.2665   301.6830 H             1 RES     \\n      47 H            9.8055    18.2635   304.6340 H             1 RES     \\n      48 H           11.7305    16.6915   304.6840 H             1 RES     \\n      49 H           11.8545    20.7435   301.8050 H             1 RES     \\n      50 H           13.6545    19.2345   301.7490 H             1 RES     \\n      51 H           17.5005    20.5185   302.1740 H             1 RES     \\n      52 H           15.0945    20.9515   305.5600 H             1 RES     \\n      53 H           14.1265    18.7305   305.2590 H             1 RES     \\n      54 C            9.3105    20.4485   302.7230 C             1 RES     \\n      55 C            8.6915    21.6335   303.5370 C             1 RES     \\n      56 H            8.5045    19.7315   302.4640 H             1 RES     \\n      57 H            9.5765    20.9285   301.7580 H             1 RES     \\n      58 C            7.8095    22.7485   302.7980 C             1 RES     \\n      59 H            9.5705    22.2075   303.8860 H             1 RES     \\n      60 H            8.1405    21.2615   304.4250 H             1 RES     \\n      61 C            6.3135    22.5505   302.3620 C             1 RES     \\n      62 H            8.3575    23.1645   301.9190 H             1 RES     \\n      63 H            7.7705    23.5745   303.5350 H             1 RES     \\n      64 C            5.4895    23.8855   302.4280 C             1 RES     \\n      65 H            6.3085    22.1905   301.3280 H             1 RES     \\n      66 H            5.7865    21.8215   303.0090 H             1 RES     \\n      67 C            4.0985    23.8375   301.7660 C             1 RES     \\n      68 H            6.0355    24.7255   301.9470 H             1 RES     \\n      69 H            5.3425    24.1415   303.5010 H             1 RES     \\n      70 H            4.1945    23.7615   300.6620 H             1 RES     \\n      71 H            3.5445    24.7835   301.9730 H             1 RES     \\n      72 H            3.4795    22.9965   302.1410 H             1 RES     \\n      73 C           16.7605    22.5445   303.9920 C             1 RES     \\n      74 C           17.5795    23.1705   305.2090 C             1 RES     \\n      75 H           15.8485    23.1875   303.9100 H             1 RES     \\n      76 H           17.3705    22.8365   303.1020 H             1 RES     \\n      77 C           18.0395    24.7025   305.1120 C             1 RES     \\n      78 H           18.5245    22.5975   305.2320 H             1 RES     \\n      79 H           17.0625    23.0325   306.1820 H             1 RES     \\n      80 C           17.0545    25.7865   305.6470 C             1 RES     \\n      81 H           18.3275    24.9445   304.0660 H             1 RES     \\n      82 H           18.9585    24.8355   305.7300 H             1 RES     \\n      83 C           17.5365    27.2635   305.4720 C             1 RES     \\n      84 H           16.8455    25.6205   306.7280 H             1 RES     \\n      85 H           16.1055    25.6885   305.0880 H             1 RES     \\n      86 C           18.6605    27.7235   306.4150 C             1 RES     \\n      87 H           16.6775    27.9405   305.6860 H             1 RES     \\n      88 H           17.8415    27.4395   304.4190 H             1 RES     \\n      89 H           18.3285    27.6645   307.4740 H             1 RES     \\n      90 H           18.9015    28.7945   306.2100 H             1 RES     \\n      91 H           19.5875    27.1345   306.2810 H             1 RES     \\n      92 Kr          16.5165    15.3295   303.5570 Kr            1 RES     \\n      93 Kr          17.3665    14.1635   303.5930 Kr            1 RES     \\n      94 Kr          16.8625    12.8485   303.6030 Kr            1 RES     \\n      95 Kr          15.3995    12.7285   303.5100 Kr            1 RES     \\n      96 H           16.9975    16.2705   303.5900 H             1 RES     \\n      97 H           15.0925    11.6635   303.4400 H             1 RES     \\n      98 Kr          18.8585    14.0785   303.6090 Kr            1 RES     \\n      99 Kr          18.0565    11.7185   303.3400 Kr            1 RES     \\n     100 Kr          19.2695    12.7635   303.5600 Kr            1 RES     \\n     101 Kr          20.2205    15.1285   303.8360 Kr            1 RES     \\n     102 Kr          21.3505    13.8735   304.1110 Kr            1 RES     \\n     103 Kr          20.7055    12.6755   303.9730 Kr            1 RES     \\n     104 C           19.0195    10.5105   303.6380 C             1 RES     \\n     105 C           17.2195    10.9305   302.1250 C             1 RES     \\n     106 C           16.2445    11.5015   301.2140 C             1 RES     \\n     107 C           15.2445    10.6935   300.5700 C             1 RES     \\n     108 C           15.2505     9.2855   300.6980 C             1 RES     \\n     109 C           16.2775     8.7215   301.4150 C             1 RES     \\n     110 C           17.1735     9.4845   302.1100 C             1 RES     \\n     111 C           19.9525    10.2215   302.5790 C             1 RES     \\n     112 C           20.8965     9.1985   302.6560 C             1 RES     \\n     113 C           20.9665     8.3725   303.7840 C             1 RES     \\n     114 C           20.0135     8.6005   304.8230 C             1 RES     \\n     115 C           19.0465     9.6525   304.7540 C             1 RES     \\n     116 C           22.2435     7.5195   303.9860 C             1 RES     \\n     117 C           22.5765     6.0435   303.5860 C             1 RES     \\n     118 H           22.4645     7.6015   305.0690 H             1 RES     \\n     119 H           23.0225     8.0995   303.4490 H             1 RES     \\n     120 C           24.0855     5.7675   303.9670 C             1 RES     \\n     121 H           22.4425     5.8835   302.4950 H             1 RES     \\n     122 H           21.9165     5.3495   304.1460 H             1 RES     \\n     123 C           24.6685     4.3305   303.8110 C             1 RES     \\n     124 H           24.2085     6.0325   305.0400 H             1 RES     \\n     125 H           24.7235     6.4525   303.3620 H             1 RES     \\n     126 C           26.1555     4.2645   304.2850 C             1 RES     \\n     127 H           24.6175     4.0065   302.7500 H             1 RES     \\n     128 H           24.0745     3.6315   304.4350 H             1 RES     \\n     129 C           26.7825     2.8635   304.2330 C             1 RES     \\n     130 H           26.2265     4.6045   305.3410 H             1 RES     \\n     131 H           26.7835     4.9355   303.6580 H             1 RES     \\n     132 H           26.2335     2.1555   304.8880 H             1 RES     \\n     133 H           27.8345     2.9105   304.6010 H             1 RES     \\n     134 H           26.8065     2.4665   303.1970 H             1 RES     \\n     135 C           14.2295     8.2605   300.1940 C             1 RES     \\n     136 C           12.7735     8.6755   299.9280 C             1 RES     \\n     137 H           14.1265     7.5005   301.0080 H             1 RES     \\n     138 H           14.6665     7.7235   299.3250 H             1 RES     \\n     139 C           11.9365     7.4135   299.5680 C             1 RES     \\n     140 H           12.7465     9.4025   299.0940 H             1 RES     \\n     141 H           12.3435     9.1415   300.8430 H             1 RES     \\n     142 C           10.4825     7.7455   299.1980 C             1 RES     \\n     143 H           11.9355     6.6995   300.4250 H             1 RES     \\n     144 H           12.4105     6.9055   298.7000 H             1 RES     \\n     145 C            9.6985     6.4925   298.7620 C             1 RES     \\n     146 H           10.4925     8.4665   298.3540 H             1 RES     \\n     147 H            9.9725     8.2095   300.0700 H             1 RES     \\n     148 C            8.2735     6.8475   298.3300 C             1 RES     \\n     149 H            9.6485     5.7595   299.5980 H             1 RES     \\n     150 H           10.2095     6.0085   297.9000 H             1 RES     \\n     151 H            7.7125     7.3055   299.1720 H             1 RES     \\n     152 H            7.7365     5.9305   298.0050 H             1 RES     \\n     153 H            8.2945     7.5585   297.4770 H             1 RES     \\n     154 H           16.1225    12.5745   301.1140 H             1 RES     \\n     155 H           14.4445    11.1705   300.0190 H             1 RES     \\n     156 H           16.3435     7.6455   301.5310 H             1 RES     \\n     157 H           17.7825     8.8305   302.7030 H             1 RES     \\n     158 H           18.3435     9.8075   305.5610 H             1 RES     \\n     159 H           19.9745    10.8585   301.6980 H             1 RES     \\n     160 H           21.6225     9.1165   301.8560 H             1 RES     \\n     161 H           20.0485     7.9945   305.7160 H             1 RES     \\n     162 Kr          21.8995    11.4875   304.4360 Kr            1 RES     \\n     163 Kr          23.2245    12.5095   304.7590 Kr            1 RES     \\n     164 Kr          22.7295    13.8165   304.4960 Kr            1 RES     \\n     165 H           23.3545    14.6905   304.6090 H             1 RES     \\n     166 C           24.6755    12.2755   305.2170 C             1 RES     \\n     167 C           25.5515    11.2175   305.4340 C             1 RES     \\n     168 H           25.1295    13.2315   305.3510 H             1 RES     \\n     169 C           25.3695     9.7565   305.2450 C             1 RES     \\n     170 C           26.6745     9.0605   305.3720 C             1 RES     \\n     171 C           27.6385     9.9905   305.6800 C             1 RES     \\n     172 C           27.0435    11.3595   305.7140 C             1 RES     \\n     173 O           24.3115     9.2075   305.0370 O             1 RES     \\n     174 C           27.7905    12.4865   305.8950 C             1 RES     \\n     175 C           27.2845    13.7775   306.2690 C             1 RES     \\n     176 C           29.2115    12.4615   305.6380 C             1 RES     \\n     177 N           26.9185    14.8335   306.5690 N             1 RES     \\n     178 N           30.3475    12.4025   305.4230 N             1 RES     \\n     179 C           28.9475     9.5675   306.0120 C             1 RES     \\n     180 C           29.2935     8.2215   305.9290 C             1 RES     \\n     181 C           28.3385     7.2855   305.5280 C             1 RES     \\n     182 C           27.0155     7.6965   305.2650 C             1 RES     \\n     183 H           29.7135    10.2275   306.3690 H             1 RES     \\n     184 H           30.3025     7.9135   306.1860 H             1 RES     \\n     185 H           28.6305     6.2435   305.4580 H             1 RES     \\n     186 H           26.2905     6.9575   305.0030 H             1 RES     \\n@<TRIPOS>BOND\\n       1      110      157 1\\n       2        3        6 1\\n       3      109      110 1\\n       4      180      184 1\\n       5       93       94 1\\n       6      117      121 1\\n       7       61       66 1\\n       8       31       32 1\\n       9      181      182 1\\n      10       20       22 1\\n      11      123      128 1\\n      12       74       79 1\\n      13      106      107 1\\n      14       11       12 1\\n      15      169      170 1\\n      16      116      118 1\\n      17      120      124 1\\n      18       86       90 1\\n      19       77       82 1\\n      20      139      143 1\\n      21       63       58 1\\n      22       42       43 1\\n      23      136      141 1\\n      24       83       86 1\\n      25       94       99 1\\n      26       36       50 1\\n      27       31       34 1\\n      28      123      126 1\\n      29       62       58 1\\n      30      129      133 1\\n      31       37       38 1\\n      32       16       18 1\\n      33      166      168 1\\n      34       54       38 1\\n      35       92       93 1\\n      36      112      160 1\\n      37        2        3 1\\n      38       61       58 1\\n      39       37       49 1\\n      40      135      137 1\\n      41       11       15 1\\n      42      179      180 1\\n      43       68       64 1\\n      44       83       88 1\\n      45      174      175 1\\n      46       93       98 1\\n      47       35       45 1\\n      48        8        9 1\\n      49      111      112 1\\n      50       24       25 1\\n      51      102      164 1\\n      52       32       33 1\\n      53       21       23 1\\n      54      167      169 1\\n      55       17       19 1\\n      56      108      135 1\\n      57       36       37 1\\n      58       73       42 1\\n      59      170      182 1\\n      60      148      152 1\\n      61       39       45 1\\n      62       71       67 1\\n      63       41       51 1\\n      64       70       67 1\\n      65      176      178 1\\n      66       55       59 1\\n      67        7        8 1\\n      68       94       95 1\\n      69       23       24 1\\n      70       32       92 1\\n      71       64       61 1\\n      72       80       84 1\\n      73       38       39 1\\n      74       15       17 1\\n      75       44       53 1\\n      76       39       47 1\\n      77       40       46 1\\n      78       12       20 1\\n      79       25       29 1\\n      80       75       73 1\\n      81      105      106 1\\n      82        3        5 1\\n      83       55       54 1\\n      84       35       36 1\\n      85       28       31 1\\n      86        1       10 1\\n      87      145      148 1\\n      88      142      146 1\\n      89      126      130 1\\n      90       73       74 1\\n      91        5       13 1\\n      92      136      139 1\\n      93      111      159 1\\n      94      179      183 1\\n      95       99      105 1\\n      96      175      177 1\\n      97       21       26 1\\n      98       61       65 1\\n      99       34       40 1\\n     100       74       78 1\\n     101      145      150 1\\n     102       86       89 1\\n     103      164      165 1\\n     104      101      102 1\\n     105        1        2 1\\n     106      139      144 1\\n     107      114      115 1\\n     108      136      140 1\\n     109       72       67 1\\n     110       30       33 1\\n     111       24       28 1\\n     112        7       11 1\\n     113      117      120 1\\n     114      115      158 1\\n     115       45       48 1\\n     116      123      127 1\\n     117      182      186 1\\n     118      170      171 1\\n     119       98      100 1\\n     120      120      125 1\\n     121      116      119 1\\n     122      148      151 1\\n     123       86       91 1\\n     124       77       81 1\\n     125       92       96 1\\n     126      139      142 1\\n     127      135      138 1\\n     128       80       85 1\\n     129      113      114 1\\n     130       26       27 1\\n     131       98      101 1\\n     132       99      104 1\\n     133       83       87 1\\n     134      174      176 1\\n     135      172      174 1\\n     136       55       58 1\\n     137       95       97 1\\n     138       73       76 1\\n     139      117      122 1\\n     140      108      109 1\\n     141       31       35 1\\n     142      181      185 1\\n     143       34       44 1\\n     144       33       95 1\\n     145      171      172 1\\n     146      129      132 1\\n     147      116      117 1\\n     148       29       30 1\\n     149        1        8 1\\n     150      107      155 1\\n     151      148      153 1\\n     152      166      167 1\\n     153       54       57 1\\n     154       55       60 1\\n     155       77       74 1\\n     156        5        7 1\\n     157      135      136 1\\n     158      113      116 1\\n     159      114      161 1\\n     160      104      111 1\\n     161       41       42 1\\n     162       43       52 1\\n     163      129      134 1\\n     164       15       16 1\\n     165      106      154 1\\n     166      102      103 1\\n     167      109      156 1\\n     168      100      103 1\\n     169      163      166 1\\n     170      180      181 1\\n     171       69       64 1\\n     172        2        4 1\\n     173      167      172 1\\n     174      145      149 1\\n     175       80       83 1\\n     176      142      145 1\\n     177      126      129 1\\n     178       64       67 1\\n     179       43       44 1\\n     180      112      113 1\\n     181       25       26 1\\n     182       13       14 1\\n     183      163      164 1\\n     184      171      179 1\\n     185       54       56 1\\n     186      169      173 1\\n     187      120      123 1\\n     188      103      162 1\\n     189       20       21 1\\n     190      107      108 1\\n     191       99      100 1\\n     192       12       13 1\\n     193       28       30 1\\n     194      105      110 1\\n     195      162      163 1\\n     196      104      115 1\\n     197      142      147 1\\n     198      126      131 1\\n     199       40       41 1\\n     200       77       80 1\\n@<TRIPOS>SUBSTRUCTURE\\n       1 RES             1 RESIDUE    0 **** ROOT      0\\n\",\"mol2\");\n",
       "\tviewer_16240376737947252.setStyle({\"stick\": {\"radius\": 0.2, \"color\": \"grey\"}, \"sphere\": {\"scale\": 0.3, \"colorscheme\": {}}});\n",
       "\tviewer_16240376737947252.zoomTo();\n",
       "viewer_16240376737947252.render();\n",
       "});\n",
       "</script>"
      ]
     },
     "metadata": {},
     "output_type": "display_data"
    }
   ],
   "source": [
    "chromo_ids_core = np.array([162,163,161,101,102,100,99,98,92,91,93,31,30,94,32,30,27,29,28,27,23,24,22,25,20,97])\n",
    "chromo_ids_ends = np.array([0,7,18,1,2,4,6,15,17,18,14,16,10,13,12,11])\n",
    "#chromo_ids_ends2 = np.array([177,175,176,174,173,163,165,172,168,166,169,171,170,181,178,180,179,])\n",
    "for i,p in enumerate(comp.particles()):\n",
    "    if i in chromo_ids_core:\n",
    "        p.name = \"Kr\"\n",
    "    if i in chromo_ids_ends:\n",
    "        p.name = \"S\"\n",
    "   # if i in chromo_ids_ends2:\n",
    "   #     p.name = \"Kr\"\n",
    "comp.visualize().show()"
   ]
  },
  {
   "cell_type": "markdown",
   "id": "ed25187e",
   "metadata": {},
   "source": [
    "Trying to get homo and lumo for a single molecule of itic below. using functions in execute_qcc.py. here we use all molecule ids from start_snap.particles.N to get homo lumos for sinlge molecule gsd\n",
    "\n",
    "displayed : \n",
    "\n",
    "HOMO-1, HOMO, LUMO, LUMO+1 above. "
   ]
  },
  {
   "cell_type": "code",
   "execution_count": 6,
   "id": "2cdf02b8",
   "metadata": {},
   "outputs": [
    {
     "name": "stdout",
     "output_type": "stream",
     "text": [
      "HOMO-1, HOMO, LUMO, LUMO+1\n",
      "[-6.66092079 -4.93350569 -1.4071005  -0.28278669]\n"
     ]
    },
    {
     "data": {
      "application/3dmoljs_load.v0": "<div id=\"3dmolviewer_1624037733364652\"  style=\"position: relative; width: 640px; height: 480px\">\n        <p id=\"3dmolwarning_1624037733364652\" style=\"background-color:#ffcccc;color:black\">You appear to be running in JupyterLab (or JavaScript failed to load for some other reason).  You need to install the 3dmol extension: <br>\n        <tt>jupyter labextension install jupyterlab_3dmol</tt></p>\n        </div>\n<script>\n\nvar loadScriptAsync = function(uri){\n  return new Promise((resolve, reject) => {\n    var tag = document.createElement('script');\n    tag.src = uri;\n    tag.async = true;\n    tag.onload = () => {\n      resolve();\n    };\n  var firstScriptTag = document.getElementsByTagName('script')[0];\n  firstScriptTag.parentNode.insertBefore(tag, firstScriptTag);\n});\n};\n\nif(typeof $3Dmolpromise === 'undefined') {\n$3Dmolpromise = null;\n  $3Dmolpromise = loadScriptAsync('https://3dmol.csb.pitt.edu/build/3Dmol.js');\n}\n\nvar viewer_1624037733364652 = null;\nvar warn = document.getElementById(\"3dmolwarning_1624037733364652\");\nif(warn) {\n    warn.parentNode.removeChild(warn);\n}\n$3Dmolpromise.then(function() {\nviewer_1624037733364652 = $3Dmol.createViewer($(\"#3dmolviewer_1624037733364652\"),{backgroundColor:\"white\"});\n\tviewer_1624037733364652.addModel(\"@<TRIPOS>MOLECULE\\nRES\\n36 0 1 0 1\\nSMALL\\nNO_CHARGES\\n@<TRIPOS>CRYSIN\\n   20.7530    11.6500     9.6395    90.0000    90.0000    90.0000  1  1\\n@<TRIPOS>ATOM\\n       1 C            7.2120    -1.7521     1.7883 C             1 RES     \\n       2 C            6.7170    -0.4451     1.5252 C             1 RES     \\n       3 S            5.8870    -2.7741     1.4653 S             1 RES     \\n       4 C            5.3380    -0.3881     1.1403 C             1 RES     \\n       5 C            4.6930    -1.5861     1.0023 C             1 RES     \\n       6 S            4.2080     0.8669     0.8653 S             1 RES     \\n       7 C            3.2570    -1.4981     0.5893 C             1 RES     \\n       8 C            2.0440    -2.5431     0.3693 C             1 RES     \\n       9 C            1.3540    -0.0981     0.6223 C             1 RES     \\n      10 C            0.5040     1.0679     0.5863 C             1 RES     \\n      11 C            0.8500    -1.4131     0.6323 C             1 RES     \\n      12 C           -0.9090     1.0389     0.3363 C             1 RES     \\n      13 C           -1.8380     2.3989    -0.1057 C             1 RES     \\n      14 C           -0.6130    -1.5331     0.5393 C             1 RES     \\n      15 C           -1.4340    -0.2881     0.2293 C             1 RES     \\n      16 C           -1.8380     2.3989    -0.1057 C             1 RES     \\n      17 C           -2.8820     1.2889    -0.9307 C             1 RES     \\n      18 C           -2.7420    -0.0461    -0.4387 C             1 RES     \\n      19 S           -4.1110    -0.9931    -0.8077 S             1 RES     \\n      20 C           -2.8820     1.2889    -0.9307 C             1 RES     \\n      21 C           -4.1300     1.2869    -1.7757 C             1 RES     \\n      22 C           -4.9320     0.1469    -1.6688 C             1 RES     \\n      23 S           -5.0720     2.4599    -2.5257 S             1 RES     \\n      24 C           -6.2990     0.2779    -1.9387 C             1 RES     \\n      25 C           -6.5000     1.5909    -2.3807 C             1 RES     \\n      26 C            2.8460    -0.1831     0.6383 C             1 RES     \\n      27 H           -7.5099     2.0098    -2.3416 H             1 RES     \\n      28 H           -7.1440    -0.3861    -1.6007 H             1 RES     \\n      29 H           -1.2364     3.2669     0.1797 H             1 RES     \\n      30 H           -2.6970     3.0580     0.0513 H             1 RES     \\n      31 H            0.9850     2.0089     0.6193 H             1 RES     \\n      32 H           -0.9200    -2.5981     0.4693 H             1 RES     \\n      33 H            1.4965    -3.0585    -0.4254 H             1 RES     \\n      34 H            2.7136    -3.3830     0.5765 H             1 RES     \\n      35 H            8.2431    -1.9183     2.1137 H             1 RES     \\n      36 H            7.3420     0.4289     1.6383 H             1 RES     \\n@<TRIPOS>BOND\\n@<TRIPOS>SUBSTRUCTURE\\n       1 RES             1 RESIDUE    0 **** ROOT      0\\n\",\"mol2\");\n\tviewer_1624037733364652.setStyle({\"stick\": {\"radius\": 0.2, \"color\": \"grey\"}, \"sphere\": {\"scale\": 0.3, \"colorscheme\": {}}});\n\tviewer_1624037733364652.zoomTo();\nviewer_1624037733364652.render();\n});\n</script>",
      "text/html": [
       "<div id=\"3dmolviewer_1624037733364652\"  style=\"position: relative; width: 640px; height: 480px\">\n",
       "        <p id=\"3dmolwarning_1624037733364652\" style=\"background-color:#ffcccc;color:black\">You appear to be running in JupyterLab (or JavaScript failed to load for some other reason).  You need to install the 3dmol extension: <br>\n",
       "        <tt>jupyter labextension install jupyterlab_3dmol</tt></p>\n",
       "        </div>\n",
       "<script>\n",
       "\n",
       "var loadScriptAsync = function(uri){\n",
       "  return new Promise((resolve, reject) => {\n",
       "    var tag = document.createElement('script');\n",
       "    tag.src = uri;\n",
       "    tag.async = true;\n",
       "    tag.onload = () => {\n",
       "      resolve();\n",
       "    };\n",
       "  var firstScriptTag = document.getElementsByTagName('script')[0];\n",
       "  firstScriptTag.parentNode.insertBefore(tag, firstScriptTag);\n",
       "});\n",
       "};\n",
       "\n",
       "if(typeof $3Dmolpromise === 'undefined') {\n",
       "$3Dmolpromise = null;\n",
       "  $3Dmolpromise = loadScriptAsync('https://3dmol.csb.pitt.edu/build/3Dmol.js');\n",
       "}\n",
       "\n",
       "var viewer_1624037733364652 = null;\n",
       "var warn = document.getElementById(\"3dmolwarning_1624037733364652\");\n",
       "if(warn) {\n",
       "    warn.parentNode.removeChild(warn);\n",
       "}\n",
       "$3Dmolpromise.then(function() {\n",
       "viewer_1624037733364652 = $3Dmol.createViewer($(\"#3dmolviewer_1624037733364652\"),{backgroundColor:\"white\"});\n",
       "\tviewer_1624037733364652.addModel(\"@<TRIPOS>MOLECULE\\nRES\\n36 0 1 0 1\\nSMALL\\nNO_CHARGES\\n@<TRIPOS>CRYSIN\\n   20.7530    11.6500     9.6395    90.0000    90.0000    90.0000  1  1\\n@<TRIPOS>ATOM\\n       1 C            7.2120    -1.7521     1.7883 C             1 RES     \\n       2 C            6.7170    -0.4451     1.5252 C             1 RES     \\n       3 S            5.8870    -2.7741     1.4653 S             1 RES     \\n       4 C            5.3380    -0.3881     1.1403 C             1 RES     \\n       5 C            4.6930    -1.5861     1.0023 C             1 RES     \\n       6 S            4.2080     0.8669     0.8653 S             1 RES     \\n       7 C            3.2570    -1.4981     0.5893 C             1 RES     \\n       8 C            2.0440    -2.5431     0.3693 C             1 RES     \\n       9 C            1.3540    -0.0981     0.6223 C             1 RES     \\n      10 C            0.5040     1.0679     0.5863 C             1 RES     \\n      11 C            0.8500    -1.4131     0.6323 C             1 RES     \\n      12 C           -0.9090     1.0389     0.3363 C             1 RES     \\n      13 C           -1.8380     2.3989    -0.1057 C             1 RES     \\n      14 C           -0.6130    -1.5331     0.5393 C             1 RES     \\n      15 C           -1.4340    -0.2881     0.2293 C             1 RES     \\n      16 C           -1.8380     2.3989    -0.1057 C             1 RES     \\n      17 C           -2.8820     1.2889    -0.9307 C             1 RES     \\n      18 C           -2.7420    -0.0461    -0.4387 C             1 RES     \\n      19 S           -4.1110    -0.9931    -0.8077 S             1 RES     \\n      20 C           -2.8820     1.2889    -0.9307 C             1 RES     \\n      21 C           -4.1300     1.2869    -1.7757 C             1 RES     \\n      22 C           -4.9320     0.1469    -1.6688 C             1 RES     \\n      23 S           -5.0720     2.4599    -2.5257 S             1 RES     \\n      24 C           -6.2990     0.2779    -1.9387 C             1 RES     \\n      25 C           -6.5000     1.5909    -2.3807 C             1 RES     \\n      26 C            2.8460    -0.1831     0.6383 C             1 RES     \\n      27 H           -7.5099     2.0098    -2.3416 H             1 RES     \\n      28 H           -7.1440    -0.3861    -1.6007 H             1 RES     \\n      29 H           -1.2364     3.2669     0.1797 H             1 RES     \\n      30 H           -2.6970     3.0580     0.0513 H             1 RES     \\n      31 H            0.9850     2.0089     0.6193 H             1 RES     \\n      32 H           -0.9200    -2.5981     0.4693 H             1 RES     \\n      33 H            1.4965    -3.0585    -0.4254 H             1 RES     \\n      34 H            2.7136    -3.3830     0.5765 H             1 RES     \\n      35 H            8.2431    -1.9183     2.1137 H             1 RES     \\n      36 H            7.3420     0.4289     1.6383 H             1 RES     \\n@<TRIPOS>BOND\\n@<TRIPOS>SUBSTRUCTURE\\n       1 RES             1 RESIDUE    0 **** ROOT      0\\n\",\"mol2\");\n",
       "\tviewer_1624037733364652.setStyle({\"stick\": {\"radius\": 0.2, \"color\": \"grey\"}, \"sphere\": {\"scale\": 0.3, \"colorscheme\": {}}});\n",
       "\tviewer_1624037733364652.zoomTo();\n",
       "viewer_1624037733364652.render();\n",
       "});\n",
       "</script>"
      ]
     },
     "metadata": {},
     "output_type": "display_data"
    }
   ],
   "source": [
    "qcc_input = eqcc.write_qcc_inp(start_snap, chromo_ids_core, amber_dict)\n",
    "homolumo = eqcc.get_homolumo(qcc_input)\n",
    "print(\"HOMO-1, HOMO, LUMO, LUMO+1\")\n",
    "print(homolumo)\n",
    "visualize_qcc_input(qcc_input)\n"
   ]
  },
  {
   "cell_type": "markdown",
   "id": "daa19c8f",
   "metadata": {},
   "source": [
    "below i want to get the homolumos for just that back bone as taken from a single molecule gsd"
   ]
  },
  {
   "cell_type": "code",
   "execution_count": 7,
   "id": "2c0500cc",
   "metadata": {},
   "outputs": [
    {
     "name": "stdout",
     "output_type": "stream",
     "text": [
      "HOMO-1, HOMO, LUMO, LUMO+1\n",
      "[-6.7930277  -4.78264222  0.49660801  1.1996445 ]\n"
     ]
    },
    {
     "data": {
      "application/3dmoljs_load.v0": "<div id=\"3dmolviewer_1624037754508671\"  style=\"position: relative; width: 640px; height: 480px\">\n        <p id=\"3dmolwarning_1624037754508671\" style=\"background-color:#ffcccc;color:black\">You appear to be running in JupyterLab (or JavaScript failed to load for some other reason).  You need to install the 3dmol extension: <br>\n        <tt>jupyter labextension install jupyterlab_3dmol</tt></p>\n        </div>\n<script>\n\nvar loadScriptAsync = function(uri){\n  return new Promise((resolve, reject) => {\n    var tag = document.createElement('script');\n    tag.src = uri;\n    tag.async = true;\n    tag.onload = () => {\n      resolve();\n    };\n  var firstScriptTag = document.getElementsByTagName('script')[0];\n  firstScriptTag.parentNode.insertBefore(tag, firstScriptTag);\n});\n};\n\nif(typeof $3Dmolpromise === 'undefined') {\n$3Dmolpromise = null;\n  $3Dmolpromise = loadScriptAsync('https://3dmol.csb.pitt.edu/build/3Dmol.js');\n}\n\nvar viewer_1624037754508671 = null;\nvar warn = document.getElementById(\"3dmolwarning_1624037754508671\");\nif(warn) {\n    warn.parentNode.removeChild(warn);\n}\n$3Dmolpromise.then(function() {\nviewer_1624037754508671 = $3Dmol.createViewer($(\"#3dmolviewer_1624037754508671\"),{backgroundColor:\"white\"});\n\tviewer_1624037754508671.addModel(\"@<TRIPOS>MOLECULE\\nRES\\n21 0 1 0 1\\nSMALL\\nNO_CHARGES\\n@<TRIPOS>CRYSIN\\n   11.1980    13.3350     6.7920    90.0000    90.0000    90.0000  1  1\\n@<TRIPOS>ATOM\\n       1 C           -1.9786     1.9018    -0.0716 C             1 RES     \\n       2 C           -1.4766     0.6488     0.2234 C             1 RES     \\n       3 N            1.0164    -4.4632     0.8324 N             1 RES     \\n       4 C           -1.1166     2.9098    -0.5276 C             1 RES     \\n       5 C            0.2704     2.6788    -0.6376 C             1 RES     \\n       6 C            0.7634     1.4228    -0.2936 C             1 RES     \\n       7 C           -0.1146     0.4158     0.0734 C             1 RES     \\n       8 C           -1.3556    -2.2692    -0.1016 C             1 RES     \\n       9 N           -2.4476    -2.3912    -0.4536 N             1 RES     \\n      10 N            1.0164    -4.4632     0.8324 N             1 RES     \\n      11 C           -0.0126    -2.1042     0.3284 C             1 RES     \\n      12 C            0.5634    -3.4192     0.6094 C             1 RES     \\n      13 C            0.5804    -0.8362     0.3014 C             1 RES     \\n      14 O            3.1614     1.5648    -0.4376 O             1 RES     \\n      15 C            2.1444     0.9178    -0.2226 C             1 RES     \\n      16 C            2.0384    -0.4892     0.2424 C             1 RES     \\n      17 H           -1.5316     3.8718    -0.7686 H             1 RES     \\n      18 H            0.9384     3.4648    -0.9596 H             1 RES     \\n      19 H           -2.1496    -0.1062     0.5894 H             1 RES     \\n      20 H           -3.0366     2.0728     0.0564 H             1 RES     \\n      21 H            2.7263    -1.3280     0.3843 H             1 RES     \\n@<TRIPOS>BOND\\n@<TRIPOS>SUBSTRUCTURE\\n       1 RES             1 RESIDUE    0 **** ROOT      0\\n\",\"mol2\");\n\tviewer_1624037754508671.setStyle({\"stick\": {\"radius\": 0.2, \"color\": \"grey\"}, \"sphere\": {\"scale\": 0.3, \"colorscheme\": {}}});\n\tviewer_1624037754508671.zoomTo();\nviewer_1624037754508671.render();\n});\n</script>",
      "text/html": [
       "<div id=\"3dmolviewer_1624037754508671\"  style=\"position: relative; width: 640px; height: 480px\">\n",
       "        <p id=\"3dmolwarning_1624037754508671\" style=\"background-color:#ffcccc;color:black\">You appear to be running in JupyterLab (or JavaScript failed to load for some other reason).  You need to install the 3dmol extension: <br>\n",
       "        <tt>jupyter labextension install jupyterlab_3dmol</tt></p>\n",
       "        </div>\n",
       "<script>\n",
       "\n",
       "var loadScriptAsync = function(uri){\n",
       "  return new Promise((resolve, reject) => {\n",
       "    var tag = document.createElement('script');\n",
       "    tag.src = uri;\n",
       "    tag.async = true;\n",
       "    tag.onload = () => {\n",
       "      resolve();\n",
       "    };\n",
       "  var firstScriptTag = document.getElementsByTagName('script')[0];\n",
       "  firstScriptTag.parentNode.insertBefore(tag, firstScriptTag);\n",
       "});\n",
       "};\n",
       "\n",
       "if(typeof $3Dmolpromise === 'undefined') {\n",
       "$3Dmolpromise = null;\n",
       "  $3Dmolpromise = loadScriptAsync('https://3dmol.csb.pitt.edu/build/3Dmol.js');\n",
       "}\n",
       "\n",
       "var viewer_1624037754508671 = null;\n",
       "var warn = document.getElementById(\"3dmolwarning_1624037754508671\");\n",
       "if(warn) {\n",
       "    warn.parentNode.removeChild(warn);\n",
       "}\n",
       "$3Dmolpromise.then(function() {\n",
       "viewer_1624037754508671 = $3Dmol.createViewer($(\"#3dmolviewer_1624037754508671\"),{backgroundColor:\"white\"});\n",
       "\tviewer_1624037754508671.addModel(\"@<TRIPOS>MOLECULE\\nRES\\n21 0 1 0 1\\nSMALL\\nNO_CHARGES\\n@<TRIPOS>CRYSIN\\n   11.1980    13.3350     6.7920    90.0000    90.0000    90.0000  1  1\\n@<TRIPOS>ATOM\\n       1 C           -1.9786     1.9018    -0.0716 C             1 RES     \\n       2 C           -1.4766     0.6488     0.2234 C             1 RES     \\n       3 N            1.0164    -4.4632     0.8324 N             1 RES     \\n       4 C           -1.1166     2.9098    -0.5276 C             1 RES     \\n       5 C            0.2704     2.6788    -0.6376 C             1 RES     \\n       6 C            0.7634     1.4228    -0.2936 C             1 RES     \\n       7 C           -0.1146     0.4158     0.0734 C             1 RES     \\n       8 C           -1.3556    -2.2692    -0.1016 C             1 RES     \\n       9 N           -2.4476    -2.3912    -0.4536 N             1 RES     \\n      10 N            1.0164    -4.4632     0.8324 N             1 RES     \\n      11 C           -0.0126    -2.1042     0.3284 C             1 RES     \\n      12 C            0.5634    -3.4192     0.6094 C             1 RES     \\n      13 C            0.5804    -0.8362     0.3014 C             1 RES     \\n      14 O            3.1614     1.5648    -0.4376 O             1 RES     \\n      15 C            2.1444     0.9178    -0.2226 C             1 RES     \\n      16 C            2.0384    -0.4892     0.2424 C             1 RES     \\n      17 H           -1.5316     3.8718    -0.7686 H             1 RES     \\n      18 H            0.9384     3.4648    -0.9596 H             1 RES     \\n      19 H           -2.1496    -0.1062     0.5894 H             1 RES     \\n      20 H           -3.0366     2.0728     0.0564 H             1 RES     \\n      21 H            2.7263    -1.3280     0.3843 H             1 RES     \\n@<TRIPOS>BOND\\n@<TRIPOS>SUBSTRUCTURE\\n       1 RES             1 RESIDUE    0 **** ROOT      0\\n\",\"mol2\");\n",
       "\tviewer_1624037754508671.setStyle({\"stick\": {\"radius\": 0.2, \"color\": \"grey\"}, \"sphere\": {\"scale\": 0.3, \"colorscheme\": {}}});\n",
       "\tviewer_1624037754508671.zoomTo();\n",
       "viewer_1624037754508671.render();\n",
       "});\n",
       "</script>"
      ]
     },
     "metadata": {},
     "output_type": "display_data"
    }
   ],
   "source": [
    "qcc_input = eqcc.write_qcc_inp(start_snap, chromo_ids_ends, amber_dict)\n",
    "homolumo = eqcc.get_homolumo(qcc_input)\n",
    "print(\"HOMO-1, HOMO, LUMO, LUMO+1\")\n",
    "print(homolumo)\n",
    "visualize_qcc_input(qcc_input)\n"
   ]
  },
  {
   "cell_type": "code",
   "execution_count": null,
   "id": "10e1491d",
   "metadata": {},
   "outputs": [],
   "source": []
  },
  {
   "cell_type": "markdown",
   "id": "d08657c7",
   "metadata": {},
   "source": [
    "above this is just the single molecule homo lumo calcs. below i want to bring the build created gsd and get pairwise calcs. the mbuild stuff is being weird . going to just use a two molecule gsd from plankton to begin"
   ]
  },
  {
   "cell_type": "code",
   "execution_count": 11,
   "id": "4e00e25a",
   "metadata": {},
   "outputs": [],
   "source": [
    "aaids=[]\n",
    "aaids2 = []"
   ]
  },
  {
   "cell_type": "code",
   "execution_count": 12,
   "id": "09160531",
   "metadata": {},
   "outputs": [],
   "source": [
    "aaids.append(chromo_ids_core)\n",
    "aaids2.append(chromo_ids_ends)\n",
    "#aaids.append(chromo_ids_core2)"
   ]
  },
  {
   "cell_type": "code",
   "execution_count": 13,
   "id": "17bbb48f",
   "metadata": {},
   "outputs": [
    {
     "name": "stdout",
     "output_type": "stream",
     "text": [
      "[array([162, 163, 161, 101, 102, 100,  99,  98,  92,  91,  93,  31,  30,\n",
      "        94,  32,  30,  27,  29,  28,  27,  23,  24,  22,  25,  20,  97])]\n"
     ]
    }
   ],
   "source": [
    "print(aaids)"
   ]
  },
  {
   "cell_type": "code",
   "execution_count": 34,
   "id": "0e69dd69",
   "metadata": {},
   "outputs": [],
   "source": [
    "chromo_list = []\n",
    "\n",
    "chromo_list.append(chromophores.Chromophore(0, start_snap, chromo_ids_ends, \"donor\", amber_dict))\n",
    "chromo_list.append(chromophores.Chromophore(1, start_snap, chromo_ids_core, \"donor\", amber_dict))"
   ]
  },
  {
   "cell_type": "code",
   "execution_count": 35,
   "id": "81ef8f6b",
   "metadata": {},
   "outputs": [
    {
     "name": "stdout",
     "output_type": "stream",
     "text": [
      "[Chromophore 0 (donor): 16 atoms at -149.215 -137.338 145.534, Chromophore 1 (donor): 26 atoms at -138.774 -140.454 148.184]\n"
     ]
    }
   ],
   "source": [
    "print(chromo_list)"
   ]
  },
  {
   "cell_type": "code",
   "execution_count": 36,
   "id": "0d6f42f5",
   "metadata": {
    "tags": []
   },
   "outputs": [
    {
     "name": "stdout",
     "output_type": "stream",
     "text": [
      "There are 1 chromophore pairs\n"
     ]
    }
   ],
   "source": [
    "qcc_pairs = chromophores.set_neighbors_voronoi(chromo_list, start_snap, amber_dict, d_cut=100)\n",
    "print(f\"There are {len(qcc_pairs)} chromophore pairs\")"
   ]
  },
  {
   "cell_type": "code",
   "execution_count": 37,
   "id": "a283c479",
   "metadata": {},
   "outputs": [
    {
     "name": "stdout",
     "output_type": "stream",
     "text": [
      "Pair #0:\n"
     ]
    },
    {
     "data": {
      "application/3dmoljs_load.v0": "<div id=\"3dmolviewer_1624038329235879\"  style=\"position: relative; width: 640px; height: 480px\">\n        <p id=\"3dmolwarning_1624038329235879\" style=\"background-color:#ffcccc;color:black\">You appear to be running in JupyterLab (or JavaScript failed to load for some other reason).  You need to install the 3dmol extension: <br>\n        <tt>jupyter labextension install jupyterlab_3dmol</tt></p>\n        </div>\n<script>\n\nvar loadScriptAsync = function(uri){\n  return new Promise((resolve, reject) => {\n    var tag = document.createElement('script');\n    tag.src = uri;\n    tag.async = true;\n    tag.onload = () => {\n      resolve();\n    };\n  var firstScriptTag = document.getElementsByTagName('script')[0];\n  firstScriptTag.parentNode.insertBefore(tag, firstScriptTag);\n});\n};\n\nif(typeof $3Dmolpromise === 'undefined') {\n$3Dmolpromise = null;\n  $3Dmolpromise = loadScriptAsync('https://3dmol.csb.pitt.edu/build/3Dmol.js');\n}\n\nvar viewer_1624038329235879 = null;\nvar warn = document.getElementById(\"3dmolwarning_1624038329235879\");\nif(warn) {\n    warn.parentNode.removeChild(warn);\n}\n$3Dmolpromise.then(function() {\nviewer_1624038329235879 = $3Dmol.createViewer($(\"#3dmolviewer_1624038329235879\"),{backgroundColor:\"white\"});\n\tviewer_1624038329235879.addModel(\"@<TRIPOS>MOLECULE\\nRES\\n57 0 1 0 1\\nSMALL\\nNO_CHARGES\\n@<TRIPOS>CRYSIN\\n   26.9611    15.8910    10.8165    90.0000    90.0000    90.0000  1  1\\n@<TRIPOS>ATOM\\n       1 C           -8.7247     4.1983    -1.8041 C             1 RES     \\n       2 C           -8.2227     2.9453    -1.5091 C             1 RES     \\n       3 N           -5.7298    -2.1667    -0.9001 N             1 RES     \\n       4 C           -7.8627     5.2063    -2.2601 C             1 RES     \\n       5 C           -6.4758     4.9753    -2.3701 C             1 RES     \\n       6 C           -5.9827     3.7193    -2.0261 C             1 RES     \\n       7 C           -6.8607     2.7123    -1.6591 C             1 RES     \\n       8 C           -8.1017     0.0273    -1.8341 C             1 RES     \\n       9 N           -9.1938    -0.0947    -2.1861 N             1 RES     \\n      10 N           -5.7298    -2.1667    -0.9001 N             1 RES     \\n      11 C           -6.7588     0.1923    -1.4041 C             1 RES     \\n      12 C           -6.1827    -1.1227    -1.1231 C             1 RES     \\n      13 C           -6.1658     1.4603    -1.4311 C             1 RES     \\n      14 O           -3.5847     3.8613    -2.1701 O             1 RES     \\n      15 C           -4.6017     3.2143    -1.9551 C             1 RES     \\n      16 C           -4.7077     1.8073    -1.4901 C             1 RES     \\n      17 C           11.1472    -3.0917     2.7989 C             1 RES     \\n      18 C           10.6522    -1.7847     2.5359 C             1 RES     \\n      19 S            9.8222    -4.1137     2.4759 S             1 RES     \\n      20 C            9.2733    -1.7277     2.1509 C             1 RES     \\n      21 C            8.6282    -2.9257     2.0129 C             1 RES     \\n      22 S            8.1432    -0.4727     1.8759 S             1 RES     \\n      23 C            7.1922    -2.8377     1.5999 C             1 RES     \\n      24 C            5.9792    -3.8827     1.3799 C             1 RES     \\n      25 C            5.2892    -1.4377     1.6329 C             1 RES     \\n      26 C            4.4393    -0.2717     1.5969 C             1 RES     \\n      27 C            4.7852    -2.7527     1.6429 C             1 RES     \\n      28 C            3.0262    -0.3007     1.3469 C             1 RES     \\n      29 C            2.0972     1.0593     0.9049 C             1 RES     \\n      30 C            3.3222    -2.8727     1.5499 C             1 RES     \\n      31 C            2.5012    -1.6277     1.2399 C             1 RES     \\n      32 C            2.0972     1.0593     0.9049 C             1 RES     \\n      33 C            1.0533    -0.0507     0.0799 C             1 RES     \\n      34 C            1.1932    -1.3857     0.5719 C             1 RES     \\n      35 S           -0.1758    -2.3327     0.2029 S             1 RES     \\n      36 C            1.0533    -0.0507     0.0799 C             1 RES     \\n      37 C           -0.1947    -0.0527    -0.7651 C             1 RES     \\n      38 C           -0.9968    -1.1927    -0.6581 C             1 RES     \\n      39 S           -1.1368     1.1203    -1.5151 S             1 RES     \\n      40 C           -2.3637    -1.0617    -0.9281 C             1 RES     \\n      41 C           -2.5647     0.2513    -1.3701 C             1 RES     \\n      42 C            6.7812    -1.5227     1.6489 C             1 RES     \\n      43 H           -8.2778     6.1683    -2.5011 H             1 RES     \\n      44 H           -5.8078     5.7613    -2.6921 H             1 RES     \\n      45 H           -8.8958     2.1903    -1.1431 H             1 RES     \\n      46 H           -9.7827     4.3693    -1.6761 H             1 RES     \\n      47 H           -4.0199     0.9685    -1.3482 H             1 RES     \\n      48 H           -3.5746     0.6702    -1.3309 H             1 RES     \\n      49 H           -3.2088    -1.7257    -0.5901 H             1 RES     \\n      50 H            2.6988     1.9273     1.1903 H             1 RES     \\n      51 H            1.2383     1.7184     1.0619 H             1 RES     \\n      52 H            4.9203     0.6693     1.6299 H             1 RES     \\n      53 H            3.0153    -3.9377     1.4799 H             1 RES     \\n      54 H            5.4318    -4.3981     0.5852 H             1 RES     \\n      55 H            6.6489    -4.7226     1.5871 H             1 RES     \\n      56 H           12.1784    -3.2580     3.1244 H             1 RES     \\n      57 H           11.2772    -0.9107     2.6489 H             1 RES     \\n@<TRIPOS>BOND\\n@<TRIPOS>SUBSTRUCTURE\\n       1 RES             1 RESIDUE    0 **** ROOT      0\\n\",\"mol2\");\n\tviewer_1624038329235879.setStyle({\"stick\": {\"radius\": 0.2, \"color\": \"grey\"}, \"sphere\": {\"scale\": 0.3, \"colorscheme\": {}}});\n\tviewer_1624038329235879.zoomTo();\nviewer_1624038329235879.render();\n});\n</script>",
      "text/html": [
       "<div id=\"3dmolviewer_1624038329235879\"  style=\"position: relative; width: 640px; height: 480px\">\n",
       "        <p id=\"3dmolwarning_1624038329235879\" style=\"background-color:#ffcccc;color:black\">You appear to be running in JupyterLab (or JavaScript failed to load for some other reason).  You need to install the 3dmol extension: <br>\n",
       "        <tt>jupyter labextension install jupyterlab_3dmol</tt></p>\n",
       "        </div>\n",
       "<script>\n",
       "\n",
       "var loadScriptAsync = function(uri){\n",
       "  return new Promise((resolve, reject) => {\n",
       "    var tag = document.createElement('script');\n",
       "    tag.src = uri;\n",
       "    tag.async = true;\n",
       "    tag.onload = () => {\n",
       "      resolve();\n",
       "    };\n",
       "  var firstScriptTag = document.getElementsByTagName('script')[0];\n",
       "  firstScriptTag.parentNode.insertBefore(tag, firstScriptTag);\n",
       "});\n",
       "};\n",
       "\n",
       "if(typeof $3Dmolpromise === 'undefined') {\n",
       "$3Dmolpromise = null;\n",
       "  $3Dmolpromise = loadScriptAsync('https://3dmol.csb.pitt.edu/build/3Dmol.js');\n",
       "}\n",
       "\n",
       "var viewer_1624038329235879 = null;\n",
       "var warn = document.getElementById(\"3dmolwarning_1624038329235879\");\n",
       "if(warn) {\n",
       "    warn.parentNode.removeChild(warn);\n",
       "}\n",
       "$3Dmolpromise.then(function() {\n",
       "viewer_1624038329235879 = $3Dmol.createViewer($(\"#3dmolviewer_1624038329235879\"),{backgroundColor:\"white\"});\n",
       "\tviewer_1624038329235879.addModel(\"@<TRIPOS>MOLECULE\\nRES\\n57 0 1 0 1\\nSMALL\\nNO_CHARGES\\n@<TRIPOS>CRYSIN\\n   26.9611    15.8910    10.8165    90.0000    90.0000    90.0000  1  1\\n@<TRIPOS>ATOM\\n       1 C           -8.7247     4.1983    -1.8041 C             1 RES     \\n       2 C           -8.2227     2.9453    -1.5091 C             1 RES     \\n       3 N           -5.7298    -2.1667    -0.9001 N             1 RES     \\n       4 C           -7.8627     5.2063    -2.2601 C             1 RES     \\n       5 C           -6.4758     4.9753    -2.3701 C             1 RES     \\n       6 C           -5.9827     3.7193    -2.0261 C             1 RES     \\n       7 C           -6.8607     2.7123    -1.6591 C             1 RES     \\n       8 C           -8.1017     0.0273    -1.8341 C             1 RES     \\n       9 N           -9.1938    -0.0947    -2.1861 N             1 RES     \\n      10 N           -5.7298    -2.1667    -0.9001 N             1 RES     \\n      11 C           -6.7588     0.1923    -1.4041 C             1 RES     \\n      12 C           -6.1827    -1.1227    -1.1231 C             1 RES     \\n      13 C           -6.1658     1.4603    -1.4311 C             1 RES     \\n      14 O           -3.5847     3.8613    -2.1701 O             1 RES     \\n      15 C           -4.6017     3.2143    -1.9551 C             1 RES     \\n      16 C           -4.7077     1.8073    -1.4901 C             1 RES     \\n      17 C           11.1472    -3.0917     2.7989 C             1 RES     \\n      18 C           10.6522    -1.7847     2.5359 C             1 RES     \\n      19 S            9.8222    -4.1137     2.4759 S             1 RES     \\n      20 C            9.2733    -1.7277     2.1509 C             1 RES     \\n      21 C            8.6282    -2.9257     2.0129 C             1 RES     \\n      22 S            8.1432    -0.4727     1.8759 S             1 RES     \\n      23 C            7.1922    -2.8377     1.5999 C             1 RES     \\n      24 C            5.9792    -3.8827     1.3799 C             1 RES     \\n      25 C            5.2892    -1.4377     1.6329 C             1 RES     \\n      26 C            4.4393    -0.2717     1.5969 C             1 RES     \\n      27 C            4.7852    -2.7527     1.6429 C             1 RES     \\n      28 C            3.0262    -0.3007     1.3469 C             1 RES     \\n      29 C            2.0972     1.0593     0.9049 C             1 RES     \\n      30 C            3.3222    -2.8727     1.5499 C             1 RES     \\n      31 C            2.5012    -1.6277     1.2399 C             1 RES     \\n      32 C            2.0972     1.0593     0.9049 C             1 RES     \\n      33 C            1.0533    -0.0507     0.0799 C             1 RES     \\n      34 C            1.1932    -1.3857     0.5719 C             1 RES     \\n      35 S           -0.1758    -2.3327     0.2029 S             1 RES     \\n      36 C            1.0533    -0.0507     0.0799 C             1 RES     \\n      37 C           -0.1947    -0.0527    -0.7651 C             1 RES     \\n      38 C           -0.9968    -1.1927    -0.6581 C             1 RES     \\n      39 S           -1.1368     1.1203    -1.5151 S             1 RES     \\n      40 C           -2.3637    -1.0617    -0.9281 C             1 RES     \\n      41 C           -2.5647     0.2513    -1.3701 C             1 RES     \\n      42 C            6.7812    -1.5227     1.6489 C             1 RES     \\n      43 H           -8.2778     6.1683    -2.5011 H             1 RES     \\n      44 H           -5.8078     5.7613    -2.6921 H             1 RES     \\n      45 H           -8.8958     2.1903    -1.1431 H             1 RES     \\n      46 H           -9.7827     4.3693    -1.6761 H             1 RES     \\n      47 H           -4.0199     0.9685    -1.3482 H             1 RES     \\n      48 H           -3.5746     0.6702    -1.3309 H             1 RES     \\n      49 H           -3.2088    -1.7257    -0.5901 H             1 RES     \\n      50 H            2.6988     1.9273     1.1903 H             1 RES     \\n      51 H            1.2383     1.7184     1.0619 H             1 RES     \\n      52 H            4.9203     0.6693     1.6299 H             1 RES     \\n      53 H            3.0153    -3.9377     1.4799 H             1 RES     \\n      54 H            5.4318    -4.3981     0.5852 H             1 RES     \\n      55 H            6.6489    -4.7226     1.5871 H             1 RES     \\n      56 H           12.1784    -3.2580     3.1244 H             1 RES     \\n      57 H           11.2772    -0.9107     2.6489 H             1 RES     \\n@<TRIPOS>BOND\\n@<TRIPOS>SUBSTRUCTURE\\n       1 RES             1 RESIDUE    0 **** ROOT      0\\n\",\"mol2\");\n",
       "\tviewer_1624038329235879.setStyle({\"stick\": {\"radius\": 0.2, \"color\": \"grey\"}, \"sphere\": {\"scale\": 0.3, \"colorscheme\": {}}});\n",
       "\tviewer_1624038329235879.zoomTo();\n",
       "viewer_1624038329235879.render();\n",
       "});\n",
       "</script>"
      ]
     },
     "metadata": {},
     "output_type": "display_data"
    }
   ],
   "source": [
    "i =  0# try any number from 0 to 180\n",
    "print(f\"Pair #{i}:\")\n",
    "visualize_qcc_input(qcc_pairs[i][1])"
   ]
  },
  {
   "cell_type": "code",
   "execution_count": 38,
   "id": "6aad1f2f",
   "metadata": {},
   "outputs": [
    {
     "name": "stdout",
     "output_type": "stream",
     "text": [
      "CPU times: user 38.9 ms, sys: 31.2 ms, total: 70.2 ms\n",
      "Wall time: 1min 18s\n"
     ]
    }
   ],
   "source": [
    "%%time\n",
    "dimer_data = eqcc.dimer_homolumo(qcc_pairs, \"two-molecule-test.txt\")"
   ]
  },
  {
   "cell_type": "code",
   "execution_count": 39,
   "id": "88f893a7",
   "metadata": {},
   "outputs": [
    {
     "name": "stdout",
     "output_type": "stream",
     "text": [
      "CPU times: user 27.8 ms, sys: 29.9 ms, total: 57.6 ms\n",
      "Wall time: 48.2 s\n"
     ]
    }
   ],
   "source": [
    "%%time\n",
    "data = eqcc.singles_homolumo(chromo_list, \"singles.txt\")"
   ]
  },
  {
   "cell_type": "code",
   "execution_count": 40,
   "id": "d73c6dc2",
   "metadata": {},
   "outputs": [
    {
     "name": "stdout",
     "output_type": "stream",
     "text": [
      "CPU times: user 816 µs, sys: 720 µs, total: 1.54 ms\n",
      "Wall time: 1.29 ms\n"
     ]
    }
   ],
   "source": [
    "%%time\n",
    "eqcc.set_energyvalues(chromo_list, \"singles.txt\", \"two-molecule-test.txt\")"
   ]
  },
  {
   "cell_type": "code",
   "execution_count": 41,
   "id": "6032fd4c",
   "metadata": {},
   "outputs": [
    {
     "name": "stdout",
     "output_type": "stream",
     "text": [
      "[Chromophore 0 (donor): 16 atoms at -149.215 -137.338 145.534, Chromophore 1 (donor): 26 atoms at -138.774 -140.454 148.184]\n"
     ]
    }
   ],
   "source": [
    "print(chromo_list)"
   ]
  },
  {
   "cell_type": "code",
   "execution_count": 42,
   "id": "c881c996",
   "metadata": {},
   "outputs": [
    {
     "name": "stdout",
     "output_type": "stream",
     "text": [
      "Chromophore 1:\n",
      "HOMO-1: -6.66 HOMO: -4.93 LUMO: -1.41 LUMO+1: -0.28\n",
      "1 neighbors\n",
      "DeltaE of first neighbor: 0.151\n",
      "Transfer integral of first neighbor: 0.563\n"
     ]
    }
   ],
   "source": [
    "i = 1\n",
    "chromo = chromo_list[i]\n",
    "print(f\"Chromophore {i}:\")\n",
    "print(f\"HOMO-1: {chromo.homo_1:.2f} HOMO: {chromo.homo:.2f} LUMO: {chromo.lumo:.2f} LUMO+1: {chromo.lumo_1:.2f}\")\n",
    "print(f\"{len(chromo.neighbors)} neighbors\")\n",
    "print(f\"DeltaE of first neighbor: {chromo.neighbors_delta_e[0]:.3f}\")\n",
    "print(f\"Transfer integral of first neighbor: {chromo.neighbors_ti[0]:.3f}\")"
   ]
  },
  {
   "cell_type": "code",
   "execution_count": null,
   "id": "fc5fe0a7",
   "metadata": {},
   "outputs": [],
   "source": []
  },
  {
   "cell_type": "code",
   "execution_count": null,
   "id": "c937f469",
   "metadata": {},
   "outputs": [],
   "source": []
  },
  {
   "cell_type": "code",
   "execution_count": null,
   "id": "dafc00de",
   "metadata": {},
   "outputs": [],
   "source": []
  }
 ],
 "metadata": {
  "kernelspec": {
   "display_name": "Python 3",
   "language": "python",
   "name": "python3"
  },
  "language_info": {
   "codemirror_mode": {
    "name": "ipython",
    "version": 3
   },
   "file_extension": ".py",
   "mimetype": "text/x-python",
   "name": "python",
   "nbconvert_exporter": "python",
   "pygments_lexer": "ipython3",
   "version": "3.7.10"
  }
 },
 "nbformat": 4,
 "nbformat_minor": 5
}

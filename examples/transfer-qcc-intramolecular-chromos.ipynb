{
 "cells": [
  {
   "cell_type": "markdown",
   "id": "lesser-definition",
   "metadata": {},
   "source": [
    "# MorphCT Example Workflow\n",
    "\n",
    "1. Start with an atomistic snapshot\n",
    "2. Determine which atom indices belong to which chromophore using [SMARTS](https://www.daylight.com/dayhtml/doc/theory/theory.smarts.html) matching\n",
    "3. Calculate the energies for each chromophore and chromophore pair using quantum chemical calculations (QCC)\n",
    "4. Run the kinetic monte carlo (KMC) algorithm to calculate charge mobility"
   ]
  },
  {
   "cell_type": "markdown",
   "id": "preliminary-institution",
   "metadata": {},
   "source": [
    "First let's import necessary modules and define a couple of useful functions for visualization:"
   ]
  },
  {
   "cell_type": "code",
   "execution_count": 1,
   "id": "fixed-lindsay",
   "metadata": {
    "tags": []
   },
   "outputs": [
    {
     "name": "stderr",
     "output_type": "stream",
     "text": [
      "/Users/jamesrushing/opt/miniconda3/envs/morph/lib/python3.7/site-packages/pyscf/lib/misc.py:50: H5pyDeprecationWarning: Using default_file_mode other than 'r' is deprecated. Pass the mode to h5py.File() instead.\n",
      "  h5py.get_config().default_file_mode = 'a'\n"
     ]
    }
   ],
   "source": [
    "from copy import deepcopy\n",
    "import os\n",
    "import multiprocessing as mp\n",
    "\n",
    "import gsd.hoomd\n",
    "import mbuild as mb\n",
    "import numpy as np\n",
    "import gsd.pygsd\n",
    "from morphct import execute_qcc as eqcc\n",
    "from morphct import mobility_kmc as kmc\n",
    "from morphct import chromophores\n",
    "from morphct import kmc_analyze\n",
    "from morphct.chromophores import conversion_dict\n",
    "from morphct.chromophores import amber_dict\n",
    "\n",
    "def visualize_qcc_input(qcc_input):\n",
    "    \"\"\"\n",
    "    Visualize a quantum chemical input string (for pyscf) using mbuild.\n",
    "    \n",
    "    Parameters\n",
    "    ----------\n",
    "    qcc_input : str\n",
    "        Input string to visualize\n",
    "    \"\"\"\n",
    "    comp = mb.Compound()\n",
    "    for line in qcc_input.split(\";\")[:-1]:\n",
    "        atom, x, y, z = line.split()\n",
    "        xyz = np.array([x,y,z], dtype=float)\n",
    "        # Angstrom -> nm\n",
    "        xyz /= 10\n",
    "        comp.add(mb.Particle(name=atom,pos=xyz))\n",
    "    comp.visualize().show()\n",
    "    \n",
    "def from_snapshot(snapshot, scale=1.0):\n",
    "    \"\"\"\n",
    "    Convert a hoomd.data.Snapshot or a gsd.hoomd.Snapshot to an\n",
    "    mbuild Compound.\n",
    "    \n",
    "    Parameters\n",
    "    ----------\n",
    "    snapshot : hoomd.data.SnapshotParticleData or gsd.hoomd.Snapshot\n",
    "        Snapshot from which to build the mbuild Compound.\n",
    "    scale : float, optional, default 1.0\n",
    "        Value by which to scale the length values\n",
    "        \n",
    "    Returns\n",
    "    -------\n",
    "    comp : mb.Compound\n",
    "    \"\"\"\n",
    "    comp = mb.Compound()\n",
    "    bond_array = snapshot.bonds.group\n",
    "    n_atoms = snapshot.particles.N\n",
    "\n",
    "    # There will be a better way to do this once box overhaul merged\n",
    "    try:\n",
    "        # gsd\n",
    "        box = snapshot.configuration.box\n",
    "        comp.box = mb.box.Box(lengths=box[:3] * scale)\n",
    "    except AttributeError:\n",
    "        # hoomd\n",
    "        box = snapshot.box\n",
    "        comp.box = mb.box.Box(lengths=np.array([box.Lx,box.Ly,box.Lz]) * scale)\n",
    "\n",
    "    # to_hoomdsnapshot shifts the coords, this will keep consistent\n",
    "    shift = np.array(comp.box.lengths)/2\n",
    "    # Add particles\n",
    "    for i in range(n_atoms):\n",
    "        name = snapshot.particles.types[snapshot.particles.typeid[i]]\n",
    "        xyz = snapshot.particles.position[i] * scale + shift\n",
    "        charge = snapshot.particles.charge[i]\n",
    "\n",
    "        atom = mb.Particle(name=name, pos=xyz, charge=charge)\n",
    "        comp.add(atom, label=str(i))\n",
    "\n",
    "    # Add bonds\n",
    "    particle_dict = {idx: p for idx, p in enumerate(comp.particles())}\n",
    "    for i in range(bond_array.shape[0]):\n",
    "        atom1 = int(bond_array[i][0])\n",
    "        atom2 = int(bond_array[i][1])\n",
    "        comp.add_bond([particle_dict[atom1], particle_dict[atom2]])\n",
    "    return comp"
   ]
  },
  {
   "cell_type": "code",
   "execution_count": 2,
   "id": "danish-wallet",
   "metadata": {},
   "outputs": [
    {
     "data": {
      "application/3dmoljs_load.v0": "<div id=\"3dmolviewer_1623357299084695\"  style=\"position: relative; width: 640px; height: 480px\">\n        <p id=\"3dmolwarning_1623357299084695\" style=\"background-color:#ffcccc;color:black\">You appear to be running in JupyterLab (or JavaScript failed to load for some other reason).  You need to install the 3dmol extension: <br>\n        <tt>jupyter labextension install jupyterlab_3dmol</tt></p>\n        </div>\n<script>\n\nvar loadScriptAsync = function(uri){\n  return new Promise((resolve, reject) => {\n    var tag = document.createElement('script');\n    tag.src = uri;\n    tag.async = true;\n    tag.onload = () => {\n      resolve();\n    };\n  var firstScriptTag = document.getElementsByTagName('script')[0];\n  firstScriptTag.parentNode.insertBefore(tag, firstScriptTag);\n});\n};\n\nif(typeof $3Dmolpromise === 'undefined') {\n$3Dmolpromise = null;\n  $3Dmolpromise = loadScriptAsync('https://3dmol.csb.pitt.edu/build/3Dmol.js');\n}\n\nvar viewer_1623357299084695 = null;\nvar warn = document.getElementById(\"3dmolwarning_1623357299084695\");\nif(warn) {\n    warn.parentNode.removeChild(warn);\n}\n$3Dmolpromise.then(function() {\nviewer_1623357299084695 = $3Dmol.createViewer($(\"#3dmolviewer_1623357299084695\"),{backgroundColor:\"white\"});\n\tviewer_1623357299084695.addModel(\"@<TRIPOS>MOLECULE\\nRES\\n186 200 1 0 1\\nSMALL\\nNO_CHARGES\\n@<TRIPOS>CRYSIN\\n  309.4743   309.4743   309.4743    90.0000    90.0000    90.0000  1  1\\n@<TRIPOS>ATOM\\n       1 C            3.3525    19.7995   300.1560 C             1 RES     \\n       2 C            4.2145    20.8075   299.7000 C             1 RES     \\n       3 C            5.6015    20.5765   299.5900 C             1 RES     \\n       4 H            3.7995    21.7695   299.4590 H             1 RES     \\n       5 C            6.0945    19.3205   299.9340 C             1 RES     \\n       6 H            6.2695    21.3625   299.2680 H             1 RES     \\n       7 C            5.2165    18.3135   300.3010 C             1 RES     \\n       8 C            3.8545    18.5465   300.4510 C             1 RES     \\n       9 H            3.1815    17.7915   300.8170 H             1 RES     \\n      10 H            2.2945    19.9705   300.2840 H             1 RES     \\n      11 C            5.9115    17.0615   300.5290 C             1 RES     \\n      12 C            7.3695    17.4085   300.4700 C             1 RES     \\n      13 C            7.4755    18.8155   300.0050 C             1 RES     \\n      14 O            8.4925    19.4625   299.7900 O             1 RES     \\n      15 C            5.3185    15.7935   300.5560 C             1 RES     \\n      16 C            3.9755    15.6285   300.1260 C             1 RES     \\n      17 C            5.8945    14.4785   300.8370 C             1 RES     \\n      18 N            2.8835    15.5065   299.7740 N             1 RES     \\n      19 N            6.3475    13.4345   301.0600 N             1 RES     \\n      20 C            8.1985    16.3975   300.6410 C             1 RES     \\n      21 C            9.5125    15.8525   300.5900 C             1 RES     \\n      22 H            7.6835    15.6915   301.1420 H             1 RES     \\n      23 S           10.9405    16.7215   300.4450 S             1 RES     \\n      24 C           11.8825    15.5485   301.1950 C             1 RES     \\n      25 C           11.0805    14.4085   301.3020 C             1 RES     \\n      26 C            9.7135    14.5395   301.0320 C             1 RES     \\n      27 H            8.8685    13.8755   301.3700 H             1 RES     \\n      28 C           13.1305    15.5505   302.0400 C             1 RES     \\n      29 S           11.9015    13.2685   302.1630 S             1 RES     \\n      30 C           13.2705    14.2155   302.5320 C             1 RES     \\n      31 C           14.1745    16.6605   302.8650 C             1 RES     \\n      32 C           15.1035    15.3005   303.3070 C             1 RES     \\n      33 C           14.5785    13.9735   303.2000 C             1 RES     \\n      34 C           15.1545    18.0745   303.3300 C             1 RES     \\n      35 C           12.8725    17.6595   303.1030 C             1 RES     \\n      36 C           12.8275    18.9165   302.3730 C             1 RES     \\n      37 C           11.7695    19.8405   302.4050 C             1 RES     \\n      38 C           10.5975    19.5965   303.1210 C             1 RES     \\n      39 C           10.6505    18.4675   303.9970 C             1 RES     \\n      40 C           16.2135    18.7295   302.5650 C             1 RES     \\n      41 C           16.7565    20.0845   302.8310 C             1 RES     \\n      42 C           16.3335    20.9565   303.8760 C             1 RES     \\n      43 C           15.4205    20.3205   304.7330 C             1 RES     \\n      44 C           14.8705    18.9695   304.5060 C             1 RES     \\n      45 C           11.7645    17.5305   304.0030 C             1 RES     \\n      46 H           16.6205    18.2665   301.6830 H             1 RES     \\n      47 H            9.8055    18.2635   304.6340 H             1 RES     \\n      48 H           11.7305    16.6915   304.6840 H             1 RES     \\n      49 H           11.8545    20.7435   301.8050 H             1 RES     \\n      50 H           13.6545    19.2345   301.7490 H             1 RES     \\n      51 H           17.5005    20.5185   302.1740 H             1 RES     \\n      52 H           15.0945    20.9515   305.5600 H             1 RES     \\n      53 H           14.1265    18.7305   305.2590 H             1 RES     \\n      54 C            9.3105    20.4485   302.7230 C             1 RES     \\n      55 C            8.6915    21.6335   303.5370 C             1 RES     \\n      56 H            8.5045    19.7315   302.4640 H             1 RES     \\n      57 H            9.5765    20.9285   301.7580 H             1 RES     \\n      58 C            7.8095    22.7485   302.7980 C             1 RES     \\n      59 H            9.5705    22.2075   303.8860 H             1 RES     \\n      60 H            8.1405    21.2615   304.4250 H             1 RES     \\n      61 C            6.3135    22.5505   302.3620 C             1 RES     \\n      62 H            8.3575    23.1645   301.9190 H             1 RES     \\n      63 H            7.7705    23.5745   303.5350 H             1 RES     \\n      64 C            5.4895    23.8855   302.4280 C             1 RES     \\n      65 H            6.3085    22.1905   301.3280 H             1 RES     \\n      66 H            5.7865    21.8215   303.0090 H             1 RES     \\n      67 C            4.0985    23.8375   301.7660 C             1 RES     \\n      68 H            6.0355    24.7255   301.9470 H             1 RES     \\n      69 H            5.3425    24.1415   303.5010 H             1 RES     \\n      70 H            4.1945    23.7615   300.6620 H             1 RES     \\n      71 H            3.5445    24.7835   301.9730 H             1 RES     \\n      72 H            3.4795    22.9965   302.1410 H             1 RES     \\n      73 C           16.7605    22.5445   303.9920 C             1 RES     \\n      74 C           17.5795    23.1705   305.2090 C             1 RES     \\n      75 H           15.8485    23.1875   303.9100 H             1 RES     \\n      76 H           17.3705    22.8365   303.1020 H             1 RES     \\n      77 C           18.0395    24.7025   305.1120 C             1 RES     \\n      78 H           18.5245    22.5975   305.2320 H             1 RES     \\n      79 H           17.0625    23.0325   306.1820 H             1 RES     \\n      80 C           17.0545    25.7865   305.6470 C             1 RES     \\n      81 H           18.3275    24.9445   304.0660 H             1 RES     \\n      82 H           18.9585    24.8355   305.7300 H             1 RES     \\n      83 C           17.5365    27.2635   305.4720 C             1 RES     \\n      84 H           16.8455    25.6205   306.7280 H             1 RES     \\n      85 H           16.1055    25.6885   305.0880 H             1 RES     \\n      86 C           18.6605    27.7235   306.4150 C             1 RES     \\n      87 H           16.6775    27.9405   305.6860 H             1 RES     \\n      88 H           17.8415    27.4395   304.4190 H             1 RES     \\n      89 H           18.3285    27.6645   307.4740 H             1 RES     \\n      90 H           18.9015    28.7945   306.2100 H             1 RES     \\n      91 H           19.5875    27.1345   306.2810 H             1 RES     \\n      92 C           16.5165    15.3295   303.5570 C             1 RES     \\n      93 C           17.3665    14.1635   303.5930 C             1 RES     \\n      94 C           16.8625    12.8485   303.6030 C             1 RES     \\n      95 C           15.3995    12.7285   303.5100 C             1 RES     \\n      96 H           16.9975    16.2705   303.5900 H             1 RES     \\n      97 H           15.0925    11.6635   303.4400 H             1 RES     \\n      98 C           18.8585    14.0785   303.6090 C             1 RES     \\n      99 C           18.0565    11.7185   303.3400 C             1 RES     \\n     100 C           19.2695    12.7635   303.5600 C             1 RES     \\n     101 S           20.2205    15.1285   303.8360 S             1 RES     \\n     102 C           21.3505    13.8735   304.1110 C             1 RES     \\n     103 C           20.7055    12.6755   303.9730 C             1 RES     \\n     104 C           19.0195    10.5105   303.6380 C             1 RES     \\n     105 C           17.2195    10.9305   302.1250 C             1 RES     \\n     106 C           16.2445    11.5015   301.2140 C             1 RES     \\n     107 C           15.2445    10.6935   300.5700 C             1 RES     \\n     108 C           15.2505     9.2855   300.6980 C             1 RES     \\n     109 C           16.2775     8.7215   301.4150 C             1 RES     \\n     110 C           17.1735     9.4845   302.1100 C             1 RES     \\n     111 C           19.9525    10.2215   302.5790 C             1 RES     \\n     112 C           20.8965     9.1985   302.6560 C             1 RES     \\n     113 C           20.9665     8.3725   303.7840 C             1 RES     \\n     114 C           20.0135     8.6005   304.8230 C             1 RES     \\n     115 C           19.0465     9.6525   304.7540 C             1 RES     \\n     116 C           22.2435     7.5195   303.9860 C             1 RES     \\n     117 C           22.5765     6.0435   303.5860 C             1 RES     \\n     118 H           22.4645     7.6015   305.0690 H             1 RES     \\n     119 H           23.0225     8.0995   303.4490 H             1 RES     \\n     120 C           24.0855     5.7675   303.9670 C             1 RES     \\n     121 H           22.4425     5.8835   302.4950 H             1 RES     \\n     122 H           21.9165     5.3495   304.1460 H             1 RES     \\n     123 C           24.6685     4.3305   303.8110 C             1 RES     \\n     124 H           24.2085     6.0325   305.0400 H             1 RES     \\n     125 H           24.7235     6.4525   303.3620 H             1 RES     \\n     126 C           26.1555     4.2645   304.2850 C             1 RES     \\n     127 H           24.6175     4.0065   302.7500 H             1 RES     \\n     128 H           24.0745     3.6315   304.4350 H             1 RES     \\n     129 C           26.7825     2.8635   304.2330 C             1 RES     \\n     130 H           26.2265     4.6045   305.3410 H             1 RES     \\n     131 H           26.7835     4.9355   303.6580 H             1 RES     \\n     132 H           26.2335     2.1555   304.8880 H             1 RES     \\n     133 H           27.8345     2.9105   304.6010 H             1 RES     \\n     134 H           26.8065     2.4665   303.1970 H             1 RES     \\n     135 C           14.2295     8.2605   300.1940 C             1 RES     \\n     136 C           12.7735     8.6755   299.9280 C             1 RES     \\n     137 H           14.1265     7.5005   301.0080 H             1 RES     \\n     138 H           14.6665     7.7235   299.3250 H             1 RES     \\n     139 C           11.9365     7.4135   299.5680 C             1 RES     \\n     140 H           12.7465     9.4025   299.0940 H             1 RES     \\n     141 H           12.3435     9.1415   300.8430 H             1 RES     \\n     142 C           10.4825     7.7455   299.1980 C             1 RES     \\n     143 H           11.9355     6.6995   300.4250 H             1 RES     \\n     144 H           12.4105     6.9055   298.7000 H             1 RES     \\n     145 C            9.6985     6.4925   298.7620 C             1 RES     \\n     146 H           10.4925     8.4665   298.3540 H             1 RES     \\n     147 H            9.9725     8.2095   300.0700 H             1 RES     \\n     148 C            8.2735     6.8475   298.3300 C             1 RES     \\n     149 H            9.6485     5.7595   299.5980 H             1 RES     \\n     150 H           10.2095     6.0085   297.9000 H             1 RES     \\n     151 H            7.7125     7.3055   299.1720 H             1 RES     \\n     152 H            7.7365     5.9305   298.0050 H             1 RES     \\n     153 H            8.2945     7.5585   297.4770 H             1 RES     \\n     154 H           16.1225    12.5745   301.1140 H             1 RES     \\n     155 H           14.4445    11.1705   300.0190 H             1 RES     \\n     156 H           16.3435     7.6455   301.5310 H             1 RES     \\n     157 H           17.7825     8.8305   302.7030 H             1 RES     \\n     158 H           18.3435     9.8075   305.5610 H             1 RES     \\n     159 H           19.9745    10.8585   301.6980 H             1 RES     \\n     160 H           21.6225     9.1165   301.8560 H             1 RES     \\n     161 H           20.0485     7.9945   305.7160 H             1 RES     \\n     162 S           21.8995    11.4875   304.4360 S             1 RES     \\n     163 C           23.2245    12.5095   304.7590 C             1 RES     \\n     164 C           22.7295    13.8165   304.4960 C             1 RES     \\n     165 H           23.3545    14.6905   304.6090 H             1 RES     \\n     166 C           24.6755    12.2755   305.2170 C             1 RES     \\n     167 C           25.5515    11.2175   305.4340 C             1 RES     \\n     168 H           25.1295    13.2315   305.3510 H             1 RES     \\n     169 C           25.3695     9.7565   305.2450 C             1 RES     \\n     170 C           26.6745     9.0605   305.3720 C             1 RES     \\n     171 C           27.6385     9.9905   305.6800 C             1 RES     \\n     172 C           27.0435    11.3595   305.7140 C             1 RES     \\n     173 O           24.3115     9.2075   305.0370 O             1 RES     \\n     174 C           27.7905    12.4865   305.8950 C             1 RES     \\n     175 C           27.2845    13.7775   306.2690 C             1 RES     \\n     176 C           29.2115    12.4615   305.6380 C             1 RES     \\n     177 N           26.9185    14.8335   306.5690 N             1 RES     \\n     178 N           30.3475    12.4025   305.4230 N             1 RES     \\n     179 C           28.9475     9.5675   306.0120 C             1 RES     \\n     180 C           29.2935     8.2215   305.9290 C             1 RES     \\n     181 C           28.3385     7.2855   305.5280 C             1 RES     \\n     182 C           27.0155     7.6965   305.2650 C             1 RES     \\n     183 H           29.7135    10.2275   306.3690 H             1 RES     \\n     184 H           30.3025     7.9135   306.1860 H             1 RES     \\n     185 H           28.6305     6.2435   305.4580 H             1 RES     \\n     186 H           26.2905     6.9575   305.0030 H             1 RES     \\n@<TRIPOS>BOND\\n       1       10        1 1\\n       2       64       69 1\\n       3      123      126 1\\n       4        3        2 1\\n       5      106      107 1\\n       6       43       44 1\\n       7       34       44 1\\n       8       61       66 1\\n       9      169      170 1\\n      10        6        3 1\\n      11      136      141 1\\n      12       83       87 1\\n      13      111      159 1\\n      14       42       73 1\\n      15      174      175 1\\n      16      111      112 1\\n      17       95       97 1\\n      18       28       31 1\\n      19      179      183 1\\n      20       74       77 1\\n      21       21       23 1\\n      22        2        1 1\\n      23      148      152 1\\n      24        5        3 1\\n      25       12       13 1\\n      26       24       25 1\\n      27      166      168 1\\n      28       39       45 1\\n      29       86       91 1\\n      30       61       64 1\\n      31      123      128 1\\n      32       45       48 1\\n      33      136      139 1\\n      34       73       76 1\\n      35      171      179 1\\n      36      180      184 1\\n      37       58       62 1\\n      38      135      138 1\\n      39      117      121 1\\n      40      142      146 1\\n      41       98      100 1\\n      42       99      105 1\\n      43       41       51 1\\n      44      116      118 1\\n      45       25       29 1\\n      46      104      111 1\\n      47      105      106 1\\n      48       38       39 1\\n      49      101      102 1\\n      50      164      165 1\\n      51        8        7 1\\n      52       42       43 1\\n      53      171      172 1\\n      54      108      109 1\\n      55       73       74 1\\n      56       54       56 1\\n      57       31       35 1\\n      58      175      177 1\\n      59      145      149 1\\n      60       20       22 1\\n      61      107      108 1\\n      62      170      171 1\\n      63       67       71 1\\n      64      103      162 1\\n      65      114      161 1\\n      66      126      131 1\\n      67        4        2 1\\n      68       77       81 1\\n      69       74       79 1\\n      70       14       13 1\\n      71       11       12 1\\n      72      120      125 1\\n      73      181      182 1\\n      74       43       52 1\\n      75      135      136 1\\n      76      115      158 1\\n      77      139      143 1\\n      78       92       96 1\\n      79       80       84 1\\n      80       86       89 1\\n      81       41       42 1\\n      82       34       40 1\\n      83       64       68 1\\n      84      172      174 1\\n      85      176      178 1\\n      86       55       58 1\\n      87       58       63 1\\n      88      120      123 1\\n      89      106      154 1\\n      90       55       59 1\\n      91      181      185 1\\n      92      129      134 1\\n      93      114      115 1\\n      94       35       36 1\\n      95       23       24 1\\n      96      167      169 1\\n      97       40       46 1\\n      98      166      167 1\\n      99       40       41 1\\n     100       86       90 1\\n     101      145      148 1\\n     102       61       65 1\\n     103      123      127 1\\n     104       83       86 1\\n     105       67       70 1\\n     106      136      140 1\\n     107       58       61 1\\n     108      117      120 1\\n     109       54       57 1\\n     110       15       11 1\\n     111      135      137 1\\n     112       32       33 1\\n     113      174      176 1\\n     114      129      132 1\\n     115      104      115 1\\n     116       99      104 1\\n     117       98      101 1\\n     118      100      103 1\\n     119      163      166 1\\n     120      116      119 1\\n     121      148      151 1\\n     122       18       16 1\\n     123       93       98 1\\n     124       15       17 1\\n     125       83       88 1\\n     126       67       72 1\\n     127      109      156 1\\n     128      110      157 1\\n     129       73       75 1\\n     130      180      181 1\\n     131       54       55 1\\n     132      102      164 1\\n     133      126      130 1\\n     134       44       53 1\\n     135       31       34 1\\n     136      142      145 1\\n     137       37       49 1\\n     138       38       54 1\\n     139      163      164 1\\n     140      179      180 1\\n     141       37       38 1\\n     142      116      117 1\\n     143        5       13 1\\n     144       21       26 1\\n     145       26       27 1\\n     146      126      129 1\\n     147      169      173 1\\n     148        9        8 1\\n     149      107      155 1\\n     150       31       32 1\\n     151       29       30 1\\n     152      142      147 1\\n     153       94       95 1\\n     154       92       93 1\\n     155       35       45 1\\n     156       36       50 1\\n     157       99      100 1\\n     158      162      163 1\\n     159       28       30 1\\n     160       36       37 1\\n     161       74       78 1\\n     162       33       95 1\\n     163       39       47 1\\n     164       94       99 1\\n     165       15       16 1\\n     166      113      116 1\\n     167        7        5 1\\n     168      145      150 1\\n     169       20       21 1\\n     170      117      122 1\\n     171       11        7 1\\n     172        8        1 1\\n     173      139      142 1\\n     174       30       33 1\\n     175       77       80 1\\n     176       19       17 1\\n     177       80       83 1\\n     178       24       28 1\\n     179      167      172 1\\n     180      102      103 1\\n     181       32       92 1\\n     182       25       26 1\\n     183      148      153 1\\n     184       77       82 1\\n     185      108      135 1\\n     186       64       67 1\\n     187      113      114 1\\n     188      109      110 1\\n     189      112      160 1\\n     190      120      124 1\\n     191      182      186 1\\n     192      170      182 1\\n     193       20       12 1\\n     194       55       60 1\\n     195      112      113 1\\n     196      129      133 1\\n     197      139      144 1\\n     198       93       94 1\\n     199       80       85 1\\n     200      105      110 1\\n@<TRIPOS>SUBSTRUCTURE\\n       1 RES             1 RESIDUE    0 **** ROOT      0\\n\",\"mol2\");\n\tviewer_1623357299084695.setStyle({\"stick\": {\"radius\": 0.2, \"color\": \"grey\"}, \"sphere\": {\"scale\": 0.3, \"colorscheme\": {}}});\n\tviewer_1623357299084695.zoomTo();\nviewer_1623357299084695.render();\n});\n</script>",
      "text/html": [
       "<div id=\"3dmolviewer_1623357299084695\"  style=\"position: relative; width: 640px; height: 480px\">\n",
       "        <p id=\"3dmolwarning_1623357299084695\" style=\"background-color:#ffcccc;color:black\">You appear to be running in JupyterLab (or JavaScript failed to load for some other reason).  You need to install the 3dmol extension: <br>\n",
       "        <tt>jupyter labextension install jupyterlab_3dmol</tt></p>\n",
       "        </div>\n",
       "<script>\n",
       "\n",
       "var loadScriptAsync = function(uri){\n",
       "  return new Promise((resolve, reject) => {\n",
       "    var tag = document.createElement('script');\n",
       "    tag.src = uri;\n",
       "    tag.async = true;\n",
       "    tag.onload = () => {\n",
       "      resolve();\n",
       "    };\n",
       "  var firstScriptTag = document.getElementsByTagName('script')[0];\n",
       "  firstScriptTag.parentNode.insertBefore(tag, firstScriptTag);\n",
       "});\n",
       "};\n",
       "\n",
       "if(typeof $3Dmolpromise === 'undefined') {\n",
       "$3Dmolpromise = null;\n",
       "  $3Dmolpromise = loadScriptAsync('https://3dmol.csb.pitt.edu/build/3Dmol.js');\n",
       "}\n",
       "\n",
       "var viewer_1623357299084695 = null;\n",
       "var warn = document.getElementById(\"3dmolwarning_1623357299084695\");\n",
       "if(warn) {\n",
       "    warn.parentNode.removeChild(warn);\n",
       "}\n",
       "$3Dmolpromise.then(function() {\n",
       "viewer_1623357299084695 = $3Dmol.createViewer($(\"#3dmolviewer_1623357299084695\"),{backgroundColor:\"white\"});\n",
       "\tviewer_1623357299084695.addModel(\"@<TRIPOS>MOLECULE\\nRES\\n186 200 1 0 1\\nSMALL\\nNO_CHARGES\\n@<TRIPOS>CRYSIN\\n  309.4743   309.4743   309.4743    90.0000    90.0000    90.0000  1  1\\n@<TRIPOS>ATOM\\n       1 C            3.3525    19.7995   300.1560 C             1 RES     \\n       2 C            4.2145    20.8075   299.7000 C             1 RES     \\n       3 C            5.6015    20.5765   299.5900 C             1 RES     \\n       4 H            3.7995    21.7695   299.4590 H             1 RES     \\n       5 C            6.0945    19.3205   299.9340 C             1 RES     \\n       6 H            6.2695    21.3625   299.2680 H             1 RES     \\n       7 C            5.2165    18.3135   300.3010 C             1 RES     \\n       8 C            3.8545    18.5465   300.4510 C             1 RES     \\n       9 H            3.1815    17.7915   300.8170 H             1 RES     \\n      10 H            2.2945    19.9705   300.2840 H             1 RES     \\n      11 C            5.9115    17.0615   300.5290 C             1 RES     \\n      12 C            7.3695    17.4085   300.4700 C             1 RES     \\n      13 C            7.4755    18.8155   300.0050 C             1 RES     \\n      14 O            8.4925    19.4625   299.7900 O             1 RES     \\n      15 C            5.3185    15.7935   300.5560 C             1 RES     \\n      16 C            3.9755    15.6285   300.1260 C             1 RES     \\n      17 C            5.8945    14.4785   300.8370 C             1 RES     \\n      18 N            2.8835    15.5065   299.7740 N             1 RES     \\n      19 N            6.3475    13.4345   301.0600 N             1 RES     \\n      20 C            8.1985    16.3975   300.6410 C             1 RES     \\n      21 C            9.5125    15.8525   300.5900 C             1 RES     \\n      22 H            7.6835    15.6915   301.1420 H             1 RES     \\n      23 S           10.9405    16.7215   300.4450 S             1 RES     \\n      24 C           11.8825    15.5485   301.1950 C             1 RES     \\n      25 C           11.0805    14.4085   301.3020 C             1 RES     \\n      26 C            9.7135    14.5395   301.0320 C             1 RES     \\n      27 H            8.8685    13.8755   301.3700 H             1 RES     \\n      28 C           13.1305    15.5505   302.0400 C             1 RES     \\n      29 S           11.9015    13.2685   302.1630 S             1 RES     \\n      30 C           13.2705    14.2155   302.5320 C             1 RES     \\n      31 C           14.1745    16.6605   302.8650 C             1 RES     \\n      32 C           15.1035    15.3005   303.3070 C             1 RES     \\n      33 C           14.5785    13.9735   303.2000 C             1 RES     \\n      34 C           15.1545    18.0745   303.3300 C             1 RES     \\n      35 C           12.8725    17.6595   303.1030 C             1 RES     \\n      36 C           12.8275    18.9165   302.3730 C             1 RES     \\n      37 C           11.7695    19.8405   302.4050 C             1 RES     \\n      38 C           10.5975    19.5965   303.1210 C             1 RES     \\n      39 C           10.6505    18.4675   303.9970 C             1 RES     \\n      40 C           16.2135    18.7295   302.5650 C             1 RES     \\n      41 C           16.7565    20.0845   302.8310 C             1 RES     \\n      42 C           16.3335    20.9565   303.8760 C             1 RES     \\n      43 C           15.4205    20.3205   304.7330 C             1 RES     \\n      44 C           14.8705    18.9695   304.5060 C             1 RES     \\n      45 C           11.7645    17.5305   304.0030 C             1 RES     \\n      46 H           16.6205    18.2665   301.6830 H             1 RES     \\n      47 H            9.8055    18.2635   304.6340 H             1 RES     \\n      48 H           11.7305    16.6915   304.6840 H             1 RES     \\n      49 H           11.8545    20.7435   301.8050 H             1 RES     \\n      50 H           13.6545    19.2345   301.7490 H             1 RES     \\n      51 H           17.5005    20.5185   302.1740 H             1 RES     \\n      52 H           15.0945    20.9515   305.5600 H             1 RES     \\n      53 H           14.1265    18.7305   305.2590 H             1 RES     \\n      54 C            9.3105    20.4485   302.7230 C             1 RES     \\n      55 C            8.6915    21.6335   303.5370 C             1 RES     \\n      56 H            8.5045    19.7315   302.4640 H             1 RES     \\n      57 H            9.5765    20.9285   301.7580 H             1 RES     \\n      58 C            7.8095    22.7485   302.7980 C             1 RES     \\n      59 H            9.5705    22.2075   303.8860 H             1 RES     \\n      60 H            8.1405    21.2615   304.4250 H             1 RES     \\n      61 C            6.3135    22.5505   302.3620 C             1 RES     \\n      62 H            8.3575    23.1645   301.9190 H             1 RES     \\n      63 H            7.7705    23.5745   303.5350 H             1 RES     \\n      64 C            5.4895    23.8855   302.4280 C             1 RES     \\n      65 H            6.3085    22.1905   301.3280 H             1 RES     \\n      66 H            5.7865    21.8215   303.0090 H             1 RES     \\n      67 C            4.0985    23.8375   301.7660 C             1 RES     \\n      68 H            6.0355    24.7255   301.9470 H             1 RES     \\n      69 H            5.3425    24.1415   303.5010 H             1 RES     \\n      70 H            4.1945    23.7615   300.6620 H             1 RES     \\n      71 H            3.5445    24.7835   301.9730 H             1 RES     \\n      72 H            3.4795    22.9965   302.1410 H             1 RES     \\n      73 C           16.7605    22.5445   303.9920 C             1 RES     \\n      74 C           17.5795    23.1705   305.2090 C             1 RES     \\n      75 H           15.8485    23.1875   303.9100 H             1 RES     \\n      76 H           17.3705    22.8365   303.1020 H             1 RES     \\n      77 C           18.0395    24.7025   305.1120 C             1 RES     \\n      78 H           18.5245    22.5975   305.2320 H             1 RES     \\n      79 H           17.0625    23.0325   306.1820 H             1 RES     \\n      80 C           17.0545    25.7865   305.6470 C             1 RES     \\n      81 H           18.3275    24.9445   304.0660 H             1 RES     \\n      82 H           18.9585    24.8355   305.7300 H             1 RES     \\n      83 C           17.5365    27.2635   305.4720 C             1 RES     \\n      84 H           16.8455    25.6205   306.7280 H             1 RES     \\n      85 H           16.1055    25.6885   305.0880 H             1 RES     \\n      86 C           18.6605    27.7235   306.4150 C             1 RES     \\n      87 H           16.6775    27.9405   305.6860 H             1 RES     \\n      88 H           17.8415    27.4395   304.4190 H             1 RES     \\n      89 H           18.3285    27.6645   307.4740 H             1 RES     \\n      90 H           18.9015    28.7945   306.2100 H             1 RES     \\n      91 H           19.5875    27.1345   306.2810 H             1 RES     \\n      92 C           16.5165    15.3295   303.5570 C             1 RES     \\n      93 C           17.3665    14.1635   303.5930 C             1 RES     \\n      94 C           16.8625    12.8485   303.6030 C             1 RES     \\n      95 C           15.3995    12.7285   303.5100 C             1 RES     \\n      96 H           16.9975    16.2705   303.5900 H             1 RES     \\n      97 H           15.0925    11.6635   303.4400 H             1 RES     \\n      98 C           18.8585    14.0785   303.6090 C             1 RES     \\n      99 C           18.0565    11.7185   303.3400 C             1 RES     \\n     100 C           19.2695    12.7635   303.5600 C             1 RES     \\n     101 S           20.2205    15.1285   303.8360 S             1 RES     \\n     102 C           21.3505    13.8735   304.1110 C             1 RES     \\n     103 C           20.7055    12.6755   303.9730 C             1 RES     \\n     104 C           19.0195    10.5105   303.6380 C             1 RES     \\n     105 C           17.2195    10.9305   302.1250 C             1 RES     \\n     106 C           16.2445    11.5015   301.2140 C             1 RES     \\n     107 C           15.2445    10.6935   300.5700 C             1 RES     \\n     108 C           15.2505     9.2855   300.6980 C             1 RES     \\n     109 C           16.2775     8.7215   301.4150 C             1 RES     \\n     110 C           17.1735     9.4845   302.1100 C             1 RES     \\n     111 C           19.9525    10.2215   302.5790 C             1 RES     \\n     112 C           20.8965     9.1985   302.6560 C             1 RES     \\n     113 C           20.9665     8.3725   303.7840 C             1 RES     \\n     114 C           20.0135     8.6005   304.8230 C             1 RES     \\n     115 C           19.0465     9.6525   304.7540 C             1 RES     \\n     116 C           22.2435     7.5195   303.9860 C             1 RES     \\n     117 C           22.5765     6.0435   303.5860 C             1 RES     \\n     118 H           22.4645     7.6015   305.0690 H             1 RES     \\n     119 H           23.0225     8.0995   303.4490 H             1 RES     \\n     120 C           24.0855     5.7675   303.9670 C             1 RES     \\n     121 H           22.4425     5.8835   302.4950 H             1 RES     \\n     122 H           21.9165     5.3495   304.1460 H             1 RES     \\n     123 C           24.6685     4.3305   303.8110 C             1 RES     \\n     124 H           24.2085     6.0325   305.0400 H             1 RES     \\n     125 H           24.7235     6.4525   303.3620 H             1 RES     \\n     126 C           26.1555     4.2645   304.2850 C             1 RES     \\n     127 H           24.6175     4.0065   302.7500 H             1 RES     \\n     128 H           24.0745     3.6315   304.4350 H             1 RES     \\n     129 C           26.7825     2.8635   304.2330 C             1 RES     \\n     130 H           26.2265     4.6045   305.3410 H             1 RES     \\n     131 H           26.7835     4.9355   303.6580 H             1 RES     \\n     132 H           26.2335     2.1555   304.8880 H             1 RES     \\n     133 H           27.8345     2.9105   304.6010 H             1 RES     \\n     134 H           26.8065     2.4665   303.1970 H             1 RES     \\n     135 C           14.2295     8.2605   300.1940 C             1 RES     \\n     136 C           12.7735     8.6755   299.9280 C             1 RES     \\n     137 H           14.1265     7.5005   301.0080 H             1 RES     \\n     138 H           14.6665     7.7235   299.3250 H             1 RES     \\n     139 C           11.9365     7.4135   299.5680 C             1 RES     \\n     140 H           12.7465     9.4025   299.0940 H             1 RES     \\n     141 H           12.3435     9.1415   300.8430 H             1 RES     \\n     142 C           10.4825     7.7455   299.1980 C             1 RES     \\n     143 H           11.9355     6.6995   300.4250 H             1 RES     \\n     144 H           12.4105     6.9055   298.7000 H             1 RES     \\n     145 C            9.6985     6.4925   298.7620 C             1 RES     \\n     146 H           10.4925     8.4665   298.3540 H             1 RES     \\n     147 H            9.9725     8.2095   300.0700 H             1 RES     \\n     148 C            8.2735     6.8475   298.3300 C             1 RES     \\n     149 H            9.6485     5.7595   299.5980 H             1 RES     \\n     150 H           10.2095     6.0085   297.9000 H             1 RES     \\n     151 H            7.7125     7.3055   299.1720 H             1 RES     \\n     152 H            7.7365     5.9305   298.0050 H             1 RES     \\n     153 H            8.2945     7.5585   297.4770 H             1 RES     \\n     154 H           16.1225    12.5745   301.1140 H             1 RES     \\n     155 H           14.4445    11.1705   300.0190 H             1 RES     \\n     156 H           16.3435     7.6455   301.5310 H             1 RES     \\n     157 H           17.7825     8.8305   302.7030 H             1 RES     \\n     158 H           18.3435     9.8075   305.5610 H             1 RES     \\n     159 H           19.9745    10.8585   301.6980 H             1 RES     \\n     160 H           21.6225     9.1165   301.8560 H             1 RES     \\n     161 H           20.0485     7.9945   305.7160 H             1 RES     \\n     162 S           21.8995    11.4875   304.4360 S             1 RES     \\n     163 C           23.2245    12.5095   304.7590 C             1 RES     \\n     164 C           22.7295    13.8165   304.4960 C             1 RES     \\n     165 H           23.3545    14.6905   304.6090 H             1 RES     \\n     166 C           24.6755    12.2755   305.2170 C             1 RES     \\n     167 C           25.5515    11.2175   305.4340 C             1 RES     \\n     168 H           25.1295    13.2315   305.3510 H             1 RES     \\n     169 C           25.3695     9.7565   305.2450 C             1 RES     \\n     170 C           26.6745     9.0605   305.3720 C             1 RES     \\n     171 C           27.6385     9.9905   305.6800 C             1 RES     \\n     172 C           27.0435    11.3595   305.7140 C             1 RES     \\n     173 O           24.3115     9.2075   305.0370 O             1 RES     \\n     174 C           27.7905    12.4865   305.8950 C             1 RES     \\n     175 C           27.2845    13.7775   306.2690 C             1 RES     \\n     176 C           29.2115    12.4615   305.6380 C             1 RES     \\n     177 N           26.9185    14.8335   306.5690 N             1 RES     \\n     178 N           30.3475    12.4025   305.4230 N             1 RES     \\n     179 C           28.9475     9.5675   306.0120 C             1 RES     \\n     180 C           29.2935     8.2215   305.9290 C             1 RES     \\n     181 C           28.3385     7.2855   305.5280 C             1 RES     \\n     182 C           27.0155     7.6965   305.2650 C             1 RES     \\n     183 H           29.7135    10.2275   306.3690 H             1 RES     \\n     184 H           30.3025     7.9135   306.1860 H             1 RES     \\n     185 H           28.6305     6.2435   305.4580 H             1 RES     \\n     186 H           26.2905     6.9575   305.0030 H             1 RES     \\n@<TRIPOS>BOND\\n       1       10        1 1\\n       2       64       69 1\\n       3      123      126 1\\n       4        3        2 1\\n       5      106      107 1\\n       6       43       44 1\\n       7       34       44 1\\n       8       61       66 1\\n       9      169      170 1\\n      10        6        3 1\\n      11      136      141 1\\n      12       83       87 1\\n      13      111      159 1\\n      14       42       73 1\\n      15      174      175 1\\n      16      111      112 1\\n      17       95       97 1\\n      18       28       31 1\\n      19      179      183 1\\n      20       74       77 1\\n      21       21       23 1\\n      22        2        1 1\\n      23      148      152 1\\n      24        5        3 1\\n      25       12       13 1\\n      26       24       25 1\\n      27      166      168 1\\n      28       39       45 1\\n      29       86       91 1\\n      30       61       64 1\\n      31      123      128 1\\n      32       45       48 1\\n      33      136      139 1\\n      34       73       76 1\\n      35      171      179 1\\n      36      180      184 1\\n      37       58       62 1\\n      38      135      138 1\\n      39      117      121 1\\n      40      142      146 1\\n      41       98      100 1\\n      42       99      105 1\\n      43       41       51 1\\n      44      116      118 1\\n      45       25       29 1\\n      46      104      111 1\\n      47      105      106 1\\n      48       38       39 1\\n      49      101      102 1\\n      50      164      165 1\\n      51        8        7 1\\n      52       42       43 1\\n      53      171      172 1\\n      54      108      109 1\\n      55       73       74 1\\n      56       54       56 1\\n      57       31       35 1\\n      58      175      177 1\\n      59      145      149 1\\n      60       20       22 1\\n      61      107      108 1\\n      62      170      171 1\\n      63       67       71 1\\n      64      103      162 1\\n      65      114      161 1\\n      66      126      131 1\\n      67        4        2 1\\n      68       77       81 1\\n      69       74       79 1\\n      70       14       13 1\\n      71       11       12 1\\n      72      120      125 1\\n      73      181      182 1\\n      74       43       52 1\\n      75      135      136 1\\n      76      115      158 1\\n      77      139      143 1\\n      78       92       96 1\\n      79       80       84 1\\n      80       86       89 1\\n      81       41       42 1\\n      82       34       40 1\\n      83       64       68 1\\n      84      172      174 1\\n      85      176      178 1\\n      86       55       58 1\\n      87       58       63 1\\n      88      120      123 1\\n      89      106      154 1\\n      90       55       59 1\\n      91      181      185 1\\n      92      129      134 1\\n      93      114      115 1\\n      94       35       36 1\\n      95       23       24 1\\n      96      167      169 1\\n      97       40       46 1\\n      98      166      167 1\\n      99       40       41 1\\n     100       86       90 1\\n     101      145      148 1\\n     102       61       65 1\\n     103      123      127 1\\n     104       83       86 1\\n     105       67       70 1\\n     106      136      140 1\\n     107       58       61 1\\n     108      117      120 1\\n     109       54       57 1\\n     110       15       11 1\\n     111      135      137 1\\n     112       32       33 1\\n     113      174      176 1\\n     114      129      132 1\\n     115      104      115 1\\n     116       99      104 1\\n     117       98      101 1\\n     118      100      103 1\\n     119      163      166 1\\n     120      116      119 1\\n     121      148      151 1\\n     122       18       16 1\\n     123       93       98 1\\n     124       15       17 1\\n     125       83       88 1\\n     126       67       72 1\\n     127      109      156 1\\n     128      110      157 1\\n     129       73       75 1\\n     130      180      181 1\\n     131       54       55 1\\n     132      102      164 1\\n     133      126      130 1\\n     134       44       53 1\\n     135       31       34 1\\n     136      142      145 1\\n     137       37       49 1\\n     138       38       54 1\\n     139      163      164 1\\n     140      179      180 1\\n     141       37       38 1\\n     142      116      117 1\\n     143        5       13 1\\n     144       21       26 1\\n     145       26       27 1\\n     146      126      129 1\\n     147      169      173 1\\n     148        9        8 1\\n     149      107      155 1\\n     150       31       32 1\\n     151       29       30 1\\n     152      142      147 1\\n     153       94       95 1\\n     154       92       93 1\\n     155       35       45 1\\n     156       36       50 1\\n     157       99      100 1\\n     158      162      163 1\\n     159       28       30 1\\n     160       36       37 1\\n     161       74       78 1\\n     162       33       95 1\\n     163       39       47 1\\n     164       94       99 1\\n     165       15       16 1\\n     166      113      116 1\\n     167        7        5 1\\n     168      145      150 1\\n     169       20       21 1\\n     170      117      122 1\\n     171       11        7 1\\n     172        8        1 1\\n     173      139      142 1\\n     174       30       33 1\\n     175       77       80 1\\n     176       19       17 1\\n     177       80       83 1\\n     178       24       28 1\\n     179      167      172 1\\n     180      102      103 1\\n     181       32       92 1\\n     182       25       26 1\\n     183      148      153 1\\n     184       77       82 1\\n     185      108      135 1\\n     186       64       67 1\\n     187      113      114 1\\n     188      109      110 1\\n     189      112      160 1\\n     190      120      124 1\\n     191      182      186 1\\n     192      170      182 1\\n     193       20       12 1\\n     194       55       60 1\\n     195      112      113 1\\n     196      129      133 1\\n     197      139      144 1\\n     198       93       94 1\\n     199       80       85 1\\n     200      105      110 1\\n@<TRIPOS>SUBSTRUCTURE\\n       1 RES             1 RESIDUE    0 **** ROOT      0\\n\",\"mol2\");\n",
       "\tviewer_1623357299084695.setStyle({\"stick\": {\"radius\": 0.2, \"color\": \"grey\"}, \"sphere\": {\"scale\": 0.3, \"colorscheme\": {}}});\n",
       "\tviewer_1623357299084695.zoomTo();\n",
       "viewer_1623357299084695.render();\n",
       "});\n",
       "</script>"
      ]
     },
     "metadata": {},
     "output_type": "display_data"
    }
   ],
   "source": [
    "gsd_file = \"/Users/jamesrushing/cmelab/data/workspace/35e3dc4320d6ed3424bdba79fae77bce/trajectory.gsd\"\n",
    "\n",
    "with gsd.hoomd.open(name=gsd_file, mode='rb') as f:\n",
    "    start_snap = f[0]\n",
    "    end_snap = f[-1]\n",
    "\n",
    "    \n",
    "\n",
    "ref_distance = 3.563594872561358\n",
    "\n",
    "start_snap.particles.position *= ref_distance\n",
    "start_snap.configuration.box[:3] *= ref_distance\n",
    "end_snap.particles.position *= ref_distance\n",
    "end_snap.configuration.box[:3] *= ref_distance\n",
    "\n",
    "box = start_snap.configuration.box[:3]\n",
    "unwrapped_positions = start_snap.particles.position + start_snap.particles.image * box\n",
    "unwrap_snap = deepcopy(start_snap)\n",
    "unwrap_snap.particles.position = unwrapped_positions\n",
    "unwrap_snap.particles.types = [amber_dict[i].symbol for i in start_snap.particles.types]\n",
    "comp = from_snapshot(unwrap_snap, scale=0.1)\n",
    "comp.visualize().show()\n",
    "\n",
    "#box = end_snap.configuration.box[:3]\n",
    "#unwrapped_positions = end_snap.particles.position + end_snap.particles.image * box\n",
    "#unwrap_snap = deepcopy(end_snap)\n",
    "#unwrap_snap.particles.position = unwrapped_positions\n",
    "#unwrap_snap.particles.types = [amber_dict[i].symbol for i in end_snap.particles.types]\n",
    "#comp = from_snapshot(unwrap_snap, scale=0.1)\n",
    "#comp.visualize().show()"
   ]
  },
  {
   "cell_type": "code",
   "execution_count": 3,
   "id": "cardiac-chicken",
   "metadata": {},
   "outputs": [
    {
     "name": "stdout",
     "output_type": "stream",
     "text": [
      "[309.47433 309.47433 309.47433   0.        0.        0.     ]\n",
      "[62.14245 62.14245 62.14245  0.       0.       0.     ]\n"
     ]
    }
   ],
   "source": [
    "print(start_snap.configuration.box)\n",
    "print(end_snap.configuration.box)"
   ]
  },
  {
   "cell_type": "markdown",
   "id": "norman-discipline",
   "metadata": {},
   "source": [
    "below is some scratch for breaking chromophores into pieces of smiles strings. may be useful down the road but for now its easier to explicity prescibe atom indeces for your chromo"
   ]
  },
  {
   "cell_type": "code",
   "execution_count": 4,
   "id": "detected-coalition",
   "metadata": {},
   "outputs": [],
   "source": [
    "#smarts_str = \"c1ccccc1\"\n",
    "#aaids=[]\n",
    "#aaids_pent = chromophores.get_chromo_ids_smiles(snap, \"c1sc2ccsc2c1\", amber_dict)\n",
    "#comp = from_snapshot(unwrap_snap, scale=0.1*ref_distance)\n",
    "\n",
    "#aaids_benzene = chromophores.get_chromo_ids_smiles(snap, smarts_str, amber_dict)\n",
    "#aaids_thiothene = chromophores.get_chromo_ids_smiles(snap, \"c1sc(C)cc1\", amber_dict)\n",
    "#aaids.extend(aaids_benzene)\n",
    "#aaids.extend(aaids_thiothene)\n",
    "#aaids.extend(aaids_pent)\n"
   ]
  },
  {
   "cell_type": "markdown",
   "id": "olympic-buffer",
   "metadata": {
    "tags": []
   },
   "source": [
    "the indexes below came from viewing the single molecule trajectory in vmd and clicking on the molecules that I like for my chromos. this cell visualizes those chosen. picking the fused ring core as one chromo and the end group as one"
   ]
  },
  {
   "cell_type": "code",
   "execution_count": 53,
   "id": "impressive-electricity",
   "metadata": {},
   "outputs": [
    {
     "data": {
      "application/3dmoljs_load.v0": "<div id=\"3dmolviewer_16233585415883589\"  style=\"position: relative; width: 640px; height: 480px\">\n        <p id=\"3dmolwarning_16233585415883589\" style=\"background-color:#ffcccc;color:black\">You appear to be running in JupyterLab (or JavaScript failed to load for some other reason).  You need to install the 3dmol extension: <br>\n        <tt>jupyter labextension install jupyterlab_3dmol</tt></p>\n        </div>\n<script>\n\nvar loadScriptAsync = function(uri){\n  return new Promise((resolve, reject) => {\n    var tag = document.createElement('script');\n    tag.src = uri;\n    tag.async = true;\n    tag.onload = () => {\n      resolve();\n    };\n  var firstScriptTag = document.getElementsByTagName('script')[0];\n  firstScriptTag.parentNode.insertBefore(tag, firstScriptTag);\n});\n};\n\nif(typeof $3Dmolpromise === 'undefined') {\n$3Dmolpromise = null;\n  $3Dmolpromise = loadScriptAsync('https://3dmol.csb.pitt.edu/build/3Dmol.js');\n}\n\nvar viewer_16233585415883589 = null;\nvar warn = document.getElementById(\"3dmolwarning_16233585415883589\");\nif(warn) {\n    warn.parentNode.removeChild(warn);\n}\n$3Dmolpromise.then(function() {\nviewer_16233585415883589 = $3Dmol.createViewer($(\"#3dmolviewer_16233585415883589\"),{backgroundColor:\"white\"});\n\tviewer_16233585415883589.addModel(\"@<TRIPOS>MOLECULE\\nRES\\n186 200 1 0 1\\nSMALL\\nNO_CHARGES\\n@<TRIPOS>CRYSIN\\n  309.4743   309.4743   309.4743    90.0000    90.0000    90.0000  1  1\\n@<TRIPOS>ATOM\\n       1 S            3.3525    19.7995   300.1560 S             1 RES     \\n       2 S            4.2145    20.8075   299.7000 S             1 RES     \\n       3 S            5.6015    20.5765   299.5900 S             1 RES     \\n       4 H            3.7995    21.7695   299.4590 H             1 RES     \\n       5 S            6.0945    19.3205   299.9340 S             1 RES     \\n       6 H            6.2695    21.3625   299.2680 H             1 RES     \\n       7 S            5.2165    18.3135   300.3010 S             1 RES     \\n       8 S            3.8545    18.5465   300.4510 S             1 RES     \\n       9 H            3.1815    17.7915   300.8170 H             1 RES     \\n      10 H            2.2945    19.9705   300.2840 H             1 RES     \\n      11 S            5.9115    17.0615   300.5290 S             1 RES     \\n      12 S            7.3695    17.4085   300.4700 S             1 RES     \\n      13 S            7.4755    18.8155   300.0050 S             1 RES     \\n      14 S            8.4925    19.4625   299.7900 S             1 RES     \\n      15 S            5.3185    15.7935   300.5560 S             1 RES     \\n      16 S            3.9755    15.6285   300.1260 S             1 RES     \\n      17 S            5.8945    14.4785   300.8370 S             1 RES     \\n      18 S            2.8835    15.5065   299.7740 S             1 RES     \\n      19 S            6.3475    13.4345   301.0600 S             1 RES     \\n      20 Kr           8.1985    16.3975   300.6410 Kr            1 RES     \\n      21 Kr           9.5125    15.8525   300.5900 Kr            1 RES     \\n      22 H            7.6835    15.6915   301.1420 H             1 RES     \\n      23 Kr          10.9405    16.7215   300.4450 Kr            1 RES     \\n      24 Kr          11.8825    15.5485   301.1950 Kr            1 RES     \\n      25 Kr          11.0805    14.4085   301.3020 Kr            1 RES     \\n      26 Kr           9.7135    14.5395   301.0320 Kr            1 RES     \\n      27 H            8.8685    13.8755   301.3700 H             1 RES     \\n      28 Kr          13.1305    15.5505   302.0400 Kr            1 RES     \\n      29 Kr          11.9015    13.2685   302.1630 Kr            1 RES     \\n      30 Kr          13.2705    14.2155   302.5320 Kr            1 RES     \\n      31 Kr          14.1745    16.6605   302.8650 Kr            1 RES     \\n      32 Kr          15.1035    15.3005   303.3070 Kr            1 RES     \\n      33 Kr          14.5785    13.9735   303.2000 Kr            1 RES     \\n      34 C           15.1545    18.0745   303.3300 C             1 RES     \\n      35 C           12.8725    17.6595   303.1030 C             1 RES     \\n      36 C           12.8275    18.9165   302.3730 C             1 RES     \\n      37 C           11.7695    19.8405   302.4050 C             1 RES     \\n      38 C           10.5975    19.5965   303.1210 C             1 RES     \\n      39 C           10.6505    18.4675   303.9970 C             1 RES     \\n      40 C           16.2135    18.7295   302.5650 C             1 RES     \\n      41 C           16.7565    20.0845   302.8310 C             1 RES     \\n      42 C           16.3335    20.9565   303.8760 C             1 RES     \\n      43 C           15.4205    20.3205   304.7330 C             1 RES     \\n      44 C           14.8705    18.9695   304.5060 C             1 RES     \\n      45 C           11.7645    17.5305   304.0030 C             1 RES     \\n      46 H           16.6205    18.2665   301.6830 H             1 RES     \\n      47 H            9.8055    18.2635   304.6340 H             1 RES     \\n      48 H           11.7305    16.6915   304.6840 H             1 RES     \\n      49 H           11.8545    20.7435   301.8050 H             1 RES     \\n      50 H           13.6545    19.2345   301.7490 H             1 RES     \\n      51 H           17.5005    20.5185   302.1740 H             1 RES     \\n      52 H           15.0945    20.9515   305.5600 H             1 RES     \\n      53 H           14.1265    18.7305   305.2590 H             1 RES     \\n      54 C            9.3105    20.4485   302.7230 C             1 RES     \\n      55 C            8.6915    21.6335   303.5370 C             1 RES     \\n      56 H            8.5045    19.7315   302.4640 H             1 RES     \\n      57 H            9.5765    20.9285   301.7580 H             1 RES     \\n      58 C            7.8095    22.7485   302.7980 C             1 RES     \\n      59 H            9.5705    22.2075   303.8860 H             1 RES     \\n      60 H            8.1405    21.2615   304.4250 H             1 RES     \\n      61 C            6.3135    22.5505   302.3620 C             1 RES     \\n      62 H            8.3575    23.1645   301.9190 H             1 RES     \\n      63 H            7.7705    23.5745   303.5350 H             1 RES     \\n      64 C            5.4895    23.8855   302.4280 C             1 RES     \\n      65 H            6.3085    22.1905   301.3280 H             1 RES     \\n      66 H            5.7865    21.8215   303.0090 H             1 RES     \\n      67 C            4.0985    23.8375   301.7660 C             1 RES     \\n      68 H            6.0355    24.7255   301.9470 H             1 RES     \\n      69 H            5.3425    24.1415   303.5010 H             1 RES     \\n      70 H            4.1945    23.7615   300.6620 H             1 RES     \\n      71 H            3.5445    24.7835   301.9730 H             1 RES     \\n      72 H            3.4795    22.9965   302.1410 H             1 RES     \\n      73 C           16.7605    22.5445   303.9920 C             1 RES     \\n      74 C           17.5795    23.1705   305.2090 C             1 RES     \\n      75 H           15.8485    23.1875   303.9100 H             1 RES     \\n      76 H           17.3705    22.8365   303.1020 H             1 RES     \\n      77 C           18.0395    24.7025   305.1120 C             1 RES     \\n      78 H           18.5245    22.5975   305.2320 H             1 RES     \\n      79 H           17.0625    23.0325   306.1820 H             1 RES     \\n      80 C           17.0545    25.7865   305.6470 C             1 RES     \\n      81 H           18.3275    24.9445   304.0660 H             1 RES     \\n      82 H           18.9585    24.8355   305.7300 H             1 RES     \\n      83 C           17.5365    27.2635   305.4720 C             1 RES     \\n      84 H           16.8455    25.6205   306.7280 H             1 RES     \\n      85 H           16.1055    25.6885   305.0880 H             1 RES     \\n      86 C           18.6605    27.7235   306.4150 C             1 RES     \\n      87 H           16.6775    27.9405   305.6860 H             1 RES     \\n      88 H           17.8415    27.4395   304.4190 H             1 RES     \\n      89 H           18.3285    27.6645   307.4740 H             1 RES     \\n      90 H           18.9015    28.7945   306.2100 H             1 RES     \\n      91 H           19.5875    27.1345   306.2810 H             1 RES     \\n      92 Kr          16.5165    15.3295   303.5570 Kr            1 RES     \\n      93 Kr          17.3665    14.1635   303.5930 Kr            1 RES     \\n      94 Kr          16.8625    12.8485   303.6030 Kr            1 RES     \\n      95 Kr          15.3995    12.7285   303.5100 Kr            1 RES     \\n      96 H           16.9975    16.2705   303.5900 H             1 RES     \\n      97 H           15.0925    11.6635   303.4400 H             1 RES     \\n      98 Kr          18.8585    14.0785   303.6090 Kr            1 RES     \\n      99 Kr          18.0565    11.7185   303.3400 Kr            1 RES     \\n     100 Kr          19.2695    12.7635   303.5600 Kr            1 RES     \\n     101 Kr          20.2205    15.1285   303.8360 Kr            1 RES     \\n     102 Kr          21.3505    13.8735   304.1110 Kr            1 RES     \\n     103 Kr          20.7055    12.6755   303.9730 Kr            1 RES     \\n     104 C           19.0195    10.5105   303.6380 C             1 RES     \\n     105 C           17.2195    10.9305   302.1250 C             1 RES     \\n     106 C           16.2445    11.5015   301.2140 C             1 RES     \\n     107 C           15.2445    10.6935   300.5700 C             1 RES     \\n     108 C           15.2505     9.2855   300.6980 C             1 RES     \\n     109 C           16.2775     8.7215   301.4150 C             1 RES     \\n     110 C           17.1735     9.4845   302.1100 C             1 RES     \\n     111 C           19.9525    10.2215   302.5790 C             1 RES     \\n     112 C           20.8965     9.1985   302.6560 C             1 RES     \\n     113 C           20.9665     8.3725   303.7840 C             1 RES     \\n     114 C           20.0135     8.6005   304.8230 C             1 RES     \\n     115 C           19.0465     9.6525   304.7540 C             1 RES     \\n     116 C           22.2435     7.5195   303.9860 C             1 RES     \\n     117 C           22.5765     6.0435   303.5860 C             1 RES     \\n     118 H           22.4645     7.6015   305.0690 H             1 RES     \\n     119 H           23.0225     8.0995   303.4490 H             1 RES     \\n     120 C           24.0855     5.7675   303.9670 C             1 RES     \\n     121 H           22.4425     5.8835   302.4950 H             1 RES     \\n     122 H           21.9165     5.3495   304.1460 H             1 RES     \\n     123 C           24.6685     4.3305   303.8110 C             1 RES     \\n     124 H           24.2085     6.0325   305.0400 H             1 RES     \\n     125 H           24.7235     6.4525   303.3620 H             1 RES     \\n     126 C           26.1555     4.2645   304.2850 C             1 RES     \\n     127 H           24.6175     4.0065   302.7500 H             1 RES     \\n     128 H           24.0745     3.6315   304.4350 H             1 RES     \\n     129 C           26.7825     2.8635   304.2330 C             1 RES     \\n     130 H           26.2265     4.6045   305.3410 H             1 RES     \\n     131 H           26.7835     4.9355   303.6580 H             1 RES     \\n     132 H           26.2335     2.1555   304.8880 H             1 RES     \\n     133 H           27.8345     2.9105   304.6010 H             1 RES     \\n     134 H           26.8065     2.4665   303.1970 H             1 RES     \\n     135 C           14.2295     8.2605   300.1940 C             1 RES     \\n     136 C           12.7735     8.6755   299.9280 C             1 RES     \\n     137 H           14.1265     7.5005   301.0080 H             1 RES     \\n     138 H           14.6665     7.7235   299.3250 H             1 RES     \\n     139 C           11.9365     7.4135   299.5680 C             1 RES     \\n     140 H           12.7465     9.4025   299.0940 H             1 RES     \\n     141 H           12.3435     9.1415   300.8430 H             1 RES     \\n     142 C           10.4825     7.7455   299.1980 C             1 RES     \\n     143 H           11.9355     6.6995   300.4250 H             1 RES     \\n     144 H           12.4105     6.9055   298.7000 H             1 RES     \\n     145 C            9.6985     6.4925   298.7620 C             1 RES     \\n     146 H           10.4925     8.4665   298.3540 H             1 RES     \\n     147 H            9.9725     8.2095   300.0700 H             1 RES     \\n     148 C            8.2735     6.8475   298.3300 C             1 RES     \\n     149 H            9.6485     5.7595   299.5980 H             1 RES     \\n     150 H           10.2095     6.0085   297.9000 H             1 RES     \\n     151 H            7.7125     7.3055   299.1720 H             1 RES     \\n     152 H            7.7365     5.9305   298.0050 H             1 RES     \\n     153 H            8.2945     7.5585   297.4770 H             1 RES     \\n     154 H           16.1225    12.5745   301.1140 H             1 RES     \\n     155 H           14.4445    11.1705   300.0190 H             1 RES     \\n     156 H           16.3435     7.6455   301.5310 H             1 RES     \\n     157 H           17.7825     8.8305   302.7030 H             1 RES     \\n     158 H           18.3435     9.8075   305.5610 H             1 RES     \\n     159 H           19.9745    10.8585   301.6980 H             1 RES     \\n     160 H           21.6225     9.1165   301.8560 H             1 RES     \\n     161 H           20.0485     7.9945   305.7160 H             1 RES     \\n     162 Kr          21.8995    11.4875   304.4360 Kr            1 RES     \\n     163 Kr          23.2245    12.5095   304.7590 Kr            1 RES     \\n     164 Kr          22.7295    13.8165   304.4960 Kr            1 RES     \\n     165 H           23.3545    14.6905   304.6090 H             1 RES     \\n     166 C           24.6755    12.2755   305.2170 C             1 RES     \\n     167 C           25.5515    11.2175   305.4340 C             1 RES     \\n     168 H           25.1295    13.2315   305.3510 H             1 RES     \\n     169 C           25.3695     9.7565   305.2450 C             1 RES     \\n     170 C           26.6745     9.0605   305.3720 C             1 RES     \\n     171 C           27.6385     9.9905   305.6800 C             1 RES     \\n     172 C           27.0435    11.3595   305.7140 C             1 RES     \\n     173 O           24.3115     9.2075   305.0370 O             1 RES     \\n     174 C           27.7905    12.4865   305.8950 C             1 RES     \\n     175 C           27.2845    13.7775   306.2690 C             1 RES     \\n     176 C           29.2115    12.4615   305.6380 C             1 RES     \\n     177 N           26.9185    14.8335   306.5690 N             1 RES     \\n     178 N           30.3475    12.4025   305.4230 N             1 RES     \\n     179 C           28.9475     9.5675   306.0120 C             1 RES     \\n     180 C           29.2935     8.2215   305.9290 C             1 RES     \\n     181 C           28.3385     7.2855   305.5280 C             1 RES     \\n     182 C           27.0155     7.6965   305.2650 C             1 RES     \\n     183 H           29.7135    10.2275   306.3690 H             1 RES     \\n     184 H           30.3025     7.9135   306.1860 H             1 RES     \\n     185 H           28.6305     6.2435   305.4580 H             1 RES     \\n     186 H           26.2905     6.9575   305.0030 H             1 RES     \\n@<TRIPOS>BOND\\n       1       45       35 1\\n       2       42       43 1\\n       3      110      157 1\\n       4       55       60 1\\n       5       80       83 1\\n       6       28       31 1\\n       7      180      181 1\\n       8      101      102 1\\n       9      164      165 1\\n      10      106      154 1\\n      11       11       12 1\\n      12       67       70 1\\n      13      129      134 1\\n      14      176      178 1\\n      15       32       33 1\\n      16      114      115 1\\n      17      106      107 1\\n      18      169      170 1\\n      19       92       96 1\\n      20        8        9 1\\n      21       37       49 1\\n      22      148      151 1\\n      23       86       89 1\\n      24      100      103 1\\n      25      163      166 1\\n      26       61       64 1\\n      27      136      141 1\\n      28       98      100 1\\n      29       16       18 1\\n      30      117      120 1\\n      31       67       72 1\\n      32      126      129 1\\n      33      179      183 1\\n      34       12       20 1\\n      35       54       38 1\\n      36      120      125 1\\n      37       54       56 1\\n      38       21       23 1\\n      39      172      174 1\\n      40      174      176 1\\n      41        5        7 1\\n      42        3        5 1\\n      43       86       91 1\\n      44       36       50 1\\n      45       95       97 1\\n      46      163      164 1\\n      47       26       27 1\\n      48      142      146 1\\n      49       83       87 1\\n      50      103      162 1\\n      51      171      179 1\\n      52      169      173 1\\n      53       29       30 1\\n      54      166      167 1\\n      55      102      164 1\\n      56       13       14 1\\n      57       44       53 1\\n      58      117      122 1\\n      59      126      131 1\\n      60      175      177 1\\n      61      116      118 1\\n      62      108      135 1\\n      63       42       73 1\\n      64       58       62 1\\n      65       15       17 1\\n      66      102      103 1\\n      67       12       13 1\\n      68      181      182 1\\n      69       79       74 1\\n      70      139      143 1\\n      71       20       22 1\\n      72      148      153 1\\n      73       61       66 1\\n      74       55       59 1\\n      75      120      124 1\\n      76        1        8 1\\n      77      113      114 1\\n      78        7        8 1\\n      79      129      133 1\\n      80      123      126 1\\n      81       38       39 1\\n      82       44       34 1\\n      83       80       77 1\\n      84      135      137 1\\n      85       24       28 1\\n      86       25       29 1\\n      87      145      148 1\\n      88       33       95 1\\n      89       64       68 1\\n      90       77       82 1\\n      91       25       26 1\\n      92       99      100 1\\n      93      162      163 1\\n      94      111      159 1\\n      95       41       40 1\\n      96       80       84 1\\n      97       73       75 1\\n      98        2        4 1\\n      99      167      169 1\\n     100        1       10 1\\n     101       51       41 1\\n     102       80       85 1\\n     103      113      116 1\\n     104       31       35 1\\n     105        7       11 1\\n     106       21       26 1\\n     107       93       94 1\\n     108      109      110 1\\n     109       35       36 1\\n     110       86       90 1\\n     111      145      150 1\\n     112      136      140 1\\n     113       24       25 1\\n     114       46       40 1\\n     115      115      158 1\\n     116      181      185 1\\n     117      182      186 1\\n     118      170      182 1\\n     119       32       92 1\\n     120       67       71 1\\n     121      116      119 1\\n     122        1        2 1\\n     123       58       61 1\\n     124       34       40 1\\n     125       94       99 1\\n     126       74       77 1\\n     127        3        6 1\\n     128      142      145 1\\n     129       61       65 1\\n     130       83       86 1\\n     131       31       32 1\\n     132      105      106 1\\n     133       15       16 1\\n     134      166      168 1\\n     135       78       74 1\\n     136      126      130 1\\n     137      179      180 1\\n     138       44       43 1\\n     139      112      113 1\\n     140      116      117 1\\n     141      136      139 1\\n     142       41       42 1\\n     143       54       57 1\\n     144       92       93 1\\n     145      123      128 1\\n     146       52       43 1\\n     147       93       98 1\\n     148      174      175 1\\n     149       58       63 1\\n     150      111      112 1\\n     151      142      147 1\\n     152       99      105 1\\n     153       83       88 1\\n     154       45       48 1\\n     155       31       34 1\\n     156       47       39 1\\n     157      180      184 1\\n     158       11       15 1\\n     159      114      161 1\\n     160      117      121 1\\n     161      104      111 1\\n     162      139      144 1\\n     163       54       55 1\\n     164       17       19 1\\n     165       20       21 1\\n     166       36       37 1\\n     167      148      152 1\\n     168       94       95 1\\n     169       37       38 1\\n     170      109      156 1\\n     171       73       76 1\\n     172       30       33 1\\n     173      120      123 1\\n     174       28       30 1\\n     175      167      172 1\\n     176      123      127 1\\n     177      139      142 1\\n     178        5       13 1\\n     179       45       39 1\\n     180      135      138 1\\n     181       23       24 1\\n     182       99      104 1\\n     183      145      149 1\\n     184       98      101 1\\n     185       64       69 1\\n     186       77       81 1\\n     187       55       58 1\\n     188       73       74 1\\n     189        2        3 1\\n     190      171      172 1\\n     191      108      109 1\\n     192      107      155 1\\n     193      112      160 1\\n     194      129      132 1\\n     195      104      115 1\\n     196      105      110 1\\n     197      107      108 1\\n     198      170      171 1\\n     199      135      136 1\\n     200       64       67 1\\n@<TRIPOS>SUBSTRUCTURE\\n       1 RES             1 RESIDUE    0 **** ROOT      0\\n\",\"mol2\");\n\tviewer_16233585415883589.setStyle({\"stick\": {\"radius\": 0.2, \"color\": \"grey\"}, \"sphere\": {\"scale\": 0.3, \"colorscheme\": {}}});\n\tviewer_16233585415883589.zoomTo();\nviewer_16233585415883589.render();\n});\n</script>",
      "text/html": [
       "<div id=\"3dmolviewer_16233585415883589\"  style=\"position: relative; width: 640px; height: 480px\">\n",
       "        <p id=\"3dmolwarning_16233585415883589\" style=\"background-color:#ffcccc;color:black\">You appear to be running in JupyterLab (or JavaScript failed to load for some other reason).  You need to install the 3dmol extension: <br>\n",
       "        <tt>jupyter labextension install jupyterlab_3dmol</tt></p>\n",
       "        </div>\n",
       "<script>\n",
       "\n",
       "var loadScriptAsync = function(uri){\n",
       "  return new Promise((resolve, reject) => {\n",
       "    var tag = document.createElement('script');\n",
       "    tag.src = uri;\n",
       "    tag.async = true;\n",
       "    tag.onload = () => {\n",
       "      resolve();\n",
       "    };\n",
       "  var firstScriptTag = document.getElementsByTagName('script')[0];\n",
       "  firstScriptTag.parentNode.insertBefore(tag, firstScriptTag);\n",
       "});\n",
       "};\n",
       "\n",
       "if(typeof $3Dmolpromise === 'undefined') {\n",
       "$3Dmolpromise = null;\n",
       "  $3Dmolpromise = loadScriptAsync('https://3dmol.csb.pitt.edu/build/3Dmol.js');\n",
       "}\n",
       "\n",
       "var viewer_16233585415883589 = null;\n",
       "var warn = document.getElementById(\"3dmolwarning_16233585415883589\");\n",
       "if(warn) {\n",
       "    warn.parentNode.removeChild(warn);\n",
       "}\n",
       "$3Dmolpromise.then(function() {\n",
       "viewer_16233585415883589 = $3Dmol.createViewer($(\"#3dmolviewer_16233585415883589\"),{backgroundColor:\"white\"});\n",
       "\tviewer_16233585415883589.addModel(\"@<TRIPOS>MOLECULE\\nRES\\n186 200 1 0 1\\nSMALL\\nNO_CHARGES\\n@<TRIPOS>CRYSIN\\n  309.4743   309.4743   309.4743    90.0000    90.0000    90.0000  1  1\\n@<TRIPOS>ATOM\\n       1 S            3.3525    19.7995   300.1560 S             1 RES     \\n       2 S            4.2145    20.8075   299.7000 S             1 RES     \\n       3 S            5.6015    20.5765   299.5900 S             1 RES     \\n       4 H            3.7995    21.7695   299.4590 H             1 RES     \\n       5 S            6.0945    19.3205   299.9340 S             1 RES     \\n       6 H            6.2695    21.3625   299.2680 H             1 RES     \\n       7 S            5.2165    18.3135   300.3010 S             1 RES     \\n       8 S            3.8545    18.5465   300.4510 S             1 RES     \\n       9 H            3.1815    17.7915   300.8170 H             1 RES     \\n      10 H            2.2945    19.9705   300.2840 H             1 RES     \\n      11 S            5.9115    17.0615   300.5290 S             1 RES     \\n      12 S            7.3695    17.4085   300.4700 S             1 RES     \\n      13 S            7.4755    18.8155   300.0050 S             1 RES     \\n      14 S            8.4925    19.4625   299.7900 S             1 RES     \\n      15 S            5.3185    15.7935   300.5560 S             1 RES     \\n      16 S            3.9755    15.6285   300.1260 S             1 RES     \\n      17 S            5.8945    14.4785   300.8370 S             1 RES     \\n      18 S            2.8835    15.5065   299.7740 S             1 RES     \\n      19 S            6.3475    13.4345   301.0600 S             1 RES     \\n      20 Kr           8.1985    16.3975   300.6410 Kr            1 RES     \\n      21 Kr           9.5125    15.8525   300.5900 Kr            1 RES     \\n      22 H            7.6835    15.6915   301.1420 H             1 RES     \\n      23 Kr          10.9405    16.7215   300.4450 Kr            1 RES     \\n      24 Kr          11.8825    15.5485   301.1950 Kr            1 RES     \\n      25 Kr          11.0805    14.4085   301.3020 Kr            1 RES     \\n      26 Kr           9.7135    14.5395   301.0320 Kr            1 RES     \\n      27 H            8.8685    13.8755   301.3700 H             1 RES     \\n      28 Kr          13.1305    15.5505   302.0400 Kr            1 RES     \\n      29 Kr          11.9015    13.2685   302.1630 Kr            1 RES     \\n      30 Kr          13.2705    14.2155   302.5320 Kr            1 RES     \\n      31 Kr          14.1745    16.6605   302.8650 Kr            1 RES     \\n      32 Kr          15.1035    15.3005   303.3070 Kr            1 RES     \\n      33 Kr          14.5785    13.9735   303.2000 Kr            1 RES     \\n      34 C           15.1545    18.0745   303.3300 C             1 RES     \\n      35 C           12.8725    17.6595   303.1030 C             1 RES     \\n      36 C           12.8275    18.9165   302.3730 C             1 RES     \\n      37 C           11.7695    19.8405   302.4050 C             1 RES     \\n      38 C           10.5975    19.5965   303.1210 C             1 RES     \\n      39 C           10.6505    18.4675   303.9970 C             1 RES     \\n      40 C           16.2135    18.7295   302.5650 C             1 RES     \\n      41 C           16.7565    20.0845   302.8310 C             1 RES     \\n      42 C           16.3335    20.9565   303.8760 C             1 RES     \\n      43 C           15.4205    20.3205   304.7330 C             1 RES     \\n      44 C           14.8705    18.9695   304.5060 C             1 RES     \\n      45 C           11.7645    17.5305   304.0030 C             1 RES     \\n      46 H           16.6205    18.2665   301.6830 H             1 RES     \\n      47 H            9.8055    18.2635   304.6340 H             1 RES     \\n      48 H           11.7305    16.6915   304.6840 H             1 RES     \\n      49 H           11.8545    20.7435   301.8050 H             1 RES     \\n      50 H           13.6545    19.2345   301.7490 H             1 RES     \\n      51 H           17.5005    20.5185   302.1740 H             1 RES     \\n      52 H           15.0945    20.9515   305.5600 H             1 RES     \\n      53 H           14.1265    18.7305   305.2590 H             1 RES     \\n      54 C            9.3105    20.4485   302.7230 C             1 RES     \\n      55 C            8.6915    21.6335   303.5370 C             1 RES     \\n      56 H            8.5045    19.7315   302.4640 H             1 RES     \\n      57 H            9.5765    20.9285   301.7580 H             1 RES     \\n      58 C            7.8095    22.7485   302.7980 C             1 RES     \\n      59 H            9.5705    22.2075   303.8860 H             1 RES     \\n      60 H            8.1405    21.2615   304.4250 H             1 RES     \\n      61 C            6.3135    22.5505   302.3620 C             1 RES     \\n      62 H            8.3575    23.1645   301.9190 H             1 RES     \\n      63 H            7.7705    23.5745   303.5350 H             1 RES     \\n      64 C            5.4895    23.8855   302.4280 C             1 RES     \\n      65 H            6.3085    22.1905   301.3280 H             1 RES     \\n      66 H            5.7865    21.8215   303.0090 H             1 RES     \\n      67 C            4.0985    23.8375   301.7660 C             1 RES     \\n      68 H            6.0355    24.7255   301.9470 H             1 RES     \\n      69 H            5.3425    24.1415   303.5010 H             1 RES     \\n      70 H            4.1945    23.7615   300.6620 H             1 RES     \\n      71 H            3.5445    24.7835   301.9730 H             1 RES     \\n      72 H            3.4795    22.9965   302.1410 H             1 RES     \\n      73 C           16.7605    22.5445   303.9920 C             1 RES     \\n      74 C           17.5795    23.1705   305.2090 C             1 RES     \\n      75 H           15.8485    23.1875   303.9100 H             1 RES     \\n      76 H           17.3705    22.8365   303.1020 H             1 RES     \\n      77 C           18.0395    24.7025   305.1120 C             1 RES     \\n      78 H           18.5245    22.5975   305.2320 H             1 RES     \\n      79 H           17.0625    23.0325   306.1820 H             1 RES     \\n      80 C           17.0545    25.7865   305.6470 C             1 RES     \\n      81 H           18.3275    24.9445   304.0660 H             1 RES     \\n      82 H           18.9585    24.8355   305.7300 H             1 RES     \\n      83 C           17.5365    27.2635   305.4720 C             1 RES     \\n      84 H           16.8455    25.6205   306.7280 H             1 RES     \\n      85 H           16.1055    25.6885   305.0880 H             1 RES     \\n      86 C           18.6605    27.7235   306.4150 C             1 RES     \\n      87 H           16.6775    27.9405   305.6860 H             1 RES     \\n      88 H           17.8415    27.4395   304.4190 H             1 RES     \\n      89 H           18.3285    27.6645   307.4740 H             1 RES     \\n      90 H           18.9015    28.7945   306.2100 H             1 RES     \\n      91 H           19.5875    27.1345   306.2810 H             1 RES     \\n      92 Kr          16.5165    15.3295   303.5570 Kr            1 RES     \\n      93 Kr          17.3665    14.1635   303.5930 Kr            1 RES     \\n      94 Kr          16.8625    12.8485   303.6030 Kr            1 RES     \\n      95 Kr          15.3995    12.7285   303.5100 Kr            1 RES     \\n      96 H           16.9975    16.2705   303.5900 H             1 RES     \\n      97 H           15.0925    11.6635   303.4400 H             1 RES     \\n      98 Kr          18.8585    14.0785   303.6090 Kr            1 RES     \\n      99 Kr          18.0565    11.7185   303.3400 Kr            1 RES     \\n     100 Kr          19.2695    12.7635   303.5600 Kr            1 RES     \\n     101 Kr          20.2205    15.1285   303.8360 Kr            1 RES     \\n     102 Kr          21.3505    13.8735   304.1110 Kr            1 RES     \\n     103 Kr          20.7055    12.6755   303.9730 Kr            1 RES     \\n     104 C           19.0195    10.5105   303.6380 C             1 RES     \\n     105 C           17.2195    10.9305   302.1250 C             1 RES     \\n     106 C           16.2445    11.5015   301.2140 C             1 RES     \\n     107 C           15.2445    10.6935   300.5700 C             1 RES     \\n     108 C           15.2505     9.2855   300.6980 C             1 RES     \\n     109 C           16.2775     8.7215   301.4150 C             1 RES     \\n     110 C           17.1735     9.4845   302.1100 C             1 RES     \\n     111 C           19.9525    10.2215   302.5790 C             1 RES     \\n     112 C           20.8965     9.1985   302.6560 C             1 RES     \\n     113 C           20.9665     8.3725   303.7840 C             1 RES     \\n     114 C           20.0135     8.6005   304.8230 C             1 RES     \\n     115 C           19.0465     9.6525   304.7540 C             1 RES     \\n     116 C           22.2435     7.5195   303.9860 C             1 RES     \\n     117 C           22.5765     6.0435   303.5860 C             1 RES     \\n     118 H           22.4645     7.6015   305.0690 H             1 RES     \\n     119 H           23.0225     8.0995   303.4490 H             1 RES     \\n     120 C           24.0855     5.7675   303.9670 C             1 RES     \\n     121 H           22.4425     5.8835   302.4950 H             1 RES     \\n     122 H           21.9165     5.3495   304.1460 H             1 RES     \\n     123 C           24.6685     4.3305   303.8110 C             1 RES     \\n     124 H           24.2085     6.0325   305.0400 H             1 RES     \\n     125 H           24.7235     6.4525   303.3620 H             1 RES     \\n     126 C           26.1555     4.2645   304.2850 C             1 RES     \\n     127 H           24.6175     4.0065   302.7500 H             1 RES     \\n     128 H           24.0745     3.6315   304.4350 H             1 RES     \\n     129 C           26.7825     2.8635   304.2330 C             1 RES     \\n     130 H           26.2265     4.6045   305.3410 H             1 RES     \\n     131 H           26.7835     4.9355   303.6580 H             1 RES     \\n     132 H           26.2335     2.1555   304.8880 H             1 RES     \\n     133 H           27.8345     2.9105   304.6010 H             1 RES     \\n     134 H           26.8065     2.4665   303.1970 H             1 RES     \\n     135 C           14.2295     8.2605   300.1940 C             1 RES     \\n     136 C           12.7735     8.6755   299.9280 C             1 RES     \\n     137 H           14.1265     7.5005   301.0080 H             1 RES     \\n     138 H           14.6665     7.7235   299.3250 H             1 RES     \\n     139 C           11.9365     7.4135   299.5680 C             1 RES     \\n     140 H           12.7465     9.4025   299.0940 H             1 RES     \\n     141 H           12.3435     9.1415   300.8430 H             1 RES     \\n     142 C           10.4825     7.7455   299.1980 C             1 RES     \\n     143 H           11.9355     6.6995   300.4250 H             1 RES     \\n     144 H           12.4105     6.9055   298.7000 H             1 RES     \\n     145 C            9.6985     6.4925   298.7620 C             1 RES     \\n     146 H           10.4925     8.4665   298.3540 H             1 RES     \\n     147 H            9.9725     8.2095   300.0700 H             1 RES     \\n     148 C            8.2735     6.8475   298.3300 C             1 RES     \\n     149 H            9.6485     5.7595   299.5980 H             1 RES     \\n     150 H           10.2095     6.0085   297.9000 H             1 RES     \\n     151 H            7.7125     7.3055   299.1720 H             1 RES     \\n     152 H            7.7365     5.9305   298.0050 H             1 RES     \\n     153 H            8.2945     7.5585   297.4770 H             1 RES     \\n     154 H           16.1225    12.5745   301.1140 H             1 RES     \\n     155 H           14.4445    11.1705   300.0190 H             1 RES     \\n     156 H           16.3435     7.6455   301.5310 H             1 RES     \\n     157 H           17.7825     8.8305   302.7030 H             1 RES     \\n     158 H           18.3435     9.8075   305.5610 H             1 RES     \\n     159 H           19.9745    10.8585   301.6980 H             1 RES     \\n     160 H           21.6225     9.1165   301.8560 H             1 RES     \\n     161 H           20.0485     7.9945   305.7160 H             1 RES     \\n     162 Kr          21.8995    11.4875   304.4360 Kr            1 RES     \\n     163 Kr          23.2245    12.5095   304.7590 Kr            1 RES     \\n     164 Kr          22.7295    13.8165   304.4960 Kr            1 RES     \\n     165 H           23.3545    14.6905   304.6090 H             1 RES     \\n     166 C           24.6755    12.2755   305.2170 C             1 RES     \\n     167 C           25.5515    11.2175   305.4340 C             1 RES     \\n     168 H           25.1295    13.2315   305.3510 H             1 RES     \\n     169 C           25.3695     9.7565   305.2450 C             1 RES     \\n     170 C           26.6745     9.0605   305.3720 C             1 RES     \\n     171 C           27.6385     9.9905   305.6800 C             1 RES     \\n     172 C           27.0435    11.3595   305.7140 C             1 RES     \\n     173 O           24.3115     9.2075   305.0370 O             1 RES     \\n     174 C           27.7905    12.4865   305.8950 C             1 RES     \\n     175 C           27.2845    13.7775   306.2690 C             1 RES     \\n     176 C           29.2115    12.4615   305.6380 C             1 RES     \\n     177 N           26.9185    14.8335   306.5690 N             1 RES     \\n     178 N           30.3475    12.4025   305.4230 N             1 RES     \\n     179 C           28.9475     9.5675   306.0120 C             1 RES     \\n     180 C           29.2935     8.2215   305.9290 C             1 RES     \\n     181 C           28.3385     7.2855   305.5280 C             1 RES     \\n     182 C           27.0155     7.6965   305.2650 C             1 RES     \\n     183 H           29.7135    10.2275   306.3690 H             1 RES     \\n     184 H           30.3025     7.9135   306.1860 H             1 RES     \\n     185 H           28.6305     6.2435   305.4580 H             1 RES     \\n     186 H           26.2905     6.9575   305.0030 H             1 RES     \\n@<TRIPOS>BOND\\n       1       45       35 1\\n       2       42       43 1\\n       3      110      157 1\\n       4       55       60 1\\n       5       80       83 1\\n       6       28       31 1\\n       7      180      181 1\\n       8      101      102 1\\n       9      164      165 1\\n      10      106      154 1\\n      11       11       12 1\\n      12       67       70 1\\n      13      129      134 1\\n      14      176      178 1\\n      15       32       33 1\\n      16      114      115 1\\n      17      106      107 1\\n      18      169      170 1\\n      19       92       96 1\\n      20        8        9 1\\n      21       37       49 1\\n      22      148      151 1\\n      23       86       89 1\\n      24      100      103 1\\n      25      163      166 1\\n      26       61       64 1\\n      27      136      141 1\\n      28       98      100 1\\n      29       16       18 1\\n      30      117      120 1\\n      31       67       72 1\\n      32      126      129 1\\n      33      179      183 1\\n      34       12       20 1\\n      35       54       38 1\\n      36      120      125 1\\n      37       54       56 1\\n      38       21       23 1\\n      39      172      174 1\\n      40      174      176 1\\n      41        5        7 1\\n      42        3        5 1\\n      43       86       91 1\\n      44       36       50 1\\n      45       95       97 1\\n      46      163      164 1\\n      47       26       27 1\\n      48      142      146 1\\n      49       83       87 1\\n      50      103      162 1\\n      51      171      179 1\\n      52      169      173 1\\n      53       29       30 1\\n      54      166      167 1\\n      55      102      164 1\\n      56       13       14 1\\n      57       44       53 1\\n      58      117      122 1\\n      59      126      131 1\\n      60      175      177 1\\n      61      116      118 1\\n      62      108      135 1\\n      63       42       73 1\\n      64       58       62 1\\n      65       15       17 1\\n      66      102      103 1\\n      67       12       13 1\\n      68      181      182 1\\n      69       79       74 1\\n      70      139      143 1\\n      71       20       22 1\\n      72      148      153 1\\n      73       61       66 1\\n      74       55       59 1\\n      75      120      124 1\\n      76        1        8 1\\n      77      113      114 1\\n      78        7        8 1\\n      79      129      133 1\\n      80      123      126 1\\n      81       38       39 1\\n      82       44       34 1\\n      83       80       77 1\\n      84      135      137 1\\n      85       24       28 1\\n      86       25       29 1\\n      87      145      148 1\\n      88       33       95 1\\n      89       64       68 1\\n      90       77       82 1\\n      91       25       26 1\\n      92       99      100 1\\n      93      162      163 1\\n      94      111      159 1\\n      95       41       40 1\\n      96       80       84 1\\n      97       73       75 1\\n      98        2        4 1\\n      99      167      169 1\\n     100        1       10 1\\n     101       51       41 1\\n     102       80       85 1\\n     103      113      116 1\\n     104       31       35 1\\n     105        7       11 1\\n     106       21       26 1\\n     107       93       94 1\\n     108      109      110 1\\n     109       35       36 1\\n     110       86       90 1\\n     111      145      150 1\\n     112      136      140 1\\n     113       24       25 1\\n     114       46       40 1\\n     115      115      158 1\\n     116      181      185 1\\n     117      182      186 1\\n     118      170      182 1\\n     119       32       92 1\\n     120       67       71 1\\n     121      116      119 1\\n     122        1        2 1\\n     123       58       61 1\\n     124       34       40 1\\n     125       94       99 1\\n     126       74       77 1\\n     127        3        6 1\\n     128      142      145 1\\n     129       61       65 1\\n     130       83       86 1\\n     131       31       32 1\\n     132      105      106 1\\n     133       15       16 1\\n     134      166      168 1\\n     135       78       74 1\\n     136      126      130 1\\n     137      179      180 1\\n     138       44       43 1\\n     139      112      113 1\\n     140      116      117 1\\n     141      136      139 1\\n     142       41       42 1\\n     143       54       57 1\\n     144       92       93 1\\n     145      123      128 1\\n     146       52       43 1\\n     147       93       98 1\\n     148      174      175 1\\n     149       58       63 1\\n     150      111      112 1\\n     151      142      147 1\\n     152       99      105 1\\n     153       83       88 1\\n     154       45       48 1\\n     155       31       34 1\\n     156       47       39 1\\n     157      180      184 1\\n     158       11       15 1\\n     159      114      161 1\\n     160      117      121 1\\n     161      104      111 1\\n     162      139      144 1\\n     163       54       55 1\\n     164       17       19 1\\n     165       20       21 1\\n     166       36       37 1\\n     167      148      152 1\\n     168       94       95 1\\n     169       37       38 1\\n     170      109      156 1\\n     171       73       76 1\\n     172       30       33 1\\n     173      120      123 1\\n     174       28       30 1\\n     175      167      172 1\\n     176      123      127 1\\n     177      139      142 1\\n     178        5       13 1\\n     179       45       39 1\\n     180      135      138 1\\n     181       23       24 1\\n     182       99      104 1\\n     183      145      149 1\\n     184       98      101 1\\n     185       64       69 1\\n     186       77       81 1\\n     187       55       58 1\\n     188       73       74 1\\n     189        2        3 1\\n     190      171      172 1\\n     191      108      109 1\\n     192      107      155 1\\n     193      112      160 1\\n     194      129      132 1\\n     195      104      115 1\\n     196      105      110 1\\n     197      107      108 1\\n     198      170      171 1\\n     199      135      136 1\\n     200       64       67 1\\n@<TRIPOS>SUBSTRUCTURE\\n       1 RES             1 RESIDUE    0 **** ROOT      0\\n\",\"mol2\");\n",
       "\tviewer_16233585415883589.setStyle({\"stick\": {\"radius\": 0.2, \"color\": \"grey\"}, \"sphere\": {\"scale\": 0.3, \"colorscheme\": {}}});\n",
       "\tviewer_16233585415883589.zoomTo();\n",
       "viewer_16233585415883589.render();\n",
       "});\n",
       "</script>"
      ]
     },
     "metadata": {},
     "output_type": "display_data"
    }
   ],
   "source": [
    "chromo_ids_core = np.array([19,162,163,161,101,102,100,99,98,92,91,93,31,30,94,32,30,27,29,28,27,23,24,22,25,20,97])\n",
    "chromo_ids_ends = np.array([0,7,18,1,2,4,6,15,17,18,14,16,10,13,12,11])\n",
    "#chromo_ids_ends2 = np.array([177,175,176,174,173,163,165,172,168,166,169,171,170,181,178,180,179,])\n",
    "for i,p in enumerate(comp.particles()):\n",
    "    if i in chromo_ids_core:\n",
    "        p.name = \"Kr\"\n",
    "    if i in chromo_ids_ends:\n",
    "        p.name = \"S\"\n",
    "   # if i in chromo_ids_ends2:\n",
    "   #     p.name = \"Kr\"\n",
    "comp.visualize().show()"
   ]
  },
  {
   "cell_type": "markdown",
   "id": "accredited-flour",
   "metadata": {},
   "source": [
    "Trying to get homo and lumo for a single molecule of itic below. using functions in execute_qcc.py. here we use all molecule ids from start_snap.particles.N to get homo lumos for sinlge molecule gsd\n",
    "\n",
    "displayed : \n",
    "\n",
    "HOMO-1, HOMO, LUMO, LUMO+1 above. "
   ]
  },
  {
   "cell_type": "code",
   "execution_count": 55,
   "id": "structured-balance",
   "metadata": {},
   "outputs": [
    {
     "ename": "RuntimeError",
     "evalue": "Electron number 213 and spin 0 are not consistent\nNote mol.spin = 2S = Nalpha - Nbeta, not 2S+1",
     "output_type": "error",
     "traceback": [
      "\u001b[0;31m---------------------------------------------------------------------------\u001b[0m",
      "\u001b[0;31mRuntimeError\u001b[0m                              Traceback (most recent call last)",
      "\u001b[0;32m<ipython-input-55-b43b369f1f62>\u001b[0m in \u001b[0;36m<module>\u001b[0;34m\u001b[0m\n\u001b[1;32m      1\u001b[0m \u001b[0mqcc_input\u001b[0m \u001b[0;34m=\u001b[0m \u001b[0meqcc\u001b[0m\u001b[0;34m.\u001b[0m\u001b[0mwrite_qcc_inp\u001b[0m\u001b[0;34m(\u001b[0m\u001b[0mstart_snap\u001b[0m\u001b[0;34m,\u001b[0m \u001b[0mchromo_ids_core\u001b[0m\u001b[0;34m,\u001b[0m \u001b[0mamber_dict\u001b[0m\u001b[0;34m)\u001b[0m\u001b[0;34m\u001b[0m\u001b[0;34m\u001b[0m\u001b[0m\n\u001b[0;32m----> 2\u001b[0;31m \u001b[0mhomolumo\u001b[0m \u001b[0;34m=\u001b[0m \u001b[0meqcc\u001b[0m\u001b[0;34m.\u001b[0m\u001b[0mget_homolumo\u001b[0m\u001b[0;34m(\u001b[0m\u001b[0mqcc_input\u001b[0m\u001b[0;34m)\u001b[0m\u001b[0;34m\u001b[0m\u001b[0;34m\u001b[0m\u001b[0m\n\u001b[0m\u001b[1;32m      3\u001b[0m \u001b[0mprint\u001b[0m\u001b[0;34m(\u001b[0m\u001b[0;34m\"HOMO-1, HOMO, LUMO, LUMO+1\"\u001b[0m\u001b[0;34m)\u001b[0m\u001b[0;34m\u001b[0m\u001b[0;34m\u001b[0m\u001b[0m\n\u001b[1;32m      4\u001b[0m \u001b[0mprint\u001b[0m\u001b[0;34m(\u001b[0m\u001b[0mhomolumo\u001b[0m\u001b[0;34m)\u001b[0m\u001b[0;34m\u001b[0m\u001b[0;34m\u001b[0m\u001b[0m\n\u001b[1;32m      5\u001b[0m \u001b[0mvisualize_qcc_input\u001b[0m\u001b[0;34m(\u001b[0m\u001b[0mqcc_input\u001b[0m\u001b[0;34m)\u001b[0m\u001b[0;34m\u001b[0m\u001b[0;34m\u001b[0m\u001b[0m\n",
      "\u001b[0;32m~/repos/morphct/morphct/execute_qcc.py\u001b[0m in \u001b[0;36mget_homolumo\u001b[0;34m(molstr, verbose, tol)\u001b[0m\n\u001b[1;32m     31\u001b[0m         \u001b[0mArray\u001b[0m \u001b[0mcontaining\u001b[0m \u001b[0mHOMO\u001b[0m\u001b[0;34m-\u001b[0m\u001b[0;36m1\u001b[0m\u001b[0;34m,\u001b[0m \u001b[0mHOMO\u001b[0m\u001b[0;34m,\u001b[0m \u001b[0mLUMO\u001b[0m\u001b[0;34m,\u001b[0m \u001b[0mLUMO\u001b[0m\u001b[0;34m+\u001b[0m\u001b[0;36m1\u001b[0m \u001b[0menergies\u001b[0m \u001b[0;32min\u001b[0m \u001b[0meV\u001b[0m\u001b[0;34m\u001b[0m\u001b[0;34m\u001b[0m\u001b[0m\n\u001b[1;32m     32\u001b[0m     \"\"\"\n\u001b[0;32m---> 33\u001b[0;31m     \u001b[0mmol\u001b[0m \u001b[0;34m=\u001b[0m \u001b[0mpyscf\u001b[0m\u001b[0;34m.\u001b[0m\u001b[0mM\u001b[0m\u001b[0;34m(\u001b[0m\u001b[0matom\u001b[0m\u001b[0;34m=\u001b[0m\u001b[0mmolstr\u001b[0m\u001b[0;34m)\u001b[0m\u001b[0;34m\u001b[0m\u001b[0;34m\u001b[0m\u001b[0m\n\u001b[0m\u001b[1;32m     34\u001b[0m     \u001b[0mmf\u001b[0m \u001b[0;34m=\u001b[0m \u001b[0mMINDO3\u001b[0m\u001b[0;34m(\u001b[0m\u001b[0mmol\u001b[0m\u001b[0;34m)\u001b[0m\u001b[0;34m.\u001b[0m\u001b[0mrun\u001b[0m\u001b[0;34m(\u001b[0m\u001b[0mverbose\u001b[0m\u001b[0;34m=\u001b[0m\u001b[0mverbose\u001b[0m\u001b[0;34m,\u001b[0m \u001b[0mconv_tol\u001b[0m\u001b[0;34m=\u001b[0m\u001b[0mtol\u001b[0m\u001b[0;34m)\u001b[0m\u001b[0;34m\u001b[0m\u001b[0;34m\u001b[0m\u001b[0m\n\u001b[1;32m     35\u001b[0m     \u001b[0mocc\u001b[0m \u001b[0;34m=\u001b[0m \u001b[0mmf\u001b[0m\u001b[0;34m.\u001b[0m\u001b[0mget_occ\u001b[0m\u001b[0;34m(\u001b[0m\u001b[0;34m)\u001b[0m\u001b[0;34m\u001b[0m\u001b[0;34m\u001b[0m\u001b[0m\n",
      "\u001b[0;32m~/opt/miniconda3/envs/morph/lib/python3.7/site-packages/pyscf/__init__.py\u001b[0m in \u001b[0;36mM\u001b[0;34m(**kwargs)\u001b[0m\n\u001b[1;32m     85\u001b[0m         \u001b[0;32mreturn\u001b[0m \u001b[0m__all__\u001b[0m\u001b[0;34m.\u001b[0m\u001b[0mpbc\u001b[0m\u001b[0;34m.\u001b[0m\u001b[0mgto\u001b[0m\u001b[0;34m.\u001b[0m\u001b[0mM\u001b[0m\u001b[0;34m(\u001b[0m\u001b[0;34m**\u001b[0m\u001b[0mkwargs\u001b[0m\u001b[0;34m)\u001b[0m\u001b[0;34m\u001b[0m\u001b[0;34m\u001b[0m\u001b[0m\n\u001b[1;32m     86\u001b[0m     \u001b[0;32melse\u001b[0m\u001b[0;34m:\u001b[0m  \u001b[0;31m# Molecule\u001b[0m\u001b[0;34m\u001b[0m\u001b[0;34m\u001b[0m\u001b[0m\n\u001b[0;32m---> 87\u001b[0;31m         \u001b[0;32mreturn\u001b[0m \u001b[0mgto\u001b[0m\u001b[0;34m.\u001b[0m\u001b[0mM\u001b[0m\u001b[0;34m(\u001b[0m\u001b[0;34m**\u001b[0m\u001b[0mkwargs\u001b[0m\u001b[0;34m)\u001b[0m\u001b[0;34m\u001b[0m\u001b[0;34m\u001b[0m\u001b[0m\n\u001b[0m\u001b[1;32m     88\u001b[0m \u001b[0;34m\u001b[0m\u001b[0m\n\u001b[1;32m     89\u001b[0m \u001b[0;32mdel\u001b[0m\u001b[0;34m(\u001b[0m\u001b[0mos\u001b[0m\u001b[0;34m,\u001b[0m \u001b[0msys\u001b[0m\u001b[0;34m,\u001b[0m \u001b[0mLooseVersion\u001b[0m\u001b[0;34m)\u001b[0m\u001b[0;34m\u001b[0m\u001b[0;34m\u001b[0m\u001b[0m\n",
      "\u001b[0;32m~/opt/miniconda3/envs/morph/lib/python3.7/site-packages/pyscf/gto/mole.py\u001b[0m in \u001b[0;36mM\u001b[0;34m(**kwargs)\u001b[0m\n\u001b[1;32m    101\u001b[0m     '''\n\u001b[1;32m    102\u001b[0m     \u001b[0mmol\u001b[0m \u001b[0;34m=\u001b[0m \u001b[0mMole\u001b[0m\u001b[0;34m(\u001b[0m\u001b[0;34m)\u001b[0m\u001b[0;34m\u001b[0m\u001b[0;34m\u001b[0m\u001b[0m\n\u001b[0;32m--> 103\u001b[0;31m     \u001b[0mmol\u001b[0m\u001b[0;34m.\u001b[0m\u001b[0mbuild\u001b[0m\u001b[0;34m(\u001b[0m\u001b[0;34m**\u001b[0m\u001b[0mkwargs\u001b[0m\u001b[0;34m)\u001b[0m\u001b[0;34m\u001b[0m\u001b[0;34m\u001b[0m\u001b[0m\n\u001b[0m\u001b[1;32m    104\u001b[0m     \u001b[0;32mreturn\u001b[0m \u001b[0mmol\u001b[0m\u001b[0;34m\u001b[0m\u001b[0;34m\u001b[0m\u001b[0m\n\u001b[1;32m    105\u001b[0m \u001b[0;34m\u001b[0m\u001b[0m\n",
      "\u001b[0;32m~/opt/miniconda3/envs/morph/lib/python3.7/site-packages/pyscf/gto/mole.py\u001b[0m in \u001b[0;36mbuild\u001b[0;34m(self, dump_input, parse_arg, verbose, output, max_memory, atom, basis, unit, nucmod, ecp, charge, spin, symmetry, symmetry_subgroup, cart)\u001b[0m\n\u001b[1;32m   2287\u001b[0m             \u001b[0;31m# Access self.nelec in which the code checks whether the spin and\u001b[0m\u001b[0;34m\u001b[0m\u001b[0;34m\u001b[0m\u001b[0;34m\u001b[0m\u001b[0m\n\u001b[1;32m   2288\u001b[0m             \u001b[0;31m# number of electrons are consistent.\u001b[0m\u001b[0;34m\u001b[0m\u001b[0;34m\u001b[0m\u001b[0;34m\u001b[0m\u001b[0m\n\u001b[0;32m-> 2289\u001b[0;31m             \u001b[0mself\u001b[0m\u001b[0;34m.\u001b[0m\u001b[0mnelec\u001b[0m\u001b[0;34m\u001b[0m\u001b[0;34m\u001b[0m\u001b[0m\n\u001b[0m\u001b[1;32m   2290\u001b[0m \u001b[0;34m\u001b[0m\u001b[0m\n\u001b[1;32m   2291\u001b[0m         \u001b[0;32mif\u001b[0m \u001b[0mself\u001b[0m\u001b[0;34m.\u001b[0m\u001b[0msymmetry\u001b[0m\u001b[0;34m:\u001b[0m\u001b[0;34m\u001b[0m\u001b[0;34m\u001b[0m\u001b[0m\n",
      "\u001b[0;32m~/opt/miniconda3/envs/morph/lib/python3.7/site-packages/pyscf/gto/mole.py\u001b[0m in \u001b[0;36mnelec\u001b[0;34m(self)\u001b[0m\n\u001b[1;32m   2065\u001b[0m             raise RuntimeError('Electron number %d and spin %d are not consistent\\n'\n\u001b[1;32m   2066\u001b[0m                                \u001b[0;34m'Note mol.spin = 2S = Nalpha - Nbeta, not 2S+1'\u001b[0m \u001b[0;34m%\u001b[0m\u001b[0;34m\u001b[0m\u001b[0;34m\u001b[0m\u001b[0m\n\u001b[0;32m-> 2067\u001b[0;31m                                (ne, self.spin))\n\u001b[0m\u001b[1;32m   2068\u001b[0m         \u001b[0;32mreturn\u001b[0m \u001b[0mnalpha\u001b[0m\u001b[0;34m,\u001b[0m \u001b[0mnbeta\u001b[0m\u001b[0;34m\u001b[0m\u001b[0;34m\u001b[0m\u001b[0m\n\u001b[1;32m   2069\u001b[0m     \u001b[0;34m@\u001b[0m\u001b[0mnelec\u001b[0m\u001b[0;34m.\u001b[0m\u001b[0msetter\u001b[0m\u001b[0;34m\u001b[0m\u001b[0;34m\u001b[0m\u001b[0m\n",
      "\u001b[0;31mRuntimeError\u001b[0m: Electron number 213 and spin 0 are not consistent\nNote mol.spin = 2S = Nalpha - Nbeta, not 2S+1"
     ]
    }
   ],
   "source": [
    "qcc_input = eqcc.write_qcc_inp(start_snap, chromo_ids_core, amber_dict)\n",
    "homolumo = eqcc.get_homolumo(qcc_input)\n",
    "print(\"HOMO-1, HOMO, LUMO, LUMO+1\")\n",
    "print(homolumo)\n",
    "visualize_qcc_input(qcc_input)\n"
   ]
  },
  {
   "cell_type": "markdown",
   "id": "educated-brake",
   "metadata": {},
   "source": [
    "below i want to get the homolumos for just that back bone as taken from a single molecule gsd"
   ]
  },
  {
   "cell_type": "code",
   "execution_count": 54,
   "id": "driving-fusion",
   "metadata": {},
   "outputs": [
    {
     "name": "stdout",
     "output_type": "stream",
     "text": [
      "HOMO-1, HOMO, LUMO, LUMO+1\n",
      "[-6.7930277  -4.78264222  0.49660801  1.1996445 ]\n"
     ]
    },
    {
     "data": {
      "application/3dmoljs_load.v0": "<div id=\"3dmolviewer_1623358548198359\"  style=\"position: relative; width: 640px; height: 480px\">\n        <p id=\"3dmolwarning_1623358548198359\" style=\"background-color:#ffcccc;color:black\">You appear to be running in JupyterLab (or JavaScript failed to load for some other reason).  You need to install the 3dmol extension: <br>\n        <tt>jupyter labextension install jupyterlab_3dmol</tt></p>\n        </div>\n<script>\n\nvar loadScriptAsync = function(uri){\n  return new Promise((resolve, reject) => {\n    var tag = document.createElement('script');\n    tag.src = uri;\n    tag.async = true;\n    tag.onload = () => {\n      resolve();\n    };\n  var firstScriptTag = document.getElementsByTagName('script')[0];\n  firstScriptTag.parentNode.insertBefore(tag, firstScriptTag);\n});\n};\n\nif(typeof $3Dmolpromise === 'undefined') {\n$3Dmolpromise = null;\n  $3Dmolpromise = loadScriptAsync('https://3dmol.csb.pitt.edu/build/3Dmol.js');\n}\n\nvar viewer_1623358548198359 = null;\nvar warn = document.getElementById(\"3dmolwarning_1623358548198359\");\nif(warn) {\n    warn.parentNode.removeChild(warn);\n}\n$3Dmolpromise.then(function() {\nviewer_1623358548198359 = $3Dmol.createViewer($(\"#3dmolviewer_1623358548198359\"),{backgroundColor:\"white\"});\n\tviewer_1623358548198359.addModel(\"@<TRIPOS>MOLECULE\\nRES\\n21 0 1 0 1\\nSMALL\\nNO_CHARGES\\n@<TRIPOS>CRYSIN\\n   11.1980    13.3350     6.7920    90.0000    90.0000    90.0000  1  1\\n@<TRIPOS>ATOM\\n       1 C           -1.9786     1.9018    -0.0716 C             1 RES     \\n       2 C           -1.4766     0.6488     0.2234 C             1 RES     \\n       3 N            1.0164    -4.4632     0.8324 N             1 RES     \\n       4 C           -1.1166     2.9098    -0.5276 C             1 RES     \\n       5 C            0.2704     2.6788    -0.6376 C             1 RES     \\n       6 C            0.7634     1.4228    -0.2936 C             1 RES     \\n       7 C           -0.1146     0.4158     0.0734 C             1 RES     \\n       8 C           -1.3556    -2.2692    -0.1016 C             1 RES     \\n       9 N           -2.4476    -2.3912    -0.4536 N             1 RES     \\n      10 N            1.0164    -4.4632     0.8324 N             1 RES     \\n      11 C           -0.0126    -2.1042     0.3284 C             1 RES     \\n      12 C            0.5634    -3.4192     0.6094 C             1 RES     \\n      13 C            0.5804    -0.8362     0.3014 C             1 RES     \\n      14 O            3.1614     1.5648    -0.4376 O             1 RES     \\n      15 C            2.1444     0.9178    -0.2226 C             1 RES     \\n      16 C            2.0384    -0.4892     0.2424 C             1 RES     \\n      17 H           -1.5316     3.8718    -0.7686 H             1 RES     \\n      18 H            0.9384     3.4648    -0.9596 H             1 RES     \\n      19 H           -2.1496    -0.1062     0.5894 H             1 RES     \\n      20 H           -3.0366     2.0728     0.0564 H             1 RES     \\n      21 H            2.7263    -1.3280     0.3843 H             1 RES     \\n@<TRIPOS>BOND\\n@<TRIPOS>SUBSTRUCTURE\\n       1 RES             1 RESIDUE    0 **** ROOT      0\\n\",\"mol2\");\n\tviewer_1623358548198359.setStyle({\"stick\": {\"radius\": 0.2, \"color\": \"grey\"}, \"sphere\": {\"scale\": 0.3, \"colorscheme\": {}}});\n\tviewer_1623358548198359.zoomTo();\nviewer_1623358548198359.render();\n});\n</script>",
      "text/html": [
       "<div id=\"3dmolviewer_1623358548198359\"  style=\"position: relative; width: 640px; height: 480px\">\n",
       "        <p id=\"3dmolwarning_1623358548198359\" style=\"background-color:#ffcccc;color:black\">You appear to be running in JupyterLab (or JavaScript failed to load for some other reason).  You need to install the 3dmol extension: <br>\n",
       "        <tt>jupyter labextension install jupyterlab_3dmol</tt></p>\n",
       "        </div>\n",
       "<script>\n",
       "\n",
       "var loadScriptAsync = function(uri){\n",
       "  return new Promise((resolve, reject) => {\n",
       "    var tag = document.createElement('script');\n",
       "    tag.src = uri;\n",
       "    tag.async = true;\n",
       "    tag.onload = () => {\n",
       "      resolve();\n",
       "    };\n",
       "  var firstScriptTag = document.getElementsByTagName('script')[0];\n",
       "  firstScriptTag.parentNode.insertBefore(tag, firstScriptTag);\n",
       "});\n",
       "};\n",
       "\n",
       "if(typeof $3Dmolpromise === 'undefined') {\n",
       "$3Dmolpromise = null;\n",
       "  $3Dmolpromise = loadScriptAsync('https://3dmol.csb.pitt.edu/build/3Dmol.js');\n",
       "}\n",
       "\n",
       "var viewer_1623358548198359 = null;\n",
       "var warn = document.getElementById(\"3dmolwarning_1623358548198359\");\n",
       "if(warn) {\n",
       "    warn.parentNode.removeChild(warn);\n",
       "}\n",
       "$3Dmolpromise.then(function() {\n",
       "viewer_1623358548198359 = $3Dmol.createViewer($(\"#3dmolviewer_1623358548198359\"),{backgroundColor:\"white\"});\n",
       "\tviewer_1623358548198359.addModel(\"@<TRIPOS>MOLECULE\\nRES\\n21 0 1 0 1\\nSMALL\\nNO_CHARGES\\n@<TRIPOS>CRYSIN\\n   11.1980    13.3350     6.7920    90.0000    90.0000    90.0000  1  1\\n@<TRIPOS>ATOM\\n       1 C           -1.9786     1.9018    -0.0716 C             1 RES     \\n       2 C           -1.4766     0.6488     0.2234 C             1 RES     \\n       3 N            1.0164    -4.4632     0.8324 N             1 RES     \\n       4 C           -1.1166     2.9098    -0.5276 C             1 RES     \\n       5 C            0.2704     2.6788    -0.6376 C             1 RES     \\n       6 C            0.7634     1.4228    -0.2936 C             1 RES     \\n       7 C           -0.1146     0.4158     0.0734 C             1 RES     \\n       8 C           -1.3556    -2.2692    -0.1016 C             1 RES     \\n       9 N           -2.4476    -2.3912    -0.4536 N             1 RES     \\n      10 N            1.0164    -4.4632     0.8324 N             1 RES     \\n      11 C           -0.0126    -2.1042     0.3284 C             1 RES     \\n      12 C            0.5634    -3.4192     0.6094 C             1 RES     \\n      13 C            0.5804    -0.8362     0.3014 C             1 RES     \\n      14 O            3.1614     1.5648    -0.4376 O             1 RES     \\n      15 C            2.1444     0.9178    -0.2226 C             1 RES     \\n      16 C            2.0384    -0.4892     0.2424 C             1 RES     \\n      17 H           -1.5316     3.8718    -0.7686 H             1 RES     \\n      18 H            0.9384     3.4648    -0.9596 H             1 RES     \\n      19 H           -2.1496    -0.1062     0.5894 H             1 RES     \\n      20 H           -3.0366     2.0728     0.0564 H             1 RES     \\n      21 H            2.7263    -1.3280     0.3843 H             1 RES     \\n@<TRIPOS>BOND\\n@<TRIPOS>SUBSTRUCTURE\\n       1 RES             1 RESIDUE    0 **** ROOT      0\\n\",\"mol2\");\n",
       "\tviewer_1623358548198359.setStyle({\"stick\": {\"radius\": 0.2, \"color\": \"grey\"}, \"sphere\": {\"scale\": 0.3, \"colorscheme\": {}}});\n",
       "\tviewer_1623358548198359.zoomTo();\n",
       "viewer_1623358548198359.render();\n",
       "});\n",
       "</script>"
      ]
     },
     "metadata": {},
     "output_type": "display_data"
    }
   ],
   "source": [
    "qcc_input = eqcc.write_qcc_inp(start_snap, chromo_ids_ends, amber_dict)\n",
    "homolumo = eqcc.get_homolumo(qcc_input)\n",
    "print(\"HOMO-1, HOMO, LUMO, LUMO+1\")\n",
    "print(homolumo)\n",
    "visualize_qcc_input(qcc_input)\n"
   ]
  },
  {
   "cell_type": "code",
   "execution_count": null,
   "id": "annoying-revision",
   "metadata": {},
   "outputs": [],
   "source": []
  },
  {
   "cell_type": "markdown",
   "id": "short-services",
   "metadata": {},
   "source": [
    "above this is just the single molecule homo lumo calcs. below i want to bring the build created gsd and get pairwise calcs. the mbuild stuff is being weird . going to just use a two molecule gsd from plankton to begin"
   ]
  },
  {
   "cell_type": "code",
   "execution_count": 8,
   "id": "widespread-keeping",
   "metadata": {},
   "outputs": [
    {
     "ename": "NameError",
     "evalue": "name 'chromo_ids' is not defined",
     "output_type": "error",
     "traceback": [
      "\u001b[0;31m---------------------------------------------------------------------------\u001b[0m",
      "\u001b[0;31mNameError\u001b[0m                                 Traceback (most recent call last)",
      "\u001b[0;32m<ipython-input-8-347b1ce8c25f>\u001b[0m in \u001b[0;36m<module>\u001b[0;34m\u001b[0m\n\u001b[0;32m----> 1\u001b[0;31m \u001b[0mchromo2_ids\u001b[0m \u001b[0;34m=\u001b[0m \u001b[0mchromo_ids\u001b[0m \u001b[0;34m+\u001b[0m\u001b[0;36m186\u001b[0m\u001b[0;34m\u001b[0m\u001b[0;34m\u001b[0m\u001b[0m\n\u001b[0m",
      "\u001b[0;31mNameError\u001b[0m: name 'chromo_ids' is not defined"
     ]
    }
   ],
   "source": [
    "chromo2_ids = chromo_ids +186"
   ]
  },
  {
   "cell_type": "code",
   "execution_count": 14,
   "id": "brilliant-weight",
   "metadata": {},
   "outputs": [],
   "source": [
    "aaids=[]\n",
    "aaids2 = []"
   ]
  },
  {
   "cell_type": "code",
   "execution_count": 15,
   "id": "recorded-single",
   "metadata": {},
   "outputs": [],
   "source": [
    "aaids.append(chromo_ids_core)\n",
    "aaids2.append(chromo_ids_ends)\n",
    "#aaids.append(chromo_ids_core2)"
   ]
  },
  {
   "cell_type": "code",
   "execution_count": 16,
   "id": "piano-venice",
   "metadata": {},
   "outputs": [
    {
     "name": "stdout",
     "output_type": "stream",
     "text": [
      "[array([162, 163, 161, 101, 102, 100,  99,  98,  92,  91,  93,  31,  30,\n",
      "        94,  32,  30,  27,  29,  28,  27,  23,  24,  22,  25,  20,  97])]\n"
     ]
    }
   ],
   "source": [
    "print(aaids)"
   ]
  },
  {
   "cell_type": "code",
   "execution_count": 37,
   "id": "descending-large",
   "metadata": {},
   "outputs": [],
   "source": [
    "chromo_list = []\n",
    "\n",
    "chromo_list.append(chromophores.Chromophore(0, start_snap, chromo_ids_ends, \"acceptor\", amber_dict))\n",
    "chromo_list.append(chromophores.Chromophore(1, start_snap, chromo_ids_core, \"donor\", amber_dict))"
   ]
  },
  {
   "cell_type": "code",
   "execution_count": 38,
   "id": "functioning-democracy",
   "metadata": {},
   "outputs": [
    {
     "name": "stdout",
     "output_type": "stream",
     "text": [
      "[Chromophore 0 (acceptor): 16 atoms at -149.215 -137.338 145.534, Chromophore 1 (donor): 26 atoms at -138.774 -140.454 148.184]\n"
     ]
    }
   ],
   "source": [
    "print(chromo_list)"
   ]
  },
  {
   "cell_type": "code",
   "execution_count": 39,
   "id": "excited-beijing",
   "metadata": {
    "tags": []
   },
   "outputs": [
    {
     "name": "stdout",
     "output_type": "stream",
     "text": [
      "There are 1 chromophore pairs\n"
     ]
    }
   ],
   "source": [
    "qcc_pairs = chromophores.set_neighbors_voronoi(chromo_list, start_snap, amber_dict, d_cut=100)\n",
    "print(f\"There are {len(qcc_pairs)} chromophore pairs\")"
   ]
  },
  {
   "cell_type": "code",
   "execution_count": 40,
   "id": "married-cloud",
   "metadata": {},
   "outputs": [
    {
     "name": "stdout",
     "output_type": "stream",
     "text": [
      "Pair #0:\n"
     ]
    },
    {
     "data": {
      "application/3dmoljs_load.v0": "<div id=\"3dmolviewer_1623357597177248\"  style=\"position: relative; width: 640px; height: 480px\">\n        <p id=\"3dmolwarning_1623357597177248\" style=\"background-color:#ffcccc;color:black\">You appear to be running in JupyterLab (or JavaScript failed to load for some other reason).  You need to install the 3dmol extension: <br>\n        <tt>jupyter labextension install jupyterlab_3dmol</tt></p>\n        </div>\n<script>\n\nvar loadScriptAsync = function(uri){\n  return new Promise((resolve, reject) => {\n    var tag = document.createElement('script');\n    tag.src = uri;\n    tag.async = true;\n    tag.onload = () => {\n      resolve();\n    };\n  var firstScriptTag = document.getElementsByTagName('script')[0];\n  firstScriptTag.parentNode.insertBefore(tag, firstScriptTag);\n});\n};\n\nif(typeof $3Dmolpromise === 'undefined') {\n$3Dmolpromise = null;\n  $3Dmolpromise = loadScriptAsync('https://3dmol.csb.pitt.edu/build/3Dmol.js');\n}\n\nvar viewer_1623357597177248 = null;\nvar warn = document.getElementById(\"3dmolwarning_1623357597177248\");\nif(warn) {\n    warn.parentNode.removeChild(warn);\n}\n$3Dmolpromise.then(function() {\nviewer_1623357597177248 = $3Dmol.createViewer($(\"#3dmolviewer_1623357597177248\"),{backgroundColor:\"white\"});\n\tviewer_1623357597177248.addModel(\"@<TRIPOS>MOLECULE\\nRES\\n57 0 1 0 1\\nSMALL\\nNO_CHARGES\\n@<TRIPOS>CRYSIN\\n   26.9611    15.8910    10.8165    90.0000    90.0000    90.0000  1  1\\n@<TRIPOS>ATOM\\n       1 C           -8.7247     4.1983    -1.8041 C             1 RES     \\n       2 C           -8.2227     2.9453    -1.5091 C             1 RES     \\n       3 N           -5.7298    -2.1667    -0.9001 N             1 RES     \\n       4 C           -7.8627     5.2063    -2.2601 C             1 RES     \\n       5 C           -6.4758     4.9753    -2.3701 C             1 RES     \\n       6 C           -5.9827     3.7193    -2.0261 C             1 RES     \\n       7 C           -6.8607     2.7123    -1.6591 C             1 RES     \\n       8 C           -8.1017     0.0273    -1.8341 C             1 RES     \\n       9 N           -9.1938    -0.0947    -2.1861 N             1 RES     \\n      10 N           -5.7298    -2.1667    -0.9001 N             1 RES     \\n      11 C           -6.7588     0.1923    -1.4041 C             1 RES     \\n      12 C           -6.1827    -1.1227    -1.1231 C             1 RES     \\n      13 C           -6.1658     1.4603    -1.4311 C             1 RES     \\n      14 O           -3.5847     3.8613    -2.1701 O             1 RES     \\n      15 C           -4.6017     3.2143    -1.9551 C             1 RES     \\n      16 C           -4.7077     1.8073    -1.4901 C             1 RES     \\n      17 C           11.1472    -3.0917     2.7989 C             1 RES     \\n      18 C           10.6522    -1.7847     2.5359 C             1 RES     \\n      19 S            9.8222    -4.1137     2.4759 S             1 RES     \\n      20 C            9.2733    -1.7277     2.1509 C             1 RES     \\n      21 C            8.6282    -2.9257     2.0129 C             1 RES     \\n      22 S            8.1432    -0.4727     1.8759 S             1 RES     \\n      23 C            7.1922    -2.8377     1.5999 C             1 RES     \\n      24 C            5.9792    -3.8827     1.3799 C             1 RES     \\n      25 C            5.2892    -1.4377     1.6329 C             1 RES     \\n      26 C            4.4393    -0.2717     1.5969 C             1 RES     \\n      27 C            4.7852    -2.7527     1.6429 C             1 RES     \\n      28 C            3.0262    -0.3007     1.3469 C             1 RES     \\n      29 C            2.0972     1.0593     0.9049 C             1 RES     \\n      30 C            3.3222    -2.8727     1.5499 C             1 RES     \\n      31 C            2.5012    -1.6277     1.2399 C             1 RES     \\n      32 C            2.0972     1.0593     0.9049 C             1 RES     \\n      33 C            1.0533    -0.0507     0.0799 C             1 RES     \\n      34 C            1.1932    -1.3857     0.5719 C             1 RES     \\n      35 S           -0.1758    -2.3327     0.2029 S             1 RES     \\n      36 C            1.0533    -0.0507     0.0799 C             1 RES     \\n      37 C           -0.1947    -0.0527    -0.7651 C             1 RES     \\n      38 C           -0.9968    -1.1927    -0.6581 C             1 RES     \\n      39 S           -1.1368     1.1203    -1.5151 S             1 RES     \\n      40 C           -2.3637    -1.0617    -0.9281 C             1 RES     \\n      41 C           -2.5647     0.2513    -1.3701 C             1 RES     \\n      42 C            6.7812    -1.5227     1.6489 C             1 RES     \\n      43 H           -8.2778     6.1683    -2.5011 H             1 RES     \\n      44 H           -5.8078     5.7613    -2.6921 H             1 RES     \\n      45 H           -8.8958     2.1903    -1.1431 H             1 RES     \\n      46 H           -9.7827     4.3693    -1.6761 H             1 RES     \\n      47 H           -4.0199     0.9685    -1.3482 H             1 RES     \\n      48 H           -3.5746     0.6702    -1.3309 H             1 RES     \\n      49 H           -3.2088    -1.7257    -0.5901 H             1 RES     \\n      50 H            2.6988     1.9273     1.1903 H             1 RES     \\n      51 H            1.2383     1.7184     1.0619 H             1 RES     \\n      52 H            4.9203     0.6693     1.6299 H             1 RES     \\n      53 H            3.0153    -3.9377     1.4799 H             1 RES     \\n      54 H            5.4318    -4.3981     0.5852 H             1 RES     \\n      55 H            6.6489    -4.7226     1.5871 H             1 RES     \\n      56 H           12.1784    -3.2580     3.1244 H             1 RES     \\n      57 H           11.2772    -0.9107     2.6489 H             1 RES     \\n@<TRIPOS>BOND\\n@<TRIPOS>SUBSTRUCTURE\\n       1 RES             1 RESIDUE    0 **** ROOT      0\\n\",\"mol2\");\n\tviewer_1623357597177248.setStyle({\"stick\": {\"radius\": 0.2, \"color\": \"grey\"}, \"sphere\": {\"scale\": 0.3, \"colorscheme\": {}}});\n\tviewer_1623357597177248.zoomTo();\nviewer_1623357597177248.render();\n});\n</script>",
      "text/html": [
       "<div id=\"3dmolviewer_1623357597177248\"  style=\"position: relative; width: 640px; height: 480px\">\n",
       "        <p id=\"3dmolwarning_1623357597177248\" style=\"background-color:#ffcccc;color:black\">You appear to be running in JupyterLab (or JavaScript failed to load for some other reason).  You need to install the 3dmol extension: <br>\n",
       "        <tt>jupyter labextension install jupyterlab_3dmol</tt></p>\n",
       "        </div>\n",
       "<script>\n",
       "\n",
       "var loadScriptAsync = function(uri){\n",
       "  return new Promise((resolve, reject) => {\n",
       "    var tag = document.createElement('script');\n",
       "    tag.src = uri;\n",
       "    tag.async = true;\n",
       "    tag.onload = () => {\n",
       "      resolve();\n",
       "    };\n",
       "  var firstScriptTag = document.getElementsByTagName('script')[0];\n",
       "  firstScriptTag.parentNode.insertBefore(tag, firstScriptTag);\n",
       "});\n",
       "};\n",
       "\n",
       "if(typeof $3Dmolpromise === 'undefined') {\n",
       "$3Dmolpromise = null;\n",
       "  $3Dmolpromise = loadScriptAsync('https://3dmol.csb.pitt.edu/build/3Dmol.js');\n",
       "}\n",
       "\n",
       "var viewer_1623357597177248 = null;\n",
       "var warn = document.getElementById(\"3dmolwarning_1623357597177248\");\n",
       "if(warn) {\n",
       "    warn.parentNode.removeChild(warn);\n",
       "}\n",
       "$3Dmolpromise.then(function() {\n",
       "viewer_1623357597177248 = $3Dmol.createViewer($(\"#3dmolviewer_1623357597177248\"),{backgroundColor:\"white\"});\n",
       "\tviewer_1623357597177248.addModel(\"@<TRIPOS>MOLECULE\\nRES\\n57 0 1 0 1\\nSMALL\\nNO_CHARGES\\n@<TRIPOS>CRYSIN\\n   26.9611    15.8910    10.8165    90.0000    90.0000    90.0000  1  1\\n@<TRIPOS>ATOM\\n       1 C           -8.7247     4.1983    -1.8041 C             1 RES     \\n       2 C           -8.2227     2.9453    -1.5091 C             1 RES     \\n       3 N           -5.7298    -2.1667    -0.9001 N             1 RES     \\n       4 C           -7.8627     5.2063    -2.2601 C             1 RES     \\n       5 C           -6.4758     4.9753    -2.3701 C             1 RES     \\n       6 C           -5.9827     3.7193    -2.0261 C             1 RES     \\n       7 C           -6.8607     2.7123    -1.6591 C             1 RES     \\n       8 C           -8.1017     0.0273    -1.8341 C             1 RES     \\n       9 N           -9.1938    -0.0947    -2.1861 N             1 RES     \\n      10 N           -5.7298    -2.1667    -0.9001 N             1 RES     \\n      11 C           -6.7588     0.1923    -1.4041 C             1 RES     \\n      12 C           -6.1827    -1.1227    -1.1231 C             1 RES     \\n      13 C           -6.1658     1.4603    -1.4311 C             1 RES     \\n      14 O           -3.5847     3.8613    -2.1701 O             1 RES     \\n      15 C           -4.6017     3.2143    -1.9551 C             1 RES     \\n      16 C           -4.7077     1.8073    -1.4901 C             1 RES     \\n      17 C           11.1472    -3.0917     2.7989 C             1 RES     \\n      18 C           10.6522    -1.7847     2.5359 C             1 RES     \\n      19 S            9.8222    -4.1137     2.4759 S             1 RES     \\n      20 C            9.2733    -1.7277     2.1509 C             1 RES     \\n      21 C            8.6282    -2.9257     2.0129 C             1 RES     \\n      22 S            8.1432    -0.4727     1.8759 S             1 RES     \\n      23 C            7.1922    -2.8377     1.5999 C             1 RES     \\n      24 C            5.9792    -3.8827     1.3799 C             1 RES     \\n      25 C            5.2892    -1.4377     1.6329 C             1 RES     \\n      26 C            4.4393    -0.2717     1.5969 C             1 RES     \\n      27 C            4.7852    -2.7527     1.6429 C             1 RES     \\n      28 C            3.0262    -0.3007     1.3469 C             1 RES     \\n      29 C            2.0972     1.0593     0.9049 C             1 RES     \\n      30 C            3.3222    -2.8727     1.5499 C             1 RES     \\n      31 C            2.5012    -1.6277     1.2399 C             1 RES     \\n      32 C            2.0972     1.0593     0.9049 C             1 RES     \\n      33 C            1.0533    -0.0507     0.0799 C             1 RES     \\n      34 C            1.1932    -1.3857     0.5719 C             1 RES     \\n      35 S           -0.1758    -2.3327     0.2029 S             1 RES     \\n      36 C            1.0533    -0.0507     0.0799 C             1 RES     \\n      37 C           -0.1947    -0.0527    -0.7651 C             1 RES     \\n      38 C           -0.9968    -1.1927    -0.6581 C             1 RES     \\n      39 S           -1.1368     1.1203    -1.5151 S             1 RES     \\n      40 C           -2.3637    -1.0617    -0.9281 C             1 RES     \\n      41 C           -2.5647     0.2513    -1.3701 C             1 RES     \\n      42 C            6.7812    -1.5227     1.6489 C             1 RES     \\n      43 H           -8.2778     6.1683    -2.5011 H             1 RES     \\n      44 H           -5.8078     5.7613    -2.6921 H             1 RES     \\n      45 H           -8.8958     2.1903    -1.1431 H             1 RES     \\n      46 H           -9.7827     4.3693    -1.6761 H             1 RES     \\n      47 H           -4.0199     0.9685    -1.3482 H             1 RES     \\n      48 H           -3.5746     0.6702    -1.3309 H             1 RES     \\n      49 H           -3.2088    -1.7257    -0.5901 H             1 RES     \\n      50 H            2.6988     1.9273     1.1903 H             1 RES     \\n      51 H            1.2383     1.7184     1.0619 H             1 RES     \\n      52 H            4.9203     0.6693     1.6299 H             1 RES     \\n      53 H            3.0153    -3.9377     1.4799 H             1 RES     \\n      54 H            5.4318    -4.3981     0.5852 H             1 RES     \\n      55 H            6.6489    -4.7226     1.5871 H             1 RES     \\n      56 H           12.1784    -3.2580     3.1244 H             1 RES     \\n      57 H           11.2772    -0.9107     2.6489 H             1 RES     \\n@<TRIPOS>BOND\\n@<TRIPOS>SUBSTRUCTURE\\n       1 RES             1 RESIDUE    0 **** ROOT      0\\n\",\"mol2\");\n",
       "\tviewer_1623357597177248.setStyle({\"stick\": {\"radius\": 0.2, \"color\": \"grey\"}, \"sphere\": {\"scale\": 0.3, \"colorscheme\": {}}});\n",
       "\tviewer_1623357597177248.zoomTo();\n",
       "viewer_1623357597177248.render();\n",
       "});\n",
       "</script>"
      ]
     },
     "metadata": {},
     "output_type": "display_data"
    }
   ],
   "source": [
    "i =  0# try any number from 0 to 180\n",
    "print(f\"Pair #{i}:\")\n",
    "visualize_qcc_input(qcc_pairs[i][1])"
   ]
  },
  {
   "cell_type": "code",
   "execution_count": 41,
   "id": "prescription-journey",
   "metadata": {},
   "outputs": [
    {
     "name": "stdout",
     "output_type": "stream",
     "text": [
      "CPU times: user 10.5 ms, sys: 33 ms, total: 43.5 ms\n",
      "Wall time: 3.24 s\n"
     ]
    }
   ],
   "source": [
    "%%time\n",
    "dimer_data = eqcc.dimer_homolumo(qcc_pairs, \"two-molecule-test.txt\")"
   ]
  },
  {
   "cell_type": "code",
   "execution_count": 42,
   "id": "industrial-steps",
   "metadata": {},
   "outputs": [
    {
     "name": "stdout",
     "output_type": "stream",
     "text": [
      "CPU times: user 10.9 ms, sys: 33.1 ms, total: 44 ms\n",
      "Wall time: 2.28 s\n"
     ]
    }
   ],
   "source": [
    "%%time\n",
    "data = eqcc.singles_homolumo(chromo_list, \"singles.txt\")"
   ]
  },
  {
   "cell_type": "code",
   "execution_count": 43,
   "id": "dense-singapore",
   "metadata": {},
   "outputs": [
    {
     "ename": "AssertionError",
     "evalue": "",
     "output_type": "error",
     "traceback": [
      "\u001b[0;31m---------------------------------------------------------------------------\u001b[0m",
      "\u001b[0;31mAssertionError\u001b[0m                            Traceback (most recent call last)",
      "\u001b[0;32m<timed eval>\u001b[0m in \u001b[0;36m<module>\u001b[0;34m\u001b[0m\n",
      "\u001b[0;32m~/repos/morphct/morphct/execute_qcc.py\u001b[0m in \u001b[0;36mset_energyvalues\u001b[0;34m(chromo_list, s_filename, d_filename)\u001b[0m\n\u001b[1;32m    182\u001b[0m         \u001b[0mjchromo\u001b[0m\u001b[0;34m.\u001b[0m\u001b[0mneighbors_delta_e\u001b[0m\u001b[0;34m[\u001b[0m\u001b[0mjneighborind\u001b[0m\u001b[0;34m]\u001b[0m \u001b[0;34m=\u001b[0m \u001b[0;34m-\u001b[0m\u001b[0mdeltaE\u001b[0m\u001b[0;34m\u001b[0m\u001b[0;34m\u001b[0m\u001b[0m\n\u001b[1;32m    183\u001b[0m \u001b[0;34m\u001b[0m\u001b[0m\n\u001b[0;32m--> 184\u001b[0;31m         \u001b[0;32massert\u001b[0m \u001b[0michromo\u001b[0m\u001b[0;34m.\u001b[0m\u001b[0mspecies\u001b[0m \u001b[0;34m==\u001b[0m \u001b[0mjchromo\u001b[0m\u001b[0;34m.\u001b[0m\u001b[0mspecies\u001b[0m\u001b[0;34m\u001b[0m\u001b[0;34m\u001b[0m\u001b[0m\n\u001b[0m\u001b[1;32m    185\u001b[0m         \u001b[0;32mif\u001b[0m \u001b[0michromo\u001b[0m\u001b[0;34m.\u001b[0m\u001b[0mspecies\u001b[0m \u001b[0;34m==\u001b[0m \u001b[0;34m\"donor\"\u001b[0m\u001b[0;34m:\u001b[0m\u001b[0;34m\u001b[0m\u001b[0;34m\u001b[0m\u001b[0m\n\u001b[1;32m    186\u001b[0m             \u001b[0mtransint\u001b[0m \u001b[0;34m=\u001b[0m \u001b[0mti\u001b[0m\u001b[0;34m.\u001b[0m\u001b[0mcalculate_ti\u001b[0m\u001b[0;34m(\u001b[0m\u001b[0mhomo\u001b[0m \u001b[0;34m-\u001b[0m \u001b[0mhomo_1\u001b[0m\u001b[0;34m,\u001b[0m \u001b[0mdeltaE\u001b[0m\u001b[0;34m)\u001b[0m\u001b[0;34m\u001b[0m\u001b[0;34m\u001b[0m\u001b[0m\n",
      "\u001b[0;31mAssertionError\u001b[0m: "
     ]
    }
   ],
   "source": [
    "%%time\n",
    "eqcc.set_energyvalues(chromo_list, \"singles.txt\", \"two-molecule-test.txt\")"
   ]
  },
  {
   "cell_type": "code",
   "execution_count": 44,
   "id": "crude-relation",
   "metadata": {},
   "outputs": [
    {
     "name": "stdout",
     "output_type": "stream",
     "text": [
      "[Chromophore 0 (acceptor): 16 atoms at -149.215 -137.338 145.534, Chromophore 1 (donor): 26 atoms at -138.774 -140.454 148.184]\n"
     ]
    }
   ],
   "source": [
    "print(chromo_list)"
   ]
  },
  {
   "cell_type": "code",
   "execution_count": 45,
   "id": "stupid-driver",
   "metadata": {},
   "outputs": [
    {
     "name": "stdout",
     "output_type": "stream",
     "text": [
      "Chromophore 1:\n",
      "HOMO-1: -6.66 HOMO: -4.93 LUMO: -1.41 LUMO+1: -0.28\n",
      "1 neighbors\n",
      "DeltaE of first neighbor: 5.430\n"
     ]
    },
    {
     "ename": "TypeError",
     "evalue": "unsupported format string passed to NoneType.__format__",
     "output_type": "error",
     "traceback": [
      "\u001b[0;31m---------------------------------------------------------------------------\u001b[0m",
      "\u001b[0;31mTypeError\u001b[0m                                 Traceback (most recent call last)",
      "\u001b[0;32m<ipython-input-45-5d2fcd837f74>\u001b[0m in \u001b[0;36m<module>\u001b[0;34m\u001b[0m\n\u001b[1;32m      5\u001b[0m \u001b[0mprint\u001b[0m\u001b[0;34m(\u001b[0m\u001b[0;34mf\"{len(chromo.neighbors)} neighbors\"\u001b[0m\u001b[0;34m)\u001b[0m\u001b[0;34m\u001b[0m\u001b[0;34m\u001b[0m\u001b[0m\n\u001b[1;32m      6\u001b[0m \u001b[0mprint\u001b[0m\u001b[0;34m(\u001b[0m\u001b[0;34mf\"DeltaE of first neighbor: {chromo.neighbors_delta_e[0]:.3f}\"\u001b[0m\u001b[0;34m)\u001b[0m\u001b[0;34m\u001b[0m\u001b[0;34m\u001b[0m\u001b[0m\n\u001b[0;32m----> 7\u001b[0;31m \u001b[0mprint\u001b[0m\u001b[0;34m(\u001b[0m\u001b[0;34mf\"Transfer integral of first neighbor: {chromo.neighbors_ti[0]:.3f}\"\u001b[0m\u001b[0;34m)\u001b[0m\u001b[0;34m\u001b[0m\u001b[0;34m\u001b[0m\u001b[0m\n\u001b[0m",
      "\u001b[0;31mTypeError\u001b[0m: unsupported format string passed to NoneType.__format__"
     ]
    }
   ],
   "source": [
    "i = 1\n",
    "chromo = chromo_list[i]\n",
    "print(f\"Chromophore {i}:\")\n",
    "print(f\"HOMO-1: {chromo.homo_1:.2f} HOMO: {chromo.homo:.2f} LUMO: {chromo.lumo:.2f} LUMO+1: {chromo.lumo_1:.2f}\")\n",
    "print(f\"{len(chromo.neighbors)} neighbors\")\n",
    "print(f\"DeltaE of first neighbor: {chromo.neighbors_delta_e[0]:.3f}\")\n",
    "print(f\"Transfer integral of first neighbor: {chromo.neighbors_ti[0]:.3f}\")"
   ]
  },
  {
   "cell_type": "code",
   "execution_count": null,
   "id": "ceramic-conclusion",
   "metadata": {},
   "outputs": [],
   "source": []
  },
  {
   "cell_type": "code",
   "execution_count": null,
   "id": "considered-teacher",
   "metadata": {},
   "outputs": [],
   "source": []
  },
  {
   "cell_type": "code",
   "execution_count": null,
   "id": "addressed-comedy",
   "metadata": {},
   "outputs": [],
   "source": []
  }
 ],
 "metadata": {
  "kernelspec": {
   "display_name": "Python 3",
   "language": "python",
   "name": "python3"
  },
  "language_info": {
   "codemirror_mode": {
    "name": "ipython",
    "version": 3
   },
   "file_extension": ".py",
   "mimetype": "text/x-python",
   "name": "python",
   "nbconvert_exporter": "python",
   "pygments_lexer": "ipython3",
   "version": "3.7.10"
  }
 },
 "nbformat": 4,
 "nbformat_minor": 5
}

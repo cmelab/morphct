{
 "cells": [
  {
   "cell_type": "markdown",
   "id": "07ab6f62",
   "metadata": {},
   "source": [
    "# notebook for choosing chromo indeces\n",
    "\n"
   ]
  },
  {
   "cell_type": "markdown",
   "id": "b63763d6",
   "metadata": {},
   "source": [
    "First let's import necessary modules and define a couple of useful functions for visualization:"
   ]
  },
  {
   "cell_type": "code",
   "execution_count": 1,
   "id": "b6ee8558",
   "metadata": {
    "tags": []
   },
   "outputs": [],
   "source": [
    "from copy import deepcopy\n",
    "import os\n",
    "import multiprocessing as mp\n",
    "import re\n",
    "import gsd.hoomd\n",
    "import mbuild as mb\n",
    "import numpy as np\n",
    "import gsd.pygsd\n",
    "from morphct import execute_qcc as eqcc\n",
    "from morphct import mobility_kmc as kmc\n",
    "from morphct import chromophores\n",
    "from morphct import kmc_analyze\n",
    "from morphct.chromophores import conversion_dict\n",
    "from morphct.chromophores import amber_dict\n",
    "from morphct.mobility_kmc import snap_molecule_indices\n",
    "\n",
    "def visualize_qcc_input(qcc_input):\n",
    "    \"\"\"\n",
    "    Visualize a quantum chemical input string (for pyscf) using mbuild.\n",
    "    \n",
    "    Parameters\n",
    "    ----------\n",
    "    qcc_input : str\n",
    "        Input string to visualize\n",
    "    \"\"\"\n",
    "    comp = mb.Compound()\n",
    "    for line in qcc_input.split(\";\")[:-1]:\n",
    "        atom, x, y, z = line.split()\n",
    "        xyz = np.array([x,y,z], dtype=float)\n",
    "        # Angstrom -> nm\n",
    "        xyz /= 10\n",
    "        comp.add(mb.Particle(name=atom,pos=xyz))\n",
    "    comp.visualize().show()\n",
    "    \n",
    "def from_snapshot(snapshot, scale=1.0):\n",
    "    \"\"\"\n",
    "    Convert a hoomd.data.Snapshot or a gsd.hoomd.Snapshot to an\n",
    "    mbuild Compound.\n",
    "    \n",
    "    Parameters\n",
    "    ----------\n",
    "    snapshot : hoomd.data.SnapshotParticleData or gsd.hoomd.Snapshot\n",
    "        Snapshot from which to build the mbuild Compound.\n",
    "    scale : float, optional, default 1.0\n",
    "        Value by which to scale the length values\n",
    "        \n",
    "    Returns\n",
    "    -------\n",
    "    comp : mb.Compound\n",
    "    \"\"\"\n",
    "    comp = mb.Compound()\n",
    "    bond_array = snapshot.bonds.group\n",
    "    n_atoms = snapshot.particles.N\n",
    "\n",
    "    # There will be a better way to do this once box overhaul merged\n",
    "    try:\n",
    "        # gsd\n",
    "        box = snapshot.configuration.box\n",
    "        comp.box = mb.box.Box(lengths=box[:3] * scale)\n",
    "    except AttributeError:\n",
    "        # hoomd\n",
    "        box = snapshot.box\n",
    "        comp.box = mb.box.Box(lengths=np.array([box.Lx,box.Ly,box.Lz]) * scale)\n",
    "\n",
    "    # to_hoomdsnapshot shifts the coords, this will keep consistent\n",
    "    shift = np.array(comp.box.lengths)/2\n",
    "    # Add particles\n",
    "    for i in range(n_atoms):\n",
    "        name = snapshot.particles.types[snapshot.particles.typeid[i]]\n",
    "        xyz = snapshot.particles.position[i] * scale + shift\n",
    "        charge = snapshot.particles.charge[i]\n",
    "\n",
    "        atom = mb.Particle(name=name, pos=xyz, charge=charge)\n",
    "        comp.add(atom, label=str(i))\n",
    "\n",
    "    # Add bonds\n",
    "    particle_dict = {idx: p for idx, p in enumerate(comp.particles())}\n",
    "    for i in range(bond_array.shape[0]):\n",
    "        atom1 = int(bond_array[i][0])\n",
    "        atom2 = int(bond_array[i][1])\n",
    "        comp.add_bond([particle_dict[atom1], particle_dict[atom2]])\n",
    "    return comp\n",
    "\n",
    "\n",
    "\n",
    "def vmd_index_slicer(filepath):\n",
    "    with open(filepath, \"r\") as f:\n",
    "        index_ids = f.readlines()\n",
    "    numbers = []\n",
    "    \n",
    "    for line in index_ids:\n",
    "        thing = re.findall(\"\\/([0-9]+)(?=[^\\/]*$)\", line)\n",
    "        try:\n",
    "            numbers.append(int(thing[0]))\n",
    "        except:\n",
    "            pass\n",
    "        \n",
    "    indeces=[]\n",
    "    \n",
    "    for i in numbers:\n",
    "        if i not in indeces:\n",
    "            indeces.append(i)\n",
    "            \n",
    "    return(indeces)\n",
    "\n",
    "warnings.filterwarnings('ignore')\n",
    "warnings.simplefilter('ignore')"
   ]
  },
  {
   "cell_type": "code",
   "execution_count": 22,
   "id": "12aabf90",
   "metadata": {},
   "outputs": [],
   "source": [
    "gsd_file = \"/Users/jimmy/cmelab/data/ITIC/887c520f567aa40dd310a8e1e0c0d6c4/trajectory.gsd\"\n",
    "\n",
    "with gsd.hoomd.open(name=gsd_file, mode='rb') as f:\n",
    "    start_snap = f[0]\n",
    "    end_snap = f[-1]\n",
    "\n",
    "    \n",
    "\n",
    "ref_distance = 3.563594872561358\n",
    "\n",
    "start_snap.particles.position *= ref_distance\n",
    "start_snap.configuration.box[:3] *= ref_distance\n",
    "end_snap.particles.position *= ref_distance\n",
    "end_snap.configuration.box[:3] *= ref_distance\n",
    "\n",
    "box = start_snap.configuration.box[:3]\n",
    "#unwrapped_positions = start_snap.particles.position + start_snap.particles.image * box\n",
    "#unwrap_snap = deepcopy(start_snap)\n",
    "#unwrap_snap.particles.position = unwrapped_positions\n",
    "#unwrap_snap.particles.types = [amber_dict[i].symbol for i in start_snap.particles.types]\n",
    "#comp = from_snapshot(unwrap_snap, scale=0.1)\n",
    "#comp.visualize().show()\n",
    "\n"
   ]
  },
  {
   "cell_type": "code",
   "execution_count": 3,
   "id": "fe9cb710",
   "metadata": {},
   "outputs": [
    {
     "name": "stdout",
     "output_type": "stream",
     "text": [
      "[708.5166 708.5166 708.5166   0.       0.       0.    ]\n",
      "[141.70389 141.70389 141.70389   0.        0.        0.     ]\n"
     ]
    }
   ],
   "source": [
    "print(start_snap.configuration.box)\n",
    "print(end_snap.configuration.box)"
   ]
  },
  {
   "cell_type": "code",
   "execution_count": 20,
   "id": "d4c788d7",
   "metadata": {
    "tags": []
   },
   "outputs": [
    {
     "name": "stdout",
     "output_type": "stream",
     "text": [
      "[101 102 103  91  92 100  99  97  95  96  98  93  89  90  94  88  86  85\n",
      "  87  59  60  58  57  55  56  52  53  51  54  25  26  24  23  21  18  22\n",
      "  19  17  20  16  15   7   8   9   3   4   6  10  12  14  11  13   5   0\n",
      "   1   2]\n"
     ]
    }
   ],
   "source": [
    "indeces = vmd_index_slicer(\"/Users/jimmy/cmelab/data/ITIC/887c520f567aa40dd310a8e1e0c0d6c4/backbone_ids.txt\")\n",
    "gsd_mol_index = snap_molecule_indices(start_snap)\n",
    "k = np.count_nonzero(gsd_mol_index==1)\n",
    "for i in range(len(indeces)):\n",
    "    indeces[i] = indeces[i]%k\n",
    "chromo_ids = np.array(indeces)\n",
    "print(chromo_ids)"
   ]
  },
  {
   "cell_type": "markdown",
   "id": "a357f4bf",
   "metadata": {
    "tags": []
   },
   "source": [
    "below takes the ids for random molecule and retures the first molecule ids"
   ]
  },
  {
   "cell_type": "markdown",
   "id": "086be478",
   "metadata": {},
   "source": [
    "the guts for doin this live in the intramolecular notebook which i guess i didnt push???? come back to it latter"
   ]
  },
  {
   "cell_type": "code",
   "execution_count": 5,
   "id": "9fa5b16a",
   "metadata": {},
   "outputs": [],
   "source": [
    "chromo2_ids = chromo_ids + k"
   ]
  },
  {
   "cell_type": "code",
   "execution_count": 6,
   "id": "505f95bf",
   "metadata": {},
   "outputs": [],
   "source": [
    "aaids=[]"
   ]
  },
  {
   "cell_type": "code",
   "execution_count": 7,
   "id": "941faf6e",
   "metadata": {},
   "outputs": [],
   "source": [
    "chromo2_ids = chromo2_ids + k"
   ]
  },
  {
   "cell_type": "code",
   "execution_count": 8,
   "id": "2e3acedc",
   "metadata": {},
   "outputs": [],
   "source": [
    "aaids.append(chromo_ids)\n",
    "aaids.append(chromo2_ids)"
   ]
  },
  {
   "cell_type": "code",
   "execution_count": 9,
   "id": "dbce0531",
   "metadata": {},
   "outputs": [
    {
     "name": "stdout",
     "output_type": "stream",
     "text": [
      "[array([101, 102, 103,  91,  92, 100,  99,  97,  95,  96,  98,  93,  89,\n",
      "        90,  94,  88,  86,  85,  87,  59,  60,  58,  57,  55,  56,  52,\n",
      "        53,  51,  54,  25,  26,  24,  23,  21,  18,  22,  19,  17,  20,\n",
      "        16,  15,   7,   8,   9,   3,   4,   6,  10,  12,  14,  11,  13,\n",
      "         5,   0,   1,   2]), array([309, 310, 311, 299, 300, 308, 307, 305, 303, 304, 306, 301, 297,\n",
      "       298, 302, 296, 294, 293, 295, 267, 268, 266, 265, 263, 264, 260,\n",
      "       261, 259, 262, 233, 234, 232, 231, 229, 226, 230, 227, 225, 228,\n",
      "       224, 223, 215, 216, 217, 211, 212, 214, 218, 220, 222, 219, 221,\n",
      "       213, 208, 209, 210])]\n"
     ]
    }
   ],
   "source": [
    "print(aaids)"
   ]
  },
  {
   "cell_type": "code",
   "execution_count": 16,
   "id": "bee1fe76",
   "metadata": {},
   "outputs": [],
   "source": [
    "master_list = []\n",
    "sublist = chromo_ids\n",
    "for i in range(len(np.unique(gsd_mol_index))):         \n",
    "    master_list.append(sublist)\n",
    "    sublist = [x + k for x in sublist]"
   ]
  },
  {
   "cell_type": "code",
   "execution_count": 24,
   "id": "ccae02c2",
   "metadata": {},
   "outputs": [],
   "source": [
    "chromo_list = []\n",
    "for i,master_list in enumerate(master_list):\n",
    "    chromo_list.append(chromophores.Chromophore(i, start_snap, aaid, \"acceptor\", amber_dict))"
   ]
  },
  {
   "cell_type": "code",
   "execution_count": 23,
   "id": "b6799bea",
   "metadata": {
    "tags": []
   },
   "outputs": [
    {
     "ename": "AttributeError",
     "evalue": "'numpy.ndarray' object has no attribute 'center'",
     "output_type": "error",
     "traceback": [
      "\u001b[0;31m---------------------------------------------------------------------------\u001b[0m",
      "\u001b[0;31mAttributeError\u001b[0m                            Traceback (most recent call last)",
      "\u001b[0;32m<ipython-input-23-4951f9115868>\u001b[0m in \u001b[0;36m<module>\u001b[0;34m\u001b[0m\n\u001b[0;32m----> 1\u001b[0;31m \u001b[0mqcc_pairs\u001b[0m \u001b[0;34m=\u001b[0m \u001b[0mchromophores\u001b[0m\u001b[0;34m.\u001b[0m\u001b[0mset_neighbors_voronoi\u001b[0m\u001b[0;34m(\u001b[0m\u001b[0mmaster_list\u001b[0m\u001b[0;34m,\u001b[0m \u001b[0mend_snap\u001b[0m\u001b[0;34m,\u001b[0m \u001b[0mamber_dict\u001b[0m\u001b[0;34m,\u001b[0m \u001b[0md_cut\u001b[0m\u001b[0;34m=\u001b[0m\u001b[0mmin\u001b[0m\u001b[0;34m(\u001b[0m\u001b[0mbox\u001b[0m\u001b[0;34m)\u001b[0m\u001b[0;34m/\u001b[0m\u001b[0;36m2\u001b[0m\u001b[0;34m)\u001b[0m\u001b[0;34m\u001b[0m\u001b[0;34m\u001b[0m\u001b[0m\n\u001b[0m\u001b[1;32m      2\u001b[0m \u001b[0mprint\u001b[0m\u001b[0;34m(\u001b[0m\u001b[0;34mf\"There are {len(qcc_pairs)} chromophore pairs\"\u001b[0m\u001b[0;34m)\u001b[0m\u001b[0;34m\u001b[0m\u001b[0;34m\u001b[0m\u001b[0m\n",
      "\u001b[0;32m~/repos/morphct/morphct/chromophores.py\u001b[0m in \u001b[0;36mset_neighbors_voronoi\u001b[0;34m(chromo_list, snap, conversion_dict, d_cut)\u001b[0m\n\u001b[1;32m    283\u001b[0m     \u001b[0mvoronoi\u001b[0m \u001b[0;34m=\u001b[0m \u001b[0mfreud\u001b[0m\u001b[0;34m.\u001b[0m\u001b[0mlocality\u001b[0m\u001b[0;34m.\u001b[0m\u001b[0mVoronoi\u001b[0m\u001b[0;34m(\u001b[0m\u001b[0;34m)\u001b[0m\u001b[0;34m\u001b[0m\u001b[0;34m\u001b[0m\u001b[0m\n\u001b[1;32m    284\u001b[0m     \u001b[0mfreudbox\u001b[0m \u001b[0;34m=\u001b[0m \u001b[0mfreud\u001b[0m\u001b[0;34m.\u001b[0m\u001b[0mbox\u001b[0m\u001b[0;34m.\u001b[0m\u001b[0mBox\u001b[0m\u001b[0;34m(\u001b[0m\u001b[0;34m*\u001b[0m\u001b[0msnap\u001b[0m\u001b[0;34m.\u001b[0m\u001b[0mconfiguration\u001b[0m\u001b[0;34m.\u001b[0m\u001b[0mbox\u001b[0m\u001b[0;34m)\u001b[0m\u001b[0;34m\u001b[0m\u001b[0;34m\u001b[0m\u001b[0m\n\u001b[0;32m--> 285\u001b[0;31m     \u001b[0mcenters\u001b[0m \u001b[0;34m=\u001b[0m \u001b[0;34m[\u001b[0m\u001b[0mchromo\u001b[0m\u001b[0;34m.\u001b[0m\u001b[0mcenter\u001b[0m \u001b[0;32mfor\u001b[0m \u001b[0mchromo\u001b[0m \u001b[0;32min\u001b[0m \u001b[0mchromo_list\u001b[0m\u001b[0;34m]\u001b[0m\u001b[0;34m\u001b[0m\u001b[0;34m\u001b[0m\u001b[0m\n\u001b[0m\u001b[1;32m    286\u001b[0m     \u001b[0mvoronoi\u001b[0m\u001b[0;34m.\u001b[0m\u001b[0mcompute\u001b[0m\u001b[0;34m(\u001b[0m\u001b[0;34m(\u001b[0m\u001b[0mfreudbox\u001b[0m\u001b[0;34m,\u001b[0m \u001b[0mcenters\u001b[0m\u001b[0;34m)\u001b[0m\u001b[0;34m)\u001b[0m\u001b[0;34m\u001b[0m\u001b[0;34m\u001b[0m\u001b[0m\n\u001b[1;32m    287\u001b[0m \u001b[0;34m\u001b[0m\u001b[0m\n",
      "\u001b[0;32m~/repos/morphct/morphct/chromophores.py\u001b[0m in \u001b[0;36m<listcomp>\u001b[0;34m(.0)\u001b[0m\n\u001b[1;32m    283\u001b[0m     \u001b[0mvoronoi\u001b[0m \u001b[0;34m=\u001b[0m \u001b[0mfreud\u001b[0m\u001b[0;34m.\u001b[0m\u001b[0mlocality\u001b[0m\u001b[0;34m.\u001b[0m\u001b[0mVoronoi\u001b[0m\u001b[0;34m(\u001b[0m\u001b[0;34m)\u001b[0m\u001b[0;34m\u001b[0m\u001b[0;34m\u001b[0m\u001b[0m\n\u001b[1;32m    284\u001b[0m     \u001b[0mfreudbox\u001b[0m \u001b[0;34m=\u001b[0m \u001b[0mfreud\u001b[0m\u001b[0;34m.\u001b[0m\u001b[0mbox\u001b[0m\u001b[0;34m.\u001b[0m\u001b[0mBox\u001b[0m\u001b[0;34m(\u001b[0m\u001b[0;34m*\u001b[0m\u001b[0msnap\u001b[0m\u001b[0;34m.\u001b[0m\u001b[0mconfiguration\u001b[0m\u001b[0;34m.\u001b[0m\u001b[0mbox\u001b[0m\u001b[0;34m)\u001b[0m\u001b[0;34m\u001b[0m\u001b[0;34m\u001b[0m\u001b[0m\n\u001b[0;32m--> 285\u001b[0;31m     \u001b[0mcenters\u001b[0m \u001b[0;34m=\u001b[0m \u001b[0;34m[\u001b[0m\u001b[0mchromo\u001b[0m\u001b[0;34m.\u001b[0m\u001b[0mcenter\u001b[0m \u001b[0;32mfor\u001b[0m \u001b[0mchromo\u001b[0m \u001b[0;32min\u001b[0m \u001b[0mchromo_list\u001b[0m\u001b[0;34m]\u001b[0m\u001b[0;34m\u001b[0m\u001b[0;34m\u001b[0m\u001b[0m\n\u001b[0m\u001b[1;32m    286\u001b[0m     \u001b[0mvoronoi\u001b[0m\u001b[0;34m.\u001b[0m\u001b[0mcompute\u001b[0m\u001b[0;34m(\u001b[0m\u001b[0;34m(\u001b[0m\u001b[0mfreudbox\u001b[0m\u001b[0;34m,\u001b[0m \u001b[0mcenters\u001b[0m\u001b[0;34m)\u001b[0m\u001b[0;34m)\u001b[0m\u001b[0;34m\u001b[0m\u001b[0;34m\u001b[0m\u001b[0m\n\u001b[1;32m    287\u001b[0m \u001b[0;34m\u001b[0m\u001b[0m\n",
      "\u001b[0;31mAttributeError\u001b[0m: 'numpy.ndarray' object has no attribute 'center'"
     ]
    }
   ],
   "source": [
    "qcc_pairs = chromophores.set_neighbors_voronoi(chromo_list, end_snap, amber_dict, d_cut=min(box)/2)\n",
    "print(f\"There are {len(qcc_pairs)} chromophore pairs\")"
   ]
  },
  {
   "cell_type": "code",
   "execution_count": 12,
   "id": "a4298b12",
   "metadata": {
    "scrolled": true,
    "tags": []
   },
   "outputs": [
    {
     "name": "stdout",
     "output_type": "stream",
     "text": [
      "[Chromophore 0 (acceptor): 56 atoms at 139.741 287.183 -123.293, Chromophore 1 (acceptor): 56 atoms at -336.041 -57.642 307.417]\n"
     ]
    }
   ],
   "source": [
    "print(chromo_list)"
   ]
  },
  {
   "cell_type": "code",
   "execution_count": 15,
   "id": "2c8e3ab0",
   "metadata": {},
   "outputs": [
    {
     "name": "stdout",
     "output_type": "stream",
     "text": [
      "HOMO-1, HOMO, LUMO, LUMO+1\n",
      "[-7.54844769 -7.37586757 -2.51095725 -2.1531804 ]\n"
     ]
    },
    {
     "data": {
      "application/3dmoljs_load.v0": "<div id=\"3dmolviewer_1624049082435315\"  style=\"position: relative; width: 640px; height: 480px\">\n        <p id=\"3dmolwarning_1624049082435315\" style=\"background-color:#ffcccc;color:black\">You appear to be running in JupyterLab (or JavaScript failed to load for some other reason).  You need to install the 3dmol extension: <br>\n        <tt>jupyter labextension install jupyterlab_3dmol</tt></p>\n        </div>\n<script>\n\nvar loadScriptAsync = function(uri){\n  return new Promise((resolve, reject) => {\n    var tag = document.createElement('script');\n    tag.src = uri;\n    tag.async = true;\n    tag.onload = () => {\n      resolve();\n    };\n  var firstScriptTag = document.getElementsByTagName('script')[0];\n  firstScriptTag.parentNode.insertBefore(tag, firstScriptTag);\n});\n};\n\nif(typeof $3Dmolpromise === 'undefined') {\n$3Dmolpromise = null;\n  $3Dmolpromise = loadScriptAsync('https://3dmol.csb.pitt.edu/build/3Dmol.js');\n}\n\nvar viewer_1624049082435315 = null;\nvar warn = document.getElementById(\"3dmolwarning_1624049082435315\");\nif(warn) {\n    warn.parentNode.removeChild(warn);\n}\n$3Dmolpromise.then(function() {\nviewer_1624049082435315 = $3Dmol.createViewer($(\"#3dmolviewer_1624049082435315\"),{backgroundColor:\"white\"});\n\tviewer_1624049082435315.addModel(\"@<TRIPOS>MOLECULE\\nRES\\n60 0 1 0 1\\nSMALL\\nNO_CHARGES\\n@<TRIPOS>CRYSIN\\n  145.5395    15.5110    10.0294    90.0000    90.0000    90.0000  1  1\\n@<TRIPOS>ATOM\\n       1 C           78.0652     3.3036    -1.7213 C             1 RES     \\n       2 C           78.7031     4.5741    -1.6966 C             1 RES     \\n       3 C           80.1075     4.6914    -1.4889 C             1 RES     \\n       4 C           80.9383     3.5042    -1.3022 C             1 RES     \\n       5 C           80.3272     2.1438    -1.3230 C             1 RES     \\n       6 C           78.8735     2.1065    -1.4220 C             1 RES     \\n       7 N           82.7954    -2.0673    -1.0892 N             1 RES     \\n       8 C           82.0232    -1.3207    -0.6860 C             1 RES     \\n       9 C           81.0909    -0.2670    -0.1308 C             1 RES     \\n      10 C           80.0512    -0.6523     0.9762 C             1 RES     \\n      11 N           79.2778    -0.9036     1.7827 N             1 RES     \\n      12 C           81.2369     1.1758    -0.4711 C             1 RES     \\n      13 C           82.4081     2.0432     0.0678 C             1 RES     \\n      14 C           82.2750     3.5000    -0.4112 C             1 RES     \\n      15 O           83.0210     4.4763    -0.1950 O             1 RES     \\n      16 C           83.5566     1.5490     0.6843 C             1 RES     \\n      17 C           84.9194     1.0738     0.2517 C             1 RES     \\n      18 S           85.7872    -0.1360     1.2007 S             1 RES     \\n      19 C           85.5221     1.3013    -0.9923 C             1 RES     \\n      20 C           86.9119     0.8288    -1.1134 C             1 RES     \\n      21 C           87.2374    -0.0910    -0.0224 C             1 RES     \\n      22 S          -53.3021     1.8528    -1.5700 S             1 RES     \\n      23 C          -53.0306    -0.0541     0.3567 C             1 RES     \\n      24 C          -52.2641     1.0877    -0.2244 C             1 RES     \\n      25 C          -52.0785    -1.3969     0.6318 C             1 RES     \\n      26 C          -50.7973     0.5912    -0.4531 C             1 RES     \\n      27 C          -50.6338    -0.8266     0.0360 C             1 RES     \\n      28 C          -49.6112     1.4751    -0.5628 C             1 RES     \\n      29 C          -49.3538    -1.1332     0.7429 C             1 RES     \\n      30 C          -48.3557     1.0112    -0.0852 C             1 RES     \\n      31 C          -48.1656    -0.3371     0.4686 C             1 RES     \\n      32 C          -46.8808     1.6949    -0.3169 C             1 RES     \\n      33 C          -46.6504    -0.6696     0.4143 C             1 RES     \\n      34 C          -45.8940     0.4913    -0.0183 C             1 RES     \\n      35 C          -44.6620     0.1860    -0.8090 C             1 RES     \\n      36 S          -45.9918    -2.1476    -0.4069 S             1 RES     \\n      37 C          -44.6481    -1.2131    -1.2244 C             1 RES     \\n      38 S          -42.8908     0.6928    -0.4510 S             1 RES     \\n      39 C          -43.2665    -1.7673    -1.4671 C             1 RES     \\n      40 C          -42.2284    -0.9348    -0.9863 C             1 RES     \\n      41 C          -40.7274    -1.3090    -1.0056 C             1 RES     \\n      42 C          -39.6014    -1.1854    -0.1831 C             1 RES     \\n      43 C          -38.7848     0.1570     0.0671 C             1 RES     \\n      44 O          -39.2842     1.3152     0.1144 O             1 RES     \\n      45 C          -37.5576    -0.2083     0.9647 C             1 RES     \\n      46 C          -37.6651    -1.6959     1.2735 C             1 RES     \\n      47 C          -38.9852    -2.3200     0.6592 C             1 RES     \\n      48 C          -39.8298    -3.3453     1.1909 C             1 RES     \\n      49 C          -39.6062    -4.7339     0.6149 C             1 RES     \\n      50 N          -39.4476    -5.8196     0.2389 N             1 RES     \\n      51 C          -40.6964    -3.1931     2.3768 C             1 RES     \\n      52 N          -41.4019    -3.2272     3.3081 N             1 RES     \\n      53 C          -36.4632    -2.4475     1.5820 C             1 RES     \\n      54 C          -35.1564    -1.8998     1.3198 C             1 RES     \\n      55 C          -35.0033    -0.5183     0.8040 C             1 RES     \\n      56 C          -36.1821     0.3079     0.8177 C             1 RES     \\n      57 H          -46.7144     2.0552    -1.3364 H             1 RES     \\n      58 H          -46.7771     2.5298     0.3825 H             1 RES     \\n      59 H          -52.4255    -2.3052     0.1305 H             1 RES     \\n      60 H          -52.1140    -1.5931     1.7075 H             1 RES     \\n@<TRIPOS>BOND\\n@<TRIPOS>SUBSTRUCTURE\\n       1 RES             1 RESIDUE    0 **** ROOT      0\\n\",\"mol2\");\n\tviewer_1624049082435315.setStyle({\"stick\": {\"radius\": 0.2, \"color\": \"grey\"}, \"sphere\": {\"scale\": 0.3, \"colorscheme\": {}}});\n\tviewer_1624049082435315.zoomTo();\nviewer_1624049082435315.render();\n});\n</script>",
      "text/html": [
       "<div id=\"3dmolviewer_1624049082435315\"  style=\"position: relative; width: 640px; height: 480px\">\n",
       "        <p id=\"3dmolwarning_1624049082435315\" style=\"background-color:#ffcccc;color:black\">You appear to be running in JupyterLab (or JavaScript failed to load for some other reason).  You need to install the 3dmol extension: <br>\n",
       "        <tt>jupyter labextension install jupyterlab_3dmol</tt></p>\n",
       "        </div>\n",
       "<script>\n",
       "\n",
       "var loadScriptAsync = function(uri){\n",
       "  return new Promise((resolve, reject) => {\n",
       "    var tag = document.createElement('script');\n",
       "    tag.src = uri;\n",
       "    tag.async = true;\n",
       "    tag.onload = () => {\n",
       "      resolve();\n",
       "    };\n",
       "  var firstScriptTag = document.getElementsByTagName('script')[0];\n",
       "  firstScriptTag.parentNode.insertBefore(tag, firstScriptTag);\n",
       "});\n",
       "};\n",
       "\n",
       "if(typeof $3Dmolpromise === 'undefined') {\n",
       "$3Dmolpromise = null;\n",
       "  $3Dmolpromise = loadScriptAsync('https://3dmol.csb.pitt.edu/build/3Dmol.js');\n",
       "}\n",
       "\n",
       "var viewer_1624049082435315 = null;\n",
       "var warn = document.getElementById(\"3dmolwarning_1624049082435315\");\n",
       "if(warn) {\n",
       "    warn.parentNode.removeChild(warn);\n",
       "}\n",
       "$3Dmolpromise.then(function() {\n",
       "viewer_1624049082435315 = $3Dmol.createViewer($(\"#3dmolviewer_1624049082435315\"),{backgroundColor:\"white\"});\n",
       "\tviewer_1624049082435315.addModel(\"@<TRIPOS>MOLECULE\\nRES\\n60 0 1 0 1\\nSMALL\\nNO_CHARGES\\n@<TRIPOS>CRYSIN\\n  145.5395    15.5110    10.0294    90.0000    90.0000    90.0000  1  1\\n@<TRIPOS>ATOM\\n       1 C           78.0652     3.3036    -1.7213 C             1 RES     \\n       2 C           78.7031     4.5741    -1.6966 C             1 RES     \\n       3 C           80.1075     4.6914    -1.4889 C             1 RES     \\n       4 C           80.9383     3.5042    -1.3022 C             1 RES     \\n       5 C           80.3272     2.1438    -1.3230 C             1 RES     \\n       6 C           78.8735     2.1065    -1.4220 C             1 RES     \\n       7 N           82.7954    -2.0673    -1.0892 N             1 RES     \\n       8 C           82.0232    -1.3207    -0.6860 C             1 RES     \\n       9 C           81.0909    -0.2670    -0.1308 C             1 RES     \\n      10 C           80.0512    -0.6523     0.9762 C             1 RES     \\n      11 N           79.2778    -0.9036     1.7827 N             1 RES     \\n      12 C           81.2369     1.1758    -0.4711 C             1 RES     \\n      13 C           82.4081     2.0432     0.0678 C             1 RES     \\n      14 C           82.2750     3.5000    -0.4112 C             1 RES     \\n      15 O           83.0210     4.4763    -0.1950 O             1 RES     \\n      16 C           83.5566     1.5490     0.6843 C             1 RES     \\n      17 C           84.9194     1.0738     0.2517 C             1 RES     \\n      18 S           85.7872    -0.1360     1.2007 S             1 RES     \\n      19 C           85.5221     1.3013    -0.9923 C             1 RES     \\n      20 C           86.9119     0.8288    -1.1134 C             1 RES     \\n      21 C           87.2374    -0.0910    -0.0224 C             1 RES     \\n      22 S          -53.3021     1.8528    -1.5700 S             1 RES     \\n      23 C          -53.0306    -0.0541     0.3567 C             1 RES     \\n      24 C          -52.2641     1.0877    -0.2244 C             1 RES     \\n      25 C          -52.0785    -1.3969     0.6318 C             1 RES     \\n      26 C          -50.7973     0.5912    -0.4531 C             1 RES     \\n      27 C          -50.6338    -0.8266     0.0360 C             1 RES     \\n      28 C          -49.6112     1.4751    -0.5628 C             1 RES     \\n      29 C          -49.3538    -1.1332     0.7429 C             1 RES     \\n      30 C          -48.3557     1.0112    -0.0852 C             1 RES     \\n      31 C          -48.1656    -0.3371     0.4686 C             1 RES     \\n      32 C          -46.8808     1.6949    -0.3169 C             1 RES     \\n      33 C          -46.6504    -0.6696     0.4143 C             1 RES     \\n      34 C          -45.8940     0.4913    -0.0183 C             1 RES     \\n      35 C          -44.6620     0.1860    -0.8090 C             1 RES     \\n      36 S          -45.9918    -2.1476    -0.4069 S             1 RES     \\n      37 C          -44.6481    -1.2131    -1.2244 C             1 RES     \\n      38 S          -42.8908     0.6928    -0.4510 S             1 RES     \\n      39 C          -43.2665    -1.7673    -1.4671 C             1 RES     \\n      40 C          -42.2284    -0.9348    -0.9863 C             1 RES     \\n      41 C          -40.7274    -1.3090    -1.0056 C             1 RES     \\n      42 C          -39.6014    -1.1854    -0.1831 C             1 RES     \\n      43 C          -38.7848     0.1570     0.0671 C             1 RES     \\n      44 O          -39.2842     1.3152     0.1144 O             1 RES     \\n      45 C          -37.5576    -0.2083     0.9647 C             1 RES     \\n      46 C          -37.6651    -1.6959     1.2735 C             1 RES     \\n      47 C          -38.9852    -2.3200     0.6592 C             1 RES     \\n      48 C          -39.8298    -3.3453     1.1909 C             1 RES     \\n      49 C          -39.6062    -4.7339     0.6149 C             1 RES     \\n      50 N          -39.4476    -5.8196     0.2389 N             1 RES     \\n      51 C          -40.6964    -3.1931     2.3768 C             1 RES     \\n      52 N          -41.4019    -3.2272     3.3081 N             1 RES     \\n      53 C          -36.4632    -2.4475     1.5820 C             1 RES     \\n      54 C          -35.1564    -1.8998     1.3198 C             1 RES     \\n      55 C          -35.0033    -0.5183     0.8040 C             1 RES     \\n      56 C          -36.1821     0.3079     0.8177 C             1 RES     \\n      57 H          -46.7144     2.0552    -1.3364 H             1 RES     \\n      58 H          -46.7771     2.5298     0.3825 H             1 RES     \\n      59 H          -52.4255    -2.3052     0.1305 H             1 RES     \\n      60 H          -52.1140    -1.5931     1.7075 H             1 RES     \\n@<TRIPOS>BOND\\n@<TRIPOS>SUBSTRUCTURE\\n       1 RES             1 RESIDUE    0 **** ROOT      0\\n\",\"mol2\");\n",
       "\tviewer_1624049082435315.setStyle({\"stick\": {\"radius\": 0.2, \"color\": \"grey\"}, \"sphere\": {\"scale\": 0.3, \"colorscheme\": {}}});\n",
       "\tviewer_1624049082435315.zoomTo();\n",
       "viewer_1624049082435315.render();\n",
       "});\n",
       "</script>"
      ]
     },
     "metadata": {},
     "output_type": "display_data"
    }
   ],
   "source": [
    "qcc_input = eqcc.write_qcc_inp(end_snap, chromo2_ids, amber_dict)\n",
    "homolumo = eqcc.get_homolumo(qcc_input)\n",
    "print(\"HOMO-1, HOMO, LUMO, LUMO+1\")\n",
    "print(homolumo)\n",
    "visualize_qcc_input(qcc_input)"
   ]
  },
  {
   "cell_type": "code",
   "execution_count": 13,
   "id": "24069b5e",
   "metadata": {},
   "outputs": [
    {
     "name": "stdout",
     "output_type": "stream",
     "text": [
      "Pair #0:\n"
     ]
    },
    {
     "data": {
      "application/3dmoljs_load.v0": "<div id=\"3dmolviewer_1624042913740351\"  style=\"position: relative; width: 640px; height: 480px\">\n        <p id=\"3dmolwarning_1624042913740351\" style=\"background-color:#ffcccc;color:black\">You appear to be running in JupyterLab (or JavaScript failed to load for some other reason).  You need to install the 3dmol extension: <br>\n        <tt>jupyter labextension install jupyterlab_3dmol</tt></p>\n        </div>\n<script>\n\nvar loadScriptAsync = function(uri){\n  return new Promise((resolve, reject) => {\n    var tag = document.createElement('script');\n    tag.src = uri;\n    tag.async = true;\n    tag.onload = () => {\n      resolve();\n    };\n  var firstScriptTag = document.getElementsByTagName('script')[0];\n  firstScriptTag.parentNode.insertBefore(tag, firstScriptTag);\n});\n};\n\nif(typeof $3Dmolpromise === 'undefined') {\n$3Dmolpromise = null;\n  $3Dmolpromise = loadScriptAsync('https://3dmol.csb.pitt.edu/build/3Dmol.js');\n}\n\nvar viewer_1624042913740351 = null;\nvar warn = document.getElementById(\"3dmolwarning_1624042913740351\");\nif(warn) {\n    warn.parentNode.removeChild(warn);\n}\n$3Dmolpromise.then(function() {\nviewer_1624042913740351 = $3Dmol.createViewer($(\"#3dmolviewer_1624042913740351\"),{backgroundColor:\"white\"});\n\tviewer_1624042913740351.addModel(\"@<TRIPOS>MOLECULE\\nRES\\n122 0 1 0 1\\nSMALL\\nNO_CHARGES\\n@<TRIPOS>CRYSIN\\n   54.6551    54.9025    73.4500    90.0000    90.0000    90.0000  1  1\\n@<TRIPOS>ATOM\\n       1 C           20.5101   -19.9829    33.2248 C             1 RES     \\n       2 C           20.2270   -20.0439    33.5176 C             1 RES     \\n       3 C           20.1780   -20.4164    33.6720 C             1 RES     \\n       4 C           20.7853   -20.2589    33.1406 C             1 RES     \\n       5 C           20.7706   -20.6188    33.3515 C             1 RES     \\n       6 C           20.4778   -20.6879    33.6532 C             1 RES     \\n       7 C           20.5084   -21.1185    33.7682 C             1 RES     \\n       8 O           20.4237   -21.2254    34.0787 O             1 RES     \\n       9 C           20.8501   -21.2711    33.5358 C             1 RES     \\n      10 C           21.0231   -20.9703    33.2882 C             1 RES     \\n      11 C           21.3647   -20.9673    33.0632 C             1 RES     \\n      12 N           21.3091   -20.9439    32.3085 N             1 RES     \\n      13 C           21.3295   -20.9677    32.6371 C             1 RES     \\n      14 N           22.0102   -21.2296    33.3674 N             1 RES     \\n      15 C           21.7290   -21.1068    33.2290 C             1 RES     \\n      16 C           21.0226   -21.6186    33.6212 C             1 RES     \\n      17 C           21.2054   -21.9043    33.3780 C             1 RES     \\n      18 S           21.6836   -22.0899    33.4548 S             1 RES     \\n      19 C           21.0078   -22.1516    33.1191 C             1 RES     \\n      20 C           21.2187   -22.4804    32.9916 C             1 RES     \\n      21 C           21.6176   -22.4543    33.0995 C             1 RES     \\n      22 S           21.1875   -22.6692    32.5223 S             1 RES     \\n      23 C           21.8976   -22.5817    32.8161 C             1 RES     \\n      24 C           21.7040   -22.6975    32.4631 C             1 RES     \\n      25 C           21.9085   -23.0431    32.3261 C             1 RES     \\n      26 C           22.2271   -23.1547    32.5754 C             1 RES     \\n      27 C           22.2543   -22.8487    32.9179 C             1 RES     \\n      28 C           22.5201   -23.4093    32.4581 C             1 RES     \\n      29 C           21.9365   -23.1480    31.9385 C             1 RES     \\n      30 C           22.2318   -23.3980    31.7960 C             1 RES     \\n      31 C           22.5270   -23.5378    32.0643 C             1 RES     \\n      32 C           22.8798   -23.6613    31.8329 C             1 RES     \\n      33 C           22.4168   -23.3765    31.3716 C             1 RES     \\n      34 C           22.8315   -23.5496    31.4381 C             1 RES     \\n      35 C           23.0252   -23.8390    31.1779 C             1 RES     \\n      36 S           23.0799   -24.1335    31.8545 S             1 RES     \\n      37 C           23.1655   -24.1615    31.3574 C             1 RES     \\n      38 C           23.5470   -24.2841    31.2247 C             1 RES     \\n      39 S           23.3333   -23.6840    30.8133 S             1 RES     \\n      40 C           23.7014   -24.0420    30.9354 C             1 RES     \\n      41 C           24.0562   -24.0983    30.7242 C             1 RES     \\n      42 C           24.1565   -24.0436    30.3473 C             1 RES     \\n      43 C           24.1714   -24.3657    30.0420 C             1 RES     \\n      44 O           24.1111   -24.6995    30.1061 O             1 RES     \\n      45 C           24.3825   -24.1996    29.7021 C             1 RES     \\n      46 C           24.5038   -24.0564    29.0393 C             1 RES     \\n      47 C           24.5880   -23.6578    29.1262 C             1 RES     \\n      48 C           24.6049   -23.5407    29.5077 C             1 RES     \\n      49 C           24.5061   -23.8160    29.8043 C             1 RES     \\n      50 C           24.3702   -23.7037    30.1993 C             1 RES     \\n      51 C           24.5136   -23.4150    30.4452 C             1 RES     \\n      52 C           24.2533   -23.0790    30.5052 C             1 RES     \\n      53 N           24.0526   -22.8200    30.5284 N             1 RES     \\n      54 C           24.9030   -23.4184    30.6205 C             1 RES     \\n      55 N           25.1841   -23.4448    30.7840 N             1 RES     \\n      56 C          -20.7630    23.0449   -31.2327 C             1 RES     \\n      57 C          -20.6654    23.4311   -31.1914 C             1 RES     \\n      58 C          -20.9418    23.6991   -31.0260 C             1 RES     \\n      59 C          -21.1475    22.9270   -31.1610 C             1 RES     \\n      60 C          -21.4469    23.2027   -31.0881 C             1 RES     \\n      61 C          -21.3323    23.6011   -31.0158 C             1 RES     \\n      62 C          -21.6354    23.7878   -30.7393 C             1 RES     \\n      63 O          -21.6635    24.1314   -30.6793 O             1 RES     \\n      64 C          -21.9199    23.4664   -30.6568 C             1 RES     \\n      65 C          -21.8109    23.1097   -30.8742 C             1 RES     \\n      66 C          -22.0056    22.7519   -30.8768 C             1 RES     \\n      67 N          -22.3040    22.4498   -30.2607 N             1 RES     \\n      68 C          -22.1733    22.5880   -30.5274 C             1 RES     \\n      69 N          -22.0943    22.3857   -31.5243 N             1 RES     \\n      70 C          -22.0608    22.5403   -31.2434 C             1 RES     \\n      71 C          -22.1867    23.4850   -30.3585 C             1 RES     \\n      72 C          -22.6010    23.5489   -30.3201 C             1 RES     \\n      73 S          -22.8024    24.0142   -30.4570 S             1 RES     \\n      74 C          -22.9064    23.2947   -30.2588 C             1 RES     \\n      75 C          -23.2822    23.4500   -30.3304 C             1 RES     \\n      76 C          -23.2697    23.8271   -30.4767 C             1 RES     \\n      77 S          -23.6206    23.1651   -30.5972 S             1 RES     \\n      78 C          -23.5525    23.9037   -30.7848 C             1 RES     \\n      79 C          -23.7930    23.5721   -30.8461 C             1 RES     \\n      80 C          -23.8949    23.5286   -31.2682 C             1 RES     \\n      81 C          -23.7123    23.8285   -31.4851 C             1 RES     \\n      82 C          -23.4364    24.0765   -31.1876 C             1 RES     \\n      83 C          -23.6402    23.7897   -31.8893 C             1 RES     \\n      84 C          -23.9926    23.1766   -31.4573 C             1 RES     \\n      85 C          -23.8433    23.1088   -31.8397 C             1 RES     \\n      86 C          -23.6881    23.4333   -32.0744 C             1 RES     \\n      87 C          -23.4138    23.2494   -32.3547 C             1 RES     \\n      88 C          -23.6541    22.7123   -31.9574 C             1 RES     \\n      89 C          -23.3799    22.8528   -32.2773 C             1 RES     \\n      90 C          -22.9993    22.7029   -32.3236 C             1 RES     \\n      91 S          -22.9539    23.4392   -32.5297 S             1 RES     \\n      92 C          -22.7397    22.9889   -32.4713 C             1 RES     \\n      93 C          -22.4834    22.8223   -32.7753 C             1 RES     \\n      94 S          -22.8960    22.2555   -32.5580 S             1 RES     \\n      95 C          -22.5017    22.4258   -32.8292 C             1 RES     \\n      96 C          -22.1990    22.1941   -32.9764 C             1 RES     \\n      97 C          -22.1745    21.8665   -33.1875 C             1 RES     \\n      98 C          -22.2843    21.8240   -33.6140 C             1 RES     \\n      99 O          -22.2227    22.0568   -33.8627 O             1 RES     \\n     100 C          -22.2339    21.3829   -33.6876 C             1 RES     \\n     101 C          -22.5507    20.7743   -33.9042 C             1 RES     \\n     102 C          -22.4084    20.5960   -33.5646 C             1 RES     \\n     103 C          -22.1849    20.8027   -33.2918 C             1 RES     \\n     104 C          -22.1287    21.2015   -33.3404 C             1 RES     \\n     105 C          -22.0582    21.4836   -33.0205 C             1 RES     \\n     106 C          -21.7519    21.4476   -32.7507 C             1 RES     \\n     107 C          -21.7784    21.6013   -32.3653 C             1 RES     \\n     108 N          -21.8115    21.7349   -32.0688 N             1 RES     \\n     109 C          -21.3674    21.3552   -32.9108 C             1 RES     \\n     110 N          -21.0687    21.3095   -33.0352 N             1 RES     \\n     111 H           23.2370   -22.3681    32.9091 H             1 RES     \\n     112 H           22.1485   -23.3004    33.9086 H             1 RES     \\n     113 H           22.5282   -22.3394    31.0417 H             1 RES     \\n     114 H           21.8453   -24.0057    30.6829 H             1 RES     \\n     115 H           24.4603   -24.5728    28.6767 H             1 RES     \\n     116 H           24.2580   -24.7822    29.8201 H             1 RES     \\n     117 H          -22.3751    23.9458   -31.4188 H             1 RES     \\n     118 H          -23.7609    25.1203   -31.2327 H             1 RES     \\n     119 H          -23.1428    22.1993   -31.1375 H             1 RES     \\n     120 H          -24.4709    22.0940   -32.3411 H             1 RES     \\n     121 H          -22.8992    20.8474   -34.3713 H             1 RES     \\n     122 H          -22.3807    21.8489   -34.0185 H             1 RES     \\n@<TRIPOS>BOND\\n@<TRIPOS>SUBSTRUCTURE\\n       1 RES             1 RESIDUE    0 **** ROOT      0\\n\",\"mol2\");\n\tviewer_1624042913740351.setStyle({\"stick\": {\"radius\": 0.2, \"color\": \"grey\"}, \"sphere\": {\"scale\": 0.3, \"colorscheme\": {}}});\n\tviewer_1624042913740351.zoomTo();\nviewer_1624042913740351.render();\n});\n</script>",
      "text/html": [
       "<div id=\"3dmolviewer_1624042913740351\"  style=\"position: relative; width: 640px; height: 480px\">\n",
       "        <p id=\"3dmolwarning_1624042913740351\" style=\"background-color:#ffcccc;color:black\">You appear to be running in JupyterLab (or JavaScript failed to load for some other reason).  You need to install the 3dmol extension: <br>\n",
       "        <tt>jupyter labextension install jupyterlab_3dmol</tt></p>\n",
       "        </div>\n",
       "<script>\n",
       "\n",
       "var loadScriptAsync = function(uri){\n",
       "  return new Promise((resolve, reject) => {\n",
       "    var tag = document.createElement('script');\n",
       "    tag.src = uri;\n",
       "    tag.async = true;\n",
       "    tag.onload = () => {\n",
       "      resolve();\n",
       "    };\n",
       "  var firstScriptTag = document.getElementsByTagName('script')[0];\n",
       "  firstScriptTag.parentNode.insertBefore(tag, firstScriptTag);\n",
       "});\n",
       "};\n",
       "\n",
       "if(typeof $3Dmolpromise === 'undefined') {\n",
       "$3Dmolpromise = null;\n",
       "  $3Dmolpromise = loadScriptAsync('https://3dmol.csb.pitt.edu/build/3Dmol.js');\n",
       "}\n",
       "\n",
       "var viewer_1624042913740351 = null;\n",
       "var warn = document.getElementById(\"3dmolwarning_1624042913740351\");\n",
       "if(warn) {\n",
       "    warn.parentNode.removeChild(warn);\n",
       "}\n",
       "$3Dmolpromise.then(function() {\n",
       "viewer_1624042913740351 = $3Dmol.createViewer($(\"#3dmolviewer_1624042913740351\"),{backgroundColor:\"white\"});\n",
       "\tviewer_1624042913740351.addModel(\"@<TRIPOS>MOLECULE\\nRES\\n122 0 1 0 1\\nSMALL\\nNO_CHARGES\\n@<TRIPOS>CRYSIN\\n   54.6551    54.9025    73.4500    90.0000    90.0000    90.0000  1  1\\n@<TRIPOS>ATOM\\n       1 C           20.5101   -19.9829    33.2248 C             1 RES     \\n       2 C           20.2270   -20.0439    33.5176 C             1 RES     \\n       3 C           20.1780   -20.4164    33.6720 C             1 RES     \\n       4 C           20.7853   -20.2589    33.1406 C             1 RES     \\n       5 C           20.7706   -20.6188    33.3515 C             1 RES     \\n       6 C           20.4778   -20.6879    33.6532 C             1 RES     \\n       7 C           20.5084   -21.1185    33.7682 C             1 RES     \\n       8 O           20.4237   -21.2254    34.0787 O             1 RES     \\n       9 C           20.8501   -21.2711    33.5358 C             1 RES     \\n      10 C           21.0231   -20.9703    33.2882 C             1 RES     \\n      11 C           21.3647   -20.9673    33.0632 C             1 RES     \\n      12 N           21.3091   -20.9439    32.3085 N             1 RES     \\n      13 C           21.3295   -20.9677    32.6371 C             1 RES     \\n      14 N           22.0102   -21.2296    33.3674 N             1 RES     \\n      15 C           21.7290   -21.1068    33.2290 C             1 RES     \\n      16 C           21.0226   -21.6186    33.6212 C             1 RES     \\n      17 C           21.2054   -21.9043    33.3780 C             1 RES     \\n      18 S           21.6836   -22.0899    33.4548 S             1 RES     \\n      19 C           21.0078   -22.1516    33.1191 C             1 RES     \\n      20 C           21.2187   -22.4804    32.9916 C             1 RES     \\n      21 C           21.6176   -22.4543    33.0995 C             1 RES     \\n      22 S           21.1875   -22.6692    32.5223 S             1 RES     \\n      23 C           21.8976   -22.5817    32.8161 C             1 RES     \\n      24 C           21.7040   -22.6975    32.4631 C             1 RES     \\n      25 C           21.9085   -23.0431    32.3261 C             1 RES     \\n      26 C           22.2271   -23.1547    32.5754 C             1 RES     \\n      27 C           22.2543   -22.8487    32.9179 C             1 RES     \\n      28 C           22.5201   -23.4093    32.4581 C             1 RES     \\n      29 C           21.9365   -23.1480    31.9385 C             1 RES     \\n      30 C           22.2318   -23.3980    31.7960 C             1 RES     \\n      31 C           22.5270   -23.5378    32.0643 C             1 RES     \\n      32 C           22.8798   -23.6613    31.8329 C             1 RES     \\n      33 C           22.4168   -23.3765    31.3716 C             1 RES     \\n      34 C           22.8315   -23.5496    31.4381 C             1 RES     \\n      35 C           23.0252   -23.8390    31.1779 C             1 RES     \\n      36 S           23.0799   -24.1335    31.8545 S             1 RES     \\n      37 C           23.1655   -24.1615    31.3574 C             1 RES     \\n      38 C           23.5470   -24.2841    31.2247 C             1 RES     \\n      39 S           23.3333   -23.6840    30.8133 S             1 RES     \\n      40 C           23.7014   -24.0420    30.9354 C             1 RES     \\n      41 C           24.0562   -24.0983    30.7242 C             1 RES     \\n      42 C           24.1565   -24.0436    30.3473 C             1 RES     \\n      43 C           24.1714   -24.3657    30.0420 C             1 RES     \\n      44 O           24.1111   -24.6995    30.1061 O             1 RES     \\n      45 C           24.3825   -24.1996    29.7021 C             1 RES     \\n      46 C           24.5038   -24.0564    29.0393 C             1 RES     \\n      47 C           24.5880   -23.6578    29.1262 C             1 RES     \\n      48 C           24.6049   -23.5407    29.5077 C             1 RES     \\n      49 C           24.5061   -23.8160    29.8043 C             1 RES     \\n      50 C           24.3702   -23.7037    30.1993 C             1 RES     \\n      51 C           24.5136   -23.4150    30.4452 C             1 RES     \\n      52 C           24.2533   -23.0790    30.5052 C             1 RES     \\n      53 N           24.0526   -22.8200    30.5284 N             1 RES     \\n      54 C           24.9030   -23.4184    30.6205 C             1 RES     \\n      55 N           25.1841   -23.4448    30.7840 N             1 RES     \\n      56 C          -20.7630    23.0449   -31.2327 C             1 RES     \\n      57 C          -20.6654    23.4311   -31.1914 C             1 RES     \\n      58 C          -20.9418    23.6991   -31.0260 C             1 RES     \\n      59 C          -21.1475    22.9270   -31.1610 C             1 RES     \\n      60 C          -21.4469    23.2027   -31.0881 C             1 RES     \\n      61 C          -21.3323    23.6011   -31.0158 C             1 RES     \\n      62 C          -21.6354    23.7878   -30.7393 C             1 RES     \\n      63 O          -21.6635    24.1314   -30.6793 O             1 RES     \\n      64 C          -21.9199    23.4664   -30.6568 C             1 RES     \\n      65 C          -21.8109    23.1097   -30.8742 C             1 RES     \\n      66 C          -22.0056    22.7519   -30.8768 C             1 RES     \\n      67 N          -22.3040    22.4498   -30.2607 N             1 RES     \\n      68 C          -22.1733    22.5880   -30.5274 C             1 RES     \\n      69 N          -22.0943    22.3857   -31.5243 N             1 RES     \\n      70 C          -22.0608    22.5403   -31.2434 C             1 RES     \\n      71 C          -22.1867    23.4850   -30.3585 C             1 RES     \\n      72 C          -22.6010    23.5489   -30.3201 C             1 RES     \\n      73 S          -22.8024    24.0142   -30.4570 S             1 RES     \\n      74 C          -22.9064    23.2947   -30.2588 C             1 RES     \\n      75 C          -23.2822    23.4500   -30.3304 C             1 RES     \\n      76 C          -23.2697    23.8271   -30.4767 C             1 RES     \\n      77 S          -23.6206    23.1651   -30.5972 S             1 RES     \\n      78 C          -23.5525    23.9037   -30.7848 C             1 RES     \\n      79 C          -23.7930    23.5721   -30.8461 C             1 RES     \\n      80 C          -23.8949    23.5286   -31.2682 C             1 RES     \\n      81 C          -23.7123    23.8285   -31.4851 C             1 RES     \\n      82 C          -23.4364    24.0765   -31.1876 C             1 RES     \\n      83 C          -23.6402    23.7897   -31.8893 C             1 RES     \\n      84 C          -23.9926    23.1766   -31.4573 C             1 RES     \\n      85 C          -23.8433    23.1088   -31.8397 C             1 RES     \\n      86 C          -23.6881    23.4333   -32.0744 C             1 RES     \\n      87 C          -23.4138    23.2494   -32.3547 C             1 RES     \\n      88 C          -23.6541    22.7123   -31.9574 C             1 RES     \\n      89 C          -23.3799    22.8528   -32.2773 C             1 RES     \\n      90 C          -22.9993    22.7029   -32.3236 C             1 RES     \\n      91 S          -22.9539    23.4392   -32.5297 S             1 RES     \\n      92 C          -22.7397    22.9889   -32.4713 C             1 RES     \\n      93 C          -22.4834    22.8223   -32.7753 C             1 RES     \\n      94 S          -22.8960    22.2555   -32.5580 S             1 RES     \\n      95 C          -22.5017    22.4258   -32.8292 C             1 RES     \\n      96 C          -22.1990    22.1941   -32.9764 C             1 RES     \\n      97 C          -22.1745    21.8665   -33.1875 C             1 RES     \\n      98 C          -22.2843    21.8240   -33.6140 C             1 RES     \\n      99 O          -22.2227    22.0568   -33.8627 O             1 RES     \\n     100 C          -22.2339    21.3829   -33.6876 C             1 RES     \\n     101 C          -22.5507    20.7743   -33.9042 C             1 RES     \\n     102 C          -22.4084    20.5960   -33.5646 C             1 RES     \\n     103 C          -22.1849    20.8027   -33.2918 C             1 RES     \\n     104 C          -22.1287    21.2015   -33.3404 C             1 RES     \\n     105 C          -22.0582    21.4836   -33.0205 C             1 RES     \\n     106 C          -21.7519    21.4476   -32.7507 C             1 RES     \\n     107 C          -21.7784    21.6013   -32.3653 C             1 RES     \\n     108 N          -21.8115    21.7349   -32.0688 N             1 RES     \\n     109 C          -21.3674    21.3552   -32.9108 C             1 RES     \\n     110 N          -21.0687    21.3095   -33.0352 N             1 RES     \\n     111 H           23.2370   -22.3681    32.9091 H             1 RES     \\n     112 H           22.1485   -23.3004    33.9086 H             1 RES     \\n     113 H           22.5282   -22.3394    31.0417 H             1 RES     \\n     114 H           21.8453   -24.0057    30.6829 H             1 RES     \\n     115 H           24.4603   -24.5728    28.6767 H             1 RES     \\n     116 H           24.2580   -24.7822    29.8201 H             1 RES     \\n     117 H          -22.3751    23.9458   -31.4188 H             1 RES     \\n     118 H          -23.7609    25.1203   -31.2327 H             1 RES     \\n     119 H          -23.1428    22.1993   -31.1375 H             1 RES     \\n     120 H          -24.4709    22.0940   -32.3411 H             1 RES     \\n     121 H          -22.8992    20.8474   -34.3713 H             1 RES     \\n     122 H          -22.3807    21.8489   -34.0185 H             1 RES     \\n@<TRIPOS>BOND\\n@<TRIPOS>SUBSTRUCTURE\\n       1 RES             1 RESIDUE    0 **** ROOT      0\\n\",\"mol2\");\n",
       "\tviewer_1624042913740351.setStyle({\"stick\": {\"radius\": 0.2, \"color\": \"grey\"}, \"sphere\": {\"scale\": 0.3, \"colorscheme\": {}}});\n",
       "\tviewer_1624042913740351.zoomTo();\n",
       "viewer_1624042913740351.render();\n",
       "});\n",
       "</script>"
      ]
     },
     "metadata": {},
     "output_type": "display_data"
    }
   ],
   "source": [
    "i =  0# try any number from 0 to 180\n",
    "print(f\"Pair #{i}:\")\n",
    "visualize_qcc_input(qcc_pairs[i][1])"
   ]
  },
  {
   "cell_type": "code",
   "execution_count": null,
   "id": "6acb79fe",
   "metadata": {},
   "outputs": [],
   "source": [
    "%%time\n",
    "dimer_data = eqcc.dimer_homolumo(qcc_pairs, \"two-molecule-test.txt\")"
   ]
  },
  {
   "cell_type": "code",
   "execution_count": null,
   "id": "aabf367d",
   "metadata": {},
   "outputs": [],
   "source": [
    "%%time\n",
    "data = eqcc.singles_homolumo(chromo_list, \"singles.txt\")"
   ]
  },
  {
   "cell_type": "code",
   "execution_count": null,
   "id": "054c173b",
   "metadata": {},
   "outputs": [],
   "source": [
    "%%time\n",
    "eqcc.set_energyvalues(chromo_list, \"singles.txt\", \"two-molecule-test.txt\")"
   ]
  },
  {
   "cell_type": "code",
   "execution_count": null,
   "id": "b12f2b24",
   "metadata": {},
   "outputs": [],
   "source": [
    "print(chromo_list)"
   ]
  },
  {
   "cell_type": "code",
   "execution_count": null,
   "id": "d6970921",
   "metadata": {},
   "outputs": [],
   "source": [
    "i = 0\n",
    "chromo = chromo_list[i]\n",
    "print(f\"Chromophore {i}:\")\n",
    "print(f\"HOMO-1: {chromo.homo_1:.2f} HOMO: {chromo.homo:.2f} LUMO: {chromo.lumo:.2f} LUMO+1: {chromo.lumo_1:.2f}\")\n",
    "print(f\"{len(chromo.neighbors)} neighbors\")\n",
    "print(f\"DeltaE of first neighbor: {chromo.neighbors_delta_e[0]:.3f}\")\n",
    "print(f\"Transfer integral of first neighbor: {chromo.neighbors_ti[0]:.3f}\")"
   ]
  },
  {
   "cell_type": "code",
   "execution_count": null,
   "id": "7cad82f0",
   "metadata": {},
   "outputs": [],
   "source": []
  },
  {
   "cell_type": "code",
   "execution_count": null,
   "id": "86f1d2fd",
   "metadata": {},
   "outputs": [],
   "source": []
  }
 ],
 "metadata": {
  "kernelspec": {
   "display_name": "Python 3",
   "language": "python",
   "name": "python3"
  },
  "language_info": {
   "codemirror_mode": {
    "name": "ipython",
    "version": 3
   },
   "file_extension": ".py",
   "mimetype": "text/x-python",
   "name": "python",
   "nbconvert_exporter": "python",
   "pygments_lexer": "ipython3",
   "version": "3.7.10"
  }
 },
 "nbformat": 4,
 "nbformat_minor": 5
}

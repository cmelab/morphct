{
 "cells": [
  {
   "cell_type": "markdown",
   "id": "ebf2caa5",
   "metadata": {},
   "source": [
    "# MorphCT Example Workflow\n",
    "\n",
    "1. Start with an atomistic snapshot\n",
    "2. Determine which atom indices belong to which chromophore using [SMARTS](https://www.daylight.com/dayhtml/doc/theory/theory.smarts.html) matching\n",
    "3. Calculate the energies for each chromophore and chromophore pair using quantum chemical calculations (QCC)\n",
    "4. Run the kinetic monte carlo (KMC) algorithm to calculate charge mobility"
   ]
  },
  {
   "cell_type": "markdown",
   "id": "9300208c",
   "metadata": {},
   "source": [
    "First let's import necessary modules and define a couple of useful functions for visualization:"
   ]
  },
  {
   "cell_type": "code",
   "execution_count": 1,
   "id": "58d04790",
   "metadata": {
    "tags": []
   },
   "outputs": [],
   "source": [
    "from copy import deepcopy\n",
    "import os\n",
    "import multiprocessing as mp\n",
    "\n",
    "import gsd.hoomd\n",
    "import mbuild as mb\n",
    "import numpy as np\n",
    "import gsd.pygsd\n",
    "from morphct import execute_qcc as eqcc\n",
    "from morphct import mobility_kmc as kmc\n",
    "from morphct import chromophores\n",
    "from morphct import kmc_analyze\n",
    "from morphct.chromophores import conversion_dict\n",
    "from morphct.chromophores import amber_dict\n",
    "\n",
    "def visualize_qcc_input(qcc_input):\n",
    "    \"\"\"\n",
    "    Visualize a quantum chemical input string (for pyscf) using mbuild.\n",
    "    \n",
    "    Parameters\n",
    "    ----------\n",
    "    qcc_input : str\n",
    "        Input string to visualize\n",
    "    \"\"\"\n",
    "    comp = mb.Compound()\n",
    "    for line in qcc_input.split(\";\")[:-1]:\n",
    "        atom, x, y, z = line.split()\n",
    "        xyz = np.array([x,y,z], dtype=float)\n",
    "        # Angstrom -> nm\n",
    "        xyz /= 10\n",
    "        comp.add(mb.Particle(name=atom,pos=xyz))\n",
    "    comp.visualize().show()\n",
    "    \n",
    "def from_snapshot(snapshot, scale=1.0):\n",
    "    \"\"\"\n",
    "    Convert a hoomd.data.Snapshot or a gsd.hoomd.Snapshot to an\n",
    "    mbuild Compound.\n",
    "    \n",
    "    Parameters\n",
    "    ----------\n",
    "    snapshot : hoomd.data.SnapshotParticleData or gsd.hoomd.Snapshot\n",
    "        Snapshot from which to build the mbuild Compound.\n",
    "    scale : float, optional, default 1.0\n",
    "        Value by which to scale the length values\n",
    "        \n",
    "    Returns\n",
    "    -------\n",
    "    comp : mb.Compound\n",
    "    \"\"\"\n",
    "    comp = mb.Compound()\n",
    "    bond_array = snapshot.bonds.group\n",
    "    n_atoms = snapshot.particles.N\n",
    "\n",
    "    # There will be a better way to do this once box overhaul merged\n",
    "    try:\n",
    "        # gsd\n",
    "        box = snapshot.configuration.box\n",
    "        comp.box = mb.box.Box(lengths=box[:3] * scale)\n",
    "    except AttributeError:\n",
    "        # hoomd\n",
    "        box = snapshot.box\n",
    "        comp.box = mb.box.Box(lengths=np.array([box.Lx,box.Ly,box.Lz]) * scale)\n",
    "\n",
    "    # to_hoomdsnapshot shifts the coords, this will keep consistent\n",
    "    shift = np.array(comp.box.lengths)/2\n",
    "    # Add particles\n",
    "    for i in range(n_atoms):\n",
    "        name = snapshot.particles.types[snapshot.particles.typeid[i]]\n",
    "        xyz = snapshot.particles.position[i] * scale + shift\n",
    "        charge = snapshot.particles.charge[i]\n",
    "\n",
    "        atom = mb.Particle(name=name, pos=xyz, charge=charge)\n",
    "        comp.add(atom, label=str(i))\n",
    "\n",
    "    # Add bonds\n",
    "    particle_dict = {idx: p for idx, p in enumerate(comp.particles())}\n",
    "    for i in range(bond_array.shape[0]):\n",
    "        atom1 = int(bond_array[i][0])\n",
    "        atom2 = int(bond_array[i][1])\n",
    "        comp.add_bond([particle_dict[atom1], particle_dict[atom2]])\n",
    "    return comp\n",
    "warnings.filterwarnings('ignore')\n",
    "warnings.simplefilter('ignore')"
   ]
  },
  {
   "cell_type": "code",
   "execution_count": 2,
   "id": "d682302f",
   "metadata": {},
   "outputs": [],
   "source": [
    "gsd_file = \"/Users/jimmy/cmelab/data/ITIC/887c520f567aa40dd310a8e1e0c0d6c4/trajectory.gsd\"\n",
    "\n",
    "with gsd.hoomd.open(name=gsd_file, mode='rb') as f:\n",
    "    start_snap = f[0]\n",
    "    end_snap = f[-1]\n",
    "\n",
    "    \n",
    "\n",
    "ref_distance = .3563594872561358\n",
    "\n",
    "start_snap.particles.position *= ref_distance\n",
    "start_snap.configuration.box[:3] *= ref_distance\n",
    "end_snap.particles.position *= ref_distance\n",
    "end_snap.configuration.box[:3] *= ref_distance\n",
    "\n",
    "#box = start_snap.configuration.box[:3]\n",
    "#unwrapped_positions = start_snap.particles.position + start_snap.particles.image * box\n",
    "#unwrap_snap = deepcopy(start_snap)\n",
    "#unwrap_snap.particles.position = unwrapped_positions\n",
    "#unwrap_snap.particles.types = [amber_dict[i].symbol for i in start_snap.particles.types]\n",
    "#comp = from_snapshot(unwrap_snap, scale=0.1)\n",
    "#comp.visualize().show()\n",
    "\n"
   ]
  },
  {
   "cell_type": "code",
   "execution_count": 3,
   "id": "ae0ffc1b",
   "metadata": {},
   "outputs": [
    {
     "name": "stdout",
     "output_type": "stream",
     "text": [
      "[70.85166 70.85166 70.85166  0.       0.       0.     ]\n",
      "[14.170388 14.170388 14.170388  0.        0.        0.      ]\n"
     ]
    }
   ],
   "source": [
    "print(start_snap.configuration.box)\n",
    "print(end_snap.configuration.box)"
   ]
  },
  {
   "cell_type": "markdown",
   "id": "91957f9f",
   "metadata": {},
   "source": [
    "below i have chromo ids. im goin to have it tell me how many atoms per molecule and\n",
    "take the numbers mudulo that number. this should give the ids for the first molecule"
   ]
  },
  {
   "cell_type": "code",
   "execution_count": 4,
   "id": "dacf3eb8",
   "metadata": {
    "tags": []
   },
   "outputs": [],
   "source": [
    "chromo_ids = np.array([69570,69568,69568,69571,69569,69567,69573,69574,69572,69575,69564,69570,69568,69571,69569,69567,69573,69574,69572,69575,69564,69563,69565,69561,69562,69566,69560,69558,69559,69557,69531,69532,69530,69527,69529,69524,69525,69523,69526,69497,69498,69496,69495,69493,69494,69490,69491,69492,69489,69488,69487,69485,69483,69486,69484,69482,69481,69480,69479,69478,69475,69476,69477,69472,69473])\n"
   ]
  },
  {
   "cell_type": "markdown",
   "id": "dab19f76",
   "metadata": {},
   "source": [
    "the guts for doin this live in the intramolecular notebook which i guess i didnt push???? come back to it latter"
   ]
  },
  {
   "cell_type": "code",
   "execution_count": 5,
   "id": "03121d16",
   "metadata": {},
   "outputs": [],
   "source": [
    "chromo2_ids = chromo_ids +186"
   ]
  },
  {
   "cell_type": "code",
   "execution_count": 6,
   "id": "2423a05f",
   "metadata": {},
   "outputs": [],
   "source": [
    "aaids=[]"
   ]
  },
  {
   "cell_type": "code",
   "execution_count": 7,
   "id": "5a4def14",
   "metadata": {},
   "outputs": [],
   "source": [
    "aaids.append(chromo_ids)\n",
    "aaids.append(chromo2_ids)"
   ]
  },
  {
   "cell_type": "code",
   "execution_count": 8,
   "id": "40331e0d",
   "metadata": {},
   "outputs": [
    {
     "name": "stdout",
     "output_type": "stream",
     "text": [
      "[array([69570, 69568, 69568, 69571, 69569, 69567, 69573, 69574, 69572,\n",
      "       69575, 69564, 69570, 69568, 69571, 69569, 69567, 69573, 69574,\n",
      "       69572, 69575, 69564, 69563, 69565, 69561, 69562, 69566, 69560,\n",
      "       69558, 69559, 69557, 69531, 69532, 69530, 69527, 69529, 69524,\n",
      "       69525, 69523, 69526, 69497, 69498, 69496, 69495, 69493, 69494,\n",
      "       69490, 69491, 69492, 69489, 69488, 69487, 69485, 69483, 69486,\n",
      "       69484, 69482, 69481, 69480, 69479, 69478, 69475, 69476, 69477,\n",
      "       69472, 69473]), array([69756, 69754, 69754, 69757, 69755, 69753, 69759, 69760, 69758,\n",
      "       69761, 69750, 69756, 69754, 69757, 69755, 69753, 69759, 69760,\n",
      "       69758, 69761, 69750, 69749, 69751, 69747, 69748, 69752, 69746,\n",
      "       69744, 69745, 69743, 69717, 69718, 69716, 69713, 69715, 69710,\n",
      "       69711, 69709, 69712, 69683, 69684, 69682, 69681, 69679, 69680,\n",
      "       69676, 69677, 69678, 69675, 69674, 69673, 69671, 69669, 69672,\n",
      "       69670, 69668, 69667, 69666, 69665, 69664, 69661, 69662, 69663,\n",
      "       69658, 69659])]\n"
     ]
    }
   ],
   "source": [
    "print(aaids)"
   ]
  },
  {
   "cell_type": "code",
   "execution_count": 9,
   "id": "58ec4c3f",
   "metadata": {},
   "outputs": [],
   "source": [
    "chromo_list = []\n",
    "for i,aaid in enumerate(aaids):\n",
    "    chromo_list.append(chromophores.Chromophore(i, start_snap, aaid, \"acceptor\", amber_dict))"
   ]
  },
  {
   "cell_type": "code",
   "execution_count": 10,
   "id": "f06b29dc",
   "metadata": {
    "tags": []
   },
   "outputs": [
    {
     "name": "stdout",
     "output_type": "stream",
     "text": [
      "There are 1 chromophore pairs\n"
     ]
    }
   ],
   "source": [
    "qcc_pairs = chromophores.set_neighbors_voronoi(chromo_list, end_snap, amber_dict, d_cut=100)\n",
    "print(f\"There are {len(qcc_pairs)} chromophore pairs\")"
   ]
  },
  {
   "cell_type": "code",
   "execution_count": 12,
   "id": "f9eb1ed8",
   "metadata": {
    "scrolled": true,
    "tags": []
   },
   "outputs": [
    {
     "name": "stdout",
     "output_type": "stream",
     "text": [
      "[Chromophore 0 (acceptor): 65 atoms at 2.803 0.400 -3.376, Chromophore 1 (acceptor): 65 atoms at -28.403 22.061 21.011]\n"
     ]
    }
   ],
   "source": [
    "print(chromo_list)"
   ]
  },
  {
   "cell_type": "code",
   "execution_count": 12,
   "id": "0ddcf042",
   "metadata": {},
   "outputs": [
    {
     "name": "stdout",
     "output_type": "stream",
     "text": [
      "Pair #0:\n"
     ]
    },
    {
     "data": {
      "application/3dmoljs_load.v0": "<div id=\"3dmolviewer_1623962148757473\"  style=\"position: relative; width: 640px; height: 480px\">\n        <p id=\"3dmolwarning_1623962148757473\" style=\"background-color:#ffcccc;color:black\">You appear to be running in JupyterLab (or JavaScript failed to load for some other reason).  You need to install the 3dmol extension: <br>\n        <tt>jupyter labextension install jupyterlab_3dmol</tt></p>\n        </div>\n<script>\n\nvar loadScriptAsync = function(uri){\n  return new Promise((resolve, reject) => {\n    var tag = document.createElement('script');\n    tag.src = uri;\n    tag.async = true;\n    tag.onload = () => {\n      resolve();\n    };\n  var firstScriptTag = document.getElementsByTagName('script')[0];\n  firstScriptTag.parentNode.insertBefore(tag, firstScriptTag);\n});\n};\n\nif(typeof $3Dmolpromise === 'undefined') {\n$3Dmolpromise = null;\n  $3Dmolpromise = loadScriptAsync('https://3dmol.csb.pitt.edu/build/3Dmol.js');\n}\n\nvar viewer_1623962148757473 = null;\nvar warn = document.getElementById(\"3dmolwarning_1623962148757473\");\nif(warn) {\n    warn.parentNode.removeChild(warn);\n}\n$3Dmolpromise.then(function() {\nviewer_1623962148757473 = $3Dmol.createViewer($(\"#3dmolviewer_1623962148757473\"),{backgroundColor:\"white\"});\n\tviewer_1623962148757473.addModel(\"@<TRIPOS>MOLECULE\\nRES\\n157 0 1 0 1\\nSMALL\\nNO_CHARGES\\n@<TRIPOS>CRYSIN\\n   21.4786    20.4305    23.3899    90.0000    90.0000    90.0000  1  1\\n@<TRIPOS>ATOM\\n       1 N           -5.7092     6.3988     9.1962 N             1 RES     \\n       2 C           -5.7504     6.3049     9.1393 C             1 RES     \\n       3 C           -5.7504     6.3049     9.1393 C             1 RES     \\n       4 N           -6.0284     6.2086     8.9265 N             1 RES     \\n       5 C           -5.9353     6.1994     8.9943 C             1 RES     \\n       6 C           -5.8081     6.1778     9.0790 C             1 RES     \\n       7 C           -5.9556     5.7872     9.2895 C             1 RES     \\n       8 C           -5.8798     5.6706     9.2631 C             1 RES     \\n       9 C           -5.9053     5.9170     9.2442 C             1 RES     \\n      10 C           -5.7481     5.6858     9.2022 C             1 RES     \\n      11 C           -5.7762     5.9347     9.1797 C             1 RES     \\n      12 N           -5.7092     6.3988     9.1962 N             1 RES     \\n      13 C           -5.7504     6.3049     9.1393 C             1 RES     \\n      14 N           -6.0284     6.2086     8.9265 N             1 RES     \\n      15 C           -5.9353     6.1994     8.9943 C             1 RES     \\n      16 C           -5.8081     6.1778     9.0790 C             1 RES     \\n      17 C           -5.9556     5.7872     9.2895 C             1 RES     \\n      18 C           -5.8798     5.6706     9.2631 C             1 RES     \\n      19 C           -5.9053     5.9170     9.2442 C             1 RES     \\n      20 C           -5.7481     5.6858     9.2022 C             1 RES     \\n      21 C           -5.7762     5.9347     9.1797 C             1 RES     \\n      22 C           -5.7053     5.8135     9.1402 C             1 RES     \\n      23 C           -5.7458     6.0493     9.0829 C             1 RES     \\n      24 C           -5.6467     5.9950     8.9812 C             1 RES     \\n      25 C           -5.6083     5.8493     9.0202 C             1 RES     \\n      26 O           -5.5165     5.7820     8.9728 O             1 RES     \\n      27 C           -5.5951     6.0605     8.8711 C             1 RES     \\n      28 C           -5.6504     6.1445     8.7643 C             1 RES     \\n      29 C           -5.6552     6.1100     8.6267 C             1 RES     \\n      30 S           -5.6812     6.3219     8.7845 S             1 RES     \\n      31 C           -5.7106     6.2181     8.5380 C             1 RES     \\n      32 C           -5.7523     6.3356     8.6159 C             1 RES     \\n      33 S           -5.8397     6.1776     8.4100 S             1 RES     \\n      34 C           -5.9586     6.2978     8.4824 C             1 RES     \\n      35 C           -5.8953     6.3782     8.5863 C             1 RES     \\n      36 C           -6.0403     6.3934     8.3917 C             1 RES     \\n      37 C           -6.0269     6.5342     8.4380 C             1 RES     \\n      38 C           -6.1080     6.3721     8.2684 C             1 RES     \\n      39 C           -6.0813     6.6425     8.3672 C             1 RES     \\n      40 C           -6.1610     6.4815     8.1829 C             1 RES     \\n      41 C           -6.1536     6.6156     8.2360 C             1 RES     \\n      42 C           -6.2878     6.4646     8.0781 C             1 RES     \\n      43 C           -6.2645     6.7002     8.1783 C             1 RES     \\n      44 C           -6.3475     6.6191     8.0883 C             1 RES     \\n      45 S           -6.2710     6.8832     8.1329 S             1 RES     \\n      46 C           -6.3912     6.6979     7.9643 C             1 RES     \\n      47 C           -6.3536     6.8410     7.9741 C             1 RES     \\n      48 C           -6.4660     6.9323     7.9313 C             1 RES     \\n      49 S           -6.5409     6.6806     7.8651 S             1 RES     \\n      50 C           -6.5741     6.8576     7.8714 C             1 RES     \\n      51 C           -6.7185     6.9039     7.8620 C             1 RES     \\n      52 N           -7.0169     7.1541     7.9403 N             1 RES     \\n      53 C           -7.0060     7.0889     7.8403 C             1 RES     \\n      54 N           -7.0486     7.0986     7.4745 N             1 RES     \\n      55 C           -7.0172     7.0604     7.5821 C             1 RES     \\n      56 C           -6.9827     7.0046     7.7156 C             1 RES     \\n      57 O           -6.8106     6.6455     7.9947 O             1 RES     \\n      58 C           -6.8461     6.6807     7.8794 C             1 RES     \\n      59 C           -6.8311     6.8285     7.8351 C             1 RES     \\n      60 C           -6.9413     6.8675     7.7379 C             1 RES     \\n      61 C           -6.9621     6.6220     7.7902 C             1 RES     \\n      62 C           -7.0262     6.7360     7.7144 C             1 RES     \\n      63 C           -7.1109     6.7065     7.5986 C             1 RES     \\n      64 C           -7.1220     6.5658     7.5552 C             1 RES     \\n      65 C           -7.0759     6.4575     7.6381 C             1 RES     \\n      66 C            8.3632    -6.1634    -6.8471 C             1 RES     \\n      67 C            8.1126    -6.1898    -6.7340 C             1 RES     \\n      68 C            8.1126    -6.1898    -6.7340 C             1 RES     \\n      69 C            8.4724    -6.2477    -6.7702 C             1 RES     \\n      70 C            8.2457    -6.1027    -6.7547 C             1 RES     \\n      71 C            8.1312    -6.3020    -6.6218 C             1 RES     \\n      72 C            7.3081    -5.9254    -6.1523 C             1 RES     \\n      73 C            7.3013    -5.7962    -6.2366 C             1 RES     \\n      74 C            8.5643    -6.3384    -6.8552 C             1 RES     \\n      75 C            7.3360    -5.6603    -6.1638 C             1 RES     \\n      76 C            8.0058    -6.3433    -6.5407 C             1 RES     \\n      77 C            8.3632    -6.1634    -6.8471 C             1 RES     \\n      78 C            8.1126    -6.1898    -6.7340 C             1 RES     \\n      79 C            8.4724    -6.2477    -6.7702 C             1 RES     \\n      80 C            8.2457    -6.1027    -6.7547 C             1 RES     \\n      81 C            8.1312    -6.3020    -6.6218 C             1 RES     \\n      82 C            7.3081    -5.9254    -6.1523 C             1 RES     \\n      83 C            7.3013    -5.7962    -6.2366 C             1 RES     \\n      84 C            8.5643    -6.3384    -6.8552 C             1 RES     \\n      85 C            7.3360    -5.6603    -6.1638 C             1 RES     \\n      86 C            8.0058    -6.3433    -6.5407 C             1 RES     \\n      87 C            7.9278    -6.2424    -6.4683 C             1 RES     \\n      88 C            7.9531    -6.4781    -6.5456 C             1 RES     \\n      89 C            7.3906    -6.2236    -6.4075 C             1 RES     \\n      90 C            7.7929    -6.2701    -6.4247 C             1 RES     \\n      91 C            7.8181    -6.5080    -6.4971 C             1 RES     \\n      92 C            7.3177    -6.1156    -6.3395 C             1 RES     \\n      93 C            7.4836    -6.1221    -6.1519 C             1 RES     \\n      94 C            7.3595    -6.0651    -6.2061 C             1 RES     \\n      95 C            7.5411    -6.2461    -6.2120 C             1 RES     \\n      96 C            7.5452    -6.8328    -7.1423 C             1 RES     \\n      97 C            7.5634    -6.9047    -6.7388 C             1 RES     \\n      98 C            7.4629    -6.9253    -7.2179 C             1 RES     \\n      99 C            7.3382    -6.7610    -7.0132 C             1 RES     \\n     100 C            7.3250    -6.9510    -7.1754 C             1 RES     \\n     101 C            7.7521    -7.0509    -6.9066 C             1 RES     \\n     102 C            7.6708    -7.1217    -6.8050 C             1 RES     \\n     103 C            7.7628    -6.9108    -6.8933 C             1 RES     \\n     104 C            7.5659    -7.0494    -6.7326 C             1 RES     \\n     105 C            8.3820    -6.3344    -7.2908 C             1 RES     \\n     106 C            8.4509    -6.4677    -7.3031 C             1 RES     \\n     107 C            8.4303    -6.2209    -7.3769 C             1 RES     \\n     108 C            8.5376    -6.2407    -7.4754 C             1 RES     \\n     109 C           -1.3721    -2.5523    -7.0670 C             1 RES     \\n     110 C            8.6058    -6.3677    -7.4884 C             1 RES     \\n     111 C           -1.6575    -2.4507    -7.0690 C             1 RES     \\n     112 C           -1.5891    -2.4881    -6.9390 C             1 RES     \\n     113 C           -1.4549    -2.5452    -6.9401 C             1 RES     \\n     114 N           -1.9191    -2.6919    -7.2322 N             1 RES     \\n     115 N           -1.9305    -2.3167    -7.5054 N             1 RES     \\n     116 C           -1.8639    -2.6021    -7.2862 C             1 RES     \\n     117 C           -1.7893    -2.4838    -7.3597 C             1 RES     \\n     118 C           -1.6443    -2.4717    -7.3310 C             1 RES     \\n     119 C           -1.8675    -2.3881    -7.4398 C             1 RES     \\n     120 O           -1.3030    -2.6210    -7.3745 O             1 RES     \\n     121 C           -1.5781    -2.4465    -7.1929 C             1 RES     \\n     122 C           -1.4361    -2.5034    -7.1903 C             1 RES     \\n     123 C           -1.4025    -2.5539    -7.3377 C             1 RES     \\n     124 C           -1.5313    -2.5264    -7.4237 C             1 RES     \\n     125 C           -1.5423    -2.5243    -7.5631 C             1 RES     \\n     126 S           -1.4858    -2.3167    -7.7559 S             1 RES     \\n     127 C           -1.4550    -2.4802    -7.6753 C             1 RES     \\n     128 C           -1.3176    -2.5190    -7.7005 C             1 RES     \\n     129 C           -1.3002    -1.9653    -8.7965 C             1 RES     \\n     130 C           -1.3916    -1.9752    -8.9268 C             1 RES     \\n     131 H           -6.4092     6.6475     8.4844 H             1 RES     \\n     132 H           -7.1511     5.5860     7.4938 H             1 RES     \\n     133 H           -5.9296     6.2607     7.0647 H             1 RES     \\n     134 H           -6.8898     5.6397     8.4704 H             1 RES     \\n     135 H           -5.3924     6.5605     9.3288 H             1 RES     \\n     136 H           -6.1450     7.4377     8.4771 H             1 RES     \\n     137 H           -0.7433    -1.7726    -8.2572 H             1 RES     \\n     138 H           -0.4671    -2.1720    -8.1277 H             1 RES     \\n     139 H           -0.9992    -2.9395    -8.4000 H             1 RES     \\n     140 H           -2.2726    -1.3406    -9.0611 H             1 RES     \\n     141 H            8.3592    -7.1653    -6.7815 H             1 RES     \\n     142 H            7.3409    -6.5196    -7.0104 H             1 RES     \\n     143 H            7.7057    -7.2686    -7.3121 H             1 RES     \\n     144 H            9.3275    -6.5153    -7.9559 H             1 RES     \\n     145 H            7.1078    -6.3394    -6.2693 H             1 RES     \\n     146 H            8.4271    -6.8061    -7.1086 H             1 RES     \\n     147 H            8.2296    -6.3612    -7.4153 H             1 RES     \\n     148 H            6.9558    -6.3414    -6.4228 H             1 RES     \\n     149 H            8.1072    -7.9929    -6.3074 H             1 RES     \\n     150 H            6.7582    -7.5655    -7.4749 H             1 RES     \\n     151 H            6.8412    -6.3285    -6.4169 H             1 RES     \\n     152 H            6.7264    -7.7793    -7.5659 H             1 RES     \\n     153 H            7.1658    -5.7201    -6.1090 H             1 RES     \\n     154 H            7.3187    -7.2451    -6.5712 H             1 RES     \\n     155 H            8.2176    -6.7566    -5.9291 H             1 RES     \\n     156 H            7.2315    -6.6012    -7.1994 H             1 RES     \\n     157 H            7.9274    -4.9839    -6.7880 H             1 RES     \\n@<TRIPOS>BOND\\n@<TRIPOS>SUBSTRUCTURE\\n       1 RES             1 RESIDUE    0 **** ROOT      0\\n\",\"mol2\");\n\tviewer_1623962148757473.setStyle({\"stick\": {\"radius\": 0.2, \"color\": \"grey\"}, \"sphere\": {\"scale\": 0.3, \"colorscheme\": {}}});\n\tviewer_1623962148757473.zoomTo();\nviewer_1623962148757473.render();\n});\n</script>",
      "text/html": [
       "<div id=\"3dmolviewer_1623962148757473\"  style=\"position: relative; width: 640px; height: 480px\">\n",
       "        <p id=\"3dmolwarning_1623962148757473\" style=\"background-color:#ffcccc;color:black\">You appear to be running in JupyterLab (or JavaScript failed to load for some other reason).  You need to install the 3dmol extension: <br>\n",
       "        <tt>jupyter labextension install jupyterlab_3dmol</tt></p>\n",
       "        </div>\n",
       "<script>\n",
       "\n",
       "var loadScriptAsync = function(uri){\n",
       "  return new Promise((resolve, reject) => {\n",
       "    var tag = document.createElement('script');\n",
       "    tag.src = uri;\n",
       "    tag.async = true;\n",
       "    tag.onload = () => {\n",
       "      resolve();\n",
       "    };\n",
       "  var firstScriptTag = document.getElementsByTagName('script')[0];\n",
       "  firstScriptTag.parentNode.insertBefore(tag, firstScriptTag);\n",
       "});\n",
       "};\n",
       "\n",
       "if(typeof $3Dmolpromise === 'undefined') {\n",
       "$3Dmolpromise = null;\n",
       "  $3Dmolpromise = loadScriptAsync('https://3dmol.csb.pitt.edu/build/3Dmol.js');\n",
       "}\n",
       "\n",
       "var viewer_1623962148757473 = null;\n",
       "var warn = document.getElementById(\"3dmolwarning_1623962148757473\");\n",
       "if(warn) {\n",
       "    warn.parentNode.removeChild(warn);\n",
       "}\n",
       "$3Dmolpromise.then(function() {\n",
       "viewer_1623962148757473 = $3Dmol.createViewer($(\"#3dmolviewer_1623962148757473\"),{backgroundColor:\"white\"});\n",
       "\tviewer_1623962148757473.addModel(\"@<TRIPOS>MOLECULE\\nRES\\n157 0 1 0 1\\nSMALL\\nNO_CHARGES\\n@<TRIPOS>CRYSIN\\n   21.4786    20.4305    23.3899    90.0000    90.0000    90.0000  1  1\\n@<TRIPOS>ATOM\\n       1 N           -5.7092     6.3988     9.1962 N             1 RES     \\n       2 C           -5.7504     6.3049     9.1393 C             1 RES     \\n       3 C           -5.7504     6.3049     9.1393 C             1 RES     \\n       4 N           -6.0284     6.2086     8.9265 N             1 RES     \\n       5 C           -5.9353     6.1994     8.9943 C             1 RES     \\n       6 C           -5.8081     6.1778     9.0790 C             1 RES     \\n       7 C           -5.9556     5.7872     9.2895 C             1 RES     \\n       8 C           -5.8798     5.6706     9.2631 C             1 RES     \\n       9 C           -5.9053     5.9170     9.2442 C             1 RES     \\n      10 C           -5.7481     5.6858     9.2022 C             1 RES     \\n      11 C           -5.7762     5.9347     9.1797 C             1 RES     \\n      12 N           -5.7092     6.3988     9.1962 N             1 RES     \\n      13 C           -5.7504     6.3049     9.1393 C             1 RES     \\n      14 N           -6.0284     6.2086     8.9265 N             1 RES     \\n      15 C           -5.9353     6.1994     8.9943 C             1 RES     \\n      16 C           -5.8081     6.1778     9.0790 C             1 RES     \\n      17 C           -5.9556     5.7872     9.2895 C             1 RES     \\n      18 C           -5.8798     5.6706     9.2631 C             1 RES     \\n      19 C           -5.9053     5.9170     9.2442 C             1 RES     \\n      20 C           -5.7481     5.6858     9.2022 C             1 RES     \\n      21 C           -5.7762     5.9347     9.1797 C             1 RES     \\n      22 C           -5.7053     5.8135     9.1402 C             1 RES     \\n      23 C           -5.7458     6.0493     9.0829 C             1 RES     \\n      24 C           -5.6467     5.9950     8.9812 C             1 RES     \\n      25 C           -5.6083     5.8493     9.0202 C             1 RES     \\n      26 O           -5.5165     5.7820     8.9728 O             1 RES     \\n      27 C           -5.5951     6.0605     8.8711 C             1 RES     \\n      28 C           -5.6504     6.1445     8.7643 C             1 RES     \\n      29 C           -5.6552     6.1100     8.6267 C             1 RES     \\n      30 S           -5.6812     6.3219     8.7845 S             1 RES     \\n      31 C           -5.7106     6.2181     8.5380 C             1 RES     \\n      32 C           -5.7523     6.3356     8.6159 C             1 RES     \\n      33 S           -5.8397     6.1776     8.4100 S             1 RES     \\n      34 C           -5.9586     6.2978     8.4824 C             1 RES     \\n      35 C           -5.8953     6.3782     8.5863 C             1 RES     \\n      36 C           -6.0403     6.3934     8.3917 C             1 RES     \\n      37 C           -6.0269     6.5342     8.4380 C             1 RES     \\n      38 C           -6.1080     6.3721     8.2684 C             1 RES     \\n      39 C           -6.0813     6.6425     8.3672 C             1 RES     \\n      40 C           -6.1610     6.4815     8.1829 C             1 RES     \\n      41 C           -6.1536     6.6156     8.2360 C             1 RES     \\n      42 C           -6.2878     6.4646     8.0781 C             1 RES     \\n      43 C           -6.2645     6.7002     8.1783 C             1 RES     \\n      44 C           -6.3475     6.6191     8.0883 C             1 RES     \\n      45 S           -6.2710     6.8832     8.1329 S             1 RES     \\n      46 C           -6.3912     6.6979     7.9643 C             1 RES     \\n      47 C           -6.3536     6.8410     7.9741 C             1 RES     \\n      48 C           -6.4660     6.9323     7.9313 C             1 RES     \\n      49 S           -6.5409     6.6806     7.8651 S             1 RES     \\n      50 C           -6.5741     6.8576     7.8714 C             1 RES     \\n      51 C           -6.7185     6.9039     7.8620 C             1 RES     \\n      52 N           -7.0169     7.1541     7.9403 N             1 RES     \\n      53 C           -7.0060     7.0889     7.8403 C             1 RES     \\n      54 N           -7.0486     7.0986     7.4745 N             1 RES     \\n      55 C           -7.0172     7.0604     7.5821 C             1 RES     \\n      56 C           -6.9827     7.0046     7.7156 C             1 RES     \\n      57 O           -6.8106     6.6455     7.9947 O             1 RES     \\n      58 C           -6.8461     6.6807     7.8794 C             1 RES     \\n      59 C           -6.8311     6.8285     7.8351 C             1 RES     \\n      60 C           -6.9413     6.8675     7.7379 C             1 RES     \\n      61 C           -6.9621     6.6220     7.7902 C             1 RES     \\n      62 C           -7.0262     6.7360     7.7144 C             1 RES     \\n      63 C           -7.1109     6.7065     7.5986 C             1 RES     \\n      64 C           -7.1220     6.5658     7.5552 C             1 RES     \\n      65 C           -7.0759     6.4575     7.6381 C             1 RES     \\n      66 C            8.3632    -6.1634    -6.8471 C             1 RES     \\n      67 C            8.1126    -6.1898    -6.7340 C             1 RES     \\n      68 C            8.1126    -6.1898    -6.7340 C             1 RES     \\n      69 C            8.4724    -6.2477    -6.7702 C             1 RES     \\n      70 C            8.2457    -6.1027    -6.7547 C             1 RES     \\n      71 C            8.1312    -6.3020    -6.6218 C             1 RES     \\n      72 C            7.3081    -5.9254    -6.1523 C             1 RES     \\n      73 C            7.3013    -5.7962    -6.2366 C             1 RES     \\n      74 C            8.5643    -6.3384    -6.8552 C             1 RES     \\n      75 C            7.3360    -5.6603    -6.1638 C             1 RES     \\n      76 C            8.0058    -6.3433    -6.5407 C             1 RES     \\n      77 C            8.3632    -6.1634    -6.8471 C             1 RES     \\n      78 C            8.1126    -6.1898    -6.7340 C             1 RES     \\n      79 C            8.4724    -6.2477    -6.7702 C             1 RES     \\n      80 C            8.2457    -6.1027    -6.7547 C             1 RES     \\n      81 C            8.1312    -6.3020    -6.6218 C             1 RES     \\n      82 C            7.3081    -5.9254    -6.1523 C             1 RES     \\n      83 C            7.3013    -5.7962    -6.2366 C             1 RES     \\n      84 C            8.5643    -6.3384    -6.8552 C             1 RES     \\n      85 C            7.3360    -5.6603    -6.1638 C             1 RES     \\n      86 C            8.0058    -6.3433    -6.5407 C             1 RES     \\n      87 C            7.9278    -6.2424    -6.4683 C             1 RES     \\n      88 C            7.9531    -6.4781    -6.5456 C             1 RES     \\n      89 C            7.3906    -6.2236    -6.4075 C             1 RES     \\n      90 C            7.7929    -6.2701    -6.4247 C             1 RES     \\n      91 C            7.8181    -6.5080    -6.4971 C             1 RES     \\n      92 C            7.3177    -6.1156    -6.3395 C             1 RES     \\n      93 C            7.4836    -6.1221    -6.1519 C             1 RES     \\n      94 C            7.3595    -6.0651    -6.2061 C             1 RES     \\n      95 C            7.5411    -6.2461    -6.2120 C             1 RES     \\n      96 C            7.5452    -6.8328    -7.1423 C             1 RES     \\n      97 C            7.5634    -6.9047    -6.7388 C             1 RES     \\n      98 C            7.4629    -6.9253    -7.2179 C             1 RES     \\n      99 C            7.3382    -6.7610    -7.0132 C             1 RES     \\n     100 C            7.3250    -6.9510    -7.1754 C             1 RES     \\n     101 C            7.7521    -7.0509    -6.9066 C             1 RES     \\n     102 C            7.6708    -7.1217    -6.8050 C             1 RES     \\n     103 C            7.7628    -6.9108    -6.8933 C             1 RES     \\n     104 C            7.5659    -7.0494    -6.7326 C             1 RES     \\n     105 C            8.3820    -6.3344    -7.2908 C             1 RES     \\n     106 C            8.4509    -6.4677    -7.3031 C             1 RES     \\n     107 C            8.4303    -6.2209    -7.3769 C             1 RES     \\n     108 C            8.5376    -6.2407    -7.4754 C             1 RES     \\n     109 C           -1.3721    -2.5523    -7.0670 C             1 RES     \\n     110 C            8.6058    -6.3677    -7.4884 C             1 RES     \\n     111 C           -1.6575    -2.4507    -7.0690 C             1 RES     \\n     112 C           -1.5891    -2.4881    -6.9390 C             1 RES     \\n     113 C           -1.4549    -2.5452    -6.9401 C             1 RES     \\n     114 N           -1.9191    -2.6919    -7.2322 N             1 RES     \\n     115 N           -1.9305    -2.3167    -7.5054 N             1 RES     \\n     116 C           -1.8639    -2.6021    -7.2862 C             1 RES     \\n     117 C           -1.7893    -2.4838    -7.3597 C             1 RES     \\n     118 C           -1.6443    -2.4717    -7.3310 C             1 RES     \\n     119 C           -1.8675    -2.3881    -7.4398 C             1 RES     \\n     120 O           -1.3030    -2.6210    -7.3745 O             1 RES     \\n     121 C           -1.5781    -2.4465    -7.1929 C             1 RES     \\n     122 C           -1.4361    -2.5034    -7.1903 C             1 RES     \\n     123 C           -1.4025    -2.5539    -7.3377 C             1 RES     \\n     124 C           -1.5313    -2.5264    -7.4237 C             1 RES     \\n     125 C           -1.5423    -2.5243    -7.5631 C             1 RES     \\n     126 S           -1.4858    -2.3167    -7.7559 S             1 RES     \\n     127 C           -1.4550    -2.4802    -7.6753 C             1 RES     \\n     128 C           -1.3176    -2.5190    -7.7005 C             1 RES     \\n     129 C           -1.3002    -1.9653    -8.7965 C             1 RES     \\n     130 C           -1.3916    -1.9752    -8.9268 C             1 RES     \\n     131 H           -6.4092     6.6475     8.4844 H             1 RES     \\n     132 H           -7.1511     5.5860     7.4938 H             1 RES     \\n     133 H           -5.9296     6.2607     7.0647 H             1 RES     \\n     134 H           -6.8898     5.6397     8.4704 H             1 RES     \\n     135 H           -5.3924     6.5605     9.3288 H             1 RES     \\n     136 H           -6.1450     7.4377     8.4771 H             1 RES     \\n     137 H           -0.7433    -1.7726    -8.2572 H             1 RES     \\n     138 H           -0.4671    -2.1720    -8.1277 H             1 RES     \\n     139 H           -0.9992    -2.9395    -8.4000 H             1 RES     \\n     140 H           -2.2726    -1.3406    -9.0611 H             1 RES     \\n     141 H            8.3592    -7.1653    -6.7815 H             1 RES     \\n     142 H            7.3409    -6.5196    -7.0104 H             1 RES     \\n     143 H            7.7057    -7.2686    -7.3121 H             1 RES     \\n     144 H            9.3275    -6.5153    -7.9559 H             1 RES     \\n     145 H            7.1078    -6.3394    -6.2693 H             1 RES     \\n     146 H            8.4271    -6.8061    -7.1086 H             1 RES     \\n     147 H            8.2296    -6.3612    -7.4153 H             1 RES     \\n     148 H            6.9558    -6.3414    -6.4228 H             1 RES     \\n     149 H            8.1072    -7.9929    -6.3074 H             1 RES     \\n     150 H            6.7582    -7.5655    -7.4749 H             1 RES     \\n     151 H            6.8412    -6.3285    -6.4169 H             1 RES     \\n     152 H            6.7264    -7.7793    -7.5659 H             1 RES     \\n     153 H            7.1658    -5.7201    -6.1090 H             1 RES     \\n     154 H            7.3187    -7.2451    -6.5712 H             1 RES     \\n     155 H            8.2176    -6.7566    -5.9291 H             1 RES     \\n     156 H            7.2315    -6.6012    -7.1994 H             1 RES     \\n     157 H            7.9274    -4.9839    -6.7880 H             1 RES     \\n@<TRIPOS>BOND\\n@<TRIPOS>SUBSTRUCTURE\\n       1 RES             1 RESIDUE    0 **** ROOT      0\\n\",\"mol2\");\n",
       "\tviewer_1623962148757473.setStyle({\"stick\": {\"radius\": 0.2, \"color\": \"grey\"}, \"sphere\": {\"scale\": 0.3, \"colorscheme\": {}}});\n",
       "\tviewer_1623962148757473.zoomTo();\n",
       "viewer_1623962148757473.render();\n",
       "});\n",
       "</script>"
      ]
     },
     "metadata": {},
     "output_type": "display_data"
    }
   ],
   "source": [
    "i =  0# try any number from 0 to 180\n",
    "print(f\"Pair #{i}:\")\n",
    "visualize_qcc_input(qcc_pairs[i][1])"
   ]
  },
  {
   "cell_type": "code",
   "execution_count": 13,
   "id": "76a1240d",
   "metadata": {},
   "outputs": [
    {
     "ename": "RuntimeError",
     "evalue": "Electron number 871 and spin 0 are not consistent\nNote mol.spin = 2S = Nalpha - Nbeta, not 2S+1",
     "output_type": "error",
     "traceback": [
      "\u001b[0;31m---------------------------------------------------------------------------\u001b[0m",
      "\u001b[0;31mRemoteTraceback\u001b[0m                           Traceback (most recent call last)",
      "\u001b[0;31mRemoteTraceback\u001b[0m: \n\"\"\"\nTraceback (most recent call last):\n  File \"/Users/jimmy/miniconda3/envs/morphct-ex/lib/python3.7/multiprocessing/pool.py\", line 121, in worker\n    result = (True, func(*args, **kwds))\n  File \"/Users/jimmy/miniconda3/envs/morphct-ex/lib/python3.7/multiprocessing/pool.py\", line 44, in mapstar\n    return list(map(*args))\n  File \"/Users/jimmy/repos/morphct/morphct/execute_qcc.py\", line 33, in get_homolumo\n    mol = pyscf.M(atom=molstr)\n  File \"/Users/jimmy/miniconda3/envs/morphct-ex/lib/python3.7/site-packages/pyscf/__init__.py\", line 87, in M\n    return gto.M(**kwargs)\n  File \"/Users/jimmy/miniconda3/envs/morphct-ex/lib/python3.7/site-packages/pyscf/gto/mole.py\", line 103, in M\n    mol.build(**kwargs)\n  File \"/Users/jimmy/miniconda3/envs/morphct-ex/lib/python3.7/site-packages/pyscf/gto/mole.py\", line 2289, in build\n    self.nelec\n  File \"/Users/jimmy/miniconda3/envs/morphct-ex/lib/python3.7/site-packages/pyscf/gto/mole.py\", line 2067, in nelec\n    (ne, self.spin))\nRuntimeError: Electron number 871 and spin 0 are not consistent\nNote mol.spin = 2S = Nalpha - Nbeta, not 2S+1\n\"\"\"",
      "\nThe above exception was the direct cause of the following exception:\n",
      "\u001b[0;31mRuntimeError\u001b[0m                              Traceback (most recent call last)",
      "\u001b[0;32m<timed exec>\u001b[0m in \u001b[0;36m<module>\u001b[0;34m\u001b[0m\n",
      "\u001b[0;32m~/repos/morphct/morphct/execute_qcc.py\u001b[0m in \u001b[0;36mdimer_homolumo\u001b[0;34m(qcc_pairs, filename, nprocs)\u001b[0m\n\u001b[1;32m     98\u001b[0m \u001b[0;34m\u001b[0m\u001b[0m\n\u001b[1;32m     99\u001b[0m     \u001b[0;32mwith\u001b[0m \u001b[0mget_context\u001b[0m\u001b[0;34m(\u001b[0m\u001b[0;34m\"spawn\"\u001b[0m\u001b[0;34m)\u001b[0m\u001b[0;34m.\u001b[0m\u001b[0mPool\u001b[0m\u001b[0;34m(\u001b[0m\u001b[0mprocesses\u001b[0m\u001b[0;34m=\u001b[0m\u001b[0mnprocs\u001b[0m\u001b[0;34m)\u001b[0m \u001b[0;32mas\u001b[0m \u001b[0mp\u001b[0m\u001b[0;34m:\u001b[0m\u001b[0;34m\u001b[0m\u001b[0;34m\u001b[0m\u001b[0m\n\u001b[0;32m--> 100\u001b[0;31m         \u001b[0mdata\u001b[0m \u001b[0;34m=\u001b[0m \u001b[0mp\u001b[0m\u001b[0;34m.\u001b[0m\u001b[0mmap\u001b[0m\u001b[0;34m(\u001b[0m\u001b[0mget_homolumo\u001b[0m\u001b[0;34m,\u001b[0m \u001b[0;34m[\u001b[0m\u001b[0mqcc_input\u001b[0m \u001b[0;32mfor\u001b[0m \u001b[0mpair\u001b[0m\u001b[0;34m,\u001b[0m \u001b[0mqcc_input\u001b[0m \u001b[0;32min\u001b[0m \u001b[0mqcc_pairs\u001b[0m\u001b[0;34m]\u001b[0m\u001b[0;34m)\u001b[0m\u001b[0;34m\u001b[0m\u001b[0;34m\u001b[0m\u001b[0m\n\u001b[0m\u001b[1;32m    101\u001b[0m \u001b[0;34m\u001b[0m\u001b[0m\n\u001b[1;32m    102\u001b[0m     \u001b[0mdimer_data\u001b[0m \u001b[0;34m=\u001b[0m \u001b[0;34m[\u001b[0m\u001b[0mi\u001b[0m \u001b[0;32mfor\u001b[0m \u001b[0mi\u001b[0m \u001b[0;32min\u001b[0m \u001b[0mzip\u001b[0m\u001b[0;34m(\u001b[0m\u001b[0;34m[\u001b[0m\u001b[0mpair\u001b[0m \u001b[0;32mfor\u001b[0m \u001b[0mpair\u001b[0m\u001b[0;34m,\u001b[0m \u001b[0mqcc_input\u001b[0m \u001b[0;32min\u001b[0m \u001b[0mqcc_pairs\u001b[0m\u001b[0;34m]\u001b[0m\u001b[0;34m,\u001b[0m \u001b[0mdata\u001b[0m\u001b[0;34m)\u001b[0m\u001b[0;34m]\u001b[0m\u001b[0;34m\u001b[0m\u001b[0;34m\u001b[0m\u001b[0m\n",
      "\u001b[0;32m~/miniconda3/envs/morphct-ex/lib/python3.7/multiprocessing/pool.py\u001b[0m in \u001b[0;36mmap\u001b[0;34m(self, func, iterable, chunksize)\u001b[0m\n\u001b[1;32m    266\u001b[0m         \u001b[0;32min\u001b[0m \u001b[0ma\u001b[0m \u001b[0mlist\u001b[0m \u001b[0mthat\u001b[0m \u001b[0;32mis\u001b[0m \u001b[0mreturned\u001b[0m\u001b[0;34m.\u001b[0m\u001b[0;34m\u001b[0m\u001b[0;34m\u001b[0m\u001b[0m\n\u001b[1;32m    267\u001b[0m         '''\n\u001b[0;32m--> 268\u001b[0;31m         \u001b[0;32mreturn\u001b[0m \u001b[0mself\u001b[0m\u001b[0;34m.\u001b[0m\u001b[0m_map_async\u001b[0m\u001b[0;34m(\u001b[0m\u001b[0mfunc\u001b[0m\u001b[0;34m,\u001b[0m \u001b[0miterable\u001b[0m\u001b[0;34m,\u001b[0m \u001b[0mmapstar\u001b[0m\u001b[0;34m,\u001b[0m \u001b[0mchunksize\u001b[0m\u001b[0;34m)\u001b[0m\u001b[0;34m.\u001b[0m\u001b[0mget\u001b[0m\u001b[0;34m(\u001b[0m\u001b[0;34m)\u001b[0m\u001b[0;34m\u001b[0m\u001b[0;34m\u001b[0m\u001b[0m\n\u001b[0m\u001b[1;32m    269\u001b[0m \u001b[0;34m\u001b[0m\u001b[0m\n\u001b[1;32m    270\u001b[0m     \u001b[0;32mdef\u001b[0m \u001b[0mstarmap\u001b[0m\u001b[0;34m(\u001b[0m\u001b[0mself\u001b[0m\u001b[0;34m,\u001b[0m \u001b[0mfunc\u001b[0m\u001b[0;34m,\u001b[0m \u001b[0miterable\u001b[0m\u001b[0;34m,\u001b[0m \u001b[0mchunksize\u001b[0m\u001b[0;34m=\u001b[0m\u001b[0;32mNone\u001b[0m\u001b[0;34m)\u001b[0m\u001b[0;34m:\u001b[0m\u001b[0;34m\u001b[0m\u001b[0;34m\u001b[0m\u001b[0m\n",
      "\u001b[0;32m~/miniconda3/envs/morphct-ex/lib/python3.7/multiprocessing/pool.py\u001b[0m in \u001b[0;36mget\u001b[0;34m(self, timeout)\u001b[0m\n\u001b[1;32m    655\u001b[0m             \u001b[0;32mreturn\u001b[0m \u001b[0mself\u001b[0m\u001b[0;34m.\u001b[0m\u001b[0m_value\u001b[0m\u001b[0;34m\u001b[0m\u001b[0;34m\u001b[0m\u001b[0m\n\u001b[1;32m    656\u001b[0m         \u001b[0;32melse\u001b[0m\u001b[0;34m:\u001b[0m\u001b[0;34m\u001b[0m\u001b[0;34m\u001b[0m\u001b[0m\n\u001b[0;32m--> 657\u001b[0;31m             \u001b[0;32mraise\u001b[0m \u001b[0mself\u001b[0m\u001b[0;34m.\u001b[0m\u001b[0m_value\u001b[0m\u001b[0;34m\u001b[0m\u001b[0;34m\u001b[0m\u001b[0m\n\u001b[0m\u001b[1;32m    658\u001b[0m \u001b[0;34m\u001b[0m\u001b[0m\n\u001b[1;32m    659\u001b[0m     \u001b[0;32mdef\u001b[0m \u001b[0m_set\u001b[0m\u001b[0;34m(\u001b[0m\u001b[0mself\u001b[0m\u001b[0;34m,\u001b[0m \u001b[0mi\u001b[0m\u001b[0;34m,\u001b[0m \u001b[0mobj\u001b[0m\u001b[0;34m)\u001b[0m\u001b[0;34m:\u001b[0m\u001b[0;34m\u001b[0m\u001b[0;34m\u001b[0m\u001b[0m\n",
      "\u001b[0;31mRuntimeError\u001b[0m: Electron number 871 and spin 0 are not consistent\nNote mol.spin = 2S = Nalpha - Nbeta, not 2S+1"
     ]
    }
   ],
   "source": [
    "%%time\n",
    "dimer_data = eqcc.dimer_homolumo(qcc_pairs, \"two-molecule-test.txt\")"
   ]
  },
  {
   "cell_type": "code",
   "execution_count": null,
   "id": "8049eb64",
   "metadata": {},
   "outputs": [],
   "source": [
    "%%time\n",
    "data = eqcc.singles_homolumo(chromo_list, \"singles.txt\")"
   ]
  },
  {
   "cell_type": "code",
   "execution_count": null,
   "id": "43c27829",
   "metadata": {},
   "outputs": [],
   "source": [
    "%%time\n",
    "eqcc.set_energyvalues(chromo_list, \"singles.txt\", \"two-molecule-test.txt\")"
   ]
  },
  {
   "cell_type": "code",
   "execution_count": null,
   "id": "c022c483",
   "metadata": {},
   "outputs": [],
   "source": [
    "print(chromo_list)"
   ]
  },
  {
   "cell_type": "code",
   "execution_count": null,
   "id": "79825794",
   "metadata": {},
   "outputs": [],
   "source": [
    "i = 0\n",
    "chromo = chromo_list[i]\n",
    "print(f\"Chromophore {i}:\")\n",
    "print(f\"HOMO-1: {chromo.homo_1:.2f} HOMO: {chromo.homo:.2f} LUMO: {chromo.lumo:.2f} LUMO+1: {chromo.lumo_1:.2f}\")\n",
    "print(f\"{len(chromo.neighbors)} neighbors\")\n",
    "print(f\"DeltaE of first neighbor: {chromo.neighbors_delta_e[0]:.3f}\")\n",
    "print(f\"Transfer integral of first neighbor: {chromo.neighbors_ti[0]:.3f}\")"
   ]
  },
  {
   "cell_type": "code",
   "execution_count": null,
   "id": "8077c2ce",
   "metadata": {},
   "outputs": [],
   "source": []
  },
  {
   "cell_type": "code",
   "execution_count": null,
   "id": "3d5ed038",
   "metadata": {},
   "outputs": [],
   "source": []
  }
 ],
 "metadata": {
  "kernelspec": {
   "display_name": "Python 3",
   "language": "python",
   "name": "python3"
  },
  "language_info": {
   "codemirror_mode": {
    "name": "ipython",
    "version": 3
   },
   "file_extension": ".py",
   "mimetype": "text/x-python",
   "name": "python",
   "nbconvert_exporter": "python",
   "pygments_lexer": "ipython3",
   "version": "3.7.10"
  }
 },
 "nbformat": 4,
 "nbformat_minor": 5
}

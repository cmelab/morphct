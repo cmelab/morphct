{
 "cells": [
  {
   "cell_type": "markdown",
   "id": "8eefd2f3",
   "metadata": {},
   "source": [
    "# notebook for choosing chromo indeces\n",
    "\n"
   ]
  },
  {
   "cell_type": "markdown",
   "id": "422b1c59",
   "metadata": {},
   "source": [
    "First let's import necessary modules and define a couple of useful functions for visualization:"
   ]
  },
  {
   "cell_type": "code",
   "execution_count": 1,
   "id": "b9c08ee1",
   "metadata": {
    "tags": []
   },
   "outputs": [
    {
     "name": "stderr",
     "output_type": "stream",
     "text": [
      "/Users/jimmy/miniconda3/envs/morphct-ex/lib/python3.7/site-packages/h5py/__init__.py:46: DeprecationWarning: `np.typeDict` is a deprecated alias for `np.sctypeDict`.\n",
      "  from ._conv import register_converters as _register_converters\n"
     ]
    }
   ],
   "source": [
    "from copy import deepcopy\n",
    "import os\n",
    "import multiprocessing as mp\n",
    "import re\n",
    "import gsd.hoomd\n",
    "import mbuild as mb\n",
    "import numpy as np\n",
    "import gsd.pygsd\n",
    "from morphct import execute_qcc as eqcc\n",
    "from morphct import mobility_kmc as kmc\n",
    "from morphct import chromophores\n",
    "from morphct import kmc_analyze\n",
    "from morphct.chromophores import conversion_dict\n",
    "from morphct.chromophores import amber_dict\n",
    "from morphct.mobility_kmc import snap_molecule_indices\n",
    "\n",
    "def visualize_qcc_input(qcc_input):\n",
    "    \"\"\"\n",
    "    Visualize a quantum chemical input string (for pyscf) using mbuild.\n",
    "    \n",
    "    Parameters\n",
    "    ----------\n",
    "    qcc_input : str\n",
    "        Input string to visualize\n",
    "    \"\"\"\n",
    "    comp = mb.Compound()\n",
    "    for line in qcc_input.split(\";\")[:-1]:\n",
    "        atom, x, y, z = line.split()\n",
    "        xyz = np.array([x,y,z], dtype=float)\n",
    "        # Angstrom -> nm\n",
    "        xyz /= 10\n",
    "        comp.add(mb.Particle(name=atom,pos=xyz))\n",
    "    comp.visualize().show()\n",
    "    \n",
    "def from_snapshot(snapshot, scale=1.0):\n",
    "    \"\"\"\n",
    "    Convert a hoomd.data.Snapshot or a gsd.hoomd.Snapshot to an\n",
    "    mbuild Compound.\n",
    "    \n",
    "    Parameters\n",
    "    ----------\n",
    "    snapshot : hoomd.data.SnapshotParticleData or gsd.hoomd.Snapshot\n",
    "        Snapshot from which to build the mbuild Compound.\n",
    "    scale : float, optional, default 1.0\n",
    "        Value by which to scale the length values\n",
    "        \n",
    "    Returns\n",
    "    -------\n",
    "    comp : mb.Compound\n",
    "    \"\"\"\n",
    "    comp = mb.Compound()\n",
    "    bond_array = snapshot.bonds.group\n",
    "    n_atoms = snapshot.particles.N\n",
    "\n",
    "    # There will be a better way to do this once box overhaul merged\n",
    "    try:\n",
    "        # gsd\n",
    "        box = snapshot.configuration.box\n",
    "        comp.box = mb.box.Box(lengths=box[:3] * scale)\n",
    "    except AttributeError:\n",
    "        # hoomd\n",
    "        box = snapshot.box\n",
    "        comp.box = mb.box.Box(lengths=np.array([box.Lx,box.Ly,box.Lz]) * scale)\n",
    "\n",
    "    # to_hoomdsnapshot shifts the coords, this will keep consistent\n",
    "    shift = np.array(comp.box.lengths)/2\n",
    "    # Add particles\n",
    "    for i in range(n_atoms):\n",
    "        name = snapshot.particles.types[snapshot.particles.typeid[i]]\n",
    "        xyz = snapshot.particles.position[i] * scale + shift\n",
    "        charge = snapshot.particles.charge[i]\n",
    "\n",
    "        atom = mb.Particle(name=name, pos=xyz, charge=charge)\n",
    "        comp.add(atom, label=str(i))\n",
    "\n",
    "    # Add bonds\n",
    "    particle_dict = {idx: p for idx, p in enumerate(comp.particles())}\n",
    "    for i in range(bond_array.shape[0]):\n",
    "        atom1 = int(bond_array[i][0])\n",
    "        atom2 = int(bond_array[i][1])\n",
    "        comp.add_bond([particle_dict[atom1], particle_dict[atom2]])\n",
    "    return comp\n",
    "\n",
    "\n",
    "\n",
    "def vmd_index_slicer(filepath):\n",
    "    with open(filepath, \"r\") as f:\n",
    "        index_ids = f.readlines()\n",
    "    numbers = []\n",
    "    \n",
    "    for line in index_ids:\n",
    "        thing = re.findall(\"\\/([0-9]+)(?=[^\\/]*$)\", line)\n",
    "        try:\n",
    "            numbers.append(int(thing[0]))\n",
    "        except:\n",
    "            pass\n",
    "        \n",
    "    indeces=[]\n",
    "    \n",
    "    for i in numbers:\n",
    "        if i not in indeces:\n",
    "            indeces.append(i)\n",
    "            \n",
    "    return(indeces)\n",
    "\n",
    "warnings.filterwarnings('ignore')\n",
    "warnings.simplefilter('ignore')"
   ]
  },
  {
   "cell_type": "code",
   "execution_count": 2,
   "id": "62cd86be",
   "metadata": {},
   "outputs": [],
   "source": [
    "gsd_file = \"/Users/jimmy/cmelab/data/ITIC/887c520f567aa40dd310a8e1e0c0d6c4/trajectory.gsd\"\n",
    "\n",
    "with gsd.hoomd.open(name=gsd_file, mode='rb') as f:\n",
    "    start_snap = f[0]\n",
    "    end_snap = f[-1]\n",
    "\n",
    "    \n",
    "\n",
    "ref_distance = 3.563594872561358\n",
    "\n",
    "start_snap.particles.position *= ref_distance\n",
    "start_snap.configuration.box[:3] *= ref_distance\n",
    "end_snap.particles.position *= ref_distance\n",
    "end_snap.configuration.box[:3] *= ref_distance\n",
    "\n",
    "box = start_snap.configuration.box[:3]\n",
    "#unwrapped_positions = start_snap.particles.position + start_snap.particles.image * box\n",
    "#unwrap_snap = deepcopy(start_snap)\n",
    "#unwrap_snap.particles.position = unwrapped_positions\n",
    "#unwrap_snap.particles.types = [amber_dict[i].symbol for i in start_snap.particles.types]\n",
    "#comp = from_snapshot(unwrap_snap, scale=0.1)\n",
    "#comp.visualize().show()\n",
    "\n"
   ]
  },
  {
   "cell_type": "code",
   "execution_count": 3,
   "id": "1f4c0732",
   "metadata": {},
   "outputs": [
    {
     "name": "stdout",
     "output_type": "stream",
     "text": [
      "[708.5166 708.5166 708.5166   0.       0.       0.    ]\n",
      "[141.70389 141.70389 141.70389   0.        0.        0.     ]\n"
     ]
    }
   ],
   "source": [
    "print(start_snap.configuration.box)\n",
    "print(end_snap.configuration.box)"
   ]
  },
  {
   "cell_type": "code",
   "execution_count": 12,
   "id": "f9d7ce1a",
   "metadata": {
    "tags": []
   },
   "outputs": [
    {
     "name": "stdout",
     "output_type": "stream",
     "text": [
      "[101 102 103  91  92 100  99  97  95  96  98  93  89  90  94  88  86  85\n",
      "  87  59  60  58  57  55  56  52  53  51  54  25  26  24  23  21  18  22\n",
      "  19  17  20  16  15   7   8   9   3   4   6  10  12  14  11  13   5   0\n",
      "   1   2]\n"
     ]
    }
   ],
   "source": [
    "indeces = vmd_index_slicer(\"/Users/jimmy/cmelab/data/ITIC/887c520f567aa40dd310a8e1e0c0d6c4/backbone_ids.txt\")\n",
    "gsd_mol_index = snap_molecule_indices(start_snap)\n",
    "k = np.count_nonzero(gsd_mol_index==1)\n",
    "for i in range(len(indeces)):\n",
    "    indeces[i] = indeces[i]%k\n",
    "chromo_ids = np.array(indeces)\n",
    "print(chromo_ids)"
   ]
  },
  {
   "cell_type": "markdown",
   "id": "da049508",
   "metadata": {
    "tags": []
   },
   "source": [
    "below takes the ids for random molecule and retures the first molecule ids"
   ]
  },
  {
   "cell_type": "markdown",
   "id": "07244f68",
   "metadata": {},
   "source": [
    "the guts for doin this live in the intramolecular notebook which i guess i didnt push???? come back to it latter"
   ]
  },
  {
   "cell_type": "code",
   "execution_count": 5,
   "id": "e8c9e879",
   "metadata": {},
   "outputs": [],
   "source": [
    "chromo2_ids = chromo_ids + k"
   ]
  },
  {
   "cell_type": "code",
   "execution_count": 6,
   "id": "5043cc87",
   "metadata": {},
   "outputs": [],
   "source": [
    "aaids=[]"
   ]
  },
  {
   "cell_type": "code",
   "execution_count": 7,
   "id": "c3617f4a",
   "metadata": {},
   "outputs": [],
   "source": [
    "chromo2_ids = chromo2_ids + k"
   ]
  },
  {
   "cell_type": "code",
   "execution_count": 8,
   "id": "5f7943fe",
   "metadata": {},
   "outputs": [],
   "source": [
    "aaids.append(chromo_ids)\n",
    "aaids.append(chromo2_ids)"
   ]
  },
  {
   "cell_type": "code",
   "execution_count": 9,
   "id": "68ec458b",
   "metadata": {},
   "outputs": [
    {
     "name": "stdout",
     "output_type": "stream",
     "text": [
      "[array([101, 102, 103,  91,  92, 100,  99,  97,  95,  96,  98,  93,  89,\n",
      "        90,  94,  88,  86,  85,  87,  59,  60,  58,  57,  55,  56,  52,\n",
      "        53,  51,  54,  25,  26,  24,  23,  21,  18,  22,  19,  17,  20,\n",
      "        16,  15,   7,   8,   9,   3,   4,   6,  10,  12,  14,  11,  13,\n",
      "         5,   0,   1,   2]), array([309, 310, 311, 299, 300, 308, 307, 305, 303, 304, 306, 301, 297,\n",
      "       298, 302, 296, 294, 293, 295, 267, 268, 266, 265, 263, 264, 260,\n",
      "       261, 259, 262, 233, 234, 232, 231, 229, 226, 230, 227, 225, 228,\n",
      "       224, 223, 215, 216, 217, 211, 212, 214, 218, 220, 222, 219, 221,\n",
      "       213, 208, 209, 210])]\n"
     ]
    }
   ],
   "source": [
    "print(aaids)"
   ]
  },
  {
   "cell_type": "code",
   "execution_count": 13,
   "id": "cf597cf5",
   "metadata": {},
   "outputs": [],
   "source": [
    "master_list = []\n",
    "sublist = chromo_ids\n",
    "for i in range(len(np.unique(gsd_mol_index))):         \n",
    "    master_list.append(sublist)\n",
    "    sublist = [x + k for x in sublist]"
   ]
  },
  {
   "cell_type": "code",
   "execution_count": 14,
   "id": "ec8c2602",
   "metadata": {},
   "outputs": [
    {
     "ename": "NameError",
     "evalue": "name 'aaid' is not defined",
     "output_type": "error",
     "traceback": [
      "\u001b[0;31m---------------------------------------------------------------------------\u001b[0m",
      "\u001b[0;31mNameError\u001b[0m                                 Traceback (most recent call last)",
      "\u001b[0;32m<ipython-input-14-1aeafee5f0b3>\u001b[0m in \u001b[0;36m<module>\u001b[0;34m\u001b[0m\n\u001b[1;32m      1\u001b[0m \u001b[0mchromo_list\u001b[0m \u001b[0;34m=\u001b[0m \u001b[0;34m[\u001b[0m\u001b[0;34m]\u001b[0m\u001b[0;34m\u001b[0m\u001b[0;34m\u001b[0m\u001b[0m\n\u001b[1;32m      2\u001b[0m \u001b[0;32mfor\u001b[0m \u001b[0mi\u001b[0m\u001b[0;34m,\u001b[0m\u001b[0mmaster_list\u001b[0m \u001b[0;32min\u001b[0m \u001b[0menumerate\u001b[0m\u001b[0;34m(\u001b[0m\u001b[0mmaster_list\u001b[0m\u001b[0;34m)\u001b[0m\u001b[0;34m:\u001b[0m\u001b[0;34m\u001b[0m\u001b[0;34m\u001b[0m\u001b[0m\n\u001b[0;32m----> 3\u001b[0;31m     \u001b[0mchromo_list\u001b[0m\u001b[0;34m.\u001b[0m\u001b[0mappend\u001b[0m\u001b[0;34m(\u001b[0m\u001b[0mchromophores\u001b[0m\u001b[0;34m.\u001b[0m\u001b[0mChromophore\u001b[0m\u001b[0;34m(\u001b[0m\u001b[0mi\u001b[0m\u001b[0;34m,\u001b[0m \u001b[0mstart_snap\u001b[0m\u001b[0;34m,\u001b[0m \u001b[0maaid\u001b[0m\u001b[0;34m,\u001b[0m \u001b[0;34m\"acceptor\"\u001b[0m\u001b[0;34m,\u001b[0m \u001b[0mamber_dict\u001b[0m\u001b[0;34m)\u001b[0m\u001b[0;34m)\u001b[0m\u001b[0;34m\u001b[0m\u001b[0;34m\u001b[0m\u001b[0m\n\u001b[0m",
      "\u001b[0;31mNameError\u001b[0m: name 'aaid' is not defined"
     ]
    }
   ],
   "source": [
    "chromo_list = []\n",
    "for i,master_list in enumerate(master_list):\n",
    "    chromo_list.append(chromophores.Chromophore(i, start_snap, aaid, \"acceptor\", amber_dict))"
   ]
  },
  {
   "cell_type": "code",
   "execution_count": 15,
   "id": "24ba64a1",
   "metadata": {
    "tags": []
   },
   "outputs": [
    {
     "ename": "ValueError",
     "evalue": "array.ndim = 1; expected ndim = 2",
     "output_type": "error",
     "traceback": [
      "\u001b[0;31m---------------------------------------------------------------------------\u001b[0m",
      "\u001b[0;31mValueError\u001b[0m                                Traceback (most recent call last)",
      "\u001b[0;32m<ipython-input-15-128df85fb747>\u001b[0m in \u001b[0;36m<module>\u001b[0;34m\u001b[0m\n\u001b[0;32m----> 1\u001b[0;31m \u001b[0mqcc_pairs\u001b[0m \u001b[0;34m=\u001b[0m \u001b[0mchromophores\u001b[0m\u001b[0;34m.\u001b[0m\u001b[0mset_neighbors_voronoi\u001b[0m\u001b[0;34m(\u001b[0m\u001b[0mchromo_list\u001b[0m\u001b[0;34m,\u001b[0m \u001b[0mend_snap\u001b[0m\u001b[0;34m,\u001b[0m \u001b[0mamber_dict\u001b[0m\u001b[0;34m,\u001b[0m \u001b[0md_cut\u001b[0m\u001b[0;34m=\u001b[0m\u001b[0mmin\u001b[0m\u001b[0;34m(\u001b[0m\u001b[0mbox\u001b[0m\u001b[0;34m)\u001b[0m\u001b[0;34m/\u001b[0m\u001b[0;36m2\u001b[0m\u001b[0;34m)\u001b[0m\u001b[0;34m\u001b[0m\u001b[0;34m\u001b[0m\u001b[0m\n\u001b[0m\u001b[1;32m      2\u001b[0m \u001b[0mprint\u001b[0m\u001b[0;34m(\u001b[0m\u001b[0;34mf\"There are {len(qcc_pairs)} chromophore pairs\"\u001b[0m\u001b[0;34m)\u001b[0m\u001b[0;34m\u001b[0m\u001b[0;34m\u001b[0m\u001b[0m\n",
      "\u001b[0;32m~/miniconda3/envs/morphct-ex/lib/python3.7/site-packages/morphct/chromophores.py\u001b[0m in \u001b[0;36mset_neighbors_voronoi\u001b[0;34m(chromo_list, snap, conversion_dict, d_cut)\u001b[0m\n\u001b[1;32m    284\u001b[0m     \u001b[0mfreudbox\u001b[0m \u001b[0;34m=\u001b[0m \u001b[0mfreud\u001b[0m\u001b[0;34m.\u001b[0m\u001b[0mbox\u001b[0m\u001b[0;34m.\u001b[0m\u001b[0mBox\u001b[0m\u001b[0;34m(\u001b[0m\u001b[0;34m*\u001b[0m\u001b[0msnap\u001b[0m\u001b[0;34m.\u001b[0m\u001b[0mconfiguration\u001b[0m\u001b[0;34m.\u001b[0m\u001b[0mbox\u001b[0m\u001b[0;34m)\u001b[0m\u001b[0;34m\u001b[0m\u001b[0;34m\u001b[0m\u001b[0m\n\u001b[1;32m    285\u001b[0m     \u001b[0mcenters\u001b[0m \u001b[0;34m=\u001b[0m \u001b[0;34m[\u001b[0m\u001b[0mchromo\u001b[0m\u001b[0;34m.\u001b[0m\u001b[0mcenter\u001b[0m \u001b[0;32mfor\u001b[0m \u001b[0mchromo\u001b[0m \u001b[0;32min\u001b[0m \u001b[0mchromo_list\u001b[0m\u001b[0;34m]\u001b[0m\u001b[0;34m\u001b[0m\u001b[0;34m\u001b[0m\u001b[0m\n\u001b[0;32m--> 286\u001b[0;31m     \u001b[0mvoronoi\u001b[0m\u001b[0;34m.\u001b[0m\u001b[0mcompute\u001b[0m\u001b[0;34m(\u001b[0m\u001b[0;34m(\u001b[0m\u001b[0mfreudbox\u001b[0m\u001b[0;34m,\u001b[0m \u001b[0mcenters\u001b[0m\u001b[0;34m)\u001b[0m\u001b[0;34m)\u001b[0m\u001b[0;34m\u001b[0m\u001b[0;34m\u001b[0m\u001b[0m\n\u001b[0m\u001b[1;32m    287\u001b[0m \u001b[0;34m\u001b[0m\u001b[0m\n\u001b[1;32m    288\u001b[0m     \u001b[0mbox\u001b[0m \u001b[0;34m=\u001b[0m \u001b[0msnap\u001b[0m\u001b[0;34m.\u001b[0m\u001b[0mconfiguration\u001b[0m\u001b[0;34m.\u001b[0m\u001b[0mbox\u001b[0m\u001b[0;34m[\u001b[0m\u001b[0;34m:\u001b[0m\u001b[0;36m3\u001b[0m\u001b[0;34m]\u001b[0m\u001b[0;34m\u001b[0m\u001b[0;34m\u001b[0m\u001b[0m\n",
      "\u001b[0;32mutil.pyx\u001b[0m in \u001b[0;36mfreud.util._Compute.__getattribute__.compute_wrapper\u001b[0;34m()\u001b[0m\n",
      "\u001b[0;32mlocality.pyx\u001b[0m in \u001b[0;36mfreud.locality.Voronoi.compute\u001b[0;34m()\u001b[0m\n",
      "\u001b[0;32mlocality.pyx\u001b[0m in \u001b[0;36mfreud.locality.NeighborQuery.from_system\u001b[0;34m()\u001b[0m\n",
      "\u001b[0;32mlocality.pyx\u001b[0m in \u001b[0;36mfreud.locality._RawPoints.__cinit__\u001b[0;34m()\u001b[0m\n",
      "\u001b[0;32mutil.pyx\u001b[0m in \u001b[0;36mfreud.util._convert_array\u001b[0;34m()\u001b[0m\n",
      "\u001b[0;31mValueError\u001b[0m: array.ndim = 1; expected ndim = 2"
     ]
    }
   ],
   "source": [
    "qcc_pairs = chromophores.set_neighbors_voronoi(chromo_list, end_snap, amber_dict, d_cut=min(box)/2)\n",
    "print(f\"There are {len(qcc_pairs)} chromophore pairs\")"
   ]
  },
  {
   "cell_type": "code",
   "execution_count": null,
   "id": "63e8bfb7",
   "metadata": {
    "scrolled": true,
    "tags": []
   },
   "outputs": [],
   "source": [
    "print(chromo_list)"
   ]
  },
  {
   "cell_type": "code",
   "execution_count": null,
   "id": "e18a7acd",
   "metadata": {},
   "outputs": [],
   "source": [
    "qcc_input = eqcc.write_qcc_inp(end_snap, chromo2_ids, amber_dict)\n",
    "homolumo = eqcc.get_homolumo(qcc_input)\n",
    "print(\"HOMO-1, HOMO, LUMO, LUMO+1\")\n",
    "print(homolumo)\n",
    "visualize_qcc_input(qcc_input)"
   ]
  },
  {
   "cell_type": "code",
   "execution_count": null,
   "id": "9ed18c8b",
   "metadata": {},
   "outputs": [],
   "source": [
    "i =  0# try any number from 0 to 180\n",
    "print(f\"Pair #{i}:\")\n",
    "visualize_qcc_input(qcc_pairs[i][1])"
   ]
  },
  {
   "cell_type": "code",
   "execution_count": null,
   "id": "8934970a",
   "metadata": {},
   "outputs": [],
   "source": [
    "%%time\n",
    "dimer_data = eqcc.dimer_homolumo(qcc_pairs, \"two-molecule-test.txt\")"
   ]
  },
  {
   "cell_type": "code",
   "execution_count": null,
   "id": "4c16433d",
   "metadata": {},
   "outputs": [],
   "source": [
    "%%time\n",
    "data = eqcc.singles_homolumo(chromo_list, \"singles.txt\")"
   ]
  },
  {
   "cell_type": "code",
   "execution_count": null,
   "id": "48f475c4",
   "metadata": {},
   "outputs": [],
   "source": [
    "%%time\n",
    "eqcc.set_energyvalues(chromo_list, \"singles.txt\", \"two-molecule-test.txt\")"
   ]
  },
  {
   "cell_type": "code",
   "execution_count": null,
   "id": "f2dd0eb6",
   "metadata": {},
   "outputs": [],
   "source": [
    "print(chromo_list)"
   ]
  },
  {
   "cell_type": "code",
   "execution_count": null,
   "id": "fba735c9",
   "metadata": {},
   "outputs": [],
   "source": [
    "i = 0\n",
    "chromo = chromo_list[i]\n",
    "print(f\"Chromophore {i}:\")\n",
    "print(f\"HOMO-1: {chromo.homo_1:.2f} HOMO: {chromo.homo:.2f} LUMO: {chromo.lumo:.2f} LUMO+1: {chromo.lumo_1:.2f}\")\n",
    "print(f\"{len(chromo.neighbors)} neighbors\")\n",
    "print(f\"DeltaE of first neighbor: {chromo.neighbors_delta_e[0]:.3f}\")\n",
    "print(f\"Transfer integral of first neighbor: {chromo.neighbors_ti[0]:.3f}\")"
   ]
  },
  {
   "cell_type": "code",
   "execution_count": null,
   "id": "e2b1f66a",
   "metadata": {},
   "outputs": [],
   "source": []
  },
  {
   "cell_type": "code",
   "execution_count": null,
   "id": "e98c9c40",
   "metadata": {},
   "outputs": [],
   "source": []
  }
 ],
 "metadata": {
  "kernelspec": {
   "display_name": "Python 3",
   "language": "python",
   "name": "python3"
  },
  "language_info": {
   "codemirror_mode": {
    "name": "ipython",
    "version": 3
   },
   "file_extension": ".py",
   "mimetype": "text/x-python",
   "name": "python",
   "nbconvert_exporter": "python",
   "pygments_lexer": "ipython3",
   "version": "3.7.10"
  }
 },
 "nbformat": 4,
 "nbformat_minor": 5
}

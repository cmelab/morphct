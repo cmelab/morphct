{
 "cells": [
  {
   "cell_type": "code",
   "execution_count": 1,
   "id": "c44c79d1",
   "metadata": {
    "tags": []
   },
   "outputs": [
    {
     "name": "stderr",
     "output_type": "stream",
     "text": [
      "/Users/jimmy/miniconda3/envs/morphct-ex/lib/python3.7/site-packages/h5py/__init__.py:46: DeprecationWarning: `np.typeDict` is a deprecated alias for `np.sctypeDict`.\n",
      "  from ._conv import register_converters as _register_converters\n"
     ]
    }
   ],
   "source": [
    "from copy import deepcopy\n",
    "import os\n",
    "import multiprocessing as mp\n",
    "\n",
    "import gsd.hoomd\n",
    "import mbuild as mb\n",
    "import numpy as np\n",
    "import gsd.pygsd\n",
    "from morphct import execute_qcc as eqcc\n",
    "from morphct import mobility_kmc as kmc\n",
    "from morphct import chromophores\n",
    "from morphct import kmc_analyze\n",
    "from morphct.chromophores import conversion_dict\n",
    "from morphct.chromophores import amber_dict\n",
    "\n",
    "def visualize_qcc_input(qcc_input):\n",
    "    \"\"\"\n",
    "    Visualize a quantum chemical input string (for pyscf) using mbuild.\n",
    "    \n",
    "    Parameters\n",
    "    ----------\n",
    "    qcc_input : str\n",
    "        Input string to visualize\n",
    "    \"\"\"\n",
    "    comp = mb.Compound()\n",
    "    for line in qcc_input.split(\";\")[:-1]:\n",
    "        atom, x, y, z = line.split()\n",
    "        xyz = np.array([x,y,z], dtype=float)\n",
    "        # Angstrom -> nm\n",
    "        xyz /= 10\n",
    "        comp.add(mb.Particle(name=atom,pos=xyz))\n",
    "    comp.visualize().show()\n",
    "    \n",
    "def from_snapshot(snapshot, scale=1.0):\n",
    "    \"\"\"\n",
    "    Convert a hoomd.data.Snapshot or a gsd.hoomd.Snapshot to an\n",
    "    mbuild Compound.\n",
    "    \n",
    "    Parameters\n",
    "    ----------\n",
    "    snapshot : hoomd.data.SnapshotParticleData or gsd.hoomd.Snapshot\n",
    "        Snapshot from which to build the mbuild Compound.\n",
    "    scale : float, optional, default 1.0\n",
    "        Value by which to scale the length values\n",
    "        \n",
    "    Returns\n",
    "    -------\n",
    "    comp : mb.Compound\n",
    "    \"\"\"\n",
    "    comp = mb.Compound()\n",
    "    bond_array = snapshot.bonds.group\n",
    "    n_atoms = snapshot.particles.N\n",
    "\n",
    "    # There will be a better way to do this once box overhaul merged\n",
    "    try:\n",
    "        # gsd\n",
    "        box = snapshot.configuration.box\n",
    "        comp.box = mb.box.Box(lengths=box[:3] * scale)\n",
    "    except AttributeError:\n",
    "        # hoomd\n",
    "        box = snapshot.box\n",
    "        comp.box = mb.box.Box(lengths=np.array([box.Lx,box.Ly,box.Lz]) * scale)\n",
    "\n",
    "    # to_hoomdsnapshot shifts the coords, this will keep consistent\n",
    "    shift = np.array(comp.box.lengths)/2\n",
    "    # Add particles\n",
    "    for i in range(n_atoms):\n",
    "        name = snapshot.particles.types[snapshot.particles.typeid[i]]\n",
    "        xyz = snapshot.particles.position[i] * scale + shift\n",
    "        charge = snapshot.particles.charge[i]\n",
    "\n",
    "        atom = mb.Particle(name=name, pos=xyz, charge=charge)\n",
    "        comp.add(atom, label=str(i))\n",
    "\n",
    "    # Add bonds\n",
    "    particle_dict = {idx: p for idx, p in enumerate(comp.particles())}\n",
    "    for i in range(bond_array.shape[0]):\n",
    "        atom1 = int(bond_array[i][0])\n",
    "        atom2 = int(bond_array[i][1])\n",
    "        comp.add_bond([particle_dict[atom1], particle_dict[atom2]])\n",
    "    return comp\n",
    "import warnings\n",
    "warnings.filterwarnings('ignore')\n",
    "warnings.simplefilter('ignore')"
   ]
  },
  {
   "cell_type": "markdown",
   "id": "03756bde",
   "metadata": {},
   "source": [
    "ceating a list of transfer integrals. the data set is 100 gsd with 2 thiophene\n",
    "rings filled randomly in a box of 10^3 angstroms. they arent allowed to be within 2 angstroms of each other."
   ]
  },
  {
   "cell_type": "code",
   "execution_count": 2,
   "id": "24401a78",
   "metadata": {
    "scrolled": true,
    "tags": []
   },
   "outputs": [
    {
     "name": "stdout",
     "output_type": "stream",
     "text": [
      "[10. 10. 10.  0.  0.  0.]\n",
      "[10. 10. 10.  0.  0.  0.]\n",
      "[10. 10. 10.  0.  0.  0.]\n",
      "[10. 10. 10.  0.  0.  0.]\n",
      "[10. 10. 10.  0.  0.  0.]\n",
      "[10. 10. 10.  0.  0.  0.]\n",
      "[10. 10. 10.  0.  0.  0.]\n",
      "[10. 10. 10.  0.  0.  0.]\n",
      "[10. 10. 10.  0.  0.  0.]\n",
      "[10. 10. 10.  0.  0.  0.]\n",
      "[10. 10. 10.  0.  0.  0.]\n",
      "[10. 10. 10.  0.  0.  0.]\n",
      "[10. 10. 10.  0.  0.  0.]\n",
      "[10. 10. 10.  0.  0.  0.]\n",
      "[10. 10. 10.  0.  0.  0.]\n",
      "[10. 10. 10.  0.  0.  0.]\n",
      "[10. 10. 10.  0.  0.  0.]\n",
      "[10. 10. 10.  0.  0.  0.]\n",
      "[10. 10. 10.  0.  0.  0.]\n",
      "[10. 10. 10.  0.  0.  0.]\n",
      "[10. 10. 10.  0.  0.  0.]\n",
      "[10. 10. 10.  0.  0.  0.]\n",
      "[10. 10. 10.  0.  0.  0.]\n",
      "[10. 10. 10.  0.  0.  0.]\n",
      "[10. 10. 10.  0.  0.  0.]\n",
      "[10. 10. 10.  0.  0.  0.]\n",
      "[10. 10. 10.  0.  0.  0.]\n",
      "[10. 10. 10.  0.  0.  0.]\n",
      "[10. 10. 10.  0.  0.  0.]\n",
      "[10. 10. 10.  0.  0.  0.]\n",
      "[10. 10. 10.  0.  0.  0.]\n",
      "[10. 10. 10.  0.  0.  0.]\n",
      "[10. 10. 10.  0.  0.  0.]\n",
      "[10. 10. 10.  0.  0.  0.]\n",
      "[10. 10. 10.  0.  0.  0.]\n",
      "[10. 10. 10.  0.  0.  0.]\n",
      "[10. 10. 10.  0.  0.  0.]\n",
      "[10. 10. 10.  0.  0.  0.]\n",
      "[10. 10. 10.  0.  0.  0.]\n",
      "[10. 10. 10.  0.  0.  0.]\n",
      "[10. 10. 10.  0.  0.  0.]\n",
      "[10. 10. 10.  0.  0.  0.]\n",
      "[10. 10. 10.  0.  0.  0.]\n",
      "[10. 10. 10.  0.  0.  0.]\n",
      "[10. 10. 10.  0.  0.  0.]\n",
      "[10. 10. 10.  0.  0.  0.]\n",
      "[10. 10. 10.  0.  0.  0.]\n",
      "[10. 10. 10.  0.  0.  0.]\n",
      "[10. 10. 10.  0.  0.  0.]\n",
      "[10. 10. 10.  0.  0.  0.]\n",
      "[10. 10. 10.  0.  0.  0.]\n",
      "[10. 10. 10.  0.  0.  0.]\n",
      "[10. 10. 10.  0.  0.  0.]\n",
      "[10. 10. 10.  0.  0.  0.]\n",
      "[10. 10. 10.  0.  0.  0.]\n",
      "[10. 10. 10.  0.  0.  0.]\n",
      "[10. 10. 10.  0.  0.  0.]\n",
      "[10. 10. 10.  0.  0.  0.]\n",
      "[10. 10. 10.  0.  0.  0.]\n",
      "[10. 10. 10.  0.  0.  0.]\n",
      "[10. 10. 10.  0.  0.  0.]\n",
      "[10. 10. 10.  0.  0.  0.]\n",
      "[10. 10. 10.  0.  0.  0.]\n",
      "[10. 10. 10.  0.  0.  0.]\n",
      "[10. 10. 10.  0.  0.  0.]\n",
      "[10. 10. 10.  0.  0.  0.]\n",
      "[10. 10. 10.  0.  0.  0.]\n",
      "[10. 10. 10.  0.  0.  0.]\n",
      "[10. 10. 10.  0.  0.  0.]\n",
      "[10. 10. 10.  0.  0.  0.]\n",
      "[10. 10. 10.  0.  0.  0.]\n",
      "[10. 10. 10.  0.  0.  0.]\n",
      "[10. 10. 10.  0.  0.  0.]\n",
      "[10. 10. 10.  0.  0.  0.]\n",
      "[10. 10. 10.  0.  0.  0.]\n",
      "[10. 10. 10.  0.  0.  0.]\n",
      "[10. 10. 10.  0.  0.  0.]\n",
      "[10. 10. 10.  0.  0.  0.]\n",
      "[10. 10. 10.  0.  0.  0.]\n",
      "[10. 10. 10.  0.  0.  0.]\n",
      "[10. 10. 10.  0.  0.  0.]\n",
      "[10. 10. 10.  0.  0.  0.]\n",
      "[10. 10. 10.  0.  0.  0.]\n",
      "[10. 10. 10.  0.  0.  0.]\n",
      "[10. 10. 10.  0.  0.  0.]\n",
      "[10. 10. 10.  0.  0.  0.]\n",
      "[10. 10. 10.  0.  0.  0.]\n",
      "[10. 10. 10.  0.  0.  0.]\n",
      "[10. 10. 10.  0.  0.  0.]\n",
      "[10. 10. 10.  0.  0.  0.]\n",
      "[10. 10. 10.  0.  0.  0.]\n",
      "[10. 10. 10.  0.  0.  0.]\n",
      "[10. 10. 10.  0.  0.  0.]\n",
      "[10. 10. 10.  0.  0.  0.]\n",
      "[10. 10. 10.  0.  0.  0.]\n",
      "[10. 10. 10.  0.  0.  0.]\n",
      "[10. 10. 10.  0.  0.  0.]\n",
      "[10. 10. 10.  0.  0.  0.]\n",
      "[10. 10. 10.  0.  0.  0.]\n",
      "[10. 10. 10.  0.  0.  0.]\n"
     ]
    }
   ],
   "source": [
    "transfer_integral_list = []\n",
    "for i in range(100):\n",
    "    gsd_file = \"/Users/jimmy/repos/morphct-jimmy/examples/thiothene-gsds/thiothene\"+str(i)+\".gsd\"\n",
    "    with gsd.hoomd.open(name=gsd_file, mode='rb') as f:\n",
    "        snap = f[0]\n",
    "    \n",
    "        \n",
    "    ref_distance = 1\n",
    "    \n",
    "    snap.particles.position *= ref_distance\n",
    "    snap.configuration.box[:3] *= ref_distance\n",
    "    print(snap.configuration.box)\n",
    "    \n",
    "    chromo_ids = np.array([0,1,2,3,4,5,6,7,8,])\n",
    "    chromo2_ids = np.array([9,10,11,12,13,14,15,16,17])\n",
    "    aaids=[]\n",
    "    aaids.append(chromo_ids)\n",
    "    aaids.append(chromo2_ids)\n",
    "    chromo_list = []\n",
    "    for i,aaid in enumerate(aaids):\n",
    "        chromo_list.append(chromophores.Chromophore(i, snap, aaid, \"donor\", amber_dict))\n",
    "        \n",
    "    qcc_pairs = chromophores.set_neighbors_voronoi(chromo_list, snap, amber_dict, d_cut=100)\n",
    "    \n",
    "    dimer_data = eqcc.dimer_homolumo(qcc_pairs, \"two-molecule-test.txt\")\n",
    "    \n",
    "    data = eqcc.singles_homolumo(chromo_list, \"singles.txt\")\n",
    "    \n",
    "    eqcc.set_energyvalues(chromo_list, \"singles.txt\", \"two-molecule-test.txt\")\n",
    "    chromo =chromo_list[i]\n",
    "    transfer_integral_list.append(chromo.neighbors_ti[0])"
   ]
  },
  {
   "cell_type": "code",
   "execution_count": 3,
   "id": "4c18d2b2",
   "metadata": {},
   "outputs": [
    {
     "name": "stdout",
     "output_type": "stream",
     "text": [
      "[0.1526627010691445, 0.08635785646032404, 0.011744736265238837, 0.02667794599193282, 0.2343291147838988, 0.2729131791956388, 0.008705460957194051, 0.006669042962339214, 0.0032772950633453528, 0.21273735247027734, 0.20842014136014744, 0.19684052743604522, 0.12645669152152453, 0.015495455251871681, 0.05184608344211228, 0.04101788614582071, 0.1478084707923263, 0.12531016331982586, 0.04859359754108807, 0.2559797958196117, 0.3349104284882897, 0.1270103030355956, 0.2985260806533839, 0.01920199125260205, 0.04138332337561695, 0.008260866630863156, 0.006924663642714361, 0.3113127096192211, 0.004938930201347136, 0.4332225141547739, 0.01167924650727386, 0.24050316665225033, 0.08779874234718359, 0.05049278217485004, 0.04333868968509856, 0.33153926200510664, 0.35660277060847245, 0.018857218602945196, 0.7053976988208934, 0.01239868309675748, 0.012732230785814275, 0.019383061455418852, 0.00021270341575610604, 0.016957688793463547, 0.04513125854084401, 0.20530896715511693, 0.18853573393199316, 0.004737243823062099, 0.022105428162191434, 0.027473064546799285, 0.04951227002467, 0.14503360980881147, 0.005917241572463819, 0.1917990883831937, 0.014044112292190698, 0.1481059078725245, 0.052602036434656746, 0.012120775207770117, 0.42686014976833486, 0.23145401072139782, 0.011964992545587519, 0.007313134350500705, 0.1257252712854455, 0.21639426412546686, 0.032510819667937424, 0.1721792614902962, 0.1343930906359297, 0.02228415810912983, 0.22045707309634657, 0.008477283036139024, 0.0037192753394820997, 0.25346841558016386, 0.043999803113226384, 0.09046831496924974, 0.010506960938987604, 0.004933668956892551, 0.12530636078670476, 0.0011939629012999542, 0.004811662542306705, 0.6526170752557279, 0.09169901584289145, 0.003263728214967025, 0.23120496149643865, 0.157997922120072, 0.024766466813556348, 0.04384981665652807, 0.4128793794997315, 0.028616822138606845, 0.008766237024044447, 0.08193041242928535, 0.002300748076540623, 0.04549098660261861, 0.16313161222147615, 0.17208803218886048, 0.13269206295081337, 0.00735524978445921, 0.0056566827387793325, 0.003802407186529713, 0.004924739393108995, 0.23711498612915066]\n"
     ]
    }
   ],
   "source": [
    "print(transfer_integral_list)"
   ]
  },
  {
   "cell_type": "code",
   "execution_count": 4,
   "id": "9fab577d",
   "metadata": {},
   "outputs": [],
   "source": [
    "transfer_integrals = np.array(transfer_integral_list)"
   ]
  },
  {
   "cell_type": "code",
   "execution_count": 5,
   "id": "1b7b692a",
   "metadata": {},
   "outputs": [
    {
     "name": "stdout",
     "output_type": "stream",
     "text": [
      "0.11500427270336701\n"
     ]
    }
   ],
   "source": [
    "print(np.average(transfer_integrals))"
   ]
  },
  {
   "cell_type": "code",
   "execution_count": 6,
   "id": "a38bc6d9",
   "metadata": {},
   "outputs": [
    {
     "name": "stdout",
     "output_type": "stream",
     "text": [
      "0.00021270341575610604 0.7053976988208934\n"
     ]
    }
   ],
   "source": [
    "print(np.min(transfer_integrals),np.max(transfer_integrals))"
   ]
  },
  {
   "cell_type": "code",
   "execution_count": 7,
   "id": "caf2c46b",
   "metadata": {},
   "outputs": [
    {
     "name": "stdout",
     "output_type": "stream",
     "text": [
      "0.13715430139293544\n"
     ]
    }
   ],
   "source": [
    "print(np.std(transfer_integrals))"
   ]
  },
  {
   "cell_type": "code",
   "execution_count": 23,
   "id": "68b5e42c",
   "metadata": {},
   "outputs": [
    {
     "data": {
      "application/3dmoljs_load.v0": "<div id=\"3dmolviewer_16256785452894342\"  style=\"position: relative; width: 640px; height: 480px\">\n        <p id=\"3dmolwarning_16256785452894342\" style=\"background-color:#ffcccc;color:black\">You appear to be running in JupyterLab (or JavaScript failed to load for some other reason).  You need to install the 3dmol extension: <br>\n        <tt>jupyter labextension install jupyterlab_3dmol</tt></p>\n        </div>\n<script>\n\nvar loadScriptAsync = function(uri){\n  return new Promise((resolve, reject) => {\n    var tag = document.createElement('script');\n    tag.src = uri;\n    tag.async = true;\n    tag.onload = () => {\n      resolve();\n    };\n  var firstScriptTag = document.getElementsByTagName('script')[0];\n  firstScriptTag.parentNode.insertBefore(tag, firstScriptTag);\n});\n};\n\nif(typeof $3Dmolpromise === 'undefined') {\n$3Dmolpromise = null;\n  $3Dmolpromise = loadScriptAsync('https://3dmol.csb.pitt.edu/build/3Dmol.js');\n}\n\nvar viewer_16256785452894342 = null;\nvar warn = document.getElementById(\"3dmolwarning_16256785452894342\");\nif(warn) {\n    warn.parentNode.removeChild(warn);\n}\n$3Dmolpromise.then(function() {\nviewer_16256785452894342 = $3Dmol.createViewer($(\"#3dmolviewer_16256785452894342\"),{backgroundColor:\"white\"});\n\tviewer_16256785452894342.addModel(\"@<TRIPOS>MOLECULE\\nRES\\n18 0 1 0 1\\nSMALL\\nNO_CHARGES\\n@<TRIPOS>CRYSIN\\n    9.6634     9.5397     5.0184    90.0000    90.0000    90.0000  1  1\\n@<TRIPOS>ATOM\\n       1 C            0.1350     0.7147     0.0015 C             1 RES     \\n       2 C           -1.1434     1.2284    -0.0041 C             1 RES     \\n       3 S           -2.3317    -0.0035    -0.0068 S             1 RES     \\n       4 C           -1.1377    -1.2299    -0.0044 C             1 RES     \\n       5 C            0.1382    -0.7104     0.0023 C             1 RES     \\n       6 H            1.0248     1.3323     0.0045 H             1 RES     \\n       7 H           -1.4400     2.2682    -0.0066 H             1 RES     \\n       8 H           -1.4295    -2.2711    -0.0074 H             1 RES     \\n       9 H            1.0308    -1.3238     0.0062 H             1 RES     \\n      10 C           -0.1362     0.7125    -0.0027 C             1 RES     \\n      11 C            1.1415     1.2282     0.0022 C             1 RES     \\n      12 S            2.3317    -0.0018     0.0068 S             1 RES     \\n      13 C            1.1397    -1.2301     0.0063 C             1 RES     \\n      14 C           -0.1371    -0.7126    -0.0011 C             1 RES     \\n      15 H           -1.0269     1.3286    -0.0066 H             1 RES     \\n      16 H            1.4363     2.2686     0.0030 H             1 RES     \\n      17 H            1.4331    -2.2708     0.0110 H             1 RES     \\n      18 H           -1.0287    -1.3275    -0.0041 H             1 RES     \\n@<TRIPOS>BOND\\n@<TRIPOS>SUBSTRUCTURE\\n       1 RES             1 RESIDUE    0 **** ROOT      0\\n\",\"mol2\");\n\tviewer_16256785452894342.setStyle({\"stick\": {\"radius\": 0.2, \"color\": \"grey\"}, \"sphere\": {\"scale\": 0.3, \"colorscheme\": {}}});\n\tviewer_16256785452894342.zoomTo();\nviewer_16256785452894342.render();\n});\n</script>",
      "text/html": [
       "<div id=\"3dmolviewer_16256785452894342\"  style=\"position: relative; width: 640px; height: 480px\">\n",
       "        <p id=\"3dmolwarning_16256785452894342\" style=\"background-color:#ffcccc;color:black\">You appear to be running in JupyterLab (or JavaScript failed to load for some other reason).  You need to install the 3dmol extension: <br>\n",
       "        <tt>jupyter labextension install jupyterlab_3dmol</tt></p>\n",
       "        </div>\n",
       "<script>\n",
       "\n",
       "var loadScriptAsync = function(uri){\n",
       "  return new Promise((resolve, reject) => {\n",
       "    var tag = document.createElement('script');\n",
       "    tag.src = uri;\n",
       "    tag.async = true;\n",
       "    tag.onload = () => {\n",
       "      resolve();\n",
       "    };\n",
       "  var firstScriptTag = document.getElementsByTagName('script')[0];\n",
       "  firstScriptTag.parentNode.insertBefore(tag, firstScriptTag);\n",
       "});\n",
       "};\n",
       "\n",
       "if(typeof $3Dmolpromise === 'undefined') {\n",
       "$3Dmolpromise = null;\n",
       "  $3Dmolpromise = loadScriptAsync('https://3dmol.csb.pitt.edu/build/3Dmol.js');\n",
       "}\n",
       "\n",
       "var viewer_16256785452894342 = null;\n",
       "var warn = document.getElementById(\"3dmolwarning_16256785452894342\");\n",
       "if(warn) {\n",
       "    warn.parentNode.removeChild(warn);\n",
       "}\n",
       "$3Dmolpromise.then(function() {\n",
       "viewer_16256785452894342 = $3Dmol.createViewer($(\"#3dmolviewer_16256785452894342\"),{backgroundColor:\"white\"});\n",
       "\tviewer_16256785452894342.addModel(\"@<TRIPOS>MOLECULE\\nRES\\n18 0 1 0 1\\nSMALL\\nNO_CHARGES\\n@<TRIPOS>CRYSIN\\n    9.6634     9.5397     5.0184    90.0000    90.0000    90.0000  1  1\\n@<TRIPOS>ATOM\\n       1 C            0.1350     0.7147     0.0015 C             1 RES     \\n       2 C           -1.1434     1.2284    -0.0041 C             1 RES     \\n       3 S           -2.3317    -0.0035    -0.0068 S             1 RES     \\n       4 C           -1.1377    -1.2299    -0.0044 C             1 RES     \\n       5 C            0.1382    -0.7104     0.0023 C             1 RES     \\n       6 H            1.0248     1.3323     0.0045 H             1 RES     \\n       7 H           -1.4400     2.2682    -0.0066 H             1 RES     \\n       8 H           -1.4295    -2.2711    -0.0074 H             1 RES     \\n       9 H            1.0308    -1.3238     0.0062 H             1 RES     \\n      10 C           -0.1362     0.7125    -0.0027 C             1 RES     \\n      11 C            1.1415     1.2282     0.0022 C             1 RES     \\n      12 S            2.3317    -0.0018     0.0068 S             1 RES     \\n      13 C            1.1397    -1.2301     0.0063 C             1 RES     \\n      14 C           -0.1371    -0.7126    -0.0011 C             1 RES     \\n      15 H           -1.0269     1.3286    -0.0066 H             1 RES     \\n      16 H            1.4363     2.2686     0.0030 H             1 RES     \\n      17 H            1.4331    -2.2708     0.0110 H             1 RES     \\n      18 H           -1.0287    -1.3275    -0.0041 H             1 RES     \\n@<TRIPOS>BOND\\n@<TRIPOS>SUBSTRUCTURE\\n       1 RES             1 RESIDUE    0 **** ROOT      0\\n\",\"mol2\");\n",
       "\tviewer_16256785452894342.setStyle({\"stick\": {\"radius\": 0.2, \"color\": \"grey\"}, \"sphere\": {\"scale\": 0.3, \"colorscheme\": {}}});\n",
       "\tviewer_16256785452894342.zoomTo();\n",
       "viewer_16256785452894342.render();\n",
       "});\n",
       "</script>"
      ]
     },
     "metadata": {},
     "output_type": "display_data"
    }
   ],
   "source": [
    "visualize_qcc_input(qcc_pairs[0][1])\n"
   ]
  },
  {
   "cell_type": "code",
   "execution_count": 10,
   "id": "53b68802",
   "metadata": {
    "scrolled": true,
    "tags": []
   },
   "outputs": [
    {
     "name": "stdout",
     "output_type": "stream",
     "text": [
      "[10.862557  9.539556  5.018568  0.        0.        0.      ]\n",
      "[10.851181  9.539394  9.787177  0.        0.        0.      ]\n",
      "[ 9.550778  9.549399 10.013601  0.        0.        0.      ]\n",
      "[12.163429  9.539868 10.013601  0.        0.        0.      ]\n",
      "[10.851181  9.549581 10.014479  0.        0.        0.      ]\n",
      "[9.663429 9.539394 9.776698 0.       0.       0.      ]\n",
      "[13.362557  9.539394  5.013601  0.        0.        0.      ]\n",
      "[13.351181  9.549399 10.013601  0.        0.        0.      ]\n",
      "[ 9.663429  9.539702 10.018381  0.        0.        0.      ]\n",
      "[ 9.559577  9.539868 10.013601  0.        0.        0.      ]\n",
      "[13.351181  9.549399  7.513601  0.        0.        0.      ]\n",
      "[9.663429 9.539702 7.518381 0.       0.       0.      ]\n",
      "[9.559577 9.539868 7.513601 0.       0.       0.      ]\n",
      "[ 9.663429  9.539394 12.276698  0.        0.        0.      ]\n",
      "[10.862557  9.539394  9.539394  0.        0.        0.      ]\n",
      "[9.550778 9.549399 7.513601 0.       0.       0.      ]\n",
      "[12.163429  9.539868  7.513601  0.        0.        0.      ]\n",
      "[10.851181  9.549581  7.514478  0.        0.        0.      ]\n",
      "[10.851181  9.539394 12.287177  0.        0.        0.      ]\n",
      "[12.163429  9.539394  9.776698  0.        0.        0.      ]\n",
      "[9.550778 9.539394 9.787177 0.       0.       0.      ]\n",
      "[10.862557  9.539394  5.013601  0.        0.        0.      ]\n",
      "[12.163429  9.539702 10.018381  0.        0.        0.      ]\n",
      "[10.851181  9.549399 10.013601  0.        0.        0.      ]\n",
      "[ 9.550778  9.549581 10.014479  0.        0.        0.      ]\n",
      "[9.559577 9.539394 9.776698 0.       0.       0.      ]\n",
      "[13.362557  9.539556  5.018568  0.        0.        0.      ]\n",
      "[13.351181  9.539394  9.787177  0.        0.        0.      ]\n",
      "[ 9.559577  9.539702 10.018381  0.        0.        0.      ]\n",
      "[13.351181  9.549581 10.014479  0.        0.        0.      ]\n",
      "[ 9.663429  9.539868 10.013601  0.        0.        0.      ]\n",
      "[13.362557  9.539394  9.539394  0.        0.        0.      ]\n",
      "[9.559577 9.539702 7.518381 0.       0.       0.      ]\n",
      "[13.351181  9.549581  7.514478  0.        0.        0.      ]\n",
      "[9.663429 9.539868 7.513601 0.       0.       0.      ]\n",
      "[ 9.559577  9.539394 12.276698  0.        0.        0.      ]\n",
      "[13.351181  9.539394 12.287177  0.        0.        0.      ]\n",
      "[12.163429  9.539702  7.518381  0.        0.        0.      ]\n",
      "[10.851181  9.549399  7.513601  0.        0.        0.      ]\n",
      "[9.550778 9.549581 7.514478 0.       0.       0.      ]\n",
      "[12.163429  9.539394 12.276698  0.        0.        0.      ]\n",
      "[ 9.550778  9.539394 12.287177  0.        0.        0.      ]\n",
      "[13.362557  9.539394 12.277163  0.        0.        0.      ]\n",
      "[13.351181  9.539394  8.361514  0.        0.        0.      ]\n",
      "[13.362557  9.539556  7.517628  0.        0.        0.      ]\n",
      "[ 8.362557  9.539394 12.277163  0.        0.        0.      ]\n",
      "[10.862557  9.539394  7.513601  0.        0.        0.      ]\n",
      "[8.362557 9.539556 7.517628 0.       0.       0.      ]\n",
      "[12.163429  9.539394  9.539404  0.        0.        0.      ]\n",
      "[10.862557  9.539394 10.013601  0.        0.        0.      ]\n",
      "[ 8.362557  9.539556 10.017628  0.        0.        0.      ]\n",
      "[12.163429  9.539702  5.018381  0.        0.        0.      ]\n",
      "[10.851181  9.549399  5.013601  0.        0.        0.      ]\n",
      "[8.362557 9.539394 9.777163 0.       0.       0.      ]\n",
      "[13.362557  9.539556 10.017628  0.        0.        0.      ]\n",
      "[13.351181  9.549581  5.014478  0.        0.        0.      ]\n",
      "[9.663429 9.539868 5.013601 0.       0.       0.      ]\n",
      "[13.362557  9.539394  9.777163  0.        0.        0.      ]\n",
      "[13.362557  9.539394  7.513601  0.        0.        0.      ]\n",
      "[9.663429 9.539394 9.539404 0.       0.       0.      ]\n",
      "[10.862557  9.539394 12.277163  0.        0.        0.      ]\n",
      "[8.362557 9.539394 7.513601 0.       0.       0.      ]\n",
      "[10.851181  9.539394  8.361514  0.        0.        0.      ]\n",
      "[10.862557  9.539556  7.517628  0.        0.        0.      ]\n",
      "[ 8.362557  9.539394 10.013601  0.        0.        0.      ]\n",
      "[10.862557  9.539556 10.017628  0.        0.        0.      ]\n",
      "[12.163429  9.539868  5.013601  0.        0.        0.      ]\n",
      "[10.851181  9.549581  5.014478  0.        0.        0.      ]\n",
      "[10.862557  9.539394  9.777163  0.        0.        0.      ]\n",
      "[13.362557  9.539394 10.013601  0.        0.        0.      ]\n",
      "[13.351181  9.549399  5.013601  0.        0.        0.      ]\n",
      "[9.663429 9.539702 5.018381 0.       0.       0.      ]\n"
     ]
    }
   ],
   "source": [
    "filepath = \"/Users/jimmy/repos/morphct-jimmy/examples/angled_thiophenes_gsds\"\n",
    "transfer_integral_list = []\n",
    "i=0\n",
    "for file in os.listdir(filepath):\n",
    "    gsd_file = \"/Users/jimmy/repos/morphct-jimmy/examples/angled_thiophenes_gsds/\" + str(file)\n",
    "    \n",
    "    with gsd.hoomd.open(name=gsd_file, mode='rb') as f:\n",
    "        snap = f[0]\n",
    "           \n",
    "    ref_distance = 1\n",
    "    \n",
    "    snap.particles.position *= ref_distance\n",
    "    snap.configuration.box[:3] *= ref_distance\n",
    "    print(snap.configuration.box)\n",
    "    \n",
    "    chromo_ids = np.array([0,1,2,3,4,5,6,7,8,])\n",
    "    chromo2_ids = np.array([9,10,11,12,13,14,15,16,17])\n",
    "    aaids=[]\n",
    "    aaids.append(chromo_ids)\n",
    "    aaids.append(chromo2_ids)\n",
    "    chromo_list = []\n",
    "    for i,aaid in enumerate(aaids):\n",
    "        chromo_list.append(chromophores.Chromophore(i, snap, aaid, \"donor\", amber_dict))\n",
    "        \n",
    "    qcc_pairs = chromophores.set_neighbors_voronoi(chromo_list, snap, amber_dict, d_cut=100)\n",
    "    \n",
    "    dimer_data = eqcc.dimer_homolumo(qcc_pairs, \"two-molecule-test.txt\")\n",
    "    \n",
    "    data = eqcc.singles_homolumo(chromo_list, \"singles.txt\")\n",
    "    \n",
    "    eqcc.set_energyvalues(chromo_list, \"singles.txt\", \"two-molecule-test.txt\")\n",
    "    chromo =chromo_list[i]\n",
    "    transfer_integral_list.append(chromo.neighbors_ti[0])\n",
    "    i+=1"
   ]
  },
  {
   "cell_type": "code",
   "execution_count": 12,
   "id": "b0b7a271",
   "metadata": {
    "scrolled": true,
    "tags": []
   },
   "outputs": [
    {
     "name": "stdout",
     "output_type": "stream",
     "text": [
      "thiophene_d-0.2-0.0_a-0.0-3.1.gsd\n",
      "thiophene_d-0.2-0.2_a-1.6-1.6.gsd\n",
      "thiophene_d-0.0-0.5_a-1.6-0.0.gsd\n",
      "thiophene_d-0.5-0.5_a-3.1-0.0.gsd\n",
      "thiophene_d-0.2-0.5_a-1.6-3.1.gsd\n",
      "thiophene_d-0.2-0.2_a-3.1-1.6.gsd\n",
      "thiophene_d-0.5-0.0_a-0.0-0.0.gsd\n",
      "thiophene_d-0.5-0.5_a-1.6-0.0.gsd\n",
      "thiophene_d-0.2-0.5_a-3.1-3.1.gsd\n",
      "thiophene_d-0.0-0.5_a-3.1-0.0.gsd\n",
      "thiophene_d-0.5-0.2_a-1.6-0.0.gsd\n",
      "thiophene_d-0.2-0.2_a-3.1-3.1.gsd\n",
      "thiophene_d-0.0-0.2_a-3.1-0.0.gsd\n",
      "thiophene_d-0.2-0.5_a-3.1-1.6.gsd\n",
      "thiophene_d-0.2-0.0_a-0.0-1.6.gsd\n",
      "thiophene_d-0.0-0.2_a-1.6-0.0.gsd\n",
      "thiophene_d-0.5-0.2_a-3.1-0.0.gsd\n",
      "thiophene_d-0.2-0.2_a-1.6-3.1.gsd\n",
      "thiophene_d-0.2-0.5_a-1.6-1.6.gsd\n",
      "thiophene_d-0.5-0.2_a-3.1-1.6.gsd\n",
      "thiophene_d-0.0-0.2_a-1.6-1.6.gsd\n",
      "thiophene_d-0.2-0.0_a-0.0-0.0.gsd\n",
      "thiophene_d-0.5-0.5_a-3.1-3.1.gsd\n",
      "thiophene_d-0.2-0.5_a-1.6-0.0.gsd\n",
      "thiophene_d-0.0-0.5_a-1.6-3.1.gsd\n",
      "thiophene_d-0.0-0.2_a-3.1-1.6.gsd\n",
      "thiophene_d-0.5-0.0_a-0.0-3.1.gsd\n",
      "thiophene_d-0.5-0.2_a-1.6-1.6.gsd\n",
      "thiophene_d-0.0-0.5_a-3.1-3.1.gsd\n",
      "thiophene_d-0.5-0.5_a-1.6-3.1.gsd\n",
      "thiophene_d-0.2-0.5_a-3.1-0.0.gsd\n",
      "thiophene_d-0.5-0.0_a-0.0-1.6.gsd\n",
      "thiophene_d-0.0-0.2_a-3.1-3.1.gsd\n",
      "thiophene_d-0.5-0.2_a-1.6-3.1.gsd\n",
      "thiophene_d-0.2-0.2_a-3.1-0.0.gsd\n",
      "thiophene_d-0.0-0.5_a-3.1-1.6.gsd\n",
      "thiophene_d-0.5-0.5_a-1.6-1.6.gsd\n",
      "thiophene_d-0.5-0.2_a-3.1-3.1.gsd\n",
      "thiophene_d-0.2-0.2_a-1.6-0.0.gsd\n",
      "thiophene_d-0.0-0.2_a-1.6-3.1.gsd\n",
      "thiophene_d-0.5-0.5_a-3.1-1.6.gsd\n",
      "thiophene_d-0.0-0.5_a-1.6-1.6.gsd\n",
      "thiophene_d-0.5-0.5_a-0.0-1.6.gsd\n",
      "thiophene_d-0.5-0.0_a-1.6-1.6.gsd\n",
      "thiophene_d-0.5-0.2_a-0.0-3.1.gsd\n",
      "thiophene_d-0.0-0.5_a-0.0-1.6.gsd\n",
      "thiophene_d-0.2-0.2_a-0.0-0.0.gsd\n",
      "thiophene_d-0.0-0.2_a-0.0-3.1.gsd\n",
      "thiophene_d-0.5-0.0_a-3.1-1.6.gsd\n",
      "thiophene_d-0.2-0.5_a-0.0-0.0.gsd\n",
      "thiophene_d-0.0-0.5_a-0.0-3.1.gsd\n",
      "thiophene_d-0.5-0.0_a-3.1-3.1.gsd\n",
      "thiophene_d-0.2-0.0_a-1.6-0.0.gsd\n",
      "thiophene_d-0.0-0.2_a-0.0-1.6.gsd\n",
      "thiophene_d-0.5-0.5_a-0.0-3.1.gsd\n",
      "thiophene_d-0.5-0.0_a-1.6-3.1.gsd\n",
      "thiophene_d-0.2-0.0_a-3.1-0.0.gsd\n",
      "thiophene_d-0.5-0.2_a-0.0-1.6.gsd\n",
      "thiophene_d-0.5-0.2_a-0.0-0.0.gsd\n",
      "thiophene_d-0.2-0.0_a-3.1-1.6.gsd\n",
      "thiophene_d-0.2-0.5_a-0.0-1.6.gsd\n",
      "thiophene_d-0.0-0.2_a-0.0-0.0.gsd\n",
      "thiophene_d-0.2-0.0_a-1.6-1.6.gsd\n",
      "thiophene_d-0.2-0.2_a-0.0-3.1.gsd\n",
      "thiophene_d-0.0-0.5_a-0.0-0.0.gsd\n",
      "thiophene_d-0.2-0.5_a-0.0-3.1.gsd\n",
      "thiophene_d-0.5-0.0_a-3.1-0.0.gsd\n",
      "thiophene_d-0.2-0.0_a-1.6-3.1.gsd\n",
      "thiophene_d-0.2-0.2_a-0.0-1.6.gsd\n",
      "thiophene_d-0.5-0.5_a-0.0-0.0.gsd\n",
      "thiophene_d-0.5-0.0_a-1.6-0.0.gsd\n",
      "thiophene_d-0.2-0.0_a-3.1-3.1.gsd\n"
     ]
    }
   ],
   "source": [
    "filepath = \"/Users/jimmy/repos/morphct-jimmy/examples/angled_thiophenes_gsds\"\n",
    "for file in os.listdir(filepath):\n",
    "    print(file)"
   ]
  },
  {
   "cell_type": "code",
   "execution_count": 13,
   "id": "875e97f0",
   "metadata": {},
   "outputs": [
    {
     "name": "stdout",
     "output_type": "stream",
     "text": [
      "[0.5756063730721547, 0.1706274329933303, 0.0004044557503983088, 0.00019542027076680803, 0.0024222841531885645, 0.00698114048205485, 0.06886640409430475, 0.0015794992781640435, 0.0026849216912709925, 0.0033795770487429115, 0.00730340758627097, 0.3881685721598499, 0.021073748494440624, 0.014408285093034346, 0.14120365751744177, 0.08708645516030561, 0.023802883221399, 0.057934908060785856, 0.018026443353434545, 0.07452426433499794, 0.4494855224191888, 0.5741765668862784, 0.0001930314540859358, 0.0023935863507624994, 0.0004181908662250279, 0.3035933212863564, 0.06888018343526892, 0.011478016305053906, 0.0033081267659159403, 0.0015984397502078673, 0.002708262529725187, 0.021037216565173013, 0.02366393095001427, 0.007404832915047468, 0.39339177312358015, 0.0234729754831615, 0.010091746111875416, 0.02349064245096397, 0.05342527670320946, 0.08782892122163428, 0.004591368392899578, 0.0167936913818574, 0.007321705419376019, 0.2429358958487525, 0.020934291489565427, 0.027164689322310972, 0.08163499774777361, 0.01200198096040587, 0.09932330661565365, 0.00768637063735837, 0.0041632322535675335, 0.07025889783561567, 0.21107219620981538, 0.23698329863275142, 0.010104368715398052, 0.1758267683922189, 0.3854212400730567, 0.016230084644291317, 0.02096867806093669, 1.1350859337807926, 0.006113334912750764, 0.011668136323134784, 0.18094586649615518, 0.07295800831589631, 0.004229389273243193, 0.007643581166765507, 0.06884782908927099, 0.20171529132350535, 0.2888445538843607, 0.010151756023327664, 0.17749836567718827, 0.4007078013553058]\n"
     ]
    }
   ],
   "source": [
    "print(transfer_integral_list)"
   ]
  },
  {
   "cell_type": "code",
   "execution_count": 14,
   "id": "6bb2c01c",
   "metadata": {},
   "outputs": [
    {
     "name": "stdout",
     "output_type": "stream",
     "text": [
      "0.11036316121729678\n",
      "0.0001930314540859358 1.1350859337807926\n"
     ]
    }
   ],
   "source": [
    "transfer_integrals = np.array(transfer_integral_list)\n",
    "print(np.average(transfer_integrals))\n",
    "print(np.min(transfer_integrals),np.max(transfer_integrals))"
   ]
  },
  {
   "cell_type": "code",
   "execution_count": 18,
   "id": "8f4e055b",
   "metadata": {},
   "outputs": [],
   "source": [
    "gsd_file = \"/Users/jimmy/repos/morphct-jimmy/examples/angled_thiophenes_gsds/thiophene_d-0.5-0.2_a-3.1-3.1.gsd\"\n",
    "\n",
    "with gsd.hoomd.open(name=gsd_file, mode='rb') as f:\n",
    "    snap = f[0]\n"
   ]
  },
  {
   "cell_type": "code",
   "execution_count": 17,
   "id": "540fb56b",
   "metadata": {},
   "outputs": [
    {
     "name": "stdout",
     "output_type": "stream",
     "text": [
      "[12.163429  9.539702  7.518381  0.        0.        0.      ]\n"
     ]
    }
   ],
   "source": [
    "print(snap.configuration.box)"
   ]
  },
  {
   "cell_type": "code",
   "execution_count": 19,
   "id": "2ba7c99a",
   "metadata": {},
   "outputs": [
    {
     "name": "stdout",
     "output_type": "stream",
     "text": [
      "0.18575527179722262\n"
     ]
    }
   ],
   "source": [
    "print(np.std(transfer_integrals))"
   ]
  },
  {
   "cell_type": "code",
   "execution_count": null,
   "id": "52f55b06",
   "metadata": {},
   "outputs": [],
   "source": []
  }
 ],
 "metadata": {
  "kernelspec": {
   "display_name": "Python 3",
   "language": "python",
   "name": "python3"
  },
  "language_info": {
   "codemirror_mode": {
    "name": "ipython",
    "version": 3
   },
   "file_extension": ".py",
   "mimetype": "text/x-python",
   "name": "python",
   "nbconvert_exporter": "python",
   "pygments_lexer": "ipython3",
   "version": "3.7.10"
  }
 },
 "nbformat": 4,
 "nbformat_minor": 5
}

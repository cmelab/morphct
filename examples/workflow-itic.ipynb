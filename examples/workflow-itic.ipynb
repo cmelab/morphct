{
 "cells": [
  {
   "cell_type": "markdown",
   "id": "strategic-arrest",
   "metadata": {},
   "source": [
    "# MorphCT Example Workflow\n",
    "\n",
    "1. Start with an atomistic snapshot\n",
    "2. Determine which atom indices belong to which chromophore.\n",
    "3. Calculate the energies for each chromophore and chromophore pair using quantum chemical calculations (QCC)\n",
    "4. Run the kinetic monte carlo (KMC) algorithm to calculate charge mobility"
   ]
  },
  {
   "cell_type": "markdown",
   "id": "charged-cable",
   "metadata": {},
   "source": [
    "First let's import necessary modules:"
   ]
  },
  {
   "cell_type": "code",
   "execution_count": null,
   "id": "compliant-terminal",
   "metadata": {},
   "outputs": [],
   "source": [
    "import numpy as np\n",
    "\n",
    "from morphct.system import System\n",
    "from morphct.chromophores import amber_dict"
   ]
  },
  {
   "cell_type": "markdown",
   "id": "collectible-complexity",
   "metadata": {},
   "source": [
    "In the cell below, we'll create a system object for morphct. This the main class that will hold all the information for our simulation. We'll need to give it a gsd file, path to an output directory, the frame of the gsd file to use, the scaling factor to convert the lengths in the gsd to Angstroms, and a dictionary to map particle types to elements. Here's our starting structure, an atomistic (not coarse-grain or united atom) gsd file with 10 ITIC molecules:"
   ]
  },
  {
   "cell_type": "code",
   "execution_count": null,
   "id": "alive-spending",
   "metadata": {},
   "outputs": [],
   "source": [
    "gsdfile = \"itic-trajectory.gsd\"\n",
    "\n",
    "system = System(gsdfile, \"output_itic\", frame=-1, scale=3.5636, conversion_dict=amber_dict)\n",
    "system.visualize_system()"
   ]
  },
  {
   "cell_type": "markdown",
   "id": "brave-recognition",
   "metadata": {},
   "source": [
    "Next we need to pick the chromophores. This is the most time-consuming part. We provide a function, `morphct.chromophores.get_chromo_ids_smiles`, that can be used to pick chromophores using SMILES strings (see p3ht example), but for this molecule it's difficult to use SMILES, so instead we specify the indices manually."
   ]
  },
  {
   "cell_type": "code",
   "execution_count": null,
   "id": "occasional-chocolate",
   "metadata": {},
   "outputs": [],
   "source": [
    "# the indices of the acceptor in one molecule\n",
    "a_inds = [np.arange(19), np.hstack((np.array([166]), np.arange(168,186)))]\n",
    "\n",
    "#the indices of the donor in one molecule\n",
    "d_inds = np.hstack(\n",
    "    (np.array([20]), np.arange(22,33),np.arange(91,103),np.arange(161,165))\n",
    ")\n",
    "\n",
    "mol_length = 186\n",
    "n_mols = 10\n",
    "\n",
    "ac_inds = [\n",
    "    item for sublist in \n",
    "    [(a_inds[0] + i * mol_length, a_inds[1] + i * mol_length) for i in range(n_mols)]\n",
    "    for item in sublist\n",
    "]\n",
    "\n",
    "do_inds = [d_inds + i * mol_length for i in range(n_mols)]"
   ]
  },
  {
   "cell_type": "code",
   "execution_count": null,
   "id": "german-internet",
   "metadata": {},
   "outputs": [],
   "source": [
    "# acceptor and donor combined\n",
    "all_inds = np.hstack(\n",
    "    (np.arange(33), np.arange(91,103), np.arange(161,186))\n",
    ")"
   ]
  },
  {
   "cell_type": "code",
   "execution_count": null,
   "id": "effective-internet",
   "metadata": {},
   "outputs": [],
   "source": [
    "# saving the indices for use in morphct-flow\n",
    "np.savetxt(\"itic_a_ids.csv\", a_inds, fmt=\"%i\")\n",
    "np.savetxt(\"itic_d_ids.csv\", d_inds, fmt=\"%i\")\n",
    "np.savetxt(\"itic_all_ids.csv\", all_inds, fmt=\"%i\")"
   ]
  },
  {
   "cell_type": "markdown",
   "id": "parallel-canvas",
   "metadata": {},
   "source": [
    "Next let's add these chromophores to the system and visualize them. The acceptors will be colored dark red and the donors will be colored purple.\n",
    "\n",
    "The reorganization energy for ITIC comes from [Han 2018](https://doi.org/10.1002/solr.201800251)."
   ]
  },
  {
   "cell_type": "code",
   "execution_count": null,
   "id": "published-blend",
   "metadata": {},
   "outputs": [],
   "source": [
    "system.add_chromophores(\n",
    "    ac_inds, \"acceptor\", chromophore_kwargs={\"charge\": -1, \"reorganization_energy\": 0.15}\n",
    ")\n",
    "\n",
    "system.add_chromophores(\n",
    "    do_inds, \"donor\", chromophore_kwargs={\"reorganization_energy\" : 0.15}\n",
    ")\n",
    "\n",
    "system.visualize_chromophores()"
   ]
  },
  {
   "cell_type": "markdown",
   "id": "social-reservoir",
   "metadata": {},
   "source": [
    "Next let's compute the energies required to run the KMC simulation. First, the neighbors will be calculated (using voronoi analysis) and then the single and dimer energies will be calculated and saved to a file. (So that the simulation can be restarted from this point more easily.)"
   ]
  },
  {
   "cell_type": "code",
   "execution_count": null,
   "id": "pointed-assist",
   "metadata": {},
   "outputs": [],
   "source": [
    "system.compute_energies()"
   ]
  },
  {
   "cell_type": "markdown",
   "id": "infectious-affect",
   "metadata": {},
   "source": [
    "We can check that the pair and singles inputs look reasonable. There won't be any bonds and hydrogen atoms should've been added."
   ]
  },
  {
   "cell_type": "code",
   "execution_count": null,
   "id": "equipped-adoption",
   "metadata": {},
   "outputs": [],
   "source": [
    "i = 86 # try any number from 0 to 86\n",
    "print(f\"Pair #{i}:\")\n",
    "system.visualize_qcc_input(i, single=False)\n",
    "\n",
    "i = 0 # try any number from 0 to 9\n",
    "print(f\"Single #{i}:\")\n",
    "system.visualize_qcc_input(i)"
   ]
  },
  {
   "cell_type": "markdown",
   "id": "elder-distributor",
   "metadata": {},
   "source": [
    "Once the energy files are finished, we can use them to set the energy values of the chromophores . (This can also be run to restart the calculation from this point.)"
   ]
  },
  {
   "cell_type": "code",
   "execution_count": null,
   "id": "english-windsor",
   "metadata": {},
   "outputs": [],
   "source": [
    "system.set_energies()"
   ]
  },
  {
   "cell_type": "markdown",
   "id": "exciting-check",
   "metadata": {},
   "source": [
    "This function sets the `homo_1`, `homo`, `lumo`, `lumo_1`, `neighbors_delta_e`, and `neighbors_ti` attribute of each chromphore:"
   ]
  },
  {
   "cell_type": "code",
   "execution_count": null,
   "id": "active-porcelain",
   "metadata": {},
   "outputs": [],
   "source": [
    "i = 0\n",
    "chromo = system.chromophores[i]\n",
    "print(f\"Chromophore {i}:\")\n",
    "print(\n",
    "    f\"HOMO-1: {chromo.homo_1:.2f} HOMO: {chromo.homo:.2f} LUMO: {chromo.lumo:.2f} \"\n",
    "    f\"LUMO+1: {chromo.lumo_1:.2f}\"\n",
    ")\n",
    "print(f\"{len(chromo.neighbors)} neighbors\")\n",
    "print(f\"DeltaE of first neighbor: {chromo.neighbors_delta_e[0]:.3f}\")\n",
    "print(f\"Transfer integral of first neighbor: {chromo.neighbors_ti[0]:.3f}\")"
   ]
  },
  {
   "cell_type": "markdown",
   "id": "composite-society",
   "metadata": {},
   "source": [
    "With all the energy values set, we're ready to run KMC! We need to set the temperature that the KMC simulation will be run at and the lifetimes and numbers of our carriers:"
   ]
  },
  {
   "cell_type": "code",
   "execution_count": null,
   "id": "anticipated-marking",
   "metadata": {},
   "outputs": [],
   "source": [
    "lifetimes = [1.00e-13, 1.00e-12]\n",
    "temp = 300\n",
    "system.run_kmc(lifetimes, temp, n_holes=10, n_elec=10, verbose=1)"
   ]
  },
  {
   "cell_type": "markdown",
   "id": "controversial-teddy",
   "metadata": {},
   "source": [
    "The output files for each process are saved in `output_itic/kmc/kmc_PROC#.log` (where `PROC#` is whatever process number the job was run on) and analysis plots will be saved in `output_itic/kmc/figures/`."
   ]
  },
  {
   "cell_type": "code",
   "execution_count": null,
   "id": "satellite-watch",
   "metadata": {},
   "outputs": [],
   "source": [
    "with open(\"output_itic/kmc/kmc_00.log\", \"r\") as f:\n",
    "    lines = f.readlines()\n",
    "print(*lines)"
   ]
  }
 ],
 "metadata": {
  "kernelspec": {
   "display_name": "Python 3",
   "language": "python",
   "name": "python3"
  },
  "language_info": {
   "codemirror_mode": {
    "name": "ipython",
    "version": 3
   },
   "file_extension": ".py",
   "mimetype": "text/x-python",
   "name": "python",
   "nbconvert_exporter": "python",
   "pygments_lexer": "ipython3",
   "version": "3.7.10"
  }
 },
 "nbformat": 4,
 "nbformat_minor": 5
}

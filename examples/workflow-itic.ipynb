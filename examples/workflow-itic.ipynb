{
 "cells": [
  {
   "cell_type": "markdown",
   "id": "strategic-arrest",
   "metadata": {
    "tags": []
   },
   "source": [
    "# MorphCT Example Workflow\n",
    "\n",
    "1. Start with an atomistic snapshot\n",
    "2. Determine which atom indices belong to which chromophore.\n",
    "3. Calculate the energies for each chromophore and chromophore pair using quantum chemical calculations (QCC)\n",
    "4. Run the kinetic monte carlo (KMC) algorithm to calculate charge mobility"
   ]
  },
  {
   "cell_type": "markdown",
   "id": "charged-cable",
   "metadata": {},
   "source": [
    "First let's import necessary modules:"
   ]
  },
  {
   "cell_type": "code",
   "execution_count": 1,
   "id": "compliant-terminal",
   "metadata": {},
   "outputs": [
    {
     "name": "stderr",
     "output_type": "stream",
     "text": [
      "/Users/jenny/miniconda3/envs/morphct/lib/python3.7/site-packages/h5py/__init__.py:46: DeprecationWarning: `np.typeDict` is a deprecated alias for `np.sctypeDict`.\n",
      "  from ._conv import register_converters as _register_converters\n"
     ]
    }
   ],
   "source": [
    "import numpy as np\n",
    "\n",
    "import mbuild as mb\n",
    "\n",
    "from morphct.system import System\n",
    "from morphct.chromophores import amber_dict"
   ]
  },
  {
   "cell_type": "code",
   "execution_count": 60,
   "id": "2e415186-4d78-4a8b-ab8b-86e56139241c",
   "metadata": {},
   "outputs": [
    {
     "data": {
      "application/3dmoljs_load.v0": "<div id=\"3dmolviewer_1643242352769993\"  style=\"position: relative; width: 640px; height: 480px\">\n        <p id=\"3dmolwarning_1643242352769993\" style=\"background-color:#ffcccc;color:black\">You appear to be running in JupyterLab (or JavaScript failed to load for some other reason).  You need to install the 3dmol extension: <br>\n        <tt>jupyter labextension install jupyterlab_3dmol</tt></p>\n        </div>\n<script>\n\nvar loadScriptAsync = function(uri){\n  return new Promise((resolve, reject) => {\n    var tag = document.createElement('script');\n    tag.src = uri;\n    tag.async = true;\n    tag.onload = () => {\n      resolve();\n    };\n  var firstScriptTag = document.getElementsByTagName('script')[0];\n  firstScriptTag.parentNode.insertBefore(tag, firstScriptTag);\n});\n};\n\nif(typeof $3Dmolpromise === 'undefined') {\n$3Dmolpromise = null;\n  $3Dmolpromise = loadScriptAsync('https://3dmol.org/build/3Dmol.js');\n}\n\nvar viewer_1643242352769993 = null;\nvar warn = document.getElementById(\"3dmolwarning_1643242352769993\");\nif(warn) {\n    warn.parentNode.removeChild(warn);\n}\n$3Dmolpromise.then(function() {\nviewer_1643242352769993 = $3Dmol.createViewer($(\"#3dmolviewer_1643242352769993\"),{backgroundColor:\"white\"});\nviewer_1643242352769993.zoomTo();\n\tviewer_1643242352769993.addModel(\"@<TRIPOS>MOLECULE\\nRES\\n68 76 1 0 1\\nSMALL\\nNO_CHARGES\\n@<TRIPOS>CRYSIN\\n   28.4921    13.6992    11.0407    90.0000    90.0000    90.0000  1  1\\n@<TRIPOS>ATOM\\n       1 C           -0.2544    -2.6040     0.3953 C             1 RES     \\n       2 C           -1.0090    -1.5652    -0.1614 C             1 RES     \\n       3 C           -0.4266    -0.4343    -0.7454 C             1 RES     \\n       4 C            0.9664    -0.2896    -0.7949 C             1 RES     \\n       5 C            1.7210    -1.3273    -0.2363 C             1 RES     \\n       6 C            1.1389    -2.4605     0.3434 C             1 RES     \\n       7 C            2.1849    -3.4120     0.8813 C             1 RES     \\n       8 C            3.4254    -2.6459     0.5334 C             1 RES     \\n       9 C            3.1423    -1.4800    -0.0945 C             1 RES     \\n      10 S            4.5334    -0.6519    -0.5146 S             1 RES     \\n      11 C            5.5531    -1.8364     0.1855 C             1 RES     \\n      12 C            7.0250    -1.8568     0.1178 C             1 RES     \\n      13 C            7.8129    -0.7687     0.0736 C             1 RES     \\n      14 C            7.4656     0.6652     0.2908 C             1 RES     \\n      15 C            6.6982     1.1514     1.2987 C             1 RES     \\n      16 C            6.1041     0.2839     2.2855 C             1 RES     \\n      17 N            5.6312    -0.4063     3.0848 N             1 RES     \\n      18 C            6.5655     2.5612     1.5562 C             1 RES     \\n      19 N            6.4509     3.6926     1.7748 N             1 RES     \\n      20 C            8.4982     1.4314    -0.4577 C             1 RES     \\n      21 C            8.5501     2.7908    -0.8015 C             1 RES     \\n      22 C            9.6592     3.2674    -1.5205 C             1 RES     \\n      23 C           10.6902     2.3907    -1.9067 C             1 RES     \\n      24 C           10.6105     1.0268    -1.5943 C             1 RES     \\n      25 C            9.5042     0.5750    -0.8730 C             1 RES     \\n      26 C            9.1476    -0.7858    -0.5263 C             1 RES     \\n      27 O            9.8311    -1.8111    -0.7890 O             1 RES     \\n      28 C            4.7849    -2.8919     0.6967 C             1 RES     \\n      29 C           -1.4730     0.5359    -1.2493 C             1 RES     \\n      30 C           -2.7147    -0.2051    -0.8548 C             1 RES     \\n      31 C           -2.4315    -1.3807    -0.2457 C             1 RES     \\n      32 S           -3.8230    -2.2295     0.1370 S             1 RES     \\n      33 C           -4.8417    -1.0045    -0.4737 C             1 RES     \\n      34 C           -6.3054    -1.1319    -0.5534 C             1 RES     \\n      35 C           -7.1751    -0.1319    -0.3135 C             1 RES     \\n      36 C           -8.6652    -0.2055    -0.4291 C             1 RES     \\n      37 C           -9.3750    -0.9936    -1.2807 C             1 RES     \\n      38 C           -8.7377    -1.8953    -2.2068 C             1 RES     \\n      39 N           -8.2338    -2.6213    -2.9558 N             1 RES     \\n      40 C          -10.8051    -0.8994    -1.4200 C             1 RES     \\n      41 N          -11.9547    -0.8352    -1.5452 N             1 RES     \\n      42 C           -9.1854     0.9383     0.3729 C             1 RES     \\n      43 C          -10.4968     1.2665     0.7581 C             1 RES     \\n      44 C          -10.7113     2.4137     1.5396 C             1 RES     \\n      45 C           -9.6283     3.2110     1.9487 C             1 RES     \\n      46 C           -8.3200     2.8584     1.5931 C             1 RES     \\n      47 C           -8.1281     1.7200     0.8082 C             1 RES     \\n      48 C           -6.8759     1.1157     0.4074 C             1 RES     \\n      49 O           -5.7384     1.5380     0.7466 O             1 RES     \\n      50 C           -4.0747     0.0378    -1.0213 C             1 RES     \\n      51 H           -0.7219    -3.4660     0.8528 H             1 RES     \\n      52 H            1.4337     0.5829    -1.2327 H             1 RES     \\n      53 H            2.1534    -4.3848     0.3463 H             1 RES     \\n      54 H            2.0887    -3.5342     1.9806 H             1 RES     \\n      55 H            7.4808    -2.8274    -0.0336 H             1 RES     \\n      56 H            7.7474     3.4707    -0.5622 H             1 RES     \\n      57 H            9.7140     4.3144    -1.7912 H             1 RES     \\n      58 H           11.5374     2.7660    -2.4661 H             1 RES     \\n      59 H           11.3808     0.3399    -1.9212 H             1 RES     \\n      60 H            5.1919    -3.7853     1.1525 H             1 RES     \\n      61 H           -1.4106     0.6544    -2.3522 H             1 RES     \\n      62 H           -1.4051     1.5092    -0.7177 H             1 RES     \\n      63 H           -6.6768    -2.1227    -0.7608 H             1 RES     \\n      64 H          -11.3448     0.6533     0.5053 H             1 RES     \\n      65 H          -11.7171     2.6788     1.8400 H             1 RES     \\n      66 H           -9.8045     4.0883     2.5574 H             1 RES     \\n      67 H           -7.4792     3.4510     1.9311 H             1 RES     \\n      68 H           -4.4784     0.9016    -1.5330 H             1 RES     \\n@<TRIPOS>BOND\\n       1        1        2 1\\n       2        3        2 1\\n       3       31        2 1\\n       4        6        1 1\\n       5       51        1 1\\n       6        5        6 1\\n       7        7        6 1\\n       8        4        3 1\\n       9       29        3 1\\n      10       30       31 1\\n      11       32       31 1\\n      12        5        4 1\\n      13       52        4 1\\n      14       30       29 1\\n      15       61       29 1\\n      16       62       29 1\\n      17        9        5 1\\n      18        8        9 1\\n      19       10        9 1\\n      20        8        7 1\\n      21       53        7 1\\n      22       54        7 1\\n      23       28        8 1\\n      24       11       28 1\\n      25       60       28 1\\n      26       11       10 1\\n      27       12       11 1\\n      28       13       12 1\\n      29       55       12 1\\n      30       14       13 1\\n      31       26       13 1\\n      32       15       14 1\\n      33       20       14 1\\n      34       25       26 1\\n      35       27       26 1\\n      36       16       15 1\\n      37       18       15 1\\n      38       21       20 1\\n      39       25       20 1\\n      40       17       16 1\\n      41       19       18 1\\n      42       22       21 1\\n      43       56       21 1\\n      44       24       25 1\\n      45       23       22 1\\n      46       57       22 1\\n      47       24       23 1\\n      48       58       23 1\\n      49       59       24 1\\n      50       50       30 1\\n      51       33       50 1\\n      52       68       50 1\\n      53       33       32 1\\n      54       34       33 1\\n      55       35       34 1\\n      56       63       34 1\\n      57       36       35 1\\n      58       48       35 1\\n      59       37       36 1\\n      60       42       36 1\\n      61       47       48 1\\n      62       49       48 1\\n      63       38       37 1\\n      64       40       37 1\\n      65       43       42 1\\n      66       47       42 1\\n      67       39       38 1\\n      68       41       40 1\\n      69       44       43 1\\n      70       64       43 1\\n      71       46       47 1\\n      72       45       44 1\\n      73       65       44 1\\n      74       46       45 1\\n      75       66       45 1\\n      76       67       46 1\\n@<TRIPOS>SUBSTRUCTURE\\n       1 RES             1 RESIDUE    0 **** ROOT      0\\n\",\"mol2\");\n\tviewer_1643242352769993.setStyle({\"stick\": {\"radius\": 0.2, \"color\": \"grey\"}, \"sphere\": {\"scale\": 0.3, \"colorscheme\": {}}});\n\tviewer_1643242352769993.zoomTo();\nviewer_1643242352769993.render();\n});\n</script>",
      "text/html": [
       "<div id=\"3dmolviewer_1643242352769993\"  style=\"position: relative; width: 640px; height: 480px\">\n",
       "        <p id=\"3dmolwarning_1643242352769993\" style=\"background-color:#ffcccc;color:black\">You appear to be running in JupyterLab (or JavaScript failed to load for some other reason).  You need to install the 3dmol extension: <br>\n",
       "        <tt>jupyter labextension install jupyterlab_3dmol</tt></p>\n",
       "        </div>\n",
       "<script>\n",
       "\n",
       "var loadScriptAsync = function(uri){\n",
       "  return new Promise((resolve, reject) => {\n",
       "    var tag = document.createElement('script');\n",
       "    tag.src = uri;\n",
       "    tag.async = true;\n",
       "    tag.onload = () => {\n",
       "      resolve();\n",
       "    };\n",
       "  var firstScriptTag = document.getElementsByTagName('script')[0];\n",
       "  firstScriptTag.parentNode.insertBefore(tag, firstScriptTag);\n",
       "});\n",
       "};\n",
       "\n",
       "if(typeof $3Dmolpromise === 'undefined') {\n",
       "$3Dmolpromise = null;\n",
       "  $3Dmolpromise = loadScriptAsync('https://3dmol.org/build/3Dmol.js');\n",
       "}\n",
       "\n",
       "var viewer_1643242352769993 = null;\n",
       "var warn = document.getElementById(\"3dmolwarning_1643242352769993\");\n",
       "if(warn) {\n",
       "    warn.parentNode.removeChild(warn);\n",
       "}\n",
       "$3Dmolpromise.then(function() {\n",
       "viewer_1643242352769993 = $3Dmol.createViewer($(\"#3dmolviewer_1643242352769993\"),{backgroundColor:\"white\"});\n",
       "viewer_1643242352769993.zoomTo();\n",
       "\tviewer_1643242352769993.addModel(\"@<TRIPOS>MOLECULE\\nRES\\n68 76 1 0 1\\nSMALL\\nNO_CHARGES\\n@<TRIPOS>CRYSIN\\n   28.4921    13.6992    11.0407    90.0000    90.0000    90.0000  1  1\\n@<TRIPOS>ATOM\\n       1 C           -0.2544    -2.6040     0.3953 C             1 RES     \\n       2 C           -1.0090    -1.5652    -0.1614 C             1 RES     \\n       3 C           -0.4266    -0.4343    -0.7454 C             1 RES     \\n       4 C            0.9664    -0.2896    -0.7949 C             1 RES     \\n       5 C            1.7210    -1.3273    -0.2363 C             1 RES     \\n       6 C            1.1389    -2.4605     0.3434 C             1 RES     \\n       7 C            2.1849    -3.4120     0.8813 C             1 RES     \\n       8 C            3.4254    -2.6459     0.5334 C             1 RES     \\n       9 C            3.1423    -1.4800    -0.0945 C             1 RES     \\n      10 S            4.5334    -0.6519    -0.5146 S             1 RES     \\n      11 C            5.5531    -1.8364     0.1855 C             1 RES     \\n      12 C            7.0250    -1.8568     0.1178 C             1 RES     \\n      13 C            7.8129    -0.7687     0.0736 C             1 RES     \\n      14 C            7.4656     0.6652     0.2908 C             1 RES     \\n      15 C            6.6982     1.1514     1.2987 C             1 RES     \\n      16 C            6.1041     0.2839     2.2855 C             1 RES     \\n      17 N            5.6312    -0.4063     3.0848 N             1 RES     \\n      18 C            6.5655     2.5612     1.5562 C             1 RES     \\n      19 N            6.4509     3.6926     1.7748 N             1 RES     \\n      20 C            8.4982     1.4314    -0.4577 C             1 RES     \\n      21 C            8.5501     2.7908    -0.8015 C             1 RES     \\n      22 C            9.6592     3.2674    -1.5205 C             1 RES     \\n      23 C           10.6902     2.3907    -1.9067 C             1 RES     \\n      24 C           10.6105     1.0268    -1.5943 C             1 RES     \\n      25 C            9.5042     0.5750    -0.8730 C             1 RES     \\n      26 C            9.1476    -0.7858    -0.5263 C             1 RES     \\n      27 O            9.8311    -1.8111    -0.7890 O             1 RES     \\n      28 C            4.7849    -2.8919     0.6967 C             1 RES     \\n      29 C           -1.4730     0.5359    -1.2493 C             1 RES     \\n      30 C           -2.7147    -0.2051    -0.8548 C             1 RES     \\n      31 C           -2.4315    -1.3807    -0.2457 C             1 RES     \\n      32 S           -3.8230    -2.2295     0.1370 S             1 RES     \\n      33 C           -4.8417    -1.0045    -0.4737 C             1 RES     \\n      34 C           -6.3054    -1.1319    -0.5534 C             1 RES     \\n      35 C           -7.1751    -0.1319    -0.3135 C             1 RES     \\n      36 C           -8.6652    -0.2055    -0.4291 C             1 RES     \\n      37 C           -9.3750    -0.9936    -1.2807 C             1 RES     \\n      38 C           -8.7377    -1.8953    -2.2068 C             1 RES     \\n      39 N           -8.2338    -2.6213    -2.9558 N             1 RES     \\n      40 C          -10.8051    -0.8994    -1.4200 C             1 RES     \\n      41 N          -11.9547    -0.8352    -1.5452 N             1 RES     \\n      42 C           -9.1854     0.9383     0.3729 C             1 RES     \\n      43 C          -10.4968     1.2665     0.7581 C             1 RES     \\n      44 C          -10.7113     2.4137     1.5396 C             1 RES     \\n      45 C           -9.6283     3.2110     1.9487 C             1 RES     \\n      46 C           -8.3200     2.8584     1.5931 C             1 RES     \\n      47 C           -8.1281     1.7200     0.8082 C             1 RES     \\n      48 C           -6.8759     1.1157     0.4074 C             1 RES     \\n      49 O           -5.7384     1.5380     0.7466 O             1 RES     \\n      50 C           -4.0747     0.0378    -1.0213 C             1 RES     \\n      51 H           -0.7219    -3.4660     0.8528 H             1 RES     \\n      52 H            1.4337     0.5829    -1.2327 H             1 RES     \\n      53 H            2.1534    -4.3848     0.3463 H             1 RES     \\n      54 H            2.0887    -3.5342     1.9806 H             1 RES     \\n      55 H            7.4808    -2.8274    -0.0336 H             1 RES     \\n      56 H            7.7474     3.4707    -0.5622 H             1 RES     \\n      57 H            9.7140     4.3144    -1.7912 H             1 RES     \\n      58 H           11.5374     2.7660    -2.4661 H             1 RES     \\n      59 H           11.3808     0.3399    -1.9212 H             1 RES     \\n      60 H            5.1919    -3.7853     1.1525 H             1 RES     \\n      61 H           -1.4106     0.6544    -2.3522 H             1 RES     \\n      62 H           -1.4051     1.5092    -0.7177 H             1 RES     \\n      63 H           -6.6768    -2.1227    -0.7608 H             1 RES     \\n      64 H          -11.3448     0.6533     0.5053 H             1 RES     \\n      65 H          -11.7171     2.6788     1.8400 H             1 RES     \\n      66 H           -9.8045     4.0883     2.5574 H             1 RES     \\n      67 H           -7.4792     3.4510     1.9311 H             1 RES     \\n      68 H           -4.4784     0.9016    -1.5330 H             1 RES     \\n@<TRIPOS>BOND\\n       1        1        2 1\\n       2        3        2 1\\n       3       31        2 1\\n       4        6        1 1\\n       5       51        1 1\\n       6        5        6 1\\n       7        7        6 1\\n       8        4        3 1\\n       9       29        3 1\\n      10       30       31 1\\n      11       32       31 1\\n      12        5        4 1\\n      13       52        4 1\\n      14       30       29 1\\n      15       61       29 1\\n      16       62       29 1\\n      17        9        5 1\\n      18        8        9 1\\n      19       10        9 1\\n      20        8        7 1\\n      21       53        7 1\\n      22       54        7 1\\n      23       28        8 1\\n      24       11       28 1\\n      25       60       28 1\\n      26       11       10 1\\n      27       12       11 1\\n      28       13       12 1\\n      29       55       12 1\\n      30       14       13 1\\n      31       26       13 1\\n      32       15       14 1\\n      33       20       14 1\\n      34       25       26 1\\n      35       27       26 1\\n      36       16       15 1\\n      37       18       15 1\\n      38       21       20 1\\n      39       25       20 1\\n      40       17       16 1\\n      41       19       18 1\\n      42       22       21 1\\n      43       56       21 1\\n      44       24       25 1\\n      45       23       22 1\\n      46       57       22 1\\n      47       24       23 1\\n      48       58       23 1\\n      49       59       24 1\\n      50       50       30 1\\n      51       33       50 1\\n      52       68       50 1\\n      53       33       32 1\\n      54       34       33 1\\n      55       35       34 1\\n      56       63       34 1\\n      57       36       35 1\\n      58       48       35 1\\n      59       37       36 1\\n      60       42       36 1\\n      61       47       48 1\\n      62       49       48 1\\n      63       38       37 1\\n      64       40       37 1\\n      65       43       42 1\\n      66       47       42 1\\n      67       39       38 1\\n      68       41       40 1\\n      69       44       43 1\\n      70       64       43 1\\n      71       46       47 1\\n      72       45       44 1\\n      73       65       44 1\\n      74       46       45 1\\n      75       66       45 1\\n      76       67       46 1\\n@<TRIPOS>SUBSTRUCTURE\\n       1 RES             1 RESIDUE    0 **** ROOT      0\\n\",\"mol2\");\n",
       "\tviewer_1643242352769993.setStyle({\"stick\": {\"radius\": 0.2, \"color\": \"grey\"}, \"sphere\": {\"scale\": 0.3, \"colorscheme\": {}}});\n",
       "\tviewer_1643242352769993.zoomTo();\n",
       "viewer_1643242352769993.render();\n",
       "});\n",
       "</script>"
      ]
     },
     "metadata": {},
     "output_type": "display_data"
    }
   ],
   "source": [
    "itic_smiles = \"c1c4c(cc2c1Cc3c2sc(C=c1c(=C(C#N)C#N)c2ccccc2c1(=O))c3)Cc5c4sc(C=c1c(=C(C#N)C#N)c2ccccc2c1(=O))c5\"\n",
    "\n",
    "itic = mb.load(itic_smiles, smiles=True)\n",
    "itic.visualize().show()\n",
    "#backbone = mb.load(backbone, smiles=True, backend='pybel')\n",
    "#backbone.visualize().show()\n",
    "#ends = mb.load(end, smiles=True, backend='pybel')\n",
    "#ends.visualize().show()"
   ]
  },
  {
   "cell_type": "markdown",
   "id": "collectible-complexity",
   "metadata": {},
   "source": [
    "In the cell below, we'll create a system object for morphct. This the main class that will hold all the information for our simulation. We'll need to give it a gsd file, path to an output directory, the frame of the gsd file to use, the scaling factor to convert the lengths in the gsd to Angstroms, and a dictionary to map particle types to elements. Here's our starting structure, an atomistic (not coarse-grain or united atom) gsd file with 10 ITIC molecules:"
   ]
  },
  {
   "cell_type": "code",
   "execution_count": null,
   "id": "alive-spending",
   "metadata": {},
   "outputs": [],
   "source": [
    "gsdfile = \"itic-trajectory.gsd\"\n",
    "\n",
    "system = System(gsdfile, \"output_itic\", frame=-1, scale=3.5636, conversion_dict=amber_dict)\n",
    "system.visualize_system()"
   ]
  },
  {
   "cell_type": "markdown",
   "id": "brave-recognition",
   "metadata": {},
   "source": [
    "Next we need to pick the chromophores. This is the most time-consuming part. We provide a function, `morphct.chromophores.get_chromo_ids_smiles`, that can be used to pick chromophores using SMILES strings (see p3ht example), but for this molecule it's difficult to use SMILES, so instead we specify the indices manually."
   ]
  },
  {
   "cell_type": "code",
   "execution_count": null,
   "id": "occasional-chocolate",
   "metadata": {},
   "outputs": [],
   "source": [
    "# the indices of the acceptor in one molecule\n",
    "a_inds = [np.arange(19), np.hstack((np.array([166]), np.arange(168,186)))]\n",
    "\n",
    "#the indices of the donor in one molecule\n",
    "d_inds = np.hstack(\n",
    "    (np.array([20]), np.arange(22,33),np.arange(91,103),np.arange(161,165))\n",
    ")\n",
    "\n",
    "mol_length = 186\n",
    "n_mols = 10\n",
    "\n",
    "ac_inds = [\n",
    "    item for sublist in \n",
    "    [(a_inds[0] + i * mol_length, a_inds[1] + i * mol_length) for i in range(n_mols)]\n",
    "    for item in sublist\n",
    "]\n",
    "\n",
    "do_inds = [d_inds + i * mol_length for i in range(n_mols)]"
   ]
  },
  {
   "cell_type": "code",
   "execution_count": null,
   "id": "german-internet",
   "metadata": {},
   "outputs": [],
   "source": [
    "# acceptor and donor combined\n",
    "all_inds = np.hstack(\n",
    "    (np.arange(33), np.arange(91,103), np.arange(161,186))\n",
    ")"
   ]
  },
  {
   "cell_type": "code",
   "execution_count": null,
   "id": "effective-internet",
   "metadata": {},
   "outputs": [],
   "source": [
    "# saving the indices for use in morphct-flow\n",
    "np.savetxt(\"itic_a_ids.csv\", a_inds, fmt=\"%i\")\n",
    "np.savetxt(\"itic_d_ids.csv\", d_inds, fmt=\"%i\")\n",
    "np.savetxt(\"itic_all_ids.csv\", all_inds, fmt=\"%i\")"
   ]
  },
  {
   "cell_type": "markdown",
   "id": "parallel-canvas",
   "metadata": {},
   "source": [
    "Next let's add these chromophores to the system and visualize them. The acceptors will be colored dark red and the donors will be colored purple.\n",
    "\n",
    "The reorganization energy for ITIC comes from [Han 2018](https://doi.org/10.1002/solr.201800251)."
   ]
  },
  {
   "cell_type": "code",
   "execution_count": null,
   "id": "published-blend",
   "metadata": {},
   "outputs": [],
   "source": [
    "system.add_chromophores(\n",
    "    ac_inds, \"acceptor\", chromophore_kwargs={\"charge\": -1, \"reorganization_energy\": 0.15}\n",
    ")\n",
    "\n",
    "system.add_chromophores(\n",
    "    do_inds, \"donor\", chromophore_kwargs={\"reorganization_energy\" : 0.15}\n",
    ")\n",
    "\n",
    "system.visualize_chromophores()"
   ]
  },
  {
   "cell_type": "markdown",
   "id": "social-reservoir",
   "metadata": {},
   "source": [
    "Next let's compute the energies required to run the KMC simulation. First, the neighbors will be calculated (using voronoi analysis) and then the single and dimer energies will be calculated and saved to a file. (So that the simulation can be restarted from this point more easily.)"
   ]
  },
  {
   "cell_type": "code",
   "execution_count": null,
   "id": "pointed-assist",
   "metadata": {},
   "outputs": [],
   "source": [
    "system.compute_energies()"
   ]
  },
  {
   "cell_type": "markdown",
   "id": "infectious-affect",
   "metadata": {},
   "source": [
    "We can check that the pair and singles inputs look reasonable. There won't be any bonds and hydrogen atoms should've been added."
   ]
  },
  {
   "cell_type": "code",
   "execution_count": null,
   "id": "equipped-adoption",
   "metadata": {},
   "outputs": [],
   "source": [
    "i = 86 # try any number from 0 to 86\n",
    "print(f\"Pair #{i}:\")\n",
    "system.visualize_qcc_input(i, single=False)\n",
    "\n",
    "i = 0 # try any number from 0 to 9\n",
    "print(f\"Single #{i}:\")\n",
    "system.visualize_qcc_input(i)"
   ]
  },
  {
   "cell_type": "markdown",
   "id": "elder-distributor",
   "metadata": {},
   "source": [
    "Once the energy files are finished, we can use them to set the energy values of the chromophores . (This can also be run to restart the calculation from this point.)"
   ]
  },
  {
   "cell_type": "code",
   "execution_count": null,
   "id": "english-windsor",
   "metadata": {},
   "outputs": [],
   "source": [
    "system.set_energies()"
   ]
  },
  {
   "cell_type": "markdown",
   "id": "exciting-check",
   "metadata": {},
   "source": [
    "This function sets the `homo_1`, `homo`, `lumo`, `lumo_1`, `neighbors_delta_e`, and `neighbors_ti` attribute of each chromphore:"
   ]
  },
  {
   "cell_type": "code",
   "execution_count": null,
   "id": "active-porcelain",
   "metadata": {},
   "outputs": [],
   "source": [
    "i = 0\n",
    "chromo = system.chromophores[i]\n",
    "print(f\"Chromophore {i}:\")\n",
    "print(\n",
    "    f\"HOMO-1: {chromo.homo_1:.2f} HOMO: {chromo.homo:.2f} LUMO: {chromo.lumo:.2f} \"\n",
    "    f\"LUMO+1: {chromo.lumo_1:.2f}\"\n",
    ")\n",
    "print(f\"{len(chromo.neighbors)} neighbors\")\n",
    "print(f\"DeltaE of first neighbor: {chromo.neighbors_delta_e[0]:.3f}\")\n",
    "print(f\"Transfer integral of first neighbor: {chromo.neighbors_ti[0]:.3f}\")"
   ]
  },
  {
   "cell_type": "markdown",
   "id": "composite-society",
   "metadata": {},
   "source": [
    "With all the energy values set, we're ready to run KMC! We need to set the temperature that the KMC simulation will be run at and the lifetimes and numbers of our carriers:"
   ]
  },
  {
   "cell_type": "code",
   "execution_count": null,
   "id": "anticipated-marking",
   "metadata": {},
   "outputs": [],
   "source": [
    "lifetimes = [1.00e-13, 1.00e-12]\n",
    "temp = 300\n",
    "system.run_kmc(lifetimes, temp, n_holes=10, n_elec=10, verbose=1)"
   ]
  },
  {
   "cell_type": "markdown",
   "id": "controversial-teddy",
   "metadata": {},
   "source": [
    "The output files for each process are saved in `output_itic/kmc/kmc_PROC#.log` (where `PROC#` is whatever process number the job was run on) and analysis plots will be saved in `output_itic/kmc/figures/`."
   ]
  },
  {
   "cell_type": "code",
   "execution_count": null,
   "id": "satellite-watch",
   "metadata": {},
   "outputs": [],
   "source": [
    "with open(\"output_itic/kmc/kmc_00.log\", \"r\") as f:\n",
    "    lines = f.readlines()\n",
    "print(*lines)"
   ]
  }
 ],
 "metadata": {
  "kernelspec": {
   "display_name": "Python 3 (ipykernel)",
   "language": "python",
   "name": "python3"
  },
  "language_info": {
   "codemirror_mode": {
    "name": "ipython",
    "version": 3
   },
   "file_extension": ".py",
   "mimetype": "text/x-python",
   "name": "python",
   "nbconvert_exporter": "python",
   "pygments_lexer": "ipython3",
   "version": "3.7.10"
  }
 },
 "nbformat": 4,
 "nbformat_minor": 5
}

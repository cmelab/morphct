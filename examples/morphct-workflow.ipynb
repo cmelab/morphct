{
 "cells": [
  {
   "cell_type": "markdown",
   "id": "damaged-biodiversity",
   "metadata": {},
   "source": [
    "# MorphCT Example Workflow\n",
    "\n",
    "1. Start with an atomistic snapshot\n",
    "2. Determine which atom indices belong to which chromophore using [SMARTS](https://www.daylight.com/dayhtml/doc/theory/theory.smarts.html) matching\n",
    "3. Calculate the energies for each chromophore and chromophore pair using quantum chemical calculations (QCC)\n",
    "4. Run the kinetic monte carlo (KMC) algorithm to calculate charge mobility"
   ]
  },
  {
   "cell_type": "markdown",
   "id": "latest-depth",
   "metadata": {},
   "source": [
    "First let's import necessary modules and define a couple of useful functions for visualization:"
   ]
  },
  {
   "cell_type": "code",
   "execution_count": null,
   "id": "editorial-regulation",
   "metadata": {},
   "outputs": [],
   "source": [
    "from copy import deepcopy\n",
    "import os\n",
    "import multiprocessing as mp\n",
    "\n",
    "import gsd.hoomd\n",
    "import mbuild as mb\n",
    "import numpy as np\n",
    "\n",
    "from morphct import execute_qcc as eqcc\n",
    "from morphct import mobility_kmc as kmc\n",
    "from morphct import chromophores\n",
    "from morphct import kmc_analyze\n",
    "from morphct.chromophores import conversion_dict\n",
    "\n",
    "\n",
    "def visualize_qcc_input(qcc_input):\n",
    "    \"\"\"\n",
    "    Visualize a quantum chemical input string (for pyscf) using mbuild.\n",
    "    \n",
    "    Parameters\n",
    "    ----------\n",
    "    qcc_input : str\n",
    "        Input string to visualize\n",
    "    \"\"\"\n",
    "    comp = mb.Compound()\n",
    "    for line in qcc_input.split(\";\")[:-1]:\n",
    "        atom, x, y, z = line.split()\n",
    "        xyz = np.array([x,y,z], dtype=float)\n",
    "        # Angstrom -> nm\n",
    "        xyz /= 10\n",
    "        comp.add(mb.Particle(name=atom,pos=xyz))\n",
    "    comp.visualize().show()\n",
    "    \n",
    "def from_snapshot(snapshot, scale=1.0):\n",
    "    \"\"\"\n",
    "    Convert a hoomd.data.Snapshot or a gsd.hoomd.Snapshot to an\n",
    "    mbuild Compound.\n",
    "    \n",
    "    Parameters\n",
    "    ----------\n",
    "    snapshot : hoomd.data.SnapshotParticleData or gsd.hoomd.Snapshot\n",
    "        Snapshot from which to build the mbuild Compound.\n",
    "    scale : float, optional, default 1.0\n",
    "        Value by which to scale the length values\n",
    "        \n",
    "    Returns\n",
    "    -------\n",
    "    comp : mb.Compound\n",
    "    \"\"\"\n",
    "    comp = mb.Compound()\n",
    "    bond_array = snapshot.bonds.group\n",
    "    n_atoms = snapshot.particles.N\n",
    "\n",
    "    # There will be a better way to do this once box overhaul merged\n",
    "    try:\n",
    "        # gsd\n",
    "        box = snapshot.configuration.box\n",
    "        comp.box = mb.box.Box(lengths=box[:3] * scale)\n",
    "    except AttributeError:\n",
    "        # hoomd\n",
    "        box = snapshot.box\n",
    "        comp.box = mb.box.Box(lengths=np.array([box.Lx,box.Ly,box.Lz]) * scale)\n",
    "\n",
    "    # to_hoomdsnapshot shifts the coords, this will keep consistent\n",
    "    shift = np.array(comp.box.lengths)/2\n",
    "    # Add particles\n",
    "    for i in range(n_atoms):\n",
    "        name = snapshot.particles.types[snapshot.particles.typeid[i]]\n",
    "        xyz = snapshot.particles.position[i] * scale + shift\n",
    "        charge = snapshot.particles.charge[i]\n",
    "\n",
    "        atom = mb.Particle(name=name, pos=xyz, charge=charge)\n",
    "        comp.add(atom, label=str(i))\n",
    "\n",
    "    # Add bonds\n",
    "    particle_dict = {idx: p for idx, p in enumerate(comp.particles())}\n",
    "    for i in range(bond_array.shape[0]):\n",
    "        atom1 = int(bond_array[i][0])\n",
    "        atom2 = int(bond_array[i][1])\n",
    "        comp.add_bond([particle_dict[atom1], particle_dict[atom2]])\n",
    "    return comp"
   ]
  },
  {
   "cell_type": "markdown",
   "id": "suffering-airport",
   "metadata": {},
   "source": [
    "Here's our starting structure, an atomistic (not coarse-grain or united atom) gsd file with 2 p3ht 15-mers:"
   ]
  },
  {
   "cell_type": "code",
   "execution_count": null,
   "id": "diagnostic-allah",
   "metadata": {},
   "outputs": [],
   "source": [
    "with gsd.hoomd.open(name='morphct/tests/assets/p3ht_2_15mers.gsd', mode='rb') as f:\n",
    "    snap = f[0]\n",
    "    \n",
    "box = snap.configuration.box[:3]\n",
    "unwrapped_positions = snap.particles.position + snap.particles.image * box\n",
    "\n",
    "unwrap_snap = deepcopy(snap)\n",
    "unwrap_snap.particles.position = unwrapped_positions\n",
    "unwrap_snap.particles.types = [conversion_dict[i].symbol for i in snap.particles.types]\n",
    "comp = from_snapshot(unwrap_snap, scale=0.1)\n",
    "comp.visualize().show()"
   ]
  },
  {
   "cell_type": "markdown",
   "id": "efficient-protocol",
   "metadata": {},
   "source": [
    "Next let's use SMARTS matching to detect our chromophores. This SMARTS string is for (a generalized) p3ht. The `conversion_dict` is a dictionary which converts atom type to element.\n",
    "\n",
    "Note: The positions/orientations in the gsd file are not optimal, so openbabel has a tough time recognizing them as aromatic -- this is why I am defining the SMARTS by element (`[#6]`) instead of aromatic carbon (`c`) and even so, one chromophore is not detected correctly. If we were running a simulation workflow from scratch, I would recommend using the first frame (before any distortion) for smarts matching and then mapping those indices to the final structure."
   ]
  },
  {
   "cell_type": "code",
   "execution_count": null,
   "id": "useful-earthquake",
   "metadata": {},
   "outputs": [],
   "source": [
    "smarts_str = \"[#6]1[#6][#16][#6][#6]1CCCCCC\"\n",
    "\n",
    "aaids = chromophores.get_chromo_ids_smiles(snap, smarts_str, conversion_dict)"
   ]
  },
  {
   "cell_type": "markdown",
   "id": "gross-passage",
   "metadata": {},
   "source": [
    "For two 15-mers with each monomer being a chromophore, we expect 30 chromophores. Basically, the smarts matching misses one chromophore. So I have to add it manually. \n",
    "\n",
    "The visualization below shows the detected chromophores in pink and the missed one in blue:"
   ]
  },
  {
   "cell_type": "code",
   "execution_count": null,
   "id": "aware-major",
   "metadata": {},
   "outputs": [],
   "source": [
    "missed_inds = np.array([727,728,729,730,731,732,733,734,735,736,737])\n",
    "\n",
    "for i,p in enumerate(comp.particles()):\n",
    "    if i in np.hstack(aaids):\n",
    "        p.name = \"Kr\"\n",
    "    elif i in missed_inds:\n",
    "        p.name = \"N\"\n",
    "comp.visualize().show()\n",
    "\n",
    "aaids.append(missed_inds)"
   ]
  },
  {
   "cell_type": "markdown",
   "id": "comprehensive-pakistan",
   "metadata": {},
   "source": [
    "Next let's make a Chromophore object for each detected chromophore and add them to a list:"
   ]
  },
  {
   "cell_type": "code",
   "execution_count": null,
   "id": "athletic-spank",
   "metadata": {},
   "outputs": [],
   "source": [
    "chromo_list = []\n",
    "for i,aaid in enumerate(aaids):\n",
    "    chromo_list.append(chromophores.Chromophore(i, snap, aaid, \"donor\", conversion_dict))"
   ]
  },
  {
   "cell_type": "markdown",
   "id": "homeless-binding",
   "metadata": {},
   "source": [
    "Next let's compute (using voronoi analysis) which chromophores are neighbors. `qcc_pairs` is a list containing the indices of the pair and the pair's qcc input: `((i,j), qcc_input)`\n"
   ]
  },
  {
   "cell_type": "code",
   "execution_count": null,
   "id": "official-jumping",
   "metadata": {},
   "outputs": [],
   "source": [
    "qcc_pairs = chromophores.set_neighbors_voronoi(chromo_list, snap, conversion_dict, d_cut=min(box)/2)\n",
    "print(f\"There are {len(qcc_pairs)} chromophore pairs\")"
   ]
  },
  {
   "cell_type": "markdown",
   "id": "oriental-spank",
   "metadata": {},
   "source": [
    "Before running any QCC we can check that the pair and singles inputs look reasonable. There won't be any bonds and hydrogen atoms should've been added."
   ]
  },
  {
   "cell_type": "code",
   "execution_count": null,
   "id": "republican-canberra",
   "metadata": {},
   "outputs": [],
   "source": [
    "i = 13 # try any number from 0 to 180\n",
    "print(f\"Pair #{i}:\")\n",
    "visualize_qcc_input(qcc_pairs[i][1])\n",
    "\n",
    "i = 0 # try any number from 0 to 29\n",
    "print(f\"Single #{i}:\")\n",
    "visualize_qcc_input(chromo_list[i].qcc_input)"
   ]
  },
  {
   "cell_type": "markdown",
   "id": "confidential-humor",
   "metadata": {},
   "source": [
    "Next we need to get the single and pair energies which will be used in the QCC calculations. These take a little time, so these functions are edesigned to save to a file. We'll first make the directory and define the filenames."
   ]
  },
  {
   "cell_type": "code",
   "execution_count": null,
   "id": "extraordinary-saskatchewan",
   "metadata": {},
   "outputs": [],
   "source": [
    "outpath = os.path.join(os.getcwd(), \"output\")\n",
    "if not os.path.exists(outpath):\n",
    "    os.makedirs(outpath)\n",
    "s_filename = os.path.join(outpath, \"singles_energies.txt\")\n",
    "d_filename = os.path.join(outpath, \"dimer_energies.txt\")"
   ]
  },
  {
   "cell_type": "markdown",
   "id": "attractive-excellence",
   "metadata": {},
   "source": [
    "MorphCT uses multiprocessing to run calculations in parallel.\n",
    "\n",
    "`eqcc.get_homolumo(chromo_list[0].qcc_input)` operates on one chromophore and returns HOMO-1, HOMO, LUMO, LUMO+1\n",
    "\n",
    "`eqcc.singles_homolumo` does this for all chromophores and saves the energies to a file."
   ]
  },
  {
   "cell_type": "code",
   "execution_count": null,
   "id": "incorporated-wildlife",
   "metadata": {},
   "outputs": [],
   "source": [
    "%%time\n",
    "data = eqcc.singles_homolumo(chromo_list, s_filename)\n",
    "\n",
    "# Approx time required:\n",
    "# CPU times: user 20.9 ms, sys: 30.1 ms, total: 51 ms\n",
    "# Wall time: 6.05 s"
   ]
  },
  {
   "cell_type": "markdown",
   "id": "charming-connection",
   "metadata": {},
   "source": [
    "Next let's compute the pair energies:"
   ]
  },
  {
   "cell_type": "code",
   "execution_count": null,
   "id": "hazardous-terrorism",
   "metadata": {},
   "outputs": [],
   "source": [
    "%%time\n",
    "dimer_data = eqcc.dimer_homolumo(qcc_pairs, d_filename)\n",
    "\n",
    "# Approx time required:\n",
    "# CPU times: user 20.3 ms, sys: 27.2 ms, total: 47.6 ms\n",
    "# Wall time: 56.6 s"
   ]
  },
  {
   "cell_type": "markdown",
   "id": "complex-throat",
   "metadata": {},
   "source": [
    "Once the energy files are finsihed, we can use them to set the energy values of the chromophores in the list"
   ]
  },
  {
   "cell_type": "code",
   "execution_count": null,
   "id": "consolidated-exhibit",
   "metadata": {},
   "outputs": [],
   "source": [
    "eqcc.set_energyvalues(chromo_list, s_filename, d_filename)"
   ]
  },
  {
   "cell_type": "markdown",
   "id": "placed-burning",
   "metadata": {},
   "source": [
    "This function sets the homo_1, homo, lumo, lumo_1, neighbors_delta_e, and neighbors_ti of each chromphore."
   ]
  },
  {
   "cell_type": "code",
   "execution_count": null,
   "id": "interstate-grammar",
   "metadata": {},
   "outputs": [],
   "source": [
    "i = 0\n",
    "chromo = chromo_list[i]\n",
    "print(f\"Chromophore {i}:\")\n",
    "print(f\"HOMO-1: {chromo.homo_1:.2f} HOMO: {chromo.homo:.2f} LUMO: {chromo.lumo:.2f} LUMO+1: {chromo.lumo_1:.2f}\")\n",
    "print(f\"{len(chromo.neighbors)} neighbors\")\n",
    "print(f\"DeltaE of first neighbor: {chromo.neighbors_delta_e[0]:.3f}\")\n",
    "print(f\"Transfer integral of first neighbor: {chromo.neighbors_ti[0]:.3f}\")"
   ]
  },
  {
   "cell_type": "markdown",
   "id": "leading-territory",
   "metadata": {},
   "source": [
    "With all the energy values set, we're ready to run KMC! First we'll make a directory and set a random seed to keep our results consistent:"
   ]
  },
  {
   "cell_type": "code",
   "execution_count": null,
   "id": "significant-malpractice",
   "metadata": {},
   "outputs": [],
   "source": [
    "kmc_dir = os.path.join(outpath, \"kmc\")\n",
    "if not os.path.exists(kmc_dir):\n",
    "    os.makedirs(kmc_dir)\n",
    "    \n",
    "seed = 42"
   ]
  },
  {
   "cell_type": "markdown",
   "id": "immune-weapon",
   "metadata": {},
   "source": [
    "Next we'll create a random list of jobs:"
   ]
  },
  {
   "cell_type": "code",
   "execution_count": null,
   "id": "moved-programming",
   "metadata": {},
   "outputs": [],
   "source": [
    "lifetimes = [1.00e-13, 1.00e-12]\n",
    "jobs_list = kmc.get_jobslist(lifetimes, n_holes=10, seed=seed)"
   ]
  },
  {
   "cell_type": "markdown",
   "id": "fitting-salon",
   "metadata": {},
   "source": [
    "And we'll run these jobs in parallel using multiprocessing:"
   ]
  },
  {
   "cell_type": "code",
   "execution_count": null,
   "id": "balanced-hungarian",
   "metadata": {},
   "outputs": [],
   "source": [
    "temp = 300\n",
    "combined_data = kmc.run_kmc(jobs_list, kmc_dir, chromo_list, snap, temp, verbose=1)"
   ]
  },
  {
   "cell_type": "markdown",
   "id": "editorial-manner",
   "metadata": {},
   "source": [
    "The output files for each process are saved in output/kmc/kmc_**proc#**.log:"
   ]
  },
  {
   "cell_type": "code",
   "execution_count": null,
   "id": "provincial-mobility",
   "metadata": {},
   "outputs": [],
   "source": [
    "with open(os.path.join(kmc_dir, \"kmc_00.log\"), \"r\") as f:\n",
    "    lines = f.readlines()\n",
    "print(*lines)"
   ]
  },
  {
   "cell_type": "markdown",
   "id": "civil-image",
   "metadata": {},
   "source": [
    "Finally we can analyze our results -- plots will be saved in output/kmc/figures/"
   ]
  },
  {
   "cell_type": "code",
   "execution_count": null,
   "id": "resistant-cargo",
   "metadata": {},
   "outputs": [],
   "source": [
    "kmc_analyze.main(combined_data, temp, chromo_list, snap, kmc_dir)"
   ]
  },
  {
   "cell_type": "code",
   "execution_count": null,
   "id": "composed-documentation",
   "metadata": {},
   "outputs": [],
   "source": []
  }
 ],
 "metadata": {
  "kernelspec": {
   "display_name": "Python 3",
   "language": "python",
   "name": "python3"
  },
  "language_info": {
   "codemirror_mode": {
    "name": "ipython",
    "version": 3
   },
   "file_extension": ".py",
   "mimetype": "text/x-python",
   "name": "python",
   "nbconvert_exporter": "python",
   "pygments_lexer": "ipython3",
   "version": "3.7.10"
  }
 },
 "nbformat": 4,
 "nbformat_minor": 5
}

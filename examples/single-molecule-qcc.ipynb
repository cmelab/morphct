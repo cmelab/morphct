{
 "cells": [
  {
   "cell_type": "markdown",
   "id": "a6a51e17",
   "metadata": {},
   "source": [
    "# MorphCT Example Workflow\n",
    "\n",
    "1. Start with an atomistic snapshot\n",
    "2. Determine which atom indices belong to which chromophore using [SMARTS](https://www.daylight.com/dayhtml/doc/theory/theory.smarts.html) matching\n",
    "3. Calculate the energies for each chromophore and chromophore pair using quantum chemical calculations (QCC)\n",
    "4. Run the kinetic monte carlo (KMC) algorithm to calculate charge mobility"
   ]
  },
  {
   "cell_type": "markdown",
   "id": "009f4376",
   "metadata": {},
   "source": [
    "First let's import necessary modules and define a couple of useful functions for visualization:"
   ]
  },
  {
   "cell_type": "code",
   "execution_count": 1,
   "id": "b0284034",
   "metadata": {
    "tags": []
   },
   "outputs": [
    {
     "name": "stderr",
     "output_type": "stream",
     "text": [
      "/Users/jamesrushing/opt/miniconda3/envs/morphct-ex/lib/python3.7/site-packages/pyscf/lib/misc.py:50: H5pyDeprecationWarning: Using default_file_mode other than 'r' is deprecated. Pass the mode to h5py.File() instead.\n",
      "  h5py.get_config().default_file_mode = 'a'\n"
     ]
    }
   ],
   "source": [
    "from copy import deepcopy\n",
    "import os\n",
    "import multiprocessing as mp\n",
    "\n",
    "import gsd.hoomd\n",
    "import mbuild as mb\n",
    "import numpy as np\n",
    "import gsd.pygsd\n",
    "from morphct import execute_qcc as eqcc\n",
    "from morphct import mobility_kmc as kmc\n",
    "from morphct import chromophores\n",
    "from morphct import kmc_analyze\n",
    "from morphct.chromophores import conversion_dict\n",
    "from morphct.chromophores import amber_dict\n",
    "\n",
    "def visualize_qcc_input(qcc_input):\n",
    "    \"\"\"\n",
    "    Visualize a quantum chemical input string (for pyscf) using mbuild.\n",
    "    \n",
    "    Parameters\n",
    "    ----------\n",
    "    qcc_input : str\n",
    "        Input string to visualize\n",
    "    \"\"\"\n",
    "    comp = mb.Compound()\n",
    "    for line in qcc_input.split(\";\")[:-1]:\n",
    "        atom, x, y, z = line.split()\n",
    "        xyz = np.array([x,y,z], dtype=float)\n",
    "        # Angstrom -> nm\n",
    "        xyz /= 10\n",
    "        comp.add(mb.Particle(name=atom,pos=xyz))\n",
    "    comp.visualize().show()\n",
    "    \n",
    "def from_snapshot(snapshot, scale=1.0):\n",
    "    \"\"\"\n",
    "    Convert a hoomd.data.Snapshot or a gsd.hoomd.Snapshot to an\n",
    "    mbuild Compound.\n",
    "    \n",
    "    Parameters\n",
    "    ----------\n",
    "    snapshot : hoomd.data.SnapshotParticleData or gsd.hoomd.Snapshot\n",
    "        Snapshot from which to build the mbuild Compound.\n",
    "    scale : float, optional, default 1.0\n",
    "        Value by which to scale the length values\n",
    "        \n",
    "    Returns\n",
    "    -------\n",
    "    comp : mb.Compound\n",
    "    \"\"\"\n",
    "    comp = mb.Compound()\n",
    "    bond_array = snapshot.bonds.group\n",
    "    n_atoms = snapshot.particles.N\n",
    "\n",
    "    # There will be a better way to do this once box overhaul merged\n",
    "    try:\n",
    "        # gsd\n",
    "        box = snapshot.configuration.box\n",
    "        comp.box = mb.box.Box(lengths=box[:3] * scale)\n",
    "    except AttributeError:\n",
    "        # hoomd\n",
    "        box = snapshot.box\n",
    "        comp.box = mb.box.Box(lengths=np.array([box.Lx,box.Ly,box.Lz]) * scale)\n",
    "\n",
    "    # to_hoomdsnapshot shifts the coords, this will keep consistent\n",
    "    shift = np.array(comp.box.lengths)/2\n",
    "    # Add particles\n",
    "    for i in range(n_atoms):\n",
    "        name = snapshot.particles.types[snapshot.particles.typeid[i]]\n",
    "        xyz = snapshot.particles.position[i] * scale + shift\n",
    "        charge = snapshot.particles.charge[i]\n",
    "\n",
    "        atom = mb.Particle(name=name, pos=xyz, charge=charge)\n",
    "        comp.add(atom, label=str(i))\n",
    "\n",
    "    # Add bonds\n",
    "    particle_dict = {idx: p for idx, p in enumerate(comp.particles())}\n",
    "    for i in range(bond_array.shape[0]):\n",
    "        atom1 = int(bond_array[i][0])\n",
    "        atom2 = int(bond_array[i][1])\n",
    "        comp.add_bond([particle_dict[atom1], particle_dict[atom2]])\n",
    "    return comp"
   ]
  },
  {
   "cell_type": "code",
   "execution_count": 2,
   "id": "9f49c79c",
   "metadata": {},
   "outputs": [],
   "source": [
    "#from IPython.display import HTML\n",
    "#HTML('''<script>\n",
    "#var code_show_err = false; \n",
    "#var code_toggle_err = function() {\n",
    "# var stderrNodes = document.querySelectorAll('[data-mime-type=\"application/vnd.jupyter.stderr\"]')\n",
    "# var stderr = Array.from(stderrNodes)\n",
    "# if (code_show_err){\n",
    "#     stderr.forEach(ele => ele.style.display = 'block');\n",
    "# } else {\n",
    "#     stderr.forEach(ele => ele.style.display = 'none');\n",
    "# }\n",
    "# code_show_err = !code_show_err\n",
    "#} \n",
    "#document.addEventListener('DOMContentLoaded', code_toggle_err);\n",
    "#</script>\n",
    "#To toggle on/off output_stderr, click <a onclick=\"javascript:code_toggle_err()\">here</a>.''')"
   ]
  },
  {
   "cell_type": "code",
   "execution_count": 3,
   "id": "82e300b9",
   "metadata": {},
   "outputs": [],
   "source": [
    "import warnings\n",
    "warnings.filterwarnings('ignore')\n",
    "warnings.simplefilter('ignore')"
   ]
  },
  {
   "cell_type": "code",
   "execution_count": 4,
   "id": "909a6213",
   "metadata": {},
   "outputs": [
    {
     "ename": "FileNotFoundError",
     "evalue": "[Errno 2] No such file or directory: '/Users/jimmy/cmelab/data/ITIC/workspace/35e3dc4320d6ed3424bdba79fae77bce/trajectory.gsd'",
     "output_type": "error",
     "traceback": [
      "\u001b[0;31m---------------------------------------------------------------------------\u001b[0m",
      "\u001b[0;31mFileNotFoundError\u001b[0m                         Traceback (most recent call last)",
      "\u001b[0;32m<ipython-input-4-08f73babb428>\u001b[0m in \u001b[0;36m<module>\u001b[0;34m\u001b[0m\n\u001b[1;32m      1\u001b[0m \u001b[0mgsd_file\u001b[0m \u001b[0;34m=\u001b[0m \u001b[0;34m\"/Users/jimmy/cmelab/data/ITIC/workspace/35e3dc4320d6ed3424bdba79fae77bce/trajectory.gsd\"\u001b[0m\u001b[0;34m\u001b[0m\u001b[0;34m\u001b[0m\u001b[0m\n\u001b[0;32m----> 2\u001b[0;31m \u001b[0mg\u001b[0m \u001b[0;34m=\u001b[0m \u001b[0mgsd\u001b[0m\u001b[0;34m.\u001b[0m\u001b[0mpygsd\u001b[0m\u001b[0;34m.\u001b[0m\u001b[0mGSDFile\u001b[0m\u001b[0;34m(\u001b[0m\u001b[0mopen\u001b[0m\u001b[0;34m(\u001b[0m\u001b[0mgsd_file\u001b[0m\u001b[0;34m,\u001b[0m \u001b[0;34m\"rb\"\u001b[0m\u001b[0;34m)\u001b[0m\u001b[0;34m)\u001b[0m\u001b[0;34m\u001b[0m\u001b[0;34m\u001b[0m\u001b[0m\n\u001b[0m\u001b[1;32m      3\u001b[0m \u001b[0mtrajectory\u001b[0m \u001b[0;34m=\u001b[0m \u001b[0mgsd\u001b[0m\u001b[0;34m.\u001b[0m\u001b[0mhoomd\u001b[0m\u001b[0;34m.\u001b[0m\u001b[0mHOOMDTrajectory\u001b[0m\u001b[0;34m(\u001b[0m\u001b[0mg\u001b[0m\u001b[0;34m)\u001b[0m\u001b[0;34m\u001b[0m\u001b[0;34m\u001b[0m\u001b[0m\n\u001b[1;32m      4\u001b[0m \u001b[0mgsd_length\u001b[0m\u001b[0;34m=\u001b[0m \u001b[0mlen\u001b[0m\u001b[0;34m(\u001b[0m\u001b[0mtrajectory\u001b[0m\u001b[0;34m)\u001b[0m\u001b[0;34m\u001b[0m\u001b[0;34m\u001b[0m\u001b[0m\n\u001b[1;32m      5\u001b[0m \u001b[0;32mwith\u001b[0m \u001b[0mgsd\u001b[0m\u001b[0;34m.\u001b[0m\u001b[0mhoomd\u001b[0m\u001b[0;34m.\u001b[0m\u001b[0mopen\u001b[0m\u001b[0;34m(\u001b[0m\u001b[0mname\u001b[0m\u001b[0;34m=\u001b[0m\u001b[0mgsd_file\u001b[0m\u001b[0;34m,\u001b[0m \u001b[0mmode\u001b[0m\u001b[0;34m=\u001b[0m\u001b[0;34m'rb'\u001b[0m\u001b[0;34m)\u001b[0m \u001b[0;32mas\u001b[0m \u001b[0mf\u001b[0m\u001b[0;34m:\u001b[0m\u001b[0;34m\u001b[0m\u001b[0;34m\u001b[0m\u001b[0m\n",
      "\u001b[0;31mFileNotFoundError\u001b[0m: [Errno 2] No such file or directory: '/Users/jimmy/cmelab/data/ITIC/workspace/35e3dc4320d6ed3424bdba79fae77bce/trajectory.gsd'"
     ]
    }
   ],
   "source": [
    "gsd_file = \"/Users/jimmy/cmelab/data/ITIC/workspace/35e3dc4320d6ed3424bdba79fae77bce/trajectory.gsd\"\n",
    "g = gsd.pygsd.GSDFile(open(gsd_file, \"rb\"))\n",
    "trajectory = gsd.hoomd.HOOMDTrajectory(g)\n",
    "gsd_length= len(trajectory)\n",
    "with gsd.hoomd.open(name=gsd_file, mode='rb') as f:\n",
    "    start_snap = f[1]\n",
    "    end_snap = f[gsd_length - 1]\n",
    "\n",
    "    \n",
    "box = start_snap.configuration.box[:3]\n",
    "ref_distance = 3.563594872561358\n",
    "unwrapped_positions = start_snap.particles.position + start_snap.particles.image * box\n",
    "start_snap.particles.position *= ref_distance\n",
    "start_snap.configuration.box[:3] *= ref_distance\n",
    "end_snap.particles.position *= ref_distance\n",
    "end_snap.configuration.box[:3] *= ref_distance\n",
    "unwrap_snap = deepcopy(start_snap)\n",
    "unwrap_snap.particles.position = unwrapped_positions\n",
    "unwrap_snap.particles.types = [amber_dict[i].symbol for i in start_snap.particles.types]\n",
    "comp = from_snapshot(unwrap_snap, scale=0.1*ref_distance)\n",
    "comp.visualize().show()"
   ]
  },
  {
   "cell_type": "markdown",
   "id": "ad394363",
   "metadata": {},
   "source": [
    "below is some scratch for breaking chromophores into pieces of smiles strings. may be useful down the road but for now its easier to explicity prescibe atom indeces for your chromo"
   ]
  },
  {
   "cell_type": "code",
   "execution_count": null,
   "id": "d819a468",
   "metadata": {},
   "outputs": [],
   "source": [
    "#smarts_str = \"c1ccccc1\"\n",
    "#aaids=[]\n",
    "#aaids_pent = chromophores.get_chromo_ids_smiles(snap, \"c1sc2ccsc2c1\", amber_dict)\n",
    "#comp = from_snapshot(unwrap_snap, scale=0.1*ref_distance)\n",
    "\n",
    "#aaids_benzene = chromophores.get_chromo_ids_smiles(snap, smarts_str, amber_dict)\n",
    "#aaids_thiothene = chromophores.get_chromo_ids_smiles(snap, \"c1sc(C)cc1\", amber_dict)\n",
    "#aaids.extend(aaids_benzene)\n",
    "#aaids.extend(aaids_thiothene)\n",
    "#aaids.extend(aaids_pent)\n"
   ]
  },
  {
   "cell_type": "markdown",
   "id": "202b7852",
   "metadata": {},
   "source": [
    "the indexes below came from viewing the single molecule trajectory in vmd and clicking on the molecules that I like for my chromos. this cell visualizes those chosen"
   ]
  },
  {
   "cell_type": "code",
   "execution_count": null,
   "id": "3f3b8d67",
   "metadata": {},
   "outputs": [],
   "source": [
    "chromo_ids = np.array([0,1,2,4,6,7,10,11,12,13,19,20,22,23,24,25,27,28,29,30,31,32,91,92,93,94,97,98,99,100,101,102,161,162,163,165,166,168,169,170,171,172,178,179,180,181,177,175,176,174,173,17,15,18,16,14,13])\n",
    "for i,p in enumerate(comp.particles()):\n",
    "    if i in chromo_ids:\n",
    "        p.name = \"Kr\"\n",
    "comp.visualize().show()"
   ]
  },
  {
   "cell_type": "markdown",
   "id": "8b7c8c7a",
   "metadata": {},
   "source": [
    "Trying to get homo and lumo for a single molecule of itic below. using functions in execute_qcc.py. here we use all molecule ids from start_snap.particles.N to get homo lumos for sinlge molecule gsd\n",
    "\n",
    "displayed : \n",
    "\n",
    "HOMO-1, HOMO, LUMO, LUMO+1 above. "
   ]
  },
  {
   "cell_type": "code",
   "execution_count": null,
   "id": "7d583cc8",
   "metadata": {},
   "outputs": [],
   "source": [
    "ids = np.arange(start_snap.particles.N)\n",
    "qcc_input = eqcc.write_qcc_inp(start_snap, ids, amber_dict)\n",
    "homolumo = eqcc.get_homolumo(qcc_input)\n",
    "print(\"HOMO-1, HOMO, LUMO, LUMO+1\")\n",
    "print(homolumo)\n",
    "visualize_qcc_input(qcc_input)\n"
   ]
  },
  {
   "cell_type": "code",
   "execution_count": null,
   "id": "0c22cb64",
   "metadata": {},
   "outputs": [],
   "source": [
    "ids = np.arange(start_snap.particles.N)\n",
    "qcc_input = eqcc.write_qcc_inp(end_snap, ids, amber_dict)\n",
    "homolumo = eqcc.get_homolumo(qcc_input)\n",
    "print(\"HOMO-1, HOMO, LUMO, LUMO+1\")\n",
    "print(homolumo)\n",
    "visualize_qcc_input(qcc_input)"
   ]
  },
  {
   "cell_type": "code",
   "execution_count": null,
   "id": "9779df94",
   "metadata": {},
   "outputs": [],
   "source": [
    "qcc_input = eqcc.write_qcc_inp(start_snap, chromo_ids, amber_dict)\n",
    "homolumo = eqcc.get_homolumo(qcc_input)\n",
    "print(\"HOMO-1, HOMO, LUMO, LUMO+1\")\n",
    "print(homolumo)\n",
    "visualize_qcc_input(qcc_input)\n"
   ]
  },
  {
   "cell_type": "markdown",
   "id": "fdf4eedb",
   "metadata": {},
   "source": [
    "below i want to get the homolumos for just that back bone as taken from a single molecule gsd"
   ]
  },
  {
   "cell_type": "code",
   "execution_count": null,
   "id": "c56a79b4",
   "metadata": {
    "tags": []
   },
   "outputs": [],
   "source": [
    "qcc_input = eqcc.write_qcc_inp(end_snap, chromo_ids, amber_dict)\n",
    "homolumo = eqcc.get_homolumo(qcc_input)\n",
    "print(\"HOMO-1, HOMO, LUMO, LUMO+1\")\n",
    "print(homolumo)\n",
    "visualize_qcc_input(qcc_input)\n"
   ]
  },
  {
   "cell_type": "code",
   "execution_count": null,
   "id": "1d38095e",
   "metadata": {},
   "outputs": [],
   "source": []
  }
 ],
 "metadata": {
  "kernelspec": {
   "display_name": "Python 3",
   "language": "python",
   "name": "python3"
  },
  "language_info": {
   "codemirror_mode": {
    "name": "ipython",
    "version": 3
   },
   "file_extension": ".py",
   "mimetype": "text/x-python",
   "name": "python",
   "nbconvert_exporter": "python",
   "pygments_lexer": "ipython3",
   "version": "3.7.10"
  }
 },
 "nbformat": 4,
 "nbformat_minor": 5
}

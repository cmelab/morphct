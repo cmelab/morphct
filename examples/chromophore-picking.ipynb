{
 "cells": [
  {
   "cell_type": "markdown",
   "id": "86fb9f41",
   "metadata": {},
   "source": [
    "# Delineating Chromophores With VMD\n",
    "\n",
    "Running MorphCT requires the specification of chromophores within the morphology. That is, where do photo-excited electrons (or holes) delocalize and present themselves as potential hoppers onto neighboring chromophores. Every molecule is different and this picking is a bit of trial and error at the moment. This notebooks seeks to dramatically speed up that trial and error time. We take snapshots from a 10 molecule MD simulation of ITIC and we show how you can use VMD to specifiy chromophores quickly. Literature suggest that, for ITIC, that charges delocalize primarily along the backbone. It is for this reason that we demonstrate how we can use this workflow to specifiy the backbone as the chromophore. "
   ]
  },
  {
   "cell_type": "code",
   "execution_count": null,
   "id": "784dc0be",
   "metadata": {
    "tags": []
   },
   "outputs": [],
   "source": [
    "from copy import deepcopy\n",
    "import os\n",
    "import multiprocessing as mp\n",
    "import re\n",
    "import gsd.hoomd\n",
    "import mbuild as mb\n",
    "import numpy as np\n",
    "import gsd.pygsd\n",
    "from morphct import execute_qcc as eqcc\n",
    "from morphct import mobility_kmc as kmc\n",
    "from morphct import chromophores\n",
    "from morphct import kmc_analyze\n",
    "from morphct.chromophores import conversion_dict\n",
    "from morphct.chromophores import amber_dict\n",
    "from morphct.mobility_kmc import snap_molecule_indices\n",
    "\n",
    "def visualize_qcc_input(qcc_input):\n",
    "    \"\"\"\n",
    "    Visualize a quantum chemical input string (for pyscf) using mbuild.\n",
    "    \n",
    "    Parameters\n",
    "    ----------\n",
    "    qcc_input : str\n",
    "        Input string to visualize\n",
    "    \"\"\"\n",
    "    comp = mb.Compound()\n",
    "    for line in qcc_input.split(\";\")[:-1]:\n",
    "        atom, x, y, z = line.split()\n",
    "        xyz = np.array([x,y,z], dtype=float)\n",
    "        # Angstrom -> nm\n",
    "        xyz /= 10\n",
    "        comp.add(mb.Particle(name=atom,pos=xyz))\n",
    "    comp.visualize().show()\n",
    "    \n",
    "def from_snapshot(snapshot, scale=1.0):\n",
    "    \"\"\"\n",
    "    Convert a hoomd.data.Snapshot or a gsd.hoomd.Snapshot to an\n",
    "    mbuild Compound.\n",
    "    \n",
    "    Parameters\n",
    "    ----------\n",
    "    snapshot : hoomd.data.SnapshotParticleData or gsd.hoomd.Snapshot\n",
    "        Snapshot from which to build the mbuild Compound.\n",
    "    scale : float, optional, default 1.0\n",
    "        Value by which to scale the length values\n",
    "        \n",
    "    Returns\n",
    "    -------\n",
    "    comp : mb.Compound\n",
    "    \"\"\"\n",
    "    comp = mb.Compound()\n",
    "    bond_array = snapshot.bonds.group\n",
    "    n_atoms = snapshot.particles.N\n",
    "\n",
    "    # There will be a better way to do this once box overhaul merged\n",
    "    try:\n",
    "        # gsd\n",
    "        box = snapshot.configuration.box\n",
    "        comp.box = mb.box.Box(lengths=box[:3] * scale)\n",
    "    except AttributeError:\n",
    "        # hoomd\n",
    "        box = snapshot.box\n",
    "        comp.box = mb.box.Box(lengths=np.array([box.Lx,box.Ly,box.Lz]) * scale)\n",
    "\n",
    "    # to_hoomdsnapshot shifts the coords, this will keep consistent\n",
    "    shift = np.array(comp.box.lengths)/2\n",
    "    # Add particles\n",
    "    for i in range(n_atoms):\n",
    "        name = snapshot.particles.types[snapshot.particles.typeid[i]]\n",
    "        xyz = snapshot.particles.position[i] * scale + shift\n",
    "        charge = snapshot.particles.charge[i]\n",
    "\n",
    "        atom = mb.Particle(name=name, pos=xyz, charge=charge)\n",
    "        comp.add(atom, label=str(i))\n",
    "\n",
    "    # Add bonds\n",
    "    particle_dict = {idx: p for idx, p in enumerate(comp.particles())}\n",
    "    for i in range(bond_array.shape[0]):\n",
    "        atom1 = int(bond_array[i][0])\n",
    "        atom2 = int(bond_array[i][1])\n",
    "        comp.add_bond([particle_dict[atom1], particle_dict[atom2]])\n",
    "    return comp\n",
    "\n",
    "def vmd_index_slicer(filepath):\n",
    "    with open(filepath, \"r\") as f:\n",
    "        index_ids = f.readlines()\n",
    "    numbers = []\n",
    "    \n",
    "    for line in index_ids:\n",
    "        thing = re.findall(\"\\/([0-9]+)(?=[^\\/]*$)\", line)\n",
    "        try:\n",
    "            numbers.append(int(thing[0]))\n",
    "        except:\n",
    "            pass\n",
    "        \n",
    "    indeces=[]\n",
    "    \n",
    "    for i in numbers:\n",
    "        if i not in indeces:\n",
    "            indeces.append(i)\n",
    "            \n",
    "    return(indeces)\n",
    "\n",
    "import warnings\n",
    "warnings.filterwarnings('ignore')\n",
    "warnings.simplefilter('ignore')"
   ]
  },
  {
   "cell_type": "markdown",
   "id": "6c5b9132",
   "metadata": {},
   "source": [
    "To begin we can take a look at the trajectory."
   ]
  },
  {
   "cell_type": "code",
   "execution_count": null,
   "id": "c0d715c1",
   "metadata": {},
   "outputs": [],
   "source": [
    "gsd_file = \"itic-trajectory.gsd\"\n",
    "g = gsd.pygsd.GSDFile(open(gsd_file, \"rb\"))\n",
    "trajectory = gsd.hoomd.HOOMDTrajectory(g)\n",
    "gsd_length= len(trajectory)\n",
    "with gsd.hoomd.open(name=gsd_file, mode='rb') as f:\n",
    "    start_snap = f[0]\n",
    "    end_snap = f[gsd_length - 1]\n",
    "\n",
    "    \n",
    "box = start_snap.configuration.box[:3]\n",
    "ref_distance = 3.563594872561358\n",
    "unwrapped_positions = start_snap.particles.position + start_snap.particles.image * box\n",
    "start_snap.particles.position *= ref_distance\n",
    "start_snap.configuration.box[:3] *= ref_distance\n",
    "end_snap.particles.position *= ref_distance\n",
    "end_snap.configuration.box[:3] *= ref_distance\n",
    "unwrap_snap = deepcopy(start_snap)\n",
    "unwrap_snap.particles.position = unwrapped_positions\n",
    "unwrap_snap.particles.types = [amber_dict[i].symbol for i in start_snap.particles.types]\n",
    "comp = from_snapshot(unwrap_snap, scale=0.1*ref_distance)\n",
    "comp.visualize().show()"
   ]
  },
  {
   "cell_type": "markdown",
   "id": "0f830d74",
   "metadata": {},
   "source": [
    "At this point, navigate to the examples/ directory in the command line and open itic-trajectory.gsd\n",
    "with VMD by typing the following command:  `vmd itic-trajectory.gsd`\n",
    "1. If VMD isn't installed see this page for instructions. https://github.com/cmelab/getting-started/blob/master/wiki/pages/How_to_visualize.md\n",
    "2. With the trajectory open, type the following in the command line: `logfile chomophores.txt`.\n",
    "This tells VMD to save the information from vmd to a file called chromophores.txt\n",
    "3. navigate to the vmd display, scroll to the beginning of the trajectory for viewing pleasure, and hit the 2 key on your keyboard. then click all the atoms that should belong to your chromophore.\n",
    "4. Having done that we can set the chromo_ids below to be the indeces for the atoms that clicked on and view them in pink with the cell below. Here we have chosen the backbone of ITIC to be a chromophore because this has been shown to be the where charges delocalize. The side chains effect charge mobility as well but largely through their effects on packing and morphology. \n",
    "\n",
    "NOTE: when clicking atoms for use with the following function, it doesn't hurt to click an atom multiple times to insure its input into the file. The slicer function ignores duplicates. "
   ]
  },
  {
   "cell_type": "code",
   "execution_count": null,
   "id": "a0f2de05",
   "metadata": {},
   "outputs": [],
   "source": [
    "chromo_ids = vmd_index_slicer(\"chromophores.txt\")\n",
    "for i,p in enumerate(comp.particles()):\n",
    "    if i in chromo_ids:\n",
    "        p.name = \"Kr\"\n",
    "comp.visualize().show()"
   ]
  },
  {
   "cell_type": "markdown",
   "id": "2693cf57",
   "metadata": {},
   "source": [
    "If, upon inspection, you discover that you have left out an atom that you want to include in your chromophore, head back to vmd and click it. If you still have VMD running, it should keep ammending the chromophores.txt file. Now we can use morphct to prob the chosen chromopores HOMO/LUMO levels pre and post \n",
    "equilibration. As seen in the following two cells. "
   ]
  },
  {
   "cell_type": "code",
   "execution_count": null,
   "id": "49c6c184",
   "metadata": {},
   "outputs": [],
   "source": [
    "qcc_input = eqcc.write_qcc_inp(start_snap, chromo_ids, amber_dict)\n",
    "homolumo = eqcc.get_homolumo(qcc_input)\n",
    "print(\"Pre equillibrated HOMO-1, HOMO, LUMO, LUMO+1\")\n",
    "print(homolumo)\n",
    "visualize_qcc_input(qcc_input)\n"
   ]
  },
  {
   "cell_type": "code",
   "execution_count": null,
   "id": "d3ce72a0",
   "metadata": {
    "tags": []
   },
   "outputs": [],
   "source": [
    "qcc_input = eqcc.write_qcc_inp(end_snap, chromo_ids, amber_dict)\n",
    "homolumo = eqcc.get_homolumo(qcc_input)\n",
    "print(\"post equillibration HOMO-1, HOMO, LUMO, LUMO+1\")\n",
    "print(homolumo)\n",
    "visualize_qcc_input(qcc_input)\n"
   ]
  },
  {
   "cell_type": "markdown",
   "id": "0ed3b075",
   "metadata": {},
   "source": [
    "What if you are not sure what to specify as a chromophore, or you dont want to bother indexing? Below we will take an entire molecule to \n",
    "be a chromophore using the cluster analysis provided by morphct. The following cell looks weird but it just figures out how many atoms are in each molecule (k), and takes the first \"k\" ids to be the chromophore, i.e. the entire first molecule."
   ]
  },
  {
   "cell_type": "code",
   "execution_count": null,
   "id": "3e1daa05",
   "metadata": {},
   "outputs": [],
   "source": [
    "gsd_mol_index = snap_molecule_indices(start_snap)\n",
    "k = np.count_nonzero(gsd_mol_index==1)\n",
    "ids = np.arange(start_snap.particles.N)[0:k]"
   ]
  },
  {
   "cell_type": "markdown",
   "id": "ec000073",
   "metadata": {},
   "source": [
    "With the new ids specified we can procede exactly as before. We show the HOMO/LUMO pre and post \n",
    "equilibration."
   ]
  },
  {
   "cell_type": "code",
   "execution_count": null,
   "id": "95740428",
   "metadata": {},
   "outputs": [],
   "source": [
    "qcc_input = eqcc.write_qcc_inp(start_snap, ids, amber_dict)\n",
    "homolumo = eqcc.get_homolumo(qcc_input)\n",
    "print(\"pre equillibration HOMO-1, HOMO, LUMO, LUMO+1\")\n",
    "print(homolumo)\n",
    "visualize_qcc_input(qcc_input)\n"
   ]
  },
  {
   "cell_type": "code",
   "execution_count": null,
   "id": "1b805f54",
   "metadata": {},
   "outputs": [],
   "source": [
    "qcc_input = eqcc.write_qcc_inp(end_snap, ids, amber_dict)\n",
    "homolumo = eqcc.get_homolumo(qcc_input)\n",
    "print(\"post equillibration HOMO-1, HOMO, LUMO, LUMO+1\")\n",
    "print(homolumo)\n",
    "visualize_qcc_input(qcc_input)"
   ]
  },
  {
   "cell_type": "markdown",
   "id": "e9446848",
   "metadata": {},
   "source": [
    "One final bit of useful logic is displayed below. Let's say you found the chromophore ids for a random molecule in a morpholgy but want to extraploate that accross the morphology. Using the same logic above for finding the number of atoms per molecule, We take the indeces from the vmd_slicer and take that modulo that number. This gives the corresponding indeces for the first molecule. "
   ]
  },
  {
   "cell_type": "code",
   "execution_count": null,
   "id": "aea6ae0e",
   "metadata": {},
   "outputs": [],
   "source": [
    "indeces = vmd_index_slicer(\"chromophores.txt\")\n",
    "gsd_mol_index = snap_molecule_indices(start_snap)\n",
    "k = np.count_nonzero(gsd_mol_index==1)\n",
    "for i in range(len(indeces)):\n",
    "    indeces[i] = indeces[i]%k\n",
    "chromo_ids = np.array(indeces)"
   ]
  },
  {
   "cell_type": "markdown",
   "id": "c4ad6d55",
   "metadata": {},
   "source": [
    " From there we can add \"k\" back in to get the corresponing atoms in the 2nd molecule , then the 3rd etcetera. This gives a master list of chromophere ids that we are interested in. Again we can visualize them. "
   ]
  },
  {
   "cell_type": "code",
   "execution_count": null,
   "id": "c6f53302",
   "metadata": {},
   "outputs": [],
   "source": [
    "master_list = []\n",
    "sublist = chromo_ids\n",
    "for i in range(len(np.unique(gsd_mol_index))):         \n",
    "    master_list.append(sublist)\n",
    "    sublist = [x + k for x in sublist]\n",
    "for x in range(len(master_list)):\n",
    "    for i,p in enumerate(comp.particles()):\n",
    "        if i in master_list[x]:\n",
    "            p.name = \"Kr\"\n",
    "comp.visualize().show()"
   ]
  },
  {
   "cell_type": "markdown",
   "id": "c8e7c595",
   "metadata": {},
   "source": [
    "Now you can pick novel chromophores upon which you can do analysis. In workflow-p3ht.ipynb there is an example of how to do this with smiles strings and also how to use this master_list to do complete mobility analysis of your morphology. But for big, or jumbled up, or brand new molecules this can be a time sink. (Or if you just prefer the clicky clicky!)"
   ]
  }
 ],
 "metadata": {
  "kernelspec": {
   "display_name": "Python 3",
   "language": "python",
   "name": "python3"
  },
  "language_info": {
   "codemirror_mode": {
    "name": "ipython",
    "version": 3
   },
   "file_extension": ".py",
   "mimetype": "text/x-python",
   "name": "python",
   "nbconvert_exporter": "python",
   "pygments_lexer": "ipython3",
   "version": "3.7.10"
  }
 },
 "nbformat": 4,
 "nbformat_minor": 5
}

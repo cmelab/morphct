{
 "cells": [
  {
   "cell_type": "markdown",
   "id": "7cc052d8",
   "metadata": {},
   "source": [
    "# MorphCT Example Workflow\n",
    "\n",
    "1. Start with an atomistic snapshot\n",
    "2. Determine which atom indices belong to which chromophore using [SMARTS](https://www.daylight.com/dayhtml/doc/theory/theory.smarts.html) matching\n",
    "3. Calculate the energies for each chromophore and chromophore pair using quantum chemical calculations (QCC)\n",
    "4. Run the kinetic monte carlo (KMC) algorithm to calculate charge mobility"
   ]
  },
  {
   "cell_type": "markdown",
   "id": "4ddf8a1b",
   "metadata": {},
   "source": [
    "First let's import necessary modules and define a couple of useful functions for visualization:"
   ]
  },
  {
   "cell_type": "code",
   "execution_count": 36,
   "id": "375217d5",
   "metadata": {},
   "outputs": [],
   "source": [
    "from copy import deepcopy\n",
    "import os\n",
    "import multiprocessing as mp\n",
    "\n",
    "import gsd.hoomd\n",
    "import mbuild as mb\n",
    "import numpy as np\n",
    "import gsd.pygsd\n",
    "from morphct import execute_qcc as eqcc\n",
    "from morphct import mobility_kmc as kmc\n",
    "from morphct import chromophores\n",
    "from morphct import kmc_analyze\n",
    "from morphct.chromophores import conversion_dict\n",
    "from morphct.chromophores import amber_dict\n",
    "\n",
    "def visualize_qcc_input(qcc_input):\n",
    "    \"\"\"\n",
    "    Visualize a quantum chemical input string (for pyscf) using mbuild.\n",
    "    \n",
    "    Parameters\n",
    "    ----------\n",
    "    qcc_input : str\n",
    "        Input string to visualize\n",
    "    \"\"\"\n",
    "    comp = mb.Compound()\n",
    "    for line in qcc_input.split(\";\")[:-1]:\n",
    "        atom, x, y, z = line.split()\n",
    "        xyz = np.array([x,y,z], dtype=float)\n",
    "        # Angstrom -> nm\n",
    "        xyz /= 10\n",
    "        comp.add(mb.Particle(name=atom,pos=xyz))\n",
    "    comp.visualize().show()\n",
    "    \n",
    "def from_snapshot(snapshot, scale=1.0):\n",
    "    \"\"\"\n",
    "    Convert a hoomd.data.Snapshot or a gsd.hoomd.Snapshot to an\n",
    "    mbuild Compound.\n",
    "    \n",
    "    Parameters\n",
    "    ----------\n",
    "    snapshot : hoomd.data.SnapshotParticleData or gsd.hoomd.Snapshot\n",
    "        Snapshot from which to build the mbuild Compound.\n",
    "    scale : float, optional, default 1.0\n",
    "        Value by which to scale the length values\n",
    "        \n",
    "    Returns\n",
    "    -------\n",
    "    comp : mb.Compound\n",
    "    \"\"\"\n",
    "    comp = mb.Compound()\n",
    "    bond_array = snapshot.bonds.group\n",
    "    n_atoms = snapshot.particles.N\n",
    "\n",
    "    # There will be a better way to do this once box overhaul merged\n",
    "    try:\n",
    "        # gsd\n",
    "        box = snapshot.configuration.box\n",
    "        comp.box = mb.box.Box(lengths=box[:3] * scale)\n",
    "    except AttributeError:\n",
    "        # hoomd\n",
    "        box = snapshot.box\n",
    "        comp.box = mb.box.Box(lengths=np.array([box.Lx,box.Ly,box.Lz]) * scale)\n",
    "\n",
    "    # to_hoomdsnapshot shifts the coords, this will keep consistent\n",
    "    shift = np.array(comp.box.lengths)/2\n",
    "    # Add particles\n",
    "    for i in range(n_atoms):\n",
    "        name = snapshot.particles.types[snapshot.particles.typeid[i]]\n",
    "        xyz = snapshot.particles.position[i] * scale + shift\n",
    "        charge = snapshot.particles.charge[i]\n",
    "\n",
    "        atom = mb.Particle(name=name, pos=xyz, charge=charge)\n",
    "        comp.add(atom, label=str(i))\n",
    "\n",
    "    # Add bonds\n",
    "    particle_dict = {idx: p for idx, p in enumerate(comp.particles())}\n",
    "    for i in range(bond_array.shape[0]):\n",
    "        atom1 = int(bond_array[i][0])\n",
    "        atom2 = int(bond_array[i][1])\n",
    "        comp.add_bond([particle_dict[atom1], particle_dict[atom2]])\n",
    "    return comp"
   ]
  },
  {
   "cell_type": "markdown",
   "id": "a2adca7b",
   "metadata": {},
   "source": [
    "Here's our starting structure, an atomistic (not coarse-grain or united atom) gsd file with 2 p3ht 15-mers:"
   ]
  },
  {
   "cell_type": "code",
   "execution_count": 29,
   "id": "27d2078b",
   "metadata": {},
   "outputs": [
    {
     "data": {
      "application/3dmoljs_load.v0": "<div id=\"3dmolviewer_16221490630531929\"  style=\"position: relative; width: 640px; height: 480px\">\n        <p id=\"3dmolwarning_16221490630531929\" style=\"background-color:#ffcccc;color:black\">You appear to be running in JupyterLab (or JavaScript failed to load for some other reason).  You need to install the 3dmol extension: <br>\n        <tt>jupyter labextension install jupyterlab_3dmol</tt></p>\n        </div>\n<script>\n\nvar loadScriptAsync = function(uri){\n  return new Promise((resolve, reject) => {\n    var tag = document.createElement('script');\n    tag.src = uri;\n    tag.async = true;\n    tag.onload = () => {\n      resolve();\n    };\n  var firstScriptTag = document.getElementsByTagName('script')[0];\n  firstScriptTag.parentNode.insertBefore(tag, firstScriptTag);\n});\n};\n\nif(typeof $3Dmolpromise === 'undefined') {\n$3Dmolpromise = null;\n  $3Dmolpromise = loadScriptAsync('https://3dmol.csb.pitt.edu/build/3Dmol.js');\n}\n\nvar viewer_16221490630531929 = null;\nvar warn = document.getElementById(\"3dmolwarning_16221490630531929\");\nif(warn) {\n    warn.parentNode.removeChild(warn);\n}\n$3Dmolpromise.then(function() {\nviewer_16221490630531929 = $3Dmol.createViewer($(\"#3dmolviewer_16221490630531929\"),{backgroundColor:\"white\"});\n\tviewer_16221490630531929.addModel(\"@<TRIPOS>MOLECULE\\nRES\\n186 200 1 0 1\\nSMALL\\nNO_CHARGES\\n@<TRIPOS>CRYSIN\\n   66.6742    66.6742    66.6742    90.0000    90.0000    90.0000  1  1\\n@<TRIPOS>ATOM\\n       1 C            3.0580    19.7222    57.3560 C             1 RES     \\n       2 C            3.9200    20.7302    56.9000 C             1 RES     \\n       3 C            5.3070    20.4992    56.7900 C             1 RES     \\n       4 H            3.5050    21.6922    56.6590 H             1 RES     \\n       5 C            5.8000    19.2432    57.1340 C             1 RES     \\n       6 H            5.9750    21.2852    56.4680 H             1 RES     \\n       7 C            4.9220    18.2362    57.5010 C             1 RES     \\n       8 C            3.5600    18.4692    57.6510 C             1 RES     \\n       9 H            2.8870    17.7142    58.0170 H             1 RES     \\n      10 H            2.0000    19.8932    57.4840 H             1 RES     \\n      11 C            5.6170    16.9842    57.7290 C             1 RES     \\n      12 C            7.0750    17.3312    57.6700 C             1 RES     \\n      13 C            7.1810    18.7382    57.2050 C             1 RES     \\n      14 O            8.1980    19.3852    56.9900 O             1 RES     \\n      15 C            5.0240    15.7162    57.7560 C             1 RES     \\n      16 C            3.6810    15.5512    57.3260 C             1 RES     \\n      17 C            5.6000    14.4012    58.0370 C             1 RES     \\n      18 N            2.5890    15.4292    56.9740 N             1 RES     \\n      19 N            6.0530    13.3572    58.2600 N             1 RES     \\n      20 C            7.9040    16.3202    57.8410 C             1 RES     \\n      21 C            9.2180    15.7752    57.7900 C             1 RES     \\n      22 H            7.3890    15.6142    58.3420 H             1 RES     \\n      23 S           10.6460    16.6442    57.6450 S             1 RES     \\n      24 C           11.5880    15.4712    58.3950 C             1 RES     \\n      25 C           10.7860    14.3312    58.5020 C             1 RES     \\n      26 C            9.4190    14.4622    58.2320 C             1 RES     \\n      27 H            8.5740    13.7982    58.5700 H             1 RES     \\n      28 C           12.8360    15.4732    59.2400 C             1 RES     \\n      29 S           11.6070    13.1912    59.3630 S             1 RES     \\n      30 C           12.9760    14.1382    59.7320 C             1 RES     \\n      31 C           13.8800    16.5832    60.0650 C             1 RES     \\n      32 C           14.8090    15.2232    60.5070 C             1 RES     \\n      33 C           14.2840    13.8962    60.4000 C             1 RES     \\n      34 C           14.8600    17.9972    60.5300 C             1 RES     \\n      35 C           12.5780    17.5822    60.3030 C             1 RES     \\n      36 C           12.5330    18.8392    59.5730 C             1 RES     \\n      37 C           11.4750    19.7632    59.6050 C             1 RES     \\n      38 C           10.3030    19.5192    60.3210 C             1 RES     \\n      39 C           10.3560    18.3902    61.1970 C             1 RES     \\n      40 C           15.9190    18.6522    59.7650 C             1 RES     \\n      41 C           16.4620    20.0072    60.0310 C             1 RES     \\n      42 C           16.0390    20.8792    61.0760 C             1 RES     \\n      43 C           15.1260    20.2432    61.9330 C             1 RES     \\n      44 C           14.5760    18.8922    61.7060 C             1 RES     \\n      45 C           11.4700    17.4532    61.2030 C             1 RES     \\n      46 H           16.3260    18.1892    58.8830 H             1 RES     \\n      47 H            9.5110    18.1862    61.8340 H             1 RES     \\n      48 H           11.4360    16.6142    61.8840 H             1 RES     \\n      49 H           11.5600    20.6662    59.0050 H             1 RES     \\n      50 H           13.3600    19.1572    58.9490 H             1 RES     \\n      51 H           17.2060    20.4412    59.3740 H             1 RES     \\n      52 H           14.8000    20.8742    62.7600 H             1 RES     \\n      53 H           13.8320    18.6532    62.4590 H             1 RES     \\n      54 C            9.0160    20.3712    59.9230 C             1 RES     \\n      55 C            8.3970    21.5562    60.7370 C             1 RES     \\n      56 H            8.2100    19.6542    59.6640 H             1 RES     \\n      57 H            9.2820    20.8512    58.9580 H             1 RES     \\n      58 C            7.5150    22.6712    59.9980 C             1 RES     \\n      59 H            9.2760    22.1302    61.0860 H             1 RES     \\n      60 H            7.8460    21.1842    61.6250 H             1 RES     \\n      61 C            6.0190    22.4732    59.5620 C             1 RES     \\n      62 H            8.0630    23.0872    59.1190 H             1 RES     \\n      63 H            7.4760    23.4972    60.7350 H             1 RES     \\n      64 C            5.1950    23.8082    59.6280 C             1 RES     \\n      65 H            6.0140    22.1132    58.5280 H             1 RES     \\n      66 H            5.4920    21.7442    60.2090 H             1 RES     \\n      67 C            3.8040    23.7602    58.9660 C             1 RES     \\n      68 H            5.7410    24.6482    59.1470 H             1 RES     \\n      69 H            5.0480    24.0642    60.7010 H             1 RES     \\n      70 H            3.9000    23.6842    57.8620 H             1 RES     \\n      71 H            3.2500    24.7062    59.1730 H             1 RES     \\n      72 H            3.1850    22.9192    59.3410 H             1 RES     \\n      73 C           16.4660    22.4672    61.1920 C             1 RES     \\n      74 C           17.2850    23.0932    62.4090 C             1 RES     \\n      75 H           15.5540    23.1102    61.1100 H             1 RES     \\n      76 H           17.0760    22.7592    60.3020 H             1 RES     \\n      77 C           17.7450    24.6252    62.3120 C             1 RES     \\n      78 H           18.2300    22.5202    62.4320 H             1 RES     \\n      79 H           16.7680    22.9552    63.3820 H             1 RES     \\n      80 C           16.7600    25.7092    62.8470 C             1 RES     \\n      81 H           18.0330    24.8672    61.2660 H             1 RES     \\n      82 H           18.6640    24.7582    62.9300 H             1 RES     \\n      83 C           17.2420    27.1862    62.6720 C             1 RES     \\n      84 H           16.5510    25.5432    63.9280 H             1 RES     \\n      85 H           15.8110    25.6112    62.2880 H             1 RES     \\n      86 C           18.3660    27.6462    63.6150 C             1 RES     \\n      87 H           16.3830    27.8632    62.8860 H             1 RES     \\n      88 H           17.5470    27.3622    61.6190 H             1 RES     \\n      89 H           18.0340    27.5872    64.6740 H             1 RES     \\n      90 H           18.6070    28.7172    63.4100 H             1 RES     \\n      91 H           19.2930    27.0572    63.4810 H             1 RES     \\n      92 C           16.2220    15.2522    60.7570 C             1 RES     \\n      93 C           17.0720    14.0862    60.7930 C             1 RES     \\n      94 C           16.5680    12.7712    60.8030 C             1 RES     \\n      95 C           15.1050    12.6512    60.7100 C             1 RES     \\n      96 H           16.7030    16.1932    60.7900 H             1 RES     \\n      97 H           14.7980    11.5862    60.6400 H             1 RES     \\n      98 C           18.5640    14.0012    60.8090 C             1 RES     \\n      99 C           17.7620    11.6412    60.5400 C             1 RES     \\n     100 C           18.9750    12.6862    60.7600 C             1 RES     \\n     101 S           19.9260    15.0512    61.0360 S             1 RES     \\n     102 C           21.0560    13.7962    61.3110 C             1 RES     \\n     103 C           20.4110    12.5982    61.1730 C             1 RES     \\n     104 C           18.7250    10.4332    60.8380 C             1 RES     \\n     105 C           16.9250    10.8532    59.3250 C             1 RES     \\n     106 C           15.9500    11.4242    58.4140 C             1 RES     \\n     107 C           14.9500    10.6162    57.7700 C             1 RES     \\n     108 C           14.9560     9.2082    57.8980 C             1 RES     \\n     109 C           15.9830     8.6442    58.6150 C             1 RES     \\n     110 C           16.8790     9.4072    59.3100 C             1 RES     \\n     111 C           19.6580    10.1442    59.7790 C             1 RES     \\n     112 C           20.6020     9.1212    59.8560 C             1 RES     \\n     113 C           20.6720     8.2952    60.9840 C             1 RES     \\n     114 C           19.7190     8.5232    62.0230 C             1 RES     \\n     115 C           18.7520     9.5752    61.9540 C             1 RES     \\n     116 C           21.9490     7.4422    61.1860 C             1 RES     \\n     117 C           22.2820     5.9662    60.7860 C             1 RES     \\n     118 H           22.1700     7.5242    62.2690 H             1 RES     \\n     119 H           22.7280     8.0222    60.6490 H             1 RES     \\n     120 C           23.7910     5.6902    61.1670 C             1 RES     \\n     121 H           22.1480     5.8062    59.6950 H             1 RES     \\n     122 H           21.6220     5.2722    61.3460 H             1 RES     \\n     123 C           24.3740     4.2532    61.0110 C             1 RES     \\n     124 H           23.9140     5.9552    62.2400 H             1 RES     \\n     125 H           24.4290     6.3752    60.5620 H             1 RES     \\n     126 C           25.8610     4.1872    61.4850 C             1 RES     \\n     127 H           24.3230     3.9292    59.9500 H             1 RES     \\n     128 H           23.7800     3.5542    61.6350 H             1 RES     \\n     129 C           26.4880     2.7862    61.4330 C             1 RES     \\n     130 H           25.9320     4.5272    62.5410 H             1 RES     \\n     131 H           26.4890     4.8582    60.8580 H             1 RES     \\n     132 H           25.9390     2.0782    62.0880 H             1 RES     \\n     133 H           27.5400     2.8332    61.8010 H             1 RES     \\n     134 H           26.5120     2.3892    60.3970 H             1 RES     \\n     135 C           13.9350     8.1832    57.3940 C             1 RES     \\n     136 C           12.4790     8.5982    57.1280 C             1 RES     \\n     137 H           13.8320     7.4232    58.2080 H             1 RES     \\n     138 H           14.3720     7.6462    56.5250 H             1 RES     \\n     139 C           11.6420     7.3362    56.7680 C             1 RES     \\n     140 H           12.4520     9.3252    56.2940 H             1 RES     \\n     141 H           12.0490     9.0642    58.0430 H             1 RES     \\n     142 C           10.1880     7.6682    56.3980 C             1 RES     \\n     143 H           11.6410     6.6222    57.6250 H             1 RES     \\n     144 H           12.1160     6.8282    55.9000 H             1 RES     \\n     145 C            9.4040     6.4152    55.9620 C             1 RES     \\n     146 H           10.1980     8.3892    55.5540 H             1 RES     \\n     147 H            9.6780     8.1322    57.2700 H             1 RES     \\n     148 C            7.9790     6.7702    55.5300 C             1 RES     \\n     149 H            9.3540     5.6822    56.7980 H             1 RES     \\n     150 H            9.9150     5.9312    55.1000 H             1 RES     \\n     151 H            7.4180     7.2282    56.3720 H             1 RES     \\n     152 H            7.4420     5.8532    55.2050 H             1 RES     \\n     153 H            8.0000     7.4812    54.6770 H             1 RES     \\n     154 H           15.8280    12.4972    58.3140 H             1 RES     \\n     155 H           14.1500    11.0932    57.2190 H             1 RES     \\n     156 H           16.0490     7.5682    58.7310 H             1 RES     \\n     157 H           17.4880     8.7532    59.9030 H             1 RES     \\n     158 H           18.0490     9.7302    62.7610 H             1 RES     \\n     159 H           19.6800    10.7812    58.8980 H             1 RES     \\n     160 H           21.3280     9.0392    59.0560 H             1 RES     \\n     161 H           19.7540     7.9172    62.9160 H             1 RES     \\n     162 S           21.6050    11.4102    61.6360 S             1 RES     \\n     163 C           22.9300    12.4322    61.9590 C             1 RES     \\n     164 C           22.4350    13.7392    61.6960 C             1 RES     \\n     165 H           23.0600    14.6132    61.8090 H             1 RES     \\n     166 C           24.3810    12.1982    62.4170 C             1 RES     \\n     167 C           25.2570    11.1402    62.6340 C             1 RES     \\n     168 H           24.8350    13.1542    62.5510 H             1 RES     \\n     169 C           25.0750     9.6792    62.4450 C             1 RES     \\n     170 C           26.3800     8.9832    62.5720 C             1 RES     \\n     171 C           27.3440     9.9132    62.8800 C             1 RES     \\n     172 C           26.7490    11.2822    62.9140 C             1 RES     \\n     173 O           24.0170     9.1302    62.2370 O             1 RES     \\n     174 C           27.4960    12.4092    63.0950 C             1 RES     \\n     175 C           26.9900    13.7002    63.4690 C             1 RES     \\n     176 C           28.9170    12.3842    62.8380 C             1 RES     \\n     177 N           26.6240    14.7562    63.7690 N             1 RES     \\n     178 N           30.0530    12.3252    62.6230 N             1 RES     \\n     179 C           28.6530     9.4902    63.2120 C             1 RES     \\n     180 C           28.9990     8.1442    63.1290 C             1 RES     \\n     181 C           28.0440     7.2082    62.7280 C             1 RES     \\n     182 C           26.7210     7.6192    62.4650 C             1 RES     \\n     183 H           29.4190    10.1502    63.5690 H             1 RES     \\n     184 H           30.0080     7.8362    63.3860 H             1 RES     \\n     185 H           28.3360     6.1662    62.6580 H             1 RES     \\n     186 H           25.9960     6.8802    62.2030 H             1 RES     \\n@<TRIPOS>BOND\\n       1       31       35 1\\n       2      104      111 1\\n       3       58       63 1\\n       4       12       13 1\\n       5       86       89 1\\n       6       99      104 1\\n       7       94       95 1\\n       8       32       92 1\\n       9      123      127 1\\n      10      126      130 1\\n      11      100      103 1\\n      12       26       25 1\\n      13       54       57 1\\n      14      117      120 1\\n      15      163      166 1\\n      16      116      119 1\\n      17      142      146 1\\n      18       64       67 1\\n      19      105      106 1\\n      20      113      114 1\\n      21      167      172 1\\n      22       42       43 1\\n      23       17       19 1\\n      24      148      151 1\\n      25       36       50 1\\n      26       86       91 1\\n      27       12       20 1\\n      28       98      101 1\\n      29       80       84 1\\n      30       11       15 1\\n      31        7       11 1\\n      32      167      169 1\\n      33      179      180 1\\n      34      163      164 1\\n      35       37       38 1\\n      36      116      117 1\\n      37       25       29 1\\n      38      108      135 1\\n      39       26       27 1\\n      40      117      122 1\\n      41      174      176 1\\n      42       37       49 1\\n      43       74       78 1\\n      44       92       93 1\\n      45       35       45 1\\n      46      148      153 1\\n      47       94       99 1\\n      48       99      100 1\\n      49       36       37 1\\n      50      162      163 1\\n      51        8        1 1\\n      52       24       28 1\\n      53      110      157 1\\n      54       61       65 1\\n      55       77       81 1\\n      56       39       45 1\\n      57       41       51 1\\n      58        2        4 1\\n      59       16       18 1\\n      60       73       75 1\\n      61       13       14 1\\n      62       20       22 1\\n      63      172      174 1\\n      64       32       33 1\\n      65      120      125 1\\n      66      182      186 1\\n      67      180      181 1\\n      68      164      165 1\\n      69      101      102 1\\n      70       54       55 1\\n      71        5        7 1\\n      72       44       53 1\\n      73       38       39 1\\n      74       40       46 1\\n      75       64       69 1\\n      76       39       47 1\\n      77       58       62 1\\n      78       24       23 1\\n      79      139      143 1\\n      80        2        1 1\\n      81       83       88 1\\n      82      145      148 1\\n      83        8        9 1\\n      84       67       70 1\\n      85       35       36 1\\n      86      181      185 1\\n      87       55       59 1\\n      88      166      168 1\\n      89      169      173 1\\n      90      113      116 1\\n      91      129      133 1\\n      92       25       24 1\\n      93       67       71 1\\n      94       38       54 1\\n      95       92       96 1\\n      96      135      137 1\\n      97       15       17 1\\n      98        3        5 1\\n      99       83       86 1\\n     100       99      105 1\\n     101       34       40 1\\n     102      145      150 1\\n     103      136      140 1\\n     104      123      128 1\\n     105      126      131 1\\n     106      180      184 1\\n     107      116      118 1\\n     108      142      147 1\\n     109       26       21 1\\n     110      117      121 1\\n     111      112      113 1\\n     112      176      178 1\\n     113       45       48 1\\n     114       86       90 1\\n     115       29       30 1\\n     116       98      100 1\\n     117       80       83 1\\n     118       21       23 1\\n     119      123      126 1\\n     120       61       64 1\\n     121      126      129 1\\n     122      114      161 1\\n     123       77       80 1\\n     124      142      145 1\\n     125       64       68 1\\n     126       31       34 1\\n     127       74       77 1\\n     128       73       74 1\\n     129       93       98 1\\n     130      171      172 1\\n     131      108      109 1\\n     132       11       12 1\\n     133       34       44 1\\n     134        7        8 1\\n     135       95       97 1\\n     136      120      123 1\\n     137      102      164 1\\n     138       31       28 1\\n     139       61       66 1\\n     140      170      182 1\\n     141       77       82 1\\n     142      103      162 1\\n     143       33       95 1\\n     144      115      158 1\\n     145      174      175 1\\n     146      111      112 1\\n     147       42       73 1\\n     148      171      179 1\\n     149      139      144 1\\n     150      136      139 1\\n     151       73       76 1\\n     152      107      155 1\\n     153       74       79 1\\n     154      148      152 1\\n     155       10        1 1\\n     156      120      124 1\\n     157      105      110 1\\n     158      181      182 1\\n     159      112      160 1\\n     160      102      103 1\\n     161       41       42 1\\n     162       43       52 1\\n     163       54       56 1\\n     164      179      183 1\\n     165      104      115 1\\n     166       28       30 1\\n     167      135      138 1\\n     168      139      142 1\\n     169        3        6 1\\n     170      106      154 1\\n     171       20       21 1\\n     172      109      110 1\\n     173       93       94 1\\n     174       80       85 1\\n     175       33       30 1\\n     176        5       13 1\\n     177       55       58 1\\n     178      129      132 1\\n     179       67       72 1\\n     180      175      177 1\\n     181      169      170 1\\n     182      114      115 1\\n     183       43       44 1\\n     184      106      107 1\\n     185       58       61 1\\n     186      135      136 1\\n     187       32       31 1\\n     188       15       16 1\\n     189       83       87 1\\n     190      145      149 1\\n     191        2        3 1\\n     192      109      156 1\\n     193      136      141 1\\n     194      170      171 1\\n     195       55       60 1\\n     196       40       41 1\\n     197      107      108 1\\n     198      166      167 1\\n     199      111      159 1\\n     200      129      134 1\\n@<TRIPOS>SUBSTRUCTURE\\n       1 RES             1 RESIDUE    0 **** ROOT      0\\n\",\"mol2\");\n\tviewer_16221490630531929.setStyle({\"stick\": {\"radius\": 0.2, \"color\": \"grey\"}, \"sphere\": {\"scale\": 0.3, \"colorscheme\": {}}});\n\tviewer_16221490630531929.zoomTo();\nviewer_16221490630531929.render();\n});\n</script>",
      "text/html": [
       "<div id=\"3dmolviewer_16221490630531929\"  style=\"position: relative; width: 640px; height: 480px\">\n",
       "        <p id=\"3dmolwarning_16221490630531929\" style=\"background-color:#ffcccc;color:black\">You appear to be running in JupyterLab (or JavaScript failed to load for some other reason).  You need to install the 3dmol extension: <br>\n",
       "        <tt>jupyter labextension install jupyterlab_3dmol</tt></p>\n",
       "        </div>\n",
       "<script>\n",
       "\n",
       "var loadScriptAsync = function(uri){\n",
       "  return new Promise((resolve, reject) => {\n",
       "    var tag = document.createElement('script');\n",
       "    tag.src = uri;\n",
       "    tag.async = true;\n",
       "    tag.onload = () => {\n",
       "      resolve();\n",
       "    };\n",
       "  var firstScriptTag = document.getElementsByTagName('script')[0];\n",
       "  firstScriptTag.parentNode.insertBefore(tag, firstScriptTag);\n",
       "});\n",
       "};\n",
       "\n",
       "if(typeof $3Dmolpromise === 'undefined') {\n",
       "$3Dmolpromise = null;\n",
       "  $3Dmolpromise = loadScriptAsync('https://3dmol.csb.pitt.edu/build/3Dmol.js');\n",
       "}\n",
       "\n",
       "var viewer_16221490630531929 = null;\n",
       "var warn = document.getElementById(\"3dmolwarning_16221490630531929\");\n",
       "if(warn) {\n",
       "    warn.parentNode.removeChild(warn);\n",
       "}\n",
       "$3Dmolpromise.then(function() {\n",
       "viewer_16221490630531929 = $3Dmol.createViewer($(\"#3dmolviewer_16221490630531929\"),{backgroundColor:\"white\"});\n",
       "\tviewer_16221490630531929.addModel(\"@<TRIPOS>MOLECULE\\nRES\\n186 200 1 0 1\\nSMALL\\nNO_CHARGES\\n@<TRIPOS>CRYSIN\\n   66.6742    66.6742    66.6742    90.0000    90.0000    90.0000  1  1\\n@<TRIPOS>ATOM\\n       1 C            3.0580    19.7222    57.3560 C             1 RES     \\n       2 C            3.9200    20.7302    56.9000 C             1 RES     \\n       3 C            5.3070    20.4992    56.7900 C             1 RES     \\n       4 H            3.5050    21.6922    56.6590 H             1 RES     \\n       5 C            5.8000    19.2432    57.1340 C             1 RES     \\n       6 H            5.9750    21.2852    56.4680 H             1 RES     \\n       7 C            4.9220    18.2362    57.5010 C             1 RES     \\n       8 C            3.5600    18.4692    57.6510 C             1 RES     \\n       9 H            2.8870    17.7142    58.0170 H             1 RES     \\n      10 H            2.0000    19.8932    57.4840 H             1 RES     \\n      11 C            5.6170    16.9842    57.7290 C             1 RES     \\n      12 C            7.0750    17.3312    57.6700 C             1 RES     \\n      13 C            7.1810    18.7382    57.2050 C             1 RES     \\n      14 O            8.1980    19.3852    56.9900 O             1 RES     \\n      15 C            5.0240    15.7162    57.7560 C             1 RES     \\n      16 C            3.6810    15.5512    57.3260 C             1 RES     \\n      17 C            5.6000    14.4012    58.0370 C             1 RES     \\n      18 N            2.5890    15.4292    56.9740 N             1 RES     \\n      19 N            6.0530    13.3572    58.2600 N             1 RES     \\n      20 C            7.9040    16.3202    57.8410 C             1 RES     \\n      21 C            9.2180    15.7752    57.7900 C             1 RES     \\n      22 H            7.3890    15.6142    58.3420 H             1 RES     \\n      23 S           10.6460    16.6442    57.6450 S             1 RES     \\n      24 C           11.5880    15.4712    58.3950 C             1 RES     \\n      25 C           10.7860    14.3312    58.5020 C             1 RES     \\n      26 C            9.4190    14.4622    58.2320 C             1 RES     \\n      27 H            8.5740    13.7982    58.5700 H             1 RES     \\n      28 C           12.8360    15.4732    59.2400 C             1 RES     \\n      29 S           11.6070    13.1912    59.3630 S             1 RES     \\n      30 C           12.9760    14.1382    59.7320 C             1 RES     \\n      31 C           13.8800    16.5832    60.0650 C             1 RES     \\n      32 C           14.8090    15.2232    60.5070 C             1 RES     \\n      33 C           14.2840    13.8962    60.4000 C             1 RES     \\n      34 C           14.8600    17.9972    60.5300 C             1 RES     \\n      35 C           12.5780    17.5822    60.3030 C             1 RES     \\n      36 C           12.5330    18.8392    59.5730 C             1 RES     \\n      37 C           11.4750    19.7632    59.6050 C             1 RES     \\n      38 C           10.3030    19.5192    60.3210 C             1 RES     \\n      39 C           10.3560    18.3902    61.1970 C             1 RES     \\n      40 C           15.9190    18.6522    59.7650 C             1 RES     \\n      41 C           16.4620    20.0072    60.0310 C             1 RES     \\n      42 C           16.0390    20.8792    61.0760 C             1 RES     \\n      43 C           15.1260    20.2432    61.9330 C             1 RES     \\n      44 C           14.5760    18.8922    61.7060 C             1 RES     \\n      45 C           11.4700    17.4532    61.2030 C             1 RES     \\n      46 H           16.3260    18.1892    58.8830 H             1 RES     \\n      47 H            9.5110    18.1862    61.8340 H             1 RES     \\n      48 H           11.4360    16.6142    61.8840 H             1 RES     \\n      49 H           11.5600    20.6662    59.0050 H             1 RES     \\n      50 H           13.3600    19.1572    58.9490 H             1 RES     \\n      51 H           17.2060    20.4412    59.3740 H             1 RES     \\n      52 H           14.8000    20.8742    62.7600 H             1 RES     \\n      53 H           13.8320    18.6532    62.4590 H             1 RES     \\n      54 C            9.0160    20.3712    59.9230 C             1 RES     \\n      55 C            8.3970    21.5562    60.7370 C             1 RES     \\n      56 H            8.2100    19.6542    59.6640 H             1 RES     \\n      57 H            9.2820    20.8512    58.9580 H             1 RES     \\n      58 C            7.5150    22.6712    59.9980 C             1 RES     \\n      59 H            9.2760    22.1302    61.0860 H             1 RES     \\n      60 H            7.8460    21.1842    61.6250 H             1 RES     \\n      61 C            6.0190    22.4732    59.5620 C             1 RES     \\n      62 H            8.0630    23.0872    59.1190 H             1 RES     \\n      63 H            7.4760    23.4972    60.7350 H             1 RES     \\n      64 C            5.1950    23.8082    59.6280 C             1 RES     \\n      65 H            6.0140    22.1132    58.5280 H             1 RES     \\n      66 H            5.4920    21.7442    60.2090 H             1 RES     \\n      67 C            3.8040    23.7602    58.9660 C             1 RES     \\n      68 H            5.7410    24.6482    59.1470 H             1 RES     \\n      69 H            5.0480    24.0642    60.7010 H             1 RES     \\n      70 H            3.9000    23.6842    57.8620 H             1 RES     \\n      71 H            3.2500    24.7062    59.1730 H             1 RES     \\n      72 H            3.1850    22.9192    59.3410 H             1 RES     \\n      73 C           16.4660    22.4672    61.1920 C             1 RES     \\n      74 C           17.2850    23.0932    62.4090 C             1 RES     \\n      75 H           15.5540    23.1102    61.1100 H             1 RES     \\n      76 H           17.0760    22.7592    60.3020 H             1 RES     \\n      77 C           17.7450    24.6252    62.3120 C             1 RES     \\n      78 H           18.2300    22.5202    62.4320 H             1 RES     \\n      79 H           16.7680    22.9552    63.3820 H             1 RES     \\n      80 C           16.7600    25.7092    62.8470 C             1 RES     \\n      81 H           18.0330    24.8672    61.2660 H             1 RES     \\n      82 H           18.6640    24.7582    62.9300 H             1 RES     \\n      83 C           17.2420    27.1862    62.6720 C             1 RES     \\n      84 H           16.5510    25.5432    63.9280 H             1 RES     \\n      85 H           15.8110    25.6112    62.2880 H             1 RES     \\n      86 C           18.3660    27.6462    63.6150 C             1 RES     \\n      87 H           16.3830    27.8632    62.8860 H             1 RES     \\n      88 H           17.5470    27.3622    61.6190 H             1 RES     \\n      89 H           18.0340    27.5872    64.6740 H             1 RES     \\n      90 H           18.6070    28.7172    63.4100 H             1 RES     \\n      91 H           19.2930    27.0572    63.4810 H             1 RES     \\n      92 C           16.2220    15.2522    60.7570 C             1 RES     \\n      93 C           17.0720    14.0862    60.7930 C             1 RES     \\n      94 C           16.5680    12.7712    60.8030 C             1 RES     \\n      95 C           15.1050    12.6512    60.7100 C             1 RES     \\n      96 H           16.7030    16.1932    60.7900 H             1 RES     \\n      97 H           14.7980    11.5862    60.6400 H             1 RES     \\n      98 C           18.5640    14.0012    60.8090 C             1 RES     \\n      99 C           17.7620    11.6412    60.5400 C             1 RES     \\n     100 C           18.9750    12.6862    60.7600 C             1 RES     \\n     101 S           19.9260    15.0512    61.0360 S             1 RES     \\n     102 C           21.0560    13.7962    61.3110 C             1 RES     \\n     103 C           20.4110    12.5982    61.1730 C             1 RES     \\n     104 C           18.7250    10.4332    60.8380 C             1 RES     \\n     105 C           16.9250    10.8532    59.3250 C             1 RES     \\n     106 C           15.9500    11.4242    58.4140 C             1 RES     \\n     107 C           14.9500    10.6162    57.7700 C             1 RES     \\n     108 C           14.9560     9.2082    57.8980 C             1 RES     \\n     109 C           15.9830     8.6442    58.6150 C             1 RES     \\n     110 C           16.8790     9.4072    59.3100 C             1 RES     \\n     111 C           19.6580    10.1442    59.7790 C             1 RES     \\n     112 C           20.6020     9.1212    59.8560 C             1 RES     \\n     113 C           20.6720     8.2952    60.9840 C             1 RES     \\n     114 C           19.7190     8.5232    62.0230 C             1 RES     \\n     115 C           18.7520     9.5752    61.9540 C             1 RES     \\n     116 C           21.9490     7.4422    61.1860 C             1 RES     \\n     117 C           22.2820     5.9662    60.7860 C             1 RES     \\n     118 H           22.1700     7.5242    62.2690 H             1 RES     \\n     119 H           22.7280     8.0222    60.6490 H             1 RES     \\n     120 C           23.7910     5.6902    61.1670 C             1 RES     \\n     121 H           22.1480     5.8062    59.6950 H             1 RES     \\n     122 H           21.6220     5.2722    61.3460 H             1 RES     \\n     123 C           24.3740     4.2532    61.0110 C             1 RES     \\n     124 H           23.9140     5.9552    62.2400 H             1 RES     \\n     125 H           24.4290     6.3752    60.5620 H             1 RES     \\n     126 C           25.8610     4.1872    61.4850 C             1 RES     \\n     127 H           24.3230     3.9292    59.9500 H             1 RES     \\n     128 H           23.7800     3.5542    61.6350 H             1 RES     \\n     129 C           26.4880     2.7862    61.4330 C             1 RES     \\n     130 H           25.9320     4.5272    62.5410 H             1 RES     \\n     131 H           26.4890     4.8582    60.8580 H             1 RES     \\n     132 H           25.9390     2.0782    62.0880 H             1 RES     \\n     133 H           27.5400     2.8332    61.8010 H             1 RES     \\n     134 H           26.5120     2.3892    60.3970 H             1 RES     \\n     135 C           13.9350     8.1832    57.3940 C             1 RES     \\n     136 C           12.4790     8.5982    57.1280 C             1 RES     \\n     137 H           13.8320     7.4232    58.2080 H             1 RES     \\n     138 H           14.3720     7.6462    56.5250 H             1 RES     \\n     139 C           11.6420     7.3362    56.7680 C             1 RES     \\n     140 H           12.4520     9.3252    56.2940 H             1 RES     \\n     141 H           12.0490     9.0642    58.0430 H             1 RES     \\n     142 C           10.1880     7.6682    56.3980 C             1 RES     \\n     143 H           11.6410     6.6222    57.6250 H             1 RES     \\n     144 H           12.1160     6.8282    55.9000 H             1 RES     \\n     145 C            9.4040     6.4152    55.9620 C             1 RES     \\n     146 H           10.1980     8.3892    55.5540 H             1 RES     \\n     147 H            9.6780     8.1322    57.2700 H             1 RES     \\n     148 C            7.9790     6.7702    55.5300 C             1 RES     \\n     149 H            9.3540     5.6822    56.7980 H             1 RES     \\n     150 H            9.9150     5.9312    55.1000 H             1 RES     \\n     151 H            7.4180     7.2282    56.3720 H             1 RES     \\n     152 H            7.4420     5.8532    55.2050 H             1 RES     \\n     153 H            8.0000     7.4812    54.6770 H             1 RES     \\n     154 H           15.8280    12.4972    58.3140 H             1 RES     \\n     155 H           14.1500    11.0932    57.2190 H             1 RES     \\n     156 H           16.0490     7.5682    58.7310 H             1 RES     \\n     157 H           17.4880     8.7532    59.9030 H             1 RES     \\n     158 H           18.0490     9.7302    62.7610 H             1 RES     \\n     159 H           19.6800    10.7812    58.8980 H             1 RES     \\n     160 H           21.3280     9.0392    59.0560 H             1 RES     \\n     161 H           19.7540     7.9172    62.9160 H             1 RES     \\n     162 S           21.6050    11.4102    61.6360 S             1 RES     \\n     163 C           22.9300    12.4322    61.9590 C             1 RES     \\n     164 C           22.4350    13.7392    61.6960 C             1 RES     \\n     165 H           23.0600    14.6132    61.8090 H             1 RES     \\n     166 C           24.3810    12.1982    62.4170 C             1 RES     \\n     167 C           25.2570    11.1402    62.6340 C             1 RES     \\n     168 H           24.8350    13.1542    62.5510 H             1 RES     \\n     169 C           25.0750     9.6792    62.4450 C             1 RES     \\n     170 C           26.3800     8.9832    62.5720 C             1 RES     \\n     171 C           27.3440     9.9132    62.8800 C             1 RES     \\n     172 C           26.7490    11.2822    62.9140 C             1 RES     \\n     173 O           24.0170     9.1302    62.2370 O             1 RES     \\n     174 C           27.4960    12.4092    63.0950 C             1 RES     \\n     175 C           26.9900    13.7002    63.4690 C             1 RES     \\n     176 C           28.9170    12.3842    62.8380 C             1 RES     \\n     177 N           26.6240    14.7562    63.7690 N             1 RES     \\n     178 N           30.0530    12.3252    62.6230 N             1 RES     \\n     179 C           28.6530     9.4902    63.2120 C             1 RES     \\n     180 C           28.9990     8.1442    63.1290 C             1 RES     \\n     181 C           28.0440     7.2082    62.7280 C             1 RES     \\n     182 C           26.7210     7.6192    62.4650 C             1 RES     \\n     183 H           29.4190    10.1502    63.5690 H             1 RES     \\n     184 H           30.0080     7.8362    63.3860 H             1 RES     \\n     185 H           28.3360     6.1662    62.6580 H             1 RES     \\n     186 H           25.9960     6.8802    62.2030 H             1 RES     \\n@<TRIPOS>BOND\\n       1       31       35 1\\n       2      104      111 1\\n       3       58       63 1\\n       4       12       13 1\\n       5       86       89 1\\n       6       99      104 1\\n       7       94       95 1\\n       8       32       92 1\\n       9      123      127 1\\n      10      126      130 1\\n      11      100      103 1\\n      12       26       25 1\\n      13       54       57 1\\n      14      117      120 1\\n      15      163      166 1\\n      16      116      119 1\\n      17      142      146 1\\n      18       64       67 1\\n      19      105      106 1\\n      20      113      114 1\\n      21      167      172 1\\n      22       42       43 1\\n      23       17       19 1\\n      24      148      151 1\\n      25       36       50 1\\n      26       86       91 1\\n      27       12       20 1\\n      28       98      101 1\\n      29       80       84 1\\n      30       11       15 1\\n      31        7       11 1\\n      32      167      169 1\\n      33      179      180 1\\n      34      163      164 1\\n      35       37       38 1\\n      36      116      117 1\\n      37       25       29 1\\n      38      108      135 1\\n      39       26       27 1\\n      40      117      122 1\\n      41      174      176 1\\n      42       37       49 1\\n      43       74       78 1\\n      44       92       93 1\\n      45       35       45 1\\n      46      148      153 1\\n      47       94       99 1\\n      48       99      100 1\\n      49       36       37 1\\n      50      162      163 1\\n      51        8        1 1\\n      52       24       28 1\\n      53      110      157 1\\n      54       61       65 1\\n      55       77       81 1\\n      56       39       45 1\\n      57       41       51 1\\n      58        2        4 1\\n      59       16       18 1\\n      60       73       75 1\\n      61       13       14 1\\n      62       20       22 1\\n      63      172      174 1\\n      64       32       33 1\\n      65      120      125 1\\n      66      182      186 1\\n      67      180      181 1\\n      68      164      165 1\\n      69      101      102 1\\n      70       54       55 1\\n      71        5        7 1\\n      72       44       53 1\\n      73       38       39 1\\n      74       40       46 1\\n      75       64       69 1\\n      76       39       47 1\\n      77       58       62 1\\n      78       24       23 1\\n      79      139      143 1\\n      80        2        1 1\\n      81       83       88 1\\n      82      145      148 1\\n      83        8        9 1\\n      84       67       70 1\\n      85       35       36 1\\n      86      181      185 1\\n      87       55       59 1\\n      88      166      168 1\\n      89      169      173 1\\n      90      113      116 1\\n      91      129      133 1\\n      92       25       24 1\\n      93       67       71 1\\n      94       38       54 1\\n      95       92       96 1\\n      96      135      137 1\\n      97       15       17 1\\n      98        3        5 1\\n      99       83       86 1\\n     100       99      105 1\\n     101       34       40 1\\n     102      145      150 1\\n     103      136      140 1\\n     104      123      128 1\\n     105      126      131 1\\n     106      180      184 1\\n     107      116      118 1\\n     108      142      147 1\\n     109       26       21 1\\n     110      117      121 1\\n     111      112      113 1\\n     112      176      178 1\\n     113       45       48 1\\n     114       86       90 1\\n     115       29       30 1\\n     116       98      100 1\\n     117       80       83 1\\n     118       21       23 1\\n     119      123      126 1\\n     120       61       64 1\\n     121      126      129 1\\n     122      114      161 1\\n     123       77       80 1\\n     124      142      145 1\\n     125       64       68 1\\n     126       31       34 1\\n     127       74       77 1\\n     128       73       74 1\\n     129       93       98 1\\n     130      171      172 1\\n     131      108      109 1\\n     132       11       12 1\\n     133       34       44 1\\n     134        7        8 1\\n     135       95       97 1\\n     136      120      123 1\\n     137      102      164 1\\n     138       31       28 1\\n     139       61       66 1\\n     140      170      182 1\\n     141       77       82 1\\n     142      103      162 1\\n     143       33       95 1\\n     144      115      158 1\\n     145      174      175 1\\n     146      111      112 1\\n     147       42       73 1\\n     148      171      179 1\\n     149      139      144 1\\n     150      136      139 1\\n     151       73       76 1\\n     152      107      155 1\\n     153       74       79 1\\n     154      148      152 1\\n     155       10        1 1\\n     156      120      124 1\\n     157      105      110 1\\n     158      181      182 1\\n     159      112      160 1\\n     160      102      103 1\\n     161       41       42 1\\n     162       43       52 1\\n     163       54       56 1\\n     164      179      183 1\\n     165      104      115 1\\n     166       28       30 1\\n     167      135      138 1\\n     168      139      142 1\\n     169        3        6 1\\n     170      106      154 1\\n     171       20       21 1\\n     172      109      110 1\\n     173       93       94 1\\n     174       80       85 1\\n     175       33       30 1\\n     176        5       13 1\\n     177       55       58 1\\n     178      129      132 1\\n     179       67       72 1\\n     180      175      177 1\\n     181      169      170 1\\n     182      114      115 1\\n     183       43       44 1\\n     184      106      107 1\\n     185       58       61 1\\n     186      135      136 1\\n     187       32       31 1\\n     188       15       16 1\\n     189       83       87 1\\n     190      145      149 1\\n     191        2        3 1\\n     192      109      156 1\\n     193      136      141 1\\n     194      170      171 1\\n     195       55       60 1\\n     196       40       41 1\\n     197      107      108 1\\n     198      166      167 1\\n     199      111      159 1\\n     200      129      134 1\\n@<TRIPOS>SUBSTRUCTURE\\n       1 RES             1 RESIDUE    0 **** ROOT      0\\n\",\"mol2\");\n",
       "\tviewer_16221490630531929.setStyle({\"stick\": {\"radius\": 0.2, \"color\": \"grey\"}, \"sphere\": {\"scale\": 0.3, \"colorscheme\": {}}});\n",
       "\tviewer_16221490630531929.zoomTo();\n",
       "viewer_16221490630531929.render();\n",
       "});\n",
       "</script>"
      ]
     },
     "metadata": {},
     "output_type": "display_data"
    }
   ],
   "source": [
    "with gsd.hoomd.open(name='/Users/jimmy/cmelab/data/ITIC/4700e7da2f41cc6c77e08977f1f8d94c/trajectory.gsd', mode='rb') as f:\n",
    "    snap = f[0]\n",
    "    \n",
    "box = snap.configuration.box[:3]\n",
    "ref_distance = 3.563594872561358\n",
    "unwrapped_positions = snap.particles.position + snap.particles.image * box\n",
    "\n",
    "unwrap_snap = deepcopy(snap)\n",
    "unwrap_snap.particles.position = unwrapped_positions\n",
    "unwrap_snap.particles.types = [amber_dict[i].symbol for i in snap.particles.types]\n",
    "comp = from_snapshot(unwrap_snap, scale=0.1*ref_distance)\n",
    "comp.visualize().show()"
   ]
  },
  {
   "cell_type": "markdown",
   "id": "e1f9de52",
   "metadata": {},
   "source": [
    "Next let's use SMARTS matching to detect our chromophores. This SMARTS string is for (a generalized) p3ht. The `conversion_dict` is a dictionary which converts atom type to element.\n",
    "\n",
    "Note: The positions/orientations in the gsd file are not optimal, so openbabel has a tough time recognizing them as aromatic -- this is why I am defining the SMARTS by element (`[#6]`) instead of aromatic carbon (`c`) and even so, one chromophore is not detected correctly. If we were running a simulation workflow from scratch, I would recommend using the first frame (before any distortion) for smarts matching and then mapping those indices to the final structure."
   ]
  },
  {
   "cell_type": "code",
   "execution_count": 30,
   "id": "0d945b6f",
   "metadata": {},
   "outputs": [
    {
     "name": "stdout",
     "output_type": "stream",
     "text": [
      "Found 7 chromophores.\n"
     ]
    },
    {
     "data": {
      "text/plain": [
       "list"
      ]
     },
     "execution_count": 30,
     "metadata": {},
     "output_type": "execute_result"
    }
   ],
   "source": [
    "smarts_str = \"c1ccccc1\"\n",
    "aaids = chromophores.get_chromo_ids_smiles(snap, smarts_str, amber_dict)\n",
    "type(aaids)"
   ]
  },
  {
   "cell_type": "markdown",
   "id": "f012fdcc",
   "metadata": {},
   "source": [
    "For two 15-mers with each monomer being a chromophore, we expect 30 chromophores. Basically, the smarts matching misses one chromophore. So I have to add it manually. \n",
    "\n",
    "The visualization below shows the detected chromophores in pink and the missed one in blue:"
   ]
  },
  {
   "cell_type": "code",
   "execution_count": 31,
   "id": "95ef5689",
   "metadata": {},
   "outputs": [
    {
     "data": {
      "application/3dmoljs_load.v0": "<div id=\"3dmolviewer_1622149066435029\"  style=\"position: relative; width: 640px; height: 480px\">\n        <p id=\"3dmolwarning_1622149066435029\" style=\"background-color:#ffcccc;color:black\">You appear to be running in JupyterLab (or JavaScript failed to load for some other reason).  You need to install the 3dmol extension: <br>\n        <tt>jupyter labextension install jupyterlab_3dmol</tt></p>\n        </div>\n<script>\n\nvar loadScriptAsync = function(uri){\n  return new Promise((resolve, reject) => {\n    var tag = document.createElement('script');\n    tag.src = uri;\n    tag.async = true;\n    tag.onload = () => {\n      resolve();\n    };\n  var firstScriptTag = document.getElementsByTagName('script')[0];\n  firstScriptTag.parentNode.insertBefore(tag, firstScriptTag);\n});\n};\n\nif(typeof $3Dmolpromise === 'undefined') {\n$3Dmolpromise = null;\n  $3Dmolpromise = loadScriptAsync('https://3dmol.csb.pitt.edu/build/3Dmol.js');\n}\n\nvar viewer_1622149066435029 = null;\nvar warn = document.getElementById(\"3dmolwarning_1622149066435029\");\nif(warn) {\n    warn.parentNode.removeChild(warn);\n}\n$3Dmolpromise.then(function() {\nviewer_1622149066435029 = $3Dmol.createViewer($(\"#3dmolviewer_1622149066435029\"),{backgroundColor:\"white\"});\n\tviewer_1622149066435029.addModel(\"@<TRIPOS>MOLECULE\\nRES\\n186 200 1 0 1\\nSMALL\\nNO_CHARGES\\n@<TRIPOS>CRYSIN\\n   66.6742    66.6742    66.6742    90.0000    90.0000    90.0000  1  1\\n@<TRIPOS>ATOM\\n       1 Kr           3.0580    19.7222    57.3560 Kr            1 RES     \\n       2 Kr           3.9200    20.7302    56.9000 Kr            1 RES     \\n       3 Kr           5.3070    20.4992    56.7900 Kr            1 RES     \\n       4 H            3.5050    21.6922    56.6590 H             1 RES     \\n       5 Kr           5.8000    19.2432    57.1340 Kr            1 RES     \\n       6 H            5.9750    21.2852    56.4680 H             1 RES     \\n       7 Kr           4.9220    18.2362    57.5010 Kr            1 RES     \\n       8 Kr           3.5600    18.4692    57.6510 Kr            1 RES     \\n       9 H            2.8870    17.7142    58.0170 H             1 RES     \\n      10 H            2.0000    19.8932    57.4840 H             1 RES     \\n      11 C            5.6170    16.9842    57.7290 C             1 RES     \\n      12 C            7.0750    17.3312    57.6700 C             1 RES     \\n      13 C            7.1810    18.7382    57.2050 C             1 RES     \\n      14 O            8.1980    19.3852    56.9900 O             1 RES     \\n      15 C            5.0240    15.7162    57.7560 C             1 RES     \\n      16 C            3.6810    15.5512    57.3260 C             1 RES     \\n      17 C            5.6000    14.4012    58.0370 C             1 RES     \\n      18 N            2.5890    15.4292    56.9740 N             1 RES     \\n      19 N            6.0530    13.3572    58.2600 N             1 RES     \\n      20 C            7.9040    16.3202    57.8410 C             1 RES     \\n      21 C            9.2180    15.7752    57.7900 C             1 RES     \\n      22 H            7.3890    15.6142    58.3420 H             1 RES     \\n      23 S           10.6460    16.6442    57.6450 S             1 RES     \\n      24 C           11.5880    15.4712    58.3950 C             1 RES     \\n      25 C           10.7860    14.3312    58.5020 C             1 RES     \\n      26 C            9.4190    14.4622    58.2320 C             1 RES     \\n      27 H            8.5740    13.7982    58.5700 H             1 RES     \\n      28 C           12.8360    15.4732    59.2400 C             1 RES     \\n      29 S           11.6070    13.1912    59.3630 S             1 RES     \\n      30 C           12.9760    14.1382    59.7320 C             1 RES     \\n      31 C           13.8800    16.5832    60.0650 C             1 RES     \\n      32 Kr          14.8090    15.2232    60.5070 Kr            1 RES     \\n      33 Kr          14.2840    13.8962    60.4000 Kr            1 RES     \\n      34 Kr          14.8600    17.9972    60.5300 Kr            1 RES     \\n      35 Kr          12.5780    17.5822    60.3030 Kr            1 RES     \\n      36 Kr          12.5330    18.8392    59.5730 Kr            1 RES     \\n      37 Kr          11.4750    19.7632    59.6050 Kr            1 RES     \\n      38 Kr          10.3030    19.5192    60.3210 Kr            1 RES     \\n      39 Kr          10.3560    18.3902    61.1970 Kr            1 RES     \\n      40 Kr          15.9190    18.6522    59.7650 Kr            1 RES     \\n      41 Kr          16.4620    20.0072    60.0310 Kr            1 RES     \\n      42 Kr          16.0390    20.8792    61.0760 Kr            1 RES     \\n      43 Kr          15.1260    20.2432    61.9330 Kr            1 RES     \\n      44 Kr          14.5760    18.8922    61.7060 Kr            1 RES     \\n      45 Kr          11.4700    17.4532    61.2030 Kr            1 RES     \\n      46 H           16.3260    18.1892    58.8830 H             1 RES     \\n      47 H            9.5110    18.1862    61.8340 H             1 RES     \\n      48 H           11.4360    16.6142    61.8840 H             1 RES     \\n      49 H           11.5600    20.6662    59.0050 H             1 RES     \\n      50 H           13.3600    19.1572    58.9490 H             1 RES     \\n      51 H           17.2060    20.4412    59.3740 H             1 RES     \\n      52 H           14.8000    20.8742    62.7600 H             1 RES     \\n      53 H           13.8320    18.6532    62.4590 H             1 RES     \\n      54 C            9.0160    20.3712    59.9230 C             1 RES     \\n      55 C            8.3970    21.5562    60.7370 C             1 RES     \\n      56 H            8.2100    19.6542    59.6640 H             1 RES     \\n      57 H            9.2820    20.8512    58.9580 H             1 RES     \\n      58 C            7.5150    22.6712    59.9980 C             1 RES     \\n      59 H            9.2760    22.1302    61.0860 H             1 RES     \\n      60 H            7.8460    21.1842    61.6250 H             1 RES     \\n      61 C            6.0190    22.4732    59.5620 C             1 RES     \\n      62 H            8.0630    23.0872    59.1190 H             1 RES     \\n      63 H            7.4760    23.4972    60.7350 H             1 RES     \\n      64 C            5.1950    23.8082    59.6280 C             1 RES     \\n      65 H            6.0140    22.1132    58.5280 H             1 RES     \\n      66 H            5.4920    21.7442    60.2090 H             1 RES     \\n      67 C            3.8040    23.7602    58.9660 C             1 RES     \\n      68 H            5.7410    24.6482    59.1470 H             1 RES     \\n      69 H            5.0480    24.0642    60.7010 H             1 RES     \\n      70 H            3.9000    23.6842    57.8620 H             1 RES     \\n      71 H            3.2500    24.7062    59.1730 H             1 RES     \\n      72 H            3.1850    22.9192    59.3410 H             1 RES     \\n      73 C           16.4660    22.4672    61.1920 C             1 RES     \\n      74 C           17.2850    23.0932    62.4090 C             1 RES     \\n      75 H           15.5540    23.1102    61.1100 H             1 RES     \\n      76 H           17.0760    22.7592    60.3020 H             1 RES     \\n      77 C           17.7450    24.6252    62.3120 C             1 RES     \\n      78 H           18.2300    22.5202    62.4320 H             1 RES     \\n      79 H           16.7680    22.9552    63.3820 H             1 RES     \\n      80 C           16.7600    25.7092    62.8470 C             1 RES     \\n      81 H           18.0330    24.8672    61.2660 H             1 RES     \\n      82 H           18.6640    24.7582    62.9300 H             1 RES     \\n      83 C           17.2420    27.1862    62.6720 C             1 RES     \\n      84 H           16.5510    25.5432    63.9280 H             1 RES     \\n      85 H           15.8110    25.6112    62.2880 H             1 RES     \\n      86 C           18.3660    27.6462    63.6150 C             1 RES     \\n      87 H           16.3830    27.8632    62.8860 H             1 RES     \\n      88 H           17.5470    27.3622    61.6190 H             1 RES     \\n      89 H           18.0340    27.5872    64.6740 H             1 RES     \\n      90 H           18.6070    28.7172    63.4100 H             1 RES     \\n      91 H           19.2930    27.0572    63.4810 H             1 RES     \\n      92 Kr          16.2220    15.2522    60.7570 Kr            1 RES     \\n      93 Kr          17.0720    14.0862    60.7930 Kr            1 RES     \\n      94 Kr          16.5680    12.7712    60.8030 Kr            1 RES     \\n      95 Kr          15.1050    12.6512    60.7100 Kr            1 RES     \\n      96 H           16.7030    16.1932    60.7900 H             1 RES     \\n      97 H           14.7980    11.5862    60.6400 H             1 RES     \\n      98 C           18.5640    14.0012    60.8090 C             1 RES     \\n      99 C           17.7620    11.6412    60.5400 C             1 RES     \\n     100 C           18.9750    12.6862    60.7600 C             1 RES     \\n     101 S           19.9260    15.0512    61.0360 S             1 RES     \\n     102 C           21.0560    13.7962    61.3110 C             1 RES     \\n     103 C           20.4110    12.5982    61.1730 C             1 RES     \\n     104 Kr          18.7250    10.4332    60.8380 Kr            1 RES     \\n     105 Kr          16.9250    10.8532    59.3250 Kr            1 RES     \\n     106 Kr          15.9500    11.4242    58.4140 Kr            1 RES     \\n     107 Kr          14.9500    10.6162    57.7700 Kr            1 RES     \\n     108 Kr          14.9560     9.2082    57.8980 Kr            1 RES     \\n     109 Kr          15.9830     8.6442    58.6150 Kr            1 RES     \\n     110 Kr          16.8790     9.4072    59.3100 Kr            1 RES     \\n     111 Kr          19.6580    10.1442    59.7790 Kr            1 RES     \\n     112 Kr          20.6020     9.1212    59.8560 Kr            1 RES     \\n     113 Kr          20.6720     8.2952    60.9840 Kr            1 RES     \\n     114 Kr          19.7190     8.5232    62.0230 Kr            1 RES     \\n     115 Kr          18.7520     9.5752    61.9540 Kr            1 RES     \\n     116 C           21.9490     7.4422    61.1860 C             1 RES     \\n     117 C           22.2820     5.9662    60.7860 C             1 RES     \\n     118 H           22.1700     7.5242    62.2690 H             1 RES     \\n     119 H           22.7280     8.0222    60.6490 H             1 RES     \\n     120 C           23.7910     5.6902    61.1670 C             1 RES     \\n     121 H           22.1480     5.8062    59.6950 H             1 RES     \\n     122 H           21.6220     5.2722    61.3460 H             1 RES     \\n     123 C           24.3740     4.2532    61.0110 C             1 RES     \\n     124 H           23.9140     5.9552    62.2400 H             1 RES     \\n     125 H           24.4290     6.3752    60.5620 H             1 RES     \\n     126 C           25.8610     4.1872    61.4850 C             1 RES     \\n     127 H           24.3230     3.9292    59.9500 H             1 RES     \\n     128 H           23.7800     3.5542    61.6350 H             1 RES     \\n     129 C           26.4880     2.7862    61.4330 C             1 RES     \\n     130 H           25.9320     4.5272    62.5410 H             1 RES     \\n     131 H           26.4890     4.8582    60.8580 H             1 RES     \\n     132 H           25.9390     2.0782    62.0880 H             1 RES     \\n     133 H           27.5400     2.8332    61.8010 H             1 RES     \\n     134 H           26.5120     2.3892    60.3970 H             1 RES     \\n     135 C           13.9350     8.1832    57.3940 C             1 RES     \\n     136 C           12.4790     8.5982    57.1280 C             1 RES     \\n     137 H           13.8320     7.4232    58.2080 H             1 RES     \\n     138 H           14.3720     7.6462    56.5250 H             1 RES     \\n     139 C           11.6420     7.3362    56.7680 C             1 RES     \\n     140 H           12.4520     9.3252    56.2940 H             1 RES     \\n     141 H           12.0490     9.0642    58.0430 H             1 RES     \\n     142 C           10.1880     7.6682    56.3980 C             1 RES     \\n     143 H           11.6410     6.6222    57.6250 H             1 RES     \\n     144 H           12.1160     6.8282    55.9000 H             1 RES     \\n     145 C            9.4040     6.4152    55.9620 C             1 RES     \\n     146 H           10.1980     8.3892    55.5540 H             1 RES     \\n     147 H            9.6780     8.1322    57.2700 H             1 RES     \\n     148 C            7.9790     6.7702    55.5300 C             1 RES     \\n     149 H            9.3540     5.6822    56.7980 H             1 RES     \\n     150 H            9.9150     5.9312    55.1000 H             1 RES     \\n     151 H            7.4180     7.2282    56.3720 H             1 RES     \\n     152 H            7.4420     5.8532    55.2050 H             1 RES     \\n     153 H            8.0000     7.4812    54.6770 H             1 RES     \\n     154 H           15.8280    12.4972    58.3140 H             1 RES     \\n     155 H           14.1500    11.0932    57.2190 H             1 RES     \\n     156 H           16.0490     7.5682    58.7310 H             1 RES     \\n     157 H           17.4880     8.7532    59.9030 H             1 RES     \\n     158 H           18.0490     9.7302    62.7610 H             1 RES     \\n     159 H           19.6800    10.7812    58.8980 H             1 RES     \\n     160 H           21.3280     9.0392    59.0560 H             1 RES     \\n     161 H           19.7540     7.9172    62.9160 H             1 RES     \\n     162 S           21.6050    11.4102    61.6360 S             1 RES     \\n     163 C           22.9300    12.4322    61.9590 C             1 RES     \\n     164 C           22.4350    13.7392    61.6960 C             1 RES     \\n     165 H           23.0600    14.6132    61.8090 H             1 RES     \\n     166 C           24.3810    12.1982    62.4170 C             1 RES     \\n     167 C           25.2570    11.1402    62.6340 C             1 RES     \\n     168 H           24.8350    13.1542    62.5510 H             1 RES     \\n     169 C           25.0750     9.6792    62.4450 C             1 RES     \\n     170 Kr          26.3800     8.9832    62.5720 Kr            1 RES     \\n     171 Kr          27.3440     9.9132    62.8800 Kr            1 RES     \\n     172 C           26.7490    11.2822    62.9140 C             1 RES     \\n     173 O           24.0170     9.1302    62.2370 O             1 RES     \\n     174 C           27.4960    12.4092    63.0950 C             1 RES     \\n     175 C           26.9900    13.7002    63.4690 C             1 RES     \\n     176 C           28.9170    12.3842    62.8380 C             1 RES     \\n     177 N           26.6240    14.7562    63.7690 N             1 RES     \\n     178 N           30.0530    12.3252    62.6230 N             1 RES     \\n     179 Kr          28.6530     9.4902    63.2120 Kr            1 RES     \\n     180 Kr          28.9990     8.1442    63.1290 Kr            1 RES     \\n     181 Kr          28.0440     7.2082    62.7280 Kr            1 RES     \\n     182 Kr          26.7210     7.6192    62.4650 Kr            1 RES     \\n     183 H           29.4190    10.1502    63.5690 H             1 RES     \\n     184 H           30.0080     7.8362    63.3860 H             1 RES     \\n     185 H           28.3360     6.1662    62.6580 H             1 RES     \\n     186 H           25.9960     6.8802    62.2030 H             1 RES     \\n@<TRIPOS>BOND\\n       1       93       98 1\\n       2       25       26 1\\n       3       41       42 1\\n       4        3        5 1\\n       5       55       60 1\\n       6       40       46 1\\n       7      116      118 1\\n       8       17       19 1\\n       9      180      181 1\\n      10      102      164 1\\n      11      109      110 1\\n      12       38       39 1\\n      13       37       49 1\\n      14      135      138 1\\n      15      136      139 1\\n      16        5       13 1\\n      17        7       11 1\\n      18      139      144 1\\n      19      108      135 1\\n      20      105      110 1\\n      21      120      123 1\\n      22       16       15 1\\n      23      182      186 1\\n      24      129      132 1\\n      25       55       58 1\\n      26       54       57 1\\n      27      123      128 1\\n      28       39       47 1\\n      29       61       65 1\\n      30       98      100 1\\n      31      135      136 1\\n      32       34       40 1\\n      33      136      141 1\\n      34       67       71 1\\n      35      175      177 1\\n      36        8        9 1\\n      37       99      100 1\\n      38       20       21 1\\n      39       24       25 1\\n      40      145      149 1\\n      41      162      163 1\\n      42      166      167 1\\n      43      111      159 1\\n      44       86       90 1\\n      45       83       87 1\\n      46       31       35 1\\n      47       94       99 1\\n      48      169      170 1\\n      49      167      172 1\\n      50      120      125 1\\n      51       43       44 1\\n      52      106      107 1\\n      53       39       45 1\\n      54      129      134 1\\n      55       80       77 1\\n      56       12       20 1\\n      57      115      158 1\\n      58       43       52 1\\n      59       77       74 1\\n      60       92       96 1\\n      61        2        1 1\\n      62       78       74 1\\n      63      105      106 1\\n      64      104      111 1\\n      65       83       88 1\\n      66       26       27 1\\n      67       42       43 1\\n      68       64       68 1\\n      69      171      179 1\\n      70       11       15 1\\n      71      142      146 1\\n      72       82       77 1\\n      73       32       92 1\\n      74      176      178 1\\n      75       99      104 1\\n      76      123      127 1\\n      77      179      180 1\\n      78      117      120 1\\n      79       37       38 1\\n      80      116      117 1\\n      81      107      155 1\\n      82       54       55 1\\n      83       94       95 1\\n      84      126      129 1\\n      85       58       62 1\\n      86        3        2 1\\n      87      148      151 1\\n      88      102      103 1\\n      89       21       26 1\\n      90       23       24 1\\n      91       75       73 1\\n      92       28       30 1\\n      93      174      176 1\\n      94      109      156 1\\n      95      110      157 1\\n      96       16       18 1\\n      97      104      115 1\\n      98      116      119 1\\n      99      117      122 1\\n     100      170      182 1\\n     101      114      161 1\\n     102      179      183 1\\n     103      103      162 1\\n     104       73       76 1\\n     105      112      113 1\\n     106      113      116 1\\n     107      135      137 1\\n     108      136      140 1\\n     109       38       54 1\\n     110      148      153 1\\n     111       21       23 1\\n     112      164      165 1\\n     113      101      102 1\\n     114      139      143 1\\n     115        5        7 1\\n     116       64       67 1\\n     117      169      173 1\\n     118       54       56 1\\n     119       55       59 1\\n     120       13       14 1\\n     121      172      174 1\\n     122       93       94 1\\n     123       98      101 1\\n     124       74       73 1\\n     125      145      148 1\\n     126       24       28 1\\n     127       86       89 1\\n     128       29       30 1\\n     129       30       33 1\\n     130      171      172 1\\n     131       83       86 1\\n     132      108      109 1\\n     133       95       97 1\\n     134       33       95 1\\n     135        3        6 1\\n     136      167      169 1\\n     137      129      133 1\\n     138       36       37 1\\n     139       40       41 1\\n     140      106      154 1\\n     141       61       64 1\\n     142      139      142 1\\n     143      126      131 1\\n     144       10        1 1\\n     145      114      115 1\\n     146       35       36 1\\n     147       41       51 1\\n     148       20       22 1\\n     149        7        8 1\\n     150      145      150 1\\n     151      166      168 1\\n     152       86       91 1\\n     153       79       74 1\\n     154       45       48 1\\n     155       31       34 1\\n     156        2        4 1\\n     157       25       29 1\\n     158      120      124 1\\n     159      112      160 1\\n     160       12       13 1\\n     161       61       66 1\\n     162       35       45 1\\n     163       92       93 1\\n     164      142      147 1\\n     165      113      114 1\\n     166       80       85 1\\n     167       44       53 1\\n     168      123      126 1\\n     169       80       84 1\\n     170        8        1 1\\n     171       28       31 1\\n     172       64       69 1\\n     173      126      130 1\\n     174       36       50 1\\n     175       67       72 1\\n     176       58       61 1\\n     177      142      145 1\\n     178      148      152 1\\n     179      163      164 1\\n     180      163      166 1\\n     181       99      105 1\\n     182      170      171 1\\n     183      174      175 1\\n     184      111      112 1\\n     185      107      108 1\\n     186       15       17 1\\n     187       32       33 1\\n     188      180      184 1\\n     189      181      185 1\\n     190       81       77 1\\n     191      117      121 1\\n     192      181      182 1\\n     193       83       80 1\\n     194       31       32 1\\n     195       11       12 1\\n     196       58       63 1\\n     197       34       44 1\\n     198       42       73 1\\n     199       67       70 1\\n     200      100      103 1\\n@<TRIPOS>SUBSTRUCTURE\\n       1 RES             1 RESIDUE    0 **** ROOT      0\\n\",\"mol2\");\n\tviewer_1622149066435029.setStyle({\"stick\": {\"radius\": 0.2, \"color\": \"grey\"}, \"sphere\": {\"scale\": 0.3, \"colorscheme\": {}}});\n\tviewer_1622149066435029.zoomTo();\nviewer_1622149066435029.render();\n});\n</script>",
      "text/html": [
       "<div id=\"3dmolviewer_1622149066435029\"  style=\"position: relative; width: 640px; height: 480px\">\n",
       "        <p id=\"3dmolwarning_1622149066435029\" style=\"background-color:#ffcccc;color:black\">You appear to be running in JupyterLab (or JavaScript failed to load for some other reason).  You need to install the 3dmol extension: <br>\n",
       "        <tt>jupyter labextension install jupyterlab_3dmol</tt></p>\n",
       "        </div>\n",
       "<script>\n",
       "\n",
       "var loadScriptAsync = function(uri){\n",
       "  return new Promise((resolve, reject) => {\n",
       "    var tag = document.createElement('script');\n",
       "    tag.src = uri;\n",
       "    tag.async = true;\n",
       "    tag.onload = () => {\n",
       "      resolve();\n",
       "    };\n",
       "  var firstScriptTag = document.getElementsByTagName('script')[0];\n",
       "  firstScriptTag.parentNode.insertBefore(tag, firstScriptTag);\n",
       "});\n",
       "};\n",
       "\n",
       "if(typeof $3Dmolpromise === 'undefined') {\n",
       "$3Dmolpromise = null;\n",
       "  $3Dmolpromise = loadScriptAsync('https://3dmol.csb.pitt.edu/build/3Dmol.js');\n",
       "}\n",
       "\n",
       "var viewer_1622149066435029 = null;\n",
       "var warn = document.getElementById(\"3dmolwarning_1622149066435029\");\n",
       "if(warn) {\n",
       "    warn.parentNode.removeChild(warn);\n",
       "}\n",
       "$3Dmolpromise.then(function() {\n",
       "viewer_1622149066435029 = $3Dmol.createViewer($(\"#3dmolviewer_1622149066435029\"),{backgroundColor:\"white\"});\n",
       "\tviewer_1622149066435029.addModel(\"@<TRIPOS>MOLECULE\\nRES\\n186 200 1 0 1\\nSMALL\\nNO_CHARGES\\n@<TRIPOS>CRYSIN\\n   66.6742    66.6742    66.6742    90.0000    90.0000    90.0000  1  1\\n@<TRIPOS>ATOM\\n       1 Kr           3.0580    19.7222    57.3560 Kr            1 RES     \\n       2 Kr           3.9200    20.7302    56.9000 Kr            1 RES     \\n       3 Kr           5.3070    20.4992    56.7900 Kr            1 RES     \\n       4 H            3.5050    21.6922    56.6590 H             1 RES     \\n       5 Kr           5.8000    19.2432    57.1340 Kr            1 RES     \\n       6 H            5.9750    21.2852    56.4680 H             1 RES     \\n       7 Kr           4.9220    18.2362    57.5010 Kr            1 RES     \\n       8 Kr           3.5600    18.4692    57.6510 Kr            1 RES     \\n       9 H            2.8870    17.7142    58.0170 H             1 RES     \\n      10 H            2.0000    19.8932    57.4840 H             1 RES     \\n      11 C            5.6170    16.9842    57.7290 C             1 RES     \\n      12 C            7.0750    17.3312    57.6700 C             1 RES     \\n      13 C            7.1810    18.7382    57.2050 C             1 RES     \\n      14 O            8.1980    19.3852    56.9900 O             1 RES     \\n      15 C            5.0240    15.7162    57.7560 C             1 RES     \\n      16 C            3.6810    15.5512    57.3260 C             1 RES     \\n      17 C            5.6000    14.4012    58.0370 C             1 RES     \\n      18 N            2.5890    15.4292    56.9740 N             1 RES     \\n      19 N            6.0530    13.3572    58.2600 N             1 RES     \\n      20 C            7.9040    16.3202    57.8410 C             1 RES     \\n      21 C            9.2180    15.7752    57.7900 C             1 RES     \\n      22 H            7.3890    15.6142    58.3420 H             1 RES     \\n      23 S           10.6460    16.6442    57.6450 S             1 RES     \\n      24 C           11.5880    15.4712    58.3950 C             1 RES     \\n      25 C           10.7860    14.3312    58.5020 C             1 RES     \\n      26 C            9.4190    14.4622    58.2320 C             1 RES     \\n      27 H            8.5740    13.7982    58.5700 H             1 RES     \\n      28 C           12.8360    15.4732    59.2400 C             1 RES     \\n      29 S           11.6070    13.1912    59.3630 S             1 RES     \\n      30 C           12.9760    14.1382    59.7320 C             1 RES     \\n      31 C           13.8800    16.5832    60.0650 C             1 RES     \\n      32 Kr          14.8090    15.2232    60.5070 Kr            1 RES     \\n      33 Kr          14.2840    13.8962    60.4000 Kr            1 RES     \\n      34 Kr          14.8600    17.9972    60.5300 Kr            1 RES     \\n      35 Kr          12.5780    17.5822    60.3030 Kr            1 RES     \\n      36 Kr          12.5330    18.8392    59.5730 Kr            1 RES     \\n      37 Kr          11.4750    19.7632    59.6050 Kr            1 RES     \\n      38 Kr          10.3030    19.5192    60.3210 Kr            1 RES     \\n      39 Kr          10.3560    18.3902    61.1970 Kr            1 RES     \\n      40 Kr          15.9190    18.6522    59.7650 Kr            1 RES     \\n      41 Kr          16.4620    20.0072    60.0310 Kr            1 RES     \\n      42 Kr          16.0390    20.8792    61.0760 Kr            1 RES     \\n      43 Kr          15.1260    20.2432    61.9330 Kr            1 RES     \\n      44 Kr          14.5760    18.8922    61.7060 Kr            1 RES     \\n      45 Kr          11.4700    17.4532    61.2030 Kr            1 RES     \\n      46 H           16.3260    18.1892    58.8830 H             1 RES     \\n      47 H            9.5110    18.1862    61.8340 H             1 RES     \\n      48 H           11.4360    16.6142    61.8840 H             1 RES     \\n      49 H           11.5600    20.6662    59.0050 H             1 RES     \\n      50 H           13.3600    19.1572    58.9490 H             1 RES     \\n      51 H           17.2060    20.4412    59.3740 H             1 RES     \\n      52 H           14.8000    20.8742    62.7600 H             1 RES     \\n      53 H           13.8320    18.6532    62.4590 H             1 RES     \\n      54 C            9.0160    20.3712    59.9230 C             1 RES     \\n      55 C            8.3970    21.5562    60.7370 C             1 RES     \\n      56 H            8.2100    19.6542    59.6640 H             1 RES     \\n      57 H            9.2820    20.8512    58.9580 H             1 RES     \\n      58 C            7.5150    22.6712    59.9980 C             1 RES     \\n      59 H            9.2760    22.1302    61.0860 H             1 RES     \\n      60 H            7.8460    21.1842    61.6250 H             1 RES     \\n      61 C            6.0190    22.4732    59.5620 C             1 RES     \\n      62 H            8.0630    23.0872    59.1190 H             1 RES     \\n      63 H            7.4760    23.4972    60.7350 H             1 RES     \\n      64 C            5.1950    23.8082    59.6280 C             1 RES     \\n      65 H            6.0140    22.1132    58.5280 H             1 RES     \\n      66 H            5.4920    21.7442    60.2090 H             1 RES     \\n      67 C            3.8040    23.7602    58.9660 C             1 RES     \\n      68 H            5.7410    24.6482    59.1470 H             1 RES     \\n      69 H            5.0480    24.0642    60.7010 H             1 RES     \\n      70 H            3.9000    23.6842    57.8620 H             1 RES     \\n      71 H            3.2500    24.7062    59.1730 H             1 RES     \\n      72 H            3.1850    22.9192    59.3410 H             1 RES     \\n      73 C           16.4660    22.4672    61.1920 C             1 RES     \\n      74 C           17.2850    23.0932    62.4090 C             1 RES     \\n      75 H           15.5540    23.1102    61.1100 H             1 RES     \\n      76 H           17.0760    22.7592    60.3020 H             1 RES     \\n      77 C           17.7450    24.6252    62.3120 C             1 RES     \\n      78 H           18.2300    22.5202    62.4320 H             1 RES     \\n      79 H           16.7680    22.9552    63.3820 H             1 RES     \\n      80 C           16.7600    25.7092    62.8470 C             1 RES     \\n      81 H           18.0330    24.8672    61.2660 H             1 RES     \\n      82 H           18.6640    24.7582    62.9300 H             1 RES     \\n      83 C           17.2420    27.1862    62.6720 C             1 RES     \\n      84 H           16.5510    25.5432    63.9280 H             1 RES     \\n      85 H           15.8110    25.6112    62.2880 H             1 RES     \\n      86 C           18.3660    27.6462    63.6150 C             1 RES     \\n      87 H           16.3830    27.8632    62.8860 H             1 RES     \\n      88 H           17.5470    27.3622    61.6190 H             1 RES     \\n      89 H           18.0340    27.5872    64.6740 H             1 RES     \\n      90 H           18.6070    28.7172    63.4100 H             1 RES     \\n      91 H           19.2930    27.0572    63.4810 H             1 RES     \\n      92 Kr          16.2220    15.2522    60.7570 Kr            1 RES     \\n      93 Kr          17.0720    14.0862    60.7930 Kr            1 RES     \\n      94 Kr          16.5680    12.7712    60.8030 Kr            1 RES     \\n      95 Kr          15.1050    12.6512    60.7100 Kr            1 RES     \\n      96 H           16.7030    16.1932    60.7900 H             1 RES     \\n      97 H           14.7980    11.5862    60.6400 H             1 RES     \\n      98 C           18.5640    14.0012    60.8090 C             1 RES     \\n      99 C           17.7620    11.6412    60.5400 C             1 RES     \\n     100 C           18.9750    12.6862    60.7600 C             1 RES     \\n     101 S           19.9260    15.0512    61.0360 S             1 RES     \\n     102 C           21.0560    13.7962    61.3110 C             1 RES     \\n     103 C           20.4110    12.5982    61.1730 C             1 RES     \\n     104 Kr          18.7250    10.4332    60.8380 Kr            1 RES     \\n     105 Kr          16.9250    10.8532    59.3250 Kr            1 RES     \\n     106 Kr          15.9500    11.4242    58.4140 Kr            1 RES     \\n     107 Kr          14.9500    10.6162    57.7700 Kr            1 RES     \\n     108 Kr          14.9560     9.2082    57.8980 Kr            1 RES     \\n     109 Kr          15.9830     8.6442    58.6150 Kr            1 RES     \\n     110 Kr          16.8790     9.4072    59.3100 Kr            1 RES     \\n     111 Kr          19.6580    10.1442    59.7790 Kr            1 RES     \\n     112 Kr          20.6020     9.1212    59.8560 Kr            1 RES     \\n     113 Kr          20.6720     8.2952    60.9840 Kr            1 RES     \\n     114 Kr          19.7190     8.5232    62.0230 Kr            1 RES     \\n     115 Kr          18.7520     9.5752    61.9540 Kr            1 RES     \\n     116 C           21.9490     7.4422    61.1860 C             1 RES     \\n     117 C           22.2820     5.9662    60.7860 C             1 RES     \\n     118 H           22.1700     7.5242    62.2690 H             1 RES     \\n     119 H           22.7280     8.0222    60.6490 H             1 RES     \\n     120 C           23.7910     5.6902    61.1670 C             1 RES     \\n     121 H           22.1480     5.8062    59.6950 H             1 RES     \\n     122 H           21.6220     5.2722    61.3460 H             1 RES     \\n     123 C           24.3740     4.2532    61.0110 C             1 RES     \\n     124 H           23.9140     5.9552    62.2400 H             1 RES     \\n     125 H           24.4290     6.3752    60.5620 H             1 RES     \\n     126 C           25.8610     4.1872    61.4850 C             1 RES     \\n     127 H           24.3230     3.9292    59.9500 H             1 RES     \\n     128 H           23.7800     3.5542    61.6350 H             1 RES     \\n     129 C           26.4880     2.7862    61.4330 C             1 RES     \\n     130 H           25.9320     4.5272    62.5410 H             1 RES     \\n     131 H           26.4890     4.8582    60.8580 H             1 RES     \\n     132 H           25.9390     2.0782    62.0880 H             1 RES     \\n     133 H           27.5400     2.8332    61.8010 H             1 RES     \\n     134 H           26.5120     2.3892    60.3970 H             1 RES     \\n     135 C           13.9350     8.1832    57.3940 C             1 RES     \\n     136 C           12.4790     8.5982    57.1280 C             1 RES     \\n     137 H           13.8320     7.4232    58.2080 H             1 RES     \\n     138 H           14.3720     7.6462    56.5250 H             1 RES     \\n     139 C           11.6420     7.3362    56.7680 C             1 RES     \\n     140 H           12.4520     9.3252    56.2940 H             1 RES     \\n     141 H           12.0490     9.0642    58.0430 H             1 RES     \\n     142 C           10.1880     7.6682    56.3980 C             1 RES     \\n     143 H           11.6410     6.6222    57.6250 H             1 RES     \\n     144 H           12.1160     6.8282    55.9000 H             1 RES     \\n     145 C            9.4040     6.4152    55.9620 C             1 RES     \\n     146 H           10.1980     8.3892    55.5540 H             1 RES     \\n     147 H            9.6780     8.1322    57.2700 H             1 RES     \\n     148 C            7.9790     6.7702    55.5300 C             1 RES     \\n     149 H            9.3540     5.6822    56.7980 H             1 RES     \\n     150 H            9.9150     5.9312    55.1000 H             1 RES     \\n     151 H            7.4180     7.2282    56.3720 H             1 RES     \\n     152 H            7.4420     5.8532    55.2050 H             1 RES     \\n     153 H            8.0000     7.4812    54.6770 H             1 RES     \\n     154 H           15.8280    12.4972    58.3140 H             1 RES     \\n     155 H           14.1500    11.0932    57.2190 H             1 RES     \\n     156 H           16.0490     7.5682    58.7310 H             1 RES     \\n     157 H           17.4880     8.7532    59.9030 H             1 RES     \\n     158 H           18.0490     9.7302    62.7610 H             1 RES     \\n     159 H           19.6800    10.7812    58.8980 H             1 RES     \\n     160 H           21.3280     9.0392    59.0560 H             1 RES     \\n     161 H           19.7540     7.9172    62.9160 H             1 RES     \\n     162 S           21.6050    11.4102    61.6360 S             1 RES     \\n     163 C           22.9300    12.4322    61.9590 C             1 RES     \\n     164 C           22.4350    13.7392    61.6960 C             1 RES     \\n     165 H           23.0600    14.6132    61.8090 H             1 RES     \\n     166 C           24.3810    12.1982    62.4170 C             1 RES     \\n     167 C           25.2570    11.1402    62.6340 C             1 RES     \\n     168 H           24.8350    13.1542    62.5510 H             1 RES     \\n     169 C           25.0750     9.6792    62.4450 C             1 RES     \\n     170 Kr          26.3800     8.9832    62.5720 Kr            1 RES     \\n     171 Kr          27.3440     9.9132    62.8800 Kr            1 RES     \\n     172 C           26.7490    11.2822    62.9140 C             1 RES     \\n     173 O           24.0170     9.1302    62.2370 O             1 RES     \\n     174 C           27.4960    12.4092    63.0950 C             1 RES     \\n     175 C           26.9900    13.7002    63.4690 C             1 RES     \\n     176 C           28.9170    12.3842    62.8380 C             1 RES     \\n     177 N           26.6240    14.7562    63.7690 N             1 RES     \\n     178 N           30.0530    12.3252    62.6230 N             1 RES     \\n     179 Kr          28.6530     9.4902    63.2120 Kr            1 RES     \\n     180 Kr          28.9990     8.1442    63.1290 Kr            1 RES     \\n     181 Kr          28.0440     7.2082    62.7280 Kr            1 RES     \\n     182 Kr          26.7210     7.6192    62.4650 Kr            1 RES     \\n     183 H           29.4190    10.1502    63.5690 H             1 RES     \\n     184 H           30.0080     7.8362    63.3860 H             1 RES     \\n     185 H           28.3360     6.1662    62.6580 H             1 RES     \\n     186 H           25.9960     6.8802    62.2030 H             1 RES     \\n@<TRIPOS>BOND\\n       1       93       98 1\\n       2       25       26 1\\n       3       41       42 1\\n       4        3        5 1\\n       5       55       60 1\\n       6       40       46 1\\n       7      116      118 1\\n       8       17       19 1\\n       9      180      181 1\\n      10      102      164 1\\n      11      109      110 1\\n      12       38       39 1\\n      13       37       49 1\\n      14      135      138 1\\n      15      136      139 1\\n      16        5       13 1\\n      17        7       11 1\\n      18      139      144 1\\n      19      108      135 1\\n      20      105      110 1\\n      21      120      123 1\\n      22       16       15 1\\n      23      182      186 1\\n      24      129      132 1\\n      25       55       58 1\\n      26       54       57 1\\n      27      123      128 1\\n      28       39       47 1\\n      29       61       65 1\\n      30       98      100 1\\n      31      135      136 1\\n      32       34       40 1\\n      33      136      141 1\\n      34       67       71 1\\n      35      175      177 1\\n      36        8        9 1\\n      37       99      100 1\\n      38       20       21 1\\n      39       24       25 1\\n      40      145      149 1\\n      41      162      163 1\\n      42      166      167 1\\n      43      111      159 1\\n      44       86       90 1\\n      45       83       87 1\\n      46       31       35 1\\n      47       94       99 1\\n      48      169      170 1\\n      49      167      172 1\\n      50      120      125 1\\n      51       43       44 1\\n      52      106      107 1\\n      53       39       45 1\\n      54      129      134 1\\n      55       80       77 1\\n      56       12       20 1\\n      57      115      158 1\\n      58       43       52 1\\n      59       77       74 1\\n      60       92       96 1\\n      61        2        1 1\\n      62       78       74 1\\n      63      105      106 1\\n      64      104      111 1\\n      65       83       88 1\\n      66       26       27 1\\n      67       42       43 1\\n      68       64       68 1\\n      69      171      179 1\\n      70       11       15 1\\n      71      142      146 1\\n      72       82       77 1\\n      73       32       92 1\\n      74      176      178 1\\n      75       99      104 1\\n      76      123      127 1\\n      77      179      180 1\\n      78      117      120 1\\n      79       37       38 1\\n      80      116      117 1\\n      81      107      155 1\\n      82       54       55 1\\n      83       94       95 1\\n      84      126      129 1\\n      85       58       62 1\\n      86        3        2 1\\n      87      148      151 1\\n      88      102      103 1\\n      89       21       26 1\\n      90       23       24 1\\n      91       75       73 1\\n      92       28       30 1\\n      93      174      176 1\\n      94      109      156 1\\n      95      110      157 1\\n      96       16       18 1\\n      97      104      115 1\\n      98      116      119 1\\n      99      117      122 1\\n     100      170      182 1\\n     101      114      161 1\\n     102      179      183 1\\n     103      103      162 1\\n     104       73       76 1\\n     105      112      113 1\\n     106      113      116 1\\n     107      135      137 1\\n     108      136      140 1\\n     109       38       54 1\\n     110      148      153 1\\n     111       21       23 1\\n     112      164      165 1\\n     113      101      102 1\\n     114      139      143 1\\n     115        5        7 1\\n     116       64       67 1\\n     117      169      173 1\\n     118       54       56 1\\n     119       55       59 1\\n     120       13       14 1\\n     121      172      174 1\\n     122       93       94 1\\n     123       98      101 1\\n     124       74       73 1\\n     125      145      148 1\\n     126       24       28 1\\n     127       86       89 1\\n     128       29       30 1\\n     129       30       33 1\\n     130      171      172 1\\n     131       83       86 1\\n     132      108      109 1\\n     133       95       97 1\\n     134       33       95 1\\n     135        3        6 1\\n     136      167      169 1\\n     137      129      133 1\\n     138       36       37 1\\n     139       40       41 1\\n     140      106      154 1\\n     141       61       64 1\\n     142      139      142 1\\n     143      126      131 1\\n     144       10        1 1\\n     145      114      115 1\\n     146       35       36 1\\n     147       41       51 1\\n     148       20       22 1\\n     149        7        8 1\\n     150      145      150 1\\n     151      166      168 1\\n     152       86       91 1\\n     153       79       74 1\\n     154       45       48 1\\n     155       31       34 1\\n     156        2        4 1\\n     157       25       29 1\\n     158      120      124 1\\n     159      112      160 1\\n     160       12       13 1\\n     161       61       66 1\\n     162       35       45 1\\n     163       92       93 1\\n     164      142      147 1\\n     165      113      114 1\\n     166       80       85 1\\n     167       44       53 1\\n     168      123      126 1\\n     169       80       84 1\\n     170        8        1 1\\n     171       28       31 1\\n     172       64       69 1\\n     173      126      130 1\\n     174       36       50 1\\n     175       67       72 1\\n     176       58       61 1\\n     177      142      145 1\\n     178      148      152 1\\n     179      163      164 1\\n     180      163      166 1\\n     181       99      105 1\\n     182      170      171 1\\n     183      174      175 1\\n     184      111      112 1\\n     185      107      108 1\\n     186       15       17 1\\n     187       32       33 1\\n     188      180      184 1\\n     189      181      185 1\\n     190       81       77 1\\n     191      117      121 1\\n     192      181      182 1\\n     193       83       80 1\\n     194       31       32 1\\n     195       11       12 1\\n     196       58       63 1\\n     197       34       44 1\\n     198       42       73 1\\n     199       67       70 1\\n     200      100      103 1\\n@<TRIPOS>SUBSTRUCTURE\\n       1 RES             1 RESIDUE    0 **** ROOT      0\\n\",\"mol2\");\n",
       "\tviewer_1622149066435029.setStyle({\"stick\": {\"radius\": 0.2, \"color\": \"grey\"}, \"sphere\": {\"scale\": 0.3, \"colorscheme\": {}}});\n",
       "\tviewer_1622149066435029.zoomTo();\n",
       "viewer_1622149066435029.render();\n",
       "});\n",
       "</script>"
      ]
     },
     "metadata": {},
     "output_type": "display_data"
    }
   ],
   "source": [
    "missed_inds = np.array([727,728,729,730,731,732,733,734,735,736,737])\n",
    "\n",
    "for i,p in enumerate(comp.particles()):\n",
    "    if i in np.hstack(aaids):\n",
    "        p.name = \"Kr\"\n",
    "    elif i in missed_inds:\n",
    "        p.name = \"N\"\n",
    "comp.visualize().show()\n",
    "\n",
    "aaids.append(missed_inds)"
   ]
  },
  {
   "cell_type": "markdown",
   "id": "5a19a83f",
   "metadata": {},
   "source": [
    "Next let's make a Chromophore object for each detected chromophore and add them to a list:"
   ]
  },
  {
   "cell_type": "code",
   "execution_count": 32,
   "id": "5f22b98c",
   "metadata": {},
   "outputs": [
    {
     "ename": "IndexError",
     "evalue": "index 727 is out of bounds for axis 0 with size 186",
     "output_type": "error",
     "traceback": [
      "\u001b[0;31m---------------------------------------------------------------------------\u001b[0m",
      "\u001b[0;31mIndexError\u001b[0m                                Traceback (most recent call last)",
      "\u001b[0;32m<ipython-input-32-6233e050d81c>\u001b[0m in \u001b[0;36m<module>\u001b[0;34m\u001b[0m\n\u001b[1;32m      1\u001b[0m \u001b[0mchromo_list\u001b[0m \u001b[0;34m=\u001b[0m \u001b[0;34m[\u001b[0m\u001b[0;34m]\u001b[0m\u001b[0;34m\u001b[0m\u001b[0;34m\u001b[0m\u001b[0m\n\u001b[1;32m      2\u001b[0m \u001b[0;32mfor\u001b[0m \u001b[0mi\u001b[0m\u001b[0;34m,\u001b[0m\u001b[0maaid\u001b[0m \u001b[0;32min\u001b[0m \u001b[0menumerate\u001b[0m\u001b[0;34m(\u001b[0m\u001b[0maaids\u001b[0m\u001b[0;34m)\u001b[0m\u001b[0;34m:\u001b[0m\u001b[0;34m\u001b[0m\u001b[0;34m\u001b[0m\u001b[0m\n\u001b[0;32m----> 3\u001b[0;31m     \u001b[0mchromo_list\u001b[0m\u001b[0;34m.\u001b[0m\u001b[0mappend\u001b[0m\u001b[0;34m(\u001b[0m\u001b[0mchromophores\u001b[0m\u001b[0;34m.\u001b[0m\u001b[0mChromophore\u001b[0m\u001b[0;34m(\u001b[0m\u001b[0mi\u001b[0m\u001b[0;34m,\u001b[0m \u001b[0msnap\u001b[0m\u001b[0;34m,\u001b[0m \u001b[0maaid\u001b[0m\u001b[0;34m,\u001b[0m \u001b[0;34m\"acceptor\"\u001b[0m\u001b[0;34m,\u001b[0m \u001b[0mamber_dict\u001b[0m\u001b[0;34m)\u001b[0m\u001b[0;34m)\u001b[0m\u001b[0;34m\u001b[0m\u001b[0;34m\u001b[0m\u001b[0m\n\u001b[0m",
      "\u001b[0;32m~/repos/morphct/morphct/chromophores.py\u001b[0m in \u001b[0;36m__init__\u001b[0;34m(self, chromo_id, snap, atom_ids, species, conversion_dict, reorganization_energy, vrh_delocalization)\u001b[0m\n\u001b[1;32m     51\u001b[0m \u001b[0;34m\u001b[0m\u001b[0m\n\u001b[1;32m     52\u001b[0m         \u001b[0;31m# Sets unwrapped_center, center, and image attributes\u001b[0m\u001b[0;34m\u001b[0m\u001b[0;34m\u001b[0m\u001b[0;34m\u001b[0m\u001b[0m\n\u001b[0;32m---> 53\u001b[0;31m         \u001b[0mself\u001b[0m\u001b[0;34m.\u001b[0m\u001b[0m_set_center\u001b[0m\u001b[0;34m(\u001b[0m\u001b[0msnap\u001b[0m\u001b[0;34m,\u001b[0m \u001b[0matom_ids\u001b[0m\u001b[0;34m)\u001b[0m\u001b[0;34m\u001b[0m\u001b[0;34m\u001b[0m\u001b[0m\n\u001b[0m\u001b[1;32m     54\u001b[0m \u001b[0;34m\u001b[0m\u001b[0m\n\u001b[1;32m     55\u001b[0m         \u001b[0mself\u001b[0m\u001b[0;34m.\u001b[0m\u001b[0mqcc_input\u001b[0m \u001b[0;34m=\u001b[0m \u001b[0meqcc\u001b[0m\u001b[0;34m.\u001b[0m\u001b[0mwrite_qcc_inp\u001b[0m\u001b[0;34m(\u001b[0m\u001b[0msnap\u001b[0m\u001b[0;34m,\u001b[0m \u001b[0matom_ids\u001b[0m\u001b[0;34m,\u001b[0m \u001b[0mconversion_dict\u001b[0m\u001b[0;34m)\u001b[0m\u001b[0;34m\u001b[0m\u001b[0;34m\u001b[0m\u001b[0m\n",
      "\u001b[0;32m~/repos/morphct/morphct/chromophores.py\u001b[0m in \u001b[0;36m_set_center\u001b[0;34m(self, snap, atom_ids)\u001b[0m\n\u001b[1;32m     85\u001b[0m         \u001b[0mbox\u001b[0m \u001b[0;34m=\u001b[0m \u001b[0msnap\u001b[0m\u001b[0;34m.\u001b[0m\u001b[0mconfiguration\u001b[0m\u001b[0;34m.\u001b[0m\u001b[0mbox\u001b[0m\u001b[0;34m[\u001b[0m\u001b[0;34m:\u001b[0m\u001b[0;36m3\u001b[0m\u001b[0;34m]\u001b[0m\u001b[0;34m\u001b[0m\u001b[0;34m\u001b[0m\u001b[0m\n\u001b[1;32m     86\u001b[0m         \u001b[0munwrapped_pos\u001b[0m \u001b[0;34m=\u001b[0m \u001b[0msnap\u001b[0m\u001b[0;34m.\u001b[0m\u001b[0mparticles\u001b[0m\u001b[0;34m.\u001b[0m\u001b[0mposition\u001b[0m \u001b[0;34m+\u001b[0m \u001b[0msnap\u001b[0m\u001b[0;34m.\u001b[0m\u001b[0mparticles\u001b[0m\u001b[0;34m.\u001b[0m\u001b[0mimage\u001b[0m \u001b[0;34m*\u001b[0m \u001b[0mbox\u001b[0m\u001b[0;34m\u001b[0m\u001b[0;34m\u001b[0m\u001b[0m\n\u001b[0;32m---> 87\u001b[0;31m         \u001b[0mcenter\u001b[0m \u001b[0;34m=\u001b[0m \u001b[0mnp\u001b[0m\u001b[0;34m.\u001b[0m\u001b[0mmean\u001b[0m\u001b[0;34m(\u001b[0m\u001b[0munwrapped_pos\u001b[0m\u001b[0;34m[\u001b[0m\u001b[0matom_ids\u001b[0m\u001b[0;34m]\u001b[0m\u001b[0;34m,\u001b[0m \u001b[0maxis\u001b[0m\u001b[0;34m=\u001b[0m\u001b[0;36m0\u001b[0m\u001b[0;34m)\u001b[0m\u001b[0;34m\u001b[0m\u001b[0;34m\u001b[0m\u001b[0m\n\u001b[0m\u001b[1;32m     88\u001b[0m         \u001b[0mimg\u001b[0m \u001b[0;34m=\u001b[0m \u001b[0mnp\u001b[0m\u001b[0;34m.\u001b[0m\u001b[0mzeros\u001b[0m\u001b[0;34m(\u001b[0m\u001b[0;36m3\u001b[0m\u001b[0;34m)\u001b[0m\u001b[0;34m\u001b[0m\u001b[0;34m\u001b[0m\u001b[0m\n\u001b[1;32m     89\u001b[0m         while (center + img * box < -box / 2).any() or (\n",
      "\u001b[0;31mIndexError\u001b[0m: index 727 is out of bounds for axis 0 with size 186"
     ]
    }
   ],
   "source": [
    "chromo_list = []\n",
    "for i,aaid in enumerate(aaids):\n",
    "    chromo_list.append(chromophores.Chromophore(i, snap, aaid, \"acceptor\", amber_dict))"
   ]
  },
  {
   "cell_type": "markdown",
   "id": "af179bbb",
   "metadata": {},
   "source": [
    "Next let's compute (using voronoi analysis) which chromophores are neighbors. `qcc_pairs` is a list containing the indices of the pair and the pair's qcc input: `((i,j), qcc_input)`\n"
   ]
  },
  {
   "cell_type": "code",
   "execution_count": 10,
   "id": "83119be4",
   "metadata": {},
   "outputs": [
    {
     "name": "stdout",
     "output_type": "stream",
     "text": [
      "There are 858 chromophore pairs\n"
     ]
    }
   ],
   "source": [
    "qcc_pairs = chromophores.set_neighbors_voronoi(chromo_list, snap, amber_dict, d_cut=min(box)/2)\n",
    "print(f\"There are {len(qcc_pairs)} chromophore pairs\")"
   ]
  },
  {
   "cell_type": "markdown",
   "id": "60ac6def",
   "metadata": {},
   "source": [
    "Before running any QCC we can check that the pair and singles inputs look reasonable. There won't be any bonds and hydrogen atoms should've been added."
   ]
  },
  {
   "cell_type": "code",
   "execution_count": 11,
   "id": "a6ab957e",
   "metadata": {},
   "outputs": [
    {
     "name": "stdout",
     "output_type": "stream",
     "text": [
      "Pair #13:\n"
     ]
    },
    {
     "data": {
      "application/3dmoljs_load.v0": "<div id=\"3dmolviewer_1620765634101834\"  style=\"position: relative; width: 640px; height: 480px\">\n        <p id=\"3dmolwarning_1620765634101834\" style=\"background-color:#ffcccc;color:black\">You appear to be running in JupyterLab (or JavaScript failed to load for some other reason).  You need to install the 3dmol extension: <br>\n        <tt>jupyter labextension install jupyterlab_3dmol</tt></p>\n        </div>\n<script>\n\nvar loadScriptAsync = function(uri){\n  return new Promise((resolve, reject) => {\n    var tag = document.createElement('script');\n    tag.src = uri;\n    tag.async = true;\n    tag.onload = () => {\n      resolve();\n    };\n  var firstScriptTag = document.getElementsByTagName('script')[0];\n  firstScriptTag.parentNode.insertBefore(tag, firstScriptTag);\n});\n};\n\nif(typeof $3Dmolpromise === 'undefined') {\n$3Dmolpromise = null;\n  $3Dmolpromise = loadScriptAsync('https://3dmol.csb.pitt.edu/build/3Dmol.js');\n}\n\nvar viewer_1620765634101834 = null;\nvar warn = document.getElementById(\"3dmolwarning_1620765634101834\");\nif(warn) {\n    warn.parentNode.removeChild(warn);\n}\n$3Dmolpromise.then(function() {\nviewer_1620765634101834 = $3Dmol.createViewer($(\"#3dmolviewer_1620765634101834\"),{backgroundColor:\"white\"});\n\tviewer_1620765634101834.addModel(\"@<TRIPOS>MOLECULE\\nRES\\n54 0 1 0 1\\nSMALL\\nNO_CHARGES\\n@<TRIPOS>CRYSIN\\n    9.4007    10.5421     8.0700    90.0000    90.0000    90.0000  1  1\\n@<TRIPOS>ATOM\\n       1 C           -0.8576     0.8720     0.3892 C             1 RES     \\n       2 C           -0.6460     0.5815     0.5219 C             1 RES     \\n       3 S           -0.1929     0.7111     0.6388 S             1 RES     \\n       4 C           -0.3070     1.1770     0.5463 C             1 RES     \\n       5 C           -0.6884     1.2161     0.4701 C             1 RES     \\n       6 C           -0.9425     1.5010     0.6649 C             1 RES     \\n       7 C           -1.2423     1.6957     0.4122 C             1 RES     \\n       8 C           -1.4258     2.0388     0.6200 C             1 RES     \\n       9 C           -1.7572     2.2070     0.3777 C             1 RES     \\n      10 C           -2.0157     2.4842     0.5766 C             1 RES     \\n      11 C           -1.8530     2.8550     0.7137 C             1 RES     \\n      12 C            0.6296    -1.3697    -0.1525 C             1 RES     \\n      13 C            0.2546    -1.4589    -0.1161 C             1 RES     \\n      14 S            0.1770    -1.7590     0.2783 S             1 RES     \\n      15 C            0.6550    -1.6726     0.4261 C             1 RES     \\n      16 C            0.8579    -1.5256     0.1295 C             1 RES     \\n      17 C            1.2137    -1.7147     0.0168 C             1 RES     \\n      18 C            1.2269    -1.8772    -0.3836 C             1 RES     \\n      19 C            1.4670    -1.6348    -0.6597 C             1 RES     \\n      20 C            1.5595    -1.8082    -1.0565 C             1 RES     \\n      21 C            1.8570    -2.1393    -1.0538 C             1 RES     \\n      22 C            1.9902    -2.2396    -1.4619 C             1 RES     \\n      23 H           -1.0264    -0.4413     0.4452 H             1 RES     \\n      24 H           -1.1419     0.8654     0.2786 H             1 RES     \\n      25 H           -0.7594     1.7301     0.7717 H             1 RES     \\n      26 H           -1.0788     1.3517     0.8916 H             1 RES     \\n      27 H           -1.0876     1.7911     0.1858 H             1 RES     \\n      28 H           -1.4820     1.5190     0.3322 H             1 RES     \\n      29 H           -1.4857     1.9857     0.9198 H             1 RES     \\n      30 H           -1.2194     2.2637     0.6380 H             1 RES     \\n      31 H           -1.6346     2.3607     0.1285 H             1 RES     \\n      32 H           -1.9306     1.9953     0.2330 H             1 RES     \\n      33 H           -2.2465     2.5411     0.4053 H             1 RES     \\n      34 H           -2.1103     2.3266     0.8279 H             1 RES     \\n      35 H           -2.0424     3.0198     0.8826 H             1 RES     \\n      36 H           -1.5933     2.7983     0.8601 H             1 RES     \\n      37 H           -1.7697     3.0077     0.4574 H             1 RES     \\n      38 H            0.3487     2.0421     0.4110 H             1 RES     \\n      39 H           -0.4506    -1.1392    -0.8890 H             1 RES     \\n      40 H            0.7399    -1.2045    -0.3673 H             1 RES     \\n      41 H            1.0568    -1.8294     1.4315 H             1 RES     \\n      42 H            1.4409    -1.4971     0.0536 H             1 RES     \\n      43 H            1.2778    -1.9210     0.2304 H             1 RES     \\n      44 H            0.9459    -1.9546    -0.4930 H             1 RES     \\n      45 H            1.3755    -2.1392    -0.3528 H             1 RES     \\n      46 H            1.7420    -1.5569    -0.5366 H             1 RES     \\n      47 H            1.3084    -1.3725    -0.6976 H             1 RES     \\n      48 H            1.3093    -1.8907    -1.1891 H             1 RES     \\n      49 H            1.6741    -1.5745    -1.2296 H             1 RES     \\n      50 H            1.7236    -2.3608    -0.8982 H             1 RES     \\n      51 H            2.1385    -2.0556    -0.9093 H             1 RES     \\n      52 H            2.1542    -2.0207    -1.6062 H             1 RES     \\n      53 H            1.7477    -2.2577    -1.6385 H             1 RES     \\n      54 H            2.1159    -2.5223    -1.4753 H             1 RES     \\n@<TRIPOS>BOND\\n@<TRIPOS>SUBSTRUCTURE\\n       1 RES             1 RESIDUE    0 **** ROOT      0\\n\",\"mol2\");\n\tviewer_1620765634101834.setStyle({\"stick\": {\"radius\": 0.2, \"color\": \"grey\"}, \"sphere\": {\"scale\": 0.3, \"colorscheme\": {}}});\n\tviewer_1620765634101834.zoomTo();\nviewer_1620765634101834.render();\n});\n</script>",
      "text/html": [
       "<div id=\"3dmolviewer_1620765634101834\"  style=\"position: relative; width: 640px; height: 480px\">\n",
       "        <p id=\"3dmolwarning_1620765634101834\" style=\"background-color:#ffcccc;color:black\">You appear to be running in JupyterLab (or JavaScript failed to load for some other reason).  You need to install the 3dmol extension: <br>\n",
       "        <tt>jupyter labextension install jupyterlab_3dmol</tt></p>\n",
       "        </div>\n",
       "<script>\n",
       "\n",
       "var loadScriptAsync = function(uri){\n",
       "  return new Promise((resolve, reject) => {\n",
       "    var tag = document.createElement('script');\n",
       "    tag.src = uri;\n",
       "    tag.async = true;\n",
       "    tag.onload = () => {\n",
       "      resolve();\n",
       "    };\n",
       "  var firstScriptTag = document.getElementsByTagName('script')[0];\n",
       "  firstScriptTag.parentNode.insertBefore(tag, firstScriptTag);\n",
       "});\n",
       "};\n",
       "\n",
       "if(typeof $3Dmolpromise === 'undefined') {\n",
       "$3Dmolpromise = null;\n",
       "  $3Dmolpromise = loadScriptAsync('https://3dmol.csb.pitt.edu/build/3Dmol.js');\n",
       "}\n",
       "\n",
       "var viewer_1620765634101834 = null;\n",
       "var warn = document.getElementById(\"3dmolwarning_1620765634101834\");\n",
       "if(warn) {\n",
       "    warn.parentNode.removeChild(warn);\n",
       "}\n",
       "$3Dmolpromise.then(function() {\n",
       "viewer_1620765634101834 = $3Dmol.createViewer($(\"#3dmolviewer_1620765634101834\"),{backgroundColor:\"white\"});\n",
       "\tviewer_1620765634101834.addModel(\"@<TRIPOS>MOLECULE\\nRES\\n54 0 1 0 1\\nSMALL\\nNO_CHARGES\\n@<TRIPOS>CRYSIN\\n    9.4007    10.5421     8.0700    90.0000    90.0000    90.0000  1  1\\n@<TRIPOS>ATOM\\n       1 C           -0.8576     0.8720     0.3892 C             1 RES     \\n       2 C           -0.6460     0.5815     0.5219 C             1 RES     \\n       3 S           -0.1929     0.7111     0.6388 S             1 RES     \\n       4 C           -0.3070     1.1770     0.5463 C             1 RES     \\n       5 C           -0.6884     1.2161     0.4701 C             1 RES     \\n       6 C           -0.9425     1.5010     0.6649 C             1 RES     \\n       7 C           -1.2423     1.6957     0.4122 C             1 RES     \\n       8 C           -1.4258     2.0388     0.6200 C             1 RES     \\n       9 C           -1.7572     2.2070     0.3777 C             1 RES     \\n      10 C           -2.0157     2.4842     0.5766 C             1 RES     \\n      11 C           -1.8530     2.8550     0.7137 C             1 RES     \\n      12 C            0.6296    -1.3697    -0.1525 C             1 RES     \\n      13 C            0.2546    -1.4589    -0.1161 C             1 RES     \\n      14 S            0.1770    -1.7590     0.2783 S             1 RES     \\n      15 C            0.6550    -1.6726     0.4261 C             1 RES     \\n      16 C            0.8579    -1.5256     0.1295 C             1 RES     \\n      17 C            1.2137    -1.7147     0.0168 C             1 RES     \\n      18 C            1.2269    -1.8772    -0.3836 C             1 RES     \\n      19 C            1.4670    -1.6348    -0.6597 C             1 RES     \\n      20 C            1.5595    -1.8082    -1.0565 C             1 RES     \\n      21 C            1.8570    -2.1393    -1.0538 C             1 RES     \\n      22 C            1.9902    -2.2396    -1.4619 C             1 RES     \\n      23 H           -1.0264    -0.4413     0.4452 H             1 RES     \\n      24 H           -1.1419     0.8654     0.2786 H             1 RES     \\n      25 H           -0.7594     1.7301     0.7717 H             1 RES     \\n      26 H           -1.0788     1.3517     0.8916 H             1 RES     \\n      27 H           -1.0876     1.7911     0.1858 H             1 RES     \\n      28 H           -1.4820     1.5190     0.3322 H             1 RES     \\n      29 H           -1.4857     1.9857     0.9198 H             1 RES     \\n      30 H           -1.2194     2.2637     0.6380 H             1 RES     \\n      31 H           -1.6346     2.3607     0.1285 H             1 RES     \\n      32 H           -1.9306     1.9953     0.2330 H             1 RES     \\n      33 H           -2.2465     2.5411     0.4053 H             1 RES     \\n      34 H           -2.1103     2.3266     0.8279 H             1 RES     \\n      35 H           -2.0424     3.0198     0.8826 H             1 RES     \\n      36 H           -1.5933     2.7983     0.8601 H             1 RES     \\n      37 H           -1.7697     3.0077     0.4574 H             1 RES     \\n      38 H            0.3487     2.0421     0.4110 H             1 RES     \\n      39 H           -0.4506    -1.1392    -0.8890 H             1 RES     \\n      40 H            0.7399    -1.2045    -0.3673 H             1 RES     \\n      41 H            1.0568    -1.8294     1.4315 H             1 RES     \\n      42 H            1.4409    -1.4971     0.0536 H             1 RES     \\n      43 H            1.2778    -1.9210     0.2304 H             1 RES     \\n      44 H            0.9459    -1.9546    -0.4930 H             1 RES     \\n      45 H            1.3755    -2.1392    -0.3528 H             1 RES     \\n      46 H            1.7420    -1.5569    -0.5366 H             1 RES     \\n      47 H            1.3084    -1.3725    -0.6976 H             1 RES     \\n      48 H            1.3093    -1.8907    -1.1891 H             1 RES     \\n      49 H            1.6741    -1.5745    -1.2296 H             1 RES     \\n      50 H            1.7236    -2.3608    -0.8982 H             1 RES     \\n      51 H            2.1385    -2.0556    -0.9093 H             1 RES     \\n      52 H            2.1542    -2.0207    -1.6062 H             1 RES     \\n      53 H            1.7477    -2.2577    -1.6385 H             1 RES     \\n      54 H            2.1159    -2.5223    -1.4753 H             1 RES     \\n@<TRIPOS>BOND\\n@<TRIPOS>SUBSTRUCTURE\\n       1 RES             1 RESIDUE    0 **** ROOT      0\\n\",\"mol2\");\n",
       "\tviewer_1620765634101834.setStyle({\"stick\": {\"radius\": 0.2, \"color\": \"grey\"}, \"sphere\": {\"scale\": 0.3, \"colorscheme\": {}}});\n",
       "\tviewer_1620765634101834.zoomTo();\n",
       "viewer_1620765634101834.render();\n",
       "});\n",
       "</script>"
      ]
     },
     "metadata": {},
     "output_type": "display_data"
    },
    {
     "name": "stdout",
     "output_type": "stream",
     "text": [
      "Single #0:\n"
     ]
    },
    {
     "data": {
      "application/3dmoljs_load.v0": "<div id=\"3dmolviewer_16207656341068401\"  style=\"position: relative; width: 640px; height: 480px\">\n        <p id=\"3dmolwarning_16207656341068401\" style=\"background-color:#ffcccc;color:black\">You appear to be running in JupyterLab (or JavaScript failed to load for some other reason).  You need to install the 3dmol extension: <br>\n        <tt>jupyter labextension install jupyterlab_3dmol</tt></p>\n        </div>\n<script>\n\nvar loadScriptAsync = function(uri){\n  return new Promise((resolve, reject) => {\n    var tag = document.createElement('script');\n    tag.src = uri;\n    tag.async = true;\n    tag.onload = () => {\n      resolve();\n    };\n  var firstScriptTag = document.getElementsByTagName('script')[0];\n  firstScriptTag.parentNode.insertBefore(tag, firstScriptTag);\n});\n};\n\nif(typeof $3Dmolpromise === 'undefined') {\n$3Dmolpromise = null;\n  $3Dmolpromise = loadScriptAsync('https://3dmol.csb.pitt.edu/build/3Dmol.js');\n}\n\nvar viewer_16207656341068401 = null;\nvar warn = document.getElementById(\"3dmolwarning_16207656341068401\");\nif(warn) {\n    warn.parentNode.removeChild(warn);\n}\n$3Dmolpromise.then(function() {\nviewer_16207656341068401 = $3Dmol.createViewer($(\"#3dmolviewer_16207656341068401\"),{backgroundColor:\"white\"});\n\tviewer_16207656341068401.addModel(\"@<TRIPOS>MOLECULE\\nRES\\n27 0 1 0 1\\nSMALL\\nNO_CHARGES\\n@<TRIPOS>CRYSIN\\n    7.5952     8.4611     5.7913    90.0000    90.0000    90.0000  1  1\\n@<TRIPOS>ATOM\\n       1 C            0.4086    -0.9242    -0.1515 C             1 RES     \\n       2 C            0.6202    -1.2146    -0.0189 C             1 RES     \\n       3 S            1.0734    -1.0851     0.0980 S             1 RES     \\n       4 C            0.9592    -0.6192     0.0055 C             1 RES     \\n       5 C            0.5778    -0.5801    -0.0707 C             1 RES     \\n       6 C            0.3237    -0.2952     0.1242 C             1 RES     \\n       7 C            0.0240    -0.1004    -0.1286 C             1 RES     \\n       8 C           -0.1596     0.2426     0.0793 C             1 RES     \\n       9 C           -0.4910     0.4108    -0.1630 C             1 RES     \\n      10 C           -0.7495     0.6881     0.0359 C             1 RES     \\n      11 C           -0.5868     1.0588     0.1730 C             1 RES     \\n      12 H            0.2399    -2.2375    -0.0955 H             1 RES     \\n      13 H            0.1244    -0.9308    -0.2622 H             1 RES     \\n      14 H            0.5068    -0.0661     0.2309 H             1 RES     \\n      15 H            0.1875    -0.4444     0.3509 H             1 RES     \\n      16 H            0.1786    -0.0050    -0.3549 H             1 RES     \\n      17 H           -0.2158    -0.2772    -0.2085 H             1 RES     \\n      18 H           -0.2194     0.1896     0.3791 H             1 RES     \\n      19 H            0.0468     0.4676     0.0973 H             1 RES     \\n      20 H           -0.3684     0.5646    -0.4122 H             1 RES     \\n      21 H           -0.6643     0.1991    -0.3078 H             1 RES     \\n      22 H           -0.9802     0.7450    -0.1354 H             1 RES     \\n      23 H           -0.8441     0.5305     0.2871 H             1 RES     \\n      24 H           -0.7762     1.2236     0.3418 H             1 RES     \\n      25 H           -0.3271     1.0021     0.3194 H             1 RES     \\n      26 H           -0.5035     1.2115    -0.0834 H             1 RES     \\n      27 H            1.6150     0.2460    -0.1298 H             1 RES     \\n@<TRIPOS>BOND\\n@<TRIPOS>SUBSTRUCTURE\\n       1 RES             1 RESIDUE    0 **** ROOT      0\\n\",\"mol2\");\n\tviewer_16207656341068401.setStyle({\"stick\": {\"radius\": 0.2, \"color\": \"grey\"}, \"sphere\": {\"scale\": 0.3, \"colorscheme\": {}}});\n\tviewer_16207656341068401.zoomTo();\nviewer_16207656341068401.render();\n});\n</script>",
      "text/html": [
       "<div id=\"3dmolviewer_16207656341068401\"  style=\"position: relative; width: 640px; height: 480px\">\n",
       "        <p id=\"3dmolwarning_16207656341068401\" style=\"background-color:#ffcccc;color:black\">You appear to be running in JupyterLab (or JavaScript failed to load for some other reason).  You need to install the 3dmol extension: <br>\n",
       "        <tt>jupyter labextension install jupyterlab_3dmol</tt></p>\n",
       "        </div>\n",
       "<script>\n",
       "\n",
       "var loadScriptAsync = function(uri){\n",
       "  return new Promise((resolve, reject) => {\n",
       "    var tag = document.createElement('script');\n",
       "    tag.src = uri;\n",
       "    tag.async = true;\n",
       "    tag.onload = () => {\n",
       "      resolve();\n",
       "    };\n",
       "  var firstScriptTag = document.getElementsByTagName('script')[0];\n",
       "  firstScriptTag.parentNode.insertBefore(tag, firstScriptTag);\n",
       "});\n",
       "};\n",
       "\n",
       "if(typeof $3Dmolpromise === 'undefined') {\n",
       "$3Dmolpromise = null;\n",
       "  $3Dmolpromise = loadScriptAsync('https://3dmol.csb.pitt.edu/build/3Dmol.js');\n",
       "}\n",
       "\n",
       "var viewer_16207656341068401 = null;\n",
       "var warn = document.getElementById(\"3dmolwarning_16207656341068401\");\n",
       "if(warn) {\n",
       "    warn.parentNode.removeChild(warn);\n",
       "}\n",
       "$3Dmolpromise.then(function() {\n",
       "viewer_16207656341068401 = $3Dmol.createViewer($(\"#3dmolviewer_16207656341068401\"),{backgroundColor:\"white\"});\n",
       "\tviewer_16207656341068401.addModel(\"@<TRIPOS>MOLECULE\\nRES\\n27 0 1 0 1\\nSMALL\\nNO_CHARGES\\n@<TRIPOS>CRYSIN\\n    7.5952     8.4611     5.7913    90.0000    90.0000    90.0000  1  1\\n@<TRIPOS>ATOM\\n       1 C            0.4086    -0.9242    -0.1515 C             1 RES     \\n       2 C            0.6202    -1.2146    -0.0189 C             1 RES     \\n       3 S            1.0734    -1.0851     0.0980 S             1 RES     \\n       4 C            0.9592    -0.6192     0.0055 C             1 RES     \\n       5 C            0.5778    -0.5801    -0.0707 C             1 RES     \\n       6 C            0.3237    -0.2952     0.1242 C             1 RES     \\n       7 C            0.0240    -0.1004    -0.1286 C             1 RES     \\n       8 C           -0.1596     0.2426     0.0793 C             1 RES     \\n       9 C           -0.4910     0.4108    -0.1630 C             1 RES     \\n      10 C           -0.7495     0.6881     0.0359 C             1 RES     \\n      11 C           -0.5868     1.0588     0.1730 C             1 RES     \\n      12 H            0.2399    -2.2375    -0.0955 H             1 RES     \\n      13 H            0.1244    -0.9308    -0.2622 H             1 RES     \\n      14 H            0.5068    -0.0661     0.2309 H             1 RES     \\n      15 H            0.1875    -0.4444     0.3509 H             1 RES     \\n      16 H            0.1786    -0.0050    -0.3549 H             1 RES     \\n      17 H           -0.2158    -0.2772    -0.2085 H             1 RES     \\n      18 H           -0.2194     0.1896     0.3791 H             1 RES     \\n      19 H            0.0468     0.4676     0.0973 H             1 RES     \\n      20 H           -0.3684     0.5646    -0.4122 H             1 RES     \\n      21 H           -0.6643     0.1991    -0.3078 H             1 RES     \\n      22 H           -0.9802     0.7450    -0.1354 H             1 RES     \\n      23 H           -0.8441     0.5305     0.2871 H             1 RES     \\n      24 H           -0.7762     1.2236     0.3418 H             1 RES     \\n      25 H           -0.3271     1.0021     0.3194 H             1 RES     \\n      26 H           -0.5035     1.2115    -0.0834 H             1 RES     \\n      27 H            1.6150     0.2460    -0.1298 H             1 RES     \\n@<TRIPOS>BOND\\n@<TRIPOS>SUBSTRUCTURE\\n       1 RES             1 RESIDUE    0 **** ROOT      0\\n\",\"mol2\");\n",
       "\tviewer_16207656341068401.setStyle({\"stick\": {\"radius\": 0.2, \"color\": \"grey\"}, \"sphere\": {\"scale\": 0.3, \"colorscheme\": {}}});\n",
       "\tviewer_16207656341068401.zoomTo();\n",
       "viewer_16207656341068401.render();\n",
       "});\n",
       "</script>"
      ]
     },
     "metadata": {},
     "output_type": "display_data"
    }
   ],
   "source": [
    "i = 13 # try any number from 0 to 180\n",
    "print(f\"Pair #{i}:\")\n",
    "visualize_qcc_input(qcc_pairs[i][1])\n",
    "\n",
    "i = 0 # try any number from 0 to 29\n",
    "print(f\"Single #{i}:\")\n",
    "visualize_qcc_input(chromo_list[i].qcc_input)"
   ]
  },
  {
   "cell_type": "markdown",
   "id": "94f108d8",
   "metadata": {},
   "source": [
    "Next we need to get the single and pair energies which will be used in the QCC calculations. These take a little time, so these functions are edesigned to save to a file. We'll first make the directory and define the filenames."
   ]
  },
  {
   "cell_type": "code",
   "execution_count": 12,
   "id": "e9769178",
   "metadata": {},
   "outputs": [],
   "source": [
    "outpath = os.path.join(os.getcwd(), \"output\")\n",
    "if not os.path.exists(outpath):\n",
    "    os.makedirs(outpath)\n",
    "s_filename = os.path.join(outpath, \"singles_energies.txt\")\n",
    "d_filename = os.path.join(outpath, \"dimer_energies.txt\")"
   ]
  },
  {
   "cell_type": "markdown",
   "id": "c503264f",
   "metadata": {},
   "source": [
    "MorphCT uses multiprocessing to run calculations in parallel.\n",
    "\n",
    "`eqcc.get_homolumo(chromo_list[0].qcc_input)` operates on one chromophore and returns HOMO-1, HOMO, LUMO, LUMO+1\n",
    "\n",
    "`eqcc.singles_homolumo` does this for all chromophores and saves the energies to a file."
   ]
  },
  {
   "cell_type": "code",
   "execution_count": 13,
   "id": "1d76f05a",
   "metadata": {},
   "outputs": [
    {
     "name": "stdout",
     "output_type": "stream",
     "text": [
      "CPU times: user 29.4 ms, sys: 38.6 ms, total: 68 ms\n",
      "Wall time: 29 s\n"
     ]
    }
   ],
   "source": [
    "%%time\n",
    "data = eqcc.singles_homolumo(chromo_list, s_filename)\n",
    "\n",
    "# Approx time required:\n",
    "# CPU times: user 20.9 ms, sys: 30.1 ms, total: 51 ms\n",
    "# Wall time: 6.05 s"
   ]
  },
  {
   "cell_type": "markdown",
   "id": "abaa351c",
   "metadata": {},
   "source": [
    "Next let's compute the pair energies:"
   ]
  },
  {
   "cell_type": "code",
   "execution_count": 14,
   "id": "3f09a7ed",
   "metadata": {},
   "outputs": [
    {
     "name": "stdout",
     "output_type": "stream",
     "text": [
      "CPU times: user 301 ms, sys: 95 ms, total: 396 ms\n",
      "Wall time: 11min 17s\n"
     ]
    }
   ],
   "source": [
    "%%time\n",
    "dimer_data = eqcc.dimer_homolumo(qcc_pairs, d_filename)\n",
    "\n",
    "# Approx time required:\n",
    "# CPU times: user 20.3 ms, sys: 27.2 ms, total: 47.6 ms\n",
    "# Wall time: 56.6 s"
   ]
  },
  {
   "cell_type": "markdown",
   "id": "60609992",
   "metadata": {},
   "source": [
    "Once the energy files are finsihed, we can use them to set the energy values of the chromophores in the list"
   ]
  },
  {
   "cell_type": "code",
   "execution_count": 15,
   "id": "f834cadb",
   "metadata": {},
   "outputs": [],
   "source": [
    "eqcc.set_energyvalues(chromo_list, s_filename, d_filename)"
   ]
  },
  {
   "cell_type": "markdown",
   "id": "0a1810d6",
   "metadata": {},
   "source": [
    "This function sets the homo_1, homo, lumo, lumo_1, neighbors_delta_e, and neighbors_ti of each chromphore."
   ]
  },
  {
   "cell_type": "code",
   "execution_count": 16,
   "id": "597f777b",
   "metadata": {},
   "outputs": [
    {
     "name": "stdout",
     "output_type": "stream",
     "text": [
      "Chromophore 0:\n",
      "HOMO-1: -5.33 HOMO: -4.35 LUMO: 3.73 LUMO+1: 4.29\n",
      "22 neighbors\n",
      "DeltaE of first neighbor: -0.272\n",
      "Transfer integral of first neighbor: 0.396\n"
     ]
    }
   ],
   "source": [
    "i = 0\n",
    "chromo = chromo_list[i]\n",
    "print(f\"Chromophore {i}:\")\n",
    "print(f\"HOMO-1: {chromo.homo_1:.2f} HOMO: {chromo.homo:.2f} LUMO: {chromo.lumo:.2f} LUMO+1: {chromo.lumo_1:.2f}\")\n",
    "print(f\"{len(chromo.neighbors)} neighbors\")\n",
    "print(f\"DeltaE of first neighbor: {chromo.neighbors_delta_e[0]:.3f}\")\n",
    "print(f\"Transfer integral of first neighbor: {chromo.neighbors_ti[0]:.3f}\")"
   ]
  },
  {
   "cell_type": "markdown",
   "id": "063d1b36",
   "metadata": {},
   "source": [
    "With all the energy values set, we're ready to run KMC! First we'll make a directory and set a random seed to keep our results consistent:"
   ]
  },
  {
   "cell_type": "code",
   "execution_count": 18,
   "id": "40cfe7d9",
   "metadata": {},
   "outputs": [],
   "source": [
    "kmc_dir = os.path.join(outpath, \"kmc\")\n",
    "if not os.path.exists(kmc_dir):\n",
    "    os.makedirs(kmc_dir)\n",
    "    \n",
    "seed = 42"
   ]
  },
  {
   "cell_type": "markdown",
   "id": "67c99380",
   "metadata": {},
   "source": [
    "Next we'll create a random list of jobs:"
   ]
  },
  {
   "cell_type": "code",
   "execution_count": 19,
   "id": "8de0f19b",
   "metadata": {},
   "outputs": [],
   "source": [
    "lifetimes = [1.00e-13, 1.00e-12]\n",
    "jobs_list = kmc.get_jobslist(lifetimes, n_holes=10, seed=seed)"
   ]
  },
  {
   "cell_type": "markdown",
   "id": "08281fa5",
   "metadata": {},
   "source": [
    "And we'll run these jobs in parallel using multiprocessing:"
   ]
  },
  {
   "cell_type": "code",
   "execution_count": 20,
   "id": "6cc49ef6",
   "metadata": {},
   "outputs": [
    {
     "name": "stdout",
     "output_type": "stream",
     "text": [
      "All KMC jobs completed!\n",
      "Combining outputs...\n"
     ]
    }
   ],
   "source": [
    "temp = 300\n",
    "combined_data = kmc.run_kmc(jobs_list, kmc_dir, chromo_list, snap, temp, verbose=1)"
   ]
  },
  {
   "cell_type": "markdown",
   "id": "f02a8246",
   "metadata": {},
   "source": [
    "The output files for each process are saved in output/kmc/kmc_**proc#**.log:"
   ]
  },
  {
   "cell_type": "code",
   "execution_count": 21,
   "id": "d1e9edc0",
   "metadata": {},
   "outputs": [
    {
     "name": "stdout",
     "output_type": "stream",
     "text": [
      "Found 5 jobs to run\n",
      " starting job 0\n",
      " \thole hopped 4 times over 2.30e-15 seconds into image [-1  0  0] for a displacement of\n",
      " \t8.29 (took walltime 0.01 seconds)\n",
      " starting job 1\n",
      " \thole hopped 0 times over 0.00e+00 seconds into image [0 0 0] for a displacement of\n",
      " \t0.00 (took walltime 0.00 seconds)\n",
      " starting job 2\n",
      " \thole hopped 26 times over 9.79e-13 seconds into image [0 0 0] for a displacement of\n",
      " \t2.43 (took walltime 0.02 seconds)\n",
      " starting job 3\n",
      " \thole hopped 0 times over 0.00e+00 seconds into image [0 0 0] for a displacement of\n",
      " \t0.00 (took walltime 0.00 seconds)\n",
      " starting job 4\n",
      " \thole hopped 1 times over 8.35e-15 seconds into image [0 0 0] for a displacement of\n",
      " \t3.21 (took walltime 0.00 seconds)\n",
      "\n"
     ]
    }
   ],
   "source": [
    "with open(os.path.join(kmc_dir, \"kmc_00.log\"), \"r\") as f:\n",
    "    lines = f.readlines()\n",
    "print(*lines)"
   ]
  },
  {
   "cell_type": "markdown",
   "id": "8b180a80",
   "metadata": {},
   "source": [
    "Finally we can analyze our results -- plots will be saved in output/kmc/figures/"
   ]
  },
  {
   "cell_type": "code",
   "execution_count": 22,
   "id": "9143cb79",
   "metadata": {
    "scrolled": true,
    "tags": []
   },
   "outputs": [
    {
     "name": "stdout",
     "output_type": "stream",
     "text": [
      "---------- KMC_ANALYZE ----------\n",
      "All figures saved in /Users/jimmy/morphct/examples/output/kmc/figures\n",
      "---------------------------------\n",
      "Considering the transport of hole...\n",
      "Obtaining mean squared displacements...\n",
      "\tNotice: The data from 9 carriers were\n",
      "\tdiscarded due to the carrier lifetime being more than double\n",
      "\t(or less than half of) the specified carrier lifetime.\n",
      "Plotting distribution of hole displacements\n",
      "\tFigure saved as hole_displacement_dist.png\n",
      "Calculating mobility...\n",
      "Standard Error 0.0\n",
      "Fitting r_val = 1.0\n",
      "\tFigure saved as lin_MSD_hole.png\n",
      "\tFigure saved as semi_log_MSD_hole.png\n",
      "\tFigure saved as log_MSD_hole.png\n",
      "----------------------------------------\n",
      "Hole mobility = 7.58E-03  +/- 2.56E-03 cm^2 V^-1 s^-1\n",
      "----------------------------------------\n",
      "Calculating hole trajectory anisotropy...\n",
      "----------------------------------------\n",
      "hole charge transport anisotropy: 0.083\n",
      "----------------------------------------\n",
      "Plotting hole hop frequency distribution...\n",
      "DYNAMIC CUT\n",
      "Notice: No minima found in distribution. Cutoff set to None.\n",
      "Cluster cut-off based on hop frequency set to None\n",
      "\tFigure saved as total_hop_freq_hole.png\n",
      "Plotting hole net hop frequency distribution...\n",
      "\tFigure saved as net_hop_freq_hole.png\n",
      "Plotting (total - net hops) discrepancy distribution...\n",
      "There are 7 paths with one-way transport.\n",
      "There are 13 paths with total - net < 10.\n",
      "\tFigure saved as hop_discrepancy_hole.png\n",
      "Determining molecule IDs...\n",
      "Donor HOMO Level = -4.560 +/- 0.041\n",
      "Donor Delta E_ij mean = 0.000 +/- 0.015\n"
     ]
    },
    {
     "name": "stderr",
     "output_type": "stream",
     "text": [
      "/Users/jimmy/miniconda3/envs/morphct-ex/lib/python3.7/site-packages/scipy/optimize/minpack.py:808: OptimizeWarning: Covariance of the parameters could not be estimated\n",
      "  category=OptimizeWarning)\n"
     ]
    },
    {
     "name": "stdout",
     "output_type": "stream",
     "text": [
      "\tFigure saved as donor_delta_E_ij.png\n",
      "Notice: No minima found in distribution. Cutoff set to None.\n",
      "Neighbor histogram figure saved as neighbor_hist_donor.png\n",
      "Notice: No minima found in distribution. Cutoff set to None.\n",
      "Orientation histogram figure saved as orientation_hist_donor.png\n",
      "Notice: No minima found in distribution. Cutoff set to None.\n",
      "\tFigure saved as donor_transfer_integral_mols.png\n",
      "Cut-offs: ('value', [donor, acceptor])\n",
      "\t('separation', [None, None])\n",
      "\t('orientation', [None, None])\n",
      "\t('ti', [None, None])\n",
      "\t('freq', [None, None])\n",
      "Examining the donor material...\n",
      "Calculating clusters...\n",
      "No cutoff provided: cluster cutoff set to 2.491\n",
      "----------------------------------------\n",
      "Donor: Detected 1 total\n",
      "and 1 large clusters (size > 6).\n",
      "Largest cluster size: 112 chromophores.\n",
      "Ratio in \"large\" clusters: 1.00\n",
      "----------------------------------------\n",
      "Examining the acceptor material...\n",
      "No material found. Continuing...\n",
      "Mean intra-cluster donor rate: 4.914e+14+/-2.264e+12\n",
      "\tFigure saved as donor_hopping_rate_clusters.png\n",
      "\tFigure saved as donor_transfer_integral_clusters.png\n",
      "Mean intra-molecular donor rate: 5.107e+14+/-1.004e+13\n",
      "Mean inter-molecular donor rate: 4.846e+14+/-2.880e+12\n",
      "\tFigure saved as donor_hopping_rate_clusters.png\n",
      "Plotting cluster size distribution...\n",
      "\tFigure saved as donor_cluster_dist.png\n",
      "Writing CSV Output File...\n",
      "\tCSV file written to /Users/jimmy/morphct/examples/output/kmc/results.csv\n",
      "Plotting Mobility and Anisotropy progressions...\n",
      "Skipping plotting mobility evolution.\n"
     ]
    }
   ],
   "source": [
    "kmc_analyze.main(combined_data, temp, chromo_list, snap, kmc_dir)"
   ]
  },
  {
   "cell_type": "markdown",
   "id": "09e068fa",
   "metadata": {},
   "source": [
    "Trying to get homo and lumo for a single molecule of itic below. using functions in execute_qcc.py. it looks like i need to use write_qcc_imp() for that I need the snap, amber_dict and atom ids. "
   ]
  },
  {
   "cell_type": "code",
   "execution_count": null,
   "id": "495870a6",
   "metadata": {},
   "outputs": [],
   "source": [
    "/Users/jimmy/cmelab/data/ITIC/4700e7da2f41cc6c77e08977f1f8d94c/trajectory.gsd"
   ]
  },
  {
   "cell_type": "code",
   "execution_count": 46,
   "id": "22ece747",
   "metadata": {},
   "outputs": [],
   "source": [
    "g = gsd.pygsd.GSDFile(open('/Users/jimmy/cmelab/data/ITIC/4700e7da2f41cc6c77e08977f1f8d94c/trajectory.gsd', \"rb\"))\n",
    "trajectory = gsd.hoomd.HOOMDTrajectory(g)\n",
    "gsd_length= len(trajectory)\n",
    "with gsd.hoomd.open(name='/Users/jimmy/cmelab/data/ITIC/4700e7da2f41cc6c77e08977f1f8d94c/trajectory.gsd', mode='rb') as f:\n",
    "    start_snap = f[0]\n",
    "    end_snap = f[gsd_length - 1]\n",
    "    \n",
    "ids = start_snap.particles.typeid\n"
   ]
  },
  {
   "cell_type": "code",
   "execution_count": 47,
   "id": "68cb424d",
   "metadata": {},
   "outputs": [],
   "source": [
    "qcc_input = eqcc.write_qcc_inp(start_snap, ids, amber_dict)"
   ]
  },
  {
   "cell_type": "code",
   "execution_count": 50,
   "id": "a72887ca",
   "metadata": {
    "scrolled": true,
    "tags": []
   },
   "outputs": [
    {
     "name": "stdout",
     "output_type": "stream",
     "text": [
      "C 0.1740833504969288 0.36338064790183644 -0.1311245879143419; C 0.1740833504969288 0.36338064790183644 -0.1311245879143419; C 0.1740833504969288 0.36338064790183644 -0.1311245879143419; H -0.7539118544286083 0.19332764268333058 0.0636223832160292; C 0.1740833504969288 0.36338064790183644 -0.1311245879143419; H -0.7539118544286083 0.19332764268333058 0.0636223832160292; C 0.1740833504969288 0.36338064790183644 -0.1311245879143419; C 0.1740833504969288 0.36338064790183644 -0.1311245879143419; H -0.7539118544286083 0.19332764268333058 0.0636223832160292; H -0.7539118544286083 0.19332764268333058 0.0636223832160292; H -0.33158576647694815 0.698155142072979 -0.1678853949516954; H -0.33158576647694815 0.698155142072979 -0.1678853949516954; C -0.4570206419652294 0.1453425657790337 0.027703670600062402; C 0.6999565347010304 -0.1307833421189155 -0.014669509789341895; C 0.06604635556284677 -0.2716520059067573 0.06839266214669326; H -0.5050066725438427 -0.4181335198838081 0.2131904641181288; H -0.5050066725438427 -0.4181335198838081 0.2131904641181288; C 0.6702114327723194 -0.525609277482685 0.11581697855294326; C 0.6702114327723194 -0.525609277482685 0.11581697855294326; C 0.06604635556284677 -0.2716520059067573 0.06839266214669326; C 0.31242668469492685 0.010927654508892104 -0.034593196770543067; H -0.7539118544286083 0.19332764268333058 0.0636223832160292; O 0.9853426202112843 0.05077502847129445 -0.07500180806815049; C 0.31242668469492685 0.010927654508892104 -0.034593196770543067; H -0.33158576647694815 0.698155142072979 -0.1678853949516954; H -0.33158576647694815 0.698155142072979 -0.1678853949516954; H -0.7539118544286083 0.19332764268333058 0.0636223832160292; C 0.31242668469492685 0.010927654508892104 -0.034593196770543067; O 0.9853426202112843 0.05077502847129445 -0.07500180806815049; H -0.33158576647694815 0.698155142072979 -0.1678853949516954; C -0.21513068835194815 0.42820284486228566 -0.1002570113152208; C 0.1740833504969288 0.36338064790183644 -0.1311245879143419; C 0.1740833504969288 0.36338064790183644 -0.1311245879143419; C 0.1740833504969288 0.36338064790183644 -0.1311245879143419; C 0.1740833504969288 0.36338064790183644 -0.1311245879143419; C 0.1740833504969288 0.36338064790183644 -0.1311245879143419; C 0.1740833504969288 0.36338064790183644 -0.1311245879143419; C 0.1740833504969288 0.36338064790183644 -0.1311245879143419; C 0.1740833504969288 0.36338064790183644 -0.1311245879143419; C 0.1740833504969288 0.36338064790183644 -0.1311245879143419; C 0.1740833504969288 0.36338064790183644 -0.1311245879143419; C 0.1740833504969288 0.36338064790183644 -0.1311245879143419; C 0.1740833504969288 0.36338064790183644 -0.1311245879143419; C 0.1740833504969288 0.36338064790183644 -0.1311245879143419; C 0.1740833504969288 0.36338064790183644 -0.1311245879143419; H -0.7539118544286083 0.19332764268333058 0.0636223832160292; H -0.7539118544286083 0.19332764268333058 0.0636223832160292; H -0.7539118544286083 0.19332764268333058 0.0636223832160292; H -0.7539118544286083 0.19332764268333058 0.0636223832160292; H -0.7539118544286083 0.19332764268333058 0.0636223832160292; H -0.7539118544286083 0.19332764268333058 0.0636223832160292; H -0.7539118544286083 0.19332764268333058 0.0636223832160292; H -0.7539118544286083 0.19332764268333058 0.0636223832160292; C -0.21513068835194815 0.42820284486228566 -0.1002570113152208; C -0.21513068835194815 0.42820284486228566 -0.1002570113152208; C 0.2610741837793995 -0.6229827630478706 0.13237324152291396; C 0.2610741837793995 -0.6229827630478706 0.13237324152291396; C -0.21513068835194815 0.42820284486228566 -0.1002570113152208; C 0.2610741837793995 -0.6229827630478706 0.13237324152291396; C 0.2610741837793995 -0.6229827630478706 0.13237324152291396; C -0.21513068835194815 0.42820284486228566 -0.1002570113152208; C 0.2610741837793995 -0.6229827630478706 0.13237324152291396; C 0.2610741837793995 -0.6229827630478706 0.13237324152291396; C -0.21513068835194815 0.42820284486228566 -0.1002570113152208; C 0.2610741837793995 -0.6229827630478706 0.13237324152291396; C 0.2610741837793995 -0.6229827630478706 0.13237324152291396; C -0.21513068835194815 0.42820284486228566 -0.1002570113152208; C 0.2610741837793995 -0.6229827630478706 0.13237324152291396; C 0.2610741837793995 -0.6229827630478706 0.13237324152291396; C 0.2610741837793995 -0.6229827630478706 0.13237324152291396; C 0.2610741837793995 -0.6229827630478706 0.13237324152291396; C 0.2610741837793995 -0.6229827630478706 0.13237324152291396; C -0.21513068835194815 0.42820284486228566 -0.1002570113152208; C -0.21513068835194815 0.42820284486228566 -0.1002570113152208; C 0.2610741837793995 -0.6229827630478706 0.13237324152291396; C 0.2610741837793995 -0.6229827630478706 0.13237324152291396; C -0.21513068835194815 0.42820284486228566 -0.1002570113152208; C 0.2610741837793995 -0.6229827630478706 0.13237324152291396; C 0.2610741837793995 -0.6229827630478706 0.13237324152291396; C -0.21513068835194815 0.42820284486228566 -0.1002570113152208; C 0.2610741837793995 -0.6229827630478706 0.13237324152291396; C 0.2610741837793995 -0.6229827630478706 0.13237324152291396; C -0.21513068835194815 0.42820284486228566 -0.1002570113152208; C 0.2610741837793995 -0.6229827630478706 0.13237324152291396; C 0.2610741837793995 -0.6229827630478706 0.13237324152291396; C -0.21513068835194815 0.42820284486228566 -0.1002570113152208; C 0.2610741837793995 -0.6229827630478706 0.13237324152291396; C 0.2610741837793995 -0.6229827630478706 0.13237324152291396; C 0.2610741837793995 -0.6229827630478706 0.13237324152291396; C 0.2610741837793995 -0.6229827630478706 0.13237324152291396; C 0.2610741837793995 -0.6229827630478706 0.13237324152291396; C 0.1740833504969288 0.36338064790183644 -0.1311245879143419; C 0.1740833504969288 0.36338064790183644 -0.1311245879143419; C 0.1740833504969288 0.36338064790183644 -0.1311245879143419; C 0.1740833504969288 0.36338064790183644 -0.1311245879143419; H -0.7539118544286083 0.19332764268333058 0.0636223832160292; H -0.7539118544286083 0.19332764268333058 0.0636223832160292; C 0.31242668469492685 0.010927654508892104 -0.034593196770543067; C -0.21513068835194815 0.42820284486228566 -0.1002570113152208; H -0.33158576647694815 0.698155142072979 -0.1678853949516954; O 0.9853426202112843 0.05077502847129445 -0.07500180806815049; C 0.31242668469492685 0.010927654508892104 -0.034593196770543067; H -0.33158576647694815 0.698155142072979 -0.1678853949516954; C 0.1740833504969288 0.36338064790183644 -0.1311245879143419; C 0.1740833504969288 0.36338064790183644 -0.1311245879143419; C 0.1740833504969288 0.36338064790183644 -0.1311245879143419; C 0.1740833504969288 0.36338064790183644 -0.1311245879143419; C 0.1740833504969288 0.36338064790183644 -0.1311245879143419; C 0.1740833504969288 0.36338064790183644 -0.1311245879143419; C 0.1740833504969288 0.36338064790183644 -0.1311245879143419; C 0.1740833504969288 0.36338064790183644 -0.1311245879143419; C 0.1740833504969288 0.36338064790183644 -0.1311245879143419; C 0.1740833504969288 0.36338064790183644 -0.1311245879143419; C 0.1740833504969288 0.36338064790183644 -0.1311245879143419; C 0.1740833504969288 0.36338064790183644 -0.1311245879143419; C -0.21513068835194815 0.42820284486228566 -0.1002570113152208; C -0.21513068835194815 0.42820284486228566 -0.1002570113152208; C 0.2610741837793995 -0.6229827630478706 0.13237324152291396; C 0.2610741837793995 -0.6229827630478706 0.13237324152291396; C -0.21513068835194815 0.42820284486228566 -0.1002570113152208; C 0.2610741837793995 -0.6229827630478706 0.13237324152291396; C 0.2610741837793995 -0.6229827630478706 0.13237324152291396; C -0.21513068835194815 0.42820284486228566 -0.1002570113152208; C 0.2610741837793995 -0.6229827630478706 0.13237324152291396; C 0.2610741837793995 -0.6229827630478706 0.13237324152291396; C -0.21513068835194815 0.42820284486228566 -0.1002570113152208; C 0.2610741837793995 -0.6229827630478706 0.13237324152291396; C 0.2610741837793995 -0.6229827630478706 0.13237324152291396; C -0.21513068835194815 0.42820284486228566 -0.1002570113152208; C 0.2610741837793995 -0.6229827630478706 0.13237324152291396; C 0.2610741837793995 -0.6229827630478706 0.13237324152291396; C 0.2610741837793995 -0.6229827630478706 0.13237324152291396; C 0.2610741837793995 -0.6229827630478706 0.13237324152291396; C 0.2610741837793995 -0.6229827630478706 0.13237324152291396; C -0.21513068835194815 0.42820284486228566 -0.1002570113152208; C -0.21513068835194815 0.42820284486228566 -0.1002570113152208; C 0.2610741837793995 -0.6229827630478706 0.13237324152291396; C 0.2610741837793995 -0.6229827630478706 0.13237324152291396; C -0.21513068835194815 0.42820284486228566 -0.1002570113152208; C 0.2610741837793995 -0.6229827630478706 0.13237324152291396; C 0.2610741837793995 -0.6229827630478706 0.13237324152291396; C -0.21513068835194815 0.42820284486228566 -0.1002570113152208; C 0.2610741837793995 -0.6229827630478706 0.13237324152291396; C 0.2610741837793995 -0.6229827630478706 0.13237324152291396; C -0.21513068835194815 0.42820284486228566 -0.1002570113152208; C 0.2610741837793995 -0.6229827630478706 0.13237324152291396; C 0.2610741837793995 -0.6229827630478706 0.13237324152291396; C -0.21513068835194815 0.42820284486228566 -0.1002570113152208; C 0.2610741837793995 -0.6229827630478706 0.13237324152291396; C 0.2610741837793995 -0.6229827630478706 0.13237324152291396; C 0.2610741837793995 -0.6229827630478706 0.13237324152291396; C 0.2610741837793995 -0.6229827630478706 0.13237324152291396; C 0.2610741837793995 -0.6229827630478706 0.13237324152291396; H -0.7539118544286083 0.19332764268333058 0.0636223832160292; H -0.7539118544286083 0.19332764268333058 0.0636223832160292; H -0.7539118544286083 0.19332764268333058 0.0636223832160292; H -0.7539118544286083 0.19332764268333058 0.0636223832160292; H -0.7539118544286083 0.19332764268333058 0.0636223832160292; H -0.7539118544286083 0.19332764268333058 0.0636223832160292; H -0.7539118544286083 0.19332764268333058 0.0636223832160292; H -0.7539118544286083 0.19332764268333058 0.0636223832160292; O 0.9853426202112843 0.05077502847129445 -0.07500180806815049; H -0.33158576647694815 0.698155142072979 -0.1678853949516954; C 0.31242668469492685 0.010927654508892104 -0.034593196770543067; H -0.7539118544286083 0.19332764268333058 0.0636223832160292; H 0.3615342362696339 0.5839445364516411 -0.22148284520804307; C 0.31242668469492685 0.010927654508892104 -0.034593196770543067; H -0.7539118544286083 0.19332764268333058 0.0636223832160292; C -0.4570206419652294 0.1453425657790337 0.027703670600062402; C 0.1740833504969288 0.36338064790183644 -0.1311245879143419; C 0.1740833504969288 0.36338064790183644 -0.1311245879143419; C 0.31242668469492685 0.010927654508892104 -0.034593196770543067; C 0.6999565347010304 -0.1307833421189155 -0.014669509789341895; H 0.3615342362696339 0.5839445364516411 -0.22148284520804307; C -0.3161524550145458 -0.206268571611103 0.11048498544991592; C -0.3161524550145458 -0.206268571611103 0.11048498544991592; C 0.6702114327723194 -0.525609277482685 0.11581697855294326; C 0.6702114327723194 -0.525609277482685 0.11581697855294326; C 0.1740833504969288 0.36338064790183644 -0.1311245879143419; C 0.1740833504969288 0.36338064790183644 -0.1311245879143419; C 0.1740833504969288 0.36338064790183644 -0.1311245879143419; C 0.1740833504969288 0.36338064790183644 -0.1311245879143419; H -0.7539118544286083 0.19332764268333058 0.0636223832160292; H -0.7539118544286083 0.19332764268333058 0.0636223832160292; H -0.7539118544286083 0.19332764268333058 0.0636223832160292; H -0.7539118544286083 0.19332764268333058 0.0636223832160292; H -0.20228934881836125 -1.6137830211158075 0.15347028565317444; H 1.3580263297292205 -1.3644284612209976 0.25769384247641103;\n"
     ]
    }
   ],
   "source": [
    "print(qcc_input)"
   ]
  },
  {
   "cell_type": "markdown",
   "id": "ea3550ba",
   "metadata": {},
   "source": [
    "It looks like I have a qcc input IM not sure the move I used to get \"ids\" was legit . time will tell"
   ]
  },
  {
   "cell_type": "code",
   "execution_count": 52,
   "id": "96c69c8a",
   "metadata": {},
   "outputs": [
    {
     "name": "stderr",
     "output_type": "stream",
     "text": [
      "/Users/jimmy/miniconda3/envs/morphct-ex/lib/python3.7/site-packages/pyscf/semiempirical/mindo3.py:137: RuntimeWarning: divide by zero encountered in true_divide\n",
      "  mopac_param.E2/distances_in_AA - gamma)\n",
      "/Users/jimmy/miniconda3/envs/morphct-ex/lib/python3.7/site-packages/pyscf/scf/hf.py:181: RuntimeWarning: invalid value encountered in double_scalars\n",
      "  cycle+1, e_tot, e_tot-last_hf_e, norm_gorb, norm_ddm)\n",
      "/Users/jimmy/miniconda3/envs/morphct-ex/lib/python3.7/site-packages/pyscf/scf/hf.py:185: RuntimeWarning: invalid value encountered in double_scalars\n",
      "  elif abs(e_tot-last_hf_e) < conv_tol and norm_gorb < conv_tol_grad:\n"
     ]
    }
   ],
   "source": [
    "homolumo = eqcc.get_homolumo(qcc_input)"
   ]
  },
  {
   "cell_type": "code",
   "execution_count": 53,
   "id": "0d42b667",
   "metadata": {},
   "outputs": [
    {
     "name": "stdout",
     "output_type": "stream",
     "text": [
      "[-384.61710738 -372.12001894 -364.28348938 -362.30057559]\n"
     ]
    }
   ],
   "source": [
    "print(homolumo)"
   ]
  },
  {
   "cell_type": "markdown",
   "id": "3a464225",
   "metadata": {},
   "source": [
    "This seems like crazy energies. should be HOMO-1, HOMO, LUMO, LUMO+1 above. "
   ]
  }
 ],
 "metadata": {
  "kernelspec": {
   "display_name": "Python 3",
   "language": "python",
   "name": "python3"
  },
  "language_info": {
   "codemirror_mode": {
    "name": "ipython",
    "version": 3
   },
   "file_extension": ".py",
   "mimetype": "text/x-python",
   "name": "python",
   "nbconvert_exporter": "python",
   "pygments_lexer": "ipython3",
   "version": "3.7.10"
  }
 },
 "nbformat": 4,
 "nbformat_minor": 5
}

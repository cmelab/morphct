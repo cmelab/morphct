{
 "cells": [
  {
   "cell_type": "markdown",
   "id": "3ce8b03a",
   "metadata": {},
   "source": [
    "# MorphCT Example Workflow\n",
    "\n",
    "1. Start with an atomistic snapshot\n",
    "2. Determine which atom indices belong to which chromophore using [SMARTS](https://www.daylight.com/dayhtml/doc/theory/theory.smarts.html) matching\n",
    "3. Calculate the energies for each chromophore and chromophore pair using quantum chemical calculations (QCC)\n",
    "4. Run the kinetic monte carlo (KMC) algorithm to calculate charge mobility"
   ]
  },
  {
   "cell_type": "markdown",
   "id": "b4de6e6b",
   "metadata": {},
   "source": [
    "First let's import necessary modules and define a couple of useful functions for visualization:"
   ]
  },
  {
   "cell_type": "code",
   "execution_count": 1,
   "id": "b0059e43",
   "metadata": {},
   "outputs": [
    {
     "name": "stderr",
     "output_type": "stream",
     "text": [
      "/Users/jimmy/miniconda3/envs/morphct-ex/lib/python3.7/site-packages/pyscf/lib/misc.py:50: H5pyDeprecationWarning: Using default_file_mode other than 'r' is deprecated. Pass the mode to h5py.File() instead.\n",
      "  h5py.get_config().default_file_mode = 'a'\n"
     ]
    }
   ],
   "source": [
    "from copy import deepcopy\n",
    "import os\n",
    "import multiprocessing as mp\n",
    "\n",
    "import gsd.hoomd\n",
    "import mbuild as mb\n",
    "import numpy as np\n",
    "import gsd.pygsd\n",
    "from morphct import execute_qcc as eqcc\n",
    "from morphct import mobility_kmc as kmc\n",
    "from morphct import chromophores\n",
    "from morphct import kmc_analyze\n",
    "from morphct.chromophores import conversion_dict\n",
    "from morphct.chromophores import amber_dict\n",
    "\n",
    "def visualize_qcc_input(qcc_input):\n",
    "    \"\"\"\n",
    "    Visualize a quantum chemical input string (for pyscf) using mbuild.\n",
    "    \n",
    "    Parameters\n",
    "    ----------\n",
    "    qcc_input : str\n",
    "        Input string to visualize\n",
    "    \"\"\"\n",
    "    comp = mb.Compound()\n",
    "    for line in qcc_input.split(\";\")[:-1]:\n",
    "        atom, x, y, z = line.split()\n",
    "        xyz = np.array([x,y,z], dtype=float)\n",
    "        # Angstrom -> nm\n",
    "        xyz /= 10\n",
    "        comp.add(mb.Particle(name=atom,pos=xyz))\n",
    "    comp.visualize().show()\n",
    "    \n",
    "def from_snapshot(snapshot, scale=1.0):\n",
    "    \"\"\"\n",
    "    Convert a hoomd.data.Snapshot or a gsd.hoomd.Snapshot to an\n",
    "    mbuild Compound.\n",
    "    \n",
    "    Parameters\n",
    "    ----------\n",
    "    snapshot : hoomd.data.SnapshotParticleData or gsd.hoomd.Snapshot\n",
    "        Snapshot from which to build the mbuild Compound.\n",
    "    scale : float, optional, default 1.0\n",
    "        Value by which to scale the length values\n",
    "        \n",
    "    Returns\n",
    "    -------\n",
    "    comp : mb.Compound\n",
    "    \"\"\"\n",
    "    comp = mb.Compound()\n",
    "    bond_array = snapshot.bonds.group\n",
    "    n_atoms = snapshot.particles.N\n",
    "\n",
    "    # There will be a better way to do this once box overhaul merged\n",
    "    try:\n",
    "        # gsd\n",
    "        box = snapshot.configuration.box\n",
    "        comp.box = mb.box.Box(lengths=box[:3] * scale)\n",
    "    except AttributeError:\n",
    "        # hoomd\n",
    "        box = snapshot.box\n",
    "        comp.box = mb.box.Box(lengths=np.array([box.Lx,box.Ly,box.Lz]) * scale)\n",
    "\n",
    "    # to_hoomdsnapshot shifts the coords, this will keep consistent\n",
    "    shift = np.array(comp.box.lengths)/2\n",
    "    # Add particles\n",
    "    for i in range(n_atoms):\n",
    "        name = snapshot.particles.types[snapshot.particles.typeid[i]]\n",
    "        xyz = snapshot.particles.position[i] * scale + shift\n",
    "        charge = snapshot.particles.charge[i]\n",
    "\n",
    "        atom = mb.Particle(name=name, pos=xyz, charge=charge)\n",
    "        comp.add(atom, label=str(i))\n",
    "\n",
    "    # Add bonds\n",
    "    particle_dict = {idx: p for idx, p in enumerate(comp.particles())}\n",
    "    for i in range(bond_array.shape[0]):\n",
    "        atom1 = int(bond_array[i][0])\n",
    "        atom2 = int(bond_array[i][1])\n",
    "        comp.add_bond([particle_dict[atom1], particle_dict[atom2]])\n",
    "    return comp"
   ]
  },
  {
   "cell_type": "markdown",
   "id": "0bb5347b",
   "metadata": {},
   "source": [
    "Here's our starting structure, an atomistic (not coarse-grain or united atom) gsd file with 2 p3ht 15-mers:"
   ]
  },
  {
   "cell_type": "code",
   "execution_count": 2,
   "id": "51005de8",
   "metadata": {},
   "outputs": [
    {
     "data": {
      "application/3dmoljs_load.v0": "<div id=\"3dmolviewer_1622761619379804\"  style=\"position: relative; width: 640px; height: 480px\">\n        <p id=\"3dmolwarning_1622761619379804\" style=\"background-color:#ffcccc;color:black\">You appear to be running in JupyterLab (or JavaScript failed to load for some other reason).  You need to install the 3dmol extension: <br>\n        <tt>jupyter labextension install jupyterlab_3dmol</tt></p>\n        </div>\n<script>\n\nvar loadScriptAsync = function(uri){\n  return new Promise((resolve, reject) => {\n    var tag = document.createElement('script');\n    tag.src = uri;\n    tag.async = true;\n    tag.onload = () => {\n      resolve();\n    };\n  var firstScriptTag = document.getElementsByTagName('script')[0];\n  firstScriptTag.parentNode.insertBefore(tag, firstScriptTag);\n});\n};\n\nif(typeof $3Dmolpromise === 'undefined') {\n$3Dmolpromise = null;\n  $3Dmolpromise = loadScriptAsync('https://3dmol.csb.pitt.edu/build/3Dmol.js');\n}\n\nvar viewer_1622761619379804 = null;\nvar warn = document.getElementById(\"3dmolwarning_1622761619379804\");\nif(warn) {\n    warn.parentNode.removeChild(warn);\n}\n$3Dmolpromise.then(function() {\nviewer_1622761619379804 = $3Dmol.createViewer($(\"#3dmolviewer_1622761619379804\"),{backgroundColor:\"white\"});\n\tviewer_1622761619379804.addModel(\"@<TRIPOS>MOLECULE\\nRES\\n186 200 1 0 1\\nSMALL\\nNO_CHARGES\\n@<TRIPOS>CRYSIN\\n   66.6742    66.6742    66.6742    90.0000    90.0000    90.0000  1  1\\n@<TRIPOS>ATOM\\n       1 C            3.0580    19.7222    57.3560 C             1 RES     \\n       2 C            3.9200    20.7302    56.9000 C             1 RES     \\n       3 C            5.3070    20.4992    56.7900 C             1 RES     \\n       4 H            3.5050    21.6922    56.6590 H             1 RES     \\n       5 C            5.8000    19.2432    57.1340 C             1 RES     \\n       6 H            5.9750    21.2852    56.4680 H             1 RES     \\n       7 C            4.9220    18.2362    57.5010 C             1 RES     \\n       8 C            3.5600    18.4692    57.6510 C             1 RES     \\n       9 H            2.8870    17.7142    58.0170 H             1 RES     \\n      10 H            2.0000    19.8932    57.4840 H             1 RES     \\n      11 C            5.6170    16.9842    57.7290 C             1 RES     \\n      12 C            7.0750    17.3312    57.6700 C             1 RES     \\n      13 C            7.1810    18.7382    57.2050 C             1 RES     \\n      14 O            8.1980    19.3852    56.9900 O             1 RES     \\n      15 C            5.0240    15.7162    57.7560 C             1 RES     \\n      16 C            3.6810    15.5512    57.3260 C             1 RES     \\n      17 C            5.6000    14.4012    58.0370 C             1 RES     \\n      18 N            2.5890    15.4292    56.9740 N             1 RES     \\n      19 N            6.0530    13.3572    58.2600 N             1 RES     \\n      20 C            7.9040    16.3202    57.8410 C             1 RES     \\n      21 C            9.2180    15.7752    57.7900 C             1 RES     \\n      22 H            7.3890    15.6142    58.3420 H             1 RES     \\n      23 S           10.6460    16.6442    57.6450 S             1 RES     \\n      24 C           11.5880    15.4712    58.3950 C             1 RES     \\n      25 C           10.7860    14.3312    58.5020 C             1 RES     \\n      26 C            9.4190    14.4622    58.2320 C             1 RES     \\n      27 H            8.5740    13.7982    58.5700 H             1 RES     \\n      28 C           12.8360    15.4732    59.2400 C             1 RES     \\n      29 S           11.6070    13.1912    59.3630 S             1 RES     \\n      30 C           12.9760    14.1382    59.7320 C             1 RES     \\n      31 C           13.8800    16.5832    60.0650 C             1 RES     \\n      32 C           14.8090    15.2232    60.5070 C             1 RES     \\n      33 C           14.2840    13.8962    60.4000 C             1 RES     \\n      34 C           14.8600    17.9972    60.5300 C             1 RES     \\n      35 C           12.5780    17.5822    60.3030 C             1 RES     \\n      36 C           12.5330    18.8392    59.5730 C             1 RES     \\n      37 C           11.4750    19.7632    59.6050 C             1 RES     \\n      38 C           10.3030    19.5192    60.3210 C             1 RES     \\n      39 C           10.3560    18.3902    61.1970 C             1 RES     \\n      40 C           15.9190    18.6522    59.7650 C             1 RES     \\n      41 C           16.4620    20.0072    60.0310 C             1 RES     \\n      42 C           16.0390    20.8792    61.0760 C             1 RES     \\n      43 C           15.1260    20.2432    61.9330 C             1 RES     \\n      44 C           14.5760    18.8922    61.7060 C             1 RES     \\n      45 C           11.4700    17.4532    61.2030 C             1 RES     \\n      46 H           16.3260    18.1892    58.8830 H             1 RES     \\n      47 H            9.5110    18.1862    61.8340 H             1 RES     \\n      48 H           11.4360    16.6142    61.8840 H             1 RES     \\n      49 H           11.5600    20.6662    59.0050 H             1 RES     \\n      50 H           13.3600    19.1572    58.9490 H             1 RES     \\n      51 H           17.2060    20.4412    59.3740 H             1 RES     \\n      52 H           14.8000    20.8742    62.7600 H             1 RES     \\n      53 H           13.8320    18.6532    62.4590 H             1 RES     \\n      54 C            9.0160    20.3712    59.9230 C             1 RES     \\n      55 C            8.3970    21.5562    60.7370 C             1 RES     \\n      56 H            8.2100    19.6542    59.6640 H             1 RES     \\n      57 H            9.2820    20.8512    58.9580 H             1 RES     \\n      58 C            7.5150    22.6712    59.9980 C             1 RES     \\n      59 H            9.2760    22.1302    61.0860 H             1 RES     \\n      60 H            7.8460    21.1842    61.6250 H             1 RES     \\n      61 C            6.0190    22.4732    59.5620 C             1 RES     \\n      62 H            8.0630    23.0872    59.1190 H             1 RES     \\n      63 H            7.4760    23.4972    60.7350 H             1 RES     \\n      64 C            5.1950    23.8082    59.6280 C             1 RES     \\n      65 H            6.0140    22.1132    58.5280 H             1 RES     \\n      66 H            5.4920    21.7442    60.2090 H             1 RES     \\n      67 C            3.8040    23.7602    58.9660 C             1 RES     \\n      68 H            5.7410    24.6482    59.1470 H             1 RES     \\n      69 H            5.0480    24.0642    60.7010 H             1 RES     \\n      70 H            3.9000    23.6842    57.8620 H             1 RES     \\n      71 H            3.2500    24.7062    59.1730 H             1 RES     \\n      72 H            3.1850    22.9192    59.3410 H             1 RES     \\n      73 C           16.4660    22.4672    61.1920 C             1 RES     \\n      74 C           17.2850    23.0932    62.4090 C             1 RES     \\n      75 H           15.5540    23.1102    61.1100 H             1 RES     \\n      76 H           17.0760    22.7592    60.3020 H             1 RES     \\n      77 C           17.7450    24.6252    62.3120 C             1 RES     \\n      78 H           18.2300    22.5202    62.4320 H             1 RES     \\n      79 H           16.7680    22.9552    63.3820 H             1 RES     \\n      80 C           16.7600    25.7092    62.8470 C             1 RES     \\n      81 H           18.0330    24.8672    61.2660 H             1 RES     \\n      82 H           18.6640    24.7582    62.9300 H             1 RES     \\n      83 C           17.2420    27.1862    62.6720 C             1 RES     \\n      84 H           16.5510    25.5432    63.9280 H             1 RES     \\n      85 H           15.8110    25.6112    62.2880 H             1 RES     \\n      86 C           18.3660    27.6462    63.6150 C             1 RES     \\n      87 H           16.3830    27.8632    62.8860 H             1 RES     \\n      88 H           17.5470    27.3622    61.6190 H             1 RES     \\n      89 H           18.0340    27.5872    64.6740 H             1 RES     \\n      90 H           18.6070    28.7172    63.4100 H             1 RES     \\n      91 H           19.2930    27.0572    63.4810 H             1 RES     \\n      92 C           16.2220    15.2522    60.7570 C             1 RES     \\n      93 C           17.0720    14.0862    60.7930 C             1 RES     \\n      94 C           16.5680    12.7712    60.8030 C             1 RES     \\n      95 C           15.1050    12.6512    60.7100 C             1 RES     \\n      96 H           16.7030    16.1932    60.7900 H             1 RES     \\n      97 H           14.7980    11.5862    60.6400 H             1 RES     \\n      98 C           18.5640    14.0012    60.8090 C             1 RES     \\n      99 C           17.7620    11.6412    60.5400 C             1 RES     \\n     100 C           18.9750    12.6862    60.7600 C             1 RES     \\n     101 S           19.9260    15.0512    61.0360 S             1 RES     \\n     102 C           21.0560    13.7962    61.3110 C             1 RES     \\n     103 C           20.4110    12.5982    61.1730 C             1 RES     \\n     104 C           18.7250    10.4332    60.8380 C             1 RES     \\n     105 C           16.9250    10.8532    59.3250 C             1 RES     \\n     106 C           15.9500    11.4242    58.4140 C             1 RES     \\n     107 C           14.9500    10.6162    57.7700 C             1 RES     \\n     108 C           14.9560     9.2082    57.8980 C             1 RES     \\n     109 C           15.9830     8.6442    58.6150 C             1 RES     \\n     110 C           16.8790     9.4072    59.3100 C             1 RES     \\n     111 C           19.6580    10.1442    59.7790 C             1 RES     \\n     112 C           20.6020     9.1212    59.8560 C             1 RES     \\n     113 C           20.6720     8.2952    60.9840 C             1 RES     \\n     114 C           19.7190     8.5232    62.0230 C             1 RES     \\n     115 C           18.7520     9.5752    61.9540 C             1 RES     \\n     116 C           21.9490     7.4422    61.1860 C             1 RES     \\n     117 C           22.2820     5.9662    60.7860 C             1 RES     \\n     118 H           22.1700     7.5242    62.2690 H             1 RES     \\n     119 H           22.7280     8.0222    60.6490 H             1 RES     \\n     120 C           23.7910     5.6902    61.1670 C             1 RES     \\n     121 H           22.1480     5.8062    59.6950 H             1 RES     \\n     122 H           21.6220     5.2722    61.3460 H             1 RES     \\n     123 C           24.3740     4.2532    61.0110 C             1 RES     \\n     124 H           23.9140     5.9552    62.2400 H             1 RES     \\n     125 H           24.4290     6.3752    60.5620 H             1 RES     \\n     126 C           25.8610     4.1872    61.4850 C             1 RES     \\n     127 H           24.3230     3.9292    59.9500 H             1 RES     \\n     128 H           23.7800     3.5542    61.6350 H             1 RES     \\n     129 C           26.4880     2.7862    61.4330 C             1 RES     \\n     130 H           25.9320     4.5272    62.5410 H             1 RES     \\n     131 H           26.4890     4.8582    60.8580 H             1 RES     \\n     132 H           25.9390     2.0782    62.0880 H             1 RES     \\n     133 H           27.5400     2.8332    61.8010 H             1 RES     \\n     134 H           26.5120     2.3892    60.3970 H             1 RES     \\n     135 C           13.9350     8.1832    57.3940 C             1 RES     \\n     136 C           12.4790     8.5982    57.1280 C             1 RES     \\n     137 H           13.8320     7.4232    58.2080 H             1 RES     \\n     138 H           14.3720     7.6462    56.5250 H             1 RES     \\n     139 C           11.6420     7.3362    56.7680 C             1 RES     \\n     140 H           12.4520     9.3252    56.2940 H             1 RES     \\n     141 H           12.0490     9.0642    58.0430 H             1 RES     \\n     142 C           10.1880     7.6682    56.3980 C             1 RES     \\n     143 H           11.6410     6.6222    57.6250 H             1 RES     \\n     144 H           12.1160     6.8282    55.9000 H             1 RES     \\n     145 C            9.4040     6.4152    55.9620 C             1 RES     \\n     146 H           10.1980     8.3892    55.5540 H             1 RES     \\n     147 H            9.6780     8.1322    57.2700 H             1 RES     \\n     148 C            7.9790     6.7702    55.5300 C             1 RES     \\n     149 H            9.3540     5.6822    56.7980 H             1 RES     \\n     150 H            9.9150     5.9312    55.1000 H             1 RES     \\n     151 H            7.4180     7.2282    56.3720 H             1 RES     \\n     152 H            7.4420     5.8532    55.2050 H             1 RES     \\n     153 H            8.0000     7.4812    54.6770 H             1 RES     \\n     154 H           15.8280    12.4972    58.3140 H             1 RES     \\n     155 H           14.1500    11.0932    57.2190 H             1 RES     \\n     156 H           16.0490     7.5682    58.7310 H             1 RES     \\n     157 H           17.4880     8.7532    59.9030 H             1 RES     \\n     158 H           18.0490     9.7302    62.7610 H             1 RES     \\n     159 H           19.6800    10.7812    58.8980 H             1 RES     \\n     160 H           21.3280     9.0392    59.0560 H             1 RES     \\n     161 H           19.7540     7.9172    62.9160 H             1 RES     \\n     162 S           21.6050    11.4102    61.6360 S             1 RES     \\n     163 C           22.9300    12.4322    61.9590 C             1 RES     \\n     164 C           22.4350    13.7392    61.6960 C             1 RES     \\n     165 H           23.0600    14.6132    61.8090 H             1 RES     \\n     166 C           24.3810    12.1982    62.4170 C             1 RES     \\n     167 C           25.2570    11.1402    62.6340 C             1 RES     \\n     168 H           24.8350    13.1542    62.5510 H             1 RES     \\n     169 C           25.0750     9.6792    62.4450 C             1 RES     \\n     170 C           26.3800     8.9832    62.5720 C             1 RES     \\n     171 C           27.3440     9.9132    62.8800 C             1 RES     \\n     172 C           26.7490    11.2822    62.9140 C             1 RES     \\n     173 O           24.0170     9.1302    62.2370 O             1 RES     \\n     174 C           27.4960    12.4092    63.0950 C             1 RES     \\n     175 C           26.9900    13.7002    63.4690 C             1 RES     \\n     176 C           28.9170    12.3842    62.8380 C             1 RES     \\n     177 N           26.6240    14.7562    63.7690 N             1 RES     \\n     178 N           30.0530    12.3252    62.6230 N             1 RES     \\n     179 C           28.6530     9.4902    63.2120 C             1 RES     \\n     180 C           28.9990     8.1442    63.1290 C             1 RES     \\n     181 C           28.0440     7.2082    62.7280 C             1 RES     \\n     182 C           26.7210     7.6192    62.4650 C             1 RES     \\n     183 H           29.4190    10.1502    63.5690 H             1 RES     \\n     184 H           30.0080     7.8362    63.3860 H             1 RES     \\n     185 H           28.3360     6.1662    62.6580 H             1 RES     \\n     186 H           25.9960     6.8802    62.2030 H             1 RES     \\n@<TRIPOS>BOND\\n       1      142      145 1\\n       2       39       45 1\\n       3      142      146 1\\n       4       25       29 1\\n       5       23       24 1\\n       6       24       25 1\\n       7      167      172 1\\n       8       74       79 1\\n       9       36       37 1\\n      10      100      103 1\\n      11      162      163 1\\n      12       99      100 1\\n      13      148      153 1\\n      14      123      127 1\\n      15      163      166 1\\n      16        8        9 1\\n      17      108      109 1\\n      18      171      172 1\\n      19       95       97 1\\n      20      174      176 1\\n      21      135      137 1\\n      22       16       15 1\\n      23      139      143 1\\n      24       77       81 1\\n      25       92       96 1\\n      26       67       70 1\\n      27        3        6 1\\n      28      145      148 1\\n      29       32       92 1\\n      30      129      133 1\\n      31       55       60 1\\n      32      126      131 1\\n      33        5        7 1\\n      34      167      169 1\\n      35      110      157 1\\n      36      136      139 1\\n      37       74       77 1\\n      38       73       76 1\\n      39       83       86 1\\n      40      148      151 1\\n      41       31       35 1\\n      42      113      116 1\\n      43       18       16 1\\n      44       45       48 1\\n      45      182      186 1\\n      46      114      115 1\\n      47        2        4 1\\n      48        1        2 1\\n      49       28       30 1\\n      50      115      158 1\\n      51       61       65 1\\n      52      106      154 1\\n      53        7        8 1\\n      54       38       54 1\\n      55       43       44 1\\n      56      169      170 1\\n      57      136      141 1\\n      58       83       88 1\\n      59       99      104 1\\n      60      101      102 1\\n      61      164      165 1\\n      62       38       39 1\\n      63      109      110 1\\n      64      113      114 1\\n      65       98      100 1\\n      66       34       40 1\\n      67       42       73 1\\n      68       21       26 1\\n      69       25       26 1\\n      70       21       23 1\\n      71       39       47 1\\n      72       40       46 1\\n      73      166      168 1\\n      74       37       38 1\\n      75      163      164 1\\n      76       22       20 1\\n      77       58       62 1\\n      78      116      118 1\\n      79      117      121 1\\n      80      180      184 1\\n      81       34       44 1\\n      82       67       72 1\\n      83      114      161 1\\n      84      103      162 1\\n      85       17       15 1\\n      86       86       90 1\\n      87       32       33 1\\n      88      112      113 1\\n      89       73       74 1\\n      90      179      183 1\\n      91       54       56 1\\n      92      120      124 1\\n      93       35       45 1\\n      94       80       84 1\\n      95      126      129 1\\n      96       64       67 1\\n      97      142      147 1\\n      98       42       43 1\\n      99       33       95 1\\n     100      105      106 1\\n     101       80       85 1\\n     102      169      173 1\\n     103       44       53 1\\n     104       93       98 1\\n     105      139      142 1\\n     106       77       82 1\\n     107       64       69 1\\n     108      129      134 1\\n     109       41       42 1\\n     110      181      185 1\\n     111       55       59 1\\n     112      126      130 1\\n     113       74       78 1\\n     114       73       75 1\\n     115      148      152 1\\n     116      123      126 1\\n     117       43       52 1\\n     118       98      101 1\\n     119      175      177 1\\n     120       31       34 1\\n     121      174      175 1\\n     122      111      112 1\\n     123      135      136 1\\n     124      104      111 1\\n     125       28       31 1\\n     126       77       80 1\\n     127      139      144 1\\n     128       30       33 1\\n     129       61       64 1\\n     130      145      149 1\\n     131       19       17 1\\n     132        7       11 1\\n     133        5       13 1\\n     134      129      132 1\\n     135       15       11 1\\n     136       40       41 1\\n     137      170      182 1\\n     138      102      164 1\\n     139      166      167 1\\n     140       12       13 1\\n     141      136      140 1\\n     142      123      128 1\\n     143       94       95 1\\n     144      172      174 1\\n     145       31       32 1\\n     146       35       36 1\\n     147      107      155 1\\n     148      176      178 1\\n     149        1        8 1\\n     150       55       58 1\\n     151      105      110 1\\n     152      106      107 1\\n     153        2        3 1\\n     154       93       94 1\\n     155       24       28 1\\n     156       37       49 1\\n     157       61       66 1\\n     158        3        5 1\\n     159       41       51 1\\n     160       83       87 1\\n     161      108      135 1\\n     162        1       10 1\\n     163       58       63 1\\n     164      179      180 1\\n     165      116      117 1\\n     166      181      182 1\\n     167      104      115 1\\n     168       20       12 1\\n     169       92       93 1\\n     170       29       30 1\\n     171       21       20 1\\n     172       67       71 1\\n     173       86       89 1\\n     174      112      160 1\\n     175       99      105 1\\n     176      107      108 1\\n     177      170      171 1\\n     178       94       99 1\\n     179      171      179 1\\n     180       86       91 1\\n     181       14       13 1\\n     182       58       61 1\\n     183      116      119 1\\n     184      120      123 1\\n     185      117      120 1\\n     186       54       57 1\\n     187       80       83 1\\n     188       64       68 1\\n     189       36       50 1\\n     190      117      122 1\\n     191      135      138 1\\n     192      109      156 1\\n     193      102      103 1\\n     194       11       12 1\\n     195      111      159 1\\n     196       26       27 1\\n     197      180      181 1\\n     198       54       55 1\\n     199      120      125 1\\n     200      145      150 1\\n@<TRIPOS>SUBSTRUCTURE\\n       1 RES             1 RESIDUE    0 **** ROOT      0\\n\",\"mol2\");\n\tviewer_1622761619379804.setStyle({\"stick\": {\"radius\": 0.2, \"color\": \"grey\"}, \"sphere\": {\"scale\": 0.3, \"colorscheme\": {}}});\n\tviewer_1622761619379804.zoomTo();\nviewer_1622761619379804.render();\n});\n</script>",
      "text/html": [
       "<div id=\"3dmolviewer_1622761619379804\"  style=\"position: relative; width: 640px; height: 480px\">\n",
       "        <p id=\"3dmolwarning_1622761619379804\" style=\"background-color:#ffcccc;color:black\">You appear to be running in JupyterLab (or JavaScript failed to load for some other reason).  You need to install the 3dmol extension: <br>\n",
       "        <tt>jupyter labextension install jupyterlab_3dmol</tt></p>\n",
       "        </div>\n",
       "<script>\n",
       "\n",
       "var loadScriptAsync = function(uri){\n",
       "  return new Promise((resolve, reject) => {\n",
       "    var tag = document.createElement('script');\n",
       "    tag.src = uri;\n",
       "    tag.async = true;\n",
       "    tag.onload = () => {\n",
       "      resolve();\n",
       "    };\n",
       "  var firstScriptTag = document.getElementsByTagName('script')[0];\n",
       "  firstScriptTag.parentNode.insertBefore(tag, firstScriptTag);\n",
       "});\n",
       "};\n",
       "\n",
       "if(typeof $3Dmolpromise === 'undefined') {\n",
       "$3Dmolpromise = null;\n",
       "  $3Dmolpromise = loadScriptAsync('https://3dmol.csb.pitt.edu/build/3Dmol.js');\n",
       "}\n",
       "\n",
       "var viewer_1622761619379804 = null;\n",
       "var warn = document.getElementById(\"3dmolwarning_1622761619379804\");\n",
       "if(warn) {\n",
       "    warn.parentNode.removeChild(warn);\n",
       "}\n",
       "$3Dmolpromise.then(function() {\n",
       "viewer_1622761619379804 = $3Dmol.createViewer($(\"#3dmolviewer_1622761619379804\"),{backgroundColor:\"white\"});\n",
       "\tviewer_1622761619379804.addModel(\"@<TRIPOS>MOLECULE\\nRES\\n186 200 1 0 1\\nSMALL\\nNO_CHARGES\\n@<TRIPOS>CRYSIN\\n   66.6742    66.6742    66.6742    90.0000    90.0000    90.0000  1  1\\n@<TRIPOS>ATOM\\n       1 C            3.0580    19.7222    57.3560 C             1 RES     \\n       2 C            3.9200    20.7302    56.9000 C             1 RES     \\n       3 C            5.3070    20.4992    56.7900 C             1 RES     \\n       4 H            3.5050    21.6922    56.6590 H             1 RES     \\n       5 C            5.8000    19.2432    57.1340 C             1 RES     \\n       6 H            5.9750    21.2852    56.4680 H             1 RES     \\n       7 C            4.9220    18.2362    57.5010 C             1 RES     \\n       8 C            3.5600    18.4692    57.6510 C             1 RES     \\n       9 H            2.8870    17.7142    58.0170 H             1 RES     \\n      10 H            2.0000    19.8932    57.4840 H             1 RES     \\n      11 C            5.6170    16.9842    57.7290 C             1 RES     \\n      12 C            7.0750    17.3312    57.6700 C             1 RES     \\n      13 C            7.1810    18.7382    57.2050 C             1 RES     \\n      14 O            8.1980    19.3852    56.9900 O             1 RES     \\n      15 C            5.0240    15.7162    57.7560 C             1 RES     \\n      16 C            3.6810    15.5512    57.3260 C             1 RES     \\n      17 C            5.6000    14.4012    58.0370 C             1 RES     \\n      18 N            2.5890    15.4292    56.9740 N             1 RES     \\n      19 N            6.0530    13.3572    58.2600 N             1 RES     \\n      20 C            7.9040    16.3202    57.8410 C             1 RES     \\n      21 C            9.2180    15.7752    57.7900 C             1 RES     \\n      22 H            7.3890    15.6142    58.3420 H             1 RES     \\n      23 S           10.6460    16.6442    57.6450 S             1 RES     \\n      24 C           11.5880    15.4712    58.3950 C             1 RES     \\n      25 C           10.7860    14.3312    58.5020 C             1 RES     \\n      26 C            9.4190    14.4622    58.2320 C             1 RES     \\n      27 H            8.5740    13.7982    58.5700 H             1 RES     \\n      28 C           12.8360    15.4732    59.2400 C             1 RES     \\n      29 S           11.6070    13.1912    59.3630 S             1 RES     \\n      30 C           12.9760    14.1382    59.7320 C             1 RES     \\n      31 C           13.8800    16.5832    60.0650 C             1 RES     \\n      32 C           14.8090    15.2232    60.5070 C             1 RES     \\n      33 C           14.2840    13.8962    60.4000 C             1 RES     \\n      34 C           14.8600    17.9972    60.5300 C             1 RES     \\n      35 C           12.5780    17.5822    60.3030 C             1 RES     \\n      36 C           12.5330    18.8392    59.5730 C             1 RES     \\n      37 C           11.4750    19.7632    59.6050 C             1 RES     \\n      38 C           10.3030    19.5192    60.3210 C             1 RES     \\n      39 C           10.3560    18.3902    61.1970 C             1 RES     \\n      40 C           15.9190    18.6522    59.7650 C             1 RES     \\n      41 C           16.4620    20.0072    60.0310 C             1 RES     \\n      42 C           16.0390    20.8792    61.0760 C             1 RES     \\n      43 C           15.1260    20.2432    61.9330 C             1 RES     \\n      44 C           14.5760    18.8922    61.7060 C             1 RES     \\n      45 C           11.4700    17.4532    61.2030 C             1 RES     \\n      46 H           16.3260    18.1892    58.8830 H             1 RES     \\n      47 H            9.5110    18.1862    61.8340 H             1 RES     \\n      48 H           11.4360    16.6142    61.8840 H             1 RES     \\n      49 H           11.5600    20.6662    59.0050 H             1 RES     \\n      50 H           13.3600    19.1572    58.9490 H             1 RES     \\n      51 H           17.2060    20.4412    59.3740 H             1 RES     \\n      52 H           14.8000    20.8742    62.7600 H             1 RES     \\n      53 H           13.8320    18.6532    62.4590 H             1 RES     \\n      54 C            9.0160    20.3712    59.9230 C             1 RES     \\n      55 C            8.3970    21.5562    60.7370 C             1 RES     \\n      56 H            8.2100    19.6542    59.6640 H             1 RES     \\n      57 H            9.2820    20.8512    58.9580 H             1 RES     \\n      58 C            7.5150    22.6712    59.9980 C             1 RES     \\n      59 H            9.2760    22.1302    61.0860 H             1 RES     \\n      60 H            7.8460    21.1842    61.6250 H             1 RES     \\n      61 C            6.0190    22.4732    59.5620 C             1 RES     \\n      62 H            8.0630    23.0872    59.1190 H             1 RES     \\n      63 H            7.4760    23.4972    60.7350 H             1 RES     \\n      64 C            5.1950    23.8082    59.6280 C             1 RES     \\n      65 H            6.0140    22.1132    58.5280 H             1 RES     \\n      66 H            5.4920    21.7442    60.2090 H             1 RES     \\n      67 C            3.8040    23.7602    58.9660 C             1 RES     \\n      68 H            5.7410    24.6482    59.1470 H             1 RES     \\n      69 H            5.0480    24.0642    60.7010 H             1 RES     \\n      70 H            3.9000    23.6842    57.8620 H             1 RES     \\n      71 H            3.2500    24.7062    59.1730 H             1 RES     \\n      72 H            3.1850    22.9192    59.3410 H             1 RES     \\n      73 C           16.4660    22.4672    61.1920 C             1 RES     \\n      74 C           17.2850    23.0932    62.4090 C             1 RES     \\n      75 H           15.5540    23.1102    61.1100 H             1 RES     \\n      76 H           17.0760    22.7592    60.3020 H             1 RES     \\n      77 C           17.7450    24.6252    62.3120 C             1 RES     \\n      78 H           18.2300    22.5202    62.4320 H             1 RES     \\n      79 H           16.7680    22.9552    63.3820 H             1 RES     \\n      80 C           16.7600    25.7092    62.8470 C             1 RES     \\n      81 H           18.0330    24.8672    61.2660 H             1 RES     \\n      82 H           18.6640    24.7582    62.9300 H             1 RES     \\n      83 C           17.2420    27.1862    62.6720 C             1 RES     \\n      84 H           16.5510    25.5432    63.9280 H             1 RES     \\n      85 H           15.8110    25.6112    62.2880 H             1 RES     \\n      86 C           18.3660    27.6462    63.6150 C             1 RES     \\n      87 H           16.3830    27.8632    62.8860 H             1 RES     \\n      88 H           17.5470    27.3622    61.6190 H             1 RES     \\n      89 H           18.0340    27.5872    64.6740 H             1 RES     \\n      90 H           18.6070    28.7172    63.4100 H             1 RES     \\n      91 H           19.2930    27.0572    63.4810 H             1 RES     \\n      92 C           16.2220    15.2522    60.7570 C             1 RES     \\n      93 C           17.0720    14.0862    60.7930 C             1 RES     \\n      94 C           16.5680    12.7712    60.8030 C             1 RES     \\n      95 C           15.1050    12.6512    60.7100 C             1 RES     \\n      96 H           16.7030    16.1932    60.7900 H             1 RES     \\n      97 H           14.7980    11.5862    60.6400 H             1 RES     \\n      98 C           18.5640    14.0012    60.8090 C             1 RES     \\n      99 C           17.7620    11.6412    60.5400 C             1 RES     \\n     100 C           18.9750    12.6862    60.7600 C             1 RES     \\n     101 S           19.9260    15.0512    61.0360 S             1 RES     \\n     102 C           21.0560    13.7962    61.3110 C             1 RES     \\n     103 C           20.4110    12.5982    61.1730 C             1 RES     \\n     104 C           18.7250    10.4332    60.8380 C             1 RES     \\n     105 C           16.9250    10.8532    59.3250 C             1 RES     \\n     106 C           15.9500    11.4242    58.4140 C             1 RES     \\n     107 C           14.9500    10.6162    57.7700 C             1 RES     \\n     108 C           14.9560     9.2082    57.8980 C             1 RES     \\n     109 C           15.9830     8.6442    58.6150 C             1 RES     \\n     110 C           16.8790     9.4072    59.3100 C             1 RES     \\n     111 C           19.6580    10.1442    59.7790 C             1 RES     \\n     112 C           20.6020     9.1212    59.8560 C             1 RES     \\n     113 C           20.6720     8.2952    60.9840 C             1 RES     \\n     114 C           19.7190     8.5232    62.0230 C             1 RES     \\n     115 C           18.7520     9.5752    61.9540 C             1 RES     \\n     116 C           21.9490     7.4422    61.1860 C             1 RES     \\n     117 C           22.2820     5.9662    60.7860 C             1 RES     \\n     118 H           22.1700     7.5242    62.2690 H             1 RES     \\n     119 H           22.7280     8.0222    60.6490 H             1 RES     \\n     120 C           23.7910     5.6902    61.1670 C             1 RES     \\n     121 H           22.1480     5.8062    59.6950 H             1 RES     \\n     122 H           21.6220     5.2722    61.3460 H             1 RES     \\n     123 C           24.3740     4.2532    61.0110 C             1 RES     \\n     124 H           23.9140     5.9552    62.2400 H             1 RES     \\n     125 H           24.4290     6.3752    60.5620 H             1 RES     \\n     126 C           25.8610     4.1872    61.4850 C             1 RES     \\n     127 H           24.3230     3.9292    59.9500 H             1 RES     \\n     128 H           23.7800     3.5542    61.6350 H             1 RES     \\n     129 C           26.4880     2.7862    61.4330 C             1 RES     \\n     130 H           25.9320     4.5272    62.5410 H             1 RES     \\n     131 H           26.4890     4.8582    60.8580 H             1 RES     \\n     132 H           25.9390     2.0782    62.0880 H             1 RES     \\n     133 H           27.5400     2.8332    61.8010 H             1 RES     \\n     134 H           26.5120     2.3892    60.3970 H             1 RES     \\n     135 C           13.9350     8.1832    57.3940 C             1 RES     \\n     136 C           12.4790     8.5982    57.1280 C             1 RES     \\n     137 H           13.8320     7.4232    58.2080 H             1 RES     \\n     138 H           14.3720     7.6462    56.5250 H             1 RES     \\n     139 C           11.6420     7.3362    56.7680 C             1 RES     \\n     140 H           12.4520     9.3252    56.2940 H             1 RES     \\n     141 H           12.0490     9.0642    58.0430 H             1 RES     \\n     142 C           10.1880     7.6682    56.3980 C             1 RES     \\n     143 H           11.6410     6.6222    57.6250 H             1 RES     \\n     144 H           12.1160     6.8282    55.9000 H             1 RES     \\n     145 C            9.4040     6.4152    55.9620 C             1 RES     \\n     146 H           10.1980     8.3892    55.5540 H             1 RES     \\n     147 H            9.6780     8.1322    57.2700 H             1 RES     \\n     148 C            7.9790     6.7702    55.5300 C             1 RES     \\n     149 H            9.3540     5.6822    56.7980 H             1 RES     \\n     150 H            9.9150     5.9312    55.1000 H             1 RES     \\n     151 H            7.4180     7.2282    56.3720 H             1 RES     \\n     152 H            7.4420     5.8532    55.2050 H             1 RES     \\n     153 H            8.0000     7.4812    54.6770 H             1 RES     \\n     154 H           15.8280    12.4972    58.3140 H             1 RES     \\n     155 H           14.1500    11.0932    57.2190 H             1 RES     \\n     156 H           16.0490     7.5682    58.7310 H             1 RES     \\n     157 H           17.4880     8.7532    59.9030 H             1 RES     \\n     158 H           18.0490     9.7302    62.7610 H             1 RES     \\n     159 H           19.6800    10.7812    58.8980 H             1 RES     \\n     160 H           21.3280     9.0392    59.0560 H             1 RES     \\n     161 H           19.7540     7.9172    62.9160 H             1 RES     \\n     162 S           21.6050    11.4102    61.6360 S             1 RES     \\n     163 C           22.9300    12.4322    61.9590 C             1 RES     \\n     164 C           22.4350    13.7392    61.6960 C             1 RES     \\n     165 H           23.0600    14.6132    61.8090 H             1 RES     \\n     166 C           24.3810    12.1982    62.4170 C             1 RES     \\n     167 C           25.2570    11.1402    62.6340 C             1 RES     \\n     168 H           24.8350    13.1542    62.5510 H             1 RES     \\n     169 C           25.0750     9.6792    62.4450 C             1 RES     \\n     170 C           26.3800     8.9832    62.5720 C             1 RES     \\n     171 C           27.3440     9.9132    62.8800 C             1 RES     \\n     172 C           26.7490    11.2822    62.9140 C             1 RES     \\n     173 O           24.0170     9.1302    62.2370 O             1 RES     \\n     174 C           27.4960    12.4092    63.0950 C             1 RES     \\n     175 C           26.9900    13.7002    63.4690 C             1 RES     \\n     176 C           28.9170    12.3842    62.8380 C             1 RES     \\n     177 N           26.6240    14.7562    63.7690 N             1 RES     \\n     178 N           30.0530    12.3252    62.6230 N             1 RES     \\n     179 C           28.6530     9.4902    63.2120 C             1 RES     \\n     180 C           28.9990     8.1442    63.1290 C             1 RES     \\n     181 C           28.0440     7.2082    62.7280 C             1 RES     \\n     182 C           26.7210     7.6192    62.4650 C             1 RES     \\n     183 H           29.4190    10.1502    63.5690 H             1 RES     \\n     184 H           30.0080     7.8362    63.3860 H             1 RES     \\n     185 H           28.3360     6.1662    62.6580 H             1 RES     \\n     186 H           25.9960     6.8802    62.2030 H             1 RES     \\n@<TRIPOS>BOND\\n       1      142      145 1\\n       2       39       45 1\\n       3      142      146 1\\n       4       25       29 1\\n       5       23       24 1\\n       6       24       25 1\\n       7      167      172 1\\n       8       74       79 1\\n       9       36       37 1\\n      10      100      103 1\\n      11      162      163 1\\n      12       99      100 1\\n      13      148      153 1\\n      14      123      127 1\\n      15      163      166 1\\n      16        8        9 1\\n      17      108      109 1\\n      18      171      172 1\\n      19       95       97 1\\n      20      174      176 1\\n      21      135      137 1\\n      22       16       15 1\\n      23      139      143 1\\n      24       77       81 1\\n      25       92       96 1\\n      26       67       70 1\\n      27        3        6 1\\n      28      145      148 1\\n      29       32       92 1\\n      30      129      133 1\\n      31       55       60 1\\n      32      126      131 1\\n      33        5        7 1\\n      34      167      169 1\\n      35      110      157 1\\n      36      136      139 1\\n      37       74       77 1\\n      38       73       76 1\\n      39       83       86 1\\n      40      148      151 1\\n      41       31       35 1\\n      42      113      116 1\\n      43       18       16 1\\n      44       45       48 1\\n      45      182      186 1\\n      46      114      115 1\\n      47        2        4 1\\n      48        1        2 1\\n      49       28       30 1\\n      50      115      158 1\\n      51       61       65 1\\n      52      106      154 1\\n      53        7        8 1\\n      54       38       54 1\\n      55       43       44 1\\n      56      169      170 1\\n      57      136      141 1\\n      58       83       88 1\\n      59       99      104 1\\n      60      101      102 1\\n      61      164      165 1\\n      62       38       39 1\\n      63      109      110 1\\n      64      113      114 1\\n      65       98      100 1\\n      66       34       40 1\\n      67       42       73 1\\n      68       21       26 1\\n      69       25       26 1\\n      70       21       23 1\\n      71       39       47 1\\n      72       40       46 1\\n      73      166      168 1\\n      74       37       38 1\\n      75      163      164 1\\n      76       22       20 1\\n      77       58       62 1\\n      78      116      118 1\\n      79      117      121 1\\n      80      180      184 1\\n      81       34       44 1\\n      82       67       72 1\\n      83      114      161 1\\n      84      103      162 1\\n      85       17       15 1\\n      86       86       90 1\\n      87       32       33 1\\n      88      112      113 1\\n      89       73       74 1\\n      90      179      183 1\\n      91       54       56 1\\n      92      120      124 1\\n      93       35       45 1\\n      94       80       84 1\\n      95      126      129 1\\n      96       64       67 1\\n      97      142      147 1\\n      98       42       43 1\\n      99       33       95 1\\n     100      105      106 1\\n     101       80       85 1\\n     102      169      173 1\\n     103       44       53 1\\n     104       93       98 1\\n     105      139      142 1\\n     106       77       82 1\\n     107       64       69 1\\n     108      129      134 1\\n     109       41       42 1\\n     110      181      185 1\\n     111       55       59 1\\n     112      126      130 1\\n     113       74       78 1\\n     114       73       75 1\\n     115      148      152 1\\n     116      123      126 1\\n     117       43       52 1\\n     118       98      101 1\\n     119      175      177 1\\n     120       31       34 1\\n     121      174      175 1\\n     122      111      112 1\\n     123      135      136 1\\n     124      104      111 1\\n     125       28       31 1\\n     126       77       80 1\\n     127      139      144 1\\n     128       30       33 1\\n     129       61       64 1\\n     130      145      149 1\\n     131       19       17 1\\n     132        7       11 1\\n     133        5       13 1\\n     134      129      132 1\\n     135       15       11 1\\n     136       40       41 1\\n     137      170      182 1\\n     138      102      164 1\\n     139      166      167 1\\n     140       12       13 1\\n     141      136      140 1\\n     142      123      128 1\\n     143       94       95 1\\n     144      172      174 1\\n     145       31       32 1\\n     146       35       36 1\\n     147      107      155 1\\n     148      176      178 1\\n     149        1        8 1\\n     150       55       58 1\\n     151      105      110 1\\n     152      106      107 1\\n     153        2        3 1\\n     154       93       94 1\\n     155       24       28 1\\n     156       37       49 1\\n     157       61       66 1\\n     158        3        5 1\\n     159       41       51 1\\n     160       83       87 1\\n     161      108      135 1\\n     162        1       10 1\\n     163       58       63 1\\n     164      179      180 1\\n     165      116      117 1\\n     166      181      182 1\\n     167      104      115 1\\n     168       20       12 1\\n     169       92       93 1\\n     170       29       30 1\\n     171       21       20 1\\n     172       67       71 1\\n     173       86       89 1\\n     174      112      160 1\\n     175       99      105 1\\n     176      107      108 1\\n     177      170      171 1\\n     178       94       99 1\\n     179      171      179 1\\n     180       86       91 1\\n     181       14       13 1\\n     182       58       61 1\\n     183      116      119 1\\n     184      120      123 1\\n     185      117      120 1\\n     186       54       57 1\\n     187       80       83 1\\n     188       64       68 1\\n     189       36       50 1\\n     190      117      122 1\\n     191      135      138 1\\n     192      109      156 1\\n     193      102      103 1\\n     194       11       12 1\\n     195      111      159 1\\n     196       26       27 1\\n     197      180      181 1\\n     198       54       55 1\\n     199      120      125 1\\n     200      145      150 1\\n@<TRIPOS>SUBSTRUCTURE\\n       1 RES             1 RESIDUE    0 **** ROOT      0\\n\",\"mol2\");\n",
       "\tviewer_1622761619379804.setStyle({\"stick\": {\"radius\": 0.2, \"color\": \"grey\"}, \"sphere\": {\"scale\": 0.3, \"colorscheme\": {}}});\n",
       "\tviewer_1622761619379804.zoomTo();\n",
       "viewer_1622761619379804.render();\n",
       "});\n",
       "</script>"
      ]
     },
     "metadata": {},
     "output_type": "display_data"
    }
   ],
   "source": [
    "with gsd.hoomd.open(name='/Users/jimmy/cmelab/data/ITIC/4700e7da2f41cc6c77e08977f1f8d94c/trajectory.gsd', mode='rb') as f:\n",
    "    snap = f[0]\n",
    "    \n",
    "box = snap.configuration.box[:3]\n",
    "ref_distance = 3.563594872561358\n",
    "unwrapped_positions = snap.particles.position + snap.particles.image * box\n",
    "\n",
    "unwrap_snap = deepcopy(snap)\n",
    "unwrap_snap.particles.position = unwrapped_positions\n",
    "unwrap_snap.particles.types = [amber_dict[i].symbol for i in snap.particles.types]\n",
    "comp = from_snapshot(unwrap_snap, scale=0.1*ref_distance)\n",
    "comp.visualize().show()"
   ]
  },
  {
   "cell_type": "markdown",
   "id": "da621c92",
   "metadata": {},
   "source": [
    "Next let's use SMARTS matching to detect our chromophores. This SMARTS string is for (a generalized) p3ht. The `conversion_dict` is a dictionary which converts atom type to element.\n",
    "\n",
    "Note: The positions/orientations in the gsd file are not optimal, so openbabel has a tough time recognizing them as aromatic -- this is why I am defining the SMARTS by element (`[#6]`) instead of aromatic carbon (`c`) and even so, one chromophore is not detected correctly. If we were running a simulation workflow from scratch, I would recommend using the first frame (before any distortion) for smarts matching and then mapping those indices to the final structure."
   ]
  },
  {
   "cell_type": "code",
   "execution_count": 3,
   "id": "0625b6f2",
   "metadata": {},
   "outputs": [],
   "source": [
    "#smarts_str = \"c1ccccc1\"\n",
    "#aaids=[]\n",
    "#aaids_pent = chromophores.get_chromo_ids_smiles(snap, \"c1sc2ccsc2c1\", amber_dict)\n",
    "comp = from_snapshot(unwrap_snap, scale=0.1*ref_distance)\n",
    "\n",
    "#aaids_benzene = chromophores.get_chromo_ids_smiles(snap, smarts_str, amber_dict)\n",
    "#aaids_thiothene = chromophores.get_chromo_ids_smiles(snap, \"c1sc(C)cc1\", amber_dict)\n",
    "#aaids.extend(aaids_benzene)\n",
    "#aaids.extend(aaids_thiothene)\n",
    "#aaids.extend(aaids_pent)\n"
   ]
  },
  {
   "cell_type": "markdown",
   "id": "f2cdcf6b",
   "metadata": {},
   "source": [
    "For two 15-mers with each monomer being a chromophore, we expect 30 chromophores. Basically, the smarts matching misses one chromophore. So I have to add it manually. \n",
    "\n",
    "The visualization below shows the detected chromophores in pink and the missed one in blue:"
   ]
  },
  {
   "cell_type": "code",
   "execution_count": 11,
   "id": "cd45db24",
   "metadata": {
    "tags": []
   },
   "outputs": [
    {
     "ename": "NameError",
     "evalue": "name 'aaids' is not defined",
     "output_type": "error",
     "traceback": [
      "\u001b[0;31m---------------------------------------------------------------------------\u001b[0m",
      "\u001b[0;31mNameError\u001b[0m                                 Traceback (most recent call last)",
      "\u001b[0;32m<ipython-input-11-6a3487344b67>\u001b[0m in \u001b[0;36m<module>\u001b[0;34m\u001b[0m\n\u001b[1;32m      2\u001b[0m \u001b[0;31m#missed_inds = []\u001b[0m\u001b[0;34m\u001b[0m\u001b[0;34m\u001b[0m\u001b[0;34m\u001b[0m\u001b[0m\n\u001b[1;32m      3\u001b[0m \u001b[0;32mfor\u001b[0m \u001b[0mi\u001b[0m\u001b[0;34m,\u001b[0m\u001b[0mp\u001b[0m \u001b[0;32min\u001b[0m \u001b[0menumerate\u001b[0m\u001b[0;34m(\u001b[0m\u001b[0mcomp\u001b[0m\u001b[0;34m.\u001b[0m\u001b[0mparticles\u001b[0m\u001b[0;34m(\u001b[0m\u001b[0;34m)\u001b[0m\u001b[0;34m)\u001b[0m\u001b[0;34m:\u001b[0m\u001b[0;34m\u001b[0m\u001b[0;34m\u001b[0m\u001b[0m\n\u001b[0;32m----> 4\u001b[0;31m     \u001b[0;32mif\u001b[0m \u001b[0mi\u001b[0m \u001b[0;32min\u001b[0m \u001b[0mnp\u001b[0m\u001b[0;34m.\u001b[0m\u001b[0mhstack\u001b[0m\u001b[0;34m(\u001b[0m\u001b[0maaids\u001b[0m\u001b[0;34m)\u001b[0m\u001b[0;34m:\u001b[0m\u001b[0;34m\u001b[0m\u001b[0;34m\u001b[0m\u001b[0m\n\u001b[0m\u001b[1;32m      5\u001b[0m         \u001b[0mp\u001b[0m\u001b[0;34m.\u001b[0m\u001b[0mname\u001b[0m \u001b[0;34m=\u001b[0m \u001b[0;34m\"Kr\"\u001b[0m\u001b[0;34m\u001b[0m\u001b[0;34m\u001b[0m\u001b[0m\n\u001b[1;32m      6\u001b[0m     \u001b[0;32melif\u001b[0m \u001b[0mi\u001b[0m \u001b[0;32min\u001b[0m \u001b[0mmissed_inds\u001b[0m\u001b[0;34m:\u001b[0m\u001b[0;34m\u001b[0m\u001b[0;34m\u001b[0m\u001b[0m\n",
      "\u001b[0;31mNameError\u001b[0m: name 'aaids' is not defined"
     ]
    }
   ],
   "source": [
    "missed_inds = np.array([10, 11, 12, 19, 26,32,22,21, 30, 28, 20, 97, 98, 99, 100, 166, 168, 169, 171])\n",
    "#missed_inds = []\n",
    "for i,p in enumerate(comp.particles()):\n",
    "    if i in np.hstack(aaids):\n",
    "        p.name = \"Kr\"\n",
    "    elif i in missed_inds:\n",
    "        p.name = \"Kr\"\n",
    "comp.visualize().show()\n",
    "\n",
    "aaids.append(missed_inds)"
   ]
  },
  {
   "cell_type": "code",
   "execution_count": 16,
   "id": "56dbc93d",
   "metadata": {},
   "outputs": [
    {
     "data": {
      "application/3dmoljs_load.v0": "<div id=\"3dmolviewer_162276328495718\"  style=\"position: relative; width: 640px; height: 480px\">\n        <p id=\"3dmolwarning_162276328495718\" style=\"background-color:#ffcccc;color:black\">You appear to be running in JupyterLab (or JavaScript failed to load for some other reason).  You need to install the 3dmol extension: <br>\n        <tt>jupyter labextension install jupyterlab_3dmol</tt></p>\n        </div>\n<script>\n\nvar loadScriptAsync = function(uri){\n  return new Promise((resolve, reject) => {\n    var tag = document.createElement('script');\n    tag.src = uri;\n    tag.async = true;\n    tag.onload = () => {\n      resolve();\n    };\n  var firstScriptTag = document.getElementsByTagName('script')[0];\n  firstScriptTag.parentNode.insertBefore(tag, firstScriptTag);\n});\n};\n\nif(typeof $3Dmolpromise === 'undefined') {\n$3Dmolpromise = null;\n  $3Dmolpromise = loadScriptAsync('https://3dmol.csb.pitt.edu/build/3Dmol.js');\n}\n\nvar viewer_162276328495718 = null;\nvar warn = document.getElementById(\"3dmolwarning_162276328495718\");\nif(warn) {\n    warn.parentNode.removeChild(warn);\n}\n$3Dmolpromise.then(function() {\nviewer_162276328495718 = $3Dmol.createViewer($(\"#3dmolviewer_162276328495718\"),{backgroundColor:\"white\"});\n\tviewer_162276328495718.addModel(\"@<TRIPOS>MOLECULE\\nRES\\n186 200 1 0 1\\nSMALL\\nNO_CHARGES\\n@<TRIPOS>CRYSIN\\n   66.6742    66.6742    66.6742    90.0000    90.0000    90.0000  1  1\\n@<TRIPOS>ATOM\\n       1 Kr           3.0580    19.7222    57.3560 Kr            1 RES     \\n       2 Kr           3.9200    20.7302    56.9000 Kr            1 RES     \\n       3 Kr           5.3070    20.4992    56.7900 Kr            1 RES     \\n       4 H            3.5050    21.6922    56.6590 H             1 RES     \\n       5 Kr           5.8000    19.2432    57.1340 Kr            1 RES     \\n       6 H            5.9750    21.2852    56.4680 H             1 RES     \\n       7 Kr           4.9220    18.2362    57.5010 Kr            1 RES     \\n       8 Kr           3.5600    18.4692    57.6510 Kr            1 RES     \\n       9 H            2.8870    17.7142    58.0170 H             1 RES     \\n      10 H            2.0000    19.8932    57.4840 H             1 RES     \\n      11 Kr           5.6170    16.9842    57.7290 Kr            1 RES     \\n      12 Kr           7.0750    17.3312    57.6700 Kr            1 RES     \\n      13 Kr           7.1810    18.7382    57.2050 Kr            1 RES     \\n      14 Kr           8.1980    19.3852    56.9900 Kr            1 RES     \\n      15 Kr           5.0240    15.7162    57.7560 Kr            1 RES     \\n      16 Kr           3.6810    15.5512    57.3260 Kr            1 RES     \\n      17 Kr           5.6000    14.4012    58.0370 Kr            1 RES     \\n      18 Kr           2.5890    15.4292    56.9740 Kr            1 RES     \\n      19 Kr           6.0530    13.3572    58.2600 Kr            1 RES     \\n      20 Kr           7.9040    16.3202    57.8410 Kr            1 RES     \\n      21 Kr           9.2180    15.7752    57.7900 Kr            1 RES     \\n      22 H            7.3890    15.6142    58.3420 H             1 RES     \\n      23 Kr          10.6460    16.6442    57.6450 Kr            1 RES     \\n      24 Kr          11.5880    15.4712    58.3950 Kr            1 RES     \\n      25 Kr          10.7860    14.3312    58.5020 Kr            1 RES     \\n      26 Kr           9.4190    14.4622    58.2320 Kr            1 RES     \\n      27 H            8.5740    13.7982    58.5700 H             1 RES     \\n      28 Kr          12.8360    15.4732    59.2400 Kr            1 RES     \\n      29 Kr          11.6070    13.1912    59.3630 Kr            1 RES     \\n      30 Kr          12.9760    14.1382    59.7320 Kr            1 RES     \\n      31 Kr          13.8800    16.5832    60.0650 Kr            1 RES     \\n      32 Kr          14.8090    15.2232    60.5070 Kr            1 RES     \\n      33 Kr          14.2840    13.8962    60.4000 Kr            1 RES     \\n      34 C           14.8600    17.9972    60.5300 C             1 RES     \\n      35 C           12.5780    17.5822    60.3030 C             1 RES     \\n      36 C           12.5330    18.8392    59.5730 C             1 RES     \\n      37 C           11.4750    19.7632    59.6050 C             1 RES     \\n      38 C           10.3030    19.5192    60.3210 C             1 RES     \\n      39 C           10.3560    18.3902    61.1970 C             1 RES     \\n      40 C           15.9190    18.6522    59.7650 C             1 RES     \\n      41 C           16.4620    20.0072    60.0310 C             1 RES     \\n      42 C           16.0390    20.8792    61.0760 C             1 RES     \\n      43 C           15.1260    20.2432    61.9330 C             1 RES     \\n      44 C           14.5760    18.8922    61.7060 C             1 RES     \\n      45 C           11.4700    17.4532    61.2030 C             1 RES     \\n      46 H           16.3260    18.1892    58.8830 H             1 RES     \\n      47 H            9.5110    18.1862    61.8340 H             1 RES     \\n      48 H           11.4360    16.6142    61.8840 H             1 RES     \\n      49 H           11.5600    20.6662    59.0050 H             1 RES     \\n      50 H           13.3600    19.1572    58.9490 H             1 RES     \\n      51 H           17.2060    20.4412    59.3740 H             1 RES     \\n      52 H           14.8000    20.8742    62.7600 H             1 RES     \\n      53 H           13.8320    18.6532    62.4590 H             1 RES     \\n      54 C            9.0160    20.3712    59.9230 C             1 RES     \\n      55 C            8.3970    21.5562    60.7370 C             1 RES     \\n      56 H            8.2100    19.6542    59.6640 H             1 RES     \\n      57 H            9.2820    20.8512    58.9580 H             1 RES     \\n      58 C            7.5150    22.6712    59.9980 C             1 RES     \\n      59 H            9.2760    22.1302    61.0860 H             1 RES     \\n      60 H            7.8460    21.1842    61.6250 H             1 RES     \\n      61 C            6.0190    22.4732    59.5620 C             1 RES     \\n      62 H            8.0630    23.0872    59.1190 H             1 RES     \\n      63 H            7.4760    23.4972    60.7350 H             1 RES     \\n      64 C            5.1950    23.8082    59.6280 C             1 RES     \\n      65 H            6.0140    22.1132    58.5280 H             1 RES     \\n      66 H            5.4920    21.7442    60.2090 H             1 RES     \\n      67 C            3.8040    23.7602    58.9660 C             1 RES     \\n      68 H            5.7410    24.6482    59.1470 H             1 RES     \\n      69 H            5.0480    24.0642    60.7010 H             1 RES     \\n      70 H            3.9000    23.6842    57.8620 H             1 RES     \\n      71 H            3.2500    24.7062    59.1730 H             1 RES     \\n      72 H            3.1850    22.9192    59.3410 H             1 RES     \\n      73 C           16.4660    22.4672    61.1920 C             1 RES     \\n      74 C           17.2850    23.0932    62.4090 C             1 RES     \\n      75 H           15.5540    23.1102    61.1100 H             1 RES     \\n      76 H           17.0760    22.7592    60.3020 H             1 RES     \\n      77 C           17.7450    24.6252    62.3120 C             1 RES     \\n      78 H           18.2300    22.5202    62.4320 H             1 RES     \\n      79 H           16.7680    22.9552    63.3820 H             1 RES     \\n      80 C           16.7600    25.7092    62.8470 C             1 RES     \\n      81 H           18.0330    24.8672    61.2660 H             1 RES     \\n      82 H           18.6640    24.7582    62.9300 H             1 RES     \\n      83 C           17.2420    27.1862    62.6720 C             1 RES     \\n      84 H           16.5510    25.5432    63.9280 H             1 RES     \\n      85 H           15.8110    25.6112    62.2880 H             1 RES     \\n      86 C           18.3660    27.6462    63.6150 C             1 RES     \\n      87 H           16.3830    27.8632    62.8860 H             1 RES     \\n      88 H           17.5470    27.3622    61.6190 H             1 RES     \\n      89 H           18.0340    27.5872    64.6740 H             1 RES     \\n      90 H           18.6070    28.7172    63.4100 H             1 RES     \\n      91 H           19.2930    27.0572    63.4810 H             1 RES     \\n      92 Kr          16.2220    15.2522    60.7570 Kr            1 RES     \\n      93 Kr          17.0720    14.0862    60.7930 Kr            1 RES     \\n      94 Kr          16.5680    12.7712    60.8030 Kr            1 RES     \\n      95 Kr          15.1050    12.6512    60.7100 Kr            1 RES     \\n      96 H           16.7030    16.1932    60.7900 H             1 RES     \\n      97 H           14.7980    11.5862    60.6400 H             1 RES     \\n      98 Kr          18.5640    14.0012    60.8090 Kr            1 RES     \\n      99 Kr          17.7620    11.6412    60.5400 Kr            1 RES     \\n     100 Kr          18.9750    12.6862    60.7600 Kr            1 RES     \\n     101 Kr          19.9260    15.0512    61.0360 Kr            1 RES     \\n     102 Kr          21.0560    13.7962    61.3110 Kr            1 RES     \\n     103 Kr          20.4110    12.5982    61.1730 Kr            1 RES     \\n     104 C           18.7250    10.4332    60.8380 C             1 RES     \\n     105 C           16.9250    10.8532    59.3250 C             1 RES     \\n     106 C           15.9500    11.4242    58.4140 C             1 RES     \\n     107 C           14.9500    10.6162    57.7700 C             1 RES     \\n     108 C           14.9560     9.2082    57.8980 C             1 RES     \\n     109 C           15.9830     8.6442    58.6150 C             1 RES     \\n     110 C           16.8790     9.4072    59.3100 C             1 RES     \\n     111 C           19.6580    10.1442    59.7790 C             1 RES     \\n     112 C           20.6020     9.1212    59.8560 C             1 RES     \\n     113 C           20.6720     8.2952    60.9840 C             1 RES     \\n     114 C           19.7190     8.5232    62.0230 C             1 RES     \\n     115 C           18.7520     9.5752    61.9540 C             1 RES     \\n     116 C           21.9490     7.4422    61.1860 C             1 RES     \\n     117 C           22.2820     5.9662    60.7860 C             1 RES     \\n     118 H           22.1700     7.5242    62.2690 H             1 RES     \\n     119 H           22.7280     8.0222    60.6490 H             1 RES     \\n     120 C           23.7910     5.6902    61.1670 C             1 RES     \\n     121 H           22.1480     5.8062    59.6950 H             1 RES     \\n     122 H           21.6220     5.2722    61.3460 H             1 RES     \\n     123 C           24.3740     4.2532    61.0110 C             1 RES     \\n     124 H           23.9140     5.9552    62.2400 H             1 RES     \\n     125 H           24.4290     6.3752    60.5620 H             1 RES     \\n     126 C           25.8610     4.1872    61.4850 C             1 RES     \\n     127 H           24.3230     3.9292    59.9500 H             1 RES     \\n     128 H           23.7800     3.5542    61.6350 H             1 RES     \\n     129 C           26.4880     2.7862    61.4330 C             1 RES     \\n     130 H           25.9320     4.5272    62.5410 H             1 RES     \\n     131 H           26.4890     4.8582    60.8580 H             1 RES     \\n     132 H           25.9390     2.0782    62.0880 H             1 RES     \\n     133 H           27.5400     2.8332    61.8010 H             1 RES     \\n     134 H           26.5120     2.3892    60.3970 H             1 RES     \\n     135 C           13.9350     8.1832    57.3940 C             1 RES     \\n     136 C           12.4790     8.5982    57.1280 C             1 RES     \\n     137 H           13.8320     7.4232    58.2080 H             1 RES     \\n     138 H           14.3720     7.6462    56.5250 H             1 RES     \\n     139 C           11.6420     7.3362    56.7680 C             1 RES     \\n     140 H           12.4520     9.3252    56.2940 H             1 RES     \\n     141 H           12.0490     9.0642    58.0430 H             1 RES     \\n     142 C           10.1880     7.6682    56.3980 C             1 RES     \\n     143 H           11.6410     6.6222    57.6250 H             1 RES     \\n     144 H           12.1160     6.8282    55.9000 H             1 RES     \\n     145 C            9.4040     6.4152    55.9620 C             1 RES     \\n     146 H           10.1980     8.3892    55.5540 H             1 RES     \\n     147 H            9.6780     8.1322    57.2700 H             1 RES     \\n     148 C            7.9790     6.7702    55.5300 C             1 RES     \\n     149 H            9.3540     5.6822    56.7980 H             1 RES     \\n     150 H            9.9150     5.9312    55.1000 H             1 RES     \\n     151 H            7.4180     7.2282    56.3720 H             1 RES     \\n     152 H            7.4420     5.8532    55.2050 H             1 RES     \\n     153 H            8.0000     7.4812    54.6770 H             1 RES     \\n     154 H           15.8280    12.4972    58.3140 H             1 RES     \\n     155 H           14.1500    11.0932    57.2190 H             1 RES     \\n     156 H           16.0490     7.5682    58.7310 H             1 RES     \\n     157 H           17.4880     8.7532    59.9030 H             1 RES     \\n     158 H           18.0490     9.7302    62.7610 H             1 RES     \\n     159 H           19.6800    10.7812    58.8980 H             1 RES     \\n     160 H           21.3280     9.0392    59.0560 H             1 RES     \\n     161 H           19.7540     7.9172    62.9160 H             1 RES     \\n     162 Kr          21.6050    11.4102    61.6360 Kr            1 RES     \\n     163 Kr          22.9300    12.4322    61.9590 Kr            1 RES     \\n     164 Kr          22.4350    13.7392    61.6960 Kr            1 RES     \\n     165 H           23.0600    14.6132    61.8090 H             1 RES     \\n     166 Kr          24.3810    12.1982    62.4170 Kr            1 RES     \\n     167 Kr          25.2570    11.1402    62.6340 Kr            1 RES     \\n     168 H           24.8350    13.1542    62.5510 H             1 RES     \\n     169 Kr          25.0750     9.6792    62.4450 Kr            1 RES     \\n     170 Kr          26.3800     8.9832    62.5720 Kr            1 RES     \\n     171 Kr          27.3440     9.9132    62.8800 Kr            1 RES     \\n     172 Kr          26.7490    11.2822    62.9140 Kr            1 RES     \\n     173 Kr          24.0170     9.1302    62.2370 Kr            1 RES     \\n     174 Kr          27.4960    12.4092    63.0950 Kr            1 RES     \\n     175 Kr          26.9900    13.7002    63.4690 Kr            1 RES     \\n     176 Kr          28.9170    12.3842    62.8380 Kr            1 RES     \\n     177 Kr          26.6240    14.7562    63.7690 Kr            1 RES     \\n     178 Kr          30.0530    12.3252    62.6230 Kr            1 RES     \\n     179 Kr          28.6530     9.4902    63.2120 Kr            1 RES     \\n     180 Kr          28.9990     8.1442    63.1290 Kr            1 RES     \\n     181 Kr          28.0440     7.2082    62.7280 Kr            1 RES     \\n     182 Kr          26.7210     7.6192    62.4650 Kr            1 RES     \\n     183 H           29.4190    10.1502    63.5690 H             1 RES     \\n     184 H           30.0080     7.8362    63.3860 H             1 RES     \\n     185 H           28.3360     6.1662    62.6580 H             1 RES     \\n     186 H           25.9960     6.8802    62.2030 H             1 RES     \\n@<TRIPOS>BOND\\n       1       24       28 1\\n       2       33       30 1\\n       3       37       49 1\\n       4        9        8 1\\n       5      107      108 1\\n       6        2        1 1\\n       7        4        2 1\\n       8      112      160 1\\n       9       74       79 1\\n      10       34       44 1\\n      11      112      113 1\\n      12      135      137 1\\n      13      117      121 1\\n      14       34       31 1\\n      15      139      142 1\\n      16       43       42 1\\n      17       45       48 1\\n      18       26       21 1\\n      19      104      111 1\\n      20       86       90 1\\n      21       45       35 1\\n      22       12       13 1\\n      23      142      147 1\\n      24      123      126 1\\n      25       28       30 1\\n      26      111      159 1\\n      27      101       98 1\\n      28       74       77 1\\n      29       73       76 1\\n      30      136      139 1\\n      31      126      131 1\\n      32       80       84 1\\n      33      175      177 1\\n      34       95       97 1\\n      35      106      154 1\\n      36      171      172 1\\n      37       31       28 1\\n      38      139      144 1\\n      39       42       41 1\\n      40      106      107 1\\n      41      148      152 1\\n      42      102      103 1\\n      43        2        3 1\\n      44      170      182 1\\n      45        7        8 1\\n      46      109      110 1\\n      47      123      128 1\\n      48       99       94 1\\n      49      170      171 1\\n      50      179      183 1\\n      51      166      167 1\\n      52      136      141 1\\n      53      109      156 1\\n      54       29       30 1\\n      55       13        5 1\\n      56       61       65 1\\n      57       56       54 1\\n      58       20       22 1\\n      59       70       67 1\\n      60      114      161 1\\n      61      108      109 1\\n      62       83       87 1\\n      63       38       39 1\\n      64      145      149 1\\n      65       43       44 1\\n      66       99      105 1\\n      67       92       93 1\\n      68      116      118 1\\n      69       24       25 1\\n      70       55       54 1\\n      71       26       27 1\\n      72      126      130 1\\n      73      167      169 1\\n      74      120      123 1\\n      75       20       21 1\\n      76        3        5 1\\n      77       73       74 1\\n      78      169      170 1\\n      79      129      132 1\\n      80       77       81 1\\n      81      174      176 1\\n      82        3        6 1\\n      83       26       25 1\\n      84       59       55 1\\n      85      105      106 1\\n      86       50       36 1\\n      87       23       21 1\\n      88       13       14 1\\n      89      120      125 1\\n      90      107      155 1\\n      91       95       33 1\\n      92      117      122 1\\n      93      139      143 1\\n      94       99      100 1\\n      95      104      115 1\\n      96       40       41 1\\n      97       92       96 1\\n      98      116      119 1\\n      99      100      103 1\\n     100      181      182 1\\n     101       37       36 1\\n     102       69       64 1\\n     103       45       39 1\\n     104      142      146 1\\n     105      176      178 1\\n     106       72       67 1\\n     107       83       86 1\\n     108      180      184 1\\n     109       73       75 1\\n     110       74       78 1\\n     111       33       32 1\\n     112      167      172 1\\n     113      135      136 1\\n     114       68       64 1\\n     115      115      158 1\\n     116      163      166 1\\n     117      117      120 1\\n     118      148      151 1\\n     119      182      186 1\\n     120      181      185 1\\n     121       86       89 1\\n     122       11        7 1\\n     123      111      112 1\\n     124       16       18 1\\n     125       36       35 1\\n     126      179      180 1\\n     127       64       61 1\\n     128      110      157 1\\n     129       58       63 1\\n     130      136      140 1\\n     131       17       15 1\\n     132       15       16 1\\n     133      169      173 1\\n     134       92       32 1\\n     135      166      168 1\\n     136       80       83 1\\n     137      142      145 1\\n     138       58       61 1\\n     139       38       54 1\\n     140      163      164 1\\n     141      129      134 1\\n     142       99      104 1\\n     143       12       20 1\\n     144      101      102 1\\n     145       58       55 1\\n     146      148      153 1\\n     147       55       60 1\\n     148      113      116 1\\n     149      123      127 1\\n     150      102      164 1\\n     151      100       98 1\\n     152       58       62 1\\n     153       11       12 1\\n     154       47       39 1\\n     155       80       85 1\\n     156      145      150 1\\n     157       93       94 1\\n     158       46       40 1\\n     159      116      117 1\\n     160      172      174 1\\n     161       52       43 1\\n     162       24       23 1\\n     163       64       67 1\\n     164       51       41 1\\n     165      163      162 1\\n     166      126      129 1\\n     167       73       42 1\\n     168      180      181 1\\n     169      164      165 1\\n     170       83       88 1\\n     171       10        1 1\\n     172        1        8 1\\n     173      129      133 1\\n     174       77       80 1\\n     175       31       32 1\\n     176      145      148 1\\n     177       11       15 1\\n     178      105      110 1\\n     179       29       25 1\\n     180       86       91 1\\n     181       44       53 1\\n     182      108      135 1\\n     183       61       66 1\\n     184       71       67 1\\n     185      114      115 1\\n     186        5        7 1\\n     187       57       54 1\\n     188      103      162 1\\n     189       34       40 1\\n     190      120      124 1\\n     191       38       37 1\\n     192      135      138 1\\n     193      113      114 1\\n     194       17       19 1\\n     195       77       82 1\\n     196      174      175 1\\n     197       94       95 1\\n     198       93       98 1\\n     199       35       31 1\\n     200      171      179 1\\n@<TRIPOS>SUBSTRUCTURE\\n       1 RES             1 RESIDUE    0 **** ROOT      0\\n\",\"mol2\");\n\tviewer_162276328495718.setStyle({\"stick\": {\"radius\": 0.2, \"color\": \"grey\"}, \"sphere\": {\"scale\": 0.3, \"colorscheme\": {}}});\n\tviewer_162276328495718.zoomTo();\nviewer_162276328495718.render();\n});\n</script>",
      "text/html": [
       "<div id=\"3dmolviewer_162276328495718\"  style=\"position: relative; width: 640px; height: 480px\">\n",
       "        <p id=\"3dmolwarning_162276328495718\" style=\"background-color:#ffcccc;color:black\">You appear to be running in JupyterLab (or JavaScript failed to load for some other reason).  You need to install the 3dmol extension: <br>\n",
       "        <tt>jupyter labextension install jupyterlab_3dmol</tt></p>\n",
       "        </div>\n",
       "<script>\n",
       "\n",
       "var loadScriptAsync = function(uri){\n",
       "  return new Promise((resolve, reject) => {\n",
       "    var tag = document.createElement('script');\n",
       "    tag.src = uri;\n",
       "    tag.async = true;\n",
       "    tag.onload = () => {\n",
       "      resolve();\n",
       "    };\n",
       "  var firstScriptTag = document.getElementsByTagName('script')[0];\n",
       "  firstScriptTag.parentNode.insertBefore(tag, firstScriptTag);\n",
       "});\n",
       "};\n",
       "\n",
       "if(typeof $3Dmolpromise === 'undefined') {\n",
       "$3Dmolpromise = null;\n",
       "  $3Dmolpromise = loadScriptAsync('https://3dmol.csb.pitt.edu/build/3Dmol.js');\n",
       "}\n",
       "\n",
       "var viewer_162276328495718 = null;\n",
       "var warn = document.getElementById(\"3dmolwarning_162276328495718\");\n",
       "if(warn) {\n",
       "    warn.parentNode.removeChild(warn);\n",
       "}\n",
       "$3Dmolpromise.then(function() {\n",
       "viewer_162276328495718 = $3Dmol.createViewer($(\"#3dmolviewer_162276328495718\"),{backgroundColor:\"white\"});\n",
       "\tviewer_162276328495718.addModel(\"@<TRIPOS>MOLECULE\\nRES\\n186 200 1 0 1\\nSMALL\\nNO_CHARGES\\n@<TRIPOS>CRYSIN\\n   66.6742    66.6742    66.6742    90.0000    90.0000    90.0000  1  1\\n@<TRIPOS>ATOM\\n       1 Kr           3.0580    19.7222    57.3560 Kr            1 RES     \\n       2 Kr           3.9200    20.7302    56.9000 Kr            1 RES     \\n       3 Kr           5.3070    20.4992    56.7900 Kr            1 RES     \\n       4 H            3.5050    21.6922    56.6590 H             1 RES     \\n       5 Kr           5.8000    19.2432    57.1340 Kr            1 RES     \\n       6 H            5.9750    21.2852    56.4680 H             1 RES     \\n       7 Kr           4.9220    18.2362    57.5010 Kr            1 RES     \\n       8 Kr           3.5600    18.4692    57.6510 Kr            1 RES     \\n       9 H            2.8870    17.7142    58.0170 H             1 RES     \\n      10 H            2.0000    19.8932    57.4840 H             1 RES     \\n      11 Kr           5.6170    16.9842    57.7290 Kr            1 RES     \\n      12 Kr           7.0750    17.3312    57.6700 Kr            1 RES     \\n      13 Kr           7.1810    18.7382    57.2050 Kr            1 RES     \\n      14 Kr           8.1980    19.3852    56.9900 Kr            1 RES     \\n      15 Kr           5.0240    15.7162    57.7560 Kr            1 RES     \\n      16 Kr           3.6810    15.5512    57.3260 Kr            1 RES     \\n      17 Kr           5.6000    14.4012    58.0370 Kr            1 RES     \\n      18 Kr           2.5890    15.4292    56.9740 Kr            1 RES     \\n      19 Kr           6.0530    13.3572    58.2600 Kr            1 RES     \\n      20 Kr           7.9040    16.3202    57.8410 Kr            1 RES     \\n      21 Kr           9.2180    15.7752    57.7900 Kr            1 RES     \\n      22 H            7.3890    15.6142    58.3420 H             1 RES     \\n      23 Kr          10.6460    16.6442    57.6450 Kr            1 RES     \\n      24 Kr          11.5880    15.4712    58.3950 Kr            1 RES     \\n      25 Kr          10.7860    14.3312    58.5020 Kr            1 RES     \\n      26 Kr           9.4190    14.4622    58.2320 Kr            1 RES     \\n      27 H            8.5740    13.7982    58.5700 H             1 RES     \\n      28 Kr          12.8360    15.4732    59.2400 Kr            1 RES     \\n      29 Kr          11.6070    13.1912    59.3630 Kr            1 RES     \\n      30 Kr          12.9760    14.1382    59.7320 Kr            1 RES     \\n      31 Kr          13.8800    16.5832    60.0650 Kr            1 RES     \\n      32 Kr          14.8090    15.2232    60.5070 Kr            1 RES     \\n      33 Kr          14.2840    13.8962    60.4000 Kr            1 RES     \\n      34 C           14.8600    17.9972    60.5300 C             1 RES     \\n      35 C           12.5780    17.5822    60.3030 C             1 RES     \\n      36 C           12.5330    18.8392    59.5730 C             1 RES     \\n      37 C           11.4750    19.7632    59.6050 C             1 RES     \\n      38 C           10.3030    19.5192    60.3210 C             1 RES     \\n      39 C           10.3560    18.3902    61.1970 C             1 RES     \\n      40 C           15.9190    18.6522    59.7650 C             1 RES     \\n      41 C           16.4620    20.0072    60.0310 C             1 RES     \\n      42 C           16.0390    20.8792    61.0760 C             1 RES     \\n      43 C           15.1260    20.2432    61.9330 C             1 RES     \\n      44 C           14.5760    18.8922    61.7060 C             1 RES     \\n      45 C           11.4700    17.4532    61.2030 C             1 RES     \\n      46 H           16.3260    18.1892    58.8830 H             1 RES     \\n      47 H            9.5110    18.1862    61.8340 H             1 RES     \\n      48 H           11.4360    16.6142    61.8840 H             1 RES     \\n      49 H           11.5600    20.6662    59.0050 H             1 RES     \\n      50 H           13.3600    19.1572    58.9490 H             1 RES     \\n      51 H           17.2060    20.4412    59.3740 H             1 RES     \\n      52 H           14.8000    20.8742    62.7600 H             1 RES     \\n      53 H           13.8320    18.6532    62.4590 H             1 RES     \\n      54 C            9.0160    20.3712    59.9230 C             1 RES     \\n      55 C            8.3970    21.5562    60.7370 C             1 RES     \\n      56 H            8.2100    19.6542    59.6640 H             1 RES     \\n      57 H            9.2820    20.8512    58.9580 H             1 RES     \\n      58 C            7.5150    22.6712    59.9980 C             1 RES     \\n      59 H            9.2760    22.1302    61.0860 H             1 RES     \\n      60 H            7.8460    21.1842    61.6250 H             1 RES     \\n      61 C            6.0190    22.4732    59.5620 C             1 RES     \\n      62 H            8.0630    23.0872    59.1190 H             1 RES     \\n      63 H            7.4760    23.4972    60.7350 H             1 RES     \\n      64 C            5.1950    23.8082    59.6280 C             1 RES     \\n      65 H            6.0140    22.1132    58.5280 H             1 RES     \\n      66 H            5.4920    21.7442    60.2090 H             1 RES     \\n      67 C            3.8040    23.7602    58.9660 C             1 RES     \\n      68 H            5.7410    24.6482    59.1470 H             1 RES     \\n      69 H            5.0480    24.0642    60.7010 H             1 RES     \\n      70 H            3.9000    23.6842    57.8620 H             1 RES     \\n      71 H            3.2500    24.7062    59.1730 H             1 RES     \\n      72 H            3.1850    22.9192    59.3410 H             1 RES     \\n      73 C           16.4660    22.4672    61.1920 C             1 RES     \\n      74 C           17.2850    23.0932    62.4090 C             1 RES     \\n      75 H           15.5540    23.1102    61.1100 H             1 RES     \\n      76 H           17.0760    22.7592    60.3020 H             1 RES     \\n      77 C           17.7450    24.6252    62.3120 C             1 RES     \\n      78 H           18.2300    22.5202    62.4320 H             1 RES     \\n      79 H           16.7680    22.9552    63.3820 H             1 RES     \\n      80 C           16.7600    25.7092    62.8470 C             1 RES     \\n      81 H           18.0330    24.8672    61.2660 H             1 RES     \\n      82 H           18.6640    24.7582    62.9300 H             1 RES     \\n      83 C           17.2420    27.1862    62.6720 C             1 RES     \\n      84 H           16.5510    25.5432    63.9280 H             1 RES     \\n      85 H           15.8110    25.6112    62.2880 H             1 RES     \\n      86 C           18.3660    27.6462    63.6150 C             1 RES     \\n      87 H           16.3830    27.8632    62.8860 H             1 RES     \\n      88 H           17.5470    27.3622    61.6190 H             1 RES     \\n      89 H           18.0340    27.5872    64.6740 H             1 RES     \\n      90 H           18.6070    28.7172    63.4100 H             1 RES     \\n      91 H           19.2930    27.0572    63.4810 H             1 RES     \\n      92 Kr          16.2220    15.2522    60.7570 Kr            1 RES     \\n      93 Kr          17.0720    14.0862    60.7930 Kr            1 RES     \\n      94 Kr          16.5680    12.7712    60.8030 Kr            1 RES     \\n      95 Kr          15.1050    12.6512    60.7100 Kr            1 RES     \\n      96 H           16.7030    16.1932    60.7900 H             1 RES     \\n      97 H           14.7980    11.5862    60.6400 H             1 RES     \\n      98 Kr          18.5640    14.0012    60.8090 Kr            1 RES     \\n      99 Kr          17.7620    11.6412    60.5400 Kr            1 RES     \\n     100 Kr          18.9750    12.6862    60.7600 Kr            1 RES     \\n     101 Kr          19.9260    15.0512    61.0360 Kr            1 RES     \\n     102 Kr          21.0560    13.7962    61.3110 Kr            1 RES     \\n     103 Kr          20.4110    12.5982    61.1730 Kr            1 RES     \\n     104 C           18.7250    10.4332    60.8380 C             1 RES     \\n     105 C           16.9250    10.8532    59.3250 C             1 RES     \\n     106 C           15.9500    11.4242    58.4140 C             1 RES     \\n     107 C           14.9500    10.6162    57.7700 C             1 RES     \\n     108 C           14.9560     9.2082    57.8980 C             1 RES     \\n     109 C           15.9830     8.6442    58.6150 C             1 RES     \\n     110 C           16.8790     9.4072    59.3100 C             1 RES     \\n     111 C           19.6580    10.1442    59.7790 C             1 RES     \\n     112 C           20.6020     9.1212    59.8560 C             1 RES     \\n     113 C           20.6720     8.2952    60.9840 C             1 RES     \\n     114 C           19.7190     8.5232    62.0230 C             1 RES     \\n     115 C           18.7520     9.5752    61.9540 C             1 RES     \\n     116 C           21.9490     7.4422    61.1860 C             1 RES     \\n     117 C           22.2820     5.9662    60.7860 C             1 RES     \\n     118 H           22.1700     7.5242    62.2690 H             1 RES     \\n     119 H           22.7280     8.0222    60.6490 H             1 RES     \\n     120 C           23.7910     5.6902    61.1670 C             1 RES     \\n     121 H           22.1480     5.8062    59.6950 H             1 RES     \\n     122 H           21.6220     5.2722    61.3460 H             1 RES     \\n     123 C           24.3740     4.2532    61.0110 C             1 RES     \\n     124 H           23.9140     5.9552    62.2400 H             1 RES     \\n     125 H           24.4290     6.3752    60.5620 H             1 RES     \\n     126 C           25.8610     4.1872    61.4850 C             1 RES     \\n     127 H           24.3230     3.9292    59.9500 H             1 RES     \\n     128 H           23.7800     3.5542    61.6350 H             1 RES     \\n     129 C           26.4880     2.7862    61.4330 C             1 RES     \\n     130 H           25.9320     4.5272    62.5410 H             1 RES     \\n     131 H           26.4890     4.8582    60.8580 H             1 RES     \\n     132 H           25.9390     2.0782    62.0880 H             1 RES     \\n     133 H           27.5400     2.8332    61.8010 H             1 RES     \\n     134 H           26.5120     2.3892    60.3970 H             1 RES     \\n     135 C           13.9350     8.1832    57.3940 C             1 RES     \\n     136 C           12.4790     8.5982    57.1280 C             1 RES     \\n     137 H           13.8320     7.4232    58.2080 H             1 RES     \\n     138 H           14.3720     7.6462    56.5250 H             1 RES     \\n     139 C           11.6420     7.3362    56.7680 C             1 RES     \\n     140 H           12.4520     9.3252    56.2940 H             1 RES     \\n     141 H           12.0490     9.0642    58.0430 H             1 RES     \\n     142 C           10.1880     7.6682    56.3980 C             1 RES     \\n     143 H           11.6410     6.6222    57.6250 H             1 RES     \\n     144 H           12.1160     6.8282    55.9000 H             1 RES     \\n     145 C            9.4040     6.4152    55.9620 C             1 RES     \\n     146 H           10.1980     8.3892    55.5540 H             1 RES     \\n     147 H            9.6780     8.1322    57.2700 H             1 RES     \\n     148 C            7.9790     6.7702    55.5300 C             1 RES     \\n     149 H            9.3540     5.6822    56.7980 H             1 RES     \\n     150 H            9.9150     5.9312    55.1000 H             1 RES     \\n     151 H            7.4180     7.2282    56.3720 H             1 RES     \\n     152 H            7.4420     5.8532    55.2050 H             1 RES     \\n     153 H            8.0000     7.4812    54.6770 H             1 RES     \\n     154 H           15.8280    12.4972    58.3140 H             1 RES     \\n     155 H           14.1500    11.0932    57.2190 H             1 RES     \\n     156 H           16.0490     7.5682    58.7310 H             1 RES     \\n     157 H           17.4880     8.7532    59.9030 H             1 RES     \\n     158 H           18.0490     9.7302    62.7610 H             1 RES     \\n     159 H           19.6800    10.7812    58.8980 H             1 RES     \\n     160 H           21.3280     9.0392    59.0560 H             1 RES     \\n     161 H           19.7540     7.9172    62.9160 H             1 RES     \\n     162 Kr          21.6050    11.4102    61.6360 Kr            1 RES     \\n     163 Kr          22.9300    12.4322    61.9590 Kr            1 RES     \\n     164 Kr          22.4350    13.7392    61.6960 Kr            1 RES     \\n     165 H           23.0600    14.6132    61.8090 H             1 RES     \\n     166 Kr          24.3810    12.1982    62.4170 Kr            1 RES     \\n     167 Kr          25.2570    11.1402    62.6340 Kr            1 RES     \\n     168 H           24.8350    13.1542    62.5510 H             1 RES     \\n     169 Kr          25.0750     9.6792    62.4450 Kr            1 RES     \\n     170 Kr          26.3800     8.9832    62.5720 Kr            1 RES     \\n     171 Kr          27.3440     9.9132    62.8800 Kr            1 RES     \\n     172 Kr          26.7490    11.2822    62.9140 Kr            1 RES     \\n     173 Kr          24.0170     9.1302    62.2370 Kr            1 RES     \\n     174 Kr          27.4960    12.4092    63.0950 Kr            1 RES     \\n     175 Kr          26.9900    13.7002    63.4690 Kr            1 RES     \\n     176 Kr          28.9170    12.3842    62.8380 Kr            1 RES     \\n     177 Kr          26.6240    14.7562    63.7690 Kr            1 RES     \\n     178 Kr          30.0530    12.3252    62.6230 Kr            1 RES     \\n     179 Kr          28.6530     9.4902    63.2120 Kr            1 RES     \\n     180 Kr          28.9990     8.1442    63.1290 Kr            1 RES     \\n     181 Kr          28.0440     7.2082    62.7280 Kr            1 RES     \\n     182 Kr          26.7210     7.6192    62.4650 Kr            1 RES     \\n     183 H           29.4190    10.1502    63.5690 H             1 RES     \\n     184 H           30.0080     7.8362    63.3860 H             1 RES     \\n     185 H           28.3360     6.1662    62.6580 H             1 RES     \\n     186 H           25.9960     6.8802    62.2030 H             1 RES     \\n@<TRIPOS>BOND\\n       1       24       28 1\\n       2       33       30 1\\n       3       37       49 1\\n       4        9        8 1\\n       5      107      108 1\\n       6        2        1 1\\n       7        4        2 1\\n       8      112      160 1\\n       9       74       79 1\\n      10       34       44 1\\n      11      112      113 1\\n      12      135      137 1\\n      13      117      121 1\\n      14       34       31 1\\n      15      139      142 1\\n      16       43       42 1\\n      17       45       48 1\\n      18       26       21 1\\n      19      104      111 1\\n      20       86       90 1\\n      21       45       35 1\\n      22       12       13 1\\n      23      142      147 1\\n      24      123      126 1\\n      25       28       30 1\\n      26      111      159 1\\n      27      101       98 1\\n      28       74       77 1\\n      29       73       76 1\\n      30      136      139 1\\n      31      126      131 1\\n      32       80       84 1\\n      33      175      177 1\\n      34       95       97 1\\n      35      106      154 1\\n      36      171      172 1\\n      37       31       28 1\\n      38      139      144 1\\n      39       42       41 1\\n      40      106      107 1\\n      41      148      152 1\\n      42      102      103 1\\n      43        2        3 1\\n      44      170      182 1\\n      45        7        8 1\\n      46      109      110 1\\n      47      123      128 1\\n      48       99       94 1\\n      49      170      171 1\\n      50      179      183 1\\n      51      166      167 1\\n      52      136      141 1\\n      53      109      156 1\\n      54       29       30 1\\n      55       13        5 1\\n      56       61       65 1\\n      57       56       54 1\\n      58       20       22 1\\n      59       70       67 1\\n      60      114      161 1\\n      61      108      109 1\\n      62       83       87 1\\n      63       38       39 1\\n      64      145      149 1\\n      65       43       44 1\\n      66       99      105 1\\n      67       92       93 1\\n      68      116      118 1\\n      69       24       25 1\\n      70       55       54 1\\n      71       26       27 1\\n      72      126      130 1\\n      73      167      169 1\\n      74      120      123 1\\n      75       20       21 1\\n      76        3        5 1\\n      77       73       74 1\\n      78      169      170 1\\n      79      129      132 1\\n      80       77       81 1\\n      81      174      176 1\\n      82        3        6 1\\n      83       26       25 1\\n      84       59       55 1\\n      85      105      106 1\\n      86       50       36 1\\n      87       23       21 1\\n      88       13       14 1\\n      89      120      125 1\\n      90      107      155 1\\n      91       95       33 1\\n      92      117      122 1\\n      93      139      143 1\\n      94       99      100 1\\n      95      104      115 1\\n      96       40       41 1\\n      97       92       96 1\\n      98      116      119 1\\n      99      100      103 1\\n     100      181      182 1\\n     101       37       36 1\\n     102       69       64 1\\n     103       45       39 1\\n     104      142      146 1\\n     105      176      178 1\\n     106       72       67 1\\n     107       83       86 1\\n     108      180      184 1\\n     109       73       75 1\\n     110       74       78 1\\n     111       33       32 1\\n     112      167      172 1\\n     113      135      136 1\\n     114       68       64 1\\n     115      115      158 1\\n     116      163      166 1\\n     117      117      120 1\\n     118      148      151 1\\n     119      182      186 1\\n     120      181      185 1\\n     121       86       89 1\\n     122       11        7 1\\n     123      111      112 1\\n     124       16       18 1\\n     125       36       35 1\\n     126      179      180 1\\n     127       64       61 1\\n     128      110      157 1\\n     129       58       63 1\\n     130      136      140 1\\n     131       17       15 1\\n     132       15       16 1\\n     133      169      173 1\\n     134       92       32 1\\n     135      166      168 1\\n     136       80       83 1\\n     137      142      145 1\\n     138       58       61 1\\n     139       38       54 1\\n     140      163      164 1\\n     141      129      134 1\\n     142       99      104 1\\n     143       12       20 1\\n     144      101      102 1\\n     145       58       55 1\\n     146      148      153 1\\n     147       55       60 1\\n     148      113      116 1\\n     149      123      127 1\\n     150      102      164 1\\n     151      100       98 1\\n     152       58       62 1\\n     153       11       12 1\\n     154       47       39 1\\n     155       80       85 1\\n     156      145      150 1\\n     157       93       94 1\\n     158       46       40 1\\n     159      116      117 1\\n     160      172      174 1\\n     161       52       43 1\\n     162       24       23 1\\n     163       64       67 1\\n     164       51       41 1\\n     165      163      162 1\\n     166      126      129 1\\n     167       73       42 1\\n     168      180      181 1\\n     169      164      165 1\\n     170       83       88 1\\n     171       10        1 1\\n     172        1        8 1\\n     173      129      133 1\\n     174       77       80 1\\n     175       31       32 1\\n     176      145      148 1\\n     177       11       15 1\\n     178      105      110 1\\n     179       29       25 1\\n     180       86       91 1\\n     181       44       53 1\\n     182      108      135 1\\n     183       61       66 1\\n     184       71       67 1\\n     185      114      115 1\\n     186        5        7 1\\n     187       57       54 1\\n     188      103      162 1\\n     189       34       40 1\\n     190      120      124 1\\n     191       38       37 1\\n     192      135      138 1\\n     193      113      114 1\\n     194       17       19 1\\n     195       77       82 1\\n     196      174      175 1\\n     197       94       95 1\\n     198       93       98 1\\n     199       35       31 1\\n     200      171      179 1\\n@<TRIPOS>SUBSTRUCTURE\\n       1 RES             1 RESIDUE    0 **** ROOT      0\\n\",\"mol2\");\n",
       "\tviewer_162276328495718.setStyle({\"stick\": {\"radius\": 0.2, \"color\": \"grey\"}, \"sphere\": {\"scale\": 0.3, \"colorscheme\": {}}});\n",
       "\tviewer_162276328495718.zoomTo();\n",
       "viewer_162276328495718.render();\n",
       "});\n",
       "</script>"
      ]
     },
     "metadata": {},
     "output_type": "display_data"
    }
   ],
   "source": [
    "chromo_ids = np.array([0,1,2,4,6,7,10,11,12,13,19,20,22,23,24,25,27,28,29,30,31,32,91,92,93,94,97,98,99,100,101,102,161,162,163,165,166,168,169,170,171,172,178,179,180,181,177,175,176,174,173,17,15,18,16,14,13])\n",
    "for i,p in enumerate(comp.particles()):\n",
    "    if i in chromo_ids:\n",
    "        p.name = \"Kr\"\n",
    "comp.visualize().show()"
   ]
  },
  {
   "cell_type": "markdown",
   "id": "34c93200",
   "metadata": {},
   "source": [
    "Next let's make a Chromophore object for each detected chromophore and add them to a list:"
   ]
  },
  {
   "cell_type": "code",
   "execution_count": 53,
   "id": "280c7285",
   "metadata": {},
   "outputs": [
    {
     "ename": "TypeError",
     "evalue": "unhashable type: 'numpy.ndarray'",
     "output_type": "error",
     "traceback": [
      "\u001b[0;31m---------------------------------------------------------------------------\u001b[0m",
      "\u001b[0;31mTypeError\u001b[0m                                 Traceback (most recent call last)",
      "\u001b[0;32m<ipython-input-53-33c397e6224d>\u001b[0m in \u001b[0;36m<module>\u001b[0;34m\u001b[0m\n\u001b[1;32m      1\u001b[0m \u001b[0mmaster_aaids\u001b[0m \u001b[0;34m=\u001b[0m \u001b[0;34m[\u001b[0m\u001b[0;34m]\u001b[0m\u001b[0;34m\u001b[0m\u001b[0;34m\u001b[0m\u001b[0m\n\u001b[0;32m----> 2\u001b[0;31m \u001b[0mmaster_aaids\u001b[0m\u001b[0;34m.\u001b[0m\u001b[0mextend\u001b[0m\u001b[0;34m(\u001b[0m\u001b[0mset\u001b[0m\u001b[0;34m(\u001b[0m\u001b[0maaids\u001b[0m\u001b[0;34m)\u001b[0m\u001b[0;34m)\u001b[0m\u001b[0;34m\u001b[0m\u001b[0;34m\u001b[0m\u001b[0m\n\u001b[0m\u001b[1;32m      3\u001b[0m \u001b[0mmaster_aaids\u001b[0m\u001b[0;34m.\u001b[0m\u001b[0mextend\u001b[0m\u001b[0;34m(\u001b[0m\u001b[0mset\u001b[0m\u001b[0;34m(\u001b[0m\u001b[0mmissed_inds\u001b[0m\u001b[0;34m)\u001b[0m\u001b[0;34m)\u001b[0m\u001b[0;34m\u001b[0m\u001b[0;34m\u001b[0m\u001b[0m\n\u001b[1;32m      4\u001b[0m \u001b[0;34m\u001b[0m\u001b[0m\n\u001b[1;32m      5\u001b[0m \u001b[0mmaster_aaids\u001b[0m \u001b[0;34m=\u001b[0m \u001b[0mset\u001b[0m\u001b[0;34m(\u001b[0m\u001b[0mmaster_aaids\u001b[0m\u001b[0;34m)\u001b[0m\u001b[0;34m\u001b[0m\u001b[0;34m\u001b[0m\u001b[0m\n",
      "\u001b[0;31mTypeError\u001b[0m: unhashable type: 'numpy.ndarray'"
     ]
    }
   ],
   "source": [
    "master_aaids = []\n",
    "\n",
    "master_aaids = set(master_aaids)"
   ]
  },
  {
   "cell_type": "code",
   "execution_count": 41,
   "id": "e6f80ed6",
   "metadata": {},
   "outputs": [],
   "source": [
    "chromo_list = []\n",
    "for i,aaid in enumerate(aaids):\n",
    "    chromo_list.append(chromophores.Chromophore(i, snap, aaid, \"acceptor\", amber_dict))"
   ]
  },
  {
   "cell_type": "markdown",
   "id": "fff21272",
   "metadata": {},
   "source": [
    "Next let's compute (using voronoi analysis) which chromophores are neighbors. `qcc_pairs` is a list containing the indices of the pair and the pair's qcc input: `((i,j), qcc_input)`\n"
   ]
  },
  {
   "cell_type": "code",
   "execution_count": 10,
   "id": "85958a85",
   "metadata": {},
   "outputs": [
    {
     "name": "stdout",
     "output_type": "stream",
     "text": [
      "There are 858 chromophore pairs\n"
     ]
    }
   ],
   "source": [
    "qcc_pairs = chromophores.set_neighbors_voronoi(chromo_list, snap, amber_dict, d_cut=min(box)/2)\n",
    "print(f\"There are {len(qcc_pairs)} chromophore pairs\")"
   ]
  },
  {
   "cell_type": "markdown",
   "id": "49647056",
   "metadata": {},
   "source": [
    "Before running any QCC we can check that the pair and singles inputs look reasonable. There won't be any bonds and hydrogen atoms should've been added."
   ]
  },
  {
   "cell_type": "code",
   "execution_count": 11,
   "id": "b996821f",
   "metadata": {},
   "outputs": [
    {
     "name": "stdout",
     "output_type": "stream",
     "text": [
      "Pair #13:\n"
     ]
    },
    {
     "data": {
      "application/3dmoljs_load.v0": "<div id=\"3dmolviewer_1620765634101834\"  style=\"position: relative; width: 640px; height: 480px\">\n        <p id=\"3dmolwarning_1620765634101834\" style=\"background-color:#ffcccc;color:black\">You appear to be running in JupyterLab (or JavaScript failed to load for some other reason).  You need to install the 3dmol extension: <br>\n        <tt>jupyter labextension install jupyterlab_3dmol</tt></p>\n        </div>\n<script>\n\nvar loadScriptAsync = function(uri){\n  return new Promise((resolve, reject) => {\n    var tag = document.createElement('script');\n    tag.src = uri;\n    tag.async = true;\n    tag.onload = () => {\n      resolve();\n    };\n  var firstScriptTag = document.getElementsByTagName('script')[0];\n  firstScriptTag.parentNode.insertBefore(tag, firstScriptTag);\n});\n};\n\nif(typeof $3Dmolpromise === 'undefined') {\n$3Dmolpromise = null;\n  $3Dmolpromise = loadScriptAsync('https://3dmol.csb.pitt.edu/build/3Dmol.js');\n}\n\nvar viewer_1620765634101834 = null;\nvar warn = document.getElementById(\"3dmolwarning_1620765634101834\");\nif(warn) {\n    warn.parentNode.removeChild(warn);\n}\n$3Dmolpromise.then(function() {\nviewer_1620765634101834 = $3Dmol.createViewer($(\"#3dmolviewer_1620765634101834\"),{backgroundColor:\"white\"});\n\tviewer_1620765634101834.addModel(\"@<TRIPOS>MOLECULE\\nRES\\n54 0 1 0 1\\nSMALL\\nNO_CHARGES\\n@<TRIPOS>CRYSIN\\n    9.4007    10.5421     8.0700    90.0000    90.0000    90.0000  1  1\\n@<TRIPOS>ATOM\\n       1 C           -0.8576     0.8720     0.3892 C             1 RES     \\n       2 C           -0.6460     0.5815     0.5219 C             1 RES     \\n       3 S           -0.1929     0.7111     0.6388 S             1 RES     \\n       4 C           -0.3070     1.1770     0.5463 C             1 RES     \\n       5 C           -0.6884     1.2161     0.4701 C             1 RES     \\n       6 C           -0.9425     1.5010     0.6649 C             1 RES     \\n       7 C           -1.2423     1.6957     0.4122 C             1 RES     \\n       8 C           -1.4258     2.0388     0.6200 C             1 RES     \\n       9 C           -1.7572     2.2070     0.3777 C             1 RES     \\n      10 C           -2.0157     2.4842     0.5766 C             1 RES     \\n      11 C           -1.8530     2.8550     0.7137 C             1 RES     \\n      12 C            0.6296    -1.3697    -0.1525 C             1 RES     \\n      13 C            0.2546    -1.4589    -0.1161 C             1 RES     \\n      14 S            0.1770    -1.7590     0.2783 S             1 RES     \\n      15 C            0.6550    -1.6726     0.4261 C             1 RES     \\n      16 C            0.8579    -1.5256     0.1295 C             1 RES     \\n      17 C            1.2137    -1.7147     0.0168 C             1 RES     \\n      18 C            1.2269    -1.8772    -0.3836 C             1 RES     \\n      19 C            1.4670    -1.6348    -0.6597 C             1 RES     \\n      20 C            1.5595    -1.8082    -1.0565 C             1 RES     \\n      21 C            1.8570    -2.1393    -1.0538 C             1 RES     \\n      22 C            1.9902    -2.2396    -1.4619 C             1 RES     \\n      23 H           -1.0264    -0.4413     0.4452 H             1 RES     \\n      24 H           -1.1419     0.8654     0.2786 H             1 RES     \\n      25 H           -0.7594     1.7301     0.7717 H             1 RES     \\n      26 H           -1.0788     1.3517     0.8916 H             1 RES     \\n      27 H           -1.0876     1.7911     0.1858 H             1 RES     \\n      28 H           -1.4820     1.5190     0.3322 H             1 RES     \\n      29 H           -1.4857     1.9857     0.9198 H             1 RES     \\n      30 H           -1.2194     2.2637     0.6380 H             1 RES     \\n      31 H           -1.6346     2.3607     0.1285 H             1 RES     \\n      32 H           -1.9306     1.9953     0.2330 H             1 RES     \\n      33 H           -2.2465     2.5411     0.4053 H             1 RES     \\n      34 H           -2.1103     2.3266     0.8279 H             1 RES     \\n      35 H           -2.0424     3.0198     0.8826 H             1 RES     \\n      36 H           -1.5933     2.7983     0.8601 H             1 RES     \\n      37 H           -1.7697     3.0077     0.4574 H             1 RES     \\n      38 H            0.3487     2.0421     0.4110 H             1 RES     \\n      39 H           -0.4506    -1.1392    -0.8890 H             1 RES     \\n      40 H            0.7399    -1.2045    -0.3673 H             1 RES     \\n      41 H            1.0568    -1.8294     1.4315 H             1 RES     \\n      42 H            1.4409    -1.4971     0.0536 H             1 RES     \\n      43 H            1.2778    -1.9210     0.2304 H             1 RES     \\n      44 H            0.9459    -1.9546    -0.4930 H             1 RES     \\n      45 H            1.3755    -2.1392    -0.3528 H             1 RES     \\n      46 H            1.7420    -1.5569    -0.5366 H             1 RES     \\n      47 H            1.3084    -1.3725    -0.6976 H             1 RES     \\n      48 H            1.3093    -1.8907    -1.1891 H             1 RES     \\n      49 H            1.6741    -1.5745    -1.2296 H             1 RES     \\n      50 H            1.7236    -2.3608    -0.8982 H             1 RES     \\n      51 H            2.1385    -2.0556    -0.9093 H             1 RES     \\n      52 H            2.1542    -2.0207    -1.6062 H             1 RES     \\n      53 H            1.7477    -2.2577    -1.6385 H             1 RES     \\n      54 H            2.1159    -2.5223    -1.4753 H             1 RES     \\n@<TRIPOS>BOND\\n@<TRIPOS>SUBSTRUCTURE\\n       1 RES             1 RESIDUE    0 **** ROOT      0\\n\",\"mol2\");\n\tviewer_1620765634101834.setStyle({\"stick\": {\"radius\": 0.2, \"color\": \"grey\"}, \"sphere\": {\"scale\": 0.3, \"colorscheme\": {}}});\n\tviewer_1620765634101834.zoomTo();\nviewer_1620765634101834.render();\n});\n</script>",
      "text/html": [
       "<div id=\"3dmolviewer_1620765634101834\"  style=\"position: relative; width: 640px; height: 480px\">\n",
       "        <p id=\"3dmolwarning_1620765634101834\" style=\"background-color:#ffcccc;color:black\">You appear to be running in JupyterLab (or JavaScript failed to load for some other reason).  You need to install the 3dmol extension: <br>\n",
       "        <tt>jupyter labextension install jupyterlab_3dmol</tt></p>\n",
       "        </div>\n",
       "<script>\n",
       "\n",
       "var loadScriptAsync = function(uri){\n",
       "  return new Promise((resolve, reject) => {\n",
       "    var tag = document.createElement('script');\n",
       "    tag.src = uri;\n",
       "    tag.async = true;\n",
       "    tag.onload = () => {\n",
       "      resolve();\n",
       "    };\n",
       "  var firstScriptTag = document.getElementsByTagName('script')[0];\n",
       "  firstScriptTag.parentNode.insertBefore(tag, firstScriptTag);\n",
       "});\n",
       "};\n",
       "\n",
       "if(typeof $3Dmolpromise === 'undefined') {\n",
       "$3Dmolpromise = null;\n",
       "  $3Dmolpromise = loadScriptAsync('https://3dmol.csb.pitt.edu/build/3Dmol.js');\n",
       "}\n",
       "\n",
       "var viewer_1620765634101834 = null;\n",
       "var warn = document.getElementById(\"3dmolwarning_1620765634101834\");\n",
       "if(warn) {\n",
       "    warn.parentNode.removeChild(warn);\n",
       "}\n",
       "$3Dmolpromise.then(function() {\n",
       "viewer_1620765634101834 = $3Dmol.createViewer($(\"#3dmolviewer_1620765634101834\"),{backgroundColor:\"white\"});\n",
       "\tviewer_1620765634101834.addModel(\"@<TRIPOS>MOLECULE\\nRES\\n54 0 1 0 1\\nSMALL\\nNO_CHARGES\\n@<TRIPOS>CRYSIN\\n    9.4007    10.5421     8.0700    90.0000    90.0000    90.0000  1  1\\n@<TRIPOS>ATOM\\n       1 C           -0.8576     0.8720     0.3892 C             1 RES     \\n       2 C           -0.6460     0.5815     0.5219 C             1 RES     \\n       3 S           -0.1929     0.7111     0.6388 S             1 RES     \\n       4 C           -0.3070     1.1770     0.5463 C             1 RES     \\n       5 C           -0.6884     1.2161     0.4701 C             1 RES     \\n       6 C           -0.9425     1.5010     0.6649 C             1 RES     \\n       7 C           -1.2423     1.6957     0.4122 C             1 RES     \\n       8 C           -1.4258     2.0388     0.6200 C             1 RES     \\n       9 C           -1.7572     2.2070     0.3777 C             1 RES     \\n      10 C           -2.0157     2.4842     0.5766 C             1 RES     \\n      11 C           -1.8530     2.8550     0.7137 C             1 RES     \\n      12 C            0.6296    -1.3697    -0.1525 C             1 RES     \\n      13 C            0.2546    -1.4589    -0.1161 C             1 RES     \\n      14 S            0.1770    -1.7590     0.2783 S             1 RES     \\n      15 C            0.6550    -1.6726     0.4261 C             1 RES     \\n      16 C            0.8579    -1.5256     0.1295 C             1 RES     \\n      17 C            1.2137    -1.7147     0.0168 C             1 RES     \\n      18 C            1.2269    -1.8772    -0.3836 C             1 RES     \\n      19 C            1.4670    -1.6348    -0.6597 C             1 RES     \\n      20 C            1.5595    -1.8082    -1.0565 C             1 RES     \\n      21 C            1.8570    -2.1393    -1.0538 C             1 RES     \\n      22 C            1.9902    -2.2396    -1.4619 C             1 RES     \\n      23 H           -1.0264    -0.4413     0.4452 H             1 RES     \\n      24 H           -1.1419     0.8654     0.2786 H             1 RES     \\n      25 H           -0.7594     1.7301     0.7717 H             1 RES     \\n      26 H           -1.0788     1.3517     0.8916 H             1 RES     \\n      27 H           -1.0876     1.7911     0.1858 H             1 RES     \\n      28 H           -1.4820     1.5190     0.3322 H             1 RES     \\n      29 H           -1.4857     1.9857     0.9198 H             1 RES     \\n      30 H           -1.2194     2.2637     0.6380 H             1 RES     \\n      31 H           -1.6346     2.3607     0.1285 H             1 RES     \\n      32 H           -1.9306     1.9953     0.2330 H             1 RES     \\n      33 H           -2.2465     2.5411     0.4053 H             1 RES     \\n      34 H           -2.1103     2.3266     0.8279 H             1 RES     \\n      35 H           -2.0424     3.0198     0.8826 H             1 RES     \\n      36 H           -1.5933     2.7983     0.8601 H             1 RES     \\n      37 H           -1.7697     3.0077     0.4574 H             1 RES     \\n      38 H            0.3487     2.0421     0.4110 H             1 RES     \\n      39 H           -0.4506    -1.1392    -0.8890 H             1 RES     \\n      40 H            0.7399    -1.2045    -0.3673 H             1 RES     \\n      41 H            1.0568    -1.8294     1.4315 H             1 RES     \\n      42 H            1.4409    -1.4971     0.0536 H             1 RES     \\n      43 H            1.2778    -1.9210     0.2304 H             1 RES     \\n      44 H            0.9459    -1.9546    -0.4930 H             1 RES     \\n      45 H            1.3755    -2.1392    -0.3528 H             1 RES     \\n      46 H            1.7420    -1.5569    -0.5366 H             1 RES     \\n      47 H            1.3084    -1.3725    -0.6976 H             1 RES     \\n      48 H            1.3093    -1.8907    -1.1891 H             1 RES     \\n      49 H            1.6741    -1.5745    -1.2296 H             1 RES     \\n      50 H            1.7236    -2.3608    -0.8982 H             1 RES     \\n      51 H            2.1385    -2.0556    -0.9093 H             1 RES     \\n      52 H            2.1542    -2.0207    -1.6062 H             1 RES     \\n      53 H            1.7477    -2.2577    -1.6385 H             1 RES     \\n      54 H            2.1159    -2.5223    -1.4753 H             1 RES     \\n@<TRIPOS>BOND\\n@<TRIPOS>SUBSTRUCTURE\\n       1 RES             1 RESIDUE    0 **** ROOT      0\\n\",\"mol2\");\n",
       "\tviewer_1620765634101834.setStyle({\"stick\": {\"radius\": 0.2, \"color\": \"grey\"}, \"sphere\": {\"scale\": 0.3, \"colorscheme\": {}}});\n",
       "\tviewer_1620765634101834.zoomTo();\n",
       "viewer_1620765634101834.render();\n",
       "});\n",
       "</script>"
      ]
     },
     "metadata": {},
     "output_type": "display_data"
    },
    {
     "name": "stdout",
     "output_type": "stream",
     "text": [
      "Single #0:\n"
     ]
    },
    {
     "data": {
      "application/3dmoljs_load.v0": "<div id=\"3dmolviewer_16207656341068401\"  style=\"position: relative; width: 640px; height: 480px\">\n        <p id=\"3dmolwarning_16207656341068401\" style=\"background-color:#ffcccc;color:black\">You appear to be running in JupyterLab (or JavaScript failed to load for some other reason).  You need to install the 3dmol extension: <br>\n        <tt>jupyter labextension install jupyterlab_3dmol</tt></p>\n        </div>\n<script>\n\nvar loadScriptAsync = function(uri){\n  return new Promise((resolve, reject) => {\n    var tag = document.createElement('script');\n    tag.src = uri;\n    tag.async = true;\n    tag.onload = () => {\n      resolve();\n    };\n  var firstScriptTag = document.getElementsByTagName('script')[0];\n  firstScriptTag.parentNode.insertBefore(tag, firstScriptTag);\n});\n};\n\nif(typeof $3Dmolpromise === 'undefined') {\n$3Dmolpromise = null;\n  $3Dmolpromise = loadScriptAsync('https://3dmol.csb.pitt.edu/build/3Dmol.js');\n}\n\nvar viewer_16207656341068401 = null;\nvar warn = document.getElementById(\"3dmolwarning_16207656341068401\");\nif(warn) {\n    warn.parentNode.removeChild(warn);\n}\n$3Dmolpromise.then(function() {\nviewer_16207656341068401 = $3Dmol.createViewer($(\"#3dmolviewer_16207656341068401\"),{backgroundColor:\"white\"});\n\tviewer_16207656341068401.addModel(\"@<TRIPOS>MOLECULE\\nRES\\n27 0 1 0 1\\nSMALL\\nNO_CHARGES\\n@<TRIPOS>CRYSIN\\n    7.5952     8.4611     5.7913    90.0000    90.0000    90.0000  1  1\\n@<TRIPOS>ATOM\\n       1 C            0.4086    -0.9242    -0.1515 C             1 RES     \\n       2 C            0.6202    -1.2146    -0.0189 C             1 RES     \\n       3 S            1.0734    -1.0851     0.0980 S             1 RES     \\n       4 C            0.9592    -0.6192     0.0055 C             1 RES     \\n       5 C            0.5778    -0.5801    -0.0707 C             1 RES     \\n       6 C            0.3237    -0.2952     0.1242 C             1 RES     \\n       7 C            0.0240    -0.1004    -0.1286 C             1 RES     \\n       8 C           -0.1596     0.2426     0.0793 C             1 RES     \\n       9 C           -0.4910     0.4108    -0.1630 C             1 RES     \\n      10 C           -0.7495     0.6881     0.0359 C             1 RES     \\n      11 C           -0.5868     1.0588     0.1730 C             1 RES     \\n      12 H            0.2399    -2.2375    -0.0955 H             1 RES     \\n      13 H            0.1244    -0.9308    -0.2622 H             1 RES     \\n      14 H            0.5068    -0.0661     0.2309 H             1 RES     \\n      15 H            0.1875    -0.4444     0.3509 H             1 RES     \\n      16 H            0.1786    -0.0050    -0.3549 H             1 RES     \\n      17 H           -0.2158    -0.2772    -0.2085 H             1 RES     \\n      18 H           -0.2194     0.1896     0.3791 H             1 RES     \\n      19 H            0.0468     0.4676     0.0973 H             1 RES     \\n      20 H           -0.3684     0.5646    -0.4122 H             1 RES     \\n      21 H           -0.6643     0.1991    -0.3078 H             1 RES     \\n      22 H           -0.9802     0.7450    -0.1354 H             1 RES     \\n      23 H           -0.8441     0.5305     0.2871 H             1 RES     \\n      24 H           -0.7762     1.2236     0.3418 H             1 RES     \\n      25 H           -0.3271     1.0021     0.3194 H             1 RES     \\n      26 H           -0.5035     1.2115    -0.0834 H             1 RES     \\n      27 H            1.6150     0.2460    -0.1298 H             1 RES     \\n@<TRIPOS>BOND\\n@<TRIPOS>SUBSTRUCTURE\\n       1 RES             1 RESIDUE    0 **** ROOT      0\\n\",\"mol2\");\n\tviewer_16207656341068401.setStyle({\"stick\": {\"radius\": 0.2, \"color\": \"grey\"}, \"sphere\": {\"scale\": 0.3, \"colorscheme\": {}}});\n\tviewer_16207656341068401.zoomTo();\nviewer_16207656341068401.render();\n});\n</script>",
      "text/html": [
       "<div id=\"3dmolviewer_16207656341068401\"  style=\"position: relative; width: 640px; height: 480px\">\n",
       "        <p id=\"3dmolwarning_16207656341068401\" style=\"background-color:#ffcccc;color:black\">You appear to be running in JupyterLab (or JavaScript failed to load for some other reason).  You need to install the 3dmol extension: <br>\n",
       "        <tt>jupyter labextension install jupyterlab_3dmol</tt></p>\n",
       "        </div>\n",
       "<script>\n",
       "\n",
       "var loadScriptAsync = function(uri){\n",
       "  return new Promise((resolve, reject) => {\n",
       "    var tag = document.createElement('script');\n",
       "    tag.src = uri;\n",
       "    tag.async = true;\n",
       "    tag.onload = () => {\n",
       "      resolve();\n",
       "    };\n",
       "  var firstScriptTag = document.getElementsByTagName('script')[0];\n",
       "  firstScriptTag.parentNode.insertBefore(tag, firstScriptTag);\n",
       "});\n",
       "};\n",
       "\n",
       "if(typeof $3Dmolpromise === 'undefined') {\n",
       "$3Dmolpromise = null;\n",
       "  $3Dmolpromise = loadScriptAsync('https://3dmol.csb.pitt.edu/build/3Dmol.js');\n",
       "}\n",
       "\n",
       "var viewer_16207656341068401 = null;\n",
       "var warn = document.getElementById(\"3dmolwarning_16207656341068401\");\n",
       "if(warn) {\n",
       "    warn.parentNode.removeChild(warn);\n",
       "}\n",
       "$3Dmolpromise.then(function() {\n",
       "viewer_16207656341068401 = $3Dmol.createViewer($(\"#3dmolviewer_16207656341068401\"),{backgroundColor:\"white\"});\n",
       "\tviewer_16207656341068401.addModel(\"@<TRIPOS>MOLECULE\\nRES\\n27 0 1 0 1\\nSMALL\\nNO_CHARGES\\n@<TRIPOS>CRYSIN\\n    7.5952     8.4611     5.7913    90.0000    90.0000    90.0000  1  1\\n@<TRIPOS>ATOM\\n       1 C            0.4086    -0.9242    -0.1515 C             1 RES     \\n       2 C            0.6202    -1.2146    -0.0189 C             1 RES     \\n       3 S            1.0734    -1.0851     0.0980 S             1 RES     \\n       4 C            0.9592    -0.6192     0.0055 C             1 RES     \\n       5 C            0.5778    -0.5801    -0.0707 C             1 RES     \\n       6 C            0.3237    -0.2952     0.1242 C             1 RES     \\n       7 C            0.0240    -0.1004    -0.1286 C             1 RES     \\n       8 C           -0.1596     0.2426     0.0793 C             1 RES     \\n       9 C           -0.4910     0.4108    -0.1630 C             1 RES     \\n      10 C           -0.7495     0.6881     0.0359 C             1 RES     \\n      11 C           -0.5868     1.0588     0.1730 C             1 RES     \\n      12 H            0.2399    -2.2375    -0.0955 H             1 RES     \\n      13 H            0.1244    -0.9308    -0.2622 H             1 RES     \\n      14 H            0.5068    -0.0661     0.2309 H             1 RES     \\n      15 H            0.1875    -0.4444     0.3509 H             1 RES     \\n      16 H            0.1786    -0.0050    -0.3549 H             1 RES     \\n      17 H           -0.2158    -0.2772    -0.2085 H             1 RES     \\n      18 H           -0.2194     0.1896     0.3791 H             1 RES     \\n      19 H            0.0468     0.4676     0.0973 H             1 RES     \\n      20 H           -0.3684     0.5646    -0.4122 H             1 RES     \\n      21 H           -0.6643     0.1991    -0.3078 H             1 RES     \\n      22 H           -0.9802     0.7450    -0.1354 H             1 RES     \\n      23 H           -0.8441     0.5305     0.2871 H             1 RES     \\n      24 H           -0.7762     1.2236     0.3418 H             1 RES     \\n      25 H           -0.3271     1.0021     0.3194 H             1 RES     \\n      26 H           -0.5035     1.2115    -0.0834 H             1 RES     \\n      27 H            1.6150     0.2460    -0.1298 H             1 RES     \\n@<TRIPOS>BOND\\n@<TRIPOS>SUBSTRUCTURE\\n       1 RES             1 RESIDUE    0 **** ROOT      0\\n\",\"mol2\");\n",
       "\tviewer_16207656341068401.setStyle({\"stick\": {\"radius\": 0.2, \"color\": \"grey\"}, \"sphere\": {\"scale\": 0.3, \"colorscheme\": {}}});\n",
       "\tviewer_16207656341068401.zoomTo();\n",
       "viewer_16207656341068401.render();\n",
       "});\n",
       "</script>"
      ]
     },
     "metadata": {},
     "output_type": "display_data"
    }
   ],
   "source": [
    "i = 13 # try any number from 0 to 180\n",
    "print(f\"Pair #{i}:\")\n",
    "visualize_qcc_input(qcc_pairs[i][1])\n",
    "\n",
    "i = 0 # try any number from 0 to 29\n",
    "print(f\"Single #{i}:\")\n",
    "visualize_qcc_input(chromo_list[i].qcc_input)"
   ]
  },
  {
   "cell_type": "markdown",
   "id": "6c86b711",
   "metadata": {},
   "source": [
    "Next we need to get the single and pair energies which will be used in the QCC calculations. These take a little time, so these functions are edesigned to save to a file. We'll first make the directory and define the filenames."
   ]
  },
  {
   "cell_type": "code",
   "execution_count": 12,
   "id": "2debd29b",
   "metadata": {},
   "outputs": [],
   "source": [
    "outpath = os.path.join(os.getcwd(), \"output\")\n",
    "if not os.path.exists(outpath):\n",
    "    os.makedirs(outpath)\n",
    "s_filename = os.path.join(outpath, \"singles_energies.txt\")\n",
    "d_filename = os.path.join(outpath, \"dimer_energies.txt\")"
   ]
  },
  {
   "cell_type": "markdown",
   "id": "2e57c81a",
   "metadata": {},
   "source": [
    "MorphCT uses multiprocessing to run calculations in parallel.\n",
    "\n",
    "`eqcc.get_homolumo(chromo_list[0].qcc_input)` operates on one chromophore and returns HOMO-1, HOMO, LUMO, LUMO+1\n",
    "\n",
    "`eqcc.singles_homolumo` does this for all chromophores and saves the energies to a file."
   ]
  },
  {
   "cell_type": "code",
   "execution_count": 13,
   "id": "05a78ce1",
   "metadata": {},
   "outputs": [
    {
     "name": "stdout",
     "output_type": "stream",
     "text": [
      "CPU times: user 29.4 ms, sys: 38.6 ms, total: 68 ms\n",
      "Wall time: 29 s\n"
     ]
    }
   ],
   "source": [
    "%%time\n",
    "data = eqcc.singles_homolumo(chromo_list, s_filename)\n",
    "\n",
    "# Approx time required:\n",
    "# CPU times: user 20.9 ms, sys: 30.1 ms, total: 51 ms\n",
    "# Wall time: 6.05 s"
   ]
  },
  {
   "cell_type": "markdown",
   "id": "4a5cdf14",
   "metadata": {},
   "source": [
    "Next let's compute the pair energies:"
   ]
  },
  {
   "cell_type": "code",
   "execution_count": 14,
   "id": "eb4a251d",
   "metadata": {},
   "outputs": [
    {
     "name": "stdout",
     "output_type": "stream",
     "text": [
      "CPU times: user 301 ms, sys: 95 ms, total: 396 ms\n",
      "Wall time: 11min 17s\n"
     ]
    }
   ],
   "source": [
    "%%time\n",
    "dimer_data = eqcc.dimer_homolumo(qcc_pairs, d_filename)\n",
    "\n",
    "# Approx time required:\n",
    "# CPU times: user 20.3 ms, sys: 27.2 ms, total: 47.6 ms\n",
    "# Wall time: 56.6 s"
   ]
  },
  {
   "cell_type": "markdown",
   "id": "d1271ca2",
   "metadata": {},
   "source": [
    "Once the energy files are finsihed, we can use them to set the energy values of the chromophores in the list"
   ]
  },
  {
   "cell_type": "code",
   "execution_count": 15,
   "id": "422b235a",
   "metadata": {},
   "outputs": [],
   "source": [
    "eqcc.set_energyvalues(chromo_list, s_filename, d_filename)"
   ]
  },
  {
   "cell_type": "markdown",
   "id": "448dbb91",
   "metadata": {},
   "source": [
    "This function sets the homo_1, homo, lumo, lumo_1, neighbors_delta_e, and neighbors_ti of each chromphore."
   ]
  },
  {
   "cell_type": "code",
   "execution_count": 16,
   "id": "7483be41",
   "metadata": {},
   "outputs": [
    {
     "name": "stdout",
     "output_type": "stream",
     "text": [
      "Chromophore 0:\n",
      "HOMO-1: -5.33 HOMO: -4.35 LUMO: 3.73 LUMO+1: 4.29\n",
      "22 neighbors\n",
      "DeltaE of first neighbor: -0.272\n",
      "Transfer integral of first neighbor: 0.396\n"
     ]
    }
   ],
   "source": [
    "i = 0\n",
    "chromo = chromo_list[i]\n",
    "print(f\"Chromophore {i}:\")\n",
    "print(f\"HOMO-1: {chromo.homo_1:.2f} HOMO: {chromo.homo:.2f} LUMO: {chromo.lumo:.2f} LUMO+1: {chromo.lumo_1:.2f}\")\n",
    "print(f\"{len(chromo.neighbors)} neighbors\")\n",
    "print(f\"DeltaE of first neighbor: {chromo.neighbors_delta_e[0]:.3f}\")\n",
    "print(f\"Transfer integral of first neighbor: {chromo.neighbors_ti[0]:.3f}\")"
   ]
  },
  {
   "cell_type": "markdown",
   "id": "6a53b52a",
   "metadata": {},
   "source": [
    "With all the energy values set, we're ready to run KMC! First we'll make a directory and set a random seed to keep our results consistent:"
   ]
  },
  {
   "cell_type": "code",
   "execution_count": 18,
   "id": "a80660d5",
   "metadata": {},
   "outputs": [],
   "source": [
    "kmc_dir = os.path.join(outpath, \"kmc\")\n",
    "if not os.path.exists(kmc_dir):\n",
    "    os.makedirs(kmc_dir)\n",
    "    \n",
    "seed = 42"
   ]
  },
  {
   "cell_type": "markdown",
   "id": "2a5f76e6",
   "metadata": {},
   "source": [
    "Next we'll create a random list of jobs:"
   ]
  },
  {
   "cell_type": "code",
   "execution_count": 19,
   "id": "4678ae82",
   "metadata": {},
   "outputs": [],
   "source": [
    "lifetimes = [1.00e-13, 1.00e-12]\n",
    "jobs_list = kmc.get_jobslist(lifetimes, n_holes=10, seed=seed)"
   ]
  },
  {
   "cell_type": "markdown",
   "id": "ae458fc2",
   "metadata": {},
   "source": [
    "And we'll run these jobs in parallel using multiprocessing:"
   ]
  },
  {
   "cell_type": "code",
   "execution_count": 20,
   "id": "5bd34e09",
   "metadata": {},
   "outputs": [
    {
     "name": "stdout",
     "output_type": "stream",
     "text": [
      "All KMC jobs completed!\n",
      "Combining outputs...\n"
     ]
    }
   ],
   "source": [
    "temp = 300\n",
    "combined_data = kmc.run_kmc(jobs_list, kmc_dir, chromo_list, snap, temp, verbose=1)"
   ]
  },
  {
   "cell_type": "markdown",
   "id": "89b3ddc0",
   "metadata": {},
   "source": [
    "The output files for each process are saved in output/kmc/kmc_**proc#**.log:"
   ]
  },
  {
   "cell_type": "code",
   "execution_count": 21,
   "id": "897f7716",
   "metadata": {},
   "outputs": [
    {
     "name": "stdout",
     "output_type": "stream",
     "text": [
      "Found 5 jobs to run\n",
      " starting job 0\n",
      " \thole hopped 4 times over 2.30e-15 seconds into image [-1  0  0] for a displacement of\n",
      " \t8.29 (took walltime 0.01 seconds)\n",
      " starting job 1\n",
      " \thole hopped 0 times over 0.00e+00 seconds into image [0 0 0] for a displacement of\n",
      " \t0.00 (took walltime 0.00 seconds)\n",
      " starting job 2\n",
      " \thole hopped 26 times over 9.79e-13 seconds into image [0 0 0] for a displacement of\n",
      " \t2.43 (took walltime 0.02 seconds)\n",
      " starting job 3\n",
      " \thole hopped 0 times over 0.00e+00 seconds into image [0 0 0] for a displacement of\n",
      " \t0.00 (took walltime 0.00 seconds)\n",
      " starting job 4\n",
      " \thole hopped 1 times over 8.35e-15 seconds into image [0 0 0] for a displacement of\n",
      " \t3.21 (took walltime 0.00 seconds)\n",
      "\n"
     ]
    }
   ],
   "source": [
    "with open(os.path.join(kmc_dir, \"kmc_00.log\"), \"r\") as f:\n",
    "    lines = f.readlines()\n",
    "print(*lines)"
   ]
  },
  {
   "cell_type": "markdown",
   "id": "384807ef",
   "metadata": {},
   "source": [
    "Finally we can analyze our results -- plots will be saved in output/kmc/figures/"
   ]
  },
  {
   "cell_type": "code",
   "execution_count": 22,
   "id": "2e0d8e85",
   "metadata": {
    "scrolled": true,
    "tags": []
   },
   "outputs": [
    {
     "name": "stdout",
     "output_type": "stream",
     "text": [
      "---------- KMC_ANALYZE ----------\n",
      "All figures saved in /Users/jimmy/morphct/examples/output/kmc/figures\n",
      "---------------------------------\n",
      "Considering the transport of hole...\n",
      "Obtaining mean squared displacements...\n",
      "\tNotice: The data from 9 carriers were\n",
      "\tdiscarded due to the carrier lifetime being more than double\n",
      "\t(or less than half of) the specified carrier lifetime.\n",
      "Plotting distribution of hole displacements\n",
      "\tFigure saved as hole_displacement_dist.png\n",
      "Calculating mobility...\n",
      "Standard Error 0.0\n",
      "Fitting r_val = 1.0\n",
      "\tFigure saved as lin_MSD_hole.png\n",
      "\tFigure saved as semi_log_MSD_hole.png\n",
      "\tFigure saved as log_MSD_hole.png\n",
      "----------------------------------------\n",
      "Hole mobility = 7.58E-03  +/- 2.56E-03 cm^2 V^-1 s^-1\n",
      "----------------------------------------\n",
      "Calculating hole trajectory anisotropy...\n",
      "----------------------------------------\n",
      "hole charge transport anisotropy: 0.083\n",
      "----------------------------------------\n",
      "Plotting hole hop frequency distribution...\n",
      "DYNAMIC CUT\n",
      "Notice: No minima found in distribution. Cutoff set to None.\n",
      "Cluster cut-off based on hop frequency set to None\n",
      "\tFigure saved as total_hop_freq_hole.png\n",
      "Plotting hole net hop frequency distribution...\n",
      "\tFigure saved as net_hop_freq_hole.png\n",
      "Plotting (total - net hops) discrepancy distribution...\n",
      "There are 7 paths with one-way transport.\n",
      "There are 13 paths with total - net < 10.\n",
      "\tFigure saved as hop_discrepancy_hole.png\n",
      "Determining molecule IDs...\n",
      "Donor HOMO Level = -4.560 +/- 0.041\n",
      "Donor Delta E_ij mean = 0.000 +/- 0.015\n"
     ]
    },
    {
     "name": "stderr",
     "output_type": "stream",
     "text": [
      "/Users/jimmy/miniconda3/envs/morphct-ex/lib/python3.7/site-packages/scipy/optimize/minpack.py:808: OptimizeWarning: Covariance of the parameters could not be estimated\n",
      "  category=OptimizeWarning)\n"
     ]
    },
    {
     "name": "stdout",
     "output_type": "stream",
     "text": [
      "\tFigure saved as donor_delta_E_ij.png\n",
      "Notice: No minima found in distribution. Cutoff set to None.\n",
      "Neighbor histogram figure saved as neighbor_hist_donor.png\n",
      "Notice: No minima found in distribution. Cutoff set to None.\n",
      "Orientation histogram figure saved as orientation_hist_donor.png\n",
      "Notice: No minima found in distribution. Cutoff set to None.\n",
      "\tFigure saved as donor_transfer_integral_mols.png\n",
      "Cut-offs: ('value', [donor, acceptor])\n",
      "\t('separation', [None, None])\n",
      "\t('orientation', [None, None])\n",
      "\t('ti', [None, None])\n",
      "\t('freq', [None, None])\n",
      "Examining the donor material...\n",
      "Calculating clusters...\n",
      "No cutoff provided: cluster cutoff set to 2.491\n",
      "----------------------------------------\n",
      "Donor: Detected 1 total\n",
      "and 1 large clusters (size > 6).\n",
      "Largest cluster size: 112 chromophores.\n",
      "Ratio in \"large\" clusters: 1.00\n",
      "----------------------------------------\n",
      "Examining the acceptor material...\n",
      "No material found. Continuing...\n",
      "Mean intra-cluster donor rate: 4.914e+14+/-2.264e+12\n",
      "\tFigure saved as donor_hopping_rate_clusters.png\n",
      "\tFigure saved as donor_transfer_integral_clusters.png\n",
      "Mean intra-molecular donor rate: 5.107e+14+/-1.004e+13\n",
      "Mean inter-molecular donor rate: 4.846e+14+/-2.880e+12\n",
      "\tFigure saved as donor_hopping_rate_clusters.png\n",
      "Plotting cluster size distribution...\n",
      "\tFigure saved as donor_cluster_dist.png\n",
      "Writing CSV Output File...\n",
      "\tCSV file written to /Users/jimmy/morphct/examples/output/kmc/results.csv\n",
      "Plotting Mobility and Anisotropy progressions...\n",
      "Skipping plotting mobility evolution.\n"
     ]
    }
   ],
   "source": [
    "kmc_analyze.main(combined_data, temp, chromo_list, snap, kmc_dir)"
   ]
  },
  {
   "cell_type": "markdown",
   "id": "d1d8869a",
   "metadata": {},
   "source": [
    "Trying to get homo and lumo for a single molecule of itic below. using functions in execute_qcc.py. it looks like i need to use write_qcc_imp() for that I need the snap, amber_dict and atom ids. "
   ]
  },
  {
   "cell_type": "code",
   "execution_count": null,
   "id": "cb592f3b",
   "metadata": {},
   "outputs": [],
   "source": [
    "/Users/jimmy/cmelab/data/ITIC/4700e7da2f41cc6c77e08977f1f8d94c/trajectory.gsd"
   ]
  },
  {
   "cell_type": "code",
   "execution_count": 79,
   "id": "aebdfa18",
   "metadata": {},
   "outputs": [],
   "source": [
    "g = gsd.pygsd.GSDFile(open('/Users/jimmy/cmelab/data/ITIC/4700e7da2f41cc6c77e08977f1f8d94c/trajectory.gsd', \"rb\"))\n",
    "trajectory = gsd.hoomd.HOOMDTrajectory(g)\n",
    "gsd_length= len(trajectory)\n",
    "with gsd.hoomd.open(name='/Users/jimmy/cmelab/data/ITIC/4700e7da2f41cc6c77e08977f1f8d94c/trajectory.gsd', mode='rb') as f:\n",
    "    start_snap = f[1]\n",
    "    end_snap = f[gsd_length - 1]\n",
    "    \n",
    "#ids = start_snap.particles.typeid\n",
    "ids = np.arange(start_snap.particles.N)\n",
    "start_snap.particles.position *= ref_distance\n",
    "start_snap.configuration.box[:3] *= ref_distance"
   ]
  },
  {
   "cell_type": "code",
   "execution_count": 80,
   "id": "d32eea46",
   "metadata": {},
   "outputs": [],
   "source": [
    "qcc_input = eqcc.write_qcc_inp(start_snap, ids, amber_dict)"
   ]
  },
  {
   "cell_type": "code",
   "execution_count": 81,
   "id": "7b77b2c2",
   "metadata": {
    "scrolled": true,
    "tags": []
   },
   "outputs": [
    {
     "name": "stdout",
     "output_type": "stream",
     "text": [
      "C -11.450420114301867 4.913000837449104 -2.334926051478231; C -10.62080547501964 5.878941312912971 -3.003505153040731; C -9.277354928754992 5.605571523789436 -3.199855250696981; H -11.044782373213 6.84450985539344 -3.5172628587292074; C -8.728589746259875 4.38307072270301 -2.906123561243856; H -8.684419366621203 6.441711202744514 -3.6693185990856527; C -9.641090127729601 3.376813665513069 -2.5584215348766683; C -10.962783548139758 3.608038679245979 -2.017867488245809; H -11.441552850507922 2.889600530747444 -1.3854040330456137; H -12.420362207197375 5.140653387192756 -2.1178468888805746; C -9.03839466264171 2.1130988751688307 -2.3547758286999105; C -7.718425485395617 2.467179075364143 -2.382867259363973; C -7.408912393354601 3.8633468304910963 -2.4948400682018637; O -6.4063870637647575 4.476288572434456 -2.7371210282848715; C -9.614186975263781 0.9633958493509596 -1.9660162156628012; C -10.939828607343859 0.7731282864847486 -2.5138563340710043; C -9.101953241132922 -0.22583602320763418 -1.9191374009655355; N -11.96061489274425 0.6869695340433424 -2.937585276942098; N -8.714328500532336 -1.2458746279439623 -1.7328771775768637; C -6.999173852705187 1.6411426221170728 -1.8340715592907308; C -5.764819833540148 1.0131127988138502 -2.40906278548702; H -6.844447824262804 1.8944966946878736 -0.7906393235729574; S -4.313194009565539 2.0862195645609205 -2.333632869105184; C -3.2575623719922966 1.0129068051615064 -1.4425863450573324; C -4.0547940461866325 -0.10989402186486075 -1.2442144578503012; C -5.419902536176867 -0.12537978541466543 -1.68048612533077; H -6.096564981245226 -1.0907232607564623 -1.5546163743542074; C -2.00796482255382 1.0750329648294752 -0.7843507951305746; S -3.387330743574328 -1.4496691073140795 -0.6401781266735433; C -2.0807873933546013 -0.24500869166466543 -0.42257635055049647; C -1.4590890138379997 2.022885099534065 0.3146329695178629; C -0.5494534700147575 0.7898023282327955 0.32697160782352697; C -0.9880044191114372 -0.45048354518029043 0.17335565628544103; C -0.39913913896007003 3.209736600998909 0.5737787062121988; C -2.7567898957960075 2.750567213181526 0.27299745621219884; C -2.692464563154406 3.9917676602640455 -0.5118574327038168; C -3.754300805830187 4.849462286118538 -0.5438894456432699; C -4.828757974409289 4.563215032700569 0.29368837418094884; C -4.928439828657336 3.322290197495491 1.0400491529895426; C 0.5021193296678597 3.7371757184305494 -0.41796438155635585; C 0.9890387327440315 5.008458868149788 -0.2162508195446371; C 0.5590136320360237 5.8017604504862135 0.9007859999133707; C -0.4868581025831169 5.30934311497596 1.7557359510852457; C -0.7785927980176872 3.9905002270975416 1.658960896153605; C -3.9156052797071403 2.363339201096565 0.9380613142444254; H 0.8682692320116097 3.188586012009651 -1.2873396104381918; H -5.85299656083507 3.137859121445686 1.8268953138782145; H -3.9563061921827263 1.3776796017923658 1.367550449986613; H -3.8347928254835075 5.806392446640999 -1.159182948450887; H -1.916026803754992 4.202737585190803 -1.177087230067098; H 1.7369110853441292 5.44182373631385 -0.829055232386434; H -0.9360215394727653 5.902019277695686 2.580368595738566; H -1.3851811616651482 3.4829061185159986 2.4129052931262613; C -6.0643670289747185 5.31714226353553 -0.3063520616100668; C -6.402356836103625 6.446957365159065 0.5729013258411051; H -7.071737024091906 4.634079710129768 -0.22781316695674647; H -5.970643731855578 5.931891218308479 -1.2017111009167074; C -7.26222393205089 7.5643336926737135 0.02526338638798009; H -5.486413690351672 6.927356496933967 1.0660997206164957; H -6.9814202516309685 6.003903165940315 1.4902749830676676; C -8.605380746626086 7.216881528977424 -0.7367014115856527; H -6.613681527876086 8.20418717015174 -0.7282385057018637; H -7.362079355024523 8.346935049180061 0.857275562901652; C -9.332875940107531 8.582932249192268 -0.5654157823131918; H -8.31642315080089 7.1230237637796705 -1.8114504045055746; H -9.325366708540148 6.4059960995951 -0.2299093431042074; C -10.837512704633898 8.710708395127327 -1.142186564783895; H -8.69247409989757 9.327663675431282 -1.0548109239147543; H -9.433669778608508 8.775771871689827 0.4716935926868082; H -10.856246682905383 8.837651029709846 -2.213056010584676; H -11.268302652143664 9.610749498490364 -0.7462629502819418; H -11.46162578751964 8.041617170456917 -0.6976389115856527; C 0.8720248014696175 7.283896223191292 0.865454273839152; C 1.995258596635633 7.681700483445198 1.9665876203967692; H -0.13650676896495284 7.826526418808967 1.1416669660998942; H 1.2358029157884651 7.5440395032205885 -0.15306798873409022; C 2.247761038041883 9.179803625229866 1.9077649885608317; H 2.9597256452806526 7.145231023911506 1.6854883009387613; H 1.782222059465223 7.443982854966194 2.9374414259387613; C 1.1156466276414925 10.125735059861213 2.4424844557239176; H 2.411897924638563 9.447151914719612 0.8693834120227457; H 3.129171636796766 9.287770048264534 2.521193104405558; C 1.6753065855272347 11.561881796006233 2.182289677281535; H 0.9420082838304573 9.993229642991096 3.4426484877063395; H 0.28070094893055497 9.997467294816047 1.8352399641467692; C 2.733922270036512 11.82759262669471 3.321823673863566; H 0.8426459104784065 12.373653188828499 2.157240467686808; H 2.03394248793202 11.664493814591438 1.1923757368518473; H 2.45659759352284 11.538632646683723 4.440712528844035; H 2.9828770429857308 12.87437750447181 3.37053926529423; H 3.6499321729906136 11.284450784806282 3.0302739912463785; C 0.8854449064500862 0.8302705441751783 0.4071756178332926; C 1.5830977232225472 -0.36770652186486075 0.6622567945911051; C 1.0205958158739143 -1.6272413576802904 0.9811406904651285; C -0.44523594071788253 -1.6199037874898607 0.6916375929309488; H 1.5040676862962776 1.8102100049295728 0.5157743269397379; H -1.206523629926867 -2.4049322451314623 0.9775358015491129; C 2.9069111616380745 -0.40131972682091543 0.844671803136027; C 2.15552451918202 -2.5974962557515795 0.44453676285282384; C 3.29430511305409 -1.5937692965230639 0.5280271345569254; S 4.165183332658582 0.7041947995462721 1.081274586339152; C 5.267817762590223 -0.5154115999898607 1.2115617567493082; C 4.685698774553114 -1.7016699160298998 0.9697881514026285; C 3.1042073042161995 -3.672765954848259 0.8263650709582926; C 1.427784231401258 -3.3489324892720873 -0.7086958116100668; C 0.4530375272996956 -2.6862490023336107 -1.6008085435436605; C -0.4702546327344841 -3.4331972445211107 -2.3245920365856527; C -0.3619649141065544 -4.851215585585564 -2.177026194910848; C 0.4981100828416878 -5.480516656752556 -1.2818426316784262; C 1.2454922468431526 -4.754144891615837 -0.5131353562878012; C 4.03964259932118 -3.9968988741597826 -0.2712873643444418; C 4.923104551530653 -5.050880655165642 -0.2676576798961996; C 4.776837614274793 -5.941654428359001 0.8244348341418863; C 3.8585436613328987 -5.691967233534783 1.93340547623173; C 2.990154531694227 -4.542093500014275 1.981625157017863; C 6.123808172441297 -6.396841272231072 1.1101766401721598; C 6.313961294389539 -7.798765405531853 0.7869363600207926; H 6.106859472490125 -6.283706888075798 2.1768499189807535; H 6.793192175126844 -5.907940133925408 0.40557916702762853; C 7.842567709184461 -8.03909896266076 1.0704084211780192; H 6.077605512834364 -7.99741958033654 -0.17151777205928553; H 5.754687574601942 -8.387876733656853 1.4941545301868082; C 8.211228636003309 -9.451305612441033 0.8101411634875895; H 7.8356478483446175 -7.95782111537072 2.1512552076770426; H 8.515078333116346 -7.397848352309197 0.4290433699084879; C 9.645405557847791 -9.563501581068962 1.3381963545276285; H 8.056310919023328 -9.54568503748986 -0.29737226424678553; H 7.662747648454481 -10.13776610743615 1.2579179579211832; C 10.233638075090223 -11.018453821059197 0.9623952681018473; H 9.67490985701161 -9.4014990175924 2.482845860142863; H 10.285755422807508 -8.782459482069939 0.8966031843616129; H 9.636390474534803 -11.762306436415642 1.5132222944690348; H 11.248737123704725 -11.065172418471306 1.3313470655871988; H 10.180939462877088 -11.395719751234978 -0.022830409388387096; C -1.275218698286242 -5.9093248690328295 -2.656335276942098; C -2.604493829511828 -5.362224801894158 -3.0297121232555746; H -1.361694070600695 -6.720064386244744 -1.8313688462780355; H -0.7251717775098747 -6.385973199721306 -3.4690336411999105; C -3.476773950361437 -6.6456835116109545 -3.145594996790731; H -2.383067819379992 -4.749750360365837 -3.910842341761434; H -2.995250436567492 -4.674555047865837 -2.3420290177868246; C -4.971082422041125 -6.237966760512322 -3.390038890223348; H -3.339282724165148 -7.148956521864861 -2.159591121058309; H -3.0935418336622185 -7.292997583266228 -4.021138591151082; C -5.620853158735461 -7.606058343764275 -3.725945872645223; H -5.120149347089953 -5.4560167635640795 -4.180406016688192; H -5.346427652143664 -5.796997293349236 -2.328076762537801; C -7.063401910566515 -7.2613146151265795 -4.209393901209676; H -5.566270562910265 -8.158346399184197 -2.7910761064098715; H -5.243066522382922 -8.135368570204704 -4.482160014490926; H -7.704522821211047 -6.710119470473259 -3.456546229700887; H -7.658832284712023 -7.993225320692986 -4.542497081141317; H -7.103782388471789 -6.621221765395134 -5.216231746058309; H 0.6626427442796761 -1.775327905531853 -1.907952708582723; H -1.070699426435656 -3.080787881728142 -3.009778422694051; H 0.6408341200120979 -6.584291681166619 -1.198327464442098; H 1.7357876569994026 -5.35479377162072 0.2682615095569254; H 2.2341931135423714 -4.440138086195915 2.754480915684855; H 4.100055959916883 -3.307991250868767 -1.1244787400768637; H 5.585167196489149 -5.127079233046501 -1.0464910691784262; H 3.868908193803602 -6.467029794569939 2.7724633985950113; S 5.769380834794813 -2.9392225588521654 1.587927418370402; C 6.963444021440321 -1.6817877138814623 1.6805520826770426; C 6.606841352678114 -0.4360906923970873 1.3658529097034098; H 7.221224096513563 0.3174951230326002 1.7422662550403238; C 8.404790189958387 -2.02618049037072 1.9470201307727457; C 9.07770994017201 -3.1001741732320482 2.3247381025745035; H 9.012539175248914 -1.2867319430074389 1.5589338118030192; C 8.801802900529676 -4.493887170668572 2.201769428868449; C 9.995854166246229 -5.203432306166619 2.477221089024699; C 10.929568556047254 -4.237831338759392 2.758776264805949; C 10.509676721788221 -2.9196874941549 2.461033421178019; O 7.820725706315809 -5.032491906996697 2.2616296583606363; C 11.23435809919911 -1.8517286623677904 2.8781247908069254; C 10.69966342756825 -0.6160890902242357 3.267826634068644; C 12.561265972352796 -1.7934286440572436 2.554003315587199; N 10.187440183854871 0.3752038632669752 3.6243882948352457; N 13.649949815965467 -1.863329156752556 2.4124952131702067; C 12.26319053480702 -4.650634988661736 3.152565556187785; C 12.682720211244398 -6.022279962416619 2.8819814497424723; C 11.679262426591688 -6.917272790785759 2.323063450474894; C 10.345302370286756 -6.513361200209587 2.3372598463489176; H 12.968537595964246 -3.9003317202291186 3.745203571934855; H 13.660716083741956 -6.365925058241814 3.0008340650989176; H 11.920482900834852 -7.938188775893181 1.9232202345325113; H 9.727561262346082 -7.219593271132439 2.062046604771769;\n"
     ]
    }
   ],
   "source": [
    "print(qcc_input)"
   ]
  },
  {
   "cell_type": "markdown",
   "id": "8e207237",
   "metadata": {},
   "source": [
    "It looks like I have a qcc input IM not sure the move I used to get \"ids\" was legit . time will tell"
   ]
  },
  {
   "cell_type": "code",
   "execution_count": 82,
   "id": "e5338a6f",
   "metadata": {},
   "outputs": [],
   "source": [
    "homolumo = eqcc.get_homolumo(qcc_input)"
   ]
  },
  {
   "cell_type": "code",
   "execution_count": 83,
   "id": "1413601e",
   "metadata": {},
   "outputs": [
    {
     "name": "stdout",
     "output_type": "stream",
     "text": [
      "[-7.35879844 -7.15381864 -1.13025732 -0.94548734]\n"
     ]
    }
   ],
   "source": [
    "print(homolumo)"
   ]
  },
  {
   "cell_type": "markdown",
   "id": "334cf883",
   "metadata": {},
   "source": [
    "the above is\n",
    "HOMO-1, HOMO, LUMO, LUMO+1 above. "
   ]
  },
  {
   "cell_type": "code",
   "execution_count": 84,
   "id": "c9213b50",
   "metadata": {},
   "outputs": [
    {
     "data": {
      "application/3dmoljs_load.v0": "<div id=\"3dmolviewer_1622671037990344\"  style=\"position: relative; width: 640px; height: 480px\">\n        <p id=\"3dmolwarning_1622671037990344\" style=\"background-color:#ffcccc;color:black\">You appear to be running in JupyterLab (or JavaScript failed to load for some other reason).  You need to install the 3dmol extension: <br>\n        <tt>jupyter labextension install jupyterlab_3dmol</tt></p>\n        </div>\n<script>\n\nvar loadScriptAsync = function(uri){\n  return new Promise((resolve, reject) => {\n    var tag = document.createElement('script');\n    tag.src = uri;\n    tag.async = true;\n    tag.onload = () => {\n      resolve();\n    };\n  var firstScriptTag = document.getElementsByTagName('script')[0];\n  firstScriptTag.parentNode.insertBefore(tag, firstScriptTag);\n});\n};\n\nif(typeof $3Dmolpromise === 'undefined') {\n$3Dmolpromise = null;\n  $3Dmolpromise = loadScriptAsync('https://3dmol.csb.pitt.edu/build/3Dmol.js');\n}\n\nvar viewer_1622671037990344 = null;\nvar warn = document.getElementById(\"3dmolwarning_1622671037990344\");\nif(warn) {\n    warn.parentNode.removeChild(warn);\n}\n$3Dmolpromise.then(function() {\nviewer_1622671037990344 = $3Dmol.createViewer($(\"#3dmolviewer_1622671037990344\"),{backgroundColor:\"white\"});\n\tviewer_1622671037990344.addModel(\"@<TRIPOS>MOLECULE\\nRES\\n186 0 1 0 1\\nSMALL\\nNO_CHARGES\\n@<TRIPOS>CRYSIN\\n   31.0811    29.6367    14.6569    90.0000    90.0000    90.0000  1  1\\n@<TRIPOS>ATOM\\n       1 C          -11.4504     4.9130    -2.3349 C             1 RES     \\n       2 C          -10.6208     5.8789    -3.0035 C             1 RES     \\n       3 C           -9.2774     5.6056    -3.1999 C             1 RES     \\n       4 H          -11.0448     6.8445    -3.5173 H             1 RES     \\n       5 C           -8.7286     4.3831    -2.9061 C             1 RES     \\n       6 H           -8.6844     6.4417    -3.6693 H             1 RES     \\n       7 C           -9.6411     3.3768    -2.5584 C             1 RES     \\n       8 C          -10.9628     3.6080    -2.0179 C             1 RES     \\n       9 H          -11.4416     2.8896    -1.3854 H             1 RES     \\n      10 H          -12.4204     5.1407    -2.1178 H             1 RES     \\n      11 C           -9.0384     2.1131    -2.3548 C             1 RES     \\n      12 C           -7.7184     2.4672    -2.3829 C             1 RES     \\n      13 C           -7.4089     3.8633    -2.4948 C             1 RES     \\n      14 O           -6.4064     4.4763    -2.7371 O             1 RES     \\n      15 C           -9.6142     0.9634    -1.9660 C             1 RES     \\n      16 C          -10.9398     0.7731    -2.5139 C             1 RES     \\n      17 C           -9.1020    -0.2258    -1.9191 C             1 RES     \\n      18 N          -11.9606     0.6870    -2.9376 N             1 RES     \\n      19 N           -8.7143    -1.2459    -1.7329 N             1 RES     \\n      20 C           -6.9992     1.6411    -1.8341 C             1 RES     \\n      21 C           -5.7648     1.0131    -2.4091 C             1 RES     \\n      22 H           -6.8444     1.8945    -0.7906 H             1 RES     \\n      23 S           -4.3132     2.0862    -2.3336 S             1 RES     \\n      24 C           -3.2576     1.0129    -1.4426 C             1 RES     \\n      25 C           -4.0548    -0.1099    -1.2442 C             1 RES     \\n      26 C           -5.4199    -0.1254    -1.6805 C             1 RES     \\n      27 H           -6.0966    -1.0907    -1.5546 H             1 RES     \\n      28 C           -2.0080     1.0750    -0.7844 C             1 RES     \\n      29 S           -3.3873    -1.4497    -0.6402 S             1 RES     \\n      30 C           -2.0808    -0.2450    -0.4226 C             1 RES     \\n      31 C           -1.4591     2.0229     0.3146 C             1 RES     \\n      32 C           -0.5495     0.7898     0.3270 C             1 RES     \\n      33 C           -0.9880    -0.4505     0.1734 C             1 RES     \\n      34 C           -0.3991     3.2097     0.5738 C             1 RES     \\n      35 C           -2.7568     2.7506     0.2730 C             1 RES     \\n      36 C           -2.6925     3.9918    -0.5119 C             1 RES     \\n      37 C           -3.7543     4.8495    -0.5439 C             1 RES     \\n      38 C           -4.8288     4.5632     0.2937 C             1 RES     \\n      39 C           -4.9284     3.3223     1.0400 C             1 RES     \\n      40 C            0.5021     3.7372    -0.4180 C             1 RES     \\n      41 C            0.9890     5.0085    -0.2163 C             1 RES     \\n      42 C            0.5590     5.8018     0.9008 C             1 RES     \\n      43 C           -0.4869     5.3093     1.7557 C             1 RES     \\n      44 C           -0.7786     3.9905     1.6590 C             1 RES     \\n      45 C           -3.9156     2.3633     0.9381 C             1 RES     \\n      46 H            0.8683     3.1886    -1.2873 H             1 RES     \\n      47 H           -5.8530     3.1379     1.8269 H             1 RES     \\n      48 H           -3.9563     1.3777     1.3676 H             1 RES     \\n      49 H           -3.8348     5.8064    -1.1592 H             1 RES     \\n      50 H           -1.9160     4.2027    -1.1771 H             1 RES     \\n      51 H            1.7369     5.4418    -0.8291 H             1 RES     \\n      52 H           -0.9360     5.9020     2.5804 H             1 RES     \\n      53 H           -1.3852     3.4829     2.4129 H             1 RES     \\n      54 C           -6.0644     5.3171    -0.3064 C             1 RES     \\n      55 C           -6.4024     6.4470     0.5729 C             1 RES     \\n      56 H           -7.0717     4.6341    -0.2278 H             1 RES     \\n      57 H           -5.9706     5.9319    -1.2017 H             1 RES     \\n      58 C           -7.2622     7.5643     0.0253 C             1 RES     \\n      59 H           -5.4864     6.9274     1.0661 H             1 RES     \\n      60 H           -6.9814     6.0039     1.4903 H             1 RES     \\n      61 C           -8.6054     7.2169    -0.7367 C             1 RES     \\n      62 H           -6.6137     8.2042    -0.7282 H             1 RES     \\n      63 H           -7.3621     8.3469     0.8573 H             1 RES     \\n      64 C           -9.3329     8.5829    -0.5654 C             1 RES     \\n      65 H           -8.3164     7.1230    -1.8115 H             1 RES     \\n      66 H           -9.3254     6.4060    -0.2299 H             1 RES     \\n      67 C          -10.8375     8.7107    -1.1422 C             1 RES     \\n      68 H           -8.6925     9.3277    -1.0548 H             1 RES     \\n      69 H           -9.4337     8.7758     0.4717 H             1 RES     \\n      70 H          -10.8562     8.8377    -2.2131 H             1 RES     \\n      71 H          -11.2683     9.6107    -0.7463 H             1 RES     \\n      72 H          -11.4616     8.0416    -0.6976 H             1 RES     \\n      73 C            0.8720     7.2839     0.8655 C             1 RES     \\n      74 C            1.9953     7.6817     1.9666 C             1 RES     \\n      75 H           -0.1365     7.8265     1.1417 H             1 RES     \\n      76 H            1.2358     7.5440    -0.1531 H             1 RES     \\n      77 C            2.2478     9.1798     1.9078 C             1 RES     \\n      78 H            2.9597     7.1452     1.6855 H             1 RES     \\n      79 H            1.7822     7.4440     2.9374 H             1 RES     \\n      80 C            1.1156    10.1257     2.4425 C             1 RES     \\n      81 H            2.4119     9.4472     0.8694 H             1 RES     \\n      82 H            3.1292     9.2878     2.5212 H             1 RES     \\n      83 C            1.6753    11.5619     2.1823 C             1 RES     \\n      84 H            0.9420     9.9932     3.4426 H             1 RES     \\n      85 H            0.2807     9.9975     1.8352 H             1 RES     \\n      86 C            2.7339    11.8276     3.3218 C             1 RES     \\n      87 H            0.8426    12.3737     2.1572 H             1 RES     \\n      88 H            2.0339    11.6645     1.1924 H             1 RES     \\n      89 H            2.4566    11.5386     4.4407 H             1 RES     \\n      90 H            2.9829    12.8744     3.3705 H             1 RES     \\n      91 H            3.6499    11.2845     3.0303 H             1 RES     \\n      92 C            0.8854     0.8303     0.4072 C             1 RES     \\n      93 C            1.5831    -0.3677     0.6623 C             1 RES     \\n      94 C            1.0206    -1.6272     0.9811 C             1 RES     \\n      95 C           -0.4452    -1.6199     0.6916 C             1 RES     \\n      96 H            1.5041     1.8102     0.5158 H             1 RES     \\n      97 H           -1.2065    -2.4049     0.9775 H             1 RES     \\n      98 C            2.9069    -0.4013     0.8447 C             1 RES     \\n      99 C            2.1555    -2.5975     0.4445 C             1 RES     \\n     100 C            3.2943    -1.5938     0.5280 C             1 RES     \\n     101 S            4.1652     0.7042     1.0813 S             1 RES     \\n     102 C            5.2678    -0.5154     1.2116 C             1 RES     \\n     103 C            4.6857    -1.7017     0.9698 C             1 RES     \\n     104 C            3.1042    -3.6728     0.8264 C             1 RES     \\n     105 C            1.4278    -3.3489    -0.7087 C             1 RES     \\n     106 C            0.4530    -2.6862    -1.6008 C             1 RES     \\n     107 C           -0.4703    -3.4332    -2.3246 C             1 RES     \\n     108 C           -0.3620    -4.8512    -2.1770 C             1 RES     \\n     109 C            0.4981    -5.4805    -1.2818 C             1 RES     \\n     110 C            1.2455    -4.7541    -0.5131 C             1 RES     \\n     111 C            4.0396    -3.9969    -0.2713 C             1 RES     \\n     112 C            4.9231    -5.0509    -0.2677 C             1 RES     \\n     113 C            4.7768    -5.9417     0.8244 C             1 RES     \\n     114 C            3.8585    -5.6920     1.9334 C             1 RES     \\n     115 C            2.9902    -4.5421     1.9816 C             1 RES     \\n     116 C            6.1238    -6.3968     1.1102 C             1 RES     \\n     117 C            6.3140    -7.7988     0.7869 C             1 RES     \\n     118 H            6.1069    -6.2837     2.1768 H             1 RES     \\n     119 H            6.7932    -5.9079     0.4056 H             1 RES     \\n     120 C            7.8426    -8.0391     1.0704 C             1 RES     \\n     121 H            6.0776    -7.9974    -0.1715 H             1 RES     \\n     122 H            5.7547    -8.3879     1.4942 H             1 RES     \\n     123 C            8.2112    -9.4513     0.8101 C             1 RES     \\n     124 H            7.8356    -7.9578     2.1513 H             1 RES     \\n     125 H            8.5151    -7.3978     0.4290 H             1 RES     \\n     126 C            9.6454    -9.5635     1.3382 C             1 RES     \\n     127 H            8.0563    -9.5457    -0.2974 H             1 RES     \\n     128 H            7.6627   -10.1378     1.2579 H             1 RES     \\n     129 C           10.2336   -11.0185     0.9624 C             1 RES     \\n     130 H            9.6749    -9.4015     2.4828 H             1 RES     \\n     131 H           10.2858    -8.7825     0.8966 H             1 RES     \\n     132 H            9.6364   -11.7623     1.5132 H             1 RES     \\n     133 H           11.2487   -11.0652     1.3313 H             1 RES     \\n     134 H           10.1809   -11.3957    -0.0228 H             1 RES     \\n     135 C           -1.2752    -5.9093    -2.6563 C             1 RES     \\n     136 C           -2.6045    -5.3622    -3.0297 C             1 RES     \\n     137 H           -1.3617    -6.7201    -1.8314 H             1 RES     \\n     138 H           -0.7252    -6.3860    -3.4690 H             1 RES     \\n     139 C           -3.4768    -6.6457    -3.1456 C             1 RES     \\n     140 H           -2.3831    -4.7498    -3.9108 H             1 RES     \\n     141 H           -2.9953    -4.6746    -2.3420 H             1 RES     \\n     142 C           -4.9711    -6.2380    -3.3900 C             1 RES     \\n     143 H           -3.3393    -7.1490    -2.1596 H             1 RES     \\n     144 H           -3.0935    -7.2930    -4.0211 H             1 RES     \\n     145 C           -5.6209    -7.6061    -3.7259 C             1 RES     \\n     146 H           -5.1201    -5.4560    -4.1804 H             1 RES     \\n     147 H           -5.3464    -5.7970    -2.3281 H             1 RES     \\n     148 C           -7.0634    -7.2613    -4.2094 C             1 RES     \\n     149 H           -5.5663    -8.1583    -2.7911 H             1 RES     \\n     150 H           -5.2431    -8.1354    -4.4822 H             1 RES     \\n     151 H           -7.7045    -6.7101    -3.4565 H             1 RES     \\n     152 H           -7.6588    -7.9932    -4.5425 H             1 RES     \\n     153 H           -7.1038    -6.6212    -5.2162 H             1 RES     \\n     154 H            0.6626    -1.7753    -1.9080 H             1 RES     \\n     155 H           -1.0707    -3.0808    -3.0098 H             1 RES     \\n     156 H            0.6408    -6.5843    -1.1983 H             1 RES     \\n     157 H            1.7358    -5.3548     0.2683 H             1 RES     \\n     158 H            2.2342    -4.4401     2.7545 H             1 RES     \\n     159 H            4.1001    -3.3080    -1.1245 H             1 RES     \\n     160 H            5.5852    -5.1271    -1.0465 H             1 RES     \\n     161 H            3.8689    -6.4670     2.7725 H             1 RES     \\n     162 S            5.7694    -2.9392     1.5879 S             1 RES     \\n     163 C            6.9634    -1.6818     1.6806 C             1 RES     \\n     164 C            6.6068    -0.4361     1.3659 C             1 RES     \\n     165 H            7.2212     0.3175     1.7423 H             1 RES     \\n     166 C            8.4048    -2.0262     1.9470 C             1 RES     \\n     167 C            9.0777    -3.1002     2.3247 C             1 RES     \\n     168 H            9.0125    -1.2867     1.5589 H             1 RES     \\n     169 C            8.8018    -4.4939     2.2018 C             1 RES     \\n     170 C            9.9959    -5.2034     2.4772 C             1 RES     \\n     171 C           10.9296    -4.2378     2.7588 C             1 RES     \\n     172 C           10.5097    -2.9197     2.4610 C             1 RES     \\n     173 O            7.8207    -5.0325     2.2616 O             1 RES     \\n     174 C           11.2344    -1.8517     2.8781 C             1 RES     \\n     175 C           10.6997    -0.6161     3.2678 C             1 RES     \\n     176 C           12.5613    -1.7934     2.5540 C             1 RES     \\n     177 N           10.1874     0.3752     3.6244 N             1 RES     \\n     178 N           13.6499    -1.8633     2.4125 N             1 RES     \\n     179 C           12.2632    -4.6506     3.1526 C             1 RES     \\n     180 C           12.6827    -6.0223     2.8820 C             1 RES     \\n     181 C           11.6793    -6.9173     2.3231 C             1 RES     \\n     182 C           10.3453    -6.5134     2.3373 C             1 RES     \\n     183 H           12.9685    -3.9003     3.7452 H             1 RES     \\n     184 H           13.6607    -6.3659     3.0008 H             1 RES     \\n     185 H           11.9205    -7.9382     1.9232 H             1 RES     \\n     186 H            9.7276    -7.2196     2.0620 H             1 RES     \\n@<TRIPOS>BOND\\n@<TRIPOS>SUBSTRUCTURE\\n       1 RES             1 RESIDUE    0 **** ROOT      0\\n\",\"mol2\");\n\tviewer_1622671037990344.setStyle({\"stick\": {\"radius\": 0.2, \"color\": \"grey\"}, \"sphere\": {\"scale\": 0.3, \"colorscheme\": {}}});\n\tviewer_1622671037990344.zoomTo();\nviewer_1622671037990344.render();\n});\n</script>",
      "text/html": [
       "<div id=\"3dmolviewer_1622671037990344\"  style=\"position: relative; width: 640px; height: 480px\">\n",
       "        <p id=\"3dmolwarning_1622671037990344\" style=\"background-color:#ffcccc;color:black\">You appear to be running in JupyterLab (or JavaScript failed to load for some other reason).  You need to install the 3dmol extension: <br>\n",
       "        <tt>jupyter labextension install jupyterlab_3dmol</tt></p>\n",
       "        </div>\n",
       "<script>\n",
       "\n",
       "var loadScriptAsync = function(uri){\n",
       "  return new Promise((resolve, reject) => {\n",
       "    var tag = document.createElement('script');\n",
       "    tag.src = uri;\n",
       "    tag.async = true;\n",
       "    tag.onload = () => {\n",
       "      resolve();\n",
       "    };\n",
       "  var firstScriptTag = document.getElementsByTagName('script')[0];\n",
       "  firstScriptTag.parentNode.insertBefore(tag, firstScriptTag);\n",
       "});\n",
       "};\n",
       "\n",
       "if(typeof $3Dmolpromise === 'undefined') {\n",
       "$3Dmolpromise = null;\n",
       "  $3Dmolpromise = loadScriptAsync('https://3dmol.csb.pitt.edu/build/3Dmol.js');\n",
       "}\n",
       "\n",
       "var viewer_1622671037990344 = null;\n",
       "var warn = document.getElementById(\"3dmolwarning_1622671037990344\");\n",
       "if(warn) {\n",
       "    warn.parentNode.removeChild(warn);\n",
       "}\n",
       "$3Dmolpromise.then(function() {\n",
       "viewer_1622671037990344 = $3Dmol.createViewer($(\"#3dmolviewer_1622671037990344\"),{backgroundColor:\"white\"});\n",
       "\tviewer_1622671037990344.addModel(\"@<TRIPOS>MOLECULE\\nRES\\n186 0 1 0 1\\nSMALL\\nNO_CHARGES\\n@<TRIPOS>CRYSIN\\n   31.0811    29.6367    14.6569    90.0000    90.0000    90.0000  1  1\\n@<TRIPOS>ATOM\\n       1 C          -11.4504     4.9130    -2.3349 C             1 RES     \\n       2 C          -10.6208     5.8789    -3.0035 C             1 RES     \\n       3 C           -9.2774     5.6056    -3.1999 C             1 RES     \\n       4 H          -11.0448     6.8445    -3.5173 H             1 RES     \\n       5 C           -8.7286     4.3831    -2.9061 C             1 RES     \\n       6 H           -8.6844     6.4417    -3.6693 H             1 RES     \\n       7 C           -9.6411     3.3768    -2.5584 C             1 RES     \\n       8 C          -10.9628     3.6080    -2.0179 C             1 RES     \\n       9 H          -11.4416     2.8896    -1.3854 H             1 RES     \\n      10 H          -12.4204     5.1407    -2.1178 H             1 RES     \\n      11 C           -9.0384     2.1131    -2.3548 C             1 RES     \\n      12 C           -7.7184     2.4672    -2.3829 C             1 RES     \\n      13 C           -7.4089     3.8633    -2.4948 C             1 RES     \\n      14 O           -6.4064     4.4763    -2.7371 O             1 RES     \\n      15 C           -9.6142     0.9634    -1.9660 C             1 RES     \\n      16 C          -10.9398     0.7731    -2.5139 C             1 RES     \\n      17 C           -9.1020    -0.2258    -1.9191 C             1 RES     \\n      18 N          -11.9606     0.6870    -2.9376 N             1 RES     \\n      19 N           -8.7143    -1.2459    -1.7329 N             1 RES     \\n      20 C           -6.9992     1.6411    -1.8341 C             1 RES     \\n      21 C           -5.7648     1.0131    -2.4091 C             1 RES     \\n      22 H           -6.8444     1.8945    -0.7906 H             1 RES     \\n      23 S           -4.3132     2.0862    -2.3336 S             1 RES     \\n      24 C           -3.2576     1.0129    -1.4426 C             1 RES     \\n      25 C           -4.0548    -0.1099    -1.2442 C             1 RES     \\n      26 C           -5.4199    -0.1254    -1.6805 C             1 RES     \\n      27 H           -6.0966    -1.0907    -1.5546 H             1 RES     \\n      28 C           -2.0080     1.0750    -0.7844 C             1 RES     \\n      29 S           -3.3873    -1.4497    -0.6402 S             1 RES     \\n      30 C           -2.0808    -0.2450    -0.4226 C             1 RES     \\n      31 C           -1.4591     2.0229     0.3146 C             1 RES     \\n      32 C           -0.5495     0.7898     0.3270 C             1 RES     \\n      33 C           -0.9880    -0.4505     0.1734 C             1 RES     \\n      34 C           -0.3991     3.2097     0.5738 C             1 RES     \\n      35 C           -2.7568     2.7506     0.2730 C             1 RES     \\n      36 C           -2.6925     3.9918    -0.5119 C             1 RES     \\n      37 C           -3.7543     4.8495    -0.5439 C             1 RES     \\n      38 C           -4.8288     4.5632     0.2937 C             1 RES     \\n      39 C           -4.9284     3.3223     1.0400 C             1 RES     \\n      40 C            0.5021     3.7372    -0.4180 C             1 RES     \\n      41 C            0.9890     5.0085    -0.2163 C             1 RES     \\n      42 C            0.5590     5.8018     0.9008 C             1 RES     \\n      43 C           -0.4869     5.3093     1.7557 C             1 RES     \\n      44 C           -0.7786     3.9905     1.6590 C             1 RES     \\n      45 C           -3.9156     2.3633     0.9381 C             1 RES     \\n      46 H            0.8683     3.1886    -1.2873 H             1 RES     \\n      47 H           -5.8530     3.1379     1.8269 H             1 RES     \\n      48 H           -3.9563     1.3777     1.3676 H             1 RES     \\n      49 H           -3.8348     5.8064    -1.1592 H             1 RES     \\n      50 H           -1.9160     4.2027    -1.1771 H             1 RES     \\n      51 H            1.7369     5.4418    -0.8291 H             1 RES     \\n      52 H           -0.9360     5.9020     2.5804 H             1 RES     \\n      53 H           -1.3852     3.4829     2.4129 H             1 RES     \\n      54 C           -6.0644     5.3171    -0.3064 C             1 RES     \\n      55 C           -6.4024     6.4470     0.5729 C             1 RES     \\n      56 H           -7.0717     4.6341    -0.2278 H             1 RES     \\n      57 H           -5.9706     5.9319    -1.2017 H             1 RES     \\n      58 C           -7.2622     7.5643     0.0253 C             1 RES     \\n      59 H           -5.4864     6.9274     1.0661 H             1 RES     \\n      60 H           -6.9814     6.0039     1.4903 H             1 RES     \\n      61 C           -8.6054     7.2169    -0.7367 C             1 RES     \\n      62 H           -6.6137     8.2042    -0.7282 H             1 RES     \\n      63 H           -7.3621     8.3469     0.8573 H             1 RES     \\n      64 C           -9.3329     8.5829    -0.5654 C             1 RES     \\n      65 H           -8.3164     7.1230    -1.8115 H             1 RES     \\n      66 H           -9.3254     6.4060    -0.2299 H             1 RES     \\n      67 C          -10.8375     8.7107    -1.1422 C             1 RES     \\n      68 H           -8.6925     9.3277    -1.0548 H             1 RES     \\n      69 H           -9.4337     8.7758     0.4717 H             1 RES     \\n      70 H          -10.8562     8.8377    -2.2131 H             1 RES     \\n      71 H          -11.2683     9.6107    -0.7463 H             1 RES     \\n      72 H          -11.4616     8.0416    -0.6976 H             1 RES     \\n      73 C            0.8720     7.2839     0.8655 C             1 RES     \\n      74 C            1.9953     7.6817     1.9666 C             1 RES     \\n      75 H           -0.1365     7.8265     1.1417 H             1 RES     \\n      76 H            1.2358     7.5440    -0.1531 H             1 RES     \\n      77 C            2.2478     9.1798     1.9078 C             1 RES     \\n      78 H            2.9597     7.1452     1.6855 H             1 RES     \\n      79 H            1.7822     7.4440     2.9374 H             1 RES     \\n      80 C            1.1156    10.1257     2.4425 C             1 RES     \\n      81 H            2.4119     9.4472     0.8694 H             1 RES     \\n      82 H            3.1292     9.2878     2.5212 H             1 RES     \\n      83 C            1.6753    11.5619     2.1823 C             1 RES     \\n      84 H            0.9420     9.9932     3.4426 H             1 RES     \\n      85 H            0.2807     9.9975     1.8352 H             1 RES     \\n      86 C            2.7339    11.8276     3.3218 C             1 RES     \\n      87 H            0.8426    12.3737     2.1572 H             1 RES     \\n      88 H            2.0339    11.6645     1.1924 H             1 RES     \\n      89 H            2.4566    11.5386     4.4407 H             1 RES     \\n      90 H            2.9829    12.8744     3.3705 H             1 RES     \\n      91 H            3.6499    11.2845     3.0303 H             1 RES     \\n      92 C            0.8854     0.8303     0.4072 C             1 RES     \\n      93 C            1.5831    -0.3677     0.6623 C             1 RES     \\n      94 C            1.0206    -1.6272     0.9811 C             1 RES     \\n      95 C           -0.4452    -1.6199     0.6916 C             1 RES     \\n      96 H            1.5041     1.8102     0.5158 H             1 RES     \\n      97 H           -1.2065    -2.4049     0.9775 H             1 RES     \\n      98 C            2.9069    -0.4013     0.8447 C             1 RES     \\n      99 C            2.1555    -2.5975     0.4445 C             1 RES     \\n     100 C            3.2943    -1.5938     0.5280 C             1 RES     \\n     101 S            4.1652     0.7042     1.0813 S             1 RES     \\n     102 C            5.2678    -0.5154     1.2116 C             1 RES     \\n     103 C            4.6857    -1.7017     0.9698 C             1 RES     \\n     104 C            3.1042    -3.6728     0.8264 C             1 RES     \\n     105 C            1.4278    -3.3489    -0.7087 C             1 RES     \\n     106 C            0.4530    -2.6862    -1.6008 C             1 RES     \\n     107 C           -0.4703    -3.4332    -2.3246 C             1 RES     \\n     108 C           -0.3620    -4.8512    -2.1770 C             1 RES     \\n     109 C            0.4981    -5.4805    -1.2818 C             1 RES     \\n     110 C            1.2455    -4.7541    -0.5131 C             1 RES     \\n     111 C            4.0396    -3.9969    -0.2713 C             1 RES     \\n     112 C            4.9231    -5.0509    -0.2677 C             1 RES     \\n     113 C            4.7768    -5.9417     0.8244 C             1 RES     \\n     114 C            3.8585    -5.6920     1.9334 C             1 RES     \\n     115 C            2.9902    -4.5421     1.9816 C             1 RES     \\n     116 C            6.1238    -6.3968     1.1102 C             1 RES     \\n     117 C            6.3140    -7.7988     0.7869 C             1 RES     \\n     118 H            6.1069    -6.2837     2.1768 H             1 RES     \\n     119 H            6.7932    -5.9079     0.4056 H             1 RES     \\n     120 C            7.8426    -8.0391     1.0704 C             1 RES     \\n     121 H            6.0776    -7.9974    -0.1715 H             1 RES     \\n     122 H            5.7547    -8.3879     1.4942 H             1 RES     \\n     123 C            8.2112    -9.4513     0.8101 C             1 RES     \\n     124 H            7.8356    -7.9578     2.1513 H             1 RES     \\n     125 H            8.5151    -7.3978     0.4290 H             1 RES     \\n     126 C            9.6454    -9.5635     1.3382 C             1 RES     \\n     127 H            8.0563    -9.5457    -0.2974 H             1 RES     \\n     128 H            7.6627   -10.1378     1.2579 H             1 RES     \\n     129 C           10.2336   -11.0185     0.9624 C             1 RES     \\n     130 H            9.6749    -9.4015     2.4828 H             1 RES     \\n     131 H           10.2858    -8.7825     0.8966 H             1 RES     \\n     132 H            9.6364   -11.7623     1.5132 H             1 RES     \\n     133 H           11.2487   -11.0652     1.3313 H             1 RES     \\n     134 H           10.1809   -11.3957    -0.0228 H             1 RES     \\n     135 C           -1.2752    -5.9093    -2.6563 C             1 RES     \\n     136 C           -2.6045    -5.3622    -3.0297 C             1 RES     \\n     137 H           -1.3617    -6.7201    -1.8314 H             1 RES     \\n     138 H           -0.7252    -6.3860    -3.4690 H             1 RES     \\n     139 C           -3.4768    -6.6457    -3.1456 C             1 RES     \\n     140 H           -2.3831    -4.7498    -3.9108 H             1 RES     \\n     141 H           -2.9953    -4.6746    -2.3420 H             1 RES     \\n     142 C           -4.9711    -6.2380    -3.3900 C             1 RES     \\n     143 H           -3.3393    -7.1490    -2.1596 H             1 RES     \\n     144 H           -3.0935    -7.2930    -4.0211 H             1 RES     \\n     145 C           -5.6209    -7.6061    -3.7259 C             1 RES     \\n     146 H           -5.1201    -5.4560    -4.1804 H             1 RES     \\n     147 H           -5.3464    -5.7970    -2.3281 H             1 RES     \\n     148 C           -7.0634    -7.2613    -4.2094 C             1 RES     \\n     149 H           -5.5663    -8.1583    -2.7911 H             1 RES     \\n     150 H           -5.2431    -8.1354    -4.4822 H             1 RES     \\n     151 H           -7.7045    -6.7101    -3.4565 H             1 RES     \\n     152 H           -7.6588    -7.9932    -4.5425 H             1 RES     \\n     153 H           -7.1038    -6.6212    -5.2162 H             1 RES     \\n     154 H            0.6626    -1.7753    -1.9080 H             1 RES     \\n     155 H           -1.0707    -3.0808    -3.0098 H             1 RES     \\n     156 H            0.6408    -6.5843    -1.1983 H             1 RES     \\n     157 H            1.7358    -5.3548     0.2683 H             1 RES     \\n     158 H            2.2342    -4.4401     2.7545 H             1 RES     \\n     159 H            4.1001    -3.3080    -1.1245 H             1 RES     \\n     160 H            5.5852    -5.1271    -1.0465 H             1 RES     \\n     161 H            3.8689    -6.4670     2.7725 H             1 RES     \\n     162 S            5.7694    -2.9392     1.5879 S             1 RES     \\n     163 C            6.9634    -1.6818     1.6806 C             1 RES     \\n     164 C            6.6068    -0.4361     1.3659 C             1 RES     \\n     165 H            7.2212     0.3175     1.7423 H             1 RES     \\n     166 C            8.4048    -2.0262     1.9470 C             1 RES     \\n     167 C            9.0777    -3.1002     2.3247 C             1 RES     \\n     168 H            9.0125    -1.2867     1.5589 H             1 RES     \\n     169 C            8.8018    -4.4939     2.2018 C             1 RES     \\n     170 C            9.9959    -5.2034     2.4772 C             1 RES     \\n     171 C           10.9296    -4.2378     2.7588 C             1 RES     \\n     172 C           10.5097    -2.9197     2.4610 C             1 RES     \\n     173 O            7.8207    -5.0325     2.2616 O             1 RES     \\n     174 C           11.2344    -1.8517     2.8781 C             1 RES     \\n     175 C           10.6997    -0.6161     3.2678 C             1 RES     \\n     176 C           12.5613    -1.7934     2.5540 C             1 RES     \\n     177 N           10.1874     0.3752     3.6244 N             1 RES     \\n     178 N           13.6499    -1.8633     2.4125 N             1 RES     \\n     179 C           12.2632    -4.6506     3.1526 C             1 RES     \\n     180 C           12.6827    -6.0223     2.8820 C             1 RES     \\n     181 C           11.6793    -6.9173     2.3231 C             1 RES     \\n     182 C           10.3453    -6.5134     2.3373 C             1 RES     \\n     183 H           12.9685    -3.9003     3.7452 H             1 RES     \\n     184 H           13.6607    -6.3659     3.0008 H             1 RES     \\n     185 H           11.9205    -7.9382     1.9232 H             1 RES     \\n     186 H            9.7276    -7.2196     2.0620 H             1 RES     \\n@<TRIPOS>BOND\\n@<TRIPOS>SUBSTRUCTURE\\n       1 RES             1 RESIDUE    0 **** ROOT      0\\n\",\"mol2\");\n",
       "\tviewer_1622671037990344.setStyle({\"stick\": {\"radius\": 0.2, \"color\": \"grey\"}, \"sphere\": {\"scale\": 0.3, \"colorscheme\": {}}});\n",
       "\tviewer_1622671037990344.zoomTo();\n",
       "viewer_1622671037990344.render();\n",
       "});\n",
       "</script>"
      ]
     },
     "metadata": {},
     "output_type": "display_data"
    }
   ],
   "source": [
    "visualize_qcc_input(qcc_input)"
   ]
  },
  {
   "cell_type": "markdown",
   "id": "0b7db5f9",
   "metadata": {},
   "source": [
    "below i want to get the mom lumos for just that back bone."
   ]
  },
  {
   "cell_type": "code",
   "execution_count": 17,
   "id": "e17e48dd",
   "metadata": {},
   "outputs": [
    {
     "name": "stderr",
     "output_type": "stream",
     "text": [
      "/Users/jimmy/miniconda3/envs/morphct-ex/lib/python3.7/site-packages/pyscf/semiempirical/mindo3.py:137: RuntimeWarning: divide by zero encountered in true_divide\n",
      "  mopac_param.E2/distances_in_AA - gamma)\n",
      "/Users/jimmy/miniconda3/envs/morphct-ex/lib/python3.7/site-packages/pyscf/scf/hf.py:181: RuntimeWarning: invalid value encountered in double_scalars\n",
      "  cycle+1, e_tot, e_tot-last_hf_e, norm_gorb, norm_ddm)\n",
      "/Users/jimmy/miniconda3/envs/morphct-ex/lib/python3.7/site-packages/pyscf/scf/hf.py:185: RuntimeWarning: invalid value encountered in double_scalars\n",
      "  elif abs(e_tot-last_hf_e) < conv_tol and norm_gorb < conv_tol_grad:\n"
     ]
    },
    {
     "data": {
      "application/3dmoljs_load.v0": "<div id=\"3dmolviewer_16227632982339551\"  style=\"position: relative; width: 640px; height: 480px\">\n        <p id=\"3dmolwarning_16227632982339551\" style=\"background-color:#ffcccc;color:black\">You appear to be running in JupyterLab (or JavaScript failed to load for some other reason).  You need to install the 3dmol extension: <br>\n        <tt>jupyter labextension install jupyterlab_3dmol</tt></p>\n        </div>\n<script>\n\nvar loadScriptAsync = function(uri){\n  return new Promise((resolve, reject) => {\n    var tag = document.createElement('script');\n    tag.src = uri;\n    tag.async = true;\n    tag.onload = () => {\n      resolve();\n    };\n  var firstScriptTag = document.getElementsByTagName('script')[0];\n  firstScriptTag.parentNode.insertBefore(tag, firstScriptTag);\n});\n};\n\nif(typeof $3Dmolpromise === 'undefined') {\n$3Dmolpromise = null;\n  $3Dmolpromise = loadScriptAsync('https://3dmol.csb.pitt.edu/build/3Dmol.js');\n}\n\nvar viewer_16227632982339551 = null;\nvar warn = document.getElementById(\"3dmolwarning_16227632982339551\");\nif(warn) {\n    warn.parentNode.removeChild(warn);\n}\n$3Dmolpromise.then(function() {\nviewer_16227632982339551 = $3Dmol.createViewer($(\"#3dmolviewer_16227632982339551\"),{backgroundColor:\"white\"});\n\tviewer_16227632982339551.addModel(\"@<TRIPOS>MOLECULE\\nRES\\n75 0 1 0 1\\nSMALL\\nNO_CHARGES\\n@<TRIPOS>CRYSIN\\n   31.0811    19.7827    12.4145    90.0000    90.0000    90.0000  1  1\\n@<TRIPOS>ATOM\\n       1 C          -11.9445     5.2255    -2.4172 C             1 RES     \\n       2 C          -11.1148     6.1914    -3.0858 C             1 RES     \\n       3 C           -9.7714     5.9181    -3.2822 C             1 RES     \\n       4 C           -9.2226     4.6956    -2.9884 C             1 RES     \\n       5 C          -10.1351     3.6893    -2.6407 C             1 RES     \\n       6 C          -11.4568     3.9205    -2.1002 C             1 RES     \\n       7 C           -9.5324     2.4256    -2.4371 C             1 RES     \\n       8 C           -8.2125     2.7797    -2.4652 C             1 RES     \\n       9 C           -7.9029     4.1758    -2.5771 C             1 RES     \\n      10 O           -6.9004     4.7888    -2.8194 O             1 RES     \\n      11 C           -7.4932     1.9536    -1.9164 C             1 RES     \\n      12 C           -6.2589     1.3256    -2.4914 C             1 RES     \\n      13 S           -4.8072     2.3987    -2.4159 S             1 RES     \\n      14 C           -3.7516     1.3254    -1.5249 C             1 RES     \\n      15 C           -4.5488     0.2026    -1.3265 C             1 RES     \\n      16 C           -5.9139     0.1871    -1.7628 C             1 RES     \\n      17 C           -2.5020     1.3875    -0.8667 C             1 RES     \\n      18 S           -3.8814    -1.1372    -0.7225 S             1 RES     \\n      19 C           -2.5748     0.0675    -0.5049 C             1 RES     \\n      20 C           -1.9531     2.3354     0.2323 C             1 RES     \\n      21 C           -1.0435     1.1023     0.2447 C             1 RES     \\n      22 C           -1.4820    -0.1380     0.0911 C             1 RES     \\n      23 C            0.3914     1.1428     0.3249 C             1 RES     \\n      24 C            1.0891    -0.0552     0.5800 C             1 RES     \\n      25 C            0.5266    -1.3147     0.8988 C             1 RES     \\n      26 C           -0.9393    -1.3074     0.6093 C             1 RES     \\n      27 C            2.4129    -0.0888     0.7624 C             1 RES     \\n      28 C            1.6615    -2.2850     0.3622 C             1 RES     \\n      29 C            2.8003    -1.2813     0.4457 C             1 RES     \\n      30 S            3.6711     1.0167     0.9990 S             1 RES     \\n      31 C            4.7738    -0.2029     1.1293 C             1 RES     \\n      32 C            4.1917    -1.3892     0.8875 C             1 RES     \\n      33 S            5.2753    -2.6267     1.5056 S             1 RES     \\n      34 C            6.4694    -1.3693     1.5982 C             1 RES     \\n      35 C            6.1128    -0.1236     1.2836 C             1 RES     \\n      36 C            7.9108    -1.7137     1.8647 C             1 RES     \\n      37 C            8.5837    -2.7877     2.2424 C             1 RES     \\n      38 C            8.3078    -4.1814     2.1195 C             1 RES     \\n      39 C            9.5018    -4.8909     2.3949 C             1 RES     \\n      40 C           10.4355    -3.9253     2.6765 C             1 RES     \\n      41 C           10.0156    -2.6072     2.3787 C             1 RES     \\n      42 O            7.3267    -4.7200     2.1793 O             1 RES     \\n      43 C           11.7692    -4.3381     3.0703 C             1 RES     \\n      44 C           12.1887    -5.7098     2.7997 C             1 RES     \\n      45 C           11.1852    -6.6048     2.2408 C             1 RES     \\n      46 C            9.8513    -6.2009     2.2550 C             1 RES     \\n      47 N           13.1559    -1.5508     2.3302 N             1 RES     \\n      48 C           12.0672    -1.4809     2.4717 C             1 RES     \\n      49 N            9.6934     0.6877     3.5421 N             1 RES     \\n      50 C           10.2056    -0.3036     3.1855 C             1 RES     \\n      51 C           10.7403    -1.5392     2.7958 C             1 RES     \\n      52 N          -12.4546     0.9995    -3.0199 N             1 RES     \\n      53 C          -11.4339     1.0856    -2.5962 C             1 RES     \\n      54 N           -9.2084    -0.9334    -1.8152 N             1 RES     \\n      55 C           -9.5960     0.0867    -2.0014 C             1 RES     \\n      56 C          -10.1082     1.2759    -2.0483 C             1 RES     \\n      57 O           -6.9004     4.7888    -2.8194 O             1 RES     \\n      58 H          -12.9144     5.4531    -2.2001 H             1 RES     \\n      59 H           -9.1785     6.7542    -3.7516 H             1 RES     \\n      60 H          -11.5388     7.1570    -3.5996 H             1 RES     \\n      61 H          -11.9356     3.2021    -1.4677 H             1 RES     \\n      62 H           -7.3385     2.2070    -0.8729 H             1 RES     \\n      63 H           -6.5906    -0.7782    -1.6369 H             1 RES     \\n      64 H           -2.9070     2.8702     0.2017 H             1 RES     \\n      65 H           -1.2339     3.1407     0.4082 H             1 RES     \\n      66 H            1.0100     2.1227     0.4335 H             1 RES     \\n      67 H           -1.7006    -2.0924     0.8952 H             1 RES     \\n      68 H            1.1502    -2.8130    -0.4481 H             1 RES     \\n      69 H            2.3609    -3.0777     0.6437 H             1 RES     \\n      70 H            6.7272     0.6300     1.6600 H             1 RES     \\n      71 H            8.5185    -0.9742     1.4766 H             1 RES     \\n      72 H           12.4745    -3.5878     3.6629 H             1 RES     \\n      73 H           13.1667    -6.0534     2.9185 H             1 RES     \\n      74 H           11.4264    -7.6257     1.8409 H             1 RES     \\n      75 H            9.2335    -6.9071     1.9797 H             1 RES     \\n@<TRIPOS>BOND\\n@<TRIPOS>SUBSTRUCTURE\\n       1 RES             1 RESIDUE    0 **** ROOT      0\\n\",\"mol2\");\n\tviewer_16227632982339551.setStyle({\"stick\": {\"radius\": 0.2, \"color\": \"grey\"}, \"sphere\": {\"scale\": 0.3, \"colorscheme\": {}}});\n\tviewer_16227632982339551.zoomTo();\nviewer_16227632982339551.render();\n});\n</script>",
      "text/html": [
       "<div id=\"3dmolviewer_16227632982339551\"  style=\"position: relative; width: 640px; height: 480px\">\n",
       "        <p id=\"3dmolwarning_16227632982339551\" style=\"background-color:#ffcccc;color:black\">You appear to be running in JupyterLab (or JavaScript failed to load for some other reason).  You need to install the 3dmol extension: <br>\n",
       "        <tt>jupyter labextension install jupyterlab_3dmol</tt></p>\n",
       "        </div>\n",
       "<script>\n",
       "\n",
       "var loadScriptAsync = function(uri){\n",
       "  return new Promise((resolve, reject) => {\n",
       "    var tag = document.createElement('script');\n",
       "    tag.src = uri;\n",
       "    tag.async = true;\n",
       "    tag.onload = () => {\n",
       "      resolve();\n",
       "    };\n",
       "  var firstScriptTag = document.getElementsByTagName('script')[0];\n",
       "  firstScriptTag.parentNode.insertBefore(tag, firstScriptTag);\n",
       "});\n",
       "};\n",
       "\n",
       "if(typeof $3Dmolpromise === 'undefined') {\n",
       "$3Dmolpromise = null;\n",
       "  $3Dmolpromise = loadScriptAsync('https://3dmol.csb.pitt.edu/build/3Dmol.js');\n",
       "}\n",
       "\n",
       "var viewer_16227632982339551 = null;\n",
       "var warn = document.getElementById(\"3dmolwarning_16227632982339551\");\n",
       "if(warn) {\n",
       "    warn.parentNode.removeChild(warn);\n",
       "}\n",
       "$3Dmolpromise.then(function() {\n",
       "viewer_16227632982339551 = $3Dmol.createViewer($(\"#3dmolviewer_16227632982339551\"),{backgroundColor:\"white\"});\n",
       "\tviewer_16227632982339551.addModel(\"@<TRIPOS>MOLECULE\\nRES\\n75 0 1 0 1\\nSMALL\\nNO_CHARGES\\n@<TRIPOS>CRYSIN\\n   31.0811    19.7827    12.4145    90.0000    90.0000    90.0000  1  1\\n@<TRIPOS>ATOM\\n       1 C          -11.9445     5.2255    -2.4172 C             1 RES     \\n       2 C          -11.1148     6.1914    -3.0858 C             1 RES     \\n       3 C           -9.7714     5.9181    -3.2822 C             1 RES     \\n       4 C           -9.2226     4.6956    -2.9884 C             1 RES     \\n       5 C          -10.1351     3.6893    -2.6407 C             1 RES     \\n       6 C          -11.4568     3.9205    -2.1002 C             1 RES     \\n       7 C           -9.5324     2.4256    -2.4371 C             1 RES     \\n       8 C           -8.2125     2.7797    -2.4652 C             1 RES     \\n       9 C           -7.9029     4.1758    -2.5771 C             1 RES     \\n      10 O           -6.9004     4.7888    -2.8194 O             1 RES     \\n      11 C           -7.4932     1.9536    -1.9164 C             1 RES     \\n      12 C           -6.2589     1.3256    -2.4914 C             1 RES     \\n      13 S           -4.8072     2.3987    -2.4159 S             1 RES     \\n      14 C           -3.7516     1.3254    -1.5249 C             1 RES     \\n      15 C           -4.5488     0.2026    -1.3265 C             1 RES     \\n      16 C           -5.9139     0.1871    -1.7628 C             1 RES     \\n      17 C           -2.5020     1.3875    -0.8667 C             1 RES     \\n      18 S           -3.8814    -1.1372    -0.7225 S             1 RES     \\n      19 C           -2.5748     0.0675    -0.5049 C             1 RES     \\n      20 C           -1.9531     2.3354     0.2323 C             1 RES     \\n      21 C           -1.0435     1.1023     0.2447 C             1 RES     \\n      22 C           -1.4820    -0.1380     0.0911 C             1 RES     \\n      23 C            0.3914     1.1428     0.3249 C             1 RES     \\n      24 C            1.0891    -0.0552     0.5800 C             1 RES     \\n      25 C            0.5266    -1.3147     0.8988 C             1 RES     \\n      26 C           -0.9393    -1.3074     0.6093 C             1 RES     \\n      27 C            2.4129    -0.0888     0.7624 C             1 RES     \\n      28 C            1.6615    -2.2850     0.3622 C             1 RES     \\n      29 C            2.8003    -1.2813     0.4457 C             1 RES     \\n      30 S            3.6711     1.0167     0.9990 S             1 RES     \\n      31 C            4.7738    -0.2029     1.1293 C             1 RES     \\n      32 C            4.1917    -1.3892     0.8875 C             1 RES     \\n      33 S            5.2753    -2.6267     1.5056 S             1 RES     \\n      34 C            6.4694    -1.3693     1.5982 C             1 RES     \\n      35 C            6.1128    -0.1236     1.2836 C             1 RES     \\n      36 C            7.9108    -1.7137     1.8647 C             1 RES     \\n      37 C            8.5837    -2.7877     2.2424 C             1 RES     \\n      38 C            8.3078    -4.1814     2.1195 C             1 RES     \\n      39 C            9.5018    -4.8909     2.3949 C             1 RES     \\n      40 C           10.4355    -3.9253     2.6765 C             1 RES     \\n      41 C           10.0156    -2.6072     2.3787 C             1 RES     \\n      42 O            7.3267    -4.7200     2.1793 O             1 RES     \\n      43 C           11.7692    -4.3381     3.0703 C             1 RES     \\n      44 C           12.1887    -5.7098     2.7997 C             1 RES     \\n      45 C           11.1852    -6.6048     2.2408 C             1 RES     \\n      46 C            9.8513    -6.2009     2.2550 C             1 RES     \\n      47 N           13.1559    -1.5508     2.3302 N             1 RES     \\n      48 C           12.0672    -1.4809     2.4717 C             1 RES     \\n      49 N            9.6934     0.6877     3.5421 N             1 RES     \\n      50 C           10.2056    -0.3036     3.1855 C             1 RES     \\n      51 C           10.7403    -1.5392     2.7958 C             1 RES     \\n      52 N          -12.4546     0.9995    -3.0199 N             1 RES     \\n      53 C          -11.4339     1.0856    -2.5962 C             1 RES     \\n      54 N           -9.2084    -0.9334    -1.8152 N             1 RES     \\n      55 C           -9.5960     0.0867    -2.0014 C             1 RES     \\n      56 C          -10.1082     1.2759    -2.0483 C             1 RES     \\n      57 O           -6.9004     4.7888    -2.8194 O             1 RES     \\n      58 H          -12.9144     5.4531    -2.2001 H             1 RES     \\n      59 H           -9.1785     6.7542    -3.7516 H             1 RES     \\n      60 H          -11.5388     7.1570    -3.5996 H             1 RES     \\n      61 H          -11.9356     3.2021    -1.4677 H             1 RES     \\n      62 H           -7.3385     2.2070    -0.8729 H             1 RES     \\n      63 H           -6.5906    -0.7782    -1.6369 H             1 RES     \\n      64 H           -2.9070     2.8702     0.2017 H             1 RES     \\n      65 H           -1.2339     3.1407     0.4082 H             1 RES     \\n      66 H            1.0100     2.1227     0.4335 H             1 RES     \\n      67 H           -1.7006    -2.0924     0.8952 H             1 RES     \\n      68 H            1.1502    -2.8130    -0.4481 H             1 RES     \\n      69 H            2.3609    -3.0777     0.6437 H             1 RES     \\n      70 H            6.7272     0.6300     1.6600 H             1 RES     \\n      71 H            8.5185    -0.9742     1.4766 H             1 RES     \\n      72 H           12.4745    -3.5878     3.6629 H             1 RES     \\n      73 H           13.1667    -6.0534     2.9185 H             1 RES     \\n      74 H           11.4264    -7.6257     1.8409 H             1 RES     \\n      75 H            9.2335    -6.9071     1.9797 H             1 RES     \\n@<TRIPOS>BOND\\n@<TRIPOS>SUBSTRUCTURE\\n       1 RES             1 RESIDUE    0 **** ROOT      0\\n\",\"mol2\");\n",
       "\tviewer_16227632982339551.setStyle({\"stick\": {\"radius\": 0.2, \"color\": \"grey\"}, \"sphere\": {\"scale\": 0.3, \"colorscheme\": {}}});\n",
       "\tviewer_16227632982339551.zoomTo();\n",
       "viewer_16227632982339551.render();\n",
       "});\n",
       "</script>"
      ]
     },
     "metadata": {},
     "output_type": "display_data"
    },
    {
     "name": "stdout",
     "output_type": "stream",
     "text": [
      "[-5.30240302 -4.0925731  -3.57417916 -3.57347029]\n"
     ]
    }
   ],
   "source": [
    "g = gsd.pygsd.GSDFile(open('/Users/jimmy/cmelab/data/ITIC/4700e7da2f41cc6c77e08977f1f8d94c/trajectory.gsd', \"rb\"))\n",
    "trajectory = gsd.hoomd.HOOMDTrajectory(g)\n",
    "gsd_length= len(trajectory)\n",
    "with gsd.hoomd.open(name='/Users/jimmy/cmelab/data/ITIC/4700e7da2f41cc6c77e08977f1f8d94c/trajectory.gsd', mode='rb') as f:\n",
    "    start_snap = f[1]\n",
    "    end_snap = f[gsd_length - 1]\n",
    "    \n",
    "\n",
    "start_snap.particles.position *= ref_distance\n",
    "start_snap.configuration.box[:3] *= ref_distance\n",
    "qcc_input = eqcc.write_qcc_inp(start_snap, chromo_ids, amber_dict)\n",
    "homolumo = eqcc.get_homolumo(qcc_input)\n",
    "visualize_qcc_input(qcc_input)\n",
    "print(homolumo)"
   ]
  },
  {
   "cell_type": "code",
   "execution_count": 10,
   "id": "a226289f",
   "metadata": {},
   "outputs": [
    {
     "data": {
      "application/3dmoljs_load.v0": "<div id=\"3dmolviewer_16227626411170769\"  style=\"position: relative; width: 640px; height: 480px\">\n        <p id=\"3dmolwarning_16227626411170769\" style=\"background-color:#ffcccc;color:black\">You appear to be running in JupyterLab (or JavaScript failed to load for some other reason).  You need to install the 3dmol extension: <br>\n        <tt>jupyter labextension install jupyterlab_3dmol</tt></p>\n        </div>\n<script>\n\nvar loadScriptAsync = function(uri){\n  return new Promise((resolve, reject) => {\n    var tag = document.createElement('script');\n    tag.src = uri;\n    tag.async = true;\n    tag.onload = () => {\n      resolve();\n    };\n  var firstScriptTag = document.getElementsByTagName('script')[0];\n  firstScriptTag.parentNode.insertBefore(tag, firstScriptTag);\n});\n};\n\nif(typeof $3Dmolpromise === 'undefined') {\n$3Dmolpromise = null;\n  $3Dmolpromise = loadScriptAsync('https://3dmol.csb.pitt.edu/build/3Dmol.js');\n}\n\nvar viewer_16227626411170769 = null;\nvar warn = document.getElementById(\"3dmolwarning_16227626411170769\");\nif(warn) {\n    warn.parentNode.removeChild(warn);\n}\n$3Dmolpromise.then(function() {\nviewer_16227626411170769 = $3Dmol.createViewer($(\"#3dmolviewer_16227626411170769\"),{backgroundColor:\"white\"});\n\tviewer_16227626411170769.addModel(\"@<TRIPOS>MOLECULE\\nRES\\n66 0 1 0 1\\nSMALL\\nNO_CHARGES\\n@<TRIPOS>CRYSIN\\n   31.0811    19.7827    12.4145    90.0000    90.0000    90.0000  1  1\\n@<TRIPOS>ATOM\\n       1 C          -12.0104     5.2774    -2.4262 C             1 RES     \\n       2 C          -11.1807     6.2434    -3.0948 C             1 RES     \\n       3 C           -9.8373     5.9700    -3.2911 C             1 RES     \\n       4 C           -9.2885     4.7475    -2.9974 C             1 RES     \\n       5 C          -10.2010     3.7412    -2.6497 C             1 RES     \\n       6 C          -11.5227     3.9725    -2.1091 C             1 RES     \\n       7 C           -9.5983     2.4775    -2.4460 C             1 RES     \\n       8 C           -8.2784     2.8316    -2.4741 C             1 RES     \\n       9 C           -7.9688     4.2278    -2.5861 C             1 RES     \\n      10 C           -7.5591     2.0056    -1.9253 C             1 RES     \\n      11 C           -6.3248     1.3775    -2.5003 C             1 RES     \\n      12 S           -4.8731     2.4506    -2.4249 S             1 RES     \\n      13 C           -3.8175     1.3773    -1.5338 C             1 RES     \\n      14 C           -4.6147     0.2545    -1.3355 C             1 RES     \\n      15 C           -5.9798     0.2390    -1.7717 C             1 RES     \\n      16 C           -2.5679     1.4394    -0.8756 C             1 RES     \\n      17 S           -3.9473    -1.0853    -0.7314 S             1 RES     \\n      18 C           -2.6407     0.1194    -0.5138 C             1 RES     \\n      19 C           -2.0190     2.3873     0.2234 C             1 RES     \\n      20 C           -1.1094     1.1542     0.2357 C             1 RES     \\n      21 C           -1.5479    -0.0861     0.0821 C             1 RES     \\n      22 C            0.3255     1.1947     0.3159 C             1 RES     \\n      23 C            1.0232    -0.0033     0.5710 C             1 RES     \\n      24 C            0.4607    -1.2628     0.8899 C             1 RES     \\n      25 C           -1.0052    -1.2555     0.6004 C             1 RES     \\n      26 C            2.3470    -0.0369     0.7534 C             1 RES     \\n      27 C            1.5956    -2.2331     0.3533 C             1 RES     \\n      28 C            2.7344    -1.2294     0.4368 C             1 RES     \\n      29 S            3.6052     1.0686     0.9900 S             1 RES     \\n      30 C            4.7079    -0.1510     1.1203 C             1 RES     \\n      31 C            4.1258    -1.3373     0.8785 C             1 RES     \\n      32 S            5.2094    -2.5748     1.4967 S             1 RES     \\n      33 C            6.4035    -1.3174     1.5893 C             1 RES     \\n      34 C            6.0469    -0.0717     1.2746 C             1 RES     \\n      35 C            7.8449    -1.6618     1.8558 C             1 RES     \\n      36 C            8.5178    -2.7358     2.2335 C             1 RES     \\n      37 C            8.2419    -4.1295     2.1105 C             1 RES     \\n      38 C            9.4359    -4.8390     2.3860 C             1 RES     \\n      39 C           10.3696    -3.8734     2.6675 C             1 RES     \\n      40 C            9.9497    -2.5553     2.3698 C             1 RES     \\n      41 O            7.2608    -4.6681     2.1704 O             1 RES     \\n      42 C           11.7033    -4.2862     3.0613 C             1 RES     \\n      43 C           12.1228    -5.6579     2.7907 C             1 RES     \\n      44 C           11.1193    -6.5529     2.2318 C             1 RES     \\n      45 C            9.7854    -6.1489     2.2460 C             1 RES     \\n      46 H          -12.9803     5.5051    -2.2091 H             1 RES     \\n      47 H           -9.2444     6.8061    -3.7606 H             1 RES     \\n      48 H          -11.6047     7.2089    -3.6085 H             1 RES     \\n      49 H          -12.0015     3.2540    -1.4767 H             1 RES     \\n      50 H          -10.0673     1.5412    -2.1294 H             1 RES     \\n      51 H           -7.0547     4.7867    -2.8070 H             1 RES     \\n      52 H           -7.4044     2.2589    -0.8819 H             1 RES     \\n      53 H           -6.6565    -0.7263    -1.6459 H             1 RES     \\n      54 H           -2.9729     2.9222     0.1928 H             1 RES     \\n      55 H           -1.2998     3.1927     0.3992 H             1 RES     \\n      56 H            0.9441     2.1746     0.4245 H             1 RES     \\n      57 H           -1.7665    -2.0405     0.8863 H             1 RES     \\n      58 H            1.0843    -2.7611    -0.4570 H             1 RES     \\n      59 H            2.2950    -3.0258     0.6348 H             1 RES     \\n      60 H            6.6613     0.6819     1.6510 H             1 RES     \\n      61 H            8.4526    -0.9223     1.4677 H             1 RES     \\n      62 H           10.5343    -1.6939     2.7062 H             1 RES     \\n      63 H           12.4086    -3.5359     3.6539 H             1 RES     \\n      64 H           13.1008    -6.0015     2.9096 H             1 RES     \\n      65 H           11.3605    -7.5738     1.8320 H             1 RES     \\n      66 H            9.1676    -6.8552     1.9708 H             1 RES     \\n@<TRIPOS>BOND\\n@<TRIPOS>SUBSTRUCTURE\\n       1 RES             1 RESIDUE    0 **** ROOT      0\\n\",\"mol2\");\n\tviewer_16227626411170769.setStyle({\"stick\": {\"radius\": 0.2, \"color\": \"grey\"}, \"sphere\": {\"scale\": 0.3, \"colorscheme\": {}}});\n\tviewer_16227626411170769.zoomTo();\nviewer_16227626411170769.render();\n});\n</script>",
      "text/html": [
       "<div id=\"3dmolviewer_16227626411170769\"  style=\"position: relative; width: 640px; height: 480px\">\n",
       "        <p id=\"3dmolwarning_16227626411170769\" style=\"background-color:#ffcccc;color:black\">You appear to be running in JupyterLab (or JavaScript failed to load for some other reason).  You need to install the 3dmol extension: <br>\n",
       "        <tt>jupyter labextension install jupyterlab_3dmol</tt></p>\n",
       "        </div>\n",
       "<script>\n",
       "\n",
       "var loadScriptAsync = function(uri){\n",
       "  return new Promise((resolve, reject) => {\n",
       "    var tag = document.createElement('script');\n",
       "    tag.src = uri;\n",
       "    tag.async = true;\n",
       "    tag.onload = () => {\n",
       "      resolve();\n",
       "    };\n",
       "  var firstScriptTag = document.getElementsByTagName('script')[0];\n",
       "  firstScriptTag.parentNode.insertBefore(tag, firstScriptTag);\n",
       "});\n",
       "};\n",
       "\n",
       "if(typeof $3Dmolpromise === 'undefined') {\n",
       "$3Dmolpromise = null;\n",
       "  $3Dmolpromise = loadScriptAsync('https://3dmol.csb.pitt.edu/build/3Dmol.js');\n",
       "}\n",
       "\n",
       "var viewer_16227626411170769 = null;\n",
       "var warn = document.getElementById(\"3dmolwarning_16227626411170769\");\n",
       "if(warn) {\n",
       "    warn.parentNode.removeChild(warn);\n",
       "}\n",
       "$3Dmolpromise.then(function() {\n",
       "viewer_16227626411170769 = $3Dmol.createViewer($(\"#3dmolviewer_16227626411170769\"),{backgroundColor:\"white\"});\n",
       "\tviewer_16227626411170769.addModel(\"@<TRIPOS>MOLECULE\\nRES\\n66 0 1 0 1\\nSMALL\\nNO_CHARGES\\n@<TRIPOS>CRYSIN\\n   31.0811    19.7827    12.4145    90.0000    90.0000    90.0000  1  1\\n@<TRIPOS>ATOM\\n       1 C          -12.0104     5.2774    -2.4262 C             1 RES     \\n       2 C          -11.1807     6.2434    -3.0948 C             1 RES     \\n       3 C           -9.8373     5.9700    -3.2911 C             1 RES     \\n       4 C           -9.2885     4.7475    -2.9974 C             1 RES     \\n       5 C          -10.2010     3.7412    -2.6497 C             1 RES     \\n       6 C          -11.5227     3.9725    -2.1091 C             1 RES     \\n       7 C           -9.5983     2.4775    -2.4460 C             1 RES     \\n       8 C           -8.2784     2.8316    -2.4741 C             1 RES     \\n       9 C           -7.9688     4.2278    -2.5861 C             1 RES     \\n      10 C           -7.5591     2.0056    -1.9253 C             1 RES     \\n      11 C           -6.3248     1.3775    -2.5003 C             1 RES     \\n      12 S           -4.8731     2.4506    -2.4249 S             1 RES     \\n      13 C           -3.8175     1.3773    -1.5338 C             1 RES     \\n      14 C           -4.6147     0.2545    -1.3355 C             1 RES     \\n      15 C           -5.9798     0.2390    -1.7717 C             1 RES     \\n      16 C           -2.5679     1.4394    -0.8756 C             1 RES     \\n      17 S           -3.9473    -1.0853    -0.7314 S             1 RES     \\n      18 C           -2.6407     0.1194    -0.5138 C             1 RES     \\n      19 C           -2.0190     2.3873     0.2234 C             1 RES     \\n      20 C           -1.1094     1.1542     0.2357 C             1 RES     \\n      21 C           -1.5479    -0.0861     0.0821 C             1 RES     \\n      22 C            0.3255     1.1947     0.3159 C             1 RES     \\n      23 C            1.0232    -0.0033     0.5710 C             1 RES     \\n      24 C            0.4607    -1.2628     0.8899 C             1 RES     \\n      25 C           -1.0052    -1.2555     0.6004 C             1 RES     \\n      26 C            2.3470    -0.0369     0.7534 C             1 RES     \\n      27 C            1.5956    -2.2331     0.3533 C             1 RES     \\n      28 C            2.7344    -1.2294     0.4368 C             1 RES     \\n      29 S            3.6052     1.0686     0.9900 S             1 RES     \\n      30 C            4.7079    -0.1510     1.1203 C             1 RES     \\n      31 C            4.1258    -1.3373     0.8785 C             1 RES     \\n      32 S            5.2094    -2.5748     1.4967 S             1 RES     \\n      33 C            6.4035    -1.3174     1.5893 C             1 RES     \\n      34 C            6.0469    -0.0717     1.2746 C             1 RES     \\n      35 C            7.8449    -1.6618     1.8558 C             1 RES     \\n      36 C            8.5178    -2.7358     2.2335 C             1 RES     \\n      37 C            8.2419    -4.1295     2.1105 C             1 RES     \\n      38 C            9.4359    -4.8390     2.3860 C             1 RES     \\n      39 C           10.3696    -3.8734     2.6675 C             1 RES     \\n      40 C            9.9497    -2.5553     2.3698 C             1 RES     \\n      41 O            7.2608    -4.6681     2.1704 O             1 RES     \\n      42 C           11.7033    -4.2862     3.0613 C             1 RES     \\n      43 C           12.1228    -5.6579     2.7907 C             1 RES     \\n      44 C           11.1193    -6.5529     2.2318 C             1 RES     \\n      45 C            9.7854    -6.1489     2.2460 C             1 RES     \\n      46 H          -12.9803     5.5051    -2.2091 H             1 RES     \\n      47 H           -9.2444     6.8061    -3.7606 H             1 RES     \\n      48 H          -11.6047     7.2089    -3.6085 H             1 RES     \\n      49 H          -12.0015     3.2540    -1.4767 H             1 RES     \\n      50 H          -10.0673     1.5412    -2.1294 H             1 RES     \\n      51 H           -7.0547     4.7867    -2.8070 H             1 RES     \\n      52 H           -7.4044     2.2589    -0.8819 H             1 RES     \\n      53 H           -6.6565    -0.7263    -1.6459 H             1 RES     \\n      54 H           -2.9729     2.9222     0.1928 H             1 RES     \\n      55 H           -1.2998     3.1927     0.3992 H             1 RES     \\n      56 H            0.9441     2.1746     0.4245 H             1 RES     \\n      57 H           -1.7665    -2.0405     0.8863 H             1 RES     \\n      58 H            1.0843    -2.7611    -0.4570 H             1 RES     \\n      59 H            2.2950    -3.0258     0.6348 H             1 RES     \\n      60 H            6.6613     0.6819     1.6510 H             1 RES     \\n      61 H            8.4526    -0.9223     1.4677 H             1 RES     \\n      62 H           10.5343    -1.6939     2.7062 H             1 RES     \\n      63 H           12.4086    -3.5359     3.6539 H             1 RES     \\n      64 H           13.1008    -6.0015     2.9096 H             1 RES     \\n      65 H           11.3605    -7.5738     1.8320 H             1 RES     \\n      66 H            9.1676    -6.8552     1.9708 H             1 RES     \\n@<TRIPOS>BOND\\n@<TRIPOS>SUBSTRUCTURE\\n       1 RES             1 RESIDUE    0 **** ROOT      0\\n\",\"mol2\");\n",
       "\tviewer_16227626411170769.setStyle({\"stick\": {\"radius\": 0.2, \"color\": \"grey\"}, \"sphere\": {\"scale\": 0.3, \"colorscheme\": {}}});\n",
       "\tviewer_16227626411170769.zoomTo();\n",
       "viewer_16227626411170769.render();\n",
       "});\n",
       "</script>"
      ]
     },
     "metadata": {},
     "output_type": "display_data"
    }
   ],
   "source": [
    "visualize_qcc_input(qcc_input)"
   ]
  },
  {
   "cell_type": "markdown",
   "id": "a441b06e",
   "metadata": {},
   "source": [
    "maybe use the freud cluster modeule to see how they. snap molecule cluster is a functiomn that might return the molecule index of each particle\n"
   ]
  }
 ],
 "metadata": {
  "kernelspec": {
   "display_name": "Python 3",
   "language": "python",
   "name": "python3"
  },
  "language_info": {
   "codemirror_mode": {
    "name": "ipython",
    "version": 3
   },
   "file_extension": ".py",
   "mimetype": "text/x-python",
   "name": "python",
   "nbconvert_exporter": "python",
   "pygments_lexer": "ipython3",
   "version": "3.7.10"
  }
 },
 "nbformat": 4,
 "nbformat_minor": 5
}

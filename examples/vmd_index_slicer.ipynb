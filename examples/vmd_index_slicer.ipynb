{
 "cells": [
  {
   "cell_type": "markdown",
   "id": "e6dc9ce8",
   "metadata": {},
   "source": [
    "This notebook contains the guts for two useful helper functions: the first reads\n",
    "the output from the foo.txt produced by VWD from running logfile foo.txt\n",
    "\n",
    "the second gives you the number of atoms per molecule, given a gsd\n",
    "    - i need this so that you can zoom in on any molecule in VMD and\n",
    "    take the ids you want modulo that number and get the ids for first molecule\n",
    "    \n",
    "the use of these will make choosing and changing chromophores easier"
   ]
  },
  {
   "cell_type": "code",
   "execution_count": null,
   "id": "ba448523",
   "metadata": {},
   "outputs": [],
   "source": [
    "import numpy as np\n",
    "import re"
   ]
  },
  {
   "cell_type": "code",
   "execution_count": 2,
   "id": "4b4ca2f7-1d90-493c-96c2-9cf321025b06",
   "metadata": {},
   "outputs": [],
   "source": [
    "with open(\"/Users/jamesrushing/CMELab/data/workspace/887c520f567aa40dd310a8e1e0c0d6c4/backbone_ids.txt\", \"r\") as f:\n",
    "    index_ids = f.readlines()\n"
   ]
  },
  {
   "cell_type": "code",
   "execution_count": 3,
   "id": "71d28ab4",
   "metadata": {},
   "outputs": [
    {
     "data": {
      "text/plain": [
       "list"
      ]
     },
     "execution_count": 3,
     "metadata": {},
     "output_type": "execute_result"
    }
   ],
   "source": [
    "type(index_ids)"
   ]
  },
  {
   "cell_type": "code",
   "execution_count": 4,
   "id": "ec0f0bc8",
   "metadata": {
    "scrolled": true
   },
   "outputs": [
    {
     "name": "stdout",
     "output_type": "stream",
     "text": [
      "[69472, 69473, 69474, 69477, 69476, 69480, 69481, 69479, 69478, 69482, 69483, 69485, 69486, 69487, 69488, 69492, 69489, 69490, 69491, 69493, 69495, 69498, 69497, 69496, 69523, 69525, 69524, 69527, 69529, 69528, 69532, 69530, 69559, 69557, 69558, 69560, 69561, 69562, 69566, 69563, 69575, 69574, 69573, 69572, 69564, 69567, 69571, 69568, 69570, 69565, 69526]\n"
     ]
    }
   ],
   "source": [
    "numbers = []\n",
    "\n",
    "for line in index_ids:\n",
    "    thing = re.findall(\"\\/([0-9]+)(?=[^\\/]*$)\", line)\n",
    "    try:\n",
    "        numbers.append(int(thing[0]))\n",
    "    except:\n",
    "        pass\n",
    "    \n",
    "indeces=[]\n",
    "\n",
    "for i in numbers:\n",
    "    if i not in indeces:\n",
    "        indeces.append(i)\n",
    "        \n",
    "print(indeces)"
   ]
  },
  {
   "cell_type": "code",
   "execution_count": 5,
   "id": "698e5557",
   "metadata": {},
   "outputs": [
    {
     "data": {
      "text/plain": [
       "51"
      ]
     },
     "execution_count": 5,
     "metadata": {},
     "output_type": "execute_result"
    }
   ],
   "source": [
    "len(indeces)"
   ]
  },
  {
   "cell_type": "code",
   "execution_count": 6,
   "id": "b4130578",
   "metadata": {},
   "outputs": [
    {
     "ename": "NameError",
     "evalue": "name 'snap_molecule_indices' is not defined",
     "output_type": "error",
     "traceback": [
      "\u001b[0;31m---------------------------------------------------------------------------\u001b[0m",
      "\u001b[0;31mNameError\u001b[0m                                 Traceback (most recent call last)",
      "\u001b[0;32m<ipython-input-6-af9a92a83221>\u001b[0m in \u001b[0;36m<module>\u001b[0;34m\u001b[0m\n\u001b[0;32m----> 1\u001b[0;31m \u001b[0mgsd_mol_index\u001b[0m \u001b[0;34m=\u001b[0m \u001b[0msnap_molecule_indices\u001b[0m\u001b[0;34m(\u001b[0m\u001b[0mstart_snap\u001b[0m\u001b[0;34m)\u001b[0m\u001b[0;34m\u001b[0m\u001b[0;34m\u001b[0m\u001b[0m\n\u001b[0m\u001b[1;32m      2\u001b[0m \u001b[0mk\u001b[0m \u001b[0;34m=\u001b[0m \u001b[0mnp\u001b[0m\u001b[0;34m.\u001b[0m\u001b[0mcount_nonzero\u001b[0m\u001b[0;34m(\u001b[0m\u001b[0mgsd_mol_index\u001b[0m\u001b[0;34m==\u001b[0m\u001b[0;36m0\u001b[0m\u001b[0;34m)\u001b[0m\u001b[0;34m\u001b[0m\u001b[0;34m\u001b[0m\u001b[0m\n\u001b[1;32m      3\u001b[0m \u001b[0mprint\u001b[0m\u001b[0;34m(\u001b[0m\u001b[0mk\u001b[0m\u001b[0;34m)\u001b[0m\u001b[0;34m\u001b[0m\u001b[0;34m\u001b[0m\u001b[0m\n",
      "\u001b[0;31mNameError\u001b[0m: name 'snap_molecule_indices' is not defined"
     ]
    }
   ],
   "source": [
    "gsd_mol_index = snap_molecule_indices(start_snap)\n",
    "k = np.count_nonzero(gsd_mol_index==0)\n",
    "print(k)"
   ]
  },
  {
   "cell_type": "code",
   "execution_count": null,
   "id": "ba6f6cfe",
   "metadata": {},
   "outputs": [],
   "source": [
    "type(numbers)"
   ]
  },
  {
   "cell_type": "code",
   "execution_count": null,
   "id": "4f348db0",
   "metadata": {},
   "outputs": [],
   "source": [
    "index = re.findall(\"\", index_ids)\n",
    "    "
   ]
  },
  {
   "cell_type": "code",
   "execution_count": null,
   "id": "61617e3a",
   "metadata": {},
   "outputs": [],
   "source": [
    "print(lines)"
   ]
  },
  {
   "cell_type": "code",
   "execution_count": null,
   "id": "6ef0fa19",
   "metadata": {},
   "outputs": [],
   "source": []
  }
 ],
 "metadata": {
  "kernelspec": {
   "display_name": "Python 3",
   "language": "python",
   "name": "python3"
  },
  "language_info": {
   "codemirror_mode": {
    "name": "ipython",
    "version": 3
   },
   "file_extension": ".py",
   "mimetype": "text/x-python",
   "name": "python",
   "nbconvert_exporter": "python",
   "pygments_lexer": "ipython3",
   "version": "3.7.10"
  }
 },
 "nbformat": 4,
 "nbformat_minor": 5
}
